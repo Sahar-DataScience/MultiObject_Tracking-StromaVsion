{
  "nbformat": 4,
  "nbformat_minor": 0,
  "metadata": {
    "colab": {
      "provenance": [],
      "collapsed_sections": [
        "Ytu_B-P1C2-h",
        "DGK9xa8xC8N6",
        "ssEBiRmZwOf3",
        "3hOoh5ywwF9y",
        "ZxZ1Iy9s-C9F"
      ],
      "toc_visible": true,
      "include_colab_link": true
    },
    "kernelspec": {
      "name": "python3",
      "display_name": "Python 3"
    },
    "language_info": {
      "name": "python"
    },
    "gpuClass": "standard",
    "accelerator": "GPU"
  },
  "cells": [
    {
      "cell_type": "markdown",
      "metadata": {
        "id": "view-in-github",
        "colab_type": "text"
      },
      "source": [
        "<a href=\"https://colab.research.google.com/github/Sahar-DataScience/MultiObject_Tracking-StromaVsion/blob/main/EDA_%2B_synthetic_augmentation%2BTraining.ipynb\" target=\"_parent\"><img src=\"https://colab.research.google.com/assets/colab-badge.svg\" alt=\"Open In Colab\"/></a>"
      ]
    },
    {
      "cell_type": "markdown",
      "source": [
        "## Mount google drive and change data dir"
      ],
      "metadata": {
        "id": "l7Hgo9z5Cgty"
      }
    },
    {
      "cell_type": "code",
      "source": [
        "from google.colab import drive\n",
        "drive.mount('/content/drive')"
      ],
      "metadata": {
        "colab": {
          "base_uri": "https://localhost:8080/"
        },
        "id": "otuhEvL4Bcyb",
        "outputId": "3b864fa3-aecd-4d67-8e9b-85249816b2be"
      },
      "execution_count": null,
      "outputs": [
        {
          "output_type": "stream",
          "name": "stdout",
          "text": [
            "Drive already mounted at /content/drive; to attempt to forcibly remount, call drive.mount(\"/content/drive\", force_remount=True).\n"
          ]
        }
      ]
    },
    {
      "cell_type": "code",
      "source": [
        "import os\n",
        "os.chdir('/content/drive/MyDrive/tracking')"
      ],
      "metadata": {
        "id": "J4hDx_wu_Z7U"
      },
      "execution_count": null,
      "outputs": []
    },
    {
      "cell_type": "markdown",
      "source": [
        "## import the data set "
      ],
      "metadata": {
        "id": "Ytu_B-P1C2-h"
      }
    },
    {
      "cell_type": "code",
      "execution_count": null,
      "metadata": {
        "id": "oI7-aUG8eOla"
      },
      "outputs": [],
      "source": [
        "!wget https://github.com/Stroma-Vision/machine-learning-challenge/releases/download/v0.1/challenge.zip"
      ]
    },
    {
      "cell_type": "code",
      "source": [
        "!unzip /content/drive/MyDrive/tracking/challenge.zip -d ./data\n"
      ],
      "metadata": {
        "colab": {
          "base_uri": "https://localhost:8080/"
        },
        "id": "g80k-QwzAich",
        "outputId": "3c77ad55-6c26-4e77-ff87-7128bb791bc4"
      },
      "execution_count": null,
      "outputs": [
        {
          "output_type": "stream",
          "name": "stdout",
          "text": [
            "Archive:  /content/drive/MyDrive/tracking/challenge.zip\n",
            "   creating: ./data/challenge/\n",
            "   creating: ./data/challenge/images/\n",
            "   creating: ./data/challenge/images/test/\n",
            "  inflating: ./data/challenge/images/test/test.mp4  \n",
            "   creating: ./data/challenge/images/train/\n",
            "  inflating: ./data/challenge/images/train/train.mp4  \n",
            "   creating: ./data/challenge/images/val/\n",
            "  inflating: ./data/challenge/images/val/val.mp4  \n",
            "   creating: ./data/challenge/annotations/\n",
            "  inflating: ./data/challenge/annotations/instances_test.json  \n",
            "  inflating: ./data/challenge/annotations/instances_train.json  \n",
            "  inflating: ./data/challenge/annotations/instances_val.json  \n"
          ]
        }
      ]
    },
    {
      "cell_type": "markdown",
      "source": [
        "## extract training images from train video frames using ffmpeg \n",
        "fps = 30"
      ],
      "metadata": {
        "id": "DGK9xa8xC8N6"
      }
    },
    {
      "cell_type": "code",
      "source": [
        "!pip install ffmpeg-python"
      ],
      "metadata": {
        "colab": {
          "base_uri": "https://localhost:8080/"
        },
        "id": "TuFfBAgpOt-m",
        "outputId": "52a411b6-b6cf-4c46-bc94-7b130bc7e3f1"
      },
      "execution_count": null,
      "outputs": [
        {
          "output_type": "stream",
          "name": "stdout",
          "text": [
            "Looking in indexes: https://pypi.org/simple, https://us-python.pkg.dev/colab-wheels/public/simple/\n",
            "Collecting ffmpeg-python\n",
            "  Downloading ffmpeg_python-0.2.0-py3-none-any.whl (25 kB)\n",
            "Requirement already satisfied: future in /usr/local/lib/python3.8/dist-packages (from ffmpeg-python) (0.16.0)\n",
            "Installing collected packages: ffmpeg-python\n",
            "Successfully installed ffmpeg-python-0.2.0\n"
          ]
        }
      ]
    },
    {
      "cell_type": "code",
      "source": [
        "!ffmpeg -i ./data/challenge/images/train.mp4 -s 640x640 -vf fps=30 ./data/challenge/images/train/%04d.jpg\n"
      ],
      "metadata": {
        "id": "Ail7A7lQQK2t"
      },
      "execution_count": null,
      "outputs": []
    },
    {
      "cell_type": "code",
      "source": [
        "!ffmpeg -i ./data/challenge/images/val.mp4 -s 640x640 -vf fps=30 ./data/challenge/images/val/%04d.jpg"
      ],
      "metadata": {
        "id": "7Bz-zqMeqemC"
      },
      "execution_count": null,
      "outputs": []
    },
    {
      "cell_type": "markdown",
      "source": [
        "sanity check on image filenames and annotations"
      ],
      "metadata": {
        "id": "B04eCclyDNPU"
      }
    },
    {
      "cell_type": "code",
      "source": [
        "import glob\n",
        "from PIL import Image\n",
        "def correct_filenames(folder_path):\n",
        "  #make some changes in file names to make it start from 0000.jpg instead of 0001.jpg\n",
        "  assert folder_path.endswith('/') , 'incorrect path'\n",
        "  for file_name in glob.glob(folder_path + '/*.jpg'):\n",
        "    img = Image.open(file_name)\n",
        "    file_name = file_name.split('/')[-1]\n",
        "    file_id = int(file_name[:4])\n",
        "    new_file = folder_path + str(file_id - 1).zfill(4)+'.jpg'\n",
        "    print(new_file)\n",
        "    img.save(new_file)"
      ],
      "metadata": {
        "id": "IeHauSgge2Km"
      },
      "execution_count": null,
      "outputs": []
    },
    {
      "cell_type": "code",
      "source": [
        "folder_path = './data/challenge/images/val/'\n",
        "correct_filenames(folder_path)"
      ],
      "metadata": {
        "id": "AJ7Dxh5Rrqcp"
      },
      "execution_count": null,
      "outputs": []
    },
    {
      "cell_type": "markdown",
      "source": [
        "## install the detectron2"
      ],
      "metadata": {
        "id": "utFBXmgQDWFR"
      }
    },
    {
      "cell_type": "code",
      "source": [
        "os.getcwd()"
      ],
      "metadata": {
        "colab": {
          "base_uri": "https://localhost:8080/",
          "height": 35
        },
        "id": "V7IY11bkEyKC",
        "outputId": "214a8153-c80b-4669-c9a9-c2e764538f74"
      },
      "execution_count": null,
      "outputs": [
        {
          "output_type": "execute_result",
          "data": {
            "text/plain": [
              "'/content/drive/.shortcut-targets-by-id/16dUGpjMPZ4kPitCWlcc_D9IF8i_SwJFJ/tracking'"
            ],
            "application/vnd.google.colaboratory.intrinsic+json": {
              "type": "string"
            }
          },
          "metadata": {},
          "execution_count": 11
        }
      ]
    },
    {
      "cell_type": "markdown",
      "source": [
        "### GPU version"
      ],
      "metadata": {
        "id": "ssEBiRmZwOf3"
      }
    },
    {
      "cell_type": "code",
      "source": [
        "!pip install torch==1.10.1+cu111 torchvision==0.11.2+cu111 torchaudio==0.10.1 -f https://download.pytorch.org/whl/torch_stable.html"
      ],
      "metadata": {
        "id": "vFINriJXYHfG"
      },
      "execution_count": null,
      "outputs": []
    },
    {
      "cell_type": "code",
      "source": [
        "!python -m pip install detectron2==0.6 -f \\\n",
        "  https://dl.fbaipublicfiles.com/detectron2/wheels/cu111/torch1.10/index.html"
      ],
      "metadata": {
        "id": "mOioLkyYX9vO"
      },
      "execution_count": null,
      "outputs": []
    },
    {
      "cell_type": "markdown",
      "source": [
        "### cpu"
      ],
      "metadata": {
        "id": "3hOoh5ywwF9y"
      }
    },
    {
      "cell_type": "code",
      "source": [
        "!pip install torch==1.10.1+cpu torchvision==0.11.2+cpu torchaudio==0.10.1 -f https://download.pytorch.org/whl/cpu/torch_stable.html"
      ],
      "metadata": {
        "id": "5govE_Vtv_ld"
      },
      "execution_count": null,
      "outputs": []
    },
    {
      "cell_type": "code",
      "source": [
        "!python -m pip install detectron2==0.6 -f \\\n",
        "  https://dl.fbaipublicfiles.com/detectron2/wheels/cpu/torch1.10/index.html"
      ],
      "metadata": {
        "id": "jmZBY1eVvroe"
      },
      "execution_count": null,
      "outputs": []
    },
    {
      "cell_type": "markdown",
      "source": [
        "## remove bg module"
      ],
      "metadata": {
        "id": "ZxZ1Iy9s-C9F"
      }
    },
    {
      "cell_type": "code",
      "source": [
        "!pip install rembg"
      ],
      "metadata": {
        "id": "Lx9QD7mY96Dx",
        "colab": {
          "base_uri": "https://localhost:8080/"
        },
        "outputId": "05d99b44-0d13-4c48-80d1-11b4e487d7ba"
      },
      "execution_count": null,
      "outputs": [
        {
          "output_type": "stream",
          "name": "stdout",
          "text": [
            "Looking in indexes: https://pypi.org/simple, https://us-python.pkg.dev/colab-wheels/public/simple/\n",
            "Collecting rembg\n",
            "  Downloading rembg-2.0.30-py3-none-any.whl (13 kB)\n",
            "Collecting scipy~=1.9.3\n",
            "  Downloading scipy-1.9.3-cp38-cp38-manylinux_2_17_x86_64.manylinux2014_x86_64.whl (33.8 MB)\n",
            "\u001b[2K     \u001b[90m━━━━━━━━━━━━━━━━━━━━━━━━━━━━━━━━━━━━━━━━\u001b[0m \u001b[32m33.8/33.8 MB\u001b[0m \u001b[31m12.1 MB/s\u001b[0m eta \u001b[36m0:00:00\u001b[0m\n",
            "\u001b[?25hCollecting opencv-python-headless~=4.6.0.66\n",
            "  Downloading opencv_python_headless-4.6.0.66-cp36-abi3-manylinux_2_17_x86_64.manylinux2014_x86_64.whl (48.3 MB)\n",
            "\u001b[2K     \u001b[90m━━━━━━━━━━━━━━━━━━━━━━━━━━━━━━━━━━━━━━━━\u001b[0m \u001b[32m48.3/48.3 MB\u001b[0m \u001b[31m15.5 MB/s\u001b[0m eta \u001b[36m0:00:00\u001b[0m\n",
            "\u001b[?25hCollecting click~=8.1.3\n",
            "  Downloading click-8.1.3-py3-none-any.whl (96 kB)\n",
            "\u001b[2K     \u001b[90m━━━━━━━━━━━━━━━━━━━━━━━━━━━━━━━━━━━━━━━━\u001b[0m \u001b[32m96.6/96.6 KB\u001b[0m \u001b[31m9.0 MB/s\u001b[0m eta \u001b[36m0:00:00\u001b[0m\n",
            "\u001b[?25hRequirement already satisfied: pooch~=1.6.0 in /usr/local/lib/python3.8/dist-packages (from rembg) (1.6.0)\n",
            "Collecting pillow~=9.3.0\n",
            "  Downloading Pillow-9.3.0-cp38-cp38-manylinux_2_28_x86_64.whl (3.3 MB)\n",
            "\u001b[2K     \u001b[90m━━━━━━━━━━━━━━━━━━━━━━━━━━━━━━━━━━━━━━━━\u001b[0m \u001b[32m3.3/3.3 MB\u001b[0m \u001b[31m44.6 MB/s\u001b[0m eta \u001b[36m0:00:00\u001b[0m\n",
            "\u001b[?25hRequirement already satisfied: tqdm~=4.64.1 in /usr/local/lib/python3.8/dist-packages (from rembg) (4.64.1)\n",
            "Requirement already satisfied: aiohttp~=3.8.1 in /usr/local/lib/python3.8/dist-packages (from rembg) (3.8.3)\n",
            "Collecting imagehash~=4.3.1\n",
            "  Downloading ImageHash-4.3.1-py2.py3-none-any.whl (296 kB)\n",
            "\u001b[2K     \u001b[90m━━━━━━━━━━━━━━━━━━━━━━━━━━━━━━━━━━━━━━\u001b[0m \u001b[32m296.5/296.5 KB\u001b[0m \u001b[31m21.7 MB/s\u001b[0m eta \u001b[36m0:00:00\u001b[0m\n",
            "\u001b[?25hCollecting onnxruntime~=1.13.1\n",
            "  Downloading onnxruntime-1.13.1-cp38-cp38-manylinux_2_27_x86_64.whl (4.5 MB)\n",
            "\u001b[2K     \u001b[90m━━━━━━━━━━━━━━━━━━━━━━━━━━━━━━━━━━━━━━━━\u001b[0m \u001b[32m4.5/4.5 MB\u001b[0m \u001b[31m59.2 MB/s\u001b[0m eta \u001b[36m0:00:00\u001b[0m\n",
            "\u001b[?25hCollecting pymatting~=1.1.8\n",
            "  Downloading PyMatting-1.1.8-py3-none-any.whl (47 kB)\n",
            "\u001b[2K     \u001b[90m━━━━━━━━━━━━━━━━━━━━━━━━━━━━━━━━━━━━━━━━\u001b[0m \u001b[32m47.7/47.7 KB\u001b[0m \u001b[31m4.4 MB/s\u001b[0m eta \u001b[36m0:00:00\u001b[0m\n",
            "\u001b[?25hCollecting python-multipart~=0.0.5\n",
            "  Downloading python-multipart-0.0.5.tar.gz (32 kB)\n",
            "  Preparing metadata (setup.py) ... \u001b[?25l\u001b[?25hdone\n",
            "Collecting scikit-image~=0.19.3\n",
            "  Downloading scikit_image-0.19.3-cp38-cp38-manylinux_2_17_x86_64.manylinux2014_x86_64.whl (14.0 MB)\n",
            "\u001b[2K     \u001b[90m━━━━━━━━━━━━━━━━━━━━━━━━━━━━━━━━━━━━━━━━\u001b[0m \u001b[32m14.0/14.0 MB\u001b[0m \u001b[31m78.1 MB/s\u001b[0m eta \u001b[36m0:00:00\u001b[0m\n",
            "\u001b[?25hCollecting watchdog~=2.1.9\n",
            "  Downloading watchdog-2.1.9-py3-none-manylinux2014_x86_64.whl (78 kB)\n",
            "\u001b[2K     \u001b[90m━━━━━━━━━━━━━━━━━━━━━━━━━━━━━━━━━━━━━━━━\u001b[0m \u001b[32m78.4/78.4 KB\u001b[0m \u001b[31m8.2 MB/s\u001b[0m eta \u001b[36m0:00:00\u001b[0m\n",
            "\u001b[?25hCollecting numpy~=1.23.5\n",
            "  Downloading numpy-1.23.5-cp38-cp38-manylinux_2_17_x86_64.manylinux2014_x86_64.whl (17.1 MB)\n",
            "\u001b[2K     \u001b[90m━━━━━━━━━━━━━━━━━━━━━━━━━━━━━━━━━━━━━━━━\u001b[0m \u001b[32m17.1/17.1 MB\u001b[0m \u001b[31m57.8 MB/s\u001b[0m eta \u001b[36m0:00:00\u001b[0m\n",
            "\u001b[?25hCollecting fastapi~=0.87.0\n",
            "  Downloading fastapi-0.87.0-py3-none-any.whl (55 kB)\n",
            "\u001b[2K     \u001b[90m━━━━━━━━━━━━━━━━━━━━━━━━━━━━━━━━━━━━━━━━\u001b[0m \u001b[32m55.5/55.5 KB\u001b[0m \u001b[31m5.3 MB/s\u001b[0m eta \u001b[36m0:00:00\u001b[0m\n",
            "\u001b[?25hCollecting asyncer~=0.0.2\n",
            "  Downloading asyncer-0.0.2-py3-none-any.whl (8.3 kB)\n",
            "Collecting filetype~=1.2.0\n",
            "  Downloading filetype-1.2.0-py2.py3-none-any.whl (19 kB)\n",
            "Collecting uvicorn~=0.20.0\n",
            "  Downloading uvicorn-0.20.0-py3-none-any.whl (56 kB)\n",
            "\u001b[2K     \u001b[90m━━━━━━━━━━━━━━━━━━━━━━━━━━━━━━━━━━━━━━━━\u001b[0m \u001b[32m56.9/56.9 KB\u001b[0m \u001b[31m5.3 MB/s\u001b[0m eta \u001b[36m0:00:00\u001b[0m\n",
            "\u001b[?25hRequirement already satisfied: yarl<2.0,>=1.0 in /usr/local/lib/python3.8/dist-packages (from aiohttp~=3.8.1->rembg) (1.8.2)\n",
            "Requirement already satisfied: aiosignal>=1.1.2 in /usr/local/lib/python3.8/dist-packages (from aiohttp~=3.8.1->rembg) (1.3.1)\n",
            "Requirement already satisfied: multidict<7.0,>=4.5 in /usr/local/lib/python3.8/dist-packages (from aiohttp~=3.8.1->rembg) (6.0.4)\n",
            "Requirement already satisfied: async-timeout<5.0,>=4.0.0a3 in /usr/local/lib/python3.8/dist-packages (from aiohttp~=3.8.1->rembg) (4.0.2)\n",
            "Requirement already satisfied: charset-normalizer<3.0,>=2.0 in /usr/local/lib/python3.8/dist-packages (from aiohttp~=3.8.1->rembg) (2.1.1)\n",
            "Requirement already satisfied: frozenlist>=1.1.1 in /usr/local/lib/python3.8/dist-packages (from aiohttp~=3.8.1->rembg) (1.3.3)\n",
            "Requirement already satisfied: attrs>=17.3.0 in /usr/local/lib/python3.8/dist-packages (from aiohttp~=3.8.1->rembg) (22.2.0)\n",
            "Collecting anyio<4.0.0,>=3.4.0\n",
            "  Downloading anyio-3.6.2-py3-none-any.whl (80 kB)\n",
            "\u001b[2K     \u001b[90m━━━━━━━━━━━━━━━━━━━━━━━━━━━━━━━━━━━━━━━━\u001b[0m \u001b[32m80.6/80.6 KB\u001b[0m \u001b[31m6.4 MB/s\u001b[0m eta \u001b[36m0:00:00\u001b[0m\n",
            "\u001b[?25hCollecting starlette==0.21.0\n",
            "  Downloading starlette-0.21.0-py3-none-any.whl (64 kB)\n",
            "\u001b[2K     \u001b[90m━━━━━━━━━━━━━━━━━━━━━━━━━━━━━━━━━━━━━━━━\u001b[0m \u001b[32m64.0/64.0 KB\u001b[0m \u001b[31m7.1 MB/s\u001b[0m eta \u001b[36m0:00:00\u001b[0m\n",
            "\u001b[?25hRequirement already satisfied: pydantic!=1.7,!=1.7.1,!=1.7.2,!=1.7.3,!=1.8,!=1.8.1,<2.0.0,>=1.6.2 in /usr/local/lib/python3.8/dist-packages (from fastapi~=0.87.0->rembg) (1.10.4)\n",
            "Requirement already satisfied: typing-extensions>=3.10.0 in /usr/local/lib/python3.8/dist-packages (from starlette==0.21.0->fastapi~=0.87.0->rembg) (4.4.0)\n",
            "Requirement already satisfied: PyWavelets in /usr/local/lib/python3.8/dist-packages (from imagehash~=4.3.1->rembg) (1.4.1)\n",
            "Collecting coloredlogs\n",
            "  Downloading coloredlogs-15.0.1-py2.py3-none-any.whl (46 kB)\n",
            "\u001b[2K     \u001b[90m━━━━━━━━━━━━━━━━━━━━━━━━━━━━━━━━━━━━━━━━\u001b[0m \u001b[32m46.0/46.0 KB\u001b[0m \u001b[31m4.8 MB/s\u001b[0m eta \u001b[36m0:00:00\u001b[0m\n",
            "\u001b[?25hRequirement already satisfied: packaging in /usr/local/lib/python3.8/dist-packages (from onnxruntime~=1.13.1->rembg) (23.0)\n",
            "Requirement already satisfied: sympy in /usr/local/lib/python3.8/dist-packages (from onnxruntime~=1.13.1->rembg) (1.7.1)\n",
            "Requirement already satisfied: flatbuffers in /usr/local/lib/python3.8/dist-packages (from onnxruntime~=1.13.1->rembg) (23.1.21)\n",
            "Requirement already satisfied: protobuf in /usr/local/lib/python3.8/dist-packages (from onnxruntime~=1.13.1->rembg) (3.19.6)\n",
            "Requirement already satisfied: appdirs>=1.3.0 in /usr/local/lib/python3.8/dist-packages (from pooch~=1.6.0->rembg) (1.4.4)\n",
            "Requirement already satisfied: requests>=2.19.0 in /usr/local/lib/python3.8/dist-packages (from pooch~=1.6.0->rembg) (2.25.1)\n",
            "Requirement already satisfied: numba!=0.49.0 in /usr/local/lib/python3.8/dist-packages (from pymatting~=1.1.8->rembg) (0.56.4)\n",
            "Requirement already satisfied: six>=1.4.0 in /usr/local/lib/python3.8/dist-packages (from python-multipart~=0.0.5->rembg) (1.15.0)\n",
            "Requirement already satisfied: tifffile>=2019.7.26 in /usr/local/lib/python3.8/dist-packages (from scikit-image~=0.19.3->rembg) (2023.2.3)\n",
            "Requirement already satisfied: networkx>=2.2 in /usr/local/lib/python3.8/dist-packages (from scikit-image~=0.19.3->rembg) (3.0)\n",
            "Requirement already satisfied: imageio>=2.4.1 in /usr/local/lib/python3.8/dist-packages (from scikit-image~=0.19.3->rembg) (2.9.0)\n",
            "Collecting h11>=0.8\n",
            "  Downloading h11-0.14.0-py3-none-any.whl (58 kB)\n",
            "\u001b[2K     \u001b[90m━━━━━━━━━━━━━━━━━━━━━━━━━━━━━━━━━━━━━━━━\u001b[0m \u001b[32m58.3/58.3 KB\u001b[0m \u001b[31m6.3 MB/s\u001b[0m eta \u001b[36m0:00:00\u001b[0m\n",
            "\u001b[?25hCollecting sniffio>=1.1\n",
            "  Downloading sniffio-1.3.0-py3-none-any.whl (10 kB)\n",
            "Requirement already satisfied: idna>=2.8 in /usr/local/lib/python3.8/dist-packages (from anyio<4.0.0,>=3.4.0->asyncer~=0.0.2->rembg) (2.10)\n",
            "Requirement already satisfied: llvmlite<0.40,>=0.39.0dev0 in /usr/local/lib/python3.8/dist-packages (from numba!=0.49.0->pymatting~=1.1.8->rembg) (0.39.1)\n",
            "Requirement already satisfied: setuptools in /usr/local/lib/python3.8/dist-packages (from numba!=0.49.0->pymatting~=1.1.8->rembg) (57.4.0)\n",
            "Requirement already satisfied: importlib-metadata in /usr/local/lib/python3.8/dist-packages (from numba!=0.49.0->pymatting~=1.1.8->rembg) (6.0.0)\n",
            "Requirement already satisfied: certifi>=2017.4.17 in /usr/local/lib/python3.8/dist-packages (from requests>=2.19.0->pooch~=1.6.0->rembg) (2022.12.7)\n",
            "Requirement already satisfied: urllib3<1.27,>=1.21.1 in /usr/local/lib/python3.8/dist-packages (from requests>=2.19.0->pooch~=1.6.0->rembg) (1.24.3)\n",
            "Requirement already satisfied: chardet<5,>=3.0.2 in /usr/local/lib/python3.8/dist-packages (from requests>=2.19.0->pooch~=1.6.0->rembg) (4.0.0)\n",
            "Collecting humanfriendly>=9.1\n",
            "  Downloading humanfriendly-10.0-py2.py3-none-any.whl (86 kB)\n",
            "\u001b[2K     \u001b[90m━━━━━━━━━━━━━━━━━━━━━━━━━━━━━━━━━━━━━━━━\u001b[0m \u001b[32m86.8/86.8 KB\u001b[0m \u001b[31m8.4 MB/s\u001b[0m eta \u001b[36m0:00:00\u001b[0m\n",
            "\u001b[?25hRequirement already satisfied: mpmath>=0.19 in /usr/local/lib/python3.8/dist-packages (from sympy->onnxruntime~=1.13.1->rembg) (1.2.1)\n",
            "Requirement already satisfied: zipp>=0.5 in /usr/local/lib/python3.8/dist-packages (from importlib-metadata->numba!=0.49.0->pymatting~=1.1.8->rembg) (3.12.1)\n",
            "Building wheels for collected packages: python-multipart\n",
            "  Building wheel for python-multipart (setup.py) ... \u001b[?25l\u001b[?25hdone\n",
            "  Created wheel for python-multipart: filename=python_multipart-0.0.5-py3-none-any.whl size=31678 sha256=68b22a8e11532ba6206712af601ad86c870ca9db88cf980ce69527a98ac305e4\n",
            "  Stored in directory: /root/.cache/pip/wheels/9e/fc/1c/cf980e6413d3ee8e70cd8f39e2366b0f487e3e221aeb452eb0\n",
            "Successfully built python-multipart\n",
            "Installing collected packages: filetype, watchdog, sniffio, python-multipart, pillow, numpy, humanfriendly, h11, click, uvicorn, scipy, opencv-python-headless, coloredlogs, anyio, starlette, scikit-image, pymatting, onnxruntime, imagehash, asyncer, fastapi, rembg\n",
            "  Attempting uninstall: pillow\n",
            "    Found existing installation: Pillow 7.1.2\n",
            "    Uninstalling Pillow-7.1.2:\n",
            "      Successfully uninstalled Pillow-7.1.2\n",
            "  Attempting uninstall: numpy\n",
            "    Found existing installation: numpy 1.21.6\n",
            "    Uninstalling numpy-1.21.6:\n",
            "      Successfully uninstalled numpy-1.21.6\n",
            "  Attempting uninstall: click\n",
            "    Found existing installation: click 7.1.2\n",
            "    Uninstalling click-7.1.2:\n",
            "      Successfully uninstalled click-7.1.2\n",
            "  Attempting uninstall: scipy\n",
            "    Found existing installation: scipy 1.7.3\n",
            "    Uninstalling scipy-1.7.3:\n",
            "      Successfully uninstalled scipy-1.7.3\n",
            "  Attempting uninstall: opencv-python-headless\n",
            "    Found existing installation: opencv-python-headless 4.7.0.68\n",
            "    Uninstalling opencv-python-headless-4.7.0.68:\n",
            "      Successfully uninstalled opencv-python-headless-4.7.0.68\n",
            "  Attempting uninstall: scikit-image\n",
            "    Found existing installation: scikit-image 0.18.3\n",
            "    Uninstalling scikit-image-0.18.3:\n",
            "      Successfully uninstalled scikit-image-0.18.3\n",
            "\u001b[31mERROR: pip's dependency resolver does not currently take into account all the packages that are installed. This behaviour is the source of the following dependency conflicts.\n",
            "torchtext 0.14.1 requires torch==1.13.1, but you have torch 1.10.1+cpu which is incompatible.\n",
            "flask 1.1.4 requires click<8.0,>=5.1, but you have click 8.1.3 which is incompatible.\u001b[0m\u001b[31m\n",
            "\u001b[0mSuccessfully installed anyio-3.6.2 asyncer-0.0.2 click-8.1.3 coloredlogs-15.0.1 fastapi-0.87.0 filetype-1.2.0 h11-0.14.0 humanfriendly-10.0 imagehash-4.3.1 numpy-1.23.5 onnxruntime-1.13.1 opencv-python-headless-4.6.0.66 pillow-9.3.0 pymatting-1.1.8 python-multipart-0.0.5 rembg-2.0.30 scikit-image-0.19.3 scipy-1.9.3 sniffio-1.3.0 starlette-0.21.0 uvicorn-0.20.0 watchdog-2.1.9\n"
          ]
        }
      ]
    },
    {
      "cell_type": "markdown",
      "source": [
        "## import dependencies "
      ],
      "metadata": {
        "id": "ciubLP58Pdef"
      }
    },
    {
      "cell_type": "code",
      "source": [
        "import torch, detectron2\n",
        "!nvcc --version\n",
        "TORCH_VERSION = \".\".join(torch.__version__.split(\".\")[:2])\n",
        "CUDA_VERSION = torch.__version__.split(\"+\")[-1]\n",
        "print(\"torch: \", TORCH_VERSION, \"; cuda: \", CUDA_VERSION)\n",
        "print(\"detectron2:\", detectron2.__version__)"
      ],
      "metadata": {
        "colab": {
          "base_uri": "https://localhost:8080/"
        },
        "id": "B3di35DNCP0X",
        "outputId": "183c6437-3933-471b-a4bc-d7ef6819f631"
      },
      "execution_count": null,
      "outputs": [
        {
          "output_type": "stream",
          "name": "stdout",
          "text": [
            "nvcc: NVIDIA (R) Cuda compiler driver\n",
            "Copyright (c) 2005-2022 NVIDIA Corporation\n",
            "Built on Tue_Mar__8_18:18:20_PST_2022\n",
            "Cuda compilation tools, release 11.6, V11.6.124\n",
            "Build cuda_11.6.r11.6/compiler.31057947_0\n",
            "torch:  1.10 ; cuda:  cu111\n",
            "detectron2: 0.6\n"
          ]
        }
      ]
    },
    {
      "cell_type": "code",
      "source": [
        "from detectron2.config import get_cfg\n",
        "from detectron2.utils.visualizer import Visualizer \n",
        "from detectron2.utils.colormap import random_color\n",
        "\n",
        "from detectron2.data import MetadataCatalog, DatasetCatalog\n",
        "from detectron2.data.datasets import register_coco_instances\n",
        "from detectron2.data.build import print_instances_class_histogram"
      ],
      "metadata": {
        "id": "X7-G6bTefMJH"
      },
      "execution_count": null,
      "outputs": []
    },
    {
      "cell_type": "code",
      "source": [
        "from detectron2 import model_zoo\n",
        "from detectron2.config import get_cfg\n",
        "from detectron2.engine import DefaultTrainer"
      ],
      "metadata": {
        "id": "xLmJJwzYeVik"
      },
      "execution_count": null,
      "outputs": []
    },
    {
      "cell_type": "code",
      "source": [
        "import numpy as np\n",
        "import matplotlib.pyplot as plt\n",
        "from google.colab.patches import cv2_imshow\n",
        "import  json, cv2, random\n",
        "import glob\n",
        "from PIL import Image"
      ],
      "metadata": {
        "id": "HihNqmWqeEL0"
      },
      "execution_count": null,
      "outputs": []
    },
    {
      "cell_type": "code",
      "source": [
        "import warnings\n",
        "warnings.filterwarnings(\"ignore\")"
      ],
      "metadata": {
        "id": "EqA5l2T9uK8J"
      },
      "execution_count": null,
      "outputs": []
    },
    {
      "cell_type": "markdown",
      "source": [
        "# EDA"
      ],
      "metadata": {
        "id": "SFiG_ofdy9Tv"
      }
    },
    {
      "cell_type": "markdown",
      "source": [
        "## register datasets"
      ],
      "metadata": {
        "id": "U0Uj-cWKzGdV"
      }
    },
    {
      "cell_type": "markdown",
      "source": [
        "###Trainset"
      ],
      "metadata": {
        "id": "UAlwk9Sku5NN"
      }
    },
    {
      "cell_type": "code",
      "source": [
        "register_coco_instances(\"train_data\", {}, \n",
        "                        \"./data/challenge/annotations/instances_train.json\",\n",
        "                        \"./data/challenge/images/train/\")"
      ],
      "metadata": {
        "id": "5YsoYzriKOHa"
      },
      "execution_count": null,
      "outputs": []
    },
    {
      "cell_type": "code",
      "source": [
        "#DatasetCatalog.clear()"
      ],
      "metadata": {
        "id": "3qL12RNBRYeQ"
      },
      "execution_count": null,
      "outputs": []
    },
    {
      "cell_type": "code",
      "source": [
        "train_metadata = MetadataCatalog.get(\"train_data\")\n",
        "print(train_metadata)"
      ],
      "metadata": {
        "colab": {
          "base_uri": "https://localhost:8080/"
        },
        "id": "-vRatCucKj6P",
        "outputId": "05263451-3d34-46ab-902a-4cd51bbb1d22"
      },
      "execution_count": null,
      "outputs": [
        {
          "output_type": "stream",
          "name": "stdout",
          "text": [
            "Metadata(evaluator_type='coco', image_root='./data/challenge/images/train/', json_file='./data/challenge/annotations/instances_train.json', name='train_data')\n"
          ]
        }
      ]
    },
    {
      "cell_type": "code",
      "source": [
        "dataset_dicts = DatasetCatalog.get(\"train_data\")\n",
        "#print(dataset_dicts)"
      ],
      "metadata": {
        "id": "CHA6EZ_rS4fV"
      },
      "execution_count": null,
      "outputs": []
    },
    {
      "cell_type": "markdown",
      "source": [
        "###Valset"
      ],
      "metadata": {
        "id": "ZMWZInOFu8yD"
      }
    },
    {
      "cell_type": "code",
      "source": [
        "register_coco_instances(\"val_data\", {}, \n",
        "                        \"./data/challenge/annotations/instances_val.json\",\n",
        "                        \"./data/challenge/images/val/\")"
      ],
      "metadata": {
        "id": "JKCUlZgVuf2J"
      },
      "execution_count": null,
      "outputs": []
    },
    {
      "cell_type": "code",
      "source": [
        "val_metadata = MetadataCatalog.get(\"val_data\")\n",
        "print(val_metadata)"
      ],
      "metadata": {
        "colab": {
          "base_uri": "https://localhost:8080/"
        },
        "id": "IAsLyXMbusKb",
        "outputId": "a57319d2-a1a8-4e3c-d316-f69c336aba6b"
      },
      "execution_count": null,
      "outputs": [
        {
          "output_type": "stream",
          "name": "stdout",
          "text": [
            "Metadata(evaluator_type='coco', image_root='./data/challenge/images/val/', json_file='./data/challenge/annotations/instances_val.json', name='val_data')\n"
          ]
        }
      ]
    },
    {
      "cell_type": "code",
      "source": [
        "val_dict = DatasetCatalog.get(\"val_data\")"
      ],
      "metadata": {
        "id": "yqXO3GLEu0Ti"
      },
      "execution_count": null,
      "outputs": []
    },
    {
      "cell_type": "markdown",
      "source": [
        "### sanity check "
      ],
      "metadata": {
        "id": "nIjL1r3hgw6q"
      }
    },
    {
      "cell_type": "code",
      "source": [
        "len(dataset_dicts)"
      ],
      "metadata": {
        "colab": {
          "base_uri": "https://localhost:8080/"
        },
        "id": "S8qTZ5FAK08p",
        "outputId": "7fc8487f-f5aa-40c2-8126-40f1f5d3c5b6"
      },
      "execution_count": null,
      "outputs": [
        {
          "output_type": "execute_result",
          "data": {
            "text/plain": [
              "7200"
            ]
          },
          "metadata": {},
          "execution_count": 11
        }
      ]
    },
    {
      "cell_type": "code",
      "source": [
        "dataset_dicts[0] "
      ],
      "metadata": {
        "colab": {
          "base_uri": "https://localhost:8080/"
        },
        "id": "kaPBI7_WfwbT",
        "outputId": "ce6c3ebf-841b-4dd8-c16d-0d4caa3959f9"
      },
      "execution_count": null,
      "outputs": [
        {
          "output_type": "execute_result",
          "data": {
            "text/plain": [
              "{'file_name': './data/challenge/images/train/0000.jpg',\n",
              " 'height': 640,\n",
              " 'width': 640,\n",
              " 'image_id': 1,\n",
              " 'annotations': []}"
            ]
          },
          "metadata": {},
          "execution_count": 12
        }
      ]
    },
    {
      "cell_type": "code",
      "source": [
        "dataset_dicts[105]"
      ],
      "metadata": {
        "colab": {
          "base_uri": "https://localhost:8080/"
        },
        "id": "l8N_erEGf2gD",
        "outputId": "ef28b526-dfdf-4c5c-8d3c-0f60d301c35b"
      },
      "execution_count": null,
      "outputs": [
        {
          "output_type": "execute_result",
          "data": {
            "text/plain": [
              "{'file_name': './data/challenge/images/train/0105.jpg',\n",
              " 'height': 640,\n",
              " 'width': 640,\n",
              " 'image_id': 106,\n",
              " 'annotations': []}"
            ]
          },
          "metadata": {},
          "execution_count": 13
        }
      ]
    },
    {
      "cell_type": "markdown",
      "source": [
        "***there are some images with no presented instances, let's extract all their paths***"
      ],
      "metadata": {
        "id": "EktdxUe7_XGo"
      }
    },
    {
      "cell_type": "code",
      "source": [
        "basket = []\n",
        "for i in range(7200):\n",
        "  if dataset_dicts[i]['annotations'] == []:\n",
        "    print(dataset_dicts[i]['file_name'])\n",
        "    basket.append({'iter' : i , 'img_path': dataset_dicts[i]['file_name']})\n",
        "print(f\"number of images with no instances is {len(basket)}\") # there are 105 images with no instance"
      ],
      "metadata": {
        "id": "cWsOdcIFgwR6"
      },
      "execution_count": null,
      "outputs": []
    },
    {
      "cell_type": "markdown",
      "source": [
        "***there are 357 images with no instances. so we stored the rank and the filename path of each zero-instance image***"
      ],
      "metadata": {
        "id": "hkTsJgpR_syT"
      }
    },
    {
      "cell_type": "code",
      "source": [
        "print(basket[150])\n",
        "dataset_dicts[basket[150]['iter']] #in this way we garantee  having access to this images in the data dictionary"
      ],
      "metadata": {
        "colab": {
          "base_uri": "https://localhost:8080/"
        },
        "id": "GvPWu0LqqzdH",
        "outputId": "52b9413b-a861-4eb1-f9ab-ebf569c5d5d2"
      },
      "execution_count": null,
      "outputs": [
        {
          "output_type": "stream",
          "name": "stdout",
          "text": [
            "{'iter': 1702, 'img_path': './data/challenge/images/train/1702.jpg'}\n"
          ]
        },
        {
          "output_type": "execute_result",
          "data": {
            "text/plain": [
              "{'file_name': './data/challenge/images/train/1702.jpg',\n",
              " 'height': 640,\n",
              " 'width': 640,\n",
              " 'image_id': 1703,\n",
              " 'annotations': []}"
            ]
          },
          "metadata": {},
          "execution_count": 15
        }
      ]
    },
    {
      "cell_type": "markdown",
      "source": [
        "***extract dict of only annotaed images***"
      ],
      "metadata": {
        "id": "OkCNUYuBz-a8"
      }
    },
    {
      "cell_type": "code",
      "source": [
        "only_instances_dict = detectron2.data.get_detection_dataset_dicts(\"train_data\", filter_empty=True, min_keypoints=0, proposal_files=None)\n",
        "len(only_instances_dict)"
      ],
      "metadata": {
        "colab": {
          "base_uri": "https://localhost:8080/"
        },
        "id": "4d3TK6Dpy1z8",
        "outputId": "7cec4a2f-8642-47d9-f0c2-e40b4004d234"
      },
      "execution_count": null,
      "outputs": [
        {
          "output_type": "execute_result",
          "data": {
            "text/plain": [
              "6843"
            ]
          },
          "metadata": {},
          "execution_count": 18
        }
      ]
    },
    {
      "cell_type": "markdown",
      "source": [
        "## check existing classes"
      ],
      "metadata": {
        "id": "GCEfS4ATzOPk"
      }
    },
    {
      "cell_type": "code",
      "source": [
        "train_metadata.thing_classes"
      ],
      "metadata": {
        "colab": {
          "base_uri": "https://localhost:8080/"
        },
        "id": "NCLdjdenLgGT",
        "outputId": "c483ffc8-f2b6-493c-885d-b75d0b28b669"
      },
      "execution_count": null,
      "outputs": [
        {
          "output_type": "execute_result",
          "data": {
            "text/plain": [
              "['bolt', 'nut']"
            ]
          },
          "metadata": {},
          "execution_count": 16
        }
      ]
    },
    {
      "cell_type": "code",
      "source": [
        "detectron2.data.print_instances_class_histogram(dataset_dicts, train_metadata.thing_classes)"
      ],
      "metadata": {
        "id": "w7K6gReSUCrH"
      },
      "execution_count": null,
      "outputs": []
    },
    {
      "cell_type": "markdown",
      "source": [
        "## Histogram of the two classes"
      ],
      "metadata": {
        "id": "RljhcRCeVMJe"
      }
    },
    {
      "cell_type": "markdown",
      "source": [
        "### Histogram Calculation"
      ],
      "metadata": {
        "id": "HBy3wTAOAoVR"
      }
    },
    {
      "cell_type": "code",
      "source": [
        "#class_names = train_metadata.thing_classes\n",
        "def show_histogram(class_names, dataset_dicts):\n",
        "  num_classes = len(class_names)\n",
        "  hist_bins = np.arange(num_classes + 1)\n",
        "  histogram = np.zeros((num_classes,), dtype=np.int)\n",
        "  for entry in dataset_dicts:\n",
        "      annos = entry[\"annotations\"]\n",
        "      classes = np.asarray(\n",
        "          [x[\"category_id\"] for x in annos if not x.get(\"iscrowd\", 0)], dtype=np.int\n",
        "      )\n",
        "      if len(classes):\n",
        "          assert classes.min() >= 0, f\"Got an invalid category_id={classes.min()}\"\n",
        "          assert (\n",
        "              classes.max() < num_classes\n",
        "          ), f\"Got an invalid category_id={classes.max()} for a dataset of {num_classes} classes\"\n",
        "      histogram += np.histogram(classes, bins=hist_bins)[0]\n",
        "  plt.figure(figsize=[10, 5])\n",
        "  plt.bar(hist_bins[:-1], histogram, width=0.5, color='blue')\n",
        "  for index,value in enumerate(histogram):\n",
        "    plt.text(x=int(index) , y =value,s=f\"{value}\",fontdict=dict(fontsize=11),ha='left', va='bottom')\n",
        "\n",
        "  plt.xlim(min(hist_bins), max(hist_bins))\n",
        "  plt.xticks([0,1], class_names, rotation =0)\n",
        "  plt.grid(axis='y', alpha=0.75)\n",
        "  plt.xlabel('classes', fontsize=15)\n",
        "  plt.ylabel('count', fontsize=15)\n",
        "  plt.title('Histogram of instances across categories', fontsize=15)"
      ],
      "metadata": {
        "id": "lNZFw-56dUXl"
      },
      "execution_count": null,
      "outputs": []
    },
    {
      "cell_type": "code",
      "source": [
        "histogram"
      ],
      "metadata": {
        "colab": {
          "base_uri": "https://localhost:8080/"
        },
        "id": "rSCYPWX0hYq6",
        "outputId": "b8d4969f-f40f-458a-e2d1-6b8359ce647e"
      },
      "execution_count": null,
      "outputs": [
        {
          "output_type": "execute_result",
          "data": {
            "text/plain": [
              "array([14787,  3616])"
            ]
          },
          "metadata": {},
          "execution_count": 19
        }
      ]
    },
    {
      "cell_type": "markdown",
      "source": [
        "### vizualise the number of instances in each class"
      ],
      "metadata": {
        "id": "8ec4CAp1VUOQ"
      }
    },
    {
      "cell_type": "code",
      "source": [
        "plt.figure(figsize=[10, 5])\n",
        "plt.bar(hist_bins[:-1], histogram, width=0.5, color='blue')\n",
        "for index,value in enumerate(histogram):\n",
        "  plt.text(x=int(index) , y =value,s=f\"{value}\",fontdict=dict(fontsize=11),ha='left', va='bottom')\n",
        "\n",
        "plt.xlim(min(hist_bins), max(hist_bins))\n",
        "plt.xticks([0,1], class_names, rotation =0)\n",
        "plt.grid(axis='y', alpha=0.75)\n",
        "plt.xlabel('classes', fontsize=15)\n",
        "plt.ylabel('count', fontsize=15)\n",
        "plt.title('Histogram of instances across categories', fontsize=15)\n",
        "\n",
        "\n",
        "# Display the chart\n",
        "plt.show()"
      ],
      "metadata": {
        "colab": {
          "base_uri": "https://localhost:8080/",
          "height": 357
        },
        "id": "J5zBGEXVeYa0",
        "outputId": "79bee055-f1e8-4c5b-9820-f286a7d4fa66"
      },
      "execution_count": null,
      "outputs": [
        {
          "output_type": "display_data",
          "data": {
            "text/plain": [
              "<Figure size 720x360 with 1 Axes>"
            ],
            "image/png": "[encoded data removed]"
          },
          "metadata": {
            "needs_background": "light"
          }
        }
      ]
    },
    {
      "cell_type": "markdown",
      "source": [
        "***the classes are imbalanced***"
      ],
      "metadata": {
        "id": "BlKHMgRSVlDW"
      }
    },
    {
      "cell_type": "code",
      "source": [
        "class_names = val_metadata.thing_classes\n",
        "show_histogram(class_names, val_dict)"
      ],
      "metadata": {
        "colab": {
          "base_uri": "https://localhost:8080/",
          "height": 481
        },
        "id": "UtYibelkxGw8",
        "outputId": "f194be48-61cf-47b2-de1d-33de275c228e"
      },
      "execution_count": null,
      "outputs": [
        {
          "output_type": "stream",
          "name": "stderr",
          "text": [
            "<ipython-input-18-15ea1fc3d2be>:5: DeprecationWarning: `np.int` is a deprecated alias for the builtin `int`. To silence this warning, use `int` by itself. Doing this will not modify any behavior and is safe. When replacing `np.int`, you may wish to use e.g. `np.int64` or `np.int32` to specify the precision. If you wish to review your current use, check the release note link for additional information.\n",
            "Deprecated in NumPy 1.20; for more details and guidance: https://numpy.org/devdocs/release/1.20.0-notes.html#deprecations\n",
            "  histogram = np.zeros((num_classes,), dtype=np.int)\n",
            "<ipython-input-18-15ea1fc3d2be>:9: DeprecationWarning: `np.int` is a deprecated alias for the builtin `int`. To silence this warning, use `int` by itself. Doing this will not modify any behavior and is safe. When replacing `np.int`, you may wish to use e.g. `np.int64` or `np.int32` to specify the precision. If you wish to review your current use, check the release note link for additional information.\n",
            "Deprecated in NumPy 1.20; for more details and guidance: https://numpy.org/devdocs/release/1.20.0-notes.html#deprecations\n",
            "  [x[\"category_id\"] for x in annos if not x.get(\"iscrowd\", 0)], dtype=np.int\n"
          ]
        },
        {
          "output_type": "display_data",
          "data": {
            "text/plain": [
              "<Figure size 720x360 with 1 Axes>"
            ],
            "image/png": "[encoded data removed]"
          },
          "metadata": {
            "needs_background": "light"
          }
        }
      ]
    },
    {
      "cell_type": "markdown",
      "source": [
        "## Vizualise ground truth "
      ],
      "metadata": {
        "id": "r7geyBKKV-Zv"
      }
    },
    {
      "cell_type": "code",
      "source": [
        "dataset_dicts[750]"
      ],
      "metadata": {
        "colab": {
          "base_uri": "https://localhost:8080/"
        },
        "id": "PD3NZKbgmp-q",
        "outputId": "c7a2a530-952f-4fb4-cb78-d4aac0f34e97"
      },
      "execution_count": null,
      "outputs": [
        {
          "output_type": "execute_result",
          "data": {
            "text/plain": [
              "{'file_name': './data/challenge/images/train/0750.jpg',\n",
              " 'height': 640,\n",
              " 'width': 640,\n",
              " 'image_id': 751,\n",
              " 'annotations': [{'iscrowd': 0,\n",
              "   'bbox': [539.0, 96.0, 30.0, 94.0],\n",
              "   'category_id': 0,\n",
              "   'bbox_mode': <BoxMode.XYWH_ABS: 1>},\n",
              "  {'iscrowd': 0,\n",
              "   'bbox': [225.0, 30.0, 35.0, 56.0],\n",
              "   'category_id': 0,\n",
              "   'bbox_mode': <BoxMode.XYWH_ABS: 1>},\n",
              "  {'iscrowd': 0,\n",
              "   'bbox': [92.0, 137.0, 39.0, 40.0],\n",
              "   'category_id': 1,\n",
              "   'bbox_mode': <BoxMode.XYWH_ABS: 1>}]}"
            ]
          },
          "metadata": {},
          "execution_count": 21
        }
      ]
    },
    {
      "cell_type": "code",
      "source": [
        "with open(\"./data/challenge/annotations/instances_train.json\",\"r\") as f:\n",
        "  json_train = json.load(f)"
      ],
      "metadata": {
        "id": "L2jP0HFFWX9n"
      },
      "execution_count": null,
      "outputs": []
    },
    {
      "cell_type": "code",
      "source": [
        "len(json_train)"
      ],
      "metadata": {
        "colab": {
          "base_uri": "https://localhost:8080/"
        },
        "id": "RVfxQkkDWr9e",
        "outputId": "e2ed8496-e977-4bcb-9631-f775dd05623e"
      },
      "execution_count": null,
      "outputs": [
        {
          "output_type": "execute_result",
          "data": {
            "text/plain": [
              "5"
            ]
          },
          "metadata": {},
          "execution_count": 23
        }
      ]
    },
    {
      "cell_type": "code",
      "source": [
        "json_train.keys()"
      ],
      "metadata": {
        "colab": {
          "base_uri": "https://localhost:8080/"
        },
        "id": "jid6aWHuWxe3",
        "outputId": "c2eda53c-146c-4ff5-92e8-aa7646b6f547"
      },
      "execution_count": null,
      "outputs": [
        {
          "output_type": "execute_result",
          "data": {
            "text/plain": [
              "dict_keys(['info', 'licenses', 'images', 'annotations', 'categories'])"
            ]
          },
          "metadata": {},
          "execution_count": 24
        }
      ]
    },
    {
      "cell_type": "code",
      "source": [
        "len(json_train['images'])"
      ],
      "metadata": {
        "colab": {
          "base_uri": "https://localhost:8080/"
        },
        "id": "ViKgkggVW3re",
        "outputId": "093a7e2e-61b5-4bd9-e006-8b57cddd8b10"
      },
      "execution_count": null,
      "outputs": [
        {
          "output_type": "execute_result",
          "data": {
            "text/plain": [
              "7200"
            ]
          },
          "metadata": {},
          "execution_count": 25
        }
      ]
    },
    {
      "cell_type": "code",
      "source": [
        "print(f\"number of total existing instances is {len(json_train['annotations'])}\")\n",
        "json_train['annotations'][0] # annotations exists starting from frame 107 in which objects starts to be shown"
      ],
      "metadata": {
        "colab": {
          "base_uri": "https://localhost:8080/"
        },
        "id": "NuGF4QJLW9AG",
        "outputId": "8ded7de5-9df7-4d60-e5c3-a1a2fadb0940"
      },
      "execution_count": null,
      "outputs": [
        {
          "output_type": "stream",
          "name": "stdout",
          "text": [
            "number of total existing instances is 18403\n"
          ]
        },
        {
          "output_type": "execute_result",
          "data": {
            "text/plain": [
              "{'image_id': 107,\n",
              " 'category_id': 1,\n",
              " 'segmentation': [],\n",
              " 'bbox': [513.0, 0.0, 91.0, 28.0],\n",
              " 'area': 2548.0,\n",
              " 'iscrowd': 0,\n",
              " 'id': 0,\n",
              " 'track_id': 1}"
            ]
          },
          "metadata": {},
          "execution_count": 26
        }
      ]
    },
    {
      "cell_type": "code",
      "source": [
        "for d in random.sample(dataset_dicts, 3):\n",
        "    img = cv2.imread(d[\"file_name\"])\n",
        "    visualizer = Visualizer(img[:, :, ::-1], metadata=train_metadata, scale=0.5)\n",
        "    out = visualizer.draw_dataset_dict(d)\n",
        "    cv2_imshow(out.get_image()[:, :, ::-1])\n",
        "    #plt.figure(figsize=(8,8))\n",
        "    #plt.imshow(out.get_image()[:, :, ::-1])"
      ],
      "metadata": {
        "colab": {
          "base_uri": "https://localhost:8080/",
          "height": 977
        },
        "id": "8v1Sy_dwPKWD",
        "outputId": "32515d98-27f7-4d62-f3ca-9dbe1ff4eae1"
      },
      "execution_count": null,
      "outputs": [
        {
          "output_type": "display_data",
          "data": {
            "text/plain": [
              "<PIL.Image.Image image mode=RGB size=320x320>"
            ],
            "image/png": "[encoded data removed]"
          },
          "metadata": {}
        },
        {
          "output_type": "display_data",
          "data": {
            "text/plain": [
              "<PIL.Image.Image image mode=RGB size=320x320>"
            ],
            "image/png": "[encoded data removed]"
          },
          "metadata": {}
        },
        {
          "output_type": "display_data",
          "data": {
            "text/plain": [
              "<PIL.Image.Image image mode=RGB size=320x320>"
            ],
            "image/png": "[encoded data removed]"
          },
          "metadata": {}
        }
      ]
    },
    {
      "cell_type": "markdown",
      "source": [
        " ***instances are only annotated with bounding box --> it's object detection problem***"
      ],
      "metadata": {
        "id": "aR2MpGjRYWzd"
      }
    },
    {
      "cell_type": "markdown",
      "source": [
        "## Synthetically data augmentation "
      ],
      "metadata": {
        "id": "j4sKkcUM50Bj"
      }
    },
    {
      "cell_type": "markdown",
      "source": [
        "as there is huge gap between the two imbalanced classes, we will be making targetted augmentation only to the nut category, using the typical DA may increase the instances in both classes but won't reduce the gap which will result a biased model. check this [paper](https://arxiv.org/pdf/2204.03632.pdf).\n",
        "\n",
        "1. uplod images of nut and remove their background using [rembg](https://github.com/danielgatis/rembg) and save it in png format. (foregrounds).\n",
        "\n",
        "2. chosing 15 coordinates where the nuts foreground will be placed seperatelly on the existed empty frames in the training set.\n",
        "\n",
        "3. update the annotations dict of these frames in the trainset dict."
      ],
      "metadata": {
        "id": "S0IVVRFUpwZD"
      }
    },
    {
      "cell_type": "markdown",
      "source": [
        "mesuring the size of the nut in an image in order to resize the foreground with the same size"
      ],
      "metadata": {
        "id": "KJ61ohMZpPc8"
      }
    },
    {
      "cell_type": "code",
      "source": [
        "#im = Image.open(dataset_dicts[5800]['file_name'])\n",
        "#display(im)\n",
        "img1 = cv2.imread(dataset_dicts[5800]['file_name'])\n",
        "#cv2_imshow(img1)\n",
        "plt.figure(figsize=(8,8))\n",
        "plt.imshow(img1[300:330,90:120,:])"
      ],
      "metadata": {
        "colab": {
          "base_uri": "https://localhost:8080/",
          "height": 500
        },
        "id": "CNbIdBMAa2SC",
        "outputId": "01d3cc60-19eb-460a-cdbb-729459437a88"
      },
      "execution_count": null,
      "outputs": [
        {
          "output_type": "execute_result",
          "data": {
            "text/plain": [
              "<matplotlib.image.AxesImage at 0x7fb0a3026b80>"
            ]
          },
          "metadata": {},
          "execution_count": 64
        },
        {
          "output_type": "display_data",
          "data": {
            "text/plain": [
              "<Figure size 576x576 with 1 Axes>"
            ],
            "image/png": "[encoded data removed]"
          },
          "metadata": {
            "needs_background": "light"
          }
        }
      ]
    },
    {
      "cell_type": "code",
      "source": [
        "img1[300:330,90:120,:].shape"
      ],
      "metadata": {
        "colab": {
          "base_uri": "https://localhost:8080/"
        },
        "id": "mpR9qmaNH4Se",
        "outputId": "105802f4-705e-45ce-916c-3b7947a4eff7"
      },
      "execution_count": null,
      "outputs": [
        {
          "output_type": "execute_result",
          "data": {
            "text/plain": [
              "(30, 30, 3)"
            ]
          },
          "metadata": {},
          "execution_count": 65
        }
      ]
    },
    {
      "cell_type": "markdown",
      "source": [
        "background removal using [rembg](https://github.com/danielgatis/rembg)"
      ],
      "metadata": {
        "id": "9QFP8wY2u82c"
      }
    },
    {
      "cell_type": "code",
      "source": [
        "from rembg import remove"
      ],
      "metadata": {
        "id": "bIEcz2H_-5r4"
      },
      "execution_count": null,
      "outputs": []
    },
    {
      "cell_type": "code",
      "source": [
        "nut = Image.open('./data/good3.jpg')\n",
        "nut_fg = remove(nut).convert('RGBA').resize((30,30))\n",
        "display(nut_fg)\n",
        "nut_fg.save('./data/good3.png')"
      ],
      "metadata": {
        "colab": {
          "base_uri": "https://localhost:8080/",
          "height": 47
        },
        "id": "9Ztyr1_kFk3g",
        "outputId": "f90a8ab3-6685-4f38-c8e8-4b11d99ac1de"
      },
      "execution_count": null,
      "outputs": [
        {
          "output_type": "display_data",
          "data": {
            "text/plain": [
              "<PIL.Image.Image image mode=RGBA size=30x30>"
            ],
            "image/png": "[encoded data removed]"
          },
          "metadata": {}
        }
      ]
    },
    {
      "cell_type": "code",
      "source": [
        "for file_path in  glob.glob('./data/*.png') : \n",
        "  nut = Image.open(file_path)\n",
        "  nut_fg = remove(nut).convert('RGBA').resize((30,30))\n",
        "  display(nut_fg)\n",
        "  nut_fg.save(file_path)"
      ],
      "metadata": {
        "colab": {
          "base_uri": "https://localhost:8080/",
          "height": 77
        },
        "id": "8hEflWlsM2kv",
        "outputId": "cdf46373-2a4e-4cd3-b9a2-fcd4553e1828"
      },
      "execution_count": null,
      "outputs": [
        {
          "output_type": "display_data",
          "data": {
            "text/plain": [
              "<PIL.Image.Image image mode=RGBA size=30x30>"
            ],
            "image/png": "[encoded data removed]"
          },
          "metadata": {}
        },
        {
          "output_type": "display_data",
          "data": {
            "text/plain": [
              "<PIL.Image.Image image mode=RGBA size=30x30>"
            ],
            "image/png": "[encoded data removed]"
          },
          "metadata": {}
        }
      ]
    },
    {
      "cell_type": "markdown",
      "source": [
        "###synthetise(fg_path, bg_path)"
      ],
      "metadata": {
        "id": "yzg1Z_LPYL6i"
      }
    },
    {
      "cell_type": "code",
      "source": [
        "from detectron2.structures import BoxMode\n",
        "\n",
        "def synthetise(bg_path):\n",
        "  # a function that will paste nut fg on empty frame and return the correponding annotation\n",
        "  coord = [(500,200),(500,50),(300,300),(400,350),(20,70),(120,560),(560,560),(40,20),(420,420),(150,50),(50,150),(100,200),(200,100),(300,500),(500,300)]\n",
        "  bg_img = Image.open(bg_path)\n",
        "  i=0\n",
        "  j=0\n",
        "  instance_dict = []\n",
        "  for fg_path in glob.glob('./data/*.png'):\n",
        "    i+=5\n",
        "    nut_fg = Image.open(fg_path)\n",
        "    nut_fg = nut_fg.resize((40,40))\n",
        "    h, w = nut_fg.size\n",
        "    for tup  in coord[j:i]:\n",
        "      bg_img.paste(nut_fg,box=tup, mask = nut_fg)\n",
        "      \n",
        "      instance_dict.append({'iscrowd': 0, \n",
        "                            'bbox': [float(tup[0]), float(tup[1]), float(w), float(h)], \n",
        "                            'category_id': 1, \n",
        "                            'bbox_mode': BoxMode.XYWH_ABS})\n",
        "    j+=5\n",
        "  \n",
        "  return instance_dict , np.array(bg_img)"
      ],
      "metadata": {
        "id": "7-_1wx0YNblD"
      },
      "execution_count": null,
      "outputs": []
    },
    {
      "cell_type": "markdown",
      "source": [
        "###making synthetic data and storing it "
      ],
      "metadata": {
        "id": "7G3qh89oB2VP"
      }
    },
    {
      "cell_type": "code",
      "source": [
        "from detectron2.structures import BoxMode\n",
        "from tqdm import tqdm\n",
        "\n",
        "for d in tqdm(basket):\n",
        "  obj , img = synthetise(d['img_path'])\n",
        "  dataset_dicts[d['iter']]['annotations'] += obj \n",
        "  Image.fromarray(img).save(d['img_path'])\n",
        "  #dataset_dicts[d['iter']]"
      ],
      "metadata": {
        "id": "bg_ql4xRYXa7"
      },
      "execution_count": null,
      "outputs": []
    },
    {
      "cell_type": "markdown",
      "source": [
        "checking the result visually "
      ],
      "metadata": {
        "id": "nNPX-3kaCDCq"
      }
    },
    {
      "cell_type": "code",
      "source": [
        "for d in random.sample(basket, 3):\n",
        "  img = cv2.imread(dataset_dicts[d['iter']]['file_name'])\n",
        "  visualizer = Visualizer(img[:, :, ::-1], metadata=train_metadata, scale=0.5)\n",
        "  out = visualizer.draw_dataset_dict(dataset_dicts[d['iter']])\n",
        "  cv2_imshow(out.get_image()[:, :, ::-1])"
      ],
      "metadata": {
        "colab": {
          "base_uri": "https://localhost:8080/",
          "height": 977
        },
        "id": "DWBrQ-hpxWgB",
        "outputId": "5189c53c-6902-4def-adbf-633ee0b0061b"
      },
      "execution_count": null,
      "outputs": [
        {
          "output_type": "display_data",
          "data": {
            "text/plain": [
              "<PIL.Image.Image image mode=RGB size=320x320>"
            ],
            "image/png": "[encoded data removed]"
          },
          "metadata": {}
        },
        {
          "output_type": "display_data",
          "data": {
            "text/plain": [
              "<PIL.Image.Image image mode=RGB size=320x320>"
            ],
            "image/png": "[encoded data removed]"
          },
          "metadata": {}
        },
        {
          "output_type": "display_data",
          "data": {
            "text/plain": [
              "<PIL.Image.Image image mode=RGB size=320x320>"
            ],
            "image/png": "[encoded data removed]"
          },
          "metadata": {}
        }
      ]
    },
    {
      "cell_type": "markdown",
      "source": [
        "dump the new trainset annotation dict in json file"
      ],
      "metadata": {
        "id": "PFHrW11Hvz3P"
      }
    },
    {
      "cell_type": "code",
      "source": [
        "with open(\"./data/augmented_data.json\",'w') as g:\n",
        "  json.dump(dataset_dicts,g)"
      ],
      "metadata": {
        "id": "FUqojkU8AQaK"
      },
      "execution_count": null,
      "outputs": []
    },
    {
      "cell_type": "markdown",
      "source": [
        "### Histogram of instances after aumendting the data "
      ],
      "metadata": {
        "id": "28DjFlEMCwnB"
      }
    },
    {
      "cell_type": "code",
      "source": [
        "show_histogram(class_names, dataset_dicts)"
      ],
      "metadata": {
        "colab": {
          "base_uri": "https://localhost:8080/",
          "height": 481
        },
        "id": "5apiIen2CK0R",
        "outputId": "1998731c-500e-4593-d8a2-459e14cc462d"
      },
      "execution_count": null,
      "outputs": [
        {
          "output_type": "stream",
          "name": "stderr",
          "text": [
            "<ipython-input-139-c018c9a90b72>:5: DeprecationWarning: `np.int` is a deprecated alias for the builtin `int`. To silence this warning, use `int` by itself. Doing this will not modify any behavior and is safe. When replacing `np.int`, you may wish to use e.g. `np.int64` or `np.int32` to specify the precision. If you wish to review your current use, check the release note link for additional information.\n",
            "Deprecated in NumPy 1.20; for more details and guidance: https://numpy.org/devdocs/release/1.20.0-notes.html#deprecations\n",
            "  histogram = np.zeros((num_classes,), dtype=np.int)\n",
            "<ipython-input-139-c018c9a90b72>:9: DeprecationWarning: `np.int` is a deprecated alias for the builtin `int`. To silence this warning, use `int` by itself. Doing this will not modify any behavior and is safe. When replacing `np.int`, you may wish to use e.g. `np.int64` or `np.int32` to specify the precision. If you wish to review your current use, check the release note link for additional information.\n",
            "Deprecated in NumPy 1.20; for more details and guidance: https://numpy.org/devdocs/release/1.20.0-notes.html#deprecations\n",
            "  [x[\"category_id\"] for x in annos if not x.get(\"iscrowd\", 0)], dtype=np.int\n"
          ]
        },
        {
          "output_type": "display_data",
          "data": {
            "text/plain": [
              "<Figure size 720x360 with 1 Axes>"
            ],
            "image/png": "[encoded data removed]"
          },
          "metadata": {
            "needs_background": "light"
          }
        }
      ]
    },
    {
      "cell_type": "markdown",
      "source": [
        "###register the new tarin data dict in detectron2 datasets"
      ],
      "metadata": {
        "id": "kjGBl3cbDy1S"
      }
    },
    {
      "cell_type": "code",
      "source": [
        "def get_dataset_dicts(p):\n",
        "  with open(p+\".json\",\"r\") as f:\n",
        "    data_dict = json.load(f)\n",
        "  return data_dict"
      ],
      "metadata": {
        "id": "Kmv8NhcxEpEG"
      },
      "execution_count": null,
      "outputs": []
    },
    {
      "cell_type": "code",
      "source": [
        "DatasetCatalog.clear()"
      ],
      "metadata": {
        "id": "3P1fWJGWF5Uy"
      },
      "execution_count": null,
      "outputs": []
    },
    {
      "cell_type": "code",
      "source": [
        "path= \"/content/drive/MyDrive/tracking/data/\"\n",
        "for d in  [\"data\"]:\n",
        "  DatasetCatalog.register(d+\"_train\", lambda d=d: get_dataset_dicts(path + d))\n",
        "  MetadataCatalog.get(d+\"_train\").set(thing_classes=['bolt', 'nut'])"
      ],
      "metadata": {
        "id": "g3y9e_uIEtia"
      },
      "execution_count": null,
      "outputs": []
    },
    {
      "cell_type": "code",
      "source": [
        "train_metadata = MetadataCatalog.get(\"data_train\")"
      ],
      "metadata": {
        "id": "WL3WZsZ2HHKH"
      },
      "execution_count": null,
      "outputs": []
    },
    {
      "cell_type": "code",
      "source": [
        "train_metadata"
      ],
      "metadata": {
        "colab": {
          "base_uri": "https://localhost:8080/"
        },
        "id": "oWZLH4C4HQQn",
        "outputId": "feb19a3b-36f2-479f-d0de-508aec6b907e"
      },
      "execution_count": null,
      "outputs": [
        {
          "output_type": "execute_result",
          "data": {
            "text/plain": [
              "Metadata(name='data_train', thing_classes=['bolt', 'nut'])"
            ]
          },
          "metadata": {},
          "execution_count": 18
        }
      ]
    },
    {
      "cell_type": "code",
      "source": [
        "train_dict = DatasetCatalog.get(\"data_train\")\n"
      ],
      "metadata": {
        "id": "XMwE9Up1GDuo"
      },
      "execution_count": null,
      "outputs": []
    },
    {
      "cell_type": "code",
      "source": [
        "len_dataset = len(train_dict) + len(val_dict)\n",
        "len_dataset"
      ],
      "metadata": {
        "id": "bolEU_NfK4J3",
        "colab": {
          "base_uri": "https://localhost:8080/"
        },
        "outputId": "aeb597ae-6234-47f3-c6a5-204e1d7c401c"
      },
      "execution_count": null,
      "outputs": [
        {
          "output_type": "execute_result",
          "data": {
            "text/plain": [
              "9000"
            ]
          },
          "metadata": {},
          "execution_count": 21
        }
      ]
    },
    {
      "cell_type": "markdown",
      "source": [
        "#Training"
      ],
      "metadata": {
        "id": "yXaMV8I--suB"
      }
    },
    {
      "cell_type": "markdown",
      "source": [
        "##Trainer configs\n",
        "updating the max iteration's steps, backbone layers,  (thttps://detectron2.readthedocs.io/en/latest/modules/config.html#yaml-config-references)"
      ],
      "metadata": {
        "id": "s6U6VRM-ummF"
      }
    },
    {
      "cell_type": "code",
      "source": [
        "cfg = get_cfg()\n",
        "cfg.OUTPUT_DIR = \"/content/drive/MyDrive/tracking/logs\"\n",
        "\n",
        "cfg.merge_from_file(model_zoo.get_config_file(\"COCO-Detection/retinanet_R_50_FPN_3x.yaml\"))\n",
        "cfg.MODEL.WEIGHTS = model_zoo.get_checkpoint_url(\"COCO-Detection/retinanet_R_50_FPN_3x.yaml\")\n",
        "\n",
        "cfg.MODEL.ROI_HEADS.BATCH_SIZE_PER_IMAGE = 128  \n",
        "cfg.DATASETS.TRAIN = (\"data_train\",\"val_data\")\n",
        "\n",
        "cfg.DATALOADER.NUM_WORKERS = 4\n",
        "\n",
        "cfg.SOLVER.BASE_LR = 0.001  # pick a good LR\n",
        "\n",
        "cfg.SOLVER.MAX_ITER = 180000 #9000*20epochs\n",
        "\n",
        "cfg.SOLVER.STEPS = (60000,) # The iteration number to decrease learning rate by GAMMA (*0.1).\n",
        "cfg.SOLVER.gamma = 0.5\n",
        "cfg.SOLVER.IMS_PER_BATCH = 4\n",
        "cfg.SOLVER.CHECKPOINT_PERIOD = 9000 #  each 1 epoch = 8812 iterations, the model will be saved\n",
        "\n",
        "cfg.MODEL.RETINANET.NUM_CLASSES = 2\n",
        "\n",
        "\n",
        "#os.makedirs(cfg.OUTPUT_DIR, exist_ok=True)\n",
        "cfg.MODEL.DEVICE = \"cuda\""
      ],
      "metadata": {
        "id": "VZrA_3VJehs7",
        "colab": {
          "base_uri": "https://localhost:8080/"
        },
        "outputId": "18a5f481-13ec-4aab-c847-b3cdd949206d"
      },
      "execution_count": null,
      "outputs": [
        {
          "output_type": "stream",
          "name": "stderr",
          "text": [
            "WARNING:fvcore.common.config:Loading config /usr/local/lib/python3.8/dist-packages/detectron2/model_zoo/configs/COCO-Detection/../Base-RetinaNet.yaml with yaml.unsafe_load. Your machine may be at risk if the file contains malicious content.\n"
          ]
        }
      ]
    },
    {
      "cell_type": "markdown",
      "source": [
        "##Launch the training"
      ],
      "metadata": {
        "id": "N7odNvuqusrg"
      }
    },
    {
      "cell_type": "markdown",
      "source": [
        "[02/17 12:01:59 d2.data.datasets.coco]: Loaded 1800 images in COCO format from ./data/challenge/annotations/instances_val.json\n",
        "[02/17 12:01:59 d2.data.build]: Removed 188 images with no usable annotations. 8812 images left.\n",
        "[02/17 12:01:59 d2.data.build]: Distribution of instances among all 2 categories:\n",
        "\n",
        "|  category  | #instances   |  category  | #instances   |\n",
        "|:----------:|:-------------|:----------:|:-------------|\n",
        "|    bolt    | 18045        |    nut     | 9745         |\n",
        "|            |              |            |              |\n",
        "|   total    | 27790        |            |              |"
      ],
      "metadata": {
        "id": "0AwzOKszQg5B"
      }
    },
    {
      "cell_type": "code",
      "source": [
        "trainer = DefaultTrainer(cfg) \n",
        "trainer.resume_or_load(resume=False)\n",
        "trainer.train()"
      ],
      "metadata": {
        "colab": {
          "base_uri": "https://localhost:8080/"
        },
        "id": "ZezKyL_zQHVq",
        "outputId": "70eb0b1c-0750-4ecf-8b7d-56ed526930fd"
      },
      "execution_count": null,
      "outputs": [
        {
          "metadata": {
            "tags": null
          },
          "name": "stdout",
          "output_type": "stream",
          "text": [
            "[02/17 12:01:59 d2.engine.defaults]: Model:\n",
            "RetinaNet(\n",
            "  (backbone): FPN(\n",
            "    (fpn_lateral3): Conv2d(512, 256, kernel_size=(1, 1), stride=(1, 1))\n",
            "    (fpn_output3): Conv2d(256, 256, kernel_size=(3, 3), stride=(1, 1), padding=(1, 1))\n",
            "    (fpn_lateral4): Conv2d(1024, 256, kernel_size=(1, 1), stride=(1, 1))\n",
            "    (fpn_output4): Conv2d(256, 256, kernel_size=(3, 3), stride=(1, 1), padding=(1, 1))\n",
            "    (fpn_lateral5): Conv2d(2048, 256, kernel_size=(1, 1), stride=(1, 1))\n",
            "    (fpn_output5): Conv2d(256, 256, kernel_size=(3, 3), stride=(1, 1), padding=(1, 1))\n",
            "    (top_block): LastLevelP6P7(\n",
            "      (p6): Conv2d(2048, 256, kernel_size=(3, 3), stride=(2, 2), padding=(1, 1))\n",
            "      (p7): Conv2d(256, 256, kernel_size=(3, 3), stride=(2, 2), padding=(1, 1))\n",
            "    )\n",
            "    (bottom_up): ResNet(\n",
            "      (stem): BasicStem(\n",
            "        (conv1): Conv2d(\n",
            "          3, 64, kernel_size=(7, 7), stride=(2, 2), padding=(3, 3), bias=False\n",
            "          (norm): FrozenBatchNorm2d(num_features=64, eps=1e-05)\n",
            "        )\n",
            "      )\n",
            "      (res2): Sequential(\n",
            "        (0): BottleneckBlock(\n",
            "          (shortcut): Conv2d(\n",
            "            64, 256, kernel_size=(1, 1), stride=(1, 1), bias=False\n",
            "            (norm): FrozenBatchNorm2d(num_features=256, eps=1e-05)\n",
            "          )\n",
            "          (conv1): Conv2d(\n",
            "            64, 64, kernel_size=(1, 1), stride=(1, 1), bias=False\n",
            "            (norm): FrozenBatchNorm2d(num_features=64, eps=1e-05)\n",
            "          )\n",
            "          (conv2): Conv2d(\n",
            "            64, 64, kernel_size=(3, 3), stride=(1, 1), padding=(1, 1), bias=False\n",
            "            (norm): FrozenBatchNorm2d(num_features=64, eps=1e-05)\n",
            "          )\n",
            "          (conv3): Conv2d(\n",
            "            64, 256, kernel_size=(1, 1), stride=(1, 1), bias=False\n",
            "            (norm): FrozenBatchNorm2d(num_features=256, eps=1e-05)\n",
            "          )\n",
            "        )\n",
            "        (1): BottleneckBlock(\n",
            "          (conv1): Conv2d(\n",
            "            256, 64, kernel_size=(1, 1), stride=(1, 1), bias=False\n",
            "            (norm): FrozenBatchNorm2d(num_features=64, eps=1e-05)\n",
            "          )\n",
            "          (conv2): Conv2d(\n",
            "            64, 64, kernel_size=(3, 3), stride=(1, 1), padding=(1, 1), bias=False\n",
            "            (norm): FrozenBatchNorm2d(num_features=64, eps=1e-05)\n",
            "          )\n",
            "          (conv3): Conv2d(\n",
            "            64, 256, kernel_size=(1, 1), stride=(1, 1), bias=False\n",
            "            (norm): FrozenBatchNorm2d(num_features=256, eps=1e-05)\n",
            "          )\n",
            "        )\n",
            "        (2): BottleneckBlock(\n",
            "          (conv1): Conv2d(\n",
            "            256, 64, kernel_size=(1, 1), stride=(1, 1), bias=False\n",
            "            (norm): FrozenBatchNorm2d(num_features=64, eps=1e-05)\n",
            "          )\n",
            "          (conv2): Conv2d(\n",
            "            64, 64, kernel_size=(3, 3), stride=(1, 1), padding=(1, 1), bias=False\n",
            "            (norm): FrozenBatchNorm2d(num_features=64, eps=1e-05)\n",
            "          )\n",
            "          (conv3): Conv2d(\n",
            "            64, 256, kernel_size=(1, 1), stride=(1, 1), bias=False\n",
            "            (norm): FrozenBatchNorm2d(num_features=256, eps=1e-05)\n",
            "          )\n",
            "        )\n",
            "      )\n",
            "      (res3): Sequential(\n",
            "        (0): BottleneckBlock(\n",
            "          (shortcut): Conv2d(\n",
            "            256, 512, kernel_size=(1, 1), stride=(2, 2), bias=False\n",
            "            (norm): FrozenBatchNorm2d(num_features=512, eps=1e-05)\n",
            "          )\n",
            "          (conv1): Conv2d(\n",
            "            256, 128, kernel_size=(1, 1), stride=(2, 2), bias=False\n",
            "            (norm): FrozenBatchNorm2d(num_features=128, eps=1e-05)\n",
            "          )\n",
            "          (conv2): Conv2d(\n",
            "            128, 128, kernel_size=(3, 3), stride=(1, 1), padding=(1, 1), bias=False\n",
            "            (norm): FrozenBatchNorm2d(num_features=128, eps=1e-05)\n",
            "          )\n",
            "          (conv3): Conv2d(\n",
            "            128, 512, kernel_size=(1, 1), stride=(1, 1), bias=False\n",
            "            (norm): FrozenBatchNorm2d(num_features=512, eps=1e-05)\n",
            "          )\n",
            "        )\n",
            "        (1): BottleneckBlock(\n",
            "          (conv1): Conv2d(\n",
            "            512, 128, kernel_size=(1, 1), stride=(1, 1), bias=False\n",
            "            (norm): FrozenBatchNorm2d(num_features=128, eps=1e-05)\n",
            "          )\n",
            "          (conv2): Conv2d(\n",
            "            128, 128, kernel_size=(3, 3), stride=(1, 1), padding=(1, 1), bias=False\n",
            "            (norm): FrozenBatchNorm2d(num_features=128, eps=1e-05)\n",
            "          )\n",
            "          (conv3): Conv2d(\n",
            "            128, 512, kernel_size=(1, 1), stride=(1, 1), bias=False\n",
            "            (norm): FrozenBatchNorm2d(num_features=512, eps=1e-05)\n",
            "          )\n",
            "        )\n",
            "        (2): BottleneckBlock(\n",
            "          (conv1): Conv2d(\n",
            "            512, 128, kernel_size=(1, 1), stride=(1, 1), bias=False\n",
            "            (norm): FrozenBatchNorm2d(num_features=128, eps=1e-05)\n",
            "          )\n",
            "          (conv2): Conv2d(\n",
            "            128, 128, kernel_size=(3, 3), stride=(1, 1), padding=(1, 1), bias=False\n",
            "            (norm): FrozenBatchNorm2d(num_features=128, eps=1e-05)\n",
            "          )\n",
            "          (conv3): Conv2d(\n",
            "            128, 512, kernel_size=(1, 1), stride=(1, 1), bias=False\n",
            "            (norm): FrozenBatchNorm2d(num_features=512, eps=1e-05)\n",
            "          )\n",
            "        )\n",
            "        (3): BottleneckBlock(\n",
            "          (conv1): Conv2d(\n",
            "            512, 128, kernel_size=(1, 1), stride=(1, 1), bias=False\n",
            "            (norm): FrozenBatchNorm2d(num_features=128, eps=1e-05)\n",
            "          )\n",
            "          (conv2): Conv2d(\n",
            "            128, 128, kernel_size=(3, 3), stride=(1, 1), padding=(1, 1), bias=False\n",
            "            (norm): FrozenBatchNorm2d(num_features=128, eps=1e-05)\n",
            "          )\n",
            "          (conv3): Conv2d(\n",
            "            128, 512, kernel_size=(1, 1), stride=(1, 1), bias=False\n",
            "            (norm): FrozenBatchNorm2d(num_features=512, eps=1e-05)\n",
            "          )\n",
            "        )\n",
            "      )\n",
            "      (res4): Sequential(\n",
            "        (0): BottleneckBlock(\n",
            "          (shortcut): Conv2d(\n",
            "            512, 1024, kernel_size=(1, 1), stride=(2, 2), bias=False\n",
            "            (norm): FrozenBatchNorm2d(num_features=1024, eps=1e-05)\n",
            "          )\n",
            "          (conv1): Conv2d(\n",
            "            512, 256, kernel_size=(1, 1), stride=(2, 2), bias=False\n",
            "            (norm): FrozenBatchNorm2d(num_features=256, eps=1e-05)\n",
            "          )\n",
            "          (conv2): Conv2d(\n",
            "            256, 256, kernel_size=(3, 3), stride=(1, 1), padding=(1, 1), bias=False\n",
            "            (norm): FrozenBatchNorm2d(num_features=256, eps=1e-05)\n",
            "          )\n",
            "          (conv3): Conv2d(\n",
            "            256, 1024, kernel_size=(1, 1), stride=(1, 1), bias=False\n",
            "            (norm): FrozenBatchNorm2d(num_features=1024, eps=1e-05)\n",
            "          )\n",
            "        )\n",
            "        (1): BottleneckBlock(\n",
            "          (conv1): Conv2d(\n",
            "            1024, 256, kernel_size=(1, 1), stride=(1, 1), bias=False\n",
            "            (norm): FrozenBatchNorm2d(num_features=256, eps=1e-05)\n",
            "          )\n",
            "          (conv2): Conv2d(\n",
            "            256, 256, kernel_size=(3, 3), stride=(1, 1), padding=(1, 1), bias=False\n",
            "            (norm): FrozenBatchNorm2d(num_features=256, eps=1e-05)\n",
            "          )\n",
            "          (conv3): Conv2d(\n",
            "            256, 1024, kernel_size=(1, 1), stride=(1, 1), bias=False\n",
            "            (norm): FrozenBatchNorm2d(num_features=1024, eps=1e-05)\n",
            "          )\n",
            "        )\n",
            "        (2): BottleneckBlock(\n",
            "          (conv1): Conv2d(\n",
            "            1024, 256, kernel_size=(1, 1), stride=(1, 1), bias=False\n",
            "            (norm): FrozenBatchNorm2d(num_features=256, eps=1e-05)\n",
            "          )\n",
            "          (conv2): Conv2d(\n",
            "            256, 256, kernel_size=(3, 3), stride=(1, 1), padding=(1, 1), bias=False\n",
            "            (norm): FrozenBatchNorm2d(num_features=256, eps=1e-05)\n",
            "          )\n",
            "          (conv3): Conv2d(\n",
            "            256, 1024, kernel_size=(1, 1), stride=(1, 1), bias=False\n",
            "            (norm): FrozenBatchNorm2d(num_features=1024, eps=1e-05)\n",
            "          )\n",
            "        )\n",
            "        (3): BottleneckBlock(\n",
            "          (conv1): Conv2d(\n",
            "            1024, 256, kernel_size=(1, 1), stride=(1, 1), bias=False\n",
            "            (norm): FrozenBatchNorm2d(num_features=256, eps=1e-05)\n",
            "          )\n",
            "          (conv2): Conv2d(\n",
            "            256, 256, kernel_size=(3, 3), stride=(1, 1), padding=(1, 1), bias=False\n",
            "            (norm): FrozenBatchNorm2d(num_features=256, eps=1e-05)\n",
            "          )\n",
            "          (conv3): Conv2d(\n",
            "            256, 1024, kernel_size=(1, 1), stride=(1, 1), bias=False\n",
            "            (norm): FrozenBatchNorm2d(num_features=1024, eps=1e-05)\n",
            "          )\n",
            "        )\n",
            "        (4): BottleneckBlock(\n",
            "          (conv1): Conv2d(\n",
            "            1024, 256, kernel_size=(1, 1), stride=(1, 1), bias=False\n",
            "            (norm): FrozenBatchNorm2d(num_features=256, eps=1e-05)\n",
            "          )\n",
            "          (conv2): Conv2d(\n",
            "            256, 256, kernel_size=(3, 3), stride=(1, 1), padding=(1, 1), bias=False\n",
            "            (norm): FrozenBatchNorm2d(num_features=256, eps=1e-05)\n",
            "          )\n",
            "          (conv3): Conv2d(\n",
            "            256, 1024, kernel_size=(1, 1), stride=(1, 1), bias=False\n",
            "            (norm): FrozenBatchNorm2d(num_features=1024, eps=1e-05)\n",
            "          )\n",
            "        )\n",
            "        (5): BottleneckBlock(\n",
            "          (conv1): Conv2d(\n",
            "            1024, 256, kernel_size=(1, 1), stride=(1, 1), bias=False\n",
            "            (norm): FrozenBatchNorm2d(num_features=256, eps=1e-05)\n",
            "          )\n",
            "          (conv2): Conv2d(\n",
            "            256, 256, kernel_size=(3, 3), stride=(1, 1), padding=(1, 1), bias=False\n",
            "            (norm): FrozenBatchNorm2d(num_features=256, eps=1e-05)\n",
            "          )\n",
            "          (conv3): Conv2d(\n",
            "            256, 1024, kernel_size=(1, 1), stride=(1, 1), bias=False\n",
            "            (norm): FrozenBatchNorm2d(num_features=1024, eps=1e-05)\n",
            "          )\n",
            "        )\n",
            "      )\n",
            "      (res5): Sequential(\n",
            "        (0): BottleneckBlock(\n",
            "          (shortcut): Conv2d(\n",
            "            1024, 2048, kernel_size=(1, 1), stride=(2, 2), bias=False\n",
            "            (norm): FrozenBatchNorm2d(num_features=2048, eps=1e-05)\n",
            "          )\n",
            "          (conv1): Conv2d(\n",
            "            1024, 512, kernel_size=(1, 1), stride=(2, 2), bias=False\n",
            "            (norm): FrozenBatchNorm2d(num_features=512, eps=1e-05)\n",
            "          )\n",
            "          (conv2): Conv2d(\n",
            "            512, 512, kernel_size=(3, 3), stride=(1, 1), padding=(1, 1), bias=False\n",
            "            (norm): FrozenBatchNorm2d(num_features=512, eps=1e-05)\n",
            "          )\n",
            "          (conv3): Conv2d(\n",
            "            512, 2048, kernel_size=(1, 1), stride=(1, 1), bias=False\n",
            "            (norm): FrozenBatchNorm2d(num_features=2048, eps=1e-05)\n",
            "          )\n",
            "        )\n",
            "        (1): BottleneckBlock(\n",
            "          (conv1): Conv2d(\n",
            "            2048, 512, kernel_size=(1, 1), stride=(1, 1), bias=False\n",
            "            (norm): FrozenBatchNorm2d(num_features=512, eps=1e-05)\n",
            "          )\n",
            "          (conv2): Conv2d(\n",
            "            512, 512, kernel_size=(3, 3), stride=(1, 1), padding=(1, 1), bias=False\n",
            "            (norm): FrozenBatchNorm2d(num_features=512, eps=1e-05)\n",
            "          )\n",
            "          (conv3): Conv2d(\n",
            "            512, 2048, kernel_size=(1, 1), stride=(1, 1), bias=False\n",
            "            (norm): FrozenBatchNorm2d(num_features=2048, eps=1e-05)\n",
            "          )\n",
            "        )\n",
            "        (2): BottleneckBlock(\n",
            "          (conv1): Conv2d(\n",
            "            2048, 512, kernel_size=(1, 1), stride=(1, 1), bias=False\n",
            "            (norm): FrozenBatchNorm2d(num_features=512, eps=1e-05)\n",
            "          )\n",
            "          (conv2): Conv2d(\n",
            "            512, 512, kernel_size=(3, 3), stride=(1, 1), padding=(1, 1), bias=False\n",
            "            (norm): FrozenBatchNorm2d(num_features=512, eps=1e-05)\n",
            "          )\n",
            "          (conv3): Conv2d(\n",
            "            512, 2048, kernel_size=(1, 1), stride=(1, 1), bias=False\n",
            "            (norm): FrozenBatchNorm2d(num_features=2048, eps=1e-05)\n",
            "          )\n",
            "        )\n",
            "      )\n",
            "    )\n",
            "  )\n",
            "  (head): RetinaNetHead(\n",
            "    (cls_subnet): Sequential(\n",
            "      (0): Conv2d(256, 256, kernel_size=(3, 3), stride=(1, 1), padding=(1, 1))\n",
            "      (1): ReLU()\n",
            "      (2): Conv2d(256, 256, kernel_size=(3, 3), stride=(1, 1), padding=(1, 1))\n",
            "      (3): ReLU()\n",
            "      (4): Conv2d(256, 256, kernel_size=(3, 3), stride=(1, 1), padding=(1, 1))\n",
            "      (5): ReLU()\n",
            "      (6): Conv2d(256, 256, kernel_size=(3, 3), stride=(1, 1), padding=(1, 1))\n",
            "      (7): ReLU()\n",
            "    )\n",
            "    (bbox_subnet): Sequential(\n",
            "      (0): Conv2d(256, 256, kernel_size=(3, 3), stride=(1, 1), padding=(1, 1))\n",
            "      (1): ReLU()\n",
            "      (2): Conv2d(256, 256, kernel_size=(3, 3), stride=(1, 1), padding=(1, 1))\n",
            "      (3): ReLU()\n",
            "      (4): Conv2d(256, 256, kernel_size=(3, 3), stride=(1, 1), padding=(1, 1))\n",
            "      (5): ReLU()\n",
            "      (6): Conv2d(256, 256, kernel_size=(3, 3), stride=(1, 1), padding=(1, 1))\n",
            "      (7): ReLU()\n",
            "    )\n",
            "    (cls_score): Conv2d(256, 18, kernel_size=(3, 3), stride=(1, 1), padding=(1, 1))\n",
            "    (bbox_pred): Conv2d(256, 36, kernel_size=(3, 3), stride=(1, 1), padding=(1, 1))\n",
            "  )\n",
            "  (anchor_generator): DefaultAnchorGenerator(\n",
            "    (cell_anchors): BufferList()\n",
            "  )\n",
            ")\n",
            "[02/17 12:01:59 d2.data.datasets.coco]: Loaded 1800 images in COCO format from ./data/challenge/annotations/instances_val.json\n",
            "[02/17 12:01:59 d2.data.build]: Removed 188 images with no usable annotations. 8812 images left.\n",
            "[02/17 12:01:59 d2.data.build]: Distribution of instances among all 2 categories:\n",
            "|  category  | #instances   |  category  | #instances   |\n",
            "|:----------:|:-------------|:----------:|:-------------|\n",
            "|    bolt    | 18045        |    nut     | 9745         |\n",
            "|            |              |            |              |\n",
            "|   total    | 27790        |            |              |\n",
            "[02/17 12:01:59 d2.data.dataset_mapper]: [DatasetMapper] Augmentations used in training: [ResizeShortestEdge(short_edge_length=(640, 672, 704, 736, 768, 800), max_size=1333, sample_style='choice'), RandomFlip()]\n",
            "[02/17 12:01:59 d2.data.build]: Using training sampler TrainingSampler\n",
            "[02/17 12:01:59 d2.data.common]: Serializing 8812 elements to byte tensors and concatenating them all ...\n",
            "[02/17 12:01:59 d2.data.common]: Serialized dataset takes 2.94 MiB\n"
          ]
        },
        {
          "metadata": {
            "tags": null
          },
          "name": "stderr",
          "output_type": "stream",
          "text": [
            "model_final_5bd44e.pkl: 152MB [00:03, 50.1MB/s]                           \n",
            "WARNING:fvcore.common.checkpoint:Skip loading parameter 'head.cls_score.weight' to the model due to incompatible shapes: (720, 256, 3, 3) in the checkpoint but (18, 256, 3, 3) in the model! You might want to double check if this is expected.\n",
            "WARNING:fvcore.common.checkpoint:Skip loading parameter 'head.cls_score.bias' to the model due to incompatible shapes: (720,) in the checkpoint but (18,) in the model! You might want to double check if this is expected.\n",
            "WARNING:fvcore.common.checkpoint:Some model parameters or buffers are not found in the checkpoint:\n",
            "head.cls_score.{bias, weight}\n",
            "WARNING:fvcore.common.checkpoint:The checkpoint state_dict contains keys that are not used by the model:\n",
            "  pixel_mean\n",
            "  pixel_std\n"
          ]
        },
        {
          "output_type": "stream",
          "name": "stdout",
          "text": [
            "[02/17 12:02:12 d2.engine.train_loop]: Starting training from iteration 0\n",
            "[02/17 12:03:26 d2.utils.events]:  eta: 2 days, 4:22:45  iter: 19  total_loss: 1.646  loss_cls: 1.255  loss_box_reg: 0.3993  time: 1.0839  data_time: 2.6111  lr: 1.9981e-05  max_mem: 2168M\n",
            "[02/17 12:03:42 d2.utils.events]:  eta: 2 days, 1:07:24  iter: 39  total_loss: 1.257  loss_cls: 0.951  loss_box_reg: 0.3217  time: 0.9271  data_time: 0.0189  lr: 3.9961e-05  max_mem: 2168M\n",
            "[02/17 12:03:56 d2.utils.events]:  eta: 1 day, 13:49:55  iter: 59  total_loss: 1.286  loss_cls: 0.9959  loss_box_reg: 0.2632  time: 0.8528  data_time: 0.0132  lr: 5.9941e-05  max_mem: 2168M\n",
            "[02/17 12:04:11 d2.utils.events]:  eta: 1 day, 13:40:08  iter: 79  total_loss: 1.195  loss_cls: 0.967  loss_box_reg: 0.2487  time: 0.8253  data_time: 0.0139  lr: 7.9921e-05  max_mem: 2168M\n",
            "[02/17 12:04:25 d2.utils.events]:  eta: 1 day, 13:31:05  iter: 99  total_loss: 0.703  loss_cls: 0.5561  loss_box_reg: 0.144  time: 0.8018  data_time: 0.0141  lr: 9.9901e-05  max_mem: 2168M\n",
            "[02/17 12:04:39 d2.utils.events]:  eta: 1 day, 12:59:52  iter: 119  total_loss: 0.4861  loss_cls: 0.3604  loss_box_reg: 0.1202  time: 0.7823  data_time: 0.0124  lr: 0.00011988  max_mem: 2168M\n",
            "[02/17 12:04:53 d2.utils.events]:  eta: 1 day, 12:52:31  iter: 139  total_loss: 0.3877  loss_cls: 0.2621  loss_box_reg: 0.1348  time: 0.7684  data_time: 0.0136  lr: 0.00013986  max_mem: 2168M\n",
            "[02/17 12:05:06 d2.utils.events]:  eta: 1 day, 12:39:05  iter: 159  total_loss: 0.3324  loss_cls: 0.2096  loss_box_reg: 0.1288  time: 0.7573  data_time: 0.0140  lr: 0.00015984  max_mem: 2168M\n",
            "[02/17 12:05:20 d2.utils.events]:  eta: 1 day, 12:37:50  iter: 179  total_loss: 0.284  loss_cls: 0.1566  loss_box_reg: 0.1216  time: 0.7501  data_time: 0.0152  lr: 0.00017982  max_mem: 2168M\n",
            "[02/17 12:05:34 d2.utils.events]:  eta: 1 day, 12:36:28  iter: 199  total_loss: 0.3239  loss_cls: 0.1668  loss_box_reg: 0.1427  time: 0.7441  data_time: 0.0129  lr: 0.0001998  max_mem: 2168M\n",
            "[02/17 12:05:48 d2.utils.events]:  eta: 1 day, 12:34:56  iter: 219  total_loss: 0.2705  loss_cls: 0.1493  loss_box_reg: 0.1267  time: 0.7389  data_time: 0.0142  lr: 0.00021978  max_mem: 2168M\n",
            "[02/17 12:06:02 d2.utils.events]:  eta: 1 day, 12:36:00  iter: 239  total_loss: 0.241  loss_cls: 0.1096  loss_box_reg: 0.1301  time: 0.7376  data_time: 0.0143  lr: 0.00023976  max_mem: 2168M\n",
            "[02/17 12:06:16 d2.utils.events]:  eta: 1 day, 12:35:09  iter: 259  total_loss: 0.2106  loss_cls: 0.09297  loss_box_reg: 0.1171  time: 0.7338  data_time: 0.0148  lr: 0.00025974  max_mem: 2168M\n",
            "[02/17 12:06:30 d2.utils.events]:  eta: 1 day, 12:33:18  iter: 279  total_loss: 0.1996  loss_cls: 0.0815  loss_box_reg: 0.1104  time: 0.7317  data_time: 0.0131  lr: 0.00027972  max_mem: 2168M\n",
            "[02/17 12:06:44 d2.utils.events]:  eta: 1 day, 12:30:05  iter: 299  total_loss: 0.2339  loss_cls: 0.092  loss_box_reg: 0.1279  time: 0.7291  data_time: 0.0124  lr: 0.0002997  max_mem: 2168M\n",
            "[02/17 12:06:58 d2.utils.events]:  eta: 1 day, 12:30:10  iter: 319  total_loss: 0.2017  loss_cls: 0.0866  loss_box_reg: 0.1175  time: 0.7269  data_time: 0.0141  lr: 0.00031968  max_mem: 2168M\n",
            "[02/17 12:07:12 d2.utils.events]:  eta: 1 day, 12:32:34  iter: 339  total_loss: 0.1724  loss_cls: 0.059  loss_box_reg: 0.1027  time: 0.7273  data_time: 0.0152  lr: 0.00033966  max_mem: 2168M\n",
            "[02/17 12:07:26 d2.utils.events]:  eta: 1 day, 12:30:38  iter: 359  total_loss: 0.1674  loss_cls: 0.06267  loss_box_reg: 0.1033  time: 0.7259  data_time: 0.0136  lr: 0.00035964  max_mem: 2168M\n",
            "[02/17 12:07:41 d2.utils.events]:  eta: 1 day, 12:31:14  iter: 379  total_loss: 0.1999  loss_cls: 0.0659  loss_box_reg: 0.1215  time: 0.7253  data_time: 0.0126  lr: 0.00037962  max_mem: 2168M\n",
            "[02/17 12:07:55 d2.utils.events]:  eta: 1 day, 12:30:08  iter: 399  total_loss: 0.1818  loss_cls: 0.059  loss_box_reg: 0.1208  time: 0.7241  data_time: 0.0143  lr: 0.0003996  max_mem: 2168M\n",
            "[02/17 12:08:09 d2.utils.events]:  eta: 1 day, 12:29:25  iter: 419  total_loss: 0.1867  loss_cls: 0.05551  loss_box_reg: 0.1274  time: 0.7231  data_time: 0.0138  lr: 0.00041958  max_mem: 2168M\n",
            "[02/17 12:08:23 d2.utils.events]:  eta: 1 day, 12:29:50  iter: 439  total_loss: 0.2014  loss_cls: 0.0622  loss_box_reg: 0.1143  time: 0.7227  data_time: 0.0137  lr: 0.00043956  max_mem: 2168M\n",
            "[02/17 12:08:37 d2.utils.events]:  eta: 1 day, 12:28:56  iter: 459  total_loss: 0.1449  loss_cls: 0.03945  loss_box_reg: 0.1054  time: 0.7215  data_time: 0.0135  lr: 0.00045954  max_mem: 2168M\n",
            "[02/17 12:08:51 d2.utils.events]:  eta: 1 day, 12:29:10  iter: 479  total_loss: 0.173  loss_cls: 0.05564  loss_box_reg: 0.1148  time: 0.7211  data_time: 0.0130  lr: 0.00047952  max_mem: 2168M\n",
            "[02/17 12:09:05 d2.utils.events]:  eta: 1 day, 12:28:00  iter: 499  total_loss: 0.1689  loss_cls: 0.04853  loss_box_reg: 0.1043  time: 0.7205  data_time: 0.0127  lr: 0.0004995  max_mem: 2168M\n",
            "[02/17 12:09:19 d2.utils.events]:  eta: 1 day, 12:27:10  iter: 519  total_loss: 0.1425  loss_cls: 0.0435  loss_box_reg: 0.1002  time: 0.7196  data_time: 0.0137  lr: 0.00051948  max_mem: 2168M\n",
            "[02/17 12:09:33 d2.utils.events]:  eta: 1 day, 12:26:25  iter: 539  total_loss: 0.1357  loss_cls: 0.03678  loss_box_reg: 0.09801  time: 0.7188  data_time: 0.0135  lr: 0.00053946  max_mem: 2168M\n",
            "[02/17 12:09:48 d2.utils.events]:  eta: 1 day, 12:26:20  iter: 559  total_loss: 0.1611  loss_cls: 0.04493  loss_box_reg: 0.1186  time: 0.7187  data_time: 0.0118  lr: 0.00055944  max_mem: 2168M\n",
            "[02/17 12:10:02 d2.utils.events]:  eta: 1 day, 12:26:05  iter: 579  total_loss: 0.1349  loss_cls: 0.0418  loss_box_reg: 0.09316  time: 0.7180  data_time: 0.0132  lr: 0.00057942  max_mem: 2168M\n",
            "[02/17 12:10:16 d2.utils.events]:  eta: 1 day, 12:25:50  iter: 599  total_loss: 0.1649  loss_cls: 0.04285  loss_box_reg: 0.1149  time: 0.7172  data_time: 0.0150  lr: 0.0005994  max_mem: 2168M\n",
            "[02/17 12:10:30 d2.utils.events]:  eta: 1 day, 12:26:11  iter: 619  total_loss: 0.1504  loss_cls: 0.0367  loss_box_reg: 0.1061  time: 0.7173  data_time: 0.0149  lr: 0.00061938  max_mem: 2168M\n",
            "[02/17 12:10:44 d2.utils.events]:  eta: 1 day, 12:26:13  iter: 639  total_loss: 0.1441  loss_cls: 0.03326  loss_box_reg: 0.1064  time: 0.7167  data_time: 0.0129  lr: 0.00063936  max_mem: 2168M\n",
            "[02/17 12:10:58 d2.utils.events]:  eta: 1 day, 12:25:17  iter: 659  total_loss: 0.14  loss_cls: 0.03518  loss_box_reg: 0.1007  time: 0.7157  data_time: 0.0132  lr: 0.00065934  max_mem: 2168M\n",
            "[02/17 12:11:11 d2.utils.events]:  eta: 1 day, 12:24:33  iter: 679  total_loss: 0.111  loss_cls: 0.02747  loss_box_reg: 0.08452  time: 0.7147  data_time: 0.0145  lr: 0.00067932  max_mem: 2168M\n",
            "[02/17 12:11:25 d2.utils.events]:  eta: 1 day, 12:24:14  iter: 699  total_loss: 0.1477  loss_cls: 0.03425  loss_box_reg: 0.1135  time: 0.7143  data_time: 0.0139  lr: 0.0006993  max_mem: 2168M\n",
            "[02/17 12:11:40 d2.utils.events]:  eta: 1 day, 12:24:04  iter: 719  total_loss: 0.1281  loss_cls: 0.03053  loss_box_reg: 0.09392  time: 0.7142  data_time: 0.0128  lr: 0.00071928  max_mem: 2168M\n",
            "[02/17 12:11:54 d2.utils.events]:  eta: 1 day, 12:23:49  iter: 739  total_loss: 0.1452  loss_cls: 0.0353  loss_box_reg: 0.107  time: 0.7142  data_time: 0.0135  lr: 0.00073926  max_mem: 2168M\n",
            "[02/17 12:12:08 d2.utils.events]:  eta: 1 day, 12:23:39  iter: 759  total_loss: 0.1405  loss_cls: 0.03442  loss_box_reg: 0.1048  time: 0.7140  data_time: 0.0137  lr: 0.00075924  max_mem: 2168M\n",
            "[02/17 12:12:22 d2.utils.events]:  eta: 1 day, 12:23:20  iter: 779  total_loss: 0.1307  loss_cls: 0.02595  loss_box_reg: 0.09396  time: 0.7136  data_time: 0.0141  lr: 0.00077922  max_mem: 2168M\n",
            "[02/17 12:12:36 d2.utils.events]:  eta: 1 day, 12:23:06  iter: 799  total_loss: 0.1228  loss_cls: 0.03001  loss_box_reg: 0.0932  time: 0.7134  data_time: 0.0140  lr: 0.0007992  max_mem: 2168M\n",
            "[02/17 12:12:50 d2.utils.events]:  eta: 1 day, 12:22:55  iter: 819  total_loss: 0.1161  loss_cls: 0.01798  loss_box_reg: 0.0926  time: 0.7131  data_time: 0.0129  lr: 0.00081918  max_mem: 2168M\n",
            "[02/17 12:13:04 d2.utils.events]:  eta: 1 day, 12:22:55  iter: 839  total_loss: 0.1125  loss_cls: 0.01921  loss_box_reg: 0.09351  time: 0.7130  data_time: 0.0148  lr: 0.00083916  max_mem: 2168M\n",
            "[02/17 12:13:18 d2.utils.events]:  eta: 1 day, 12:22:22  iter: 859  total_loss: 0.1342  loss_cls: 0.02482  loss_box_reg: 0.1079  time: 0.7121  data_time: 0.0145  lr: 0.00085914  max_mem: 2168M\n",
            "[02/17 12:13:32 d2.utils.events]:  eta: 1 day, 12:22:17  iter: 879  total_loss: 0.1015  loss_cls: 0.01984  loss_box_reg: 0.08549  time: 0.7121  data_time: 0.0157  lr: 0.00087912  max_mem: 2168M\n",
            "[02/17 12:13:46 d2.utils.events]:  eta: 1 day, 12:21:52  iter: 899  total_loss: 0.1063  loss_cls: 0.01936  loss_box_reg: 0.08787  time: 0.7117  data_time: 0.0146  lr: 0.0008991  max_mem: 2168M\n",
            "[02/17 12:14:00 d2.utils.events]:  eta: 1 day, 12:21:53  iter: 919  total_loss: 0.1304  loss_cls: 0.02232  loss_box_reg: 0.09919  time: 0.7119  data_time: 0.0137  lr: 0.00091908  max_mem: 2168M\n",
            "[02/17 12:14:14 d2.utils.events]:  eta: 1 day, 12:21:20  iter: 939  total_loss: 0.1152  loss_cls: 0.0266  loss_box_reg: 0.09262  time: 0.7112  data_time: 0.0124  lr: 0.00093906  max_mem: 2168M\n",
            "[02/17 12:14:29 d2.utils.events]:  eta: 1 day, 12:21:24  iter: 959  total_loss: 0.1245  loss_cls: 0.02244  loss_box_reg: 0.09878  time: 0.7115  data_time: 0.0146  lr: 0.00095904  max_mem: 2168M\n",
            "[02/17 12:14:43 d2.utils.events]:  eta: 1 day, 12:21:13  iter: 979  total_loss: 0.1112  loss_cls: 0.02027  loss_box_reg: 0.09339  time: 0.7116  data_time: 0.0124  lr: 0.00097902  max_mem: 2168M\n",
            "[02/17 12:14:57 d2.utils.events]:  eta: 1 day, 12:20:44  iter: 999  total_loss: 0.1134  loss_cls: 0.02514  loss_box_reg: 0.08734  time: 0.7110  data_time: 0.0119  lr: 0.000999  max_mem: 2168M\n",
            "[02/17 12:15:11 d2.utils.events]:  eta: 1 day, 12:19:59  iter: 1019  total_loss: 0.1077  loss_cls: 0.02002  loss_box_reg: 0.08279  time: 0.7107  data_time: 0.0133  lr: 0.001  max_mem: 2168M\n",
            "[02/17 12:15:25 d2.utils.events]:  eta: 1 day, 12:19:44  iter: 1039  total_loss: 0.1207  loss_cls: 0.02223  loss_box_reg: 0.09599  time: 0.7105  data_time: 0.0129  lr: 0.001  max_mem: 2168M\n",
            "[02/17 12:15:39 d2.utils.events]:  eta: 1 day, 12:19:32  iter: 1059  total_loss: 0.1154  loss_cls: 0.01623  loss_box_reg: 0.09608  time: 0.7106  data_time: 0.0144  lr: 0.001  max_mem: 2168M\n",
            "[02/17 12:15:53 d2.utils.events]:  eta: 1 day, 12:18:37  iter: 1079  total_loss: 0.09111  loss_cls: 0.0145  loss_box_reg: 0.07502  time: 0.7105  data_time: 0.0126  lr: 0.001  max_mem: 2168M\n",
            "[02/17 12:16:07 d2.utils.events]:  eta: 1 day, 12:18:01  iter: 1099  total_loss: 0.1104  loss_cls: 0.01494  loss_box_reg: 0.09235  time: 0.7101  data_time: 0.0141  lr: 0.001  max_mem: 2168M\n",
            "[02/17 12:16:21 d2.utils.events]:  eta: 1 day, 12:17:51  iter: 1119  total_loss: 0.09752  loss_cls: 0.01588  loss_box_reg: 0.07861  time: 0.7101  data_time: 0.0134  lr: 0.001  max_mem: 2168M\n",
            "[02/17 12:16:35 d2.utils.events]:  eta: 1 day, 12:17:53  iter: 1139  total_loss: 0.1006  loss_cls: 0.01428  loss_box_reg: 0.08865  time: 0.7099  data_time: 0.0146  lr: 0.001  max_mem: 2168M\n",
            "[02/17 12:16:49 d2.utils.events]:  eta: 1 day, 12:17:31  iter: 1159  total_loss: 0.1126  loss_cls: 0.01692  loss_box_reg: 0.0903  time: 0.7095  data_time: 0.0130  lr: 0.001  max_mem: 2168M\n",
            "[02/17 12:17:03 d2.utils.events]:  eta: 1 day, 12:17:15  iter: 1179  total_loss: 0.09584  loss_cls: 0.02105  loss_box_reg: 0.07856  time: 0.7093  data_time: 0.0131  lr: 0.001  max_mem: 2168M\n",
            "[02/17 12:17:17 d2.utils.events]:  eta: 1 day, 12:17:20  iter: 1199  total_loss: 0.1329  loss_cls: 0.0266  loss_box_reg: 0.1028  time: 0.7093  data_time: 0.0138  lr: 0.001  max_mem: 2168M\n",
            "[02/17 12:17:31 d2.utils.events]:  eta: 1 day, 12:17:18  iter: 1219  total_loss: 0.1041  loss_cls: 0.01247  loss_box_reg: 0.08668  time: 0.7094  data_time: 0.0144  lr: 0.001  max_mem: 2168M\n",
            "[02/17 12:17:45 d2.utils.events]:  eta: 1 day, 12:16:35  iter: 1239  total_loss: 0.1211  loss_cls: 0.02159  loss_box_reg: 0.1057  time: 0.7092  data_time: 0.0129  lr: 0.001  max_mem: 2168M\n",
            "[02/17 12:17:59 d2.utils.events]:  eta: 1 day, 12:16:21  iter: 1259  total_loss: 0.106  loss_cls: 0.01638  loss_box_reg: 0.08493  time: 0.7092  data_time: 0.0134  lr: 0.001  max_mem: 2168M\n",
            "[02/17 12:18:13 d2.utils.events]:  eta: 1 day, 12:15:52  iter: 1279  total_loss: 0.1088  loss_cls: 0.01805  loss_box_reg: 0.07951  time: 0.7089  data_time: 0.0137  lr: 0.001  max_mem: 2168M\n",
            "[02/17 12:18:27 d2.utils.events]:  eta: 1 day, 12:15:43  iter: 1299  total_loss: 0.1204  loss_cls: 0.02414  loss_box_reg: 0.09063  time: 0.7090  data_time: 0.0132  lr: 0.001  max_mem: 2168M\n",
            "[02/17 12:18:41 d2.utils.events]:  eta: 1 day, 12:15:13  iter: 1319  total_loss: 0.1098  loss_cls: 0.016  loss_box_reg: 0.0929  time: 0.7087  data_time: 0.0123  lr: 0.001  max_mem: 2168M\n",
            "[02/17 12:18:55 d2.utils.events]:  eta: 1 day, 12:14:03  iter: 1339  total_loss: 0.09477  loss_cls: 0.01451  loss_box_reg: 0.07939  time: 0.7082  data_time: 0.0131  lr: 0.001  max_mem: 2168M\n",
            "[02/17 12:19:08 d2.utils.events]:  eta: 1 day, 12:13:37  iter: 1359  total_loss: 0.1355  loss_cls: 0.01833  loss_box_reg: 0.1041  time: 0.7076  data_time: 0.0131  lr: 0.001  max_mem: 2168M\n",
            "[02/17 12:19:22 d2.utils.events]:  eta: 1 day, 12:12:48  iter: 1379  total_loss: 0.1021  loss_cls: 0.01368  loss_box_reg: 0.08302  time: 0.7074  data_time: 0.0142  lr: 0.001  max_mem: 2168M\n",
            "[02/17 12:19:35 d2.utils.events]:  eta: 1 day, 12:12:02  iter: 1399  total_loss: 0.1062  loss_cls: 0.01439  loss_box_reg: 0.08969  time: 0.7069  data_time: 0.0131  lr: 0.001  max_mem: 2168M\n",
            "[02/17 12:19:49 d2.utils.events]:  eta: 1 day, 12:11:54  iter: 1419  total_loss: 0.09314  loss_cls: 0.01466  loss_box_reg: 0.07952  time: 0.7068  data_time: 0.0131  lr: 0.001  max_mem: 2168M\n",
            "[02/17 12:20:03 d2.utils.events]:  eta: 1 day, 12:10:55  iter: 1439  total_loss: 0.1095  loss_cls: 0.01406  loss_box_reg: 0.08607  time: 0.7066  data_time: 0.0149  lr: 0.001  max_mem: 2168M\n",
            "[02/17 12:20:17 d2.utils.events]:  eta: 1 day, 12:10:50  iter: 1459  total_loss: 0.09896  loss_cls: 0.01148  loss_box_reg: 0.08647  time: 0.7066  data_time: 0.0138  lr: 0.001  max_mem: 2168M\n",
            "[02/17 12:20:31 d2.utils.events]:  eta: 1 day, 12:10:20  iter: 1479  total_loss: 0.09741  loss_cls: 0.01582  loss_box_reg: 0.07863  time: 0.7065  data_time: 0.0139  lr: 0.001  max_mem: 2168M\n",
            "[02/17 12:20:45 d2.utils.events]:  eta: 1 day, 12:09:48  iter: 1499  total_loss: 0.09884  loss_cls: 0.014  loss_box_reg: 0.08407  time: 0.7063  data_time: 0.0137  lr: 0.001  max_mem: 2168M\n",
            "[02/17 12:21:00 d2.utils.events]:  eta: 1 day, 12:09:51  iter: 1519  total_loss: 0.0868  loss_cls: 0.01279  loss_box_reg: 0.07811  time: 0.7064  data_time: 0.0136  lr: 0.001  max_mem: 2168M\n",
            "[02/17 12:21:14 d2.utils.events]:  eta: 1 day, 12:09:29  iter: 1539  total_loss: 0.09886  loss_cls: 0.01391  loss_box_reg: 0.08458  time: 0.7063  data_time: 0.0147  lr: 0.001  max_mem: 2168M\n",
            "[02/17 12:21:27 d2.utils.events]:  eta: 1 day, 12:08:24  iter: 1559  total_loss: 0.09441  loss_cls: 0.01103  loss_box_reg: 0.07755  time: 0.7062  data_time: 0.0132  lr: 0.001  max_mem: 2168M\n",
            "[02/17 12:21:42 d2.utils.events]:  eta: 1 day, 12:07:59  iter: 1579  total_loss: 0.1035  loss_cls: 0.01392  loss_box_reg: 0.09125  time: 0.7061  data_time: 0.0133  lr: 0.001  max_mem: 2168M\n",
            "[02/17 12:21:55 d2.utils.events]:  eta: 1 day, 12:07:11  iter: 1599  total_loss: 0.1069  loss_cls: 0.01369  loss_box_reg: 0.08603  time: 0.7058  data_time: 0.0129  lr: 0.001  max_mem: 2168M\n",
            "[02/17 12:22:09 d2.utils.events]:  eta: 1 day, 12:06:51  iter: 1619  total_loss: 0.1154  loss_cls: 0.02225  loss_box_reg: 0.09367  time: 0.7058  data_time: 0.0132  lr: 0.001  max_mem: 2168M\n",
            "[02/17 12:22:24 d2.utils.events]:  eta: 1 day, 12:06:31  iter: 1639  total_loss: 0.1066  loss_cls: 0.01576  loss_box_reg: 0.08354  time: 0.7059  data_time: 0.0140  lr: 0.001  max_mem: 2168M\n",
            "[02/17 12:22:37 d2.utils.events]:  eta: 1 day, 12:06:15  iter: 1659  total_loss: 0.08977  loss_cls: 0.01171  loss_box_reg: 0.08069  time: 0.7055  data_time: 0.0146  lr: 0.001  max_mem: 2168M\n",
            "[02/17 12:22:51 d2.utils.events]:  eta: 1 day, 12:06:45  iter: 1679  total_loss: 0.08611  loss_cls: 0.009787  loss_box_reg: 0.07883  time: 0.7056  data_time: 0.0130  lr: 0.001  max_mem: 2168M\n",
            "[02/17 12:23:05 d2.utils.events]:  eta: 1 day, 12:05:57  iter: 1699  total_loss: 0.09338  loss_cls: 0.01021  loss_box_reg: 0.08348  time: 0.7053  data_time: 0.0144  lr: 0.001  max_mem: 2168M\n",
            "[02/17 12:23:19 d2.utils.events]:  eta: 1 day, 12:06:08  iter: 1719  total_loss: 0.09981  loss_cls: 0.01246  loss_box_reg: 0.08529  time: 0.7054  data_time: 0.0131  lr: 0.001  max_mem: 2168M\n",
            "[02/17 12:23:33 d2.utils.events]:  eta: 1 day, 12:05:37  iter: 1739  total_loss: 0.08551  loss_cls: 0.01134  loss_box_reg: 0.07234  time: 0.7054  data_time: 0.0138  lr: 0.001  max_mem: 2168M\n",
            "[02/17 12:23:47 d2.utils.events]:  eta: 1 day, 12:05:03  iter: 1759  total_loss: 0.1134  loss_cls: 0.01452  loss_box_reg: 0.08842  time: 0.7053  data_time: 0.0115  lr: 0.001  max_mem: 2168M\n",
            "[02/17 12:24:01 d2.utils.events]:  eta: 1 day, 12:04:49  iter: 1779  total_loss: 0.08926  loss_cls: 0.009846  loss_box_reg: 0.07774  time: 0.7051  data_time: 0.0121  lr: 0.001  max_mem: 2168M\n",
            "[02/17 12:24:15 d2.utils.events]:  eta: 1 day, 12:04:00  iter: 1799  total_loss: 0.08074  loss_cls: 0.01109  loss_box_reg: 0.06826  time: 0.7049  data_time: 0.0126  lr: 0.001  max_mem: 2168M\n",
            "[02/17 12:24:29 d2.utils.events]:  eta: 1 day, 12:03:48  iter: 1819  total_loss: 0.09767  loss_cls: 0.009455  loss_box_reg: 0.08722  time: 0.7050  data_time: 0.0124  lr: 0.001  max_mem: 2168M\n",
            "[02/17 12:24:43 d2.utils.events]:  eta: 1 day, 12:03:34  iter: 1839  total_loss: 0.09802  loss_cls: 0.01414  loss_box_reg: 0.08553  time: 0.7050  data_time: 0.0129  lr: 0.001  max_mem: 2168M\n",
            "[02/17 12:24:57 d2.utils.events]:  eta: 1 day, 12:03:23  iter: 1859  total_loss: 0.07096  loss_cls: 0.009676  loss_box_reg: 0.06122  time: 0.7049  data_time: 0.0128  lr: 0.001  max_mem: 2168M\n",
            "[02/17 12:25:11 d2.utils.events]:  eta: 1 day, 12:02:52  iter: 1879  total_loss: 0.08653  loss_cls: 0.01057  loss_box_reg: 0.07706  time: 0.7047  data_time: 0.0109  lr: 0.001  max_mem: 2168M\n",
            "[02/17 12:25:25 d2.utils.events]:  eta: 1 day, 12:02:41  iter: 1899  total_loss: 0.1064  loss_cls: 0.01673  loss_box_reg: 0.08415  time: 0.7048  data_time: 0.0133  lr: 0.001  max_mem: 2168M\n",
            "[02/17 12:25:39 d2.utils.events]:  eta: 1 day, 12:02:22  iter: 1919  total_loss: 0.08883  loss_cls: 0.01216  loss_box_reg: 0.07339  time: 0.7049  data_time: 0.0122  lr: 0.001  max_mem: 2168M\n",
            "[02/17 12:25:54 d2.utils.events]:  eta: 1 day, 12:02:27  iter: 1939  total_loss: 0.09682  loss_cls: 0.01338  loss_box_reg: 0.08149  time: 0.7049  data_time: 0.0124  lr: 0.001  max_mem: 2168M\n",
            "[02/17 12:26:08 d2.utils.events]:  eta: 1 day, 12:01:58  iter: 1959  total_loss: 0.08589  loss_cls: 0.01114  loss_box_reg: 0.0788  time: 0.7050  data_time: 0.0131  lr: 0.001  max_mem: 2168M\n",
            "[02/17 12:26:22 d2.utils.events]:  eta: 1 day, 12:01:15  iter: 1979  total_loss: 0.08667  loss_cls: 0.01009  loss_box_reg: 0.07379  time: 0.7049  data_time: 0.0125  lr: 0.001  max_mem: 2168M\n",
            "[02/17 12:26:35 d2.utils.events]:  eta: 1 day, 12:00:38  iter: 1999  total_loss: 0.09367  loss_cls: 0.009876  loss_box_reg: 0.08161  time: 0.7046  data_time: 0.0114  lr: 0.001  max_mem: 2168M\n",
            "[02/17 12:26:49 d2.utils.events]:  eta: 1 day, 12:00:19  iter: 2019  total_loss: 0.0852  loss_cls: 0.01111  loss_box_reg: 0.0745  time: 0.7045  data_time: 0.0123  lr: 0.001  max_mem: 2168M\n",
            "[02/17 12:27:03 d2.utils.events]:  eta: 1 day, 11:59:47  iter: 2039  total_loss: 0.1061  loss_cls: 0.01298  loss_box_reg: 0.08281  time: 0.7042  data_time: 0.0122  lr: 0.001  max_mem: 2168M\n",
            "[02/17 12:27:16 d2.utils.events]:  eta: 1 day, 11:59:17  iter: 2059  total_loss: 0.08318  loss_cls: 0.01149  loss_box_reg: 0.07374  time: 0.7040  data_time: 0.0121  lr: 0.001  max_mem: 2168M\n",
            "[02/17 12:27:30 d2.utils.events]:  eta: 1 day, 11:58:54  iter: 2079  total_loss: 0.09579  loss_cls: 0.01069  loss_box_reg: 0.07542  time: 0.7037  data_time: 0.0130  lr: 0.001  max_mem: 2168M\n",
            "[02/17 12:27:43 d2.utils.events]:  eta: 1 day, 11:58:29  iter: 2099  total_loss: 0.08462  loss_cls: 0.01139  loss_box_reg: 0.07152  time: 0.7034  data_time: 0.0130  lr: 0.001  max_mem: 2168M\n",
            "[02/17 12:27:58 d2.utils.events]:  eta: 1 day, 11:58:25  iter: 2119  total_loss: 0.07391  loss_cls: 0.007677  loss_box_reg: 0.06469  time: 0.7036  data_time: 0.0140  lr: 0.001  max_mem: 2168M\n",
            "[02/17 12:28:11 d2.utils.events]:  eta: 1 day, 11:57:47  iter: 2139  total_loss: 0.08927  loss_cls: 0.009486  loss_box_reg: 0.07955  time: 0.7033  data_time: 0.0133  lr: 0.001  max_mem: 2168M\n",
            "[02/17 12:28:25 d2.utils.events]:  eta: 1 day, 11:57:54  iter: 2159  total_loss: 0.09036  loss_cls: 0.009712  loss_box_reg: 0.07906  time: 0.7031  data_time: 0.0142  lr: 0.001  max_mem: 2168M\n",
            "[02/17 12:28:39 d2.utils.events]:  eta: 1 day, 11:57:30  iter: 2179  total_loss: 0.07576  loss_cls: 0.008912  loss_box_reg: 0.06741  time: 0.7029  data_time: 0.0121  lr: 0.001  max_mem: 2168M\n",
            "[02/17 12:28:52 d2.utils.events]:  eta: 1 day, 11:56:52  iter: 2199  total_loss: 0.08135  loss_cls: 0.01255  loss_box_reg: 0.06717  time: 0.7027  data_time: 0.0126  lr: 0.001  max_mem: 2172M\n",
            "[02/17 12:29:06 d2.utils.events]:  eta: 1 day, 11:56:26  iter: 2219  total_loss: 0.0874  loss_cls: 0.008303  loss_box_reg: 0.08041  time: 0.7027  data_time: 0.0185  lr: 0.001  max_mem: 2172M\n",
            "[02/17 12:29:20 d2.utils.events]:  eta: 1 day, 11:56:12  iter: 2239  total_loss: 0.09861  loss_cls: 0.01132  loss_box_reg: 0.0833  time: 0.7025  data_time: 0.0157  lr: 0.001  max_mem: 2172M\n",
            "[02/17 12:29:34 d2.utils.events]:  eta: 1 day, 11:55:57  iter: 2259  total_loss: 0.09238  loss_cls: 0.008293  loss_box_reg: 0.07899  time: 0.7025  data_time: 0.0206  lr: 0.001  max_mem: 2172M\n",
            "[02/17 12:29:48 d2.utils.events]:  eta: 1 day, 11:55:59  iter: 2279  total_loss: 0.0773  loss_cls: 0.007594  loss_box_reg: 0.06378  time: 0.7026  data_time: 0.0192  lr: 0.001  max_mem: 2172M\n",
            "[02/17 12:30:02 d2.utils.events]:  eta: 1 day, 11:55:36  iter: 2299  total_loss: 0.08838  loss_cls: 0.008765  loss_box_reg: 0.07949  time: 0.7024  data_time: 0.0249  lr: 0.001  max_mem: 2172M\n",
            "[02/17 12:30:16 d2.utils.events]:  eta: 1 day, 11:56:00  iter: 2319  total_loss: 0.08512  loss_cls: 0.007831  loss_box_reg: 0.07575  time: 0.7025  data_time: 0.0239  lr: 0.001  max_mem: 2172M\n",
            "[02/17 12:30:30 d2.utils.events]:  eta: 1 day, 11:56:05  iter: 2339  total_loss: 0.09646  loss_cls: 0.01361  loss_box_reg: 0.07402  time: 0.7026  data_time: 0.0189  lr: 0.001  max_mem: 2172M\n",
            "[02/17 12:30:44 d2.utils.events]:  eta: 1 day, 11:55:59  iter: 2359  total_loss: 0.1141  loss_cls: 0.0162  loss_box_reg: 0.09204  time: 0.7026  data_time: 0.0162  lr: 0.001  max_mem: 2172M\n",
            "[02/17 12:30:58 d2.utils.events]:  eta: 1 day, 11:55:44  iter: 2379  total_loss: 0.092  loss_cls: 0.005923  loss_box_reg: 0.08208  time: 0.7025  data_time: 0.0171  lr: 0.001  max_mem: 2172M\n",
            "[02/17 12:31:12 d2.utils.events]:  eta: 1 day, 11:55:43  iter: 2399  total_loss: 0.08396  loss_cls: 0.01034  loss_box_reg: 0.07786  time: 0.7023  data_time: 0.0175  lr: 0.001  max_mem: 2172M\n",
            "[02/17 12:31:26 d2.utils.events]:  eta: 1 day, 11:55:38  iter: 2419  total_loss: 0.09827  loss_cls: 0.009551  loss_box_reg: 0.0762  time: 0.7025  data_time: 0.0242  lr: 0.001  max_mem: 2172M\n",
            "[02/17 12:31:40 d2.utils.events]:  eta: 1 day, 11:55:06  iter: 2439  total_loss: 0.08102  loss_cls: 0.009238  loss_box_reg: 0.07122  time: 0.7022  data_time: 0.0240  lr: 0.001  max_mem: 2172M\n",
            "[02/17 12:31:54 d2.utils.events]:  eta: 1 day, 11:54:51  iter: 2459  total_loss: 0.09611  loss_cls: 0.00927  loss_box_reg: 0.08503  time: 0.7022  data_time: 0.0247  lr: 0.001  max_mem: 2172M\n",
            "[02/17 12:32:08 d2.utils.events]:  eta: 1 day, 11:54:34  iter: 2479  total_loss: 0.087  loss_cls: 0.01045  loss_box_reg: 0.07446  time: 0.7021  data_time: 0.0155  lr: 0.001  max_mem: 2172M\n",
            "[02/17 12:32:21 d2.utils.events]:  eta: 1 day, 11:54:23  iter: 2499  total_loss: 0.06718  loss_cls: 0.005952  loss_box_reg: 0.06301  time: 0.7020  data_time: 0.0226  lr: 0.001  max_mem: 2172M\n",
            "[02/17 12:32:35 d2.utils.events]:  eta: 1 day, 11:54:08  iter: 2519  total_loss: 0.07355  loss_cls: 0.008357  loss_box_reg: 0.06285  time: 0.7019  data_time: 0.0171  lr: 0.001  max_mem: 2172M\n",
            "[02/17 12:32:49 d2.utils.events]:  eta: 1 day, 11:53:48  iter: 2539  total_loss: 0.08055  loss_cls: 0.008928  loss_box_reg: 0.06921  time: 0.7018  data_time: 0.0231  lr: 0.001  max_mem: 2172M\n",
            "[02/17 12:33:03 d2.utils.events]:  eta: 1 day, 11:53:36  iter: 2559  total_loss: 0.08702  loss_cls: 0.008645  loss_box_reg: 0.07496  time: 0.7018  data_time: 0.0192  lr: 0.001  max_mem: 2172M\n",
            "[02/17 12:33:17 d2.utils.events]:  eta: 1 day, 11:53:17  iter: 2579  total_loss: 0.0839  loss_cls: 0.007178  loss_box_reg: 0.07707  time: 0.7017  data_time: 0.0143  lr: 0.001  max_mem: 2172M\n",
            "[02/17 12:33:31 d2.utils.events]:  eta: 1 day, 11:53:10  iter: 2599  total_loss: 0.08619  loss_cls: 0.008374  loss_box_reg: 0.0738  time: 0.7016  data_time: 0.0212  lr: 0.001  max_mem: 2172M\n",
            "[02/17 12:33:44 d2.utils.events]:  eta: 1 day, 11:52:45  iter: 2619  total_loss: 0.08998  loss_cls: 0.008367  loss_box_reg: 0.07963  time: 0.7015  data_time: 0.0192  lr: 0.001  max_mem: 2172M\n",
            "[02/17 12:33:59 d2.utils.events]:  eta: 1 day, 11:52:41  iter: 2639  total_loss: 0.08763  loss_cls: 0.00782  loss_box_reg: 0.07834  time: 0.7018  data_time: 0.0246  lr: 0.001  max_mem: 2172M\n",
            "[02/17 12:34:13 d2.utils.events]:  eta: 1 day, 11:52:33  iter: 2659  total_loss: 0.07744  loss_cls: 0.008861  loss_box_reg: 0.06527  time: 0.7017  data_time: 0.0238  lr: 0.001  max_mem: 2172M\n",
            "[02/17 12:34:27 d2.utils.events]:  eta: 1 day, 11:52:06  iter: 2679  total_loss: 0.08639  loss_cls: 0.008106  loss_box_reg: 0.07833  time: 0.7016  data_time: 0.0252  lr: 0.001  max_mem: 2172M\n",
            "[02/17 12:34:41 d2.utils.events]:  eta: 1 day, 11:52:22  iter: 2699  total_loss: 0.07342  loss_cls: 0.007134  loss_box_reg: 0.06564  time: 0.7017  data_time: 0.0200  lr: 0.001  max_mem: 2172M\n",
            "[02/17 12:34:55 d2.utils.events]:  eta: 1 day, 11:51:42  iter: 2719  total_loss: 0.09917  loss_cls: 0.009545  loss_box_reg: 0.08895  time: 0.7017  data_time: 0.0273  lr: 0.001  max_mem: 2172M\n",
            "[02/17 12:35:09 d2.utils.events]:  eta: 1 day, 11:51:20  iter: 2739  total_loss: 0.08891  loss_cls: 0.006518  loss_box_reg: 0.07863  time: 0.7017  data_time: 0.0162  lr: 0.001  max_mem: 2172M\n",
            "[02/17 12:35:23 d2.utils.events]:  eta: 1 day, 11:51:35  iter: 2759  total_loss: 0.09906  loss_cls: 0.01288  loss_box_reg: 0.08612  time: 0.7018  data_time: 0.0228  lr: 0.001  max_mem: 2172M\n",
            "[02/17 12:35:37 d2.utils.events]:  eta: 1 day, 11:51:24  iter: 2779  total_loss: 0.09805  loss_cls: 0.01354  loss_box_reg: 0.0817  time: 0.7017  data_time: 0.0149  lr: 0.001  max_mem: 2172M\n",
            "[02/17 12:35:51 d2.utils.events]:  eta: 1 day, 11:51:36  iter: 2799  total_loss: 0.07683  loss_cls: 0.007104  loss_box_reg: 0.06918  time: 0.7016  data_time: 0.0169  lr: 0.001  max_mem: 2172M\n",
            "[02/17 12:36:05 d2.utils.events]:  eta: 1 day, 11:50:47  iter: 2819  total_loss: 0.07122  loss_cls: 0.005637  loss_box_reg: 0.06532  time: 0.7016  data_time: 0.0269  lr: 0.001  max_mem: 2172M\n",
            "[02/17 12:36:19 d2.utils.events]:  eta: 1 day, 11:50:12  iter: 2839  total_loss: 0.07946  loss_cls: 0.00531  loss_box_reg: 0.0751  time: 0.7015  data_time: 0.0216  lr: 0.001  max_mem: 2172M\n",
            "[02/17 12:36:33 d2.utils.events]:  eta: 1 day, 11:50:00  iter: 2859  total_loss: 0.07709  loss_cls: 0.006832  loss_box_reg: 0.0679  time: 0.7014  data_time: 0.0263  lr: 0.001  max_mem: 2172M\n",
            "[02/17 12:36:46 d2.utils.events]:  eta: 1 day, 11:50:03  iter: 2879  total_loss: 0.06135  loss_cls: 0.00672  loss_box_reg: 0.0548  time: 0.7013  data_time: 0.0189  lr: 0.001  max_mem: 2172M\n",
            "[02/17 12:37:00 d2.utils.events]:  eta: 1 day, 11:49:39  iter: 2899  total_loss: 0.07464  loss_cls: 0.007706  loss_box_reg: 0.06688  time: 0.7012  data_time: 0.0193  lr: 0.001  max_mem: 2172M\n",
            "[02/17 12:37:14 d2.utils.events]:  eta: 1 day, 11:49:14  iter: 2919  total_loss: 0.071  loss_cls: 0.006177  loss_box_reg: 0.066  time: 0.7012  data_time: 0.0202  lr: 0.001  max_mem: 2172M\n",
            "[02/17 12:37:28 d2.utils.events]:  eta: 1 day, 11:48:39  iter: 2939  total_loss: 0.07478  loss_cls: 0.006604  loss_box_reg: 0.06626  time: 0.7012  data_time: 0.0274  lr: 0.001  max_mem: 2172M\n",
            "[02/17 12:37:42 d2.utils.events]:  eta: 1 day, 11:48:07  iter: 2959  total_loss: 0.07354  loss_cls: 0.00701  loss_box_reg: 0.06358  time: 0.7011  data_time: 0.0226  lr: 0.001  max_mem: 2172M\n",
            "[02/17 12:37:56 d2.utils.events]:  eta: 1 day, 11:48:06  iter: 2979  total_loss: 0.07717  loss_cls: 0.007419  loss_box_reg: 0.07138  time: 0.7011  data_time: 0.0190  lr: 0.001  max_mem: 2172M\n",
            "[02/17 12:38:10 d2.utils.events]:  eta: 1 day, 11:48:03  iter: 2999  total_loss: 0.08986  loss_cls: 0.008511  loss_box_reg: 0.08188  time: 0.7010  data_time: 0.0196  lr: 0.001  max_mem: 2172M\n",
            "[02/17 12:38:24 d2.utils.events]:  eta: 1 day, 11:47:48  iter: 3019  total_loss: 0.09592  loss_cls: 0.01118  loss_box_reg: 0.08539  time: 0.7010  data_time: 0.0284  lr: 0.001  max_mem: 2172M\n",
            "[02/17 12:38:37 d2.utils.events]:  eta: 1 day, 11:47:22  iter: 3039  total_loss: 0.1016  loss_cls: 0.01263  loss_box_reg: 0.08533  time: 0.7008  data_time: 0.0191  lr: 0.001  max_mem: 2172M\n",
            "[02/17 12:38:51 d2.utils.events]:  eta: 1 day, 11:47:19  iter: 3059  total_loss: 0.0798  loss_cls: 0.006945  loss_box_reg: 0.0695  time: 0.7008  data_time: 0.0157  lr: 0.001  max_mem: 2172M\n",
            "[02/17 12:39:05 d2.utils.events]:  eta: 1 day, 11:47:38  iter: 3079  total_loss: 0.08158  loss_cls: 0.005973  loss_box_reg: 0.07319  time: 0.7008  data_time: 0.0159  lr: 0.001  max_mem: 2172M\n",
            "[02/17 12:39:19 d2.utils.events]:  eta: 1 day, 11:48:52  iter: 3099  total_loss: 0.08383  loss_cls: 0.009462  loss_box_reg: 0.07304  time: 0.7008  data_time: 0.0247  lr: 0.001  max_mem: 2172M\n",
            "[02/17 12:39:33 d2.utils.events]:  eta: 1 day, 11:47:09  iter: 3119  total_loss: 0.07238  loss_cls: 0.007307  loss_box_reg: 0.06665  time: 0.7007  data_time: 0.0178  lr: 0.001  max_mem: 2172M\n",
            "[02/17 12:39:47 d2.utils.events]:  eta: 1 day, 11:47:28  iter: 3139  total_loss: 0.07558  loss_cls: 0.008357  loss_box_reg: 0.06501  time: 0.7006  data_time: 0.0186  lr: 0.001  max_mem: 2172M\n",
            "[02/17 12:40:01 d2.utils.events]:  eta: 1 day, 11:47:39  iter: 3159  total_loss: 0.07693  loss_cls: 0.006946  loss_box_reg: 0.07047  time: 0.7006  data_time: 0.0174  lr: 0.001  max_mem: 2172M\n",
            "[02/17 12:40:14 d2.utils.events]:  eta: 1 day, 11:47:12  iter: 3179  total_loss: 0.07052  loss_cls: 0.006164  loss_box_reg: 0.06472  time: 0.7005  data_time: 0.0167  lr: 0.001  max_mem: 2172M\n",
            "[02/17 12:40:28 d2.utils.events]:  eta: 1 day, 11:46:57  iter: 3199  total_loss: 0.07995  loss_cls: 0.006556  loss_box_reg: 0.075  time: 0.7005  data_time: 0.0160  lr: 0.001  max_mem: 2172M\n",
            "[02/17 12:40:42 d2.utils.events]:  eta: 1 day, 11:47:12  iter: 3219  total_loss: 0.08331  loss_cls: 0.008484  loss_box_reg: 0.06794  time: 0.7005  data_time: 0.0205  lr: 0.001  max_mem: 2172M\n",
            "[02/17 12:40:56 d2.utils.events]:  eta: 1 day, 11:46:28  iter: 3239  total_loss: 0.0743  loss_cls: 0.006724  loss_box_reg: 0.06901  time: 0.7005  data_time: 0.0221  lr: 0.001  max_mem: 2172M\n",
            "[02/17 12:41:10 d2.utils.events]:  eta: 1 day, 11:45:16  iter: 3259  total_loss: 0.07721  loss_cls: 0.007062  loss_box_reg: 0.07096  time: 0.7004  data_time: 0.0195  lr: 0.001  max_mem: 2172M\n",
            "[02/17 12:41:24 d2.utils.events]:  eta: 1 day, 11:44:52  iter: 3279  total_loss: 0.07429  loss_cls: 0.008668  loss_box_reg: 0.06579  time: 0.7004  data_time: 0.0233  lr: 0.001  max_mem: 2172M\n",
            "[02/17 12:41:38 d2.utils.events]:  eta: 1 day, 11:44:48  iter: 3299  total_loss: 0.07652  loss_cls: 0.007074  loss_box_reg: 0.07076  time: 0.7004  data_time: 0.0186  lr: 0.001  max_mem: 2172M\n",
            "[02/17 12:41:52 d2.utils.events]:  eta: 1 day, 11:44:43  iter: 3319  total_loss: 0.07724  loss_cls: 0.006501  loss_box_reg: 0.0708  time: 0.7004  data_time: 0.0182  lr: 0.001  max_mem: 2172M\n",
            "[02/17 12:42:06 d2.utils.events]:  eta: 1 day, 11:44:06  iter: 3339  total_loss: 0.1043  loss_cls: 0.00998  loss_box_reg: 0.09106  time: 0.7002  data_time: 0.0187  lr: 0.001  max_mem: 2172M\n",
            "[02/17 12:42:19 d2.utils.events]:  eta: 1 day, 11:43:44  iter: 3359  total_loss: 0.08331  loss_cls: 0.009502  loss_box_reg: 0.06966  time: 0.7002  data_time: 0.0225  lr: 0.001  max_mem: 2172M\n",
            "[02/17 12:42:34 d2.utils.events]:  eta: 1 day, 11:43:44  iter: 3379  total_loss: 0.08269  loss_cls: 0.005556  loss_box_reg: 0.07  time: 0.7002  data_time: 0.0196  lr: 0.001  max_mem: 2172M\n",
            "[02/17 12:42:48 d2.utils.events]:  eta: 1 day, 11:44:11  iter: 3399  total_loss: 0.07077  loss_cls: 0.004607  loss_box_reg: 0.06368  time: 0.7003  data_time: 0.0236  lr: 0.001  max_mem: 2172M\n",
            "[02/17 12:43:02 d2.utils.events]:  eta: 1 day, 11:44:07  iter: 3419  total_loss: 0.07997  loss_cls: 0.007746  loss_box_reg: 0.07288  time: 0.7004  data_time: 0.0211  lr: 0.001  max_mem: 2172M\n",
            "[02/17 12:43:16 d2.utils.events]:  eta: 1 day, 11:44:54  iter: 3439  total_loss: 0.07847  loss_cls: 0.005225  loss_box_reg: 0.07103  time: 0.7004  data_time: 0.0244  lr: 0.001  max_mem: 2172M\n",
            "[02/17 12:43:30 d2.utils.events]:  eta: 1 day, 11:43:38  iter: 3459  total_loss: 0.08161  loss_cls: 0.01081  loss_box_reg: 0.06903  time: 0.7004  data_time: 0.0177  lr: 0.001  max_mem: 2172M\n",
            "[02/17 12:43:44 d2.utils.events]:  eta: 1 day, 11:44:59  iter: 3479  total_loss: 0.08923  loss_cls: 0.008181  loss_box_reg: 0.08089  time: 0.7004  data_time: 0.0173  lr: 0.001  max_mem: 2172M\n",
            "[02/17 12:43:59 d2.utils.events]:  eta: 1 day, 11:45:58  iter: 3499  total_loss: 0.08678  loss_cls: 0.005835  loss_box_reg: 0.07912  time: 0.7005  data_time: 0.0199  lr: 0.001  max_mem: 2172M\n",
            "[02/17 12:44:12 d2.utils.events]:  eta: 1 day, 11:44:53  iter: 3519  total_loss: 0.06662  loss_cls: 0.004003  loss_box_reg: 0.05923  time: 0.7004  data_time: 0.0195  lr: 0.001  max_mem: 2172M\n",
            "[02/17 12:44:26 d2.utils.events]:  eta: 1 day, 11:44:41  iter: 3539  total_loss: 0.06768  loss_cls: 0.006004  loss_box_reg: 0.06102  time: 0.7004  data_time: 0.0226  lr: 0.001  max_mem: 2172M\n",
            "[02/17 12:44:40 d2.utils.events]:  eta: 1 day, 11:43:36  iter: 3559  total_loss: 0.08166  loss_cls: 0.00561  loss_box_reg: 0.07375  time: 0.7003  data_time: 0.0232  lr: 0.001  max_mem: 2172M\n",
            "[02/17 12:44:54 d2.utils.events]:  eta: 1 day, 11:43:46  iter: 3579  total_loss: 0.0788  loss_cls: 0.003234  loss_box_reg: 0.06728  time: 0.7002  data_time: 0.0209  lr: 0.001  max_mem: 2172M\n",
            "[02/17 12:45:07 d2.utils.events]:  eta: 1 day, 11:43:07  iter: 3599  total_loss: 0.07653  loss_cls: 0.005873  loss_box_reg: 0.0665  time: 0.7001  data_time: 0.0157  lr: 0.001  max_mem: 2172M\n",
            "[02/17 12:45:21 d2.utils.events]:  eta: 1 day, 11:43:17  iter: 3619  total_loss: 0.06823  loss_cls: 0.005905  loss_box_reg: 0.06357  time: 0.7001  data_time: 0.0207  lr: 0.001  max_mem: 2172M\n",
            "[02/17 12:45:35 d2.utils.events]:  eta: 1 day, 11:40:59  iter: 3639  total_loss: 0.08157  loss_cls: 0.008456  loss_box_reg: 0.07214  time: 0.7000  data_time: 0.0152  lr: 0.001  max_mem: 2172M\n",
            "[02/17 12:45:49 d2.utils.events]:  eta: 1 day, 11:41:02  iter: 3659  total_loss: 0.06932  loss_cls: 0.004555  loss_box_reg: 0.06444  time: 0.6999  data_time: 0.0189  lr: 0.001  max_mem: 2172M\n",
            "[02/17 12:46:03 d2.utils.events]:  eta: 1 day, 11:41:15  iter: 3679  total_loss: 0.08448  loss_cls: 0.007866  loss_box_reg: 0.07011  time: 0.7000  data_time: 0.0196  lr: 0.001  max_mem: 2172M\n",
            "[02/17 12:46:17 d2.utils.events]:  eta: 1 day, 11:40:15  iter: 3699  total_loss: 0.07916  loss_cls: 0.005798  loss_box_reg: 0.07479  time: 0.6999  data_time: 0.0176  lr: 0.001  max_mem: 2172M\n",
            "[02/17 12:46:31 d2.utils.events]:  eta: 1 day, 11:40:01  iter: 3719  total_loss: 0.06771  loss_cls: 0.005122  loss_box_reg: 0.06282  time: 0.6999  data_time: 0.0220  lr: 0.001  max_mem: 2172M\n",
            "[02/17 12:46:44 d2.utils.events]:  eta: 1 day, 11:40:03  iter: 3739  total_loss: 0.06264  loss_cls: 0.004138  loss_box_reg: 0.05877  time: 0.6998  data_time: 0.0247  lr: 0.001  max_mem: 2172M\n",
            "[02/17 12:46:58 d2.utils.events]:  eta: 1 day, 11:38:27  iter: 3759  total_loss: 0.08792  loss_cls: 0.008094  loss_box_reg: 0.07297  time: 0.6998  data_time: 0.0222  lr: 0.001  max_mem: 2172M\n",
            "[02/17 12:47:12 d2.utils.events]:  eta: 1 day, 11:37:21  iter: 3779  total_loss: 0.08299  loss_cls: 0.007255  loss_box_reg: 0.07354  time: 0.6997  data_time: 0.0261  lr: 0.001  max_mem: 2172M\n",
            "[02/17 12:47:26 d2.utils.events]:  eta: 1 day, 11:36:34  iter: 3799  total_loss: 0.07945  loss_cls: 0.007642  loss_box_reg: 0.06788  time: 0.6997  data_time: 0.0153  lr: 0.001  max_mem: 2172M\n",
            "[02/17 12:47:39 d2.utils.events]:  eta: 1 day, 11:36:19  iter: 3819  total_loss: 0.08322  loss_cls: 0.005724  loss_box_reg: 0.07446  time: 0.6996  data_time: 0.0210  lr: 0.001  max_mem: 2172M\n",
            "[02/17 12:47:53 d2.utils.events]:  eta: 1 day, 11:36:37  iter: 3839  total_loss: 0.08022  loss_cls: 0.007103  loss_box_reg: 0.06958  time: 0.6996  data_time: 0.0188  lr: 0.001  max_mem: 2172M\n",
            "[02/17 12:48:07 d2.utils.events]:  eta: 1 day, 11:34:21  iter: 3859  total_loss: 0.07335  loss_cls: 0.006207  loss_box_reg: 0.06589  time: 0.6994  data_time: 0.0216  lr: 0.001  max_mem: 2172M\n",
            "[02/17 12:48:21 d2.utils.events]:  eta: 1 day, 11:32:33  iter: 3879  total_loss: 0.08876  loss_cls: 0.007968  loss_box_reg: 0.07919  time: 0.6994  data_time: 0.0253  lr: 0.001  max_mem: 2172M\n",
            "[02/17 12:48:35 d2.utils.events]:  eta: 1 day, 11:34:51  iter: 3899  total_loss: 0.07975  loss_cls: 0.007076  loss_box_reg: 0.07154  time: 0.6995  data_time: 0.0272  lr: 0.001  max_mem: 2172M\n",
            "[02/17 12:48:49 d2.utils.events]:  eta: 1 day, 11:34:36  iter: 3919  total_loss: 0.08439  loss_cls: 0.005998  loss_box_reg: 0.07813  time: 0.6995  data_time: 0.0229  lr: 0.001  max_mem: 2172M\n",
            "[02/17 12:49:03 d2.utils.events]:  eta: 1 day, 11:34:52  iter: 3939  total_loss: 0.07278  loss_cls: 0.005477  loss_box_reg: 0.0647  time: 0.6995  data_time: 0.0220  lr: 0.001  max_mem: 2172M\n",
            "[02/17 12:49:17 d2.utils.events]:  eta: 1 day, 11:35:34  iter: 3959  total_loss: 0.07791  loss_cls: 0.006044  loss_box_reg: 0.06799  time: 0.6996  data_time: 0.0193  lr: 0.001  max_mem: 2172M\n",
            "[02/17 12:49:31 d2.utils.events]:  eta: 1 day, 11:34:55  iter: 3979  total_loss: 0.06722  loss_cls: 0.004363  loss_box_reg: 0.06128  time: 0.6995  data_time: 0.0241  lr: 0.001  max_mem: 2172M\n",
            "[02/17 12:49:46 d2.utils.events]:  eta: 1 day, 11:36:54  iter: 3999  total_loss: 0.08138  loss_cls: 0.006066  loss_box_reg: 0.06668  time: 0.6996  data_time: 0.0225  lr: 0.001  max_mem: 2172M\n",
            "[02/17 12:49:59 d2.utils.events]:  eta: 1 day, 11:36:28  iter: 4019  total_loss: 0.07737  loss_cls: 0.005162  loss_box_reg: 0.07046  time: 0.6996  data_time: 0.0212  lr: 0.001  max_mem: 2172M\n",
            "[02/17 12:50:13 d2.utils.events]:  eta: 1 day, 11:36:25  iter: 4039  total_loss: 0.07447  loss_cls: 0.004489  loss_box_reg: 0.06875  time: 0.6995  data_time: 0.0157  lr: 0.001  max_mem: 2172M\n",
            "[02/17 12:50:27 d2.utils.events]:  eta: 1 day, 11:36:10  iter: 4059  total_loss: 0.07893  loss_cls: 0.01026  loss_box_reg: 0.06769  time: 0.6994  data_time: 0.0204  lr: 0.001  max_mem: 2172M\n",
            "[02/17 12:50:41 d2.utils.events]:  eta: 1 day, 11:34:57  iter: 4079  total_loss: 0.08355  loss_cls: 0.006237  loss_box_reg: 0.07443  time: 0.6994  data_time: 0.0204  lr: 0.001  max_mem: 2172M\n",
            "[02/17 12:50:54 d2.utils.events]:  eta: 1 day, 11:34:01  iter: 4099  total_loss: 0.086  loss_cls: 0.008756  loss_box_reg: 0.07172  time: 0.6993  data_time: 0.0218  lr: 0.001  max_mem: 2172M\n",
            "[02/17 12:51:09 d2.utils.events]:  eta: 1 day, 11:34:57  iter: 4119  total_loss: 0.07392  loss_cls: 0.005466  loss_box_reg: 0.06866  time: 0.6994  data_time: 0.0256  lr: 0.001  max_mem: 2172M\n",
            "[02/17 12:51:23 d2.utils.events]:  eta: 1 day, 11:34:43  iter: 4139  total_loss: 0.06785  loss_cls: 0.006151  loss_box_reg: 0.05778  time: 0.6994  data_time: 0.0235  lr: 0.001  max_mem: 2172M\n",
            "[02/17 12:51:36 d2.utils.events]:  eta: 1 day, 11:33:59  iter: 4159  total_loss: 0.07507  loss_cls: 0.005142  loss_box_reg: 0.06729  time: 0.6993  data_time: 0.0241  lr: 0.001  max_mem: 2172M\n",
            "[02/17 12:51:51 d2.utils.events]:  eta: 1 day, 11:35:11  iter: 4179  total_loss: 0.0709  loss_cls: 0.006272  loss_box_reg: 0.06563  time: 0.6994  data_time: 0.0161  lr: 0.001  max_mem: 2172M\n",
            "[02/17 12:52:04 d2.utils.events]:  eta: 1 day, 11:34:56  iter: 4199  total_loss: 0.07346  loss_cls: 0.006243  loss_box_reg: 0.06834  time: 0.6993  data_time: 0.0249  lr: 0.001  max_mem: 2172M\n",
            "[02/17 12:52:18 d2.utils.events]:  eta: 1 day, 11:33:44  iter: 4219  total_loss: 0.0767  loss_cls: 0.003244  loss_box_reg: 0.06663  time: 0.6992  data_time: 0.0189  lr: 0.001  max_mem: 2172M\n",
            "[02/17 12:52:31 d2.utils.events]:  eta: 1 day, 11:33:14  iter: 4239  total_loss: 0.06222  loss_cls: 0.005388  loss_box_reg: 0.05656  time: 0.6991  data_time: 0.0189  lr: 0.001  max_mem: 2172M\n",
            "[02/17 12:52:45 d2.utils.events]:  eta: 1 day, 11:33:36  iter: 4259  total_loss: 0.08265  loss_cls: 0.007464  loss_box_reg: 0.07484  time: 0.6991  data_time: 0.0167  lr: 0.001  max_mem: 2172M\n",
            "[02/17 12:52:59 d2.utils.events]:  eta: 1 day, 11:32:31  iter: 4279  total_loss: 0.06526  loss_cls: 0.00638  loss_box_reg: 0.05933  time: 0.6990  data_time: 0.0212  lr: 0.001  max_mem: 2172M\n",
            "[02/17 12:53:13 d2.utils.events]:  eta: 1 day, 11:32:45  iter: 4299  total_loss: 0.08005  loss_cls: 0.006748  loss_box_reg: 0.06728  time: 0.6991  data_time: 0.0234  lr: 0.001  max_mem: 2172M\n",
            "[02/17 12:53:27 d2.utils.events]:  eta: 1 day, 11:31:18  iter: 4319  total_loss: 0.0808  loss_cls: 0.006739  loss_box_reg: 0.07296  time: 0.6990  data_time: 0.0167  lr: 0.001  max_mem: 2172M\n",
            "[02/17 12:53:41 d2.utils.events]:  eta: 1 day, 11:32:01  iter: 4339  total_loss: 0.08408  loss_cls: 0.006258  loss_box_reg: 0.06846  time: 0.6991  data_time: 0.0202  lr: 0.001  max_mem: 2172M\n",
            "[02/17 12:53:55 d2.utils.events]:  eta: 1 day, 11:32:23  iter: 4359  total_loss: 0.08006  loss_cls: 0.007407  loss_box_reg: 0.07059  time: 0.6990  data_time: 0.0238  lr: 0.001  max_mem: 2172M\n",
            "[02/17 12:54:09 d2.utils.events]:  eta: 1 day, 11:31:32  iter: 4379  total_loss: 0.07143  loss_cls: 0.006431  loss_box_reg: 0.06327  time: 0.6991  data_time: 0.0232  lr: 0.001  max_mem: 2172M\n",
            "[02/17 12:54:24 d2.utils.events]:  eta: 1 day, 11:31:04  iter: 4399  total_loss: 0.06892  loss_cls: 0.005219  loss_box_reg: 0.06322  time: 0.6991  data_time: 0.0200  lr: 0.001  max_mem: 2172M\n",
            "[02/17 12:54:37 d2.utils.events]:  eta: 1 day, 11:29:04  iter: 4419  total_loss: 0.0846  loss_cls: 0.007884  loss_box_reg: 0.07941  time: 0.6991  data_time: 0.0195  lr: 0.001  max_mem: 2172M\n",
            "[02/17 12:54:51 d2.utils.events]:  eta: 1 day, 11:28:38  iter: 4439  total_loss: 0.07516  loss_cls: 0.006502  loss_box_reg: 0.06921  time: 0.6990  data_time: 0.0206  lr: 0.001  max_mem: 2172M\n",
            "[02/17 12:55:05 d2.utils.events]:  eta: 1 day, 11:29:02  iter: 4459  total_loss: 0.07829  loss_cls: 0.006195  loss_box_reg: 0.0723  time: 0.6990  data_time: 0.0257  lr: 0.001  max_mem: 2172M\n",
            "[02/17 12:55:19 d2.utils.events]:  eta: 1 day, 11:29:08  iter: 4479  total_loss: 0.06907  loss_cls: 0.005288  loss_box_reg: 0.063  time: 0.6991  data_time: 0.0181  lr: 0.001  max_mem: 2172M\n",
            "[02/17 12:55:33 d2.utils.events]:  eta: 1 day, 11:26:38  iter: 4499  total_loss: 0.06558  loss_cls: 0.005629  loss_box_reg: 0.05878  time: 0.6989  data_time: 0.0188  lr: 0.001  max_mem: 2172M\n",
            "[02/17 12:55:47 d2.utils.events]:  eta: 1 day, 11:28:08  iter: 4519  total_loss: 0.06818  loss_cls: 0.004256  loss_box_reg: 0.06308  time: 0.6990  data_time: 0.0224  lr: 0.001  max_mem: 2172M\n",
            "[02/17 12:56:01 d2.utils.events]:  eta: 1 day, 11:27:53  iter: 4539  total_loss: 0.0704  loss_cls: 0.003493  loss_box_reg: 0.06593  time: 0.6990  data_time: 0.0173  lr: 0.001  max_mem: 2172M\n",
            "[02/17 12:56:14 d2.utils.events]:  eta: 1 day, 11:27:10  iter: 4559  total_loss: 0.08353  loss_cls: 0.005695  loss_box_reg: 0.07404  time: 0.6989  data_time: 0.0228  lr: 0.001  max_mem: 2172M\n",
            "[02/17 12:56:28 d2.utils.events]:  eta: 1 day, 11:27:24  iter: 4579  total_loss: 0.07588  loss_cls: 0.005867  loss_box_reg: 0.07196  time: 0.6989  data_time: 0.0196  lr: 0.001  max_mem: 2172M\n",
            "[02/17 12:56:42 d2.utils.events]:  eta: 1 day, 11:27:09  iter: 4599  total_loss: 0.07416  loss_cls: 0.005707  loss_box_reg: 0.06211  time: 0.6988  data_time: 0.0158  lr: 0.001  max_mem: 2172M\n",
            "[02/17 12:56:56 d2.utils.events]:  eta: 1 day, 11:26:55  iter: 4619  total_loss: 0.08485  loss_cls: 0.008283  loss_box_reg: 0.077  time: 0.6988  data_time: 0.0158  lr: 0.001  max_mem: 2172M\n",
            "[02/17 12:57:10 d2.utils.events]:  eta: 1 day, 11:26:12  iter: 4639  total_loss: 0.06995  loss_cls: 0.005093  loss_box_reg: 0.06551  time: 0.6987  data_time: 0.0168  lr: 0.001  max_mem: 2172M\n",
            "[02/17 12:57:23 d2.utils.events]:  eta: 1 day, 11:25:37  iter: 4659  total_loss: 0.07184  loss_cls: 0.006076  loss_box_reg: 0.06799  time: 0.6987  data_time: 0.0226  lr: 0.001  max_mem: 2172M\n",
            "[02/17 12:57:37 d2.utils.events]:  eta: 1 day, 11:24:44  iter: 4679  total_loss: 0.09079  loss_cls: 0.009119  loss_box_reg: 0.08027  time: 0.6987  data_time: 0.0190  lr: 0.001  max_mem: 2172M\n",
            "[02/17 12:57:51 d2.utils.events]:  eta: 1 day, 11:24:06  iter: 4699  total_loss: 0.07259  loss_cls: 0.005514  loss_box_reg: 0.06545  time: 0.6987  data_time: 0.0193  lr: 0.001  max_mem: 2172M\n",
            "[02/17 12:58:06 d2.utils.events]:  eta: 1 day, 11:25:14  iter: 4719  total_loss: 0.07822  loss_cls: 0.006045  loss_box_reg: 0.07346  time: 0.6988  data_time: 0.0231  lr: 0.001  max_mem: 2172M\n",
            "[02/17 12:58:20 d2.utils.events]:  eta: 1 day, 11:25:28  iter: 4739  total_loss: 0.06416  loss_cls: 0.004132  loss_box_reg: 0.06168  time: 0.6988  data_time: 0.0220  lr: 0.001  max_mem: 2172M\n",
            "[02/17 12:58:33 d2.utils.events]:  eta: 1 day, 11:24:25  iter: 4759  total_loss: 0.07567  loss_cls: 0.00625  loss_box_reg: 0.06643  time: 0.6987  data_time: 0.0186  lr: 0.001  max_mem: 2172M\n",
            "[02/17 12:58:47 d2.utils.events]:  eta: 1 day, 11:25:27  iter: 4779  total_loss: 0.08058  loss_cls: 0.005607  loss_box_reg: 0.07268  time: 0.6987  data_time: 0.0173  lr: 0.001  max_mem: 2172M\n",
            "[02/17 12:59:01 d2.utils.events]:  eta: 1 day, 11:25:26  iter: 4799  total_loss: 0.06914  loss_cls: 0.004572  loss_box_reg: 0.06104  time: 0.6987  data_time: 0.0204  lr: 0.001  max_mem: 2172M\n",
            "[02/17 12:59:15 d2.utils.events]:  eta: 1 day, 11:24:29  iter: 4819  total_loss: 0.07127  loss_cls: 0.003932  loss_box_reg: 0.06632  time: 0.6986  data_time: 0.0194  lr: 0.001  max_mem: 2172M\n",
            "[02/17 12:59:29 d2.utils.events]:  eta: 1 day, 11:23:47  iter: 4839  total_loss: 0.08024  loss_cls: 0.004629  loss_box_reg: 0.07263  time: 0.6986  data_time: 0.0167  lr: 0.001  max_mem: 2172M\n",
            "[02/17 12:59:43 d2.utils.events]:  eta: 1 day, 11:25:07  iter: 4859  total_loss: 0.06586  loss_cls: 0.004903  loss_box_reg: 0.05573  time: 0.6986  data_time: 0.0228  lr: 0.001  max_mem: 2172M\n",
            "[02/17 12:59:56 d2.utils.events]:  eta: 1 day, 11:24:52  iter: 4879  total_loss: 0.07783  loss_cls: 0.00315  loss_box_reg: 0.06978  time: 0.6985  data_time: 0.0213  lr: 0.001  max_mem: 2172M\n",
            "[02/17 13:00:10 d2.utils.events]:  eta: 1 day, 11:22:23  iter: 4899  total_loss: 0.0755  loss_cls: 0.004905  loss_box_reg: 0.06729  time: 0.6985  data_time: 0.0216  lr: 0.001  max_mem: 2172M\n",
            "[02/17 13:00:24 d2.utils.events]:  eta: 1 day, 11:21:21  iter: 4919  total_loss: 0.07061  loss_cls: 0.005442  loss_box_reg: 0.06422  time: 0.6984  data_time: 0.0176  lr: 0.001  max_mem: 2172M\n",
            "[02/17 13:00:37 d2.utils.events]:  eta: 1 day, 11:20:54  iter: 4939  total_loss: 0.06511  loss_cls: 0.003793  loss_box_reg: 0.06039  time: 0.6983  data_time: 0.0207  lr: 0.001  max_mem: 2172M\n",
            "[02/17 13:00:52 d2.utils.events]:  eta: 1 day, 11:20:03  iter: 4959  total_loss: 0.04837  loss_cls: 0.002297  loss_box_reg: 0.04669  time: 0.6984  data_time: 0.0218  lr: 0.001  max_mem: 2172M\n",
            "[02/17 13:01:06 d2.utils.events]:  eta: 1 day, 11:20:25  iter: 4979  total_loss: 0.06413  loss_cls: 0.003732  loss_box_reg: 0.06192  time: 0.6985  data_time: 0.0235  lr: 0.001  max_mem: 2172M\n",
            "[02/17 13:01:20 d2.utils.events]:  eta: 1 day, 11:19:51  iter: 4999  total_loss: 0.06428  loss_cls: 0.003345  loss_box_reg: 0.06113  time: 0.6985  data_time: 0.0223  lr: 0.001  max_mem: 2172M\n",
            "[02/17 13:01:34 d2.utils.events]:  eta: 1 day, 11:16:13  iter: 5019  total_loss: 0.07392  loss_cls: 0.003879  loss_box_reg: 0.06984  time: 0.6985  data_time: 0.0204  lr: 0.001  max_mem: 2172M\n",
            "[02/17 13:01:48 d2.utils.events]:  eta: 1 day, 11:18:15  iter: 5039  total_loss: 0.07749  loss_cls: 0.003589  loss_box_reg: 0.07447  time: 0.6985  data_time: 0.0223  lr: 0.001  max_mem: 2172M\n",
            "[02/17 13:02:02 d2.utils.events]:  eta: 1 day, 10:45:19  iter: 5059  total_loss: 0.07643  loss_cls: 0.004873  loss_box_reg: 0.07041  time: 0.6984  data_time: 0.0226  lr: 0.001  max_mem: 2172M\n",
            "[02/17 13:02:15 d2.utils.events]:  eta: 1 day, 10:01:02  iter: 5079  total_loss: 0.07293  loss_cls: 0.007212  loss_box_reg: 0.06644  time: 0.6984  data_time: 0.0181  lr: 0.001  max_mem: 2172M\n",
            "[02/17 13:02:29 d2.utils.events]:  eta: 1 day, 10:05:45  iter: 5099  total_loss: 0.07516  loss_cls: 0.008674  loss_box_reg: 0.06466  time: 0.6984  data_time: 0.0188  lr: 0.001  max_mem: 2172M\n",
            "[02/17 13:02:44 d2.utils.events]:  eta: 1 day, 9:55:48  iter: 5119  total_loss: 0.08267  loss_cls: 0.007475  loss_box_reg: 0.07052  time: 0.6984  data_time: 0.0209  lr: 0.001  max_mem: 2172M\n",
            "[02/17 13:02:57 d2.utils.events]:  eta: 1 day, 9:49:00  iter: 5139  total_loss: 0.07203  loss_cls: 0.004697  loss_box_reg: 0.06226  time: 0.6984  data_time: 0.0207  lr: 0.001  max_mem: 2172M\n",
            "[02/17 13:03:12 d2.utils.events]:  eta: 1 day, 10:16:42  iter: 5159  total_loss: 0.08285  loss_cls: 0.004289  loss_box_reg: 0.0722  time: 0.6984  data_time: 0.0217  lr: 0.001  max_mem: 2172M\n",
            "[02/17 13:03:26 d2.utils.events]:  eta: 1 day, 9:50:39  iter: 5179  total_loss: 0.07847  loss_cls: 0.005837  loss_box_reg: 0.06919  time: 0.6984  data_time: 0.0176  lr: 0.001  max_mem: 2172M\n",
            "[02/17 13:03:39 d2.utils.events]:  eta: 1 day, 10:04:35  iter: 5199  total_loss: 0.06978  loss_cls: 0.003669  loss_box_reg: 0.06703  time: 0.6984  data_time: 0.0170  lr: 0.001  max_mem: 2172M\n",
            "[02/17 13:03:53 d2.utils.events]:  eta: 1 day, 10:04:21  iter: 5219  total_loss: 0.06683  loss_cls: 0.005445  loss_box_reg: 0.05755  time: 0.6983  data_time: 0.0163  lr: 0.001  max_mem: 2172M\n",
            "[02/17 13:04:07 d2.utils.events]:  eta: 1 day, 11:15:50  iter: 5239  total_loss: 0.07963  loss_cls: 0.004972  loss_box_reg: 0.07628  time: 0.6983  data_time: 0.0188  lr: 0.001  max_mem: 2172M\n",
            "[02/17 13:04:21 d2.utils.events]:  eta: 1 day, 10:44:36  iter: 5259  total_loss: 0.07589  loss_cls: 0.00478  loss_box_reg: 0.06729  time: 0.6983  data_time: 0.0173  lr: 0.001  max_mem: 2172M\n",
            "[02/17 13:04:35 d2.utils.events]:  eta: 1 day, 11:16:10  iter: 5279  total_loss: 0.08653  loss_cls: 0.008698  loss_box_reg: 0.07347  time: 0.6983  data_time: 0.0224  lr: 0.001  max_mem: 2172M\n",
            "[02/17 13:04:48 d2.utils.events]:  eta: 1 day, 10:15:03  iter: 5299  total_loss: 0.07195  loss_cls: 0.004877  loss_box_reg: 0.06622  time: 0.6982  data_time: 0.0207  lr: 0.001  max_mem: 2172M\n",
            "[02/17 13:05:02 d2.utils.events]:  eta: 1 day, 9:58:00  iter: 5319  total_loss: 0.07741  loss_cls: 0.006018  loss_box_reg: 0.06957  time: 0.6982  data_time: 0.0203  lr: 0.001  max_mem: 2172M\n",
            "[02/17 13:05:16 d2.utils.events]:  eta: 1 day, 10:06:39  iter: 5339  total_loss: 0.06312  loss_cls: 0.005121  loss_box_reg: 0.0557  time: 0.6982  data_time: 0.0240  lr: 0.001  max_mem: 2172M\n",
            "[02/17 13:05:31 d2.utils.events]:  eta: 1 day, 10:43:25  iter: 5359  total_loss: 0.07237  loss_cls: 0.005594  loss_box_reg: 0.06715  time: 0.6983  data_time: 0.0210  lr: 0.001  max_mem: 2172M\n",
            "[02/17 13:05:44 d2.utils.events]:  eta: 1 day, 9:57:18  iter: 5379  total_loss: 0.06466  loss_cls: 0.004969  loss_box_reg: 0.05818  time: 0.6982  data_time: 0.0192  lr: 0.001  max_mem: 2172M\n",
            "[02/17 13:05:58 d2.utils.events]:  eta: 1 day, 9:32:43  iter: 5399  total_loss: 0.07158  loss_cls: 0.005549  loss_box_reg: 0.06201  time: 0.6981  data_time: 0.0198  lr: 0.001  max_mem: 2172M\n",
            "[02/17 13:06:12 d2.utils.events]:  eta: 1 day, 9:32:29  iter: 5419  total_loss: 0.06505  loss_cls: 0.003134  loss_box_reg: 0.06074  time: 0.6981  data_time: 0.0227  lr: 0.001  max_mem: 2172M\n",
            "[02/17 13:06:26 d2.utils.events]:  eta: 1 day, 9:42:07  iter: 5439  total_loss: 0.05685  loss_cls: 0.002783  loss_box_reg: 0.05198  time: 0.6982  data_time: 0.0252  lr: 0.001  max_mem: 2172M\n",
            "[02/17 13:06:40 d2.utils.events]:  eta: 1 day, 9:39:10  iter: 5459  total_loss: 0.06533  loss_cls: 0.003647  loss_box_reg: 0.05863  time: 0.6981  data_time: 0.0194  lr: 0.001  max_mem: 2172M\n",
            "[02/17 13:06:54 d2.utils.events]:  eta: 1 day, 9:36:25  iter: 5479  total_loss: 0.06361  loss_cls: 0.004697  loss_box_reg: 0.05809  time: 0.6982  data_time: 0.0250  lr: 0.001  max_mem: 2172M\n",
            "[02/17 13:07:08 d2.utils.events]:  eta: 1 day, 9:41:26  iter: 5499  total_loss: 0.06285  loss_cls: 0.002978  loss_box_reg: 0.05496  time: 0.6982  data_time: 0.0236  lr: 0.001  max_mem: 2172M\n",
            "[02/17 13:07:22 d2.utils.events]:  eta: 1 day, 9:41:12  iter: 5519  total_loss: 0.06597  loss_cls: 0.004131  loss_box_reg: 0.06082  time: 0.6983  data_time: 0.0260  lr: 0.001  max_mem: 2172M\n",
            "[02/17 13:07:36 d2.utils.events]:  eta: 1 day, 9:39:17  iter: 5539  total_loss: 0.06185  loss_cls: 0.00301  loss_box_reg: 0.05655  time: 0.6983  data_time: 0.0225  lr: 0.001  max_mem: 2172M\n",
            "[02/17 13:07:50 d2.utils.events]:  eta: 1 day, 9:55:12  iter: 5559  total_loss: 0.06974  loss_cls: 0.00513  loss_box_reg: 0.06268  time: 0.6983  data_time: 0.0228  lr: 0.001  max_mem: 2172M\n",
            "[02/17 13:08:04 d2.utils.events]:  eta: 1 day, 9:54:58  iter: 5579  total_loss: 0.0686  loss_cls: 0.004269  loss_box_reg: 0.06158  time: 0.6982  data_time: 0.0247  lr: 0.001  max_mem: 2172M\n",
            "[02/17 13:08:18 d2.utils.events]:  eta: 1 day, 9:54:44  iter: 5599  total_loss: 0.08734  loss_cls: 0.005044  loss_box_reg: 0.07372  time: 0.6982  data_time: 0.0293  lr: 0.001  max_mem: 2172M\n",
            "[02/17 13:08:32 d2.utils.events]:  eta: 1 day, 10:02:35  iter: 5619  total_loss: 0.07916  loss_cls: 0.007498  loss_box_reg: 0.06833  time: 0.6982  data_time: 0.0248  lr: 0.001  max_mem: 2172M\n",
            "[02/17 13:08:46 d2.utils.events]:  eta: 1 day, 10:42:35  iter: 5639  total_loss: 0.07432  loss_cls: 0.005928  loss_box_reg: 0.06525  time: 0.6982  data_time: 0.0181  lr: 0.001  max_mem: 2172M\n",
            "[02/17 13:09:00 d2.utils.events]:  eta: 1 day, 11:12:00  iter: 5659  total_loss: 0.07601  loss_cls: 0.004619  loss_box_reg: 0.07222  time: 0.6982  data_time: 0.0210  lr: 0.001  max_mem: 2172M\n",
            "[02/17 13:09:14 d2.utils.events]:  eta: 1 day, 11:09:39  iter: 5679  total_loss: 0.07879  loss_cls: 0.005947  loss_box_reg: 0.07164  time: 0.6982  data_time: 0.0259  lr: 0.001  max_mem: 2172M\n",
            "[02/17 13:09:28 d2.utils.events]:  eta: 1 day, 11:11:53  iter: 5699  total_loss: 0.07278  loss_cls: 0.008003  loss_box_reg: 0.06692  time: 0.6982  data_time: 0.0170  lr: 0.001  max_mem: 2172M\n",
            "[02/17 13:09:42 d2.utils.events]:  eta: 1 day, 10:41:38  iter: 5719  total_loss: 0.06929  loss_cls: 0.004811  loss_box_reg: 0.06443  time: 0.6982  data_time: 0.0199  lr: 0.001  max_mem: 2172M\n",
            "[02/17 13:09:55 d2.utils.events]:  eta: 1 day, 9:45:12  iter: 5739  total_loss: 0.07136  loss_cls: 0.00702  loss_box_reg: 0.06564  time: 0.6981  data_time: 0.0174  lr: 0.001  max_mem: 2172M\n",
            "[02/17 13:10:09 d2.utils.events]:  eta: 1 day, 10:09:48  iter: 5759  total_loss: 0.07162  loss_cls: 0.004958  loss_box_reg: 0.06478  time: 0.6981  data_time: 0.0210  lr: 0.001  max_mem: 2172M\n",
            "[02/17 13:10:23 d2.utils.events]:  eta: 1 day, 10:13:22  iter: 5779  total_loss: 0.06261  loss_cls: 0.00571  loss_box_reg: 0.05693  time: 0.6981  data_time: 0.0211  lr: 0.001  max_mem: 2172M\n",
            "[02/17 13:10:37 d2.utils.events]:  eta: 1 day, 10:40:40  iter: 5799  total_loss: 0.08771  loss_cls: 0.006158  loss_box_reg: 0.07023  time: 0.6981  data_time: 0.0185  lr: 0.001  max_mem: 2172M\n",
            "[02/17 13:10:51 d2.utils.events]:  eta: 1 day, 11:07:32  iter: 5819  total_loss: 0.06766  loss_cls: 0.005062  loss_box_reg: 0.06329  time: 0.6981  data_time: 0.0148  lr: 0.001  max_mem: 2172M\n",
            "[02/17 13:11:05 d2.utils.events]:  eta: 1 day, 11:08:36  iter: 5839  total_loss: 0.07113  loss_cls: 0.004419  loss_box_reg: 0.06744  time: 0.6981  data_time: 0.0176  lr: 0.001  max_mem: 2172M\n",
            "[02/17 13:11:19 d2.utils.events]:  eta: 1 day, 11:10:27  iter: 5859  total_loss: 0.06531  loss_cls: 0.004964  loss_box_reg: 0.06091  time: 0.6982  data_time: 0.0232  lr: 0.001  max_mem: 2172M\n",
            "[02/17 13:11:33 d2.utils.events]:  eta: 1 day, 11:09:00  iter: 5879  total_loss: 0.0659  loss_cls: 0.005333  loss_box_reg: 0.05857  time: 0.6982  data_time: 0.0243  lr: 0.001  max_mem: 2172M\n",
            "[02/17 13:11:47 d2.utils.events]:  eta: 1 day, 11:08:45  iter: 5899  total_loss: 0.0642  loss_cls: 0.004324  loss_box_reg: 0.05844  time: 0.6981  data_time: 0.0262  lr: 0.001  max_mem: 2172M\n",
            "[02/17 13:12:01 d2.utils.events]:  eta: 1 day, 11:11:25  iter: 5919  total_loss: 0.063  loss_cls: 0.004049  loss_box_reg: 0.05678  time: 0.6982  data_time: 0.0236  lr: 0.001  max_mem: 2172M\n",
            "[02/17 13:12:15 d2.utils.events]:  eta: 1 day, 11:10:51  iter: 5939  total_loss: 0.06261  loss_cls: 0.003855  loss_box_reg: 0.05946  time: 0.6982  data_time: 0.0227  lr: 0.001  max_mem: 2172M\n",
            "[02/17 13:12:29 d2.utils.events]:  eta: 1 day, 11:08:01  iter: 5959  total_loss: 0.068  loss_cls: 0.002858  loss_box_reg: 0.06491  time: 0.6981  data_time: 0.0251  lr: 0.001  max_mem: 2172M\n",
            "[02/17 13:12:43 d2.utils.events]:  eta: 1 day, 11:09:00  iter: 5979  total_loss: 0.0726  loss_cls: 0.005317  loss_box_reg: 0.06441  time: 0.6982  data_time: 0.0202  lr: 0.001  max_mem: 2172M\n",
            "[02/17 13:12:58 d2.utils.events]:  eta: 1 day, 11:09:42  iter: 5999  total_loss: 0.07094  loss_cls: 0.003346  loss_box_reg: 0.06733  time: 0.6983  data_time: 0.0234  lr: 0.001  max_mem: 2172M\n",
            "[02/17 13:13:12 d2.utils.events]:  eta: 1 day, 11:10:12  iter: 6019  total_loss: 0.06471  loss_cls: 0.002807  loss_box_reg: 0.05746  time: 0.6983  data_time: 0.0244  lr: 0.001  max_mem: 2172M\n",
            "[02/17 13:13:26 d2.utils.events]:  eta: 1 day, 11:09:38  iter: 6039  total_loss: 0.05408  loss_cls: 0.002751  loss_box_reg: 0.05113  time: 0.6983  data_time: 0.0232  lr: 0.001  max_mem: 2172M\n",
            "[02/17 13:13:39 d2.utils.events]:  eta: 1 day, 11:09:24  iter: 6059  total_loss: 0.06762  loss_cls: 0.005952  loss_box_reg: 0.06539  time: 0.6982  data_time: 0.0209  lr: 0.001  max_mem: 2172M\n",
            "[02/17 13:13:53 d2.utils.events]:  eta: 1 day, 11:10:00  iter: 6079  total_loss: 0.07189  loss_cls: 0.004399  loss_box_reg: 0.06536  time: 0.6982  data_time: 0.0177  lr: 0.001  max_mem: 2172M\n",
            "[02/17 13:14:07 d2.utils.events]:  eta: 1 day, 11:09:46  iter: 6099  total_loss: 0.06153  loss_cls: 0.003159  loss_box_reg: 0.05769  time: 0.6982  data_time: 0.0212  lr: 0.001  max_mem: 2172M\n",
            "[02/17 13:14:21 d2.utils.events]:  eta: 1 day, 11:09:00  iter: 6119  total_loss: 0.06872  loss_cls: 0.004723  loss_box_reg: 0.06259  time: 0.6982  data_time: 0.0158  lr: 0.001  max_mem: 2172M\n",
            "[02/17 13:14:35 d2.utils.events]:  eta: 1 day, 11:04:58  iter: 6139  total_loss: 0.06144  loss_cls: 0.003852  loss_box_reg: 0.05831  time: 0.6981  data_time: 0.0208  lr: 0.001  max_mem: 2172M\n",
            "[02/17 13:14:49 d2.utils.events]:  eta: 1 day, 11:06:07  iter: 6159  total_loss: 0.06822  loss_cls: 0.005026  loss_box_reg: 0.06336  time: 0.6981  data_time: 0.0195  lr: 0.001  max_mem: 2172M\n",
            "[02/17 13:15:02 d2.utils.events]:  eta: 1 day, 11:04:29  iter: 6179  total_loss: 0.07389  loss_cls: 0.004393  loss_box_reg: 0.06819  time: 0.6981  data_time: 0.0179  lr: 0.001  max_mem: 2172M\n",
            "[02/17 13:15:16 d2.utils.events]:  eta: 1 day, 11:05:26  iter: 6199  total_loss: 0.06808  loss_cls: 0.003973  loss_box_reg: 0.06506  time: 0.6981  data_time: 0.0221  lr: 0.001  max_mem: 2172M\n",
            "[02/17 13:15:31 d2.utils.events]:  eta: 1 day, 11:10:46  iter: 6219  total_loss: 0.06436  loss_cls: 0.006399  loss_box_reg: 0.05518  time: 0.6981  data_time: 0.0174  lr: 0.001  max_mem: 2172M\n",
            "[02/17 13:15:45 d2.utils.events]:  eta: 1 day, 11:09:21  iter: 6239  total_loss: 0.0624  loss_cls: 0.003084  loss_box_reg: 0.05894  time: 0.6982  data_time: 0.0222  lr: 0.001  max_mem: 2172M\n",
            "[02/17 13:15:59 d2.utils.events]:  eta: 1 day, 11:09:06  iter: 6259  total_loss: 0.07309  loss_cls: 0.003343  loss_box_reg: 0.06954  time: 0.6981  data_time: 0.0149  lr: 0.001  max_mem: 2172M\n",
            "[02/17 13:16:13 d2.utils.events]:  eta: 1 day, 11:10:08  iter: 6279  total_loss: 0.07353  loss_cls: 0.003017  loss_box_reg: 0.06702  time: 0.6981  data_time: 0.0212  lr: 0.001  max_mem: 2172M\n",
            "[02/17 13:16:26 d2.utils.events]:  eta: 1 day, 11:06:03  iter: 6299  total_loss: 0.0679  loss_cls: 0.005048  loss_box_reg: 0.05932  time: 0.6980  data_time: 0.0215  lr: 0.001  max_mem: 2172M\n",
            "[02/17 13:16:40 d2.utils.events]:  eta: 1 day, 11:09:39  iter: 6319  total_loss: 0.07202  loss_cls: 0.004948  loss_box_reg: 0.06664  time: 0.6980  data_time: 0.0151  lr: 0.001  max_mem: 2172M\n",
            "[02/17 13:16:53 d2.utils.events]:  eta: 1 day, 11:05:23  iter: 6339  total_loss: 0.06649  loss_cls: 0.003342  loss_box_reg: 0.06397  time: 0.6980  data_time: 0.0190  lr: 0.001  max_mem: 2172M\n",
            "[02/17 13:17:07 d2.utils.events]:  eta: 1 day, 10:59:47  iter: 6359  total_loss: 0.07062  loss_cls: 0.005435  loss_box_reg: 0.06341  time: 0.6979  data_time: 0.0180  lr: 0.001  max_mem: 2172M\n",
            "[02/17 13:17:21 d2.utils.events]:  eta: 1 day, 11:04:54  iter: 6379  total_loss: 0.07596  loss_cls: 0.003756  loss_box_reg: 0.07221  time: 0.6980  data_time: 0.0213  lr: 0.001  max_mem: 2172M\n",
            "[02/17 13:17:35 d2.utils.events]:  eta: 1 day, 11:06:15  iter: 6399  total_loss: 0.06513  loss_cls: 0.002633  loss_box_reg: 0.06315  time: 0.6979  data_time: 0.0210  lr: 0.001  max_mem: 2172M\n",
            "[02/17 13:17:49 d2.utils.events]:  eta: 1 day, 11:06:00  iter: 6419  total_loss: 0.06749  loss_cls: 0.005739  loss_box_reg: 0.06182  time: 0.6979  data_time: 0.0151  lr: 0.001  max_mem: 2172M\n",
            "[02/17 13:18:02 d2.utils.events]:  eta: 1 day, 11:00:57  iter: 6439  total_loss: 0.06308  loss_cls: 0.004309  loss_box_reg: 0.05733  time: 0.6978  data_time: 0.0151  lr: 0.001  max_mem: 2172M\n",
            "[02/17 13:18:16 d2.utils.events]:  eta: 1 day, 10:58:35  iter: 6459  total_loss: 0.06803  loss_cls: 0.004467  loss_box_reg: 0.05937  time: 0.6977  data_time: 0.0211  lr: 0.001  max_mem: 2172M\n",
            "[02/17 13:18:30 d2.utils.events]:  eta: 1 day, 10:58:20  iter: 6479  total_loss: 0.07243  loss_cls: 0.005349  loss_box_reg: 0.06628  time: 0.6977  data_time: 0.0156  lr: 0.001  max_mem: 2172M\n",
            "[02/17 13:18:44 d2.utils.events]:  eta: 1 day, 10:56:15  iter: 6499  total_loss: 0.07385  loss_cls: 0.006628  loss_box_reg: 0.06147  time: 0.6977  data_time: 0.0232  lr: 0.001  max_mem: 2172M\n",
            "[02/17 13:18:58 d2.utils.events]:  eta: 1 day, 10:30:40  iter: 6519  total_loss: 0.06592  loss_cls: 0.006481  loss_box_reg: 0.05879  time: 0.6978  data_time: 0.0225  lr: 0.001  max_mem: 2172M\n",
            "[02/17 13:19:12 d2.utils.events]:  eta: 1 day, 10:53:48  iter: 6539  total_loss: 0.07774  loss_cls: 0.004761  loss_box_reg: 0.0653  time: 0.6978  data_time: 0.0222  lr: 0.001  max_mem: 2172M\n",
            "[02/17 13:19:26 d2.utils.events]:  eta: 1 day, 10:55:31  iter: 6559  total_loss: 0.07138  loss_cls: 0.006154  loss_box_reg: 0.06075  time: 0.6978  data_time: 0.0221  lr: 0.001  max_mem: 2172M\n",
            "[02/17 13:19:40 d2.utils.events]:  eta: 1 day, 10:53:19  iter: 6579  total_loss: 0.07442  loss_cls: 0.005809  loss_box_reg: 0.06565  time: 0.6978  data_time: 0.0240  lr: 0.001  max_mem: 2172M\n",
            "[02/17 13:19:54 d2.utils.events]:  eta: 1 day, 10:59:01  iter: 6599  total_loss: 0.07419  loss_cls: 0.004546  loss_box_reg: 0.06826  time: 0.6978  data_time: 0.0233  lr: 0.001  max_mem: 2172M\n",
            "[02/17 13:20:08 d2.utils.events]:  eta: 1 day, 10:58:46  iter: 6619  total_loss: 0.07336  loss_cls: 0.004796  loss_box_reg: 0.06592  time: 0.6978  data_time: 0.0239  lr: 0.001  max_mem: 2172M\n",
            "[02/17 13:20:22 d2.utils.events]:  eta: 1 day, 10:58:32  iter: 6639  total_loss: 0.06079  loss_cls: 0.004046  loss_box_reg: 0.05525  time: 0.6978  data_time: 0.0231  lr: 0.001  max_mem: 2172M\n",
            "[02/17 13:20:36 d2.utils.events]:  eta: 1 day, 10:52:21  iter: 6659  total_loss: 0.07029  loss_cls: 0.003531  loss_box_reg: 0.05969  time: 0.6978  data_time: 0.0223  lr: 0.001  max_mem: 2172M\n",
            "[02/17 13:20:50 d2.utils.events]:  eta: 1 day, 10:54:10  iter: 6679  total_loss: 0.07057  loss_cls: 0.005363  loss_box_reg: 0.06731  time: 0.6978  data_time: 0.0249  lr: 0.001  max_mem: 2172M\n",
            "[02/17 13:21:04 d2.utils.events]:  eta: 1 day, 10:28:31  iter: 6699  total_loss: 0.06856  loss_cls: 0.00423  loss_box_reg: 0.06488  time: 0.6978  data_time: 0.0183  lr: 0.001  max_mem: 2172M\n",
            "[02/17 13:21:18 d2.utils.events]:  eta: 1 day, 10:58:10  iter: 6719  total_loss: 0.06816  loss_cls: 0.002924  loss_box_reg: 0.0623  time: 0.6978  data_time: 0.0209  lr: 0.001  max_mem: 2172M\n",
            "[02/17 13:21:32 d2.utils.events]:  eta: 1 day, 11:01:52  iter: 6739  total_loss: 0.06724  loss_cls: 0.002929  loss_box_reg: 0.06463  time: 0.6979  data_time: 0.0198  lr: 0.001  max_mem: 2172M\n",
            "[02/17 13:21:46 d2.utils.events]:  eta: 1 day, 11:02:33  iter: 6759  total_loss: 0.05971  loss_cls: 0.004062  loss_box_reg: 0.05546  time: 0.6979  data_time: 0.0218  lr: 0.001  max_mem: 2172M\n",
            "[02/17 13:22:00 d2.utils.events]:  eta: 1 day, 10:59:51  iter: 6779  total_loss: 0.06613  loss_cls: 0.005461  loss_box_reg: 0.05742  time: 0.6978  data_time: 0.0160  lr: 0.001  max_mem: 2172M\n",
            "[02/17 13:22:14 d2.utils.events]:  eta: 1 day, 11:01:08  iter: 6799  total_loss: 0.06299  loss_cls: 0.00249  loss_box_reg: 0.05742  time: 0.6979  data_time: 0.0196  lr: 0.001  max_mem: 2172M\n",
            "[02/17 13:22:28 d2.utils.events]:  eta: 1 day, 10:58:49  iter: 6819  total_loss: 0.06475  loss_cls: 0.003112  loss_box_reg: 0.06028  time: 0.6978  data_time: 0.0191  lr: 0.001  max_mem: 2172M\n",
            "[02/17 13:22:42 d2.utils.events]:  eta: 1 day, 10:54:35  iter: 6839  total_loss: 0.05744  loss_cls: 0.003535  loss_box_reg: 0.05208  time: 0.6978  data_time: 0.0236  lr: 0.001  max_mem: 2172M\n",
            "[02/17 13:22:55 d2.utils.events]:  eta: 1 day, 10:00:05  iter: 6859  total_loss: 0.06827  loss_cls: 0.003691  loss_box_reg: 0.06318  time: 0.6978  data_time: 0.0200  lr: 0.001  max_mem: 2172M\n",
            "[02/17 13:23:09 d2.utils.events]:  eta: 1 day, 10:48:49  iter: 6879  total_loss: 0.06721  loss_cls: 0.002662  loss_box_reg: 0.0616  time: 0.6978  data_time: 0.0174  lr: 0.001  max_mem: 2172M\n",
            "[02/17 13:23:23 d2.utils.events]:  eta: 1 day, 10:51:07  iter: 6899  total_loss: 0.05345  loss_cls: 0.002697  loss_box_reg: 0.05033  time: 0.6978  data_time: 0.0224  lr: 0.001  max_mem: 2172M\n",
            "[02/17 13:23:37 d2.utils.events]:  eta: 1 day, 10:25:42  iter: 6919  total_loss: 0.07358  loss_cls: 0.003005  loss_box_reg: 0.06446  time: 0.6978  data_time: 0.0222  lr: 0.001  max_mem: 2172M\n",
            "[02/17 13:23:51 d2.utils.events]:  eta: 1 day, 10:48:58  iter: 6939  total_loss: 0.06057  loss_cls: 0.004277  loss_box_reg: 0.05623  time: 0.6978  data_time: 0.0270  lr: 0.001  max_mem: 2172M\n",
            "[02/17 13:24:05 d2.utils.events]:  eta: 1 day, 10:53:08  iter: 6959  total_loss: 0.07248  loss_cls: 0.00341  loss_box_reg: 0.06151  time: 0.6978  data_time: 0.0194  lr: 0.001  max_mem: 2172M\n",
            "[02/17 13:24:20 d2.utils.events]:  eta: 1 day, 10:52:54  iter: 6979  total_loss: 0.06935  loss_cls: 0.004064  loss_box_reg: 0.06109  time: 0.6978  data_time: 0.0265  lr: 0.001  max_mem: 2172M\n",
            "[02/17 13:24:33 d2.utils.events]:  eta: 1 day, 9:58:26  iter: 6999  total_loss: 0.06588  loss_cls: 0.004298  loss_box_reg: 0.05932  time: 0.6978  data_time: 0.0237  lr: 0.001  max_mem: 2172M\n",
            "[02/17 13:24:47 d2.utils.events]:  eta: 1 day, 9:48:35  iter: 7019  total_loss: 0.07855  loss_cls: 0.004413  loss_box_reg: 0.06752  time: 0.6978  data_time: 0.0150  lr: 0.001  max_mem: 2172M\n",
            "[02/17 13:25:01 d2.utils.events]:  eta: 1 day, 10:52:10  iter: 7039  total_loss: 0.07573  loss_cls: 0.005208  loss_box_reg: 0.06641  time: 0.6978  data_time: 0.0250  lr: 0.001  max_mem: 2172M\n",
            "[02/17 13:25:15 d2.utils.events]:  eta: 1 day, 10:53:40  iter: 7059  total_loss: 0.0824  loss_cls: 0.00542  loss_box_reg: 0.0728  time: 0.6978  data_time: 0.0178  lr: 0.001  max_mem: 2172M\n",
            "[02/17 13:25:29 d2.utils.events]:  eta: 1 day, 10:53:55  iter: 7079  total_loss: 0.06154  loss_cls: 0.003185  loss_box_reg: 0.05806  time: 0.6978  data_time: 0.0185  lr: 0.001  max_mem: 2172M\n",
            "[02/17 13:25:43 d2.utils.events]:  eta: 1 day, 10:48:42  iter: 7099  total_loss: 0.06826  loss_cls: 0.00437  loss_box_reg: 0.06155  time: 0.6977  data_time: 0.0163  lr: 0.001  max_mem: 2172M\n",
            "[02/17 13:25:56 d2.utils.events]:  eta: 1 day, 10:51:12  iter: 7119  total_loss: 0.06521  loss_cls: 0.004404  loss_box_reg: 0.05607  time: 0.6977  data_time: 0.0175  lr: 0.001  max_mem: 2172M\n",
            "[02/17 13:26:10 d2.utils.events]:  eta: 1 day, 10:54:12  iter: 7139  total_loss: 0.06203  loss_cls: 0.002865  loss_box_reg: 0.05865  time: 0.6977  data_time: 0.0184  lr: 0.001  max_mem: 2172M\n",
            "[02/17 13:26:24 d2.utils.events]:  eta: 1 day, 10:53:15  iter: 7159  total_loss: 0.06541  loss_cls: 0.00337  loss_box_reg: 0.05534  time: 0.6977  data_time: 0.0220  lr: 0.001  max_mem: 2172M\n",
            "[02/17 13:26:38 d2.utils.events]:  eta: 1 day, 10:54:21  iter: 7179  total_loss: 0.05518  loss_cls: 0.002313  loss_box_reg: 0.05312  time: 0.6977  data_time: 0.0221  lr: 0.001  max_mem: 2172M\n",
            "[02/17 13:26:52 d2.utils.events]:  eta: 1 day, 10:52:46  iter: 7199  total_loss: 0.0708  loss_cls: 0.003799  loss_box_reg: 0.06504  time: 0.6977  data_time: 0.0226  lr: 0.001  max_mem: 2172M\n",
            "[02/17 13:27:07 d2.utils.events]:  eta: 1 day, 10:52:32  iter: 7219  total_loss: 0.07029  loss_cls: 0.002937  loss_box_reg: 0.06691  time: 0.6978  data_time: 0.0218  lr: 0.001  max_mem: 2172M\n",
            "[02/17 13:27:21 d2.utils.events]:  eta: 1 day, 10:52:59  iter: 7239  total_loss: 0.08346  loss_cls: 0.006183  loss_box_reg: 0.07596  time: 0.6978  data_time: 0.0200  lr: 0.001  max_mem: 2172M\n",
            "[02/17 13:27:35 d2.utils.events]:  eta: 1 day, 10:52:03  iter: 7259  total_loss: 0.05654  loss_cls: 0.004898  loss_box_reg: 0.0509  time: 0.6978  data_time: 0.0214  lr: 0.001  max_mem: 2172M\n",
            "[02/17 13:27:48 d2.utils.events]:  eta: 1 day, 10:51:30  iter: 7279  total_loss: 0.06967  loss_cls: 0.002639  loss_box_reg: 0.06587  time: 0.6978  data_time: 0.0218  lr: 0.001  max_mem: 2172M\n",
            "[02/17 13:28:02 d2.utils.events]:  eta: 1 day, 10:52:15  iter: 7299  total_loss: 0.07722  loss_cls: 0.004264  loss_box_reg: 0.07177  time: 0.6977  data_time: 0.0244  lr: 0.001  max_mem: 2172M\n",
            "[02/17 13:28:16 d2.utils.events]:  eta: 1 day, 10:53:34  iter: 7319  total_loss: 0.06853  loss_cls: 0.004099  loss_box_reg: 0.06634  time: 0.6977  data_time: 0.0149  lr: 0.001  max_mem: 2172M\n",
            "[02/17 13:28:30 d2.utils.events]:  eta: 1 day, 10:55:35  iter: 7339  total_loss: 0.06339  loss_cls: 0.00222  loss_box_reg: 0.06104  time: 0.6977  data_time: 0.0217  lr: 0.001  max_mem: 2172M\n",
            "[02/17 13:28:44 d2.utils.events]:  eta: 1 day, 10:55:01  iter: 7359  total_loss: 0.07225  loss_cls: 0.006357  loss_box_reg: 0.06721  time: 0.6977  data_time: 0.0201  lr: 0.001  max_mem: 2172M\n",
            "[02/17 13:28:58 d2.utils.events]:  eta: 1 day, 10:51:56  iter: 7379  total_loss: 0.06619  loss_cls: 0.005222  loss_box_reg: 0.06159  time: 0.6977  data_time: 0.0192  lr: 0.001  max_mem: 2172M\n",
            "[02/17 13:29:12 d2.utils.events]:  eta: 1 day, 10:54:51  iter: 7399  total_loss: 0.07265  loss_cls: 0.004312  loss_box_reg: 0.06779  time: 0.6977  data_time: 0.0157  lr: 0.001  max_mem: 2172M\n",
            "[02/17 13:29:25 d2.utils.events]:  eta: 1 day, 10:54:25  iter: 7419  total_loss: 0.06175  loss_cls: 0.00398  loss_box_reg: 0.05525  time: 0.6976  data_time: 0.0175  lr: 0.001  max_mem: 2172M\n",
            "[02/17 13:29:40 d2.utils.events]:  eta: 1 day, 10:56:46  iter: 7439  total_loss: 0.06519  loss_cls: 0.004198  loss_box_reg: 0.06044  time: 0.6977  data_time: 0.0146  lr: 0.001  max_mem: 2172M\n",
            "[02/17 13:29:54 d2.utils.events]:  eta: 1 day, 10:57:35  iter: 7459  total_loss: 0.06425  loss_cls: 0.002886  loss_box_reg: 0.05978  time: 0.6977  data_time: 0.0220  lr: 0.001  max_mem: 2172M\n",
            "[02/17 13:30:08 d2.utils.events]:  eta: 1 day, 10:56:51  iter: 7479  total_loss: 0.06993  loss_cls: 0.004948  loss_box_reg: 0.06447  time: 0.6977  data_time: 0.0181  lr: 0.001  max_mem: 2172M\n",
            "[02/17 13:30:22 d2.utils.events]:  eta: 1 day, 10:56:54  iter: 7499  total_loss: 0.06299  loss_cls: 0.003216  loss_box_reg: 0.05915  time: 0.6977  data_time: 0.0187  lr: 0.001  max_mem: 2172M\n",
            "[02/17 13:30:35 d2.utils.events]:  eta: 1 day, 10:56:16  iter: 7519  total_loss: 0.06239  loss_cls: 0.002617  loss_box_reg: 0.05972  time: 0.6977  data_time: 0.0164  lr: 0.001  max_mem: 2172M\n",
            "[02/17 13:30:49 d2.utils.events]:  eta: 1 day, 10:55:49  iter: 7539  total_loss: 0.06886  loss_cls: 0.00294  loss_box_reg: 0.06538  time: 0.6977  data_time: 0.0214  lr: 0.001  max_mem: 2172M\n",
            "[02/17 13:31:03 d2.utils.events]:  eta: 1 day, 10:55:34  iter: 7559  total_loss: 0.04955  loss_cls: 0.001905  loss_box_reg: 0.04747  time: 0.6977  data_time: 0.0207  lr: 0.001  max_mem: 2172M\n",
            "[02/17 13:31:18 d2.utils.events]:  eta: 1 day, 10:56:30  iter: 7579  total_loss: 0.0575  loss_cls: 0.002672  loss_box_reg: 0.05557  time: 0.6977  data_time: 0.0212  lr: 0.001  max_mem: 2172M\n",
            "[02/17 13:31:32 d2.utils.events]:  eta: 1 day, 10:56:57  iter: 7599  total_loss: 0.06535  loss_cls: 0.002813  loss_box_reg: 0.05823  time: 0.6977  data_time: 0.0154  lr: 0.001  max_mem: 2172M\n",
            "[02/17 13:31:45 d2.utils.events]:  eta: 1 day, 10:56:01  iter: 7619  total_loss: 0.06146  loss_cls: 0.003184  loss_box_reg: 0.05644  time: 0.6977  data_time: 0.0166  lr: 0.001  max_mem: 2172M\n",
            "[02/17 13:32:00 d2.utils.events]:  eta: 1 day, 10:56:27  iter: 7639  total_loss: 0.06997  loss_cls: 0.003984  loss_box_reg: 0.06336  time: 0.6978  data_time: 0.0201  lr: 0.001  max_mem: 2172M\n",
            "[02/17 13:32:14 d2.utils.events]:  eta: 1 day, 10:57:02  iter: 7659  total_loss: 0.07212  loss_cls: 0.005491  loss_box_reg: 0.06804  time: 0.6978  data_time: 0.0211  lr: 0.001  max_mem: 2172M\n",
            "[02/17 13:32:28 d2.utils.events]:  eta: 1 day, 10:56:48  iter: 7679  total_loss: 0.07879  loss_cls: 0.005433  loss_box_reg: 0.07548  time: 0.6978  data_time: 0.0201  lr: 0.001  max_mem: 2172M\n",
            "[02/17 13:32:42 d2.utils.events]:  eta: 1 day, 10:56:20  iter: 7699  total_loss: 0.07342  loss_cls: 0.003791  loss_box_reg: 0.06946  time: 0.6977  data_time: 0.0154  lr: 0.001  max_mem: 2172M\n",
            "[02/17 13:32:55 d2.utils.events]:  eta: 1 day, 10:55:15  iter: 7719  total_loss: 0.07148  loss_cls: 0.005788  loss_box_reg: 0.06569  time: 0.6977  data_time: 0.0233  lr: 0.001  max_mem: 2172M\n",
            "[02/17 13:33:09 d2.utils.events]:  eta: 1 day, 10:54:11  iter: 7739  total_loss: 0.06891  loss_cls: 0.002724  loss_box_reg: 0.06127  time: 0.6977  data_time: 0.0196  lr: 0.001  max_mem: 2172M\n",
            "[02/17 13:33:23 d2.utils.events]:  eta: 1 day, 10:52:32  iter: 7759  total_loss: 0.063  loss_cls: 0.004476  loss_box_reg: 0.05555  time: 0.6976  data_time: 0.0176  lr: 0.001  max_mem: 2172M\n",
            "[02/17 13:33:36 d2.utils.events]:  eta: 1 day, 10:53:06  iter: 7779  total_loss: 0.05496  loss_cls: 0.003359  loss_box_reg: 0.05233  time: 0.6976  data_time: 0.0189  lr: 0.001  max_mem: 2172M\n",
            "[02/17 13:33:50 d2.utils.events]:  eta: 1 day, 10:51:53  iter: 7799  total_loss: 0.06024  loss_cls: 0.00332  loss_box_reg: 0.05702  time: 0.6976  data_time: 0.0201  lr: 0.001  max_mem: 2172M\n",
            "[02/17 13:34:04 d2.utils.events]:  eta: 1 day, 10:53:11  iter: 7819  total_loss: 0.05778  loss_cls: 0.003133  loss_box_reg: 0.05357  time: 0.6976  data_time: 0.0167  lr: 0.001  max_mem: 2172M\n",
            "[02/17 13:34:18 d2.utils.events]:  eta: 1 day, 10:52:29  iter: 7839  total_loss: 0.06559  loss_cls: 0.004278  loss_box_reg: 0.06245  time: 0.6976  data_time: 0.0195  lr: 0.001  max_mem: 2172M\n",
            "[02/17 13:34:32 d2.utils.events]:  eta: 1 day, 10:52:14  iter: 7859  total_loss: 0.08056  loss_cls: 0.00652  loss_box_reg: 0.06957  time: 0.6976  data_time: 0.0206  lr: 0.001  max_mem: 2172M\n",
            "[02/17 13:34:46 d2.utils.events]:  eta: 1 day, 10:52:28  iter: 7879  total_loss: 0.07124  loss_cls: 0.00616  loss_box_reg: 0.06145  time: 0.6976  data_time: 0.0247  lr: 0.001  max_mem: 2172M\n",
            "[02/17 13:35:00 d2.utils.events]:  eta: 1 day, 10:52:14  iter: 7899  total_loss: 0.06755  loss_cls: 0.004008  loss_box_reg: 0.06286  time: 0.6976  data_time: 0.0180  lr: 0.001  max_mem: 2172M\n",
            "[02/17 13:35:14 d2.utils.events]:  eta: 1 day, 10:52:49  iter: 7919  total_loss: 0.06551  loss_cls: 0.003103  loss_box_reg: 0.06291  time: 0.6976  data_time: 0.0140  lr: 0.001  max_mem: 2172M\n",
            "[02/17 13:35:28 d2.utils.events]:  eta: 1 day, 10:52:38  iter: 7939  total_loss: 0.05987  loss_cls: 0.002525  loss_box_reg: 0.05563  time: 0.6976  data_time: 0.0247  lr: 0.001  max_mem: 2172M\n",
            "[02/17 13:35:42 d2.utils.events]:  eta: 1 day, 10:52:34  iter: 7959  total_loss: 0.07492  loss_cls: 0.005288  loss_box_reg: 0.06997  time: 0.6976  data_time: 0.0154  lr: 0.001  max_mem: 2172M\n",
            "[02/17 13:35:56 d2.utils.events]:  eta: 1 day, 10:52:19  iter: 7979  total_loss: 0.06365  loss_cls: 0.003796  loss_box_reg: 0.05965  time: 0.6976  data_time: 0.0188  lr: 0.001  max_mem: 2172M\n",
            "[02/17 13:36:10 d2.utils.events]:  eta: 1 day, 10:51:33  iter: 7999  total_loss: 0.06287  loss_cls: 0.004149  loss_box_reg: 0.05825  time: 0.6976  data_time: 0.0170  lr: 0.001  max_mem: 2172M\n",
            "[02/17 13:36:24 d2.utils.events]:  eta: 1 day, 10:52:02  iter: 8019  total_loss: 0.0698  loss_cls: 0.005268  loss_box_reg: 0.06306  time: 0.6976  data_time: 0.0188  lr: 0.001  max_mem: 2172M\n",
            "[02/17 13:36:37 d2.utils.events]:  eta: 1 day, 10:50:41  iter: 8039  total_loss: 0.07177  loss_cls: 0.004204  loss_box_reg: 0.06452  time: 0.6975  data_time: 0.0156  lr: 0.001  max_mem: 2172M\n",
            "[02/17 13:36:51 d2.utils.events]:  eta: 1 day, 10:50:27  iter: 8059  total_loss: 0.05566  loss_cls: 0.003227  loss_box_reg: 0.0502  time: 0.6975  data_time: 0.0180  lr: 0.001  max_mem: 2172M\n",
            "[02/17 13:37:05 d2.utils.events]:  eta: 1 day, 10:49:51  iter: 8079  total_loss: 0.05602  loss_cls: 0.0037  loss_box_reg: 0.05335  time: 0.6975  data_time: 0.0208  lr: 0.001  max_mem: 2172M\n",
            "[02/17 13:37:19 d2.utils.events]:  eta: 1 day, 10:51:14  iter: 8099  total_loss: 0.07017  loss_cls: 0.00363  loss_box_reg: 0.06702  time: 0.6975  data_time: 0.0187  lr: 0.001  max_mem: 2172M\n",
            "[02/17 13:37:32 d2.utils.events]:  eta: 1 day, 10:49:08  iter: 8119  total_loss: 0.07001  loss_cls: 0.00397  loss_box_reg: 0.06215  time: 0.6974  data_time: 0.0191  lr: 0.001  max_mem: 2172M\n",
            "[02/17 13:37:47 d2.utils.events]:  eta: 1 day, 10:49:07  iter: 8139  total_loss: 0.06688  loss_cls: 0.003819  loss_box_reg: 0.06091  time: 0.6975  data_time: 0.0195  lr: 0.001  max_mem: 2172M\n",
            "[02/17 13:38:00 d2.utils.events]:  eta: 1 day, 10:47:56  iter: 8159  total_loss: 0.06397  loss_cls: 0.00319  loss_box_reg: 0.05461  time: 0.6974  data_time: 0.0186  lr: 0.001  max_mem: 2172M\n",
            "[02/17 13:38:14 d2.utils.events]:  eta: 1 day, 10:47:41  iter: 8179  total_loss: 0.06296  loss_cls: 0.004037  loss_box_reg: 0.05921  time: 0.6974  data_time: 0.0222  lr: 0.001  max_mem: 2172M\n",
            "[02/17 13:38:28 d2.utils.events]:  eta: 1 day, 10:45:53  iter: 8199  total_loss: 0.06432  loss_cls: 0.003924  loss_box_reg: 0.05921  time: 0.6974  data_time: 0.0242  lr: 0.001  max_mem: 2172M\n",
            "[02/17 13:38:42 d2.utils.events]:  eta: 1 day, 10:44:39  iter: 8219  total_loss: 0.06327  loss_cls: 0.002753  loss_box_reg: 0.05976  time: 0.6974  data_time: 0.0176  lr: 0.001  max_mem: 2172M\n",
            "[02/17 13:38:55 d2.utils.events]:  eta: 1 day, 10:44:32  iter: 8239  total_loss: 0.06366  loss_cls: 0.003423  loss_box_reg: 0.05813  time: 0.6973  data_time: 0.0248  lr: 0.001  max_mem: 2172M\n",
            "[02/17 13:39:09 d2.utils.events]:  eta: 1 day, 10:44:20  iter: 8259  total_loss: 0.06778  loss_cls: 0.005142  loss_box_reg: 0.06341  time: 0.6973  data_time: 0.0221  lr: 0.001  max_mem: 2172M\n",
            "[02/17 13:39:23 d2.utils.events]:  eta: 1 day, 10:44:03  iter: 8279  total_loss: 0.08061  loss_cls: 0.003951  loss_box_reg: 0.07148  time: 0.6973  data_time: 0.0200  lr: 0.001  max_mem: 2172M\n",
            "[02/17 13:39:37 d2.utils.events]:  eta: 1 day, 10:45:23  iter: 8299  total_loss: 0.06725  loss_cls: 0.004113  loss_box_reg: 0.06352  time: 0.6974  data_time: 0.0212  lr: 0.001  max_mem: 2172M\n",
            "[02/17 13:39:52 d2.utils.events]:  eta: 1 day, 10:45:26  iter: 8319  total_loss: 0.07096  loss_cls: 0.006367  loss_box_reg: 0.05991  time: 0.6974  data_time: 0.0188  lr: 0.001  max_mem: 2172M\n",
            "[02/17 13:40:06 d2.utils.events]:  eta: 1 day, 10:45:47  iter: 8339  total_loss: 0.05373  loss_cls: 0.003898  loss_box_reg: 0.05008  time: 0.6974  data_time: 0.0241  lr: 0.001  max_mem: 2172M\n",
            "[02/17 13:40:20 d2.utils.events]:  eta: 1 day, 10:46:13  iter: 8359  total_loss: 0.068  loss_cls: 0.002752  loss_box_reg: 0.06463  time: 0.6974  data_time: 0.0157  lr: 0.001  max_mem: 2172M\n",
            "[02/17 13:40:33 d2.utils.events]:  eta: 1 day, 10:45:18  iter: 8379  total_loss: 0.06261  loss_cls: 0.003185  loss_box_reg: 0.05785  time: 0.6974  data_time: 0.0194  lr: 0.001  max_mem: 2172M\n",
            "[02/17 13:40:47 d2.utils.events]:  eta: 1 day, 10:42:38  iter: 8399  total_loss: 0.0584  loss_cls: 0.003465  loss_box_reg: 0.05585  time: 0.6973  data_time: 0.0227  lr: 0.001  max_mem: 2172M\n",
            "[02/17 13:41:01 d2.utils.events]:  eta: 1 day, 10:43:21  iter: 8419  total_loss: 0.07847  loss_cls: 0.005105  loss_box_reg: 0.0715  time: 0.6973  data_time: 0.0205  lr: 0.001  max_mem: 2172M\n",
            "[02/17 13:41:15 d2.utils.events]:  eta: 1 day, 10:41:22  iter: 8439  total_loss: 0.06272  loss_cls: 0.002863  loss_box_reg: 0.05834  time: 0.6974  data_time: 0.0174  lr: 0.001  max_mem: 2172M\n",
            "[02/17 13:41:29 d2.utils.events]:  eta: 1 day, 10:39:23  iter: 8459  total_loss: 0.06324  loss_cls: 0.003861  loss_box_reg: 0.05737  time: 0.6973  data_time: 0.0183  lr: 0.001  max_mem: 2172M\n",
            "[02/17 13:41:43 d2.utils.events]:  eta: 1 day, 10:39:39  iter: 8479  total_loss: 0.05334  loss_cls: 0.003065  loss_box_reg: 0.05059  time: 0.6973  data_time: 0.0186  lr: 0.001  max_mem: 2172M\n",
            "[02/17 13:41:56 d2.utils.events]:  eta: 1 day, 10:36:16  iter: 8499  total_loss: 0.06717  loss_cls: 0.003491  loss_box_reg: 0.06356  time: 0.6973  data_time: 0.0237  lr: 0.001  max_mem: 2172M\n",
            "[02/17 13:42:10 d2.utils.events]:  eta: 1 day, 10:35:28  iter: 8519  total_loss: 0.06057  loss_cls: 0.003238  loss_box_reg: 0.0564  time: 0.6973  data_time: 0.0204  lr: 0.001  max_mem: 2172M\n",
            "[02/17 13:42:24 d2.utils.events]:  eta: 1 day, 10:32:47  iter: 8539  total_loss: 0.06144  loss_cls: 0.003133  loss_box_reg: 0.05873  time: 0.6972  data_time: 0.0267  lr: 0.001  max_mem: 2172M\n",
            "[02/17 13:42:38 d2.utils.events]:  eta: 1 day, 10:32:33  iter: 8559  total_loss: 0.05896  loss_cls: 0.002273  loss_box_reg: 0.05651  time: 0.6972  data_time: 0.0240  lr: 0.001  max_mem: 2172M\n",
            "[02/17 13:42:52 d2.utils.events]:  eta: 1 day, 10:33:36  iter: 8579  total_loss: 0.06259  loss_cls: 0.002551  loss_box_reg: 0.05756  time: 0.6973  data_time: 0.0180  lr: 0.001  max_mem: 2172M\n",
            "[02/17 13:43:06 d2.utils.events]:  eta: 1 day, 9:59:57  iter: 8599  total_loss: 0.05669  loss_cls: 0.003436  loss_box_reg: 0.05465  time: 0.6973  data_time: 0.0252  lr: 0.001  max_mem: 2172M\n",
            "[02/17 13:43:20 d2.utils.events]:  eta: 1 day, 10:31:49  iter: 8619  total_loss: 0.05798  loss_cls: 0.003191  loss_box_reg: 0.05675  time: 0.6973  data_time: 0.0164  lr: 0.001  max_mem: 2172M\n",
            "[02/17 13:43:34 d2.utils.events]:  eta: 1 day, 8:55:27  iter: 8639  total_loss: 0.06472  loss_cls: 0.004448  loss_box_reg: 0.05772  time: 0.6972  data_time: 0.0164  lr: 0.001  max_mem: 2172M\n",
            "[02/17 13:43:47 d2.utils.events]:  eta: 1 day, 8:46:25  iter: 8659  total_loss: 0.06223  loss_cls: 0.003766  loss_box_reg: 0.05895  time: 0.6971  data_time: 0.0154  lr: 0.001  max_mem: 2172M\n",
            "[02/17 13:44:00 d2.utils.events]:  eta: 1 day, 8:45:29  iter: 8679  total_loss: 0.05875  loss_cls: 0.002813  loss_box_reg: 0.05403  time: 0.6971  data_time: 0.0182  lr: 0.001  max_mem: 2172M\n",
            "[02/17 13:44:14 d2.utils.events]:  eta: 1 day, 8:47:53  iter: 8699  total_loss: 0.07001  loss_cls: 0.004451  loss_box_reg: 0.06436  time: 0.6971  data_time: 0.0180  lr: 0.001  max_mem: 2172M\n",
            "[02/17 13:44:28 d2.utils.events]:  eta: 1 day, 8:45:01  iter: 8719  total_loss: 0.05054  loss_cls: 0.002649  loss_box_reg: 0.0472  time: 0.6971  data_time: 0.0190  lr: 0.001  max_mem: 2172M\n",
            "[02/17 13:44:42 d2.utils.events]:  eta: 1 day, 8:45:30  iter: 8739  total_loss: 0.06194  loss_cls: 0.003651  loss_box_reg: 0.05709  time: 0.6971  data_time: 0.0182  lr: 0.001  max_mem: 2172M\n",
            "[02/17 13:44:56 d2.utils.events]:  eta: 1 day, 8:54:10  iter: 8759  total_loss: 0.06088  loss_cls: 0.002977  loss_box_reg: 0.05627  time: 0.6971  data_time: 0.0247  lr: 0.001  max_mem: 2172M\n",
            "[02/17 13:45:11 d2.utils.events]:  eta: 1 day, 9:16:11  iter: 8779  total_loss: 0.0566  loss_cls: 0.002049  loss_box_reg: 0.05519  time: 0.6972  data_time: 0.0242  lr: 0.001  max_mem: 2172M\n",
            "[02/17 13:45:25 d2.utils.events]:  eta: 1 day, 9:04:27  iter: 8799  total_loss: 0.06749  loss_cls: 0.005038  loss_box_reg: 0.06321  time: 0.6972  data_time: 0.0237  lr: 0.001  max_mem: 2172M\n",
            "[02/17 13:45:39 d2.utils.events]:  eta: 1 day, 8:57:55  iter: 8819  total_loss: 0.06307  loss_cls: 0.003198  loss_box_reg: 0.06053  time: 0.6972  data_time: 0.0296  lr: 0.001  max_mem: 2172M\n",
            "[02/17 13:45:53 d2.utils.events]:  eta: 1 day, 9:03:59  iter: 8839  total_loss: 0.0663  loss_cls: 0.00345  loss_box_reg: 0.06051  time: 0.6972  data_time: 0.0265  lr: 0.001  max_mem: 2172M\n",
            "[02/17 13:46:07 d2.utils.events]:  eta: 1 day, 10:26:59  iter: 8859  total_loss: 0.06678  loss_cls: 0.003191  loss_box_reg: 0.05727  time: 0.6972  data_time: 0.0243  lr: 0.001  max_mem: 2172M\n",
            "[02/17 13:46:21 d2.utils.events]:  eta: 1 day, 10:26:45  iter: 8879  total_loss: 0.06294  loss_cls: 0.00354  loss_box_reg: 0.05876  time: 0.6972  data_time: 0.0227  lr: 0.001  max_mem: 2172M\n",
            "[02/17 13:46:35 d2.utils.events]:  eta: 1 day, 9:14:47  iter: 8899  total_loss: 0.05371  loss_cls: 0.003192  loss_box_reg: 0.05138  time: 0.6972  data_time: 0.0218  lr: 0.001  max_mem: 2172M\n",
            "[02/17 13:46:49 d2.utils.events]:  eta: 1 day, 8:56:46  iter: 8919  total_loss: 0.07114  loss_cls: 0.004196  loss_box_reg: 0.06629  time: 0.6972  data_time: 0.0241  lr: 0.001  max_mem: 2172M\n",
            "[02/17 13:47:02 d2.utils.events]:  eta: 1 day, 8:44:19  iter: 8939  total_loss: 0.05918  loss_cls: 0.002576  loss_box_reg: 0.0554  time: 0.6971  data_time: 0.0195  lr: 0.001  max_mem: 2172M\n",
            "[02/17 13:47:16 d2.utils.events]:  eta: 1 day, 8:40:42  iter: 8959  total_loss: 0.06508  loss_cls: 0.002494  loss_box_reg: 0.06146  time: 0.6971  data_time: 0.0208  lr: 0.001  max_mem: 2172M\n",
            "[02/17 13:47:29 d2.utils.events]:  eta: 1 day, 8:25:14  iter: 8979  total_loss: 0.06707  loss_cls: 0.002838  loss_box_reg: 0.06215  time: 0.6971  data_time: 0.0176  lr: 0.001  max_mem: 2172M\n",
            "[02/17 13:47:44 d2.utils.events]:  eta: 1 day, 8:34:52  iter: 8999  total_loss: 0.06139  loss_cls: 0.0044  loss_box_reg: 0.05684  time: 0.6971  data_time: 0.0189  lr: 0.001  max_mem: 2172M\n",
            "[02/17 13:47:59 d2.utils.events]:  eta: 1 day, 8:55:37  iter: 9019  total_loss: 0.0636  loss_cls: 0.0033  loss_box_reg: 0.05778  time: 0.6972  data_time: 0.0270  lr: 0.001  max_mem: 2172M\n",
            "[02/17 13:48:13 d2.utils.events]:  eta: 1 day, 9:15:49  iter: 9039  total_loss: 0.0701  loss_cls: 0.00333  loss_box_reg: 0.06651  time: 0.6972  data_time: 0.0180  lr: 0.001  max_mem: 2172M\n",
            "[02/17 13:48:27 d2.utils.events]:  eta: 1 day, 10:24:40  iter: 9059  total_loss: 0.0634  loss_cls: 0.002392  loss_box_reg: 0.06028  time: 0.6972  data_time: 0.0254  lr: 0.001  max_mem: 2172M\n",
            "[02/17 13:48:41 d2.utils.events]:  eta: 1 day, 10:28:51  iter: 9079  total_loss: 0.05285  loss_cls: 0.002197  loss_box_reg: 0.04847  time: 0.6972  data_time: 0.0162  lr: 0.001  max_mem: 2172M\n",
            "[02/17 13:48:55 d2.utils.events]:  eta: 1 day, 10:30:32  iter: 9099  total_loss: 0.05508  loss_cls: 0.002743  loss_box_reg: 0.05133  time: 0.6973  data_time: 0.0203  lr: 0.001  max_mem: 2172M\n",
            "[02/17 13:49:10 d2.utils.events]:  eta: 1 day, 10:33:35  iter: 9119  total_loss: 0.06166  loss_cls: 0.004023  loss_box_reg: 0.05618  time: 0.6973  data_time: 0.0190  lr: 0.001  max_mem: 2172M\n",
            "[02/17 13:49:24 d2.utils.events]:  eta: 1 day, 10:32:58  iter: 9139  total_loss: 0.05549  loss_cls: 0.003069  loss_box_reg: 0.0535  time: 0.6973  data_time: 0.0206  lr: 0.001  max_mem: 2172M\n",
            "[02/17 13:49:38 d2.utils.events]:  eta: 1 day, 10:33:18  iter: 9159  total_loss: 0.06924  loss_cls: 0.003437  loss_box_reg: 0.06234  time: 0.6973  data_time: 0.0275  lr: 0.001  max_mem: 2172M\n",
            "[02/17 13:49:51 d2.utils.events]:  eta: 1 day, 10:32:03  iter: 9179  total_loss: 0.05912  loss_cls: 0.002077  loss_box_reg: 0.05542  time: 0.6973  data_time: 0.0187  lr: 0.001  max_mem: 2172M\n",
            "[02/17 13:50:05 d2.utils.events]:  eta: 1 day, 10:32:14  iter: 9199  total_loss: 0.05605  loss_cls: 0.002771  loss_box_reg: 0.05339  time: 0.6973  data_time: 0.0201  lr: 0.001  max_mem: 2172M\n",
            "[02/17 13:50:19 d2.utils.events]:  eta: 1 day, 10:32:11  iter: 9219  total_loss: 0.06034  loss_cls: 0.003403  loss_box_reg: 0.05064  time: 0.6973  data_time: 0.0228  lr: 0.001  max_mem: 2172M\n",
            "[02/17 13:50:33 d2.utils.events]:  eta: 1 day, 10:32:57  iter: 9239  total_loss: 0.06469  loss_cls: 0.003222  loss_box_reg: 0.05866  time: 0.6973  data_time: 0.0161  lr: 0.001  max_mem: 2172M\n",
            "[02/17 13:50:48 d2.utils.events]:  eta: 1 day, 10:33:12  iter: 9259  total_loss: 0.06404  loss_cls: 0.004128  loss_box_reg: 0.05948  time: 0.6973  data_time: 0.0285  lr: 0.001  max_mem: 2172M\n",
            "[02/17 13:51:01 d2.utils.events]:  eta: 1 day, 10:33:04  iter: 9279  total_loss: 0.06262  loss_cls: 0.00265  loss_box_reg: 0.06105  time: 0.6973  data_time: 0.0177  lr: 0.001  max_mem: 2172M\n",
            "[02/17 13:51:15 d2.utils.events]:  eta: 1 day, 10:31:24  iter: 9299  total_loss: 0.06733  loss_cls: 0.002313  loss_box_reg: 0.05995  time: 0.6973  data_time: 0.0194  lr: 0.001  max_mem: 2172M\n",
            "[02/17 13:51:29 d2.utils.events]:  eta: 1 day, 10:30:59  iter: 9319  total_loss: 0.06051  loss_cls: 0.002401  loss_box_reg: 0.05843  time: 0.6973  data_time: 0.0210  lr: 0.001  max_mem: 2172M\n",
            "[02/17 13:51:43 d2.utils.events]:  eta: 1 day, 10:25:42  iter: 9339  total_loss: 0.07025  loss_cls: 0.002286  loss_box_reg: 0.06754  time: 0.6973  data_time: 0.0218  lr: 0.001  max_mem: 2172M\n",
            "[02/17 13:51:57 d2.utils.events]:  eta: 1 day, 10:27:16  iter: 9359  total_loss: 0.05902  loss_cls: 0.002005  loss_box_reg: 0.05437  time: 0.6973  data_time: 0.0206  lr: 0.001  max_mem: 2172M\n",
            "[02/17 13:52:12 d2.utils.events]:  eta: 1 day, 10:29:40  iter: 9379  total_loss: 0.06503  loss_cls: 0.002922  loss_box_reg: 0.0605  time: 0.6973  data_time: 0.0153  lr: 0.001  max_mem: 2172M\n",
            "[02/17 13:52:25 d2.utils.events]:  eta: 1 day, 10:30:00  iter: 9399  total_loss: 0.0632  loss_cls: 0.003264  loss_box_reg: 0.05912  time: 0.6973  data_time: 0.0175  lr: 0.001  max_mem: 2172M\n",
            "[02/17 13:52:39 d2.utils.events]:  eta: 1 day, 10:30:21  iter: 9419  total_loss: 0.05713  loss_cls: 0.003809  loss_box_reg: 0.05214  time: 0.6973  data_time: 0.0171  lr: 0.001  max_mem: 2172M\n",
            "[02/17 13:52:53 d2.utils.events]:  eta: 1 day, 10:30:06  iter: 9439  total_loss: 0.06907  loss_cls: 0.002928  loss_box_reg: 0.06505  time: 0.6973  data_time: 0.0233  lr: 0.001  max_mem: 2172M\n",
            "[02/17 13:53:07 d2.utils.events]:  eta: 1 day, 10:29:05  iter: 9459  total_loss: 0.0648  loss_cls: 0.003404  loss_box_reg: 0.0617  time: 0.6973  data_time: 0.0190  lr: 0.001  max_mem: 2172M\n",
            "[02/17 13:53:21 d2.utils.events]:  eta: 1 day, 10:29:24  iter: 9479  total_loss: 0.0604  loss_cls: 0.003162  loss_box_reg: 0.05748  time: 0.6973  data_time: 0.0224  lr: 0.001  max_mem: 2172M\n",
            "[02/17 13:53:35 d2.utils.events]:  eta: 1 day, 10:30:23  iter: 9499  total_loss: 0.05432  loss_cls: 0.002542  loss_box_reg: 0.05129  time: 0.6973  data_time: 0.0204  lr: 0.001  max_mem: 2172M\n",
            "[02/17 13:53:49 d2.utils.events]:  eta: 1 day, 10:29:33  iter: 9519  total_loss: 0.05645  loss_cls: 0.001879  loss_box_reg: 0.05461  time: 0.6973  data_time: 0.0206  lr: 0.001  max_mem: 2172M\n",
            "[02/17 13:54:03 d2.utils.events]:  eta: 1 day, 10:30:59  iter: 9539  total_loss: 0.06416  loss_cls: 0.003773  loss_box_reg: 0.05991  time: 0.6973  data_time: 0.0220  lr: 0.001  max_mem: 2172M\n",
            "[02/17 13:54:16 d2.utils.events]:  eta: 1 day, 10:29:48  iter: 9559  total_loss: 0.07178  loss_cls: 0.00373  loss_box_reg: 0.06554  time: 0.6973  data_time: 0.0201  lr: 0.001  max_mem: 2172M\n",
            "[02/17 13:54:30 d2.utils.events]:  eta: 1 day, 10:28:49  iter: 9579  total_loss: 0.06598  loss_cls: 0.002402  loss_box_reg: 0.06404  time: 0.6973  data_time: 0.0224  lr: 0.001  max_mem: 2172M\n",
            "[02/17 13:54:44 d2.utils.events]:  eta: 1 day, 10:28:35  iter: 9599  total_loss: 0.05496  loss_cls: 0.00305  loss_box_reg: 0.053  time: 0.6973  data_time: 0.0189  lr: 0.001  max_mem: 2172M\n",
            "[02/17 13:54:58 d2.utils.events]:  eta: 1 day, 10:27:55  iter: 9619  total_loss: 0.05436  loss_cls: 0.002214  loss_box_reg: 0.0518  time: 0.6972  data_time: 0.0198  lr: 0.001  max_mem: 2172M\n",
            "[02/17 13:55:12 d2.utils.events]:  eta: 1 day, 10:27:28  iter: 9639  total_loss: 0.06405  loss_cls: 0.003222  loss_box_reg: 0.06155  time: 0.6972  data_time: 0.0270  lr: 0.001  max_mem: 2172M\n",
            "[02/17 13:55:26 d2.utils.events]:  eta: 1 day, 10:29:31  iter: 9659  total_loss: 0.05725  loss_cls: 0.002597  loss_box_reg: 0.05132  time: 0.6972  data_time: 0.0186  lr: 0.001  max_mem: 2172M\n",
            "[02/17 13:55:40 d2.utils.events]:  eta: 1 day, 10:29:27  iter: 9679  total_loss: 0.06588  loss_cls: 0.003609  loss_box_reg: 0.05998  time: 0.6973  data_time: 0.0216  lr: 0.001  max_mem: 2172M\n",
            "[02/17 13:55:54 d2.utils.events]:  eta: 1 day, 10:29:12  iter: 9699  total_loss: 0.05445  loss_cls: 0.003799  loss_box_reg: 0.0515  time: 0.6973  data_time: 0.0254  lr: 0.001  max_mem: 2172M\n",
            "[02/17 13:56:08 d2.utils.events]:  eta: 1 day, 10:29:06  iter: 9719  total_loss: 0.06061  loss_cls: 0.002948  loss_box_reg: 0.05819  time: 0.6972  data_time: 0.0188  lr: 0.001  max_mem: 2172M\n",
            "[02/17 13:56:22 d2.utils.events]:  eta: 1 day, 10:28:36  iter: 9739  total_loss: 0.05387  loss_cls: 0.001776  loss_box_reg: 0.05204  time: 0.6972  data_time: 0.0197  lr: 0.001  max_mem: 2172M\n",
            "[02/17 13:56:36 d2.utils.events]:  eta: 1 day, 10:28:12  iter: 9759  total_loss: 0.06544  loss_cls: 0.002819  loss_box_reg: 0.05548  time: 0.6972  data_time: 0.0222  lr: 0.001  max_mem: 2172M\n",
            "[02/17 13:56:49 d2.utils.events]:  eta: 1 day, 10:26:29  iter: 9779  total_loss: 0.06696  loss_cls: 0.004039  loss_box_reg: 0.06176  time: 0.6972  data_time: 0.0168  lr: 0.001  max_mem: 2172M\n",
            "[02/17 13:57:03 d2.utils.events]:  eta: 1 day, 10:26:14  iter: 9799  total_loss: 0.06037  loss_cls: 0.002137  loss_box_reg: 0.05737  time: 0.6972  data_time: 0.0192  lr: 0.001  max_mem: 2172M\n",
            "[02/17 13:57:17 d2.utils.events]:  eta: 1 day, 10:26:36  iter: 9819  total_loss: 0.07799  loss_cls: 0.002909  loss_box_reg: 0.06472  time: 0.6972  data_time: 0.0164  lr: 0.001  max_mem: 2172M\n",
            "[02/17 13:57:31 d2.utils.events]:  eta: 1 day, 10:26:38  iter: 9839  total_loss: 0.05834  loss_cls: 0.002507  loss_box_reg: 0.05691  time: 0.6972  data_time: 0.0233  lr: 0.001  max_mem: 2172M\n",
            "[02/17 13:57:45 d2.utils.events]:  eta: 1 day, 10:26:51  iter: 9859  total_loss: 0.06296  loss_cls: 0.003201  loss_box_reg: 0.05996  time: 0.6972  data_time: 0.0189  lr: 0.001  max_mem: 2172M\n",
            "[02/17 13:58:00 d2.utils.events]:  eta: 1 day, 10:26:36  iter: 9879  total_loss: 0.0663  loss_cls: 0.002784  loss_box_reg: 0.06128  time: 0.6973  data_time: 0.0210  lr: 0.001  max_mem: 2172M\n",
            "[02/17 13:58:14 d2.utils.events]:  eta: 1 day, 10:26:30  iter: 9899  total_loss: 0.06304  loss_cls: 0.002068  loss_box_reg: 0.05792  time: 0.6973  data_time: 0.0183  lr: 0.001  max_mem: 2172M\n",
            "[02/17 13:58:27 d2.utils.events]:  eta: 1 day, 10:25:56  iter: 9919  total_loss: 0.06461  loss_cls: 0.002444  loss_box_reg: 0.06057  time: 0.6972  data_time: 0.0195  lr: 0.001  max_mem: 2172M\n",
            "[02/17 13:58:41 d2.utils.events]:  eta: 1 day, 10:26:52  iter: 9939  total_loss: 0.06858  loss_cls: 0.003056  loss_box_reg: 0.06194  time: 0.6972  data_time: 0.0151  lr: 0.001  max_mem: 2172M\n",
            "[02/17 13:58:55 d2.utils.events]:  eta: 1 day, 10:27:21  iter: 9959  total_loss: 0.07559  loss_cls: 0.005602  loss_box_reg: 0.06982  time: 0.6972  data_time: 0.0178  lr: 0.001  max_mem: 2172M\n",
            "[02/17 13:59:09 d2.utils.events]:  eta: 1 day, 10:27:17  iter: 9979  total_loss: 0.06435  loss_cls: 0.003214  loss_box_reg: 0.05586  time: 0.6972  data_time: 0.0218  lr: 0.001  max_mem: 2172M\n",
            "[02/17 13:59:23 d2.utils.events]:  eta: 1 day, 10:26:52  iter: 9999  total_loss: 0.05297  loss_cls: 0.002121  loss_box_reg: 0.05066  time: 0.6973  data_time: 0.0204  lr: 0.001  max_mem: 2172M\n",
            "[02/17 13:59:37 d2.utils.events]:  eta: 1 day, 10:25:06  iter: 10019  total_loss: 0.06221  loss_cls: 0.004956  loss_box_reg: 0.05781  time: 0.6972  data_time: 0.0204  lr: 0.001  max_mem: 2172M\n",
            "[02/17 13:59:51 d2.utils.events]:  eta: 1 day, 10:24:40  iter: 10039  total_loss: 0.05797  loss_cls: 0.001684  loss_box_reg: 0.05423  time: 0.6973  data_time: 0.0263  lr: 0.001  max_mem: 2172M\n",
            "[02/17 14:00:05 d2.utils.events]:  eta: 1 day, 10:23:06  iter: 10059  total_loss: 0.05705  loss_cls: 0.002463  loss_box_reg: 0.05074  time: 0.6972  data_time: 0.0224  lr: 0.001  max_mem: 2172M\n",
            "[02/17 14:00:19 d2.utils.events]:  eta: 1 day, 10:22:51  iter: 10079  total_loss: 0.06646  loss_cls: 0.004109  loss_box_reg: 0.06324  time: 0.6972  data_time: 0.0218  lr: 0.001  max_mem: 2172M\n",
            "[02/17 14:00:33 d2.utils.events]:  eta: 1 day, 10:23:28  iter: 10099  total_loss: 0.06389  loss_cls: 0.003869  loss_box_reg: 0.0589  time: 0.6972  data_time: 0.0204  lr: 0.001  max_mem: 2172M\n",
            "[02/17 14:00:47 d2.utils.events]:  eta: 1 day, 10:21:35  iter: 10119  total_loss: 0.06487  loss_cls: 0.003554  loss_box_reg: 0.06211  time: 0.6972  data_time: 0.0282  lr: 0.001  max_mem: 2172M\n",
            "[02/17 14:01:01 d2.utils.events]:  eta: 1 day, 10:21:20  iter: 10139  total_loss: 0.04948  loss_cls: 0.002201  loss_box_reg: 0.04837  time: 0.6972  data_time: 0.0153  lr: 0.001  max_mem: 2172M\n",
            "[02/17 14:01:15 d2.utils.events]:  eta: 1 day, 10:22:28  iter: 10159  total_loss: 0.0593  loss_cls: 0.002577  loss_box_reg: 0.05699  time: 0.6973  data_time: 0.0215  lr: 0.001  max_mem: 2172M\n",
            "[02/17 14:01:29 d2.utils.events]:  eta: 1 day, 10:22:47  iter: 10179  total_loss: 0.0563  loss_cls: 0.002545  loss_box_reg: 0.05359  time: 0.6973  data_time: 0.0200  lr: 0.001  max_mem: 2172M\n",
            "[02/17 14:01:43 d2.utils.events]:  eta: 1 day, 10:23:08  iter: 10199  total_loss: 0.05372  loss_cls: 0.002372  loss_box_reg: 0.05098  time: 0.6973  data_time: 0.0185  lr: 0.001  max_mem: 2172M\n",
            "[02/17 14:01:57 d2.utils.events]:  eta: 1 day, 10:22:46  iter: 10219  total_loss: 0.0609  loss_cls: 0.00216  loss_box_reg: 0.05882  time: 0.6973  data_time: 0.0236  lr: 0.001  max_mem: 2172M\n",
            "[02/17 14:02:11 d2.utils.events]:  eta: 1 day, 10:22:14  iter: 10239  total_loss: 0.05721  loss_cls: 0.003342  loss_box_reg: 0.05429  time: 0.6973  data_time: 0.0159  lr: 0.001  max_mem: 2172M\n",
            "[02/17 14:02:25 d2.utils.events]:  eta: 1 day, 10:22:05  iter: 10259  total_loss: 0.05716  loss_cls: 0.002375  loss_box_reg: 0.05196  time: 0.6973  data_time: 0.0227  lr: 0.001  max_mem: 2172M\n",
            "[02/17 14:02:39 d2.utils.events]:  eta: 1 day, 10:21:56  iter: 10279  total_loss: 0.05713  loss_cls: 0.002553  loss_box_reg: 0.05397  time: 0.6973  data_time: 0.0211  lr: 0.001  max_mem: 2172M\n",
            "[02/17 14:02:53 d2.utils.events]:  eta: 1 day, 10:21:51  iter: 10299  total_loss: 0.04957  loss_cls: 0.002952  loss_box_reg: 0.04652  time: 0.6973  data_time: 0.0200  lr: 0.001  max_mem: 2172M\n",
            "[02/17 14:03:07 d2.utils.events]:  eta: 1 day, 10:21:05  iter: 10319  total_loss: 0.0584  loss_cls: 0.001495  loss_box_reg: 0.05699  time: 0.6973  data_time: 0.0220  lr: 0.001  max_mem: 2172M\n",
            "[02/17 14:03:21 d2.utils.events]:  eta: 1 day, 10:21:16  iter: 10339  total_loss: 0.06232  loss_cls: 0.002456  loss_box_reg: 0.05894  time: 0.6973  data_time: 0.0200  lr: 0.001  max_mem: 2172M\n",
            "[02/17 14:03:35 d2.utils.events]:  eta: 1 day, 10:20:56  iter: 10359  total_loss: 0.06199  loss_cls: 0.003422  loss_box_reg: 0.06007  time: 0.6973  data_time: 0.0219  lr: 0.001  max_mem: 2172M\n",
            "[02/17 14:03:49 d2.utils.events]:  eta: 1 day, 10:20:43  iter: 10379  total_loss: 0.05143  loss_cls: 0.00185  loss_box_reg: 0.0501  time: 0.6973  data_time: 0.0200  lr: 0.001  max_mem: 2172M\n",
            "[02/17 14:04:03 d2.utils.events]:  eta: 1 day, 10:20:29  iter: 10399  total_loss: 0.05294  loss_cls: 0.001789  loss_box_reg: 0.04868  time: 0.6973  data_time: 0.0157  lr: 0.001  max_mem: 2172M\n",
            "[02/17 14:04:17 d2.utils.events]:  eta: 1 day, 10:20:12  iter: 10419  total_loss: 0.06634  loss_cls: 0.002821  loss_box_reg: 0.06299  time: 0.6973  data_time: 0.0198  lr: 0.001  max_mem: 2172M\n",
            "[02/17 14:04:30 d2.utils.events]:  eta: 1 day, 10:18:29  iter: 10439  total_loss: 0.05788  loss_cls: 0.002582  loss_box_reg: 0.05489  time: 0.6972  data_time: 0.0221  lr: 0.001  max_mem: 2172M\n",
            "[02/17 14:04:44 d2.utils.events]:  eta: 1 day, 10:19:15  iter: 10459  total_loss: 0.05816  loss_cls: 0.002403  loss_box_reg: 0.05318  time: 0.6972  data_time: 0.0261  lr: 0.001  max_mem: 2172M\n",
            "[02/17 14:04:58 d2.utils.events]:  eta: 1 day, 10:17:41  iter: 10479  total_loss: 0.05714  loss_cls: 0.003519  loss_box_reg: 0.05286  time: 0.6972  data_time: 0.0260  lr: 0.001  max_mem: 2172M\n",
            "[02/17 14:05:12 d2.utils.events]:  eta: 1 day, 10:17:34  iter: 10499  total_loss: 0.06262  loss_cls: 0.002937  loss_box_reg: 0.05929  time: 0.6973  data_time: 0.0287  lr: 0.001  max_mem: 2172M\n",
            "[02/17 14:05:26 d2.utils.events]:  eta: 1 day, 10:18:59  iter: 10519  total_loss: 0.05332  loss_cls: 0.001594  loss_box_reg: 0.0509  time: 0.6973  data_time: 0.0177  lr: 0.001  max_mem: 2172M\n",
            "[02/17 14:05:40 d2.utils.events]:  eta: 1 day, 10:18:25  iter: 10539  total_loss: 0.06172  loss_cls: 0.003117  loss_box_reg: 0.05896  time: 0.6973  data_time: 0.0165  lr: 0.001  max_mem: 2172M\n",
            "[02/17 14:05:54 d2.utils.events]:  eta: 1 day, 10:18:22  iter: 10559  total_loss: 0.05846  loss_cls: 0.003879  loss_box_reg: 0.05627  time: 0.6972  data_time: 0.0189  lr: 0.001  max_mem: 2172M\n",
            "[02/17 14:06:08 d2.utils.events]:  eta: 1 day, 10:17:28  iter: 10579  total_loss: 0.07216  loss_cls: 0.004348  loss_box_reg: 0.06685  time: 0.6972  data_time: 0.0207  lr: 0.001  max_mem: 2172M\n",
            "[02/17 14:06:21 d2.utils.events]:  eta: 1 day, 10:16:07  iter: 10599  total_loss: 0.05256  loss_cls: 0.002181  loss_box_reg: 0.0495  time: 0.6972  data_time: 0.0174  lr: 0.001  max_mem: 2172M\n",
            "[02/17 14:06:35 d2.utils.events]:  eta: 1 day, 10:14:49  iter: 10619  total_loss: 0.0593  loss_cls: 0.003104  loss_box_reg: 0.05527  time: 0.6971  data_time: 0.0191  lr: 0.001  max_mem: 2172M\n",
            "[02/17 14:06:49 d2.utils.events]:  eta: 1 day, 10:15:44  iter: 10639  total_loss: 0.05372  loss_cls: 0.003368  loss_box_reg: 0.04898  time: 0.6972  data_time: 0.0223  lr: 0.001  max_mem: 2172M\n",
            "[02/17 14:07:03 d2.utils.events]:  eta: 1 day, 10:15:56  iter: 10659  total_loss: 0.05926  loss_cls: 0.002159  loss_box_reg: 0.0562  time: 0.6972  data_time: 0.0181  lr: 0.001  max_mem: 2172M\n",
            "[02/17 14:07:17 d2.utils.events]:  eta: 1 day, 10:15:22  iter: 10679  total_loss: 0.06311  loss_cls: 0.003711  loss_box_reg: 0.05916  time: 0.6972  data_time: 0.0233  lr: 0.001  max_mem: 2172M\n",
            "[02/17 14:07:32 d2.utils.events]:  eta: 1 day, 10:15:51  iter: 10699  total_loss: 0.0554  loss_cls: 0.002432  loss_box_reg: 0.04975  time: 0.6972  data_time: 0.0213  lr: 0.001  max_mem: 2172M\n",
            "[02/17 14:07:46 d2.utils.events]:  eta: 1 day, 10:16:02  iter: 10719  total_loss: 0.05089  loss_cls: 0.002173  loss_box_reg: 0.04921  time: 0.6972  data_time: 0.0229  lr: 0.001  max_mem: 2172M\n",
            "[02/17 14:07:59 d2.utils.events]:  eta: 1 day, 10:15:51  iter: 10739  total_loss: 0.05426  loss_cls: 0.003233  loss_box_reg: 0.05184  time: 0.6972  data_time: 0.0219  lr: 0.001  max_mem: 2172M\n",
            "[02/17 14:08:14 d2.utils.events]:  eta: 1 day, 10:15:56  iter: 10759  total_loss: 0.05696  loss_cls: 0.002995  loss_box_reg: 0.05356  time: 0.6973  data_time: 0.0160  lr: 0.001  max_mem: 2172M\n",
            "[02/17 14:08:28 d2.utils.events]:  eta: 1 day, 10:15:41  iter: 10779  total_loss: 0.0624  loss_cls: 0.002082  loss_box_reg: 0.06082  time: 0.6973  data_time: 0.0214  lr: 0.001  max_mem: 2172M\n",
            "[02/17 14:08:42 d2.utils.events]:  eta: 1 day, 10:15:35  iter: 10799  total_loss: 0.05058  loss_cls: 0.002693  loss_box_reg: 0.04893  time: 0.6973  data_time: 0.0238  lr: 0.001  max_mem: 2172M\n",
            "[02/17 14:08:56 d2.utils.events]:  eta: 1 day, 10:15:21  iter: 10819  total_loss: 0.05692  loss_cls: 0.002163  loss_box_reg: 0.05521  time: 0.6973  data_time: 0.0181  lr: 0.001  max_mem: 2172M\n",
            "[02/17 14:09:10 d2.utils.events]:  eta: 1 day, 10:14:58  iter: 10839  total_loss: 0.06325  loss_cls: 0.002571  loss_box_reg: 0.06123  time: 0.6973  data_time: 0.0223  lr: 0.001  max_mem: 2172M\n",
            "[02/17 14:09:24 d2.utils.events]:  eta: 1 day, 10:14:22  iter: 10859  total_loss: 0.07891  loss_cls: 0.009113  loss_box_reg: 0.06806  time: 0.6973  data_time: 0.0222  lr: 0.001  max_mem: 2172M\n",
            "[02/17 14:09:37 d2.utils.events]:  eta: 1 day, 10:12:57  iter: 10879  total_loss: 0.07078  loss_cls: 0.005121  loss_box_reg: 0.06556  time: 0.6972  data_time: 0.0251  lr: 0.001  max_mem: 2172M\n",
            "[02/17 14:09:51 d2.utils.events]:  eta: 1 day, 10:12:29  iter: 10899  total_loss: 0.06184  loss_cls: 0.003152  loss_box_reg: 0.0588  time: 0.6973  data_time: 0.0284  lr: 0.001  max_mem: 2172M\n",
            "[02/17 14:10:05 d2.utils.events]:  eta: 1 day, 10:12:28  iter: 10919  total_loss: 0.06737  loss_cls: 0.004599  loss_box_reg: 0.06359  time: 0.6973  data_time: 0.0182  lr: 0.001  max_mem: 2172M\n",
            "[02/17 14:10:19 d2.utils.events]:  eta: 1 day, 10:12:00  iter: 10939  total_loss: 0.06983  loss_cls: 0.003319  loss_box_reg: 0.0674  time: 0.6973  data_time: 0.0179  lr: 0.001  max_mem: 2172M\n",
            "[02/17 14:10:33 d2.utils.events]:  eta: 1 day, 10:09:24  iter: 10959  total_loss: 0.05774  loss_cls: 0.001953  loss_box_reg: 0.05451  time: 0.6972  data_time: 0.0231  lr: 0.001  max_mem: 2172M\n",
            "[02/17 14:10:46 d2.utils.events]:  eta: 1 day, 10:09:09  iter: 10979  total_loss: 0.05196  loss_cls: 0.001723  loss_box_reg: 0.05037  time: 0.6972  data_time: 0.0177  lr: 0.001  max_mem: 2172M\n",
            "[02/17 14:11:01 d2.utils.events]:  eta: 1 day, 10:08:54  iter: 10999  total_loss: 0.06714  loss_cls: 0.002989  loss_box_reg: 0.06466  time: 0.6972  data_time: 0.0220  lr: 0.001  max_mem: 2172M\n",
            "[02/17 14:11:14 d2.utils.events]:  eta: 1 day, 10:08:40  iter: 11019  total_loss: 0.06943  loss_cls: 0.002666  loss_box_reg: 0.06736  time: 0.6972  data_time: 0.0202  lr: 0.001  max_mem: 2172M\n",
            "[02/17 14:11:28 d2.utils.events]:  eta: 1 day, 10:03:26  iter: 11039  total_loss: 0.05813  loss_cls: 0.002593  loss_box_reg: 0.05577  time: 0.6972  data_time: 0.0238  lr: 0.001  max_mem: 2172M\n",
            "[02/17 14:11:42 d2.utils.events]:  eta: 1 day, 10:08:24  iter: 11059  total_loss: 0.06682  loss_cls: 0.002808  loss_box_reg: 0.06531  time: 0.6972  data_time: 0.0238  lr: 0.001  max_mem: 2172M\n",
            "[02/17 14:11:57 d2.utils.events]:  eta: 1 day, 10:08:49  iter: 11079  total_loss: 0.07007  loss_cls: 0.003295  loss_box_reg: 0.06399  time: 0.6972  data_time: 0.0251  lr: 0.001  max_mem: 2172M\n",
            "[02/17 14:12:10 d2.utils.events]:  eta: 1 day, 10:07:56  iter: 11099  total_loss: 0.05826  loss_cls: 0.002452  loss_box_reg: 0.05359  time: 0.6972  data_time: 0.0155  lr: 0.001  max_mem: 2172M\n",
            "[02/17 14:12:25 d2.utils.events]:  eta: 1 day, 10:08:33  iter: 11119  total_loss: 0.06754  loss_cls: 0.003131  loss_box_reg: 0.06569  time: 0.6972  data_time: 0.0251  lr: 0.001  max_mem: 2172M\n",
            "[02/17 14:12:39 d2.utils.events]:  eta: 1 day, 10:09:47  iter: 11139  total_loss: 0.05337  loss_cls: 0.001882  loss_box_reg: 0.04961  time: 0.6973  data_time: 0.0222  lr: 0.001  max_mem: 2172M\n",
            "[02/17 14:12:53 d2.utils.events]:  eta: 1 day, 10:06:05  iter: 11159  total_loss: 0.06374  loss_cls: 0.001734  loss_box_reg: 0.06075  time: 0.6972  data_time: 0.0259  lr: 0.001  max_mem: 2172M\n",
            "[02/17 14:13:06 d2.utils.events]:  eta: 1 day, 10:04:26  iter: 11179  total_loss: 0.0619  loss_cls: 0.002518  loss_box_reg: 0.05373  time: 0.6972  data_time: 0.0221  lr: 0.001  max_mem: 2172M\n",
            "[02/17 14:13:21 d2.utils.events]:  eta: 1 day, 10:02:43  iter: 11199  total_loss: 0.06098  loss_cls: 0.003491  loss_box_reg: 0.05755  time: 0.6972  data_time: 0.0269  lr: 0.001  max_mem: 2172M\n",
            "[02/17 14:13:34 d2.utils.events]:  eta: 1 day, 10:02:29  iter: 11219  total_loss: 0.05719  loss_cls: 0.003123  loss_box_reg: 0.0532  time: 0.6972  data_time: 0.0179  lr: 0.001  max_mem: 2172M\n",
            "[02/17 14:13:48 d2.utils.events]:  eta: 1 day, 9:57:54  iter: 11239  total_loss: 0.05689  loss_cls: 0.002805  loss_box_reg: 0.05046  time: 0.6972  data_time: 0.0169  lr: 0.001  max_mem: 2172M\n",
            "[02/17 14:14:02 d2.utils.events]:  eta: 1 day, 9:57:39  iter: 11259  total_loss: 0.06673  loss_cls: 0.002096  loss_box_reg: 0.06063  time: 0.6972  data_time: 0.0284  lr: 0.001  max_mem: 2172M\n",
            "[02/17 14:14:16 d2.utils.events]:  eta: 1 day, 10:00:32  iter: 11279  total_loss: 0.0644  loss_cls: 0.003078  loss_box_reg: 0.06079  time: 0.6972  data_time: 0.0174  lr: 0.001  max_mem: 2172M\n",
            "[02/17 14:14:30 d2.utils.events]:  eta: 1 day, 10:00:17  iter: 11299  total_loss: 0.05466  loss_cls: 0.00344  loss_box_reg: 0.05208  time: 0.6973  data_time: 0.0212  lr: 0.001  max_mem: 2172M\n",
            "[02/17 14:14:44 d2.utils.events]:  eta: 1 day, 10:03:26  iter: 11319  total_loss: 0.06564  loss_cls: 0.002895  loss_box_reg: 0.06427  time: 0.6972  data_time: 0.0183  lr: 0.001  max_mem: 2172M\n",
            "[02/17 14:14:58 d2.utils.events]:  eta: 1 day, 9:56:41  iter: 11339  total_loss: 0.06061  loss_cls: 0.002292  loss_box_reg: 0.05767  time: 0.6972  data_time: 0.0171  lr: 0.001  max_mem: 2172M\n",
            "[02/17 14:15:12 d2.utils.events]:  eta: 1 day, 9:59:34  iter: 11359  total_loss: 0.06713  loss_cls: 0.002632  loss_box_reg: 0.06355  time: 0.6972  data_time: 0.0202  lr: 0.001  max_mem: 2172M\n",
            "[02/17 14:15:25 d2.utils.events]:  eta: 1 day, 8:49:39  iter: 11379  total_loss: 0.06398  loss_cls: 0.003321  loss_box_reg: 0.06068  time: 0.6971  data_time: 0.0196  lr: 0.001  max_mem: 2172M\n",
            "[02/17 14:15:39 d2.utils.events]:  eta: 1 day, 8:49:25  iter: 11399  total_loss: 0.05905  loss_cls: 0.002781  loss_box_reg: 0.05629  time: 0.6971  data_time: 0.0222  lr: 0.001  max_mem: 2172M\n",
            "[02/17 14:15:53 d2.utils.events]:  eta: 1 day, 8:44:21  iter: 11419  total_loss: 0.05901  loss_cls: 0.003454  loss_box_reg: 0.05464  time: 0.6971  data_time: 0.0206  lr: 0.001  max_mem: 2172M\n",
            "[02/17 14:16:06 d2.utils.events]:  eta: 1 day, 8:48:57  iter: 11439  total_loss: 0.06249  loss_cls: 0.001808  loss_box_reg: 0.06057  time: 0.6971  data_time: 0.0250  lr: 0.001  max_mem: 2172M\n",
            "[02/17 14:16:20 d2.utils.events]:  eta: 1 day, 8:51:55  iter: 11459  total_loss: 0.06574  loss_cls: 0.004262  loss_box_reg: 0.05793  time: 0.6971  data_time: 0.0188  lr: 0.001  max_mem: 2172M\n",
            "[02/17 14:16:35 d2.utils.events]:  eta: 1 day, 9:36:40  iter: 11479  total_loss: 0.0633  loss_cls: 0.001837  loss_box_reg: 0.05644  time: 0.6971  data_time: 0.0235  lr: 0.001  max_mem: 2172M\n",
            "[02/17 14:16:49 d2.utils.events]:  eta: 1 day, 9:36:26  iter: 11499  total_loss: 0.06065  loss_cls: 0.001983  loss_box_reg: 0.05627  time: 0.6971  data_time: 0.0228  lr: 0.001  max_mem: 2172M\n",
            "[02/17 14:17:03 d2.utils.events]:  eta: 1 day, 8:52:46  iter: 11519  total_loss: 0.05862  loss_cls: 0.002673  loss_box_reg: 0.05535  time: 0.6971  data_time: 0.0189  lr: 0.001  max_mem: 2172M\n",
            "[02/17 14:17:17 d2.utils.events]:  eta: 1 day, 8:52:32  iter: 11539  total_loss: 0.05583  loss_cls: 0.001904  loss_box_reg: 0.05284  time: 0.6971  data_time: 0.0206  lr: 0.001  max_mem: 2172M\n",
            "[02/17 14:17:31 d2.utils.events]:  eta: 1 day, 9:57:09  iter: 11559  total_loss: 0.06669  loss_cls: 0.002847  loss_box_reg: 0.0599  time: 0.6972  data_time: 0.0222  lr: 0.001  max_mem: 2172M\n",
            "[02/17 14:17:44 d2.utils.events]:  eta: 1 day, 9:07:02  iter: 11579  total_loss: 0.05734  loss_cls: 0.002022  loss_box_reg: 0.05275  time: 0.6971  data_time: 0.0174  lr: 0.001  max_mem: 2172M\n",
            "[02/17 14:17:58 d2.utils.events]:  eta: 1 day, 9:57:36  iter: 11599  total_loss: 0.04952  loss_cls: 0.002062  loss_box_reg: 0.04805  time: 0.6971  data_time: 0.0267  lr: 0.001  max_mem: 2172M\n",
            "[02/17 14:18:12 d2.utils.events]:  eta: 1 day, 10:01:38  iter: 11619  total_loss: 0.05328  loss_cls: 0.001691  loss_box_reg: 0.05126  time: 0.6971  data_time: 0.0228  lr: 0.001  max_mem: 2172M\n",
            "[02/17 14:18:26 d2.utils.events]:  eta: 1 day, 10:01:24  iter: 11639  total_loss: 0.07286  loss_cls: 0.002232  loss_box_reg: 0.06145  time: 0.6971  data_time: 0.0248  lr: 0.001  max_mem: 2172M\n",
            "[02/17 14:18:40 d2.utils.events]:  eta: 1 day, 10:01:22  iter: 11659  total_loss: 0.05712  loss_cls: 0.001954  loss_box_reg: 0.056  time: 0.6972  data_time: 0.0233  lr: 0.001  max_mem: 2172M\n",
            "[02/17 14:18:54 d2.utils.events]:  eta: 1 day, 9:55:42  iter: 11679  total_loss: 0.05628  loss_cls: 0.002191  loss_box_reg: 0.05039  time: 0.6971  data_time: 0.0222  lr: 0.001  max_mem: 2172M\n",
            "[02/17 14:19:07 d2.utils.events]:  eta: 1 day, 8:45:55  iter: 11699  total_loss: 0.05195  loss_cls: 0.003029  loss_box_reg: 0.05058  time: 0.6971  data_time: 0.0218  lr: 0.001  max_mem: 2172M\n",
            "[02/17 14:19:21 d2.utils.events]:  eta: 1 day, 8:35:22  iter: 11719  total_loss: 0.0497  loss_cls: 0.002115  loss_box_reg: 0.04648  time: 0.6970  data_time: 0.0223  lr: 0.001  max_mem: 2172M\n",
            "[02/17 14:19:35 d2.utils.events]:  eta: 1 day, 8:32:42  iter: 11739  total_loss: 0.06528  loss_cls: 0.003033  loss_box_reg: 0.05919  time: 0.6970  data_time: 0.0177  lr: 0.001  max_mem: 2172M\n",
            "[02/17 14:19:49 d2.utils.events]:  eta: 1 day, 8:27:58  iter: 11759  total_loss: 0.0559  loss_cls: 0.001948  loss_box_reg: 0.05373  time: 0.6970  data_time: 0.0174  lr: 0.001  max_mem: 2172M\n",
            "[02/17 14:20:03 d2.utils.events]:  eta: 1 day, 8:25:42  iter: 11779  total_loss: 0.05244  loss_cls: 0.0027  loss_box_reg: 0.05039  time: 0.6970  data_time: 0.0181  lr: 0.001  max_mem: 2172M\n",
            "[02/17 14:20:16 d2.utils.events]:  eta: 1 day, 8:25:28  iter: 11799  total_loss: 0.06385  loss_cls: 0.003053  loss_box_reg: 0.06293  time: 0.6970  data_time: 0.0168  lr: 0.001  max_mem: 2172M\n",
            "[02/17 14:20:30 d2.utils.events]:  eta: 1 day, 8:20:11  iter: 11819  total_loss: 0.05658  loss_cls: 0.002702  loss_box_reg: 0.05092  time: 0.6970  data_time: 0.0266  lr: 0.001  max_mem: 2172M\n",
            "[02/17 14:20:44 d2.utils.events]:  eta: 1 day, 8:19:57  iter: 11839  total_loss: 0.0531  loss_cls: 0.002482  loss_box_reg: 0.05155  time: 0.6970  data_time: 0.0176  lr: 0.001  max_mem: 2172M\n",
            "[02/17 14:20:58 d2.utils.events]:  eta: 1 day, 8:21:45  iter: 11859  total_loss: 0.05258  loss_cls: 0.001938  loss_box_reg: 0.05015  time: 0.6970  data_time: 0.0212  lr: 0.001  max_mem: 2172M\n",
            "[02/17 14:21:12 d2.utils.events]:  eta: 1 day, 8:36:00  iter: 11879  total_loss: 0.05458  loss_cls: 0.003064  loss_box_reg: 0.04882  time: 0.6970  data_time: 0.0284  lr: 0.001  max_mem: 2172M\n",
            "[02/17 14:21:26 d2.utils.events]:  eta: 1 day, 8:26:21  iter: 11899  total_loss: 0.06499  loss_cls: 0.002111  loss_box_reg: 0.05951  time: 0.6970  data_time: 0.0211  lr: 0.001  max_mem: 2172M\n",
            "[02/17 14:21:39 d2.utils.events]:  eta: 1 day, 8:20:24  iter: 11919  total_loss: 0.06182  loss_cls: 0.001657  loss_box_reg: 0.0605  time: 0.6969  data_time: 0.0259  lr: 0.001  max_mem: 2172M\n",
            "[02/17 14:21:53 d2.utils.events]:  eta: 1 day, 8:17:53  iter: 11939  total_loss: 0.05713  loss_cls: 0.002582  loss_box_reg: 0.0534  time: 0.6969  data_time: 0.0247  lr: 0.001  max_mem: 2172M\n",
            "[02/17 14:22:07 d2.utils.events]:  eta: 1 day, 8:20:36  iter: 11959  total_loss: 0.05615  loss_cls: 0.002805  loss_box_reg: 0.0542  time: 0.6969  data_time: 0.0253  lr: 0.001  max_mem: 2172M\n",
            "[02/17 14:22:21 d2.utils.events]:  eta: 1 day, 8:20:22  iter: 11979  total_loss: 0.05137  loss_cls: 0.001836  loss_box_reg: 0.04602  time: 0.6969  data_time: 0.0221  lr: 0.001  max_mem: 2172M\n",
            "[02/17 14:22:35 d2.utils.events]:  eta: 1 day, 8:16:50  iter: 11999  total_loss: 0.06599  loss_cls: 0.002377  loss_box_reg: 0.06316  time: 0.6969  data_time: 0.0213  lr: 0.001  max_mem: 2172M\n",
            "[02/17 14:22:49 d2.utils.events]:  eta: 1 day, 8:16:57  iter: 12019  total_loss: 0.06306  loss_cls: 0.001855  loss_box_reg: 0.06151  time: 0.6969  data_time: 0.0201  lr: 0.001  max_mem: 2172M\n",
            "[02/17 14:23:03 d2.utils.events]:  eta: 1 day, 8:34:15  iter: 12039  total_loss: 0.06426  loss_cls: 0.002683  loss_box_reg: 0.06082  time: 0.6969  data_time: 0.0233  lr: 0.001  max_mem: 2172M\n",
            "[02/17 14:23:17 d2.utils.events]:  eta: 1 day, 8:46:32  iter: 12059  total_loss: 0.05267  loss_cls: 0.002032  loss_box_reg: 0.0492  time: 0.6970  data_time: 0.0208  lr: 0.001  max_mem: 2172M\n",
            "[02/17 14:23:31 d2.utils.events]:  eta: 1 day, 8:33:47  iter: 12079  total_loss: 0.06239  loss_cls: 0.002033  loss_box_reg: 0.05534  time: 0.6970  data_time: 0.0240  lr: 0.001  max_mem: 2172M\n",
            "[02/17 14:23:45 d2.utils.events]:  eta: 1 day, 8:33:33  iter: 12099  total_loss: 0.06727  loss_cls: 0.003334  loss_box_reg: 0.0608  time: 0.6970  data_time: 0.0183  lr: 0.001  max_mem: 2172M\n",
            "[02/17 14:24:00 d2.utils.events]:  eta: 1 day, 8:45:50  iter: 12119  total_loss: 0.05961  loss_cls: 0.001739  loss_box_reg: 0.05744  time: 0.6970  data_time: 0.0287  lr: 0.001  max_mem: 2172M\n",
            "[02/17 14:24:14 d2.utils.events]:  eta: 1 day, 8:33:05  iter: 12139  total_loss: 0.06535  loss_cls: 0.002145  loss_box_reg: 0.06179  time: 0.6970  data_time: 0.0239  lr: 0.001  max_mem: 2172M\n",
            "[02/17 14:24:28 d2.utils.events]:  eta: 1 day, 9:20:42  iter: 12159  total_loss: 0.06142  loss_cls: 0.002336  loss_box_reg: 0.05926  time: 0.6971  data_time: 0.0169  lr: 0.001  max_mem: 2172M\n",
            "[02/17 14:24:42 d2.utils.events]:  eta: 1 day, 8:50:42  iter: 12179  total_loss: 0.05761  loss_cls: 0.001884  loss_box_reg: 0.05308  time: 0.6970  data_time: 0.0230  lr: 0.001  max_mem: 2172M\n",
            "[02/17 14:24:56 d2.utils.events]:  eta: 1 day, 8:46:56  iter: 12199  total_loss: 0.05714  loss_cls: 0.002837  loss_box_reg: 0.0546  time: 0.6970  data_time: 0.0186  lr: 0.001  max_mem: 2172M\n",
            "[02/17 14:25:10 d2.utils.events]:  eta: 1 day, 8:47:24  iter: 12219  total_loss: 0.05799  loss_cls: 0.002192  loss_box_reg: 0.05321  time: 0.6971  data_time: 0.0163  lr: 0.001  max_mem: 2172M\n",
            "[02/17 14:25:24 d2.utils.events]:  eta: 1 day, 9:50:12  iter: 12239  total_loss: 0.06675  loss_cls: 0.002804  loss_box_reg: 0.06127  time: 0.6971  data_time: 0.0256  lr: 0.001  max_mem: 2172M\n",
            "[02/17 14:25:38 d2.utils.events]:  eta: 1 day, 9:19:31  iter: 12259  total_loss: 0.06417  loss_cls: 0.00207  loss_box_reg: 0.06235  time: 0.6971  data_time: 0.0187  lr: 0.001  max_mem: 2172M\n",
            "[02/17 14:25:52 d2.utils.events]:  eta: 1 day, 8:46:42  iter: 12279  total_loss: 0.04733  loss_cls: 0.002128  loss_box_reg: 0.04567  time: 0.6970  data_time: 0.0242  lr: 0.001  max_mem: 2172M\n",
            "[02/17 14:26:06 d2.utils.events]:  eta: 1 day, 8:45:06  iter: 12299  total_loss: 0.05783  loss_cls: 0.002512  loss_box_reg: 0.05532  time: 0.6970  data_time: 0.0239  lr: 0.001  max_mem: 2172M\n",
            "[02/17 14:26:20 d2.utils.events]:  eta: 1 day, 8:51:09  iter: 12319  total_loss: 0.06003  loss_cls: 0.003001  loss_box_reg: 0.05647  time: 0.6971  data_time: 0.0270  lr: 0.001  max_mem: 2172M\n",
            "[02/17 14:26:34 d2.utils.events]:  eta: 1 day, 8:50:55  iter: 12339  total_loss: 0.06399  loss_cls: 0.002056  loss_box_reg: 0.05701  time: 0.6971  data_time: 0.0180  lr: 0.001  max_mem: 2172M\n",
            "[02/17 14:26:48 d2.utils.events]:  eta: 1 day, 9:49:00  iter: 12359  total_loss: 0.05651  loss_cls: 0.002321  loss_box_reg: 0.05183  time: 0.6971  data_time: 0.0206  lr: 0.001  max_mem: 2172M\n",
            "[02/17 14:27:02 d2.utils.events]:  eta: 1 day, 9:52:06  iter: 12379  total_loss: 0.05778  loss_cls: 0.00198  loss_box_reg: 0.05406  time: 0.6971  data_time: 0.0214  lr: 0.001  max_mem: 2172M\n",
            "[02/17 14:27:16 d2.utils.events]:  eta: 1 day, 9:53:04  iter: 12399  total_loss: 0.06634  loss_cls: 0.003434  loss_box_reg: 0.06258  time: 0.6971  data_time: 0.0237  lr: 0.001  max_mem: 2172M\n",
            "[02/17 14:27:30 d2.utils.events]:  eta: 1 day, 9:52:49  iter: 12419  total_loss: 0.0619  loss_cls: 0.004061  loss_box_reg: 0.05868  time: 0.6971  data_time: 0.0198  lr: 0.001  max_mem: 2172M\n",
            "[02/17 14:27:44 d2.utils.events]:  eta: 1 day, 9:54:02  iter: 12439  total_loss: 0.07181  loss_cls: 0.003429  loss_box_reg: 0.06873  time: 0.6971  data_time: 0.0199  lr: 0.001  max_mem: 2172M\n",
            "[02/17 14:27:58 d2.utils.events]:  eta: 1 day, 9:53:47  iter: 12459  total_loss: 0.06835  loss_cls: 0.002623  loss_box_reg: 0.06424  time: 0.6971  data_time: 0.0187  lr: 0.001  max_mem: 2172M\n",
            "[02/17 14:28:12 d2.utils.events]:  eta: 1 day, 9:52:30  iter: 12479  total_loss: 0.05664  loss_cls: 0.002557  loss_box_reg: 0.05125  time: 0.6971  data_time: 0.0293  lr: 0.001  max_mem: 2172M\n",
            "[02/17 14:28:26 d2.utils.events]:  eta: 1 day, 9:50:39  iter: 12499  total_loss: 0.05172  loss_cls: 0.001679  loss_box_reg: 0.04824  time: 0.6971  data_time: 0.0180  lr: 0.001  max_mem: 2172M\n",
            "[02/17 14:28:40 d2.utils.events]:  eta: 1 day, 9:51:53  iter: 12519  total_loss: 0.05126  loss_cls: 0.002299  loss_box_reg: 0.04632  time: 0.6971  data_time: 0.0246  lr: 0.001  max_mem: 2172M\n",
            "[02/17 14:28:54 d2.utils.events]:  eta: 1 day, 9:51:40  iter: 12539  total_loss: 0.05382  loss_cls: 0.00171  loss_box_reg: 0.0514  time: 0.6971  data_time: 0.0162  lr: 0.001  max_mem: 2172M\n",
            "[02/17 14:29:09 d2.utils.events]:  eta: 1 day, 9:52:11  iter: 12559  total_loss: 0.04962  loss_cls: 0.001323  loss_box_reg: 0.04589  time: 0.6972  data_time: 0.0271  lr: 0.001  max_mem: 2172M\n",
            "[02/17 14:29:23 d2.utils.events]:  eta: 1 day, 9:53:17  iter: 12579  total_loss: 0.05351  loss_cls: 0.002142  loss_box_reg: 0.0509  time: 0.6972  data_time: 0.0246  lr: 0.001  max_mem: 2172M\n",
            "[02/17 14:29:37 d2.utils.events]:  eta: 1 day, 9:53:37  iter: 12599  total_loss: 0.05072  loss_cls: 0.002843  loss_box_reg: 0.05001  time: 0.6972  data_time: 0.0244  lr: 0.001  max_mem: 2172M\n",
            "[02/17 14:29:51 d2.utils.events]:  eta: 1 day, 9:52:47  iter: 12619  total_loss: 0.05031  loss_cls: 0.00204  loss_box_reg: 0.0476  time: 0.6972  data_time: 0.0218  lr: 0.001  max_mem: 2172M\n",
            "[02/17 14:30:05 d2.utils.events]:  eta: 1 day, 9:52:33  iter: 12639  total_loss: 0.05015  loss_cls: 0.001638  loss_box_reg: 0.04851  time: 0.6972  data_time: 0.0157  lr: 0.001  max_mem: 2172M\n",
            "[02/17 14:30:19 d2.utils.events]:  eta: 1 day, 9:51:22  iter: 12659  total_loss: 0.05741  loss_cls: 0.001409  loss_box_reg: 0.05405  time: 0.6972  data_time: 0.0218  lr: 0.001  max_mem: 2172M\n",
            "[02/17 14:30:33 d2.utils.events]:  eta: 1 day, 9:53:53  iter: 12679  total_loss: 0.05314  loss_cls: 0.002981  loss_box_reg: 0.04839  time: 0.6972  data_time: 0.0199  lr: 0.001  max_mem: 2172M\n",
            "[02/17 14:30:47 d2.utils.events]:  eta: 1 day, 9:55:47  iter: 12699  total_loss: 0.05739  loss_cls: 0.002692  loss_box_reg: 0.05252  time: 0.6972  data_time: 0.0215  lr: 0.001  max_mem: 2172M\n",
            "[02/17 14:31:01 d2.utils.events]:  eta: 1 day, 9:55:55  iter: 12719  total_loss: 0.05626  loss_cls: 0.00215  loss_box_reg: 0.05445  time: 0.6972  data_time: 0.0207  lr: 0.001  max_mem: 2172M\n",
            "[02/17 14:31:15 d2.utils.events]:  eta: 1 day, 9:56:23  iter: 12739  total_loss: 0.0574  loss_cls: 0.002168  loss_box_reg: 0.05005  time: 0.6972  data_time: 0.0222  lr: 0.001  max_mem: 2172M\n",
            "[02/17 14:31:29 d2.utils.events]:  eta: 1 day, 9:56:04  iter: 12759  total_loss: 0.05728  loss_cls: 0.003162  loss_box_reg: 0.05465  time: 0.6972  data_time: 0.0185  lr: 0.001  max_mem: 2172M\n",
            "[02/17 14:31:43 d2.utils.events]:  eta: 1 day, 9:55:55  iter: 12779  total_loss: 0.06231  loss_cls: 0.003864  loss_box_reg: 0.05906  time: 0.6972  data_time: 0.0201  lr: 0.001  max_mem: 2172M\n",
            "[02/17 14:31:57 d2.utils.events]:  eta: 1 day, 9:55:40  iter: 12799  total_loss: 0.05488  loss_cls: 0.001596  loss_box_reg: 0.05196  time: 0.6972  data_time: 0.0181  lr: 0.001  max_mem: 2172M\n",
            "[02/17 14:32:11 d2.utils.events]:  eta: 1 day, 9:55:53  iter: 12819  total_loss: 0.05602  loss_cls: 0.002334  loss_box_reg: 0.05362  time: 0.6972  data_time: 0.0155  lr: 0.001  max_mem: 2172M\n",
            "[02/17 14:32:25 d2.utils.events]:  eta: 1 day, 9:55:17  iter: 12839  total_loss: 0.05864  loss_cls: 0.001488  loss_box_reg: 0.0573  time: 0.6972  data_time: 0.0224  lr: 0.001  max_mem: 2172M\n",
            "[02/17 14:32:39 d2.utils.events]:  eta: 1 day, 9:54:56  iter: 12859  total_loss: 0.04921  loss_cls: 0.001291  loss_box_reg: 0.0471  time: 0.6972  data_time: 0.0233  lr: 0.001  max_mem: 2172M\n",
            "[02/17 14:32:52 d2.utils.events]:  eta: 1 day, 9:53:35  iter: 12879  total_loss: 0.05746  loss_cls: 0.001903  loss_box_reg: 0.05493  time: 0.6972  data_time: 0.0190  lr: 0.001  max_mem: 2172M\n",
            "[02/17 14:33:06 d2.utils.events]:  eta: 1 day, 9:53:21  iter: 12899  total_loss: 0.04795  loss_cls: 0.00133  loss_box_reg: 0.04459  time: 0.6972  data_time: 0.0270  lr: 0.001  max_mem: 2172M\n",
            "[02/17 14:33:19 d2.utils.events]:  eta: 1 day, 9:53:06  iter: 12919  total_loss: 0.05876  loss_cls: 0.003017  loss_box_reg: 0.05257  time: 0.6971  data_time: 0.0201  lr: 0.001  max_mem: 2172M\n",
            "[02/17 14:33:33 d2.utils.events]:  eta: 1 day, 9:52:08  iter: 12939  total_loss: 0.05437  loss_cls: 0.002354  loss_box_reg: 0.05155  time: 0.6971  data_time: 0.0271  lr: 0.001  max_mem: 2172M\n",
            "[02/17 14:33:47 d2.utils.events]:  eta: 1 day, 9:53:00  iter: 12959  total_loss: 0.05865  loss_cls: 0.003191  loss_box_reg: 0.05235  time: 0.6972  data_time: 0.0245  lr: 0.001  max_mem: 2172M\n",
            "[02/17 14:34:02 d2.utils.events]:  eta: 1 day, 9:53:07  iter: 12979  total_loss: 0.05633  loss_cls: 0.002276  loss_box_reg: 0.05181  time: 0.6972  data_time: 0.0244  lr: 0.001  max_mem: 2172M\n",
            "[02/17 14:34:16 d2.utils.events]:  eta: 1 day, 9:53:08  iter: 12999  total_loss: 0.05888  loss_cls: 0.00222  loss_box_reg: 0.05583  time: 0.6972  data_time: 0.0187  lr: 0.001  max_mem: 2172M\n",
            "[02/17 14:34:29 d2.utils.events]:  eta: 1 day, 9:52:38  iter: 13019  total_loss: 0.05456  loss_cls: 0.002225  loss_box_reg: 0.05256  time: 0.6972  data_time: 0.0158  lr: 0.001  max_mem: 2172M\n",
            "[02/17 14:34:44 d2.utils.events]:  eta: 1 day, 9:52:39  iter: 13039  total_loss: 0.05055  loss_cls: 0.001668  loss_box_reg: 0.04936  time: 0.6972  data_time: 0.0174  lr: 0.001  max_mem: 2172M\n",
            "[02/17 14:34:57 d2.utils.events]:  eta: 1 day, 9:50:40  iter: 13059  total_loss: 0.05219  loss_cls: 0.001974  loss_box_reg: 0.05064  time: 0.6972  data_time: 0.0173  lr: 0.001  max_mem: 2172M\n",
            "[02/17 14:35:11 d2.utils.events]:  eta: 1 day, 9:50:12  iter: 13079  total_loss: 0.06012  loss_cls: 0.00205  loss_box_reg: 0.0564  time: 0.6971  data_time: 0.0197  lr: 0.001  max_mem: 2172M\n",
            "[02/17 14:35:25 d2.utils.events]:  eta: 1 day, 9:49:58  iter: 13099  total_loss: 0.05818  loss_cls: 0.002301  loss_box_reg: 0.05537  time: 0.6971  data_time: 0.0191  lr: 0.001  max_mem: 2172M\n",
            "[02/17 14:35:38 d2.utils.events]:  eta: 1 day, 9:43:14  iter: 13119  total_loss: 0.07305  loss_cls: 0.003658  loss_box_reg: 0.06697  time: 0.6971  data_time: 0.0217  lr: 0.001  max_mem: 2172M\n",
            "[02/17 14:35:52 d2.utils.events]:  eta: 1 day, 9:43:00  iter: 13139  total_loss: 0.05804  loss_cls: 0.001861  loss_box_reg: 0.05441  time: 0.6971  data_time: 0.0235  lr: 0.001  max_mem: 2172M\n",
            "[02/17 14:36:06 d2.utils.events]:  eta: 1 day, 9:41:10  iter: 13159  total_loss: 0.04815  loss_cls: 0.001491  loss_box_reg: 0.04666  time: 0.6971  data_time: 0.0180  lr: 0.001  max_mem: 2172M\n",
            "[02/17 14:36:20 d2.utils.events]:  eta: 1 day, 9:41:31  iter: 13179  total_loss: 0.06484  loss_cls: 0.002865  loss_box_reg: 0.059  time: 0.6971  data_time: 0.0162  lr: 0.001  max_mem: 2172M\n",
            "[02/17 14:36:34 d2.utils.events]:  eta: 1 day, 9:41:17  iter: 13199  total_loss: 0.05771  loss_cls: 0.002188  loss_box_reg: 0.05247  time: 0.6971  data_time: 0.0242  lr: 0.001  max_mem: 2172M\n",
            "[02/17 14:36:48 d2.utils.events]:  eta: 1 day, 9:40:18  iter: 13219  total_loss: 0.05762  loss_cls: 0.001538  loss_box_reg: 0.05503  time: 0.6971  data_time: 0.0217  lr: 0.001  max_mem: 2172M\n",
            "[02/17 14:37:01 d2.utils.events]:  eta: 1 day, 9:37:39  iter: 13239  total_loss: 0.06149  loss_cls: 0.002674  loss_box_reg: 0.05588  time: 0.6971  data_time: 0.0236  lr: 0.001  max_mem: 2172M\n",
            "[02/17 14:37:15 d2.utils.events]:  eta: 1 day, 9:38:43  iter: 13259  total_loss: 0.06251  loss_cls: 0.003278  loss_box_reg: 0.05806  time: 0.6970  data_time: 0.0164  lr: 0.001  max_mem: 2172M\n",
            "[02/17 14:37:29 d2.utils.events]:  eta: 1 day, 9:34:09  iter: 13279  total_loss: 0.05315  loss_cls: 0.002395  loss_box_reg: 0.0504  time: 0.6970  data_time: 0.0218  lr: 0.001  max_mem: 2172M\n",
            "[02/17 14:37:43 d2.utils.events]:  eta: 1 day, 9:33:55  iter: 13299  total_loss: 0.05194  loss_cls: 0.002136  loss_box_reg: 0.04837  time: 0.6970  data_time: 0.0215  lr: 0.001  max_mem: 2172M\n",
            "[02/17 14:37:57 d2.utils.events]:  eta: 1 day, 9:30:32  iter: 13319  total_loss: 0.05403  loss_cls: 0.001702  loss_box_reg: 0.0518  time: 0.6970  data_time: 0.0169  lr: 0.001  max_mem: 2172M\n",
            "[02/17 14:38:11 d2.utils.events]:  eta: 1 day, 9:34:37  iter: 13339  total_loss: 0.05712  loss_cls: 0.001819  loss_box_reg: 0.05518  time: 0.6970  data_time: 0.0163  lr: 0.001  max_mem: 2172M\n",
            "[02/17 14:38:25 d2.utils.events]:  eta: 1 day, 8:30:47  iter: 13359  total_loss: 0.0565  loss_cls: 0.002483  loss_box_reg: 0.05356  time: 0.6970  data_time: 0.0200  lr: 0.001  max_mem: 2172M\n",
            "[02/17 14:38:39 d2.utils.events]:  eta: 1 day, 9:29:48  iter: 13379  total_loss: 0.04815  loss_cls: 0.001489  loss_box_reg: 0.04636  time: 0.6970  data_time: 0.0210  lr: 0.001  max_mem: 2172M\n",
            "[02/17 14:38:53 d2.utils.events]:  eta: 1 day, 9:33:53  iter: 13399  total_loss: 0.06243  loss_cls: 0.00354  loss_box_reg: 0.05776  time: 0.6970  data_time: 0.0183  lr: 0.001  max_mem: 2172M\n",
            "[02/17 14:39:07 d2.utils.events]:  eta: 1 day, 9:29:20  iter: 13419  total_loss: 0.05717  loss_cls: 0.002391  loss_box_reg: 0.05584  time: 0.6970  data_time: 0.0212  lr: 0.001  max_mem: 2172M\n",
            "[02/17 14:39:20 d2.utils.events]:  eta: 1 day, 8:57:18  iter: 13439  total_loss: 0.04514  loss_cls: 0.001503  loss_box_reg: 0.04245  time: 0.6970  data_time: 0.0188  lr: 0.001  max_mem: 2172M\n",
            "[02/17 14:39:34 d2.utils.events]:  eta: 1 day, 9:28:51  iter: 13459  total_loss: 0.06891  loss_cls: 0.005  loss_box_reg: 0.05765  time: 0.6970  data_time: 0.0166  lr: 0.001  max_mem: 2172M\n",
            "[02/17 14:39:48 d2.utils.events]:  eta: 1 day, 9:32:55  iter: 13479  total_loss: 0.06831  loss_cls: 0.003028  loss_box_reg: 0.06667  time: 0.6970  data_time: 0.0192  lr: 0.001  max_mem: 2172M\n",
            "[02/17 14:40:03 d2.utils.events]:  eta: 1 day, 9:36:32  iter: 13499  total_loss: 0.05507  loss_cls: 0.001332  loss_box_reg: 0.05432  time: 0.6970  data_time: 0.0255  lr: 0.001  max_mem: 2172M\n",
            "[02/17 14:40:17 d2.utils.events]:  eta: 1 day, 9:35:22  iter: 13519  total_loss: 0.04383  loss_cls: 0.002595  loss_box_reg: 0.04143  time: 0.6971  data_time: 0.0217  lr: 0.001  max_mem: 2172M\n",
            "[02/17 14:40:31 d2.utils.events]:  eta: 1 day, 9:33:38  iter: 13539  total_loss: 0.06223  loss_cls: 0.001633  loss_box_reg: 0.05852  time: 0.6970  data_time: 0.0191  lr: 0.001  max_mem: 2172M\n",
            "[02/17 14:40:45 d2.utils.events]:  eta: 1 day, 9:28:08  iter: 13559  total_loss: 0.0591  loss_cls: 0.003337  loss_box_reg: 0.05512  time: 0.6971  data_time: 0.0180  lr: 0.001  max_mem: 2172M\n",
            "[02/17 14:40:59 d2.utils.events]:  eta: 1 day, 8:55:38  iter: 13579  total_loss: 0.06339  loss_cls: 0.002285  loss_box_reg: 0.05843  time: 0.6970  data_time: 0.0172  lr: 0.001  max_mem: 2172M\n",
            "[02/17 14:41:12 d2.utils.events]:  eta: 1 day, 8:19:37  iter: 13599  total_loss: 0.05564  loss_cls: 0.00174  loss_box_reg: 0.05271  time: 0.6970  data_time: 0.0209  lr: 0.001  max_mem: 2172M\n",
            "[02/17 14:41:26 d2.utils.events]:  eta: 1 day, 8:20:11  iter: 13619  total_loss: 0.04799  loss_cls: 0.002135  loss_box_reg: 0.04419  time: 0.6970  data_time: 0.0184  lr: 0.001  max_mem: 2172M\n",
            "[02/17 14:41:40 d2.utils.events]:  eta: 1 day, 8:17:15  iter: 13639  total_loss: 0.05024  loss_cls: 0.001665  loss_box_reg: 0.04928  time: 0.6970  data_time: 0.0169  lr: 0.001  max_mem: 2172M\n",
            "[02/17 14:41:54 d2.utils.events]:  eta: 1 day, 8:17:03  iter: 13659  total_loss: 0.05607  loss_cls: 0.001321  loss_box_reg: 0.05529  time: 0.6970  data_time: 0.0264  lr: 0.001  max_mem: 2172M\n",
            "[02/17 14:42:08 d2.utils.events]:  eta: 1 day, 8:09:17  iter: 13679  total_loss: 0.05332  loss_cls: 0.001473  loss_box_reg: 0.04989  time: 0.6970  data_time: 0.0211  lr: 0.001  max_mem: 2172M\n",
            "[02/17 14:42:22 d2.utils.events]:  eta: 1 day, 8:17:10  iter: 13699  total_loss: 0.0483  loss_cls: 0.002174  loss_box_reg: 0.04482  time: 0.6970  data_time: 0.0183  lr: 0.001  max_mem: 2172M\n",
            "[02/17 14:42:36 d2.utils.events]:  eta: 1 day, 8:16:56  iter: 13719  total_loss: 0.05378  loss_cls: 0.001537  loss_box_reg: 0.05113  time: 0.6970  data_time: 0.0166  lr: 0.001  max_mem: 2172M\n",
            "[02/17 14:42:50 d2.utils.events]:  eta: 1 day, 8:17:59  iter: 13739  total_loss: 0.05649  loss_cls: 0.001714  loss_box_reg: 0.05249  time: 0.6970  data_time: 0.0181  lr: 0.001  max_mem: 2172M\n",
            "[02/17 14:43:04 d2.utils.events]:  eta: 1 day, 8:16:28  iter: 13759  total_loss: 0.05631  loss_cls: 0.00236  loss_box_reg: 0.05402  time: 0.6970  data_time: 0.0182  lr: 0.001  max_mem: 2172M\n",
            "[02/17 14:43:18 d2.utils.events]:  eta: 1 day, 8:16:14  iter: 13779  total_loss: 0.05324  loss_cls: 0.001771  loss_box_reg: 0.05025  time: 0.6970  data_time: 0.0170  lr: 0.001  max_mem: 2172M\n",
            "[02/17 14:43:31 d2.utils.events]:  eta: 1 day, 8:11:56  iter: 13799  total_loss: 0.04615  loss_cls: 0.001215  loss_box_reg: 0.04548  time: 0.6970  data_time: 0.0231  lr: 0.001  max_mem: 2172M\n",
            "[02/17 14:43:46 d2.utils.events]:  eta: 1 day, 8:07:40  iter: 13819  total_loss: 0.05506  loss_cls: 0.002291  loss_box_reg: 0.05242  time: 0.6970  data_time: 0.0181  lr: 0.001  max_mem: 2172M\n",
            "[02/17 14:43:59 d2.utils.events]:  eta: 1 day, 8:15:32  iter: 13839  total_loss: 0.05712  loss_cls: 0.001418  loss_box_reg: 0.05493  time: 0.6970  data_time: 0.0189  lr: 0.001  max_mem: 2172M\n",
            "[02/17 14:44:13 d2.utils.events]:  eta: 1 day, 8:15:12  iter: 13859  total_loss: 0.05567  loss_cls: 0.001457  loss_box_reg: 0.05486  time: 0.6970  data_time: 0.0145  lr: 0.001  max_mem: 2172M\n",
            "[02/17 14:44:27 d2.utils.events]:  eta: 1 day, 9:25:54  iter: 13879  total_loss: 0.05739  loss_cls: 0.002039  loss_box_reg: 0.05447  time: 0.6970  data_time: 0.0146  lr: 0.001  max_mem: 2172M\n",
            "[02/17 14:44:41 d2.utils.events]:  eta: 1 day, 9:30:41  iter: 13899  total_loss: 0.06269  loss_cls: 0.002634  loss_box_reg: 0.05524  time: 0.6970  data_time: 0.0156  lr: 0.001  max_mem: 2172M\n",
            "[02/17 14:44:54 d2.utils.events]:  eta: 1 day, 9:32:05  iter: 13919  total_loss: 0.05505  loss_cls: 0.001952  loss_box_reg: 0.05347  time: 0.6969  data_time: 0.0179  lr: 0.001  max_mem: 2172M\n",
            "[02/17 14:45:09 d2.utils.events]:  eta: 1 day, 9:34:09  iter: 13939  total_loss: 0.05558  loss_cls: 0.002571  loss_box_reg: 0.05248  time: 0.6970  data_time: 0.0236  lr: 0.001  max_mem: 2172M\n",
            "[02/17 14:45:22 d2.utils.events]:  eta: 1 day, 9:31:46  iter: 13959  total_loss: 0.05234  loss_cls: 0.00194  loss_box_reg: 0.05033  time: 0.6970  data_time: 0.0193  lr: 0.001  max_mem: 2172M\n",
            "[02/17 14:45:36 d2.utils.events]:  eta: 1 day, 9:30:46  iter: 13979  total_loss: 0.05181  loss_cls: 0.001822  loss_box_reg: 0.05002  time: 0.6969  data_time: 0.0183  lr: 0.001  max_mem: 2172M\n",
            "[02/17 14:45:49 d2.utils.events]:  eta: 1 day, 9:28:38  iter: 13999  total_loss: 0.05772  loss_cls: 0.001186  loss_box_reg: 0.05641  time: 0.6969  data_time: 0.0143  lr: 0.001  max_mem: 2172M\n",
            "[02/17 14:46:03 d2.utils.events]:  eta: 1 day, 9:30:17  iter: 14019  total_loss: 0.05855  loss_cls: 0.001736  loss_box_reg: 0.05377  time: 0.6969  data_time: 0.0256  lr: 0.001  max_mem: 2172M\n",
            "[02/17 14:46:17 d2.utils.events]:  eta: 1 day, 9:23:58  iter: 14039  total_loss: 0.05311  loss_cls: 0.002985  loss_box_reg: 0.04944  time: 0.6969  data_time: 0.0169  lr: 0.001  max_mem: 2172M\n",
            "[02/17 14:46:31 d2.utils.events]:  eta: 1 day, 9:23:43  iter: 14059  total_loss: 0.05586  loss_cls: 0.00241  loss_box_reg: 0.05225  time: 0.6969  data_time: 0.0262  lr: 0.001  max_mem: 2172M\n",
            "[02/17 14:46:45 d2.utils.events]:  eta: 1 day, 9:28:31  iter: 14079  total_loss: 0.06729  loss_cls: 0.004386  loss_box_reg: 0.05956  time: 0.6969  data_time: 0.0186  lr: 0.001  max_mem: 2172M\n",
            "[02/17 14:46:59 d2.utils.events]:  eta: 1 day, 9:28:16  iter: 14099  total_loss: 0.06009  loss_cls: 0.001662  loss_box_reg: 0.05684  time: 0.6969  data_time: 0.0170  lr: 0.001  max_mem: 2172M\n",
            "[02/17 14:47:13 d2.utils.events]:  eta: 1 day, 9:30:32  iter: 14119  total_loss: 0.05366  loss_cls: 0.003341  loss_box_reg: 0.05064  time: 0.6969  data_time: 0.0161  lr: 0.001  max_mem: 2172M\n",
            "[02/17 14:47:27 d2.utils.events]:  eta: 1 day, 9:30:34  iter: 14139  total_loss: 0.05927  loss_cls: 0.002079  loss_box_reg: 0.05738  time: 0.6969  data_time: 0.0178  lr: 0.001  max_mem: 2172M\n",
            "[02/17 14:47:41 d2.utils.events]:  eta: 1 day, 9:31:29  iter: 14159  total_loss: 0.06059  loss_cls: 0.002562  loss_box_reg: 0.05505  time: 0.6969  data_time: 0.0254  lr: 0.001  max_mem: 2172M\n",
            "[02/17 14:47:55 d2.utils.events]:  eta: 1 day, 9:30:13  iter: 14179  total_loss: 0.05004  loss_cls: 0.001334  loss_box_reg: 0.04834  time: 0.6969  data_time: 0.0223  lr: 0.001  max_mem: 2172M\n",
            "[02/17 14:48:09 d2.utils.events]:  eta: 1 day, 9:29:33  iter: 14199  total_loss: 0.05646  loss_cls: 0.001641  loss_box_reg: 0.055  time: 0.6969  data_time: 0.0184  lr: 0.001  max_mem: 2172M\n",
            "[02/17 14:48:22 d2.utils.events]:  eta: 1 day, 9:28:37  iter: 14219  total_loss: 0.06517  loss_cls: 0.00149  loss_box_reg: 0.05915  time: 0.6968  data_time: 0.0210  lr: 0.001  max_mem: 2172M\n",
            "[02/17 14:48:37 d2.utils.events]:  eta: 1 day, 9:31:05  iter: 14239  total_loss: 0.05009  loss_cls: 0.002106  loss_box_reg: 0.04599  time: 0.6969  data_time: 0.0143  lr: 0.001  max_mem: 2172M\n",
            "[02/17 14:48:50 d2.utils.events]:  eta: 1 day, 9:29:07  iter: 14259  total_loss: 0.05312  loss_cls: 0.002145  loss_box_reg: 0.04936  time: 0.6969  data_time: 0.0200  lr: 0.001  max_mem: 2172M\n",
            "[02/17 14:49:04 d2.utils.events]:  eta: 1 day, 9:28:52  iter: 14279  total_loss: 0.04947  loss_cls: 0.001637  loss_box_reg: 0.04847  time: 0.6968  data_time: 0.0216  lr: 0.001  max_mem: 2172M\n",
            "[02/17 14:49:18 d2.utils.events]:  eta: 1 day, 9:31:03  iter: 14299  total_loss: 0.065  loss_cls: 0.002305  loss_box_reg: 0.05938  time: 0.6969  data_time: 0.0168  lr: 0.001  max_mem: 2172M\n",
            "[02/17 14:49:32 d2.utils.events]:  eta: 1 day, 9:30:07  iter: 14319  total_loss: 0.056  loss_cls: 0.001748  loss_box_reg: 0.05276  time: 0.6969  data_time: 0.0160  lr: 0.001  max_mem: 2172M\n",
            "[02/17 14:49:46 d2.utils.events]:  eta: 1 day, 9:31:20  iter: 14339  total_loss: 0.06326  loss_cls: 0.002704  loss_box_reg: 0.06024  time: 0.6969  data_time: 0.0219  lr: 0.001  max_mem: 2172M\n",
            "[02/17 14:50:00 d2.utils.events]:  eta: 1 day, 9:31:05  iter: 14359  total_loss: 0.05166  loss_cls: 0.001751  loss_box_reg: 0.04841  time: 0.6969  data_time: 0.0208  lr: 0.001  max_mem: 2172M\n",
            "[02/17 14:50:14 d2.utils.events]:  eta: 1 day, 9:28:57  iter: 14379  total_loss: 0.04792  loss_cls: 0.001664  loss_box_reg: 0.04647  time: 0.6968  data_time: 0.0197  lr: 0.001  max_mem: 2172M\n",
            "[02/17 14:50:27 d2.utils.events]:  eta: 1 day, 9:27:58  iter: 14399  total_loss: 0.06198  loss_cls: 0.002106  loss_box_reg: 0.05741  time: 0.6968  data_time: 0.0187  lr: 0.001  max_mem: 2172M\n",
            "[02/17 14:50:41 d2.utils.events]:  eta: 1 day, 9:27:43  iter: 14419  total_loss: 0.063  loss_cls: 0.001866  loss_box_reg: 0.05599  time: 0.6968  data_time: 0.0222  lr: 0.001  max_mem: 2172M\n",
            "[02/17 14:50:55 d2.utils.events]:  eta: 1 day, 9:25:21  iter: 14439  total_loss: 0.05412  loss_cls: 0.001735  loss_box_reg: 0.05014  time: 0.6968  data_time: 0.0246  lr: 0.001  max_mem: 2172M\n",
            "[02/17 14:51:08 d2.utils.events]:  eta: 1 day, 8:17:40  iter: 14459  total_loss: 0.05427  loss_cls: 0.00185  loss_box_reg: 0.05049  time: 0.6968  data_time: 0.0264  lr: 0.001  max_mem: 2172M\n",
            "[02/17 14:51:22 d2.utils.events]:  eta: 1 day, 8:06:27  iter: 14479  total_loss: 0.05495  loss_cls: 0.001904  loss_box_reg: 0.05126  time: 0.6967  data_time: 0.0251  lr: 0.001  max_mem: 2172M\n",
            "[02/17 14:51:36 d2.utils.events]:  eta: 1 day, 7:43:55  iter: 14499  total_loss: 0.05973  loss_cls: 0.003067  loss_box_reg: 0.05627  time: 0.6967  data_time: 0.0190  lr: 0.001  max_mem: 2172M\n",
            "[02/17 14:51:50 d2.utils.events]:  eta: 1 day, 7:40:58  iter: 14519  total_loss: 0.05542  loss_cls: 0.002106  loss_box_reg: 0.05135  time: 0.6967  data_time: 0.0209  lr: 0.001  max_mem: 2172M\n",
            "[02/17 14:52:04 d2.utils.events]:  eta: 1 day, 7:43:27  iter: 14539  total_loss: 0.05484  loss_cls: 0.002812  loss_box_reg: 0.05343  time: 0.6967  data_time: 0.0251  lr: 0.001  max_mem: 2172M\n",
            "[02/17 14:52:18 d2.utils.events]:  eta: 1 day, 7:37:15  iter: 14559  total_loss: 0.06295  loss_cls: 0.00272  loss_box_reg: 0.06025  time: 0.6967  data_time: 0.0192  lr: 0.001  max_mem: 2172M\n",
            "[02/17 14:52:32 d2.utils.events]:  eta: 1 day, 7:40:03  iter: 14579  total_loss: 0.05945  loss_cls: 0.002741  loss_box_reg: 0.05743  time: 0.6967  data_time: 0.0210  lr: 0.001  max_mem: 2172M\n",
            "[02/17 14:52:46 d2.utils.events]:  eta: 1 day, 7:45:32  iter: 14599  total_loss: 0.06189  loss_cls: 0.002247  loss_box_reg: 0.05692  time: 0.6967  data_time: 0.0222  lr: 0.001  max_mem: 2172M\n",
            "[02/17 14:53:00 d2.utils.events]:  eta: 1 day, 8:03:43  iter: 14619  total_loss: 0.06089  loss_cls: 0.00278  loss_box_reg: 0.05855  time: 0.6968  data_time: 0.0254  lr: 0.001  max_mem: 2172M\n",
            "[02/17 14:53:14 d2.utils.events]:  eta: 1 day, 8:04:36  iter: 14639  total_loss: 0.06277  loss_cls: 0.003008  loss_box_reg: 0.06026  time: 0.6968  data_time: 0.0178  lr: 0.001  max_mem: 2172M\n",
            "[02/17 14:53:28 d2.utils.events]:  eta: 1 day, 8:11:52  iter: 14659  total_loss: 0.06261  loss_cls: 0.002176  loss_box_reg: 0.05827  time: 0.6968  data_time: 0.0288  lr: 0.001  max_mem: 2172M\n",
            "[02/17 14:53:42 d2.utils.events]:  eta: 1 day, 8:17:44  iter: 14679  total_loss: 0.0602  loss_cls: 0.001295  loss_box_reg: 0.05929  time: 0.6968  data_time: 0.0242  lr: 0.001  max_mem: 2172M\n",
            "[02/17 14:53:56 d2.utils.events]:  eta: 1 day, 8:02:47  iter: 14699  total_loss: 0.05331  loss_cls: 0.001448  loss_box_reg: 0.05169  time: 0.6968  data_time: 0.0192  lr: 0.001  max_mem: 2172M\n",
            "[02/17 14:54:10 d2.utils.events]:  eta: 1 day, 8:02:33  iter: 14719  total_loss: 0.06515  loss_cls: 0.002644  loss_box_reg: 0.056  time: 0.6968  data_time: 0.0252  lr: 0.001  max_mem: 2172M\n",
            "[02/17 14:54:24 d2.utils.events]:  eta: 1 day, 7:52:38  iter: 14739  total_loss: 0.05291  loss_cls: 0.001413  loss_box_reg: 0.04936  time: 0.6968  data_time: 0.0275  lr: 0.001  max_mem: 2172M\n",
            "[02/17 14:54:38 d2.utils.events]:  eta: 1 day, 8:02:05  iter: 14759  total_loss: 0.05622  loss_cls: 0.002419  loss_box_reg: 0.05312  time: 0.6968  data_time: 0.0162  lr: 0.001  max_mem: 2172M\n",
            "[02/17 14:54:52 d2.utils.events]:  eta: 1 day, 8:01:12  iter: 14779  total_loss: 0.05789  loss_cls: 0.001989  loss_box_reg: 0.05329  time: 0.6968  data_time: 0.0229  lr: 0.001  max_mem: 2172M\n",
            "[02/17 14:55:06 d2.utils.events]:  eta: 1 day, 8:00:58  iter: 14799  total_loss: 0.05116  loss_cls: 0.00154  loss_box_reg: 0.04896  time: 0.6968  data_time: 0.0228  lr: 0.001  max_mem: 2172M\n",
            "[02/17 14:55:19 d2.utils.events]:  eta: 1 day, 7:39:27  iter: 14819  total_loss: 0.04938  loss_cls: 0.001826  loss_box_reg: 0.04682  time: 0.6968  data_time: 0.0189  lr: 0.001  max_mem: 2172M\n",
            "[02/17 14:55:33 d2.utils.events]:  eta: 1 day, 7:38:54  iter: 14839  total_loss: 0.05906  loss_cls: 0.003475  loss_box_reg: 0.05399  time: 0.6968  data_time: 0.0264  lr: 0.001  max_mem: 2172M\n",
            "[02/17 14:55:47 d2.utils.events]:  eta: 1 day, 7:38:40  iter: 14859  total_loss: 0.0588  loss_cls: 0.002476  loss_box_reg: 0.05286  time: 0.6968  data_time: 0.0208  lr: 0.001  max_mem: 2172M\n",
            "[02/17 14:56:02 d2.utils.events]:  eta: 1 day, 7:39:58  iter: 14879  total_loss: 0.06133  loss_cls: 0.002544  loss_box_reg: 0.05556  time: 0.6968  data_time: 0.0208  lr: 0.001  max_mem: 2172M\n",
            "[02/17 14:56:15 d2.utils.events]:  eta: 1 day, 7:38:50  iter: 14899  total_loss: 0.05347  loss_cls: 0.001944  loss_box_reg: 0.0508  time: 0.6968  data_time: 0.0238  lr: 0.001  max_mem: 2172M\n",
            "[02/17 14:56:30 d2.utils.events]:  eta: 1 day, 8:00:14  iter: 14919  total_loss: 0.05618  loss_cls: 0.002268  loss_box_reg: 0.0543  time: 0.6968  data_time: 0.0211  lr: 0.001  max_mem: 2172M\n",
            "[02/17 14:56:44 d2.utils.events]:  eta: 1 day, 8:01:06  iter: 14939  total_loss: 0.05804  loss_cls: 0.001445  loss_box_reg: 0.05671  time: 0.6968  data_time: 0.0218  lr: 0.001  max_mem: 2172M\n",
            "[02/17 14:56:58 d2.utils.events]:  eta: 1 day, 8:02:18  iter: 14959  total_loss: 0.06271  loss_cls: 0.003491  loss_box_reg: 0.05953  time: 0.6968  data_time: 0.0210  lr: 0.001  max_mem: 2172M\n",
            "[02/17 14:57:12 d2.utils.events]:  eta: 1 day, 8:09:31  iter: 14979  total_loss: 0.05681  loss_cls: 0.001994  loss_box_reg: 0.05529  time: 0.6968  data_time: 0.0202  lr: 0.001  max_mem: 2172M\n",
            "[02/17 14:57:25 d2.utils.events]:  eta: 1 day, 8:09:17  iter: 14999  total_loss: 0.05753  loss_cls: 0.003105  loss_box_reg: 0.0547  time: 0.6968  data_time: 0.0179  lr: 0.001  max_mem: 2172M\n",
            "[02/17 14:57:40 d2.utils.events]:  eta: 1 day, 8:22:22  iter: 15019  total_loss: 0.0564  loss_cls: 0.002436  loss_box_reg: 0.05098  time: 0.6968  data_time: 0.0253  lr: 0.001  max_mem: 2172M\n",
            "[02/17 14:57:54 d2.utils.events]:  eta: 1 day, 8:22:08  iter: 15039  total_loss: 0.04855  loss_cls: 0.001357  loss_box_reg: 0.04757  time: 0.6968  data_time: 0.0133  lr: 0.001  max_mem: 2172M\n",
            "[02/17 14:58:08 d2.utils.events]:  eta: 1 day, 8:25:40  iter: 15059  total_loss: 0.05889  loss_cls: 0.002551  loss_box_reg: 0.05284  time: 0.6968  data_time: 0.0197  lr: 0.001  max_mem: 2172M\n",
            "[02/17 14:58:22 d2.utils.events]:  eta: 1 day, 8:25:25  iter: 15079  total_loss: 0.05412  loss_cls: 0.002695  loss_box_reg: 0.05036  time: 0.6968  data_time: 0.0213  lr: 0.001  max_mem: 2172M\n",
            "[02/17 14:58:36 d2.utils.events]:  eta: 1 day, 8:27:21  iter: 15099  total_loss: 0.05514  loss_cls: 0.001309  loss_box_reg: 0.05005  time: 0.6968  data_time: 0.0174  lr: 0.001  max_mem: 2172M\n",
            "[02/17 14:58:50 d2.utils.events]:  eta: 1 day, 9:11:04  iter: 15119  total_loss: 0.05805  loss_cls: 0.001754  loss_box_reg: 0.05665  time: 0.6968  data_time: 0.0186  lr: 0.001  max_mem: 2172M\n",
            "[02/17 14:59:04 d2.utils.events]:  eta: 1 day, 8:49:10  iter: 15139  total_loss: 0.06647  loss_cls: 0.003175  loss_box_reg: 0.06105  time: 0.6968  data_time: 0.0232  lr: 0.001  max_mem: 2172M\n",
            "[02/17 14:59:18 d2.utils.events]:  eta: 1 day, 8:20:43  iter: 15159  total_loss: 0.06269  loss_cls: 0.001156  loss_box_reg: 0.06139  time: 0.6968  data_time: 0.0226  lr: 0.001  max_mem: 2172M\n",
            "[02/17 14:59:31 d2.utils.events]:  eta: 1 day, 8:20:29  iter: 15179  total_loss: 0.05487  loss_cls: 0.001676  loss_box_reg: 0.05299  time: 0.6968  data_time: 0.0170  lr: 0.001  max_mem: 2172M\n",
            "[02/17 14:59:46 d2.utils.events]:  eta: 1 day, 9:13:00  iter: 15199  total_loss: 0.05479  loss_cls: 0.001475  loss_box_reg: 0.05302  time: 0.6969  data_time: 0.0163  lr: 0.001  max_mem: 2172M\n",
            "[02/17 14:59:59 d2.utils.events]:  eta: 1 day, 9:12:46  iter: 15219  total_loss: 0.05019  loss_cls: 0.002604  loss_box_reg: 0.04762  time: 0.6968  data_time: 0.0175  lr: 0.001  max_mem: 2172M\n",
            "[02/17 15:00:13 d2.utils.events]:  eta: 1 day, 8:17:02  iter: 15239  total_loss: 0.05267  loss_cls: 0.00162  loss_box_reg: 0.04897  time: 0.6968  data_time: 0.0214  lr: 0.001  max_mem: 2172M\n",
            "[02/17 15:00:27 d2.utils.events]:  eta: 1 day, 8:27:33  iter: 15259  total_loss: 0.05396  loss_cls: 0.001483  loss_box_reg: 0.04848  time: 0.6968  data_time: 0.0222  lr: 0.001  max_mem: 2172M\n",
            "[02/17 15:00:41 d2.utils.events]:  eta: 1 day, 9:09:08  iter: 15279  total_loss: 0.0612  loss_cls: 0.001441  loss_box_reg: 0.05665  time: 0.6968  data_time: 0.0182  lr: 0.001  max_mem: 2172M\n",
            "[02/17 15:00:55 d2.utils.events]:  eta: 1 day, 8:25:00  iter: 15299  total_loss: 0.05256  loss_cls: 0.001952  loss_box_reg: 0.05014  time: 0.6968  data_time: 0.0242  lr: 0.001  max_mem: 2172M\n",
            "[02/17 15:01:09 d2.utils.events]:  eta: 1 day, 8:20:02  iter: 15319  total_loss: 0.05226  loss_cls: 0.002039  loss_box_reg: 0.05079  time: 0.6968  data_time: 0.0194  lr: 0.001  max_mem: 2172M\n",
            "[02/17 15:01:23 d2.utils.events]:  eta: 1 day, 8:19:48  iter: 15339  total_loss: 0.05395  loss_cls: 0.001838  loss_box_reg: 0.0526  time: 0.6968  data_time: 0.0264  lr: 0.001  max_mem: 2172M\n",
            "[02/17 15:01:37 d2.utils.events]:  eta: 1 day, 8:26:22  iter: 15359  total_loss: 0.05714  loss_cls: 0.002942  loss_box_reg: 0.05418  time: 0.6968  data_time: 0.0209  lr: 0.001  max_mem: 2172M\n",
            "[02/17 15:01:51 d2.utils.events]:  eta: 1 day, 8:43:18  iter: 15379  total_loss: 0.05286  loss_cls: 0.00248  loss_box_reg: 0.04817  time: 0.6968  data_time: 0.0286  lr: 0.001  max_mem: 2172M\n",
            "[02/17 15:02:05 d2.utils.events]:  eta: 1 day, 9:10:40  iter: 15399  total_loss: 0.05302  loss_cls: 0.001747  loss_box_reg: 0.05104  time: 0.6969  data_time: 0.0204  lr: 0.001  max_mem: 2172M\n",
            "[02/17 15:02:20 d2.utils.events]:  eta: 1 day, 9:10:26  iter: 15419  total_loss: 0.04619  loss_cls: 0.002231  loss_box_reg: 0.04001  time: 0.6969  data_time: 0.0231  lr: 0.001  max_mem: 2172M\n",
            "[02/17 15:02:33 d2.utils.events]:  eta: 1 day, 9:11:16  iter: 15439  total_loss: 0.05197  loss_cls: 0.001517  loss_box_reg: 0.04904  time: 0.6969  data_time: 0.0226  lr: 0.001  max_mem: 2172M\n",
            "[02/17 15:02:47 d2.utils.events]:  eta: 1 day, 9:15:28  iter: 15459  total_loss: 0.05508  loss_cls: 0.001741  loss_box_reg: 0.05191  time: 0.6969  data_time: 0.0204  lr: 0.001  max_mem: 2172M\n",
            "[02/17 15:03:01 d2.utils.events]:  eta: 1 day, 9:17:22  iter: 15479  total_loss: 0.0506  loss_cls: 0.002618  loss_box_reg: 0.04782  time: 0.6969  data_time: 0.0204  lr: 0.001  max_mem: 2172M\n",
            "[02/17 15:03:15 d2.utils.events]:  eta: 1 day, 9:17:39  iter: 15499  total_loss: 0.05316  loss_cls: 0.001499  loss_box_reg: 0.05087  time: 0.6969  data_time: 0.0189  lr: 0.001  max_mem: 2172M\n",
            "[02/17 15:03:29 d2.utils.events]:  eta: 1 day, 9:16:53  iter: 15519  total_loss: 0.0591  loss_cls: 0.002069  loss_box_reg: 0.05716  time: 0.6968  data_time: 0.0157  lr: 0.001  max_mem: 2172M\n",
            "[02/17 15:03:43 d2.utils.events]:  eta: 1 day, 9:17:35  iter: 15539  total_loss: 0.0594  loss_cls: 0.001866  loss_box_reg: 0.05692  time: 0.6969  data_time: 0.0216  lr: 0.001  max_mem: 2172M\n",
            "[02/17 15:03:57 d2.utils.events]:  eta: 1 day, 9:17:55  iter: 15559  total_loss: 0.04436  loss_cls: 0.001486  loss_box_reg: 0.03958  time: 0.6969  data_time: 0.0235  lr: 0.001  max_mem: 2172M\n",
            "[02/17 15:04:12 d2.utils.events]:  eta: 1 day, 9:18:06  iter: 15579  total_loss: 0.05716  loss_cls: 0.002513  loss_box_reg: 0.05322  time: 0.6969  data_time: 0.0247  lr: 0.001  max_mem: 2172M\n",
            "[02/17 15:04:26 d2.utils.events]:  eta: 1 day, 9:17:31  iter: 15599  total_loss: 0.04731  loss_cls: 0.001153  loss_box_reg: 0.04379  time: 0.6969  data_time: 0.0197  lr: 0.001  max_mem: 2172M\n",
            "[02/17 15:04:40 d2.utils.events]:  eta: 1 day, 9:17:56  iter: 15619  total_loss: 0.05651  loss_cls: 0.001551  loss_box_reg: 0.05363  time: 0.6969  data_time: 0.0182  lr: 0.001  max_mem: 2172M\n",
            "[02/17 15:04:54 d2.utils.events]:  eta: 1 day, 9:19:35  iter: 15639  total_loss: 0.05134  loss_cls: 0.002013  loss_box_reg: 0.05028  time: 0.6970  data_time: 0.0231  lr: 0.001  max_mem: 2172M\n",
            "[02/17 15:05:09 d2.utils.events]:  eta: 1 day, 9:18:34  iter: 15659  total_loss: 0.04968  loss_cls: 0.001847  loss_box_reg: 0.04595  time: 0.6970  data_time: 0.0194  lr: 0.001  max_mem: 2172M\n",
            "[02/17 15:05:23 d2.utils.events]:  eta: 1 day, 9:19:26  iter: 15679  total_loss: 0.04579  loss_cls: 0.001069  loss_box_reg: 0.0443  time: 0.6970  data_time: 0.0216  lr: 0.001  max_mem: 2172M\n",
            "[02/17 15:05:37 d2.utils.events]:  eta: 1 day, 9:18:52  iter: 15699  total_loss: 0.06006  loss_cls: 0.002447  loss_box_reg: 0.05355  time: 0.6970  data_time: 0.0245  lr: 0.001  max_mem: 2172M\n",
            "[02/17 15:05:50 d2.utils.events]:  eta: 1 day, 9:19:10  iter: 15719  total_loss: 0.04348  loss_cls: 0.001364  loss_box_reg: 0.04242  time: 0.6970  data_time: 0.0141  lr: 0.001  max_mem: 2172M\n",
            "[02/17 15:06:04 d2.utils.events]:  eta: 1 day, 9:20:03  iter: 15739  total_loss: 0.0479  loss_cls: 0.001668  loss_box_reg: 0.04471  time: 0.6970  data_time: 0.0208  lr: 0.001  max_mem: 2172M\n",
            "[02/17 15:06:18 d2.utils.events]:  eta: 1 day, 9:19:20  iter: 15759  total_loss: 0.04814  loss_cls: 0.001076  loss_box_reg: 0.0472  time: 0.6970  data_time: 0.0226  lr: 0.001  max_mem: 2172M\n",
            "[02/17 15:06:32 d2.utils.events]:  eta: 1 day, 9:18:47  iter: 15779  total_loss: 0.05122  loss_cls: 0.001693  loss_box_reg: 0.04994  time: 0.6970  data_time: 0.0185  lr: 0.001  max_mem: 2172M\n",
            "[02/17 15:06:46 d2.utils.events]:  eta: 1 day, 9:19:19  iter: 15799  total_loss: 0.06149  loss_cls: 0.001983  loss_box_reg: 0.05595  time: 0.6970  data_time: 0.0171  lr: 0.001  max_mem: 2172M\n",
            "[02/17 15:06:59 d2.utils.events]:  eta: 1 day, 9:18:26  iter: 15819  total_loss: 0.05367  loss_cls: 0.002928  loss_box_reg: 0.04939  time: 0.6969  data_time: 0.0261  lr: 0.001  max_mem: 2172M\n",
            "[02/17 15:07:13 d2.utils.events]:  eta: 1 day, 9:18:09  iter: 15839  total_loss: 0.05654  loss_cls: 0.002159  loss_box_reg: 0.05156  time: 0.6969  data_time: 0.0157  lr: 0.001  max_mem: 2172M\n",
            "[02/17 15:07:28 d2.utils.events]:  eta: 1 day, 9:18:22  iter: 15859  total_loss: 0.05374  loss_cls: 0.001688  loss_box_reg: 0.05147  time: 0.6970  data_time: 0.0239  lr: 0.001  max_mem: 2172M\n",
            "[02/17 15:07:41 d2.utils.events]:  eta: 1 day, 9:17:42  iter: 15879  total_loss: 0.05409  loss_cls: 0.002521  loss_box_reg: 0.05024  time: 0.6969  data_time: 0.0188  lr: 0.001  max_mem: 2172M\n",
            "[02/17 15:07:55 d2.utils.events]:  eta: 1 day, 9:17:37  iter: 15899  total_loss: 0.05084  loss_cls: 0.001627  loss_box_reg: 0.04933  time: 0.6969  data_time: 0.0191  lr: 0.001  max_mem: 2172M\n",
            "[02/17 15:08:10 d2.utils.events]:  eta: 1 day, 9:17:12  iter: 15919  total_loss: 0.0519  loss_cls: 0.001269  loss_box_reg: 0.04862  time: 0.6970  data_time: 0.0242  lr: 0.001  max_mem: 2172M\n",
            "[02/17 15:08:23 d2.utils.events]:  eta: 1 day, 9:16:29  iter: 15939  total_loss: 0.05144  loss_cls: 0.002036  loss_box_reg: 0.04881  time: 0.6970  data_time: 0.0233  lr: 0.001  max_mem: 2172M\n",
            "[02/17 15:08:37 d2.utils.events]:  eta: 1 day, 9:16:14  iter: 15959  total_loss: 0.0498  loss_cls: 0.002147  loss_box_reg: 0.0479  time: 0.6969  data_time: 0.0178  lr: 0.001  max_mem: 2172M\n",
            "[02/17 15:08:51 d2.utils.events]:  eta: 1 day, 9:16:12  iter: 15979  total_loss: 0.05041  loss_cls: 0.002274  loss_box_reg: 0.04813  time: 0.6969  data_time: 0.0162  lr: 0.001  max_mem: 2172M\n",
            "[02/17 15:09:05 d2.utils.events]:  eta: 1 day, 9:16:14  iter: 15999  total_loss: 0.05611  loss_cls: 0.002865  loss_box_reg: 0.05395  time: 0.6970  data_time: 0.0177  lr: 0.001  max_mem: 2172M\n",
            "[02/17 15:09:19 d2.utils.events]:  eta: 1 day, 9:15:42  iter: 16019  total_loss: 0.06655  loss_cls: 0.002438  loss_box_reg: 0.06284  time: 0.6970  data_time: 0.0223  lr: 0.001  max_mem: 2172M\n",
            "[02/17 15:09:33 d2.utils.events]:  eta: 1 day, 9:15:45  iter: 16039  total_loss: 0.06282  loss_cls: 0.005112  loss_box_reg: 0.05491  time: 0.6970  data_time: 0.0244  lr: 0.001  max_mem: 2172M\n",
            "[02/17 15:09:47 d2.utils.events]:  eta: 1 day, 9:15:23  iter: 16059  total_loss: 0.05781  loss_cls: 0.002872  loss_box_reg: 0.05337  time: 0.6970  data_time: 0.0179  lr: 0.001  max_mem: 2172M\n",
            "[02/17 15:10:02 d2.utils.events]:  eta: 1 day, 9:15:55  iter: 16079  total_loss: 0.05473  loss_cls: 0.001887  loss_box_reg: 0.05169  time: 0.6970  data_time: 0.0195  lr: 0.001  max_mem: 2172M\n",
            "[02/17 15:10:16 d2.utils.events]:  eta: 1 day, 9:15:40  iter: 16099  total_loss: 0.05884  loss_cls: 0.001884  loss_box_reg: 0.05747  time: 0.6970  data_time: 0.0235  lr: 0.001  max_mem: 2172M\n",
            "[02/17 15:10:29 d2.utils.events]:  eta: 1 day, 9:14:17  iter: 16119  total_loss: 0.05653  loss_cls: 0.002114  loss_box_reg: 0.05438  time: 0.6970  data_time: 0.0253  lr: 0.001  max_mem: 2172M\n",
            "[02/17 15:10:44 d2.utils.events]:  eta: 1 day, 9:15:24  iter: 16139  total_loss: 0.04987  loss_cls: 0.001938  loss_box_reg: 0.04771  time: 0.6970  data_time: 0.0296  lr: 0.001  max_mem: 2172M\n",
            "[02/17 15:10:58 d2.utils.events]:  eta: 1 day, 9:14:58  iter: 16159  total_loss: 0.06472  loss_cls: 0.003511  loss_box_reg: 0.06103  time: 0.6970  data_time: 0.0213  lr: 0.001  max_mem: 2172M\n",
            "[02/17 15:11:12 d2.utils.events]:  eta: 1 day, 9:14:56  iter: 16179  total_loss: 0.05114  loss_cls: 0.0009929  loss_box_reg: 0.05004  time: 0.6970  data_time: 0.0242  lr: 0.001  max_mem: 2172M\n",
            "[02/17 15:11:25 d2.utils.events]:  eta: 1 day, 9:13:19  iter: 16199  total_loss: 0.05751  loss_cls: 0.001637  loss_box_reg: 0.05087  time: 0.6970  data_time: 0.0224  lr: 0.001  max_mem: 2172M\n",
            "[02/17 15:11:40 d2.utils.events]:  eta: 1 day, 9:13:26  iter: 16219  total_loss: 0.04926  loss_cls: 0.001924  loss_box_reg: 0.04774  time: 0.6970  data_time: 0.0174  lr: 0.001  max_mem: 2172M\n",
            "[02/17 15:11:54 d2.utils.events]:  eta: 1 day, 9:13:58  iter: 16239  total_loss: 0.04601  loss_cls: 0.001463  loss_box_reg: 0.04393  time: 0.6970  data_time: 0.0208  lr: 0.001  max_mem: 2172M\n",
            "[02/17 15:12:07 d2.utils.events]:  eta: 1 day, 9:12:35  iter: 16259  total_loss: 0.05086  loss_cls: 0.001589  loss_box_reg: 0.04818  time: 0.6970  data_time: 0.0201  lr: 0.001  max_mem: 2172M\n",
            "[02/17 15:12:21 d2.utils.events]:  eta: 1 day, 9:12:33  iter: 16279  total_loss: 0.04478  loss_cls: 0.001022  loss_box_reg: 0.04255  time: 0.6970  data_time: 0.0175  lr: 0.001  max_mem: 2172M\n",
            "[02/17 15:12:35 d2.utils.events]:  eta: 1 day, 9:12:51  iter: 16299  total_loss: 0.05535  loss_cls: 0.001308  loss_box_reg: 0.0508  time: 0.6970  data_time: 0.0165  lr: 0.001  max_mem: 2172M\n",
            "[02/17 15:12:49 d2.utils.events]:  eta: 1 day, 9:12:36  iter: 16319  total_loss: 0.05129  loss_cls: 0.002867  loss_box_reg: 0.04892  time: 0.6970  data_time: 0.0208  lr: 0.001  max_mem: 2172M\n",
            "[02/17 15:13:02 d2.utils.events]:  eta: 1 day, 9:11:02  iter: 16339  total_loss: 0.05072  loss_cls: 0.001974  loss_box_reg: 0.04828  time: 0.6969  data_time: 0.0149  lr: 0.001  max_mem: 2172M\n",
            "[02/17 15:13:16 d2.utils.events]:  eta: 1 day, 9:10:43  iter: 16359  total_loss: 0.05126  loss_cls: 0.001572  loss_box_reg: 0.04949  time: 0.6969  data_time: 0.0160  lr: 0.001  max_mem: 2172M\n",
            "[02/17 15:13:30 d2.utils.events]:  eta: 1 day, 9:10:34  iter: 16379  total_loss: 0.05114  loss_cls: 0.002072  loss_box_reg: 0.04664  time: 0.6969  data_time: 0.0161  lr: 0.001  max_mem: 2172M\n",
            "[02/17 15:13:44 d2.utils.events]:  eta: 1 day, 9:09:34  iter: 16399  total_loss: 0.05265  loss_cls: 0.001397  loss_box_reg: 0.04942  time: 0.6969  data_time: 0.0183  lr: 0.001  max_mem: 2172M\n",
            "[02/17 15:13:58 d2.utils.events]:  eta: 1 day, 9:08:51  iter: 16419  total_loss: 0.05707  loss_cls: 0.001789  loss_box_reg: 0.05533  time: 0.6969  data_time: 0.0163  lr: 0.001  max_mem: 2172M\n",
            "[02/17 15:14:12 d2.utils.events]:  eta: 1 day, 9:09:26  iter: 16439  total_loss: 0.06066  loss_cls: 0.00172  loss_box_reg: 0.05834  time: 0.6969  data_time: 0.0192  lr: 0.001  max_mem: 2172M\n",
            "[02/17 15:14:26 d2.utils.events]:  eta: 1 day, 9:09:21  iter: 16459  total_loss: 0.05837  loss_cls: 0.001076  loss_box_reg: 0.05562  time: 0.6969  data_time: 0.0240  lr: 0.001  max_mem: 2172M\n",
            "[02/17 15:14:40 d2.utils.events]:  eta: 1 day, 9:09:12  iter: 16479  total_loss: 0.06747  loss_cls: 0.002479  loss_box_reg: 0.06295  time: 0.6970  data_time: 0.0182  lr: 0.001  max_mem: 2172M\n",
            "[02/17 15:14:54 d2.utils.events]:  eta: 1 day, 9:09:01  iter: 16499  total_loss: 0.05168  loss_cls: 0.002048  loss_box_reg: 0.0475  time: 0.6970  data_time: 0.0174  lr: 0.001  max_mem: 2172M\n",
            "[02/17 15:15:08 d2.utils.events]:  eta: 1 day, 9:08:28  iter: 16519  total_loss: 0.05524  loss_cls: 0.001804  loss_box_reg: 0.05248  time: 0.6969  data_time: 0.0245  lr: 0.001  max_mem: 2172M\n",
            "[02/17 15:15:22 d2.utils.events]:  eta: 1 day, 9:07:24  iter: 16539  total_loss: 0.05203  loss_cls: 0.002076  loss_box_reg: 0.0483  time: 0.6969  data_time: 0.0209  lr: 0.001  max_mem: 2172M\n",
            "[02/17 15:15:35 d2.utils.events]:  eta: 1 day, 9:05:51  iter: 16559  total_loss: 0.05069  loss_cls: 0.00256  loss_box_reg: 0.04337  time: 0.6969  data_time: 0.0165  lr: 0.001  max_mem: 2172M\n",
            "[02/17 15:15:49 d2.utils.events]:  eta: 1 day, 9:05:09  iter: 16579  total_loss: 0.05405  loss_cls: 0.001967  loss_box_reg: 0.05181  time: 0.6969  data_time: 0.0198  lr: 0.001  max_mem: 2172M\n",
            "[02/17 15:16:03 d2.utils.events]:  eta: 1 day, 9:04:54  iter: 16599  total_loss: 0.0528  loss_cls: 0.001719  loss_box_reg: 0.05017  time: 0.6969  data_time: 0.0215  lr: 0.001  max_mem: 2172M\n",
            "[02/17 15:16:17 d2.utils.events]:  eta: 1 day, 9:04:17  iter: 16619  total_loss: 0.06004  loss_cls: 0.001973  loss_box_reg: 0.05596  time: 0.6969  data_time: 0.0148  lr: 0.001  max_mem: 2172M\n",
            "[02/17 15:16:31 d2.utils.events]:  eta: 1 day, 9:03:15  iter: 16639  total_loss: 0.0515  loss_cls: 0.001827  loss_box_reg: 0.05  time: 0.6969  data_time: 0.0257  lr: 0.001  max_mem: 2172M\n",
            "[02/17 15:16:45 d2.utils.events]:  eta: 1 day, 9:03:16  iter: 16659  total_loss: 0.06446  loss_cls: 0.002753  loss_box_reg: 0.06244  time: 0.6969  data_time: 0.0163  lr: 0.001  max_mem: 2172M\n",
            "[02/17 15:16:59 d2.utils.events]:  eta: 1 day, 9:02:24  iter: 16679  total_loss: 0.04439  loss_cls: 0.001325  loss_box_reg: 0.04293  time: 0.6969  data_time: 0.0237  lr: 0.001  max_mem: 2172M\n",
            "[02/17 15:17:13 d2.utils.events]:  eta: 1 day, 9:02:21  iter: 16699  total_loss: 0.05198  loss_cls: 0.001606  loss_box_reg: 0.04901  time: 0.6969  data_time: 0.0189  lr: 0.001  max_mem: 2172M\n",
            "[02/17 15:17:27 d2.utils.events]:  eta: 1 day, 9:02:17  iter: 16719  total_loss: 0.05338  loss_cls: 0.00202  loss_box_reg: 0.05039  time: 0.6969  data_time: 0.0199  lr: 0.001  max_mem: 2172M\n",
            "[02/17 15:17:41 d2.utils.events]:  eta: 1 day, 9:01:11  iter: 16739  total_loss: 0.04396  loss_cls: 0.001763  loss_box_reg: 0.04223  time: 0.6969  data_time: 0.0157  lr: 0.001  max_mem: 2172M\n",
            "[02/17 15:17:54 d2.utils.events]:  eta: 1 day, 9:00:32  iter: 16759  total_loss: 0.05323  loss_cls: 0.003637  loss_box_reg: 0.04976  time: 0.6969  data_time: 0.0140  lr: 0.001  max_mem: 2172M\n",
            "[02/17 15:18:08 d2.utils.events]:  eta: 1 day, 9:00:42  iter: 16779  total_loss: 0.05507  loss_cls: 0.001923  loss_box_reg: 0.05145  time: 0.6969  data_time: 0.0177  lr: 0.001  max_mem: 2172M\n",
            "[02/17 15:18:22 d2.utils.events]:  eta: 1 day, 8:58:24  iter: 16799  total_loss: 0.05449  loss_cls: 0.00253  loss_box_reg: 0.05093  time: 0.6969  data_time: 0.0198  lr: 0.001  max_mem: 2172M\n",
            "[02/17 15:18:35 d2.utils.events]:  eta: 1 day, 8:59:48  iter: 16819  total_loss: 0.05147  loss_cls: 0.002037  loss_box_reg: 0.04918  time: 0.6968  data_time: 0.0183  lr: 0.001  max_mem: 2172M\n",
            "[02/17 15:18:49 d2.utils.events]:  eta: 1 day, 8:58:11  iter: 16839  total_loss: 0.0551  loss_cls: 0.001673  loss_box_reg: 0.05263  time: 0.6968  data_time: 0.0193  lr: 0.001  max_mem: 2172M\n",
            "[02/17 15:19:03 d2.utils.events]:  eta: 1 day, 8:57:23  iter: 16859  total_loss: 0.05566  loss_cls: 0.001715  loss_box_reg: 0.05391  time: 0.6968  data_time: 0.0262  lr: 0.001  max_mem: 2172M\n",
            "[02/17 15:19:17 d2.utils.events]:  eta: 1 day, 8:57:23  iter: 16879  total_loss: 0.05642  loss_cls: 0.001869  loss_box_reg: 0.05583  time: 0.6968  data_time: 0.0196  lr: 0.001  max_mem: 2172M\n",
            "[02/17 15:19:31 d2.utils.events]:  eta: 1 day, 8:56:18  iter: 16899  total_loss: 0.05874  loss_cls: 0.002058  loss_box_reg: 0.05393  time: 0.6968  data_time: 0.0229  lr: 0.001  max_mem: 2172M\n",
            "[02/17 15:19:44 d2.utils.events]:  eta: 1 day, 8:53:21  iter: 16919  total_loss: 0.06825  loss_cls: 0.002673  loss_box_reg: 0.06511  time: 0.6968  data_time: 0.0244  lr: 0.001  max_mem: 2172M\n",
            "[02/17 15:19:58 d2.utils.events]:  eta: 1 day, 8:54:32  iter: 16939  total_loss: 0.05157  loss_cls: 0.001743  loss_box_reg: 0.04724  time: 0.6968  data_time: 0.0140  lr: 0.001  max_mem: 2172M\n",
            "[02/17 15:20:12 d2.utils.events]:  eta: 1 day, 8:56:10  iter: 16959  total_loss: 0.05779  loss_cls: 0.001607  loss_box_reg: 0.05495  time: 0.6968  data_time: 0.0136  lr: 0.001  max_mem: 2172M\n",
            "[02/17 15:20:26 d2.utils.events]:  eta: 1 day, 8:55:20  iter: 16979  total_loss: 0.05741  loss_cls: 0.002437  loss_box_reg: 0.05355  time: 0.6968  data_time: 0.0226  lr: 0.001  max_mem: 2172M\n",
            "[02/17 15:20:40 d2.utils.events]:  eta: 1 day, 8:54:20  iter: 16999  total_loss: 0.06107  loss_cls: 0.001674  loss_box_reg: 0.05779  time: 0.6968  data_time: 0.0251  lr: 0.001  max_mem: 2172M\n",
            "[02/17 15:20:54 d2.utils.events]:  eta: 1 day, 8:52:48  iter: 17019  total_loss: 0.05069  loss_cls: 0.001773  loss_box_reg: 0.04694  time: 0.6968  data_time: 0.0240  lr: 0.001  max_mem: 2172M\n",
            "[02/17 15:21:09 d2.utils.events]:  eta: 1 day, 8:55:26  iter: 17039  total_loss: 0.05446  loss_cls: 0.001595  loss_box_reg: 0.0532  time: 0.6968  data_time: 0.0249  lr: 0.001  max_mem: 2172M\n",
            "[02/17 15:21:23 d2.utils.events]:  eta: 1 day, 8:57:10  iter: 17059  total_loss: 0.05483  loss_cls: 0.001833  loss_box_reg: 0.05301  time: 0.6969  data_time: 0.0186  lr: 0.001  max_mem: 2172M\n",
            "[02/17 15:21:37 d2.utils.events]:  eta: 1 day, 8:54:17  iter: 17079  total_loss: 0.05423  loss_cls: 0.001933  loss_box_reg: 0.05252  time: 0.6968  data_time: 0.0152  lr: 0.001  max_mem: 2172M\n",
            "[02/17 15:21:50 d2.utils.events]:  eta: 1 day, 8:51:50  iter: 17099  total_loss: 0.05676  loss_cls: 0.001134  loss_box_reg: 0.05458  time: 0.6968  data_time: 0.0183  lr: 0.001  max_mem: 2172M\n",
            "[02/17 15:22:04 d2.utils.events]:  eta: 1 day, 8:52:22  iter: 17119  total_loss: 0.04756  loss_cls: 0.001385  loss_box_reg: 0.04552  time: 0.6968  data_time: 0.0249  lr: 0.001  max_mem: 2172M\n",
            "[02/17 15:22:18 d2.utils.events]:  eta: 1 day, 8:50:27  iter: 17139  total_loss: 0.05389  loss_cls: 0.002391  loss_box_reg: 0.05136  time: 0.6968  data_time: 0.0211  lr: 0.001  max_mem: 2172M\n",
            "[02/17 15:22:33 d2.utils.events]:  eta: 1 day, 8:53:19  iter: 17159  total_loss: 0.04756  loss_cls: 0.001736  loss_box_reg: 0.04374  time: 0.6969  data_time: 0.0239  lr: 0.001  max_mem: 2172M\n",
            "[02/17 15:22:47 d2.utils.events]:  eta: 1 day, 8:54:13  iter: 17179  total_loss: 0.05352  loss_cls: 0.001401  loss_box_reg: 0.05134  time: 0.6969  data_time: 0.0210  lr: 0.001  max_mem: 2172M\n",
            "[02/17 15:23:00 d2.utils.events]:  eta: 1 day, 8:53:58  iter: 17199  total_loss: 0.05769  loss_cls: 0.001483  loss_box_reg: 0.05626  time: 0.6969  data_time: 0.0217  lr: 0.001  max_mem: 2172M\n",
            "[02/17 15:23:14 d2.utils.events]:  eta: 1 day, 8:53:44  iter: 17219  total_loss: 0.04708  loss_cls: 0.001398  loss_box_reg: 0.04501  time: 0.6969  data_time: 0.0201  lr: 0.001  max_mem: 2172M\n",
            "[02/17 15:23:29 d2.utils.events]:  eta: 1 day, 8:53:29  iter: 17239  total_loss: 0.04815  loss_cls: 0.001743  loss_box_reg: 0.04735  time: 0.6969  data_time: 0.0180  lr: 0.001  max_mem: 2172M\n",
            "[02/17 15:23:43 d2.utils.events]:  eta: 1 day, 8:55:52  iter: 17259  total_loss: 0.04658  loss_cls: 0.001708  loss_box_reg: 0.04589  time: 0.6969  data_time: 0.0181  lr: 0.001  max_mem: 2172M\n",
            "[02/17 15:23:56 d2.utils.events]:  eta: 1 day, 8:54:38  iter: 17279  total_loss: 0.05343  loss_cls: 0.001868  loss_box_reg: 0.05217  time: 0.6969  data_time: 0.0139  lr: 0.001  max_mem: 2172M\n",
            "[02/17 15:24:10 d2.utils.events]:  eta: 1 day, 8:52:45  iter: 17299  total_loss: 0.05022  loss_cls: 0.001958  loss_box_reg: 0.04878  time: 0.6968  data_time: 0.0186  lr: 0.001  max_mem: 2172M\n",
            "[02/17 15:24:24 d2.utils.events]:  eta: 1 day, 8:52:12  iter: 17319  total_loss: 0.05196  loss_cls: 0.001077  loss_box_reg: 0.05024  time: 0.6968  data_time: 0.0185  lr: 0.001  max_mem: 2172M\n",
            "[02/17 15:24:38 d2.utils.events]:  eta: 1 day, 8:53:46  iter: 17339  total_loss: 0.05558  loss_cls: 0.002581  loss_box_reg: 0.05225  time: 0.6968  data_time: 0.0209  lr: 0.001  max_mem: 2172M\n",
            "[02/17 15:24:52 d2.utils.events]:  eta: 1 day, 8:53:13  iter: 17359  total_loss: 0.05835  loss_cls: 0.002912  loss_box_reg: 0.05533  time: 0.6968  data_time: 0.0262  lr: 0.001  max_mem: 2172M\n",
            "[02/17 15:25:05 d2.utils.events]:  eta: 1 day, 8:50:53  iter: 17379  total_loss: 0.0471  loss_cls: 0.0008813  loss_box_reg: 0.0464  time: 0.6968  data_time: 0.0215  lr: 0.001  max_mem: 2172M\n",
            "[02/17 15:25:19 d2.utils.events]:  eta: 1 day, 8:48:48  iter: 17399  total_loss: 0.04737  loss_cls: 0.002056  loss_box_reg: 0.04492  time: 0.6968  data_time: 0.0194  lr: 0.001  max_mem: 2172M\n",
            "[02/17 15:25:33 d2.utils.events]:  eta: 1 day, 8:48:34  iter: 17419  total_loss: 0.04848  loss_cls: 0.001405  loss_box_reg: 0.04789  time: 0.6968  data_time: 0.0220  lr: 0.001  max_mem: 2172M\n",
            "[02/17 15:25:47 d2.utils.events]:  eta: 1 day, 8:48:19  iter: 17439  total_loss: 0.05786  loss_cls: 0.001224  loss_box_reg: 0.04948  time: 0.6968  data_time: 0.0160  lr: 0.001  max_mem: 2172M\n",
            "[02/17 15:26:00 d2.utils.events]:  eta: 1 day, 8:46:25  iter: 17459  total_loss: 0.04778  loss_cls: 0.001293  loss_box_reg: 0.04506  time: 0.6968  data_time: 0.0187  lr: 0.001  max_mem: 2172M\n",
            "[02/17 15:26:14 d2.utils.events]:  eta: 1 day, 8:46:02  iter: 17479  total_loss: 0.05256  loss_cls: 0.001505  loss_box_reg: 0.04996  time: 0.6968  data_time: 0.0178  lr: 0.001  max_mem: 2172M\n",
            "[02/17 15:26:28 d2.utils.events]:  eta: 1 day, 7:34:44  iter: 17499  total_loss: 0.05573  loss_cls: 0.002135  loss_box_reg: 0.05141  time: 0.6968  data_time: 0.0233  lr: 0.001  max_mem: 2172M\n",
            "[02/17 15:26:42 d2.utils.events]:  eta: 1 day, 8:08:28  iter: 17519  total_loss: 0.0518  loss_cls: 0.002224  loss_box_reg: 0.049  time: 0.6967  data_time: 0.0215  lr: 0.001  max_mem: 2172M\n",
            "[02/17 15:26:55 d2.utils.events]:  eta: 1 day, 7:22:09  iter: 17539  total_loss: 0.05467  loss_cls: 0.00296  loss_box_reg: 0.04948  time: 0.6967  data_time: 0.0177  lr: 0.001  max_mem: 2172M\n",
            "[02/17 15:27:09 d2.utils.events]:  eta: 1 day, 8:38:22  iter: 17559  total_loss: 0.05857  loss_cls: 0.0009918  loss_box_reg: 0.05633  time: 0.6967  data_time: 0.0224  lr: 0.001  max_mem: 2172M\n",
            "[02/17 15:27:23 d2.utils.events]:  eta: 1 day, 8:38:08  iter: 17579  total_loss: 0.05957  loss_cls: 0.001787  loss_box_reg: 0.0578  time: 0.6967  data_time: 0.0203  lr: 0.001  max_mem: 2172M\n",
            "[02/17 15:27:37 d2.utils.events]:  eta: 1 day, 8:07:31  iter: 17599  total_loss: 0.05916  loss_cls: 0.003642  loss_box_reg: 0.05497  time: 0.6967  data_time: 0.0172  lr: 0.001  max_mem: 2172M\n",
            "[02/17 15:27:51 d2.utils.events]:  eta: 1 day, 7:26:05  iter: 17619  total_loss: 0.057  loss_cls: 0.001514  loss_box_reg: 0.05187  time: 0.6967  data_time: 0.0204  lr: 0.001  max_mem: 2172M\n",
            "[02/17 15:28:05 d2.utils.events]:  eta: 1 day, 7:17:57  iter: 17639  total_loss: 0.05571  loss_cls: 0.002254  loss_box_reg: 0.0537  time: 0.6967  data_time: 0.0226  lr: 0.001  max_mem: 2172M\n",
            "[02/17 15:28:18 d2.utils.events]:  eta: 1 day, 7:07:23  iter: 17659  total_loss: 0.05709  loss_cls: 0.00143  loss_box_reg: 0.05396  time: 0.6967  data_time: 0.0189  lr: 0.001  max_mem: 2172M\n",
            "[02/17 15:28:32 d2.utils.events]:  eta: 1 day, 7:05:04  iter: 17679  total_loss: 0.05169  loss_cls: 0.00115  loss_box_reg: 0.05054  time: 0.6967  data_time: 0.0145  lr: 0.001  max_mem: 2172M\n",
            "[02/17 15:28:46 d2.utils.events]:  eta: 1 day, 7:06:56  iter: 17699  total_loss: 0.0475  loss_cls: 0.001247  loss_box_reg: 0.04332  time: 0.6967  data_time: 0.0141  lr: 0.001  max_mem: 2172M\n",
            "[02/17 15:29:00 d2.utils.events]:  eta: 1 day, 7:09:43  iter: 17719  total_loss: 0.05293  loss_cls: 0.001913  loss_box_reg: 0.04913  time: 0.6967  data_time: 0.0167  lr: 0.001  max_mem: 2172M\n",
            "[02/17 15:29:14 d2.utils.events]:  eta: 1 day, 7:06:28  iter: 17739  total_loss: 0.04933  loss_cls: 0.001204  loss_box_reg: 0.04661  time: 0.6967  data_time: 0.0234  lr: 0.001  max_mem: 2172M\n",
            "[02/17 15:29:28 d2.utils.events]:  eta: 1 day, 7:09:57  iter: 17759  total_loss: 0.0472  loss_cls: 0.001161  loss_box_reg: 0.04632  time: 0.6967  data_time: 0.0221  lr: 0.001  max_mem: 2172M\n",
            "[02/17 15:29:42 d2.utils.events]:  eta: 1 day, 7:16:20  iter: 17779  total_loss: 0.04707  loss_cls: 0.001864  loss_box_reg: 0.0427  time: 0.6967  data_time: 0.0185  lr: 0.001  max_mem: 2172M\n",
            "[02/17 15:29:56 d2.utils.events]:  eta: 1 day, 7:24:00  iter: 17799  total_loss: 0.05298  loss_cls: 0.00285  loss_box_reg: 0.04952  time: 0.6967  data_time: 0.0198  lr: 0.001  max_mem: 2172M\n",
            "[02/17 15:30:10 d2.utils.events]:  eta: 1 day, 8:04:54  iter: 17819  total_loss: 0.0507  loss_cls: 0.001892  loss_box_reg: 0.04674  time: 0.6967  data_time: 0.0217  lr: 0.001  max_mem: 2172M\n",
            "[02/17 15:30:24 d2.utils.events]:  eta: 1 day, 8:36:39  iter: 17839  total_loss: 0.04798  loss_cls: 0.001474  loss_box_reg: 0.04703  time: 0.6967  data_time: 0.0271  lr: 0.001  max_mem: 2172M\n",
            "[02/17 15:30:38 d2.utils.events]:  eta: 1 day, 8:36:24  iter: 17859  total_loss: 0.05231  loss_cls: 0.001423  loss_box_reg: 0.05095  time: 0.6967  data_time: 0.0172  lr: 0.001  max_mem: 2172M\n",
            "[02/17 15:30:52 d2.utils.events]:  eta: 1 day, 8:43:00  iter: 17879  total_loss: 0.04618  loss_cls: 0.001101  loss_box_reg: 0.0446  time: 0.6967  data_time: 0.0202  lr: 0.001  max_mem: 2172M\n",
            "[02/17 15:31:07 d2.utils.events]:  eta: 1 day, 8:45:34  iter: 17899  total_loss: 0.05219  loss_cls: 0.001627  loss_box_reg: 0.05085  time: 0.6967  data_time: 0.0187  lr: 0.001  max_mem: 2172M\n",
            "[02/17 15:31:20 d2.utils.events]:  eta: 1 day, 8:45:51  iter: 17919  total_loss: 0.05388  loss_cls: 0.001798  loss_box_reg: 0.05156  time: 0.6967  data_time: 0.0201  lr: 0.001  max_mem: 2172M\n",
            "[02/17 15:31:34 d2.utils.events]:  eta: 1 day, 8:47:34  iter: 17939  total_loss: 0.05904  loss_cls: 0.002696  loss_box_reg: 0.05456  time: 0.6967  data_time: 0.0214  lr: 0.001  max_mem: 2172M\n",
            "[02/17 15:31:48 d2.utils.events]:  eta: 1 day, 8:45:22  iter: 17959  total_loss: 0.04706  loss_cls: 0.0009987  loss_box_reg: 0.04457  time: 0.6967  data_time: 0.0259  lr: 0.001  max_mem: 2172M\n",
            "[02/17 15:32:02 d2.utils.events]:  eta: 1 day, 8:45:07  iter: 17979  total_loss: 0.05164  loss_cls: 0.002388  loss_box_reg: 0.04934  time: 0.6967  data_time: 0.0226  lr: 0.001  max_mem: 2172M\n",
            "[02/17 15:32:17 d2.utils.events]:  eta: 1 day, 8:44:53  iter: 17999  total_loss: 0.05939  loss_cls: 0.002476  loss_box_reg: 0.05775  time: 0.6967  data_time: 0.0158  lr: 0.001  max_mem: 2172M\n",
            "[02/17 15:32:31 d2.utils.events]:  eta: 1 day, 8:45:15  iter: 18019  total_loss: 0.05037  loss_cls: 0.001481  loss_box_reg: 0.04966  time: 0.6967  data_time: 0.0212  lr: 0.001  max_mem: 2172M\n",
            "[02/17 15:32:45 d2.utils.events]:  eta: 1 day, 8:43:52  iter: 18039  total_loss: 0.05402  loss_cls: 0.001889  loss_box_reg: 0.04921  time: 0.6967  data_time: 0.0220  lr: 0.001  max_mem: 2172M\n",
            "[02/17 15:32:59 d2.utils.events]:  eta: 1 day, 8:42:02  iter: 18059  total_loss: 0.0564  loss_cls: 0.001465  loss_box_reg: 0.046  time: 0.6967  data_time: 0.0256  lr: 0.001  max_mem: 2172M\n",
            "[02/17 15:33:13 d2.utils.events]:  eta: 1 day, 8:45:30  iter: 18079  total_loss: 0.04581  loss_cls: 0.001684  loss_box_reg: 0.04516  time: 0.6968  data_time: 0.0214  lr: 0.001  max_mem: 2172M\n",
            "[02/17 15:33:27 d2.utils.events]:  eta: 1 day, 8:45:55  iter: 18099  total_loss: 0.04886  loss_cls: 0.001121  loss_box_reg: 0.04849  time: 0.6968  data_time: 0.0202  lr: 0.001  max_mem: 2172M\n",
            "[02/17 15:33:41 d2.utils.events]:  eta: 1 day, 8:45:51  iter: 18119  total_loss: 0.04708  loss_cls: 0.001726  loss_box_reg: 0.04472  time: 0.6968  data_time: 0.0211  lr: 0.001  max_mem: 2172M\n",
            "[02/17 15:33:56 d2.utils.events]:  eta: 1 day, 8:46:09  iter: 18139  total_loss: 0.05462  loss_cls: 0.002062  loss_box_reg: 0.05251  time: 0.6968  data_time: 0.0244  lr: 0.001  max_mem: 2172M\n",
            "[02/17 15:34:09 d2.utils.events]:  eta: 1 day, 8:44:27  iter: 18159  total_loss: 0.04931  loss_cls: 0.001423  loss_box_reg: 0.04739  time: 0.6968  data_time: 0.0186  lr: 0.001  max_mem: 2172M\n",
            "[02/17 15:34:23 d2.utils.events]:  eta: 1 day, 8:43:30  iter: 18179  total_loss: 0.05304  loss_cls: 0.002021  loss_box_reg: 0.0517  time: 0.6968  data_time: 0.0229  lr: 0.001  max_mem: 2172M\n",
            "[02/17 15:34:37 d2.utils.events]:  eta: 1 day, 8:44:31  iter: 18199  total_loss: 0.06115  loss_cls: 0.002338  loss_box_reg: 0.05897  time: 0.6968  data_time: 0.0221  lr: 0.001  max_mem: 2172M\n",
            "[02/17 15:34:51 d2.utils.events]:  eta: 1 day, 8:43:43  iter: 18219  total_loss: 0.05992  loss_cls: 0.001702  loss_box_reg: 0.05821  time: 0.6968  data_time: 0.0178  lr: 0.001  max_mem: 2172M\n",
            "[02/17 15:35:05 d2.utils.events]:  eta: 1 day, 8:43:29  iter: 18239  total_loss: 0.04323  loss_cls: 0.00106  loss_box_reg: 0.04077  time: 0.6968  data_time: 0.0186  lr: 0.001  max_mem: 2172M\n",
            "[02/17 15:35:19 d2.utils.events]:  eta: 1 day, 8:41:06  iter: 18259  total_loss: 0.05399  loss_cls: 0.002962  loss_box_reg: 0.05008  time: 0.6968  data_time: 0.0225  lr: 0.001  max_mem: 2172M\n",
            "[02/17 15:35:33 d2.utils.events]:  eta: 1 day, 8:43:22  iter: 18279  total_loss: 0.04951  loss_cls: 0.001603  loss_box_reg: 0.0468  time: 0.6968  data_time: 0.0209  lr: 0.001  max_mem: 2172M\n",
            "[02/17 15:35:47 d2.utils.events]:  eta: 1 day, 8:43:29  iter: 18299  total_loss: 0.0465  loss_cls: 0.001339  loss_box_reg: 0.04533  time: 0.6968  data_time: 0.0253  lr: 0.001  max_mem: 2172M\n",
            "[02/17 15:36:01 d2.utils.events]:  eta: 1 day, 8:43:40  iter: 18319  total_loss: 0.05224  loss_cls: 0.001644  loss_box_reg: 0.04994  time: 0.6968  data_time: 0.0143  lr: 0.001  max_mem: 2172M\n",
            "[02/17 15:36:15 d2.utils.events]:  eta: 1 day, 8:45:07  iter: 18339  total_loss: 0.05179  loss_cls: 0.001331  loss_box_reg: 0.05049  time: 0.6968  data_time: 0.0237  lr: 0.001  max_mem: 2172M\n",
            "[02/17 15:36:29 d2.utils.events]:  eta: 1 day, 8:45:09  iter: 18359  total_loss: 0.05232  loss_cls: 0.00172  loss_box_reg: 0.05077  time: 0.6968  data_time: 0.0196  lr: 0.001  max_mem: 2172M\n",
            "[02/17 15:36:43 d2.utils.events]:  eta: 1 day, 8:44:54  iter: 18379  total_loss: 0.05452  loss_cls: 0.001521  loss_box_reg: 0.05206  time: 0.6968  data_time: 0.0172  lr: 0.001  max_mem: 2172M\n",
            "[02/17 15:36:57 d2.utils.events]:  eta: 1 day, 8:45:06  iter: 18399  total_loss: 0.05696  loss_cls: 0.00188  loss_box_reg: 0.05403  time: 0.6968  data_time: 0.0179  lr: 0.001  max_mem: 2172M\n",
            "[02/17 15:37:11 d2.utils.events]:  eta: 1 day, 8:45:14  iter: 18419  total_loss: 0.05628  loss_cls: 0.001664  loss_box_reg: 0.0501  time: 0.6968  data_time: 0.0249  lr: 0.001  max_mem: 2172M\n",
            "[02/17 15:37:24 d2.utils.events]:  eta: 1 day, 8:44:58  iter: 18439  total_loss: 0.06201  loss_cls: 0.001571  loss_box_reg: 0.05377  time: 0.6968  data_time: 0.0176  lr: 0.001  max_mem: 2172M\n",
            "[02/17 15:37:38 d2.utils.events]:  eta: 1 day, 8:44:47  iter: 18459  total_loss: 0.05085  loss_cls: 0.0009914  loss_box_reg: 0.04905  time: 0.6968  data_time: 0.0210  lr: 0.001  max_mem: 2172M\n",
            "[02/17 15:37:52 d2.utils.events]:  eta: 1 day, 8:44:32  iter: 18479  total_loss: 0.05216  loss_cls: 0.001092  loss_box_reg: 0.04876  time: 0.6968  data_time: 0.0176  lr: 0.001  max_mem: 2172M\n",
            "[02/17 15:38:06 d2.utils.events]:  eta: 1 day, 8:44:20  iter: 18499  total_loss: 0.04834  loss_cls: 0.001342  loss_box_reg: 0.04656  time: 0.6968  data_time: 0.0202  lr: 0.001  max_mem: 2172M\n",
            "[02/17 15:38:20 d2.utils.events]:  eta: 1 day, 8:44:19  iter: 18519  total_loss: 0.05347  loss_cls: 0.001799  loss_box_reg: 0.05147  time: 0.6968  data_time: 0.0197  lr: 0.001  max_mem: 2172M\n",
            "[02/17 15:38:34 d2.utils.events]:  eta: 1 day, 8:44:33  iter: 18539  total_loss: 0.06401  loss_cls: 0.001749  loss_box_reg: 0.06026  time: 0.6968  data_time: 0.0263  lr: 0.001  max_mem: 2172M\n",
            "[02/17 15:38:48 d2.utils.events]:  eta: 1 day, 8:43:38  iter: 18559  total_loss: 0.04997  loss_cls: 0.001413  loss_box_reg: 0.04673  time: 0.6968  data_time: 0.0195  lr: 0.001  max_mem: 2172M\n",
            "[02/17 15:39:02 d2.utils.events]:  eta: 1 day, 8:43:36  iter: 18579  total_loss: 0.05182  loss_cls: 0.00213  loss_box_reg: 0.04906  time: 0.6968  data_time: 0.0244  lr: 0.001  max_mem: 2172M\n",
            "[02/17 15:39:16 d2.utils.events]:  eta: 1 day, 8:43:49  iter: 18599  total_loss: 0.04758  loss_cls: 0.001588  loss_box_reg: 0.04489  time: 0.6968  data_time: 0.0172  lr: 0.001  max_mem: 2172M\n",
            "[02/17 15:39:30 d2.utils.events]:  eta: 1 day, 8:42:54  iter: 18619  total_loss: 0.05744  loss_cls: 0.00145  loss_box_reg: 0.05537  time: 0.6968  data_time: 0.0200  lr: 0.001  max_mem: 2172M\n",
            "[02/17 15:39:44 d2.utils.events]:  eta: 1 day, 8:42:52  iter: 18639  total_loss: 0.0502  loss_cls: 0.001019  loss_box_reg: 0.04787  time: 0.6968  data_time: 0.0276  lr: 0.001  max_mem: 2172M\n",
            "[02/17 15:39:57 d2.utils.events]:  eta: 1 day, 8:42:23  iter: 18659  total_loss: 0.054  loss_cls: 0.001603  loss_box_reg: 0.05062  time: 0.6967  data_time: 0.0189  lr: 0.001  max_mem: 2172M\n",
            "[02/17 15:40:11 d2.utils.events]:  eta: 1 day, 8:42:40  iter: 18679  total_loss: 0.0506  loss_cls: 0.001252  loss_box_reg: 0.04812  time: 0.6968  data_time: 0.0184  lr: 0.001  max_mem: 2172M\n",
            "[02/17 15:40:25 d2.utils.events]:  eta: 1 day, 8:41:55  iter: 18699  total_loss: 0.0468  loss_cls: 0.0008506  loss_box_reg: 0.04597  time: 0.6968  data_time: 0.0224  lr: 0.001  max_mem: 2172M\n",
            "[02/17 15:40:39 d2.utils.events]:  eta: 1 day, 8:40:55  iter: 18719  total_loss: 0.05494  loss_cls: 0.002126  loss_box_reg: 0.0508  time: 0.6968  data_time: 0.0149  lr: 0.001  max_mem: 2172M\n",
            "[02/17 15:40:53 d2.utils.events]:  eta: 1 day, 8:41:56  iter: 18739  total_loss: 0.06109  loss_cls: 0.002016  loss_box_reg: 0.05838  time: 0.6968  data_time: 0.0199  lr: 0.001  max_mem: 2172M\n",
            "[02/17 15:41:07 d2.utils.events]:  eta: 1 day, 8:41:41  iter: 18759  total_loss: 0.05735  loss_cls: 0.001962  loss_box_reg: 0.05592  time: 0.6968  data_time: 0.0215  lr: 0.001  max_mem: 2172M\n",
            "[02/17 15:41:21 d2.utils.events]:  eta: 1 day, 8:41:10  iter: 18779  total_loss: 0.05196  loss_cls: 0.001894  loss_box_reg: 0.04813  time: 0.6968  data_time: 0.0163  lr: 0.001  max_mem: 2172M\n",
            "[02/17 15:41:35 d2.utils.events]:  eta: 1 day, 8:40:53  iter: 18799  total_loss: 0.04603  loss_cls: 0.0008926  loss_box_reg: 0.0449  time: 0.6968  data_time: 0.0208  lr: 0.001  max_mem: 2172M\n",
            "[02/17 15:41:49 d2.utils.events]:  eta: 1 day, 8:40:28  iter: 18819  total_loss: 0.05059  loss_cls: 0.002766  loss_box_reg: 0.04477  time: 0.6968  data_time: 0.0203  lr: 0.001  max_mem: 2172M\n",
            "[02/17 15:42:03 d2.utils.events]:  eta: 1 day, 8:40:43  iter: 18839  total_loss: 0.04064  loss_cls: 0.001357  loss_box_reg: 0.03929  time: 0.6968  data_time: 0.0170  lr: 0.001  max_mem: 2172M\n",
            "[02/17 15:42:17 d2.utils.events]:  eta: 1 day, 8:40:18  iter: 18859  total_loss: 0.03787  loss_cls: 0.00128  loss_box_reg: 0.03623  time: 0.6968  data_time: 0.0180  lr: 0.001  max_mem: 2172M\n",
            "[02/17 15:42:31 d2.utils.events]:  eta: 1 day, 8:39:44  iter: 18879  total_loss: 0.04057  loss_cls: 0.0017  loss_box_reg: 0.03821  time: 0.6968  data_time: 0.0197  lr: 0.001  max_mem: 2172M\n",
            "[02/17 15:42:45 d2.utils.events]:  eta: 1 day, 8:38:30  iter: 18899  total_loss: 0.04859  loss_cls: 0.002453  loss_box_reg: 0.04501  time: 0.6968  data_time: 0.0231  lr: 0.001  max_mem: 2172M\n",
            "[02/17 15:42:59 d2.utils.events]:  eta: 1 day, 8:38:15  iter: 18919  total_loss: 0.05208  loss_cls: 0.00308  loss_box_reg: 0.04832  time: 0.6968  data_time: 0.0196  lr: 0.001  max_mem: 2172M\n",
            "[02/17 15:43:13 d2.utils.events]:  eta: 1 day, 8:37:49  iter: 18939  total_loss: 0.05422  loss_cls: 0.00188  loss_box_reg: 0.05296  time: 0.6968  data_time: 0.0202  lr: 0.001  max_mem: 2172M\n",
            "[02/17 15:43:27 d2.utils.events]:  eta: 1 day, 8:38:00  iter: 18959  total_loss: 0.06144  loss_cls: 0.001977  loss_box_reg: 0.05806  time: 0.6968  data_time: 0.0208  lr: 0.001  max_mem: 2172M\n",
            "[02/17 15:43:41 d2.utils.events]:  eta: 1 day, 8:37:46  iter: 18979  total_loss: 0.05509  loss_cls: 0.002628  loss_box_reg: 0.0517  time: 0.6968  data_time: 0.0181  lr: 0.001  max_mem: 2172M\n",
            "[02/17 15:43:55 d2.utils.events]:  eta: 1 day, 8:37:31  iter: 18999  total_loss: 0.04979  loss_cls: 0.002334  loss_box_reg: 0.04785  time: 0.6968  data_time: 0.0202  lr: 0.001  max_mem: 2172M\n",
            "[02/17 15:44:09 d2.utils.events]:  eta: 1 day, 8:37:21  iter: 19019  total_loss: 0.05552  loss_cls: 0.0019  loss_box_reg: 0.05007  time: 0.6968  data_time: 0.0146  lr: 0.001  max_mem: 2172M\n",
            "[02/17 15:44:23 d2.utils.events]:  eta: 1 day, 8:36:51  iter: 19039  total_loss: 0.05141  loss_cls: 0.002113  loss_box_reg: 0.04883  time: 0.6968  data_time: 0.0234  lr: 0.001  max_mem: 2172M\n",
            "[02/17 15:44:37 d2.utils.events]:  eta: 1 day, 8:36:45  iter: 19059  total_loss: 0.04893  loss_cls: 0.001232  loss_box_reg: 0.04804  time: 0.6968  data_time: 0.0238  lr: 0.001  max_mem: 2172M\n",
            "[02/17 15:44:51 d2.utils.events]:  eta: 1 day, 8:36:06  iter: 19079  total_loss: 0.05095  loss_cls: 0.0008788  loss_box_reg: 0.0481  time: 0.6968  data_time: 0.0180  lr: 0.001  max_mem: 2172M\n",
            "[02/17 15:45:05 d2.utils.events]:  eta: 1 day, 8:36:01  iter: 19099  total_loss: 0.06104  loss_cls: 0.00188  loss_box_reg: 0.05739  time: 0.6968  data_time: 0.0183  lr: 0.001  max_mem: 2172M\n",
            "[02/17 15:45:20 d2.utils.events]:  eta: 1 day, 8:35:52  iter: 19119  total_loss: 0.05138  loss_cls: 0.001138  loss_box_reg: 0.04899  time: 0.6968  data_time: 0.0237  lr: 0.001  max_mem: 2172M\n",
            "[02/17 15:45:33 d2.utils.events]:  eta: 1 day, 8:34:15  iter: 19139  total_loss: 0.05295  loss_cls: 0.001914  loss_box_reg: 0.05206  time: 0.6968  data_time: 0.0164  lr: 0.001  max_mem: 2172M\n",
            "[02/17 15:45:47 d2.utils.events]:  eta: 1 day, 8:35:18  iter: 19159  total_loss: 0.05194  loss_cls: 0.001407  loss_box_reg: 0.0507  time: 0.6968  data_time: 0.0204  lr: 0.001  max_mem: 2172M\n",
            "[02/17 15:46:01 d2.utils.events]:  eta: 1 day, 8:34:54  iter: 19179  total_loss: 0.0504  loss_cls: 0.001391  loss_box_reg: 0.04868  time: 0.6968  data_time: 0.0136  lr: 0.001  max_mem: 2172M\n",
            "[02/17 15:46:15 d2.utils.events]:  eta: 1 day, 8:34:39  iter: 19199  total_loss: 0.06343  loss_cls: 0.001251  loss_box_reg: 0.05704  time: 0.6968  data_time: 0.0161  lr: 0.001  max_mem: 2172M\n",
            "[02/17 15:46:29 d2.utils.events]:  eta: 1 day, 8:33:17  iter: 19219  total_loss: 0.04832  loss_cls: 0.001563  loss_box_reg: 0.04486  time: 0.6968  data_time: 0.0177  lr: 0.001  max_mem: 2172M\n",
            "[02/17 15:46:42 d2.utils.events]:  eta: 1 day, 8:31:51  iter: 19239  total_loss: 0.0467  loss_cls: 0.001398  loss_box_reg: 0.04518  time: 0.6968  data_time: 0.0177  lr: 0.001  max_mem: 2172M\n",
            "[02/17 15:46:56 d2.utils.events]:  eta: 1 day, 8:31:37  iter: 19259  total_loss: 0.05996  loss_cls: 0.002061  loss_box_reg: 0.05449  time: 0.6968  data_time: 0.0145  lr: 0.001  max_mem: 2172M\n",
            "[02/17 15:47:10 d2.utils.events]:  eta: 1 day, 8:30:27  iter: 19279  total_loss: 0.06326  loss_cls: 0.002295  loss_box_reg: 0.05963  time: 0.6968  data_time: 0.0206  lr: 0.001  max_mem: 2172M\n",
            "[02/17 15:47:24 d2.utils.events]:  eta: 1 day, 8:29:05  iter: 19299  total_loss: 0.05814  loss_cls: 0.00145  loss_box_reg: 0.05509  time: 0.6968  data_time: 0.0163  lr: 0.001  max_mem: 2172M\n",
            "[02/17 15:47:38 d2.utils.events]:  eta: 1 day, 8:28:50  iter: 19319  total_loss: 0.05066  loss_cls: 0.001629  loss_box_reg: 0.04763  time: 0.6968  data_time: 0.0165  lr: 0.001  max_mem: 2172M\n",
            "[02/17 15:47:52 d2.utils.events]:  eta: 1 day, 8:26:47  iter: 19339  total_loss: 0.05513  loss_cls: 0.002392  loss_box_reg: 0.05441  time: 0.6968  data_time: 0.0287  lr: 0.001  max_mem: 2172M\n",
            "[02/17 15:48:06 d2.utils.events]:  eta: 1 day, 8:25:50  iter: 19359  total_loss: 0.05507  loss_cls: 0.001693  loss_box_reg: 0.05203  time: 0.6968  data_time: 0.0227  lr: 0.001  max_mem: 2172M\n",
            "[02/17 15:48:19 d2.utils.events]:  eta: 1 day, 8:26:10  iter: 19379  total_loss: 0.06072  loss_cls: 0.002345  loss_box_reg: 0.05818  time: 0.6968  data_time: 0.0197  lr: 0.001  max_mem: 2172M\n",
            "[02/17 15:48:33 d2.utils.events]:  eta: 1 day, 8:26:18  iter: 19399  total_loss: 0.05205  loss_cls: 0.001821  loss_box_reg: 0.05093  time: 0.6968  data_time: 0.0174  lr: 0.001  max_mem: 2172M\n",
            "[02/17 15:48:47 d2.utils.events]:  eta: 1 day, 8:25:41  iter: 19419  total_loss: 0.04927  loss_cls: 0.002918  loss_box_reg: 0.04504  time: 0.6968  data_time: 0.0187  lr: 0.001  max_mem: 2172M\n",
            "[02/17 15:49:01 d2.utils.events]:  eta: 1 day, 8:25:34  iter: 19439  total_loss: 0.05424  loss_cls: 0.001187  loss_box_reg: 0.05178  time: 0.6968  data_time: 0.0199  lr: 0.001  max_mem: 2172M\n",
            "[02/17 15:49:15 d2.utils.events]:  eta: 1 day, 8:27:14  iter: 19459  total_loss: 0.05052  loss_cls: 0.001094  loss_box_reg: 0.0481  time: 0.6968  data_time: 0.0202  lr: 0.001  max_mem: 2172M\n",
            "[02/17 15:49:30 d2.utils.events]:  eta: 1 day, 8:26:59  iter: 19479  total_loss: 0.0476  loss_cls: 0.001657  loss_box_reg: 0.04624  time: 0.6968  data_time: 0.0172  lr: 0.001  max_mem: 2172M\n",
            "[02/17 15:49:44 d2.utils.events]:  eta: 1 day, 8:27:43  iter: 19499  total_loss: 0.04828  loss_cls: 0.001474  loss_box_reg: 0.04536  time: 0.6968  data_time: 0.0182  lr: 0.001  max_mem: 2172M\n",
            "[02/17 15:49:58 d2.utils.events]:  eta: 1 day, 8:29:38  iter: 19519  total_loss: 0.05592  loss_cls: 0.002087  loss_box_reg: 0.05068  time: 0.6968  data_time: 0.0249  lr: 0.001  max_mem: 2172M\n",
            "[02/17 15:50:12 d2.utils.events]:  eta: 1 day, 8:30:12  iter: 19539  total_loss: 0.06036  loss_cls: 0.001982  loss_box_reg: 0.05717  time: 0.6968  data_time: 0.0222  lr: 0.001  max_mem: 2172M\n",
            "[02/17 15:50:26 d2.utils.events]:  eta: 1 day, 8:29:07  iter: 19559  total_loss: 0.05461  loss_cls: 0.001997  loss_box_reg: 0.04935  time: 0.6968  data_time: 0.0226  lr: 0.001  max_mem: 2172M\n",
            "[02/17 15:50:40 d2.utils.events]:  eta: 1 day, 8:28:24  iter: 19579  total_loss: 0.05268  loss_cls: 0.001089  loss_box_reg: 0.04729  time: 0.6968  data_time: 0.0268  lr: 0.001  max_mem: 2172M\n",
            "[02/17 15:50:54 d2.utils.events]:  eta: 1 day, 8:28:00  iter: 19599  total_loss: 0.05785  loss_cls: 0.002056  loss_box_reg: 0.05576  time: 0.6968  data_time: 0.0211  lr: 0.001  max_mem: 2172M\n",
            "[02/17 15:51:08 d2.utils.events]:  eta: 1 day, 8:28:56  iter: 19619  total_loss: 0.0486  loss_cls: 0.001418  loss_box_reg: 0.0475  time: 0.6968  data_time: 0.0242  lr: 0.001  max_mem: 2172M\n",
            "[02/17 15:51:22 d2.utils.events]:  eta: 1 day, 8:28:36  iter: 19639  total_loss: 0.05433  loss_cls: 0.001359  loss_box_reg: 0.05051  time: 0.6968  data_time: 0.0225  lr: 0.001  max_mem: 2172M\n",
            "[02/17 15:51:36 d2.utils.events]:  eta: 1 day, 8:29:21  iter: 19659  total_loss: 0.05265  loss_cls: 0.001812  loss_box_reg: 0.05178  time: 0.6969  data_time: 0.0210  lr: 0.001  max_mem: 2172M\n",
            "[02/17 15:51:51 d2.utils.events]:  eta: 1 day, 8:29:03  iter: 19679  total_loss: 0.05142  loss_cls: 0.001571  loss_box_reg: 0.04891  time: 0.6969  data_time: 0.0278  lr: 0.001  max_mem: 2172M\n",
            "[02/17 15:52:05 d2.utils.events]:  eta: 1 day, 8:28:52  iter: 19699  total_loss: 0.0492  loss_cls: 0.001941  loss_box_reg: 0.04311  time: 0.6969  data_time: 0.0202  lr: 0.001  max_mem: 2172M\n",
            "[02/17 15:52:19 d2.utils.events]:  eta: 1 day, 8:28:55  iter: 19719  total_loss: 0.04409  loss_cls: 0.00125  loss_box_reg: 0.04229  time: 0.6969  data_time: 0.0154  lr: 0.001  max_mem: 2172M\n",
            "[02/17 15:52:33 d2.utils.events]:  eta: 1 day, 8:28:19  iter: 19739  total_loss: 0.05067  loss_cls: 0.002315  loss_box_reg: 0.04903  time: 0.6969  data_time: 0.0203  lr: 0.001  max_mem: 2172M\n",
            "[02/17 15:52:47 d2.utils.events]:  eta: 1 day, 8:27:20  iter: 19759  total_loss: 0.04613  loss_cls: 0.001085  loss_box_reg: 0.0445  time: 0.6969  data_time: 0.0214  lr: 0.001  max_mem: 2172M\n",
            "[02/17 15:53:01 d2.utils.events]:  eta: 1 day, 8:27:05  iter: 19779  total_loss: 0.05772  loss_cls: 0.001594  loss_box_reg: 0.05633  time: 0.6969  data_time: 0.0194  lr: 0.001  max_mem: 2172M\n",
            "[02/17 15:53:15 d2.utils.events]:  eta: 1 day, 8:27:23  iter: 19799  total_loss: 0.05846  loss_cls: 0.001609  loss_box_reg: 0.05726  time: 0.6969  data_time: 0.0225  lr: 0.001  max_mem: 2172M\n",
            "[02/17 15:53:29 d2.utils.events]:  eta: 1 day, 8:26:33  iter: 19819  total_loss: 0.05823  loss_cls: 0.001895  loss_box_reg: 0.05672  time: 0.6969  data_time: 0.0202  lr: 0.001  max_mem: 2172M\n",
            "[02/17 15:53:43 d2.utils.events]:  eta: 1 day, 8:26:13  iter: 19839  total_loss: 0.05631  loss_cls: 0.002607  loss_box_reg: 0.05438  time: 0.6969  data_time: 0.0195  lr: 0.001  max_mem: 2172M\n",
            "[02/17 15:53:58 d2.utils.events]:  eta: 1 day, 8:26:51  iter: 19859  total_loss: 0.05759  loss_cls: 0.001989  loss_box_reg: 0.05098  time: 0.6969  data_time: 0.0163  lr: 0.001  max_mem: 2172M\n",
            "[02/17 15:54:11 d2.utils.events]:  eta: 1 day, 8:26:36  iter: 19879  total_loss: 0.04546  loss_cls: 0.001454  loss_box_reg: 0.04162  time: 0.6969  data_time: 0.0175  lr: 0.001  max_mem: 2172M\n",
            "[02/17 15:54:25 d2.utils.events]:  eta: 1 day, 8:26:26  iter: 19899  total_loss: 0.05037  loss_cls: 0.001027  loss_box_reg: 0.04704  time: 0.6969  data_time: 0.0140  lr: 0.001  max_mem: 2172M\n",
            "[02/17 15:54:39 d2.utils.events]:  eta: 1 day, 8:26:11  iter: 19919  total_loss: 0.04367  loss_cls: 0.001296  loss_box_reg: 0.04257  time: 0.6969  data_time: 0.0173  lr: 0.001  max_mem: 2172M\n",
            "[02/17 15:54:52 d2.utils.events]:  eta: 1 day, 8:25:57  iter: 19939  total_loss: 0.05197  loss_cls: 0.002207  loss_box_reg: 0.05055  time: 0.6969  data_time: 0.0143  lr: 0.001  max_mem: 2172M\n",
            "[02/17 15:55:07 d2.utils.events]:  eta: 1 day, 8:25:19  iter: 19959  total_loss: 0.05894  loss_cls: 0.003257  loss_box_reg: 0.05464  time: 0.6969  data_time: 0.0145  lr: 0.001  max_mem: 2172M\n",
            "[02/17 15:55:21 d2.utils.events]:  eta: 1 day, 8:25:26  iter: 19979  total_loss: 0.04982  loss_cls: 0.001008  loss_box_reg: 0.04897  time: 0.6969  data_time: 0.0216  lr: 0.001  max_mem: 2172M\n",
            "[02/17 15:55:34 d2.utils.events]:  eta: 1 day, 8:25:11  iter: 19999  total_loss: 0.05611  loss_cls: 0.0009921  loss_box_reg: 0.05527  time: 0.6969  data_time: 0.0186  lr: 0.001  max_mem: 2172M\n",
            "[02/17 15:55:49 d2.utils.events]:  eta: 1 day, 8:24:57  iter: 20019  total_loss: 0.0553  loss_cls: 0.001691  loss_box_reg: 0.05118  time: 0.6969  data_time: 0.0224  lr: 0.001  max_mem: 2172M\n",
            "[02/17 15:56:02 d2.utils.events]:  eta: 1 day, 8:24:43  iter: 20039  total_loss: 0.04998  loss_cls: 0.002076  loss_box_reg: 0.04884  time: 0.6969  data_time: 0.0199  lr: 0.001  max_mem: 2172M\n",
            "[02/17 15:56:16 d2.utils.events]:  eta: 1 day, 8:23:38  iter: 20059  total_loss: 0.0459  loss_cls: 0.001201  loss_box_reg: 0.04399  time: 0.6969  data_time: 0.0244  lr: 0.001  max_mem: 2172M\n",
            "[02/17 15:56:30 d2.utils.events]:  eta: 1 day, 8:23:18  iter: 20079  total_loss: 0.04905  loss_cls: 0.002014  loss_box_reg: 0.04751  time: 0.6969  data_time: 0.0202  lr: 0.001  max_mem: 2172M\n",
            "[02/17 15:56:44 d2.utils.events]:  eta: 1 day, 8:23:03  iter: 20099  total_loss: 0.05362  loss_cls: 0.001358  loss_box_reg: 0.0522  time: 0.6969  data_time: 0.0218  lr: 0.001  max_mem: 2172M\n",
            "[02/17 15:56:57 d2.utils.events]:  eta: 1 day, 8:21:31  iter: 20119  total_loss: 0.05567  loss_cls: 0.001954  loss_box_reg: 0.05065  time: 0.6969  data_time: 0.0227  lr: 0.001  max_mem: 2172M\n",
            "[02/17 15:57:11 d2.utils.events]:  eta: 1 day, 8:21:57  iter: 20139  total_loss: 0.05379  loss_cls: 0.001612  loss_box_reg: 0.05205  time: 0.6968  data_time: 0.0206  lr: 0.001  max_mem: 2172M\n",
            "[02/17 15:57:25 d2.utils.events]:  eta: 1 day, 8:21:02  iter: 20159  total_loss: 0.05654  loss_cls: 0.0006564  loss_box_reg: 0.05019  time: 0.6968  data_time: 0.0198  lr: 0.001  max_mem: 2172M\n",
            "[02/17 15:57:39 d2.utils.events]:  eta: 1 day, 8:21:58  iter: 20179  total_loss: 0.05174  loss_cls: 0.002223  loss_box_reg: 0.04955  time: 0.6969  data_time: 0.0209  lr: 0.001  max_mem: 2172M\n",
            "[02/17 15:57:53 d2.utils.events]:  eta: 1 day, 8:21:13  iter: 20199  total_loss: 0.05564  loss_cls: 0.001213  loss_box_reg: 0.05463  time: 0.6968  data_time: 0.0168  lr: 0.001  max_mem: 2172M\n",
            "[02/17 15:58:07 d2.utils.events]:  eta: 1 day, 8:21:38  iter: 20219  total_loss: 0.04474  loss_cls: 0.001527  loss_box_reg: 0.04269  time: 0.6968  data_time: 0.0231  lr: 0.001  max_mem: 2172M\n",
            "[02/17 15:58:21 d2.utils.events]:  eta: 1 day, 8:21:21  iter: 20239  total_loss: 0.04612  loss_cls: 0.001259  loss_box_reg: 0.04336  time: 0.6968  data_time: 0.0187  lr: 0.001  max_mem: 2172M\n",
            "[02/17 15:58:34 d2.utils.events]:  eta: 1 day, 8:20:29  iter: 20259  total_loss: 0.05712  loss_cls: 0.002719  loss_box_reg: 0.05498  time: 0.6968  data_time: 0.0196  lr: 0.001  max_mem: 2172M\n",
            "[02/17 15:58:48 d2.utils.events]:  eta: 1 day, 8:20:19  iter: 20279  total_loss: 0.04238  loss_cls: 0.0009603  loss_box_reg: 0.04069  time: 0.6968  data_time: 0.0229  lr: 0.001  max_mem: 2172M\n",
            "[02/17 15:59:02 d2.utils.events]:  eta: 1 day, 8:20:40  iter: 20299  total_loss: 0.05119  loss_cls: 0.00154  loss_box_reg: 0.04738  time: 0.6968  data_time: 0.0212  lr: 0.001  max_mem: 2172M\n",
            "[02/17 15:59:16 d2.utils.events]:  eta: 1 day, 8:19:49  iter: 20319  total_loss: 0.05573  loss_cls: 0.002579  loss_box_reg: 0.05425  time: 0.6968  data_time: 0.0183  lr: 0.001  max_mem: 2172M\n",
            "[02/17 15:59:29 d2.utils.events]:  eta: 1 day, 8:18:06  iter: 20339  total_loss: 0.04988  loss_cls: 0.0008341  loss_box_reg: 0.04914  time: 0.6968  data_time: 0.0213  lr: 0.001  max_mem: 2172M\n",
            "[02/17 15:59:43 d2.utils.events]:  eta: 1 day, 8:17:33  iter: 20359  total_loss: 0.05149  loss_cls: 0.001108  loss_box_reg: 0.05077  time: 0.6968  data_time: 0.0181  lr: 0.001  max_mem: 2172M\n",
            "[02/17 15:59:57 d2.utils.events]:  eta: 1 day, 8:18:06  iter: 20379  total_loss: 0.03718  loss_cls: 0.0008895  loss_box_reg: 0.03658  time: 0.6968  data_time: 0.0209  lr: 0.001  max_mem: 2172M\n",
            "[02/17 16:00:10 d2.utils.events]:  eta: 1 day, 8:16:57  iter: 20399  total_loss: 0.05254  loss_cls: 0.001052  loss_box_reg: 0.05124  time: 0.6967  data_time: 0.0213  lr: 0.001  max_mem: 2172M\n",
            "[02/17 16:00:24 d2.utils.events]:  eta: 1 day, 8:17:20  iter: 20419  total_loss: 0.04622  loss_cls: 0.001696  loss_box_reg: 0.0448  time: 0.6967  data_time: 0.0213  lr: 0.001  max_mem: 2172M\n",
            "[02/17 16:00:38 d2.utils.events]:  eta: 1 day, 8:17:23  iter: 20439  total_loss: 0.05538  loss_cls: 0.002702  loss_box_reg: 0.05249  time: 0.6967  data_time: 0.0193  lr: 0.001  max_mem: 2172M\n",
            "[02/17 16:00:52 d2.utils.events]:  eta: 1 day, 8:16:25  iter: 20459  total_loss: 0.05143  loss_cls: 0.001235  loss_box_reg: 0.0506  time: 0.6967  data_time: 0.0173  lr: 0.001  max_mem: 2172M\n",
            "[02/17 16:01:06 d2.utils.events]:  eta: 1 day, 8:15:41  iter: 20479  total_loss: 0.05424  loss_cls: 0.001393  loss_box_reg: 0.05266  time: 0.6967  data_time: 0.0169  lr: 0.001  max_mem: 2172M\n",
            "[02/17 16:01:20 d2.utils.events]:  eta: 1 day, 8:15:04  iter: 20499  total_loss: 0.05043  loss_cls: 0.001536  loss_box_reg: 0.04649  time: 0.6967  data_time: 0.0215  lr: 0.001  max_mem: 2172M\n",
            "[02/17 16:01:34 d2.utils.events]:  eta: 1 day, 8:14:12  iter: 20519  total_loss: 0.05041  loss_cls: 0.001953  loss_box_reg: 0.04861  time: 0.6967  data_time: 0.0196  lr: 0.001  max_mem: 2172M\n",
            "[02/17 16:01:48 d2.utils.events]:  eta: 1 day, 8:13:43  iter: 20539  total_loss: 0.05157  loss_cls: 0.001716  loss_box_reg: 0.04935  time: 0.6967  data_time: 0.0230  lr: 0.001  max_mem: 2172M\n",
            "[02/17 16:02:02 d2.utils.events]:  eta: 1 day, 8:14:01  iter: 20559  total_loss: 0.05162  loss_cls: 0.002326  loss_box_reg: 0.04846  time: 0.6967  data_time: 0.0165  lr: 0.001  max_mem: 2172M\n",
            "[02/17 16:02:16 d2.utils.events]:  eta: 1 day, 8:13:29  iter: 20579  total_loss: 0.04538  loss_cls: 0.001209  loss_box_reg: 0.04141  time: 0.6967  data_time: 0.0226  lr: 0.001  max_mem: 2172M\n",
            "[02/17 16:02:30 d2.utils.events]:  eta: 1 day, 8:13:32  iter: 20599  total_loss: 0.05443  loss_cls: 0.00174  loss_box_reg: 0.04979  time: 0.6967  data_time: 0.0211  lr: 0.001  max_mem: 2172M\n",
            "[02/17 16:02:44 d2.utils.events]:  eta: 1 day, 8:13:54  iter: 20619  total_loss: 0.04891  loss_cls: 0.001286  loss_box_reg: 0.04743  time: 0.6967  data_time: 0.0201  lr: 0.001  max_mem: 2172M\n",
            "[02/17 16:02:58 d2.utils.events]:  eta: 1 day, 8:14:27  iter: 20639  total_loss: 0.05095  loss_cls: 0.001057  loss_box_reg: 0.04748  time: 0.6968  data_time: 0.0196  lr: 0.001  max_mem: 2172M\n",
            "[02/17 16:03:12 d2.utils.events]:  eta: 1 day, 8:13:25  iter: 20659  total_loss: 0.05949  loss_cls: 0.001972  loss_box_reg: 0.05542  time: 0.6968  data_time: 0.0241  lr: 0.001  max_mem: 2172M\n",
            "[02/17 16:03:26 d2.utils.events]:  eta: 1 day, 8:12:53  iter: 20679  total_loss: 0.0501  loss_cls: 0.00138  loss_box_reg: 0.04911  time: 0.6968  data_time: 0.0242  lr: 0.001  max_mem: 2172M\n",
            "[02/17 16:03:40 d2.utils.events]:  eta: 1 day, 8:12:19  iter: 20699  total_loss: 0.05874  loss_cls: 0.001097  loss_box_reg: 0.05759  time: 0.6968  data_time: 0.0165  lr: 0.001  max_mem: 2172M\n",
            "[02/17 16:03:53 d2.utils.events]:  eta: 1 day, 8:09:48  iter: 20719  total_loss: 0.05099  loss_cls: 0.00166  loss_box_reg: 0.04778  time: 0.6967  data_time: 0.0174  lr: 0.001  max_mem: 2172M\n",
            "[02/17 16:04:08 d2.utils.events]:  eta: 1 day, 8:08:55  iter: 20739  total_loss: 0.04904  loss_cls: 0.001181  loss_box_reg: 0.04786  time: 0.6968  data_time: 0.0203  lr: 0.001  max_mem: 2172M\n",
            "[02/17 16:04:21 d2.utils.events]:  eta: 1 day, 8:10:00  iter: 20759  total_loss: 0.03872  loss_cls: 0.0009119  loss_box_reg: 0.03663  time: 0.6967  data_time: 0.0192  lr: 0.001  max_mem: 2172M\n",
            "[02/17 16:04:35 d2.utils.events]:  eta: 1 day, 8:09:04  iter: 20779  total_loss: 0.04417  loss_cls: 0.001422  loss_box_reg: 0.04199  time: 0.6967  data_time: 0.0187  lr: 0.001  max_mem: 2172M\n",
            "[02/17 16:04:49 d2.utils.events]:  eta: 1 day, 7:28:20  iter: 20799  total_loss: 0.05249  loss_cls: 0.001699  loss_box_reg: 0.05132  time: 0.6967  data_time: 0.0227  lr: 0.001  max_mem: 2172M\n",
            "[02/17 16:05:02 d2.utils.events]:  eta: 1 day, 7:28:06  iter: 20819  total_loss: 0.05488  loss_cls: 0.00175  loss_box_reg: 0.04823  time: 0.6967  data_time: 0.0198  lr: 0.001  max_mem: 2172M\n",
            "[02/17 16:05:16 d2.utils.events]:  eta: 1 day, 7:08:49  iter: 20839  total_loss: 0.06405  loss_cls: 0.003376  loss_box_reg: 0.05808  time: 0.6967  data_time: 0.0187  lr: 0.001  max_mem: 2172M\n",
            "[02/17 16:05:30 d2.utils.events]:  eta: 1 day, 6:35:12  iter: 20859  total_loss: 0.05611  loss_cls: 0.001412  loss_box_reg: 0.05326  time: 0.6967  data_time: 0.0228  lr: 0.001  max_mem: 2172M\n",
            "[02/17 16:05:44 d2.utils.events]:  eta: 1 day, 6:35:53  iter: 20879  total_loss: 0.04778  loss_cls: 0.001027  loss_box_reg: 0.0448  time: 0.6967  data_time: 0.0267  lr: 0.001  max_mem: 2172M\n",
            "[02/17 16:05:58 d2.utils.events]:  eta: 1 day, 6:38:09  iter: 20899  total_loss: 0.03719  loss_cls: 0.0005662  loss_box_reg: 0.03627  time: 0.6967  data_time: 0.0158  lr: 0.001  max_mem: 2172M\n",
            "[02/17 16:06:12 d2.utils.events]:  eta: 1 day, 6:36:56  iter: 20919  total_loss: 0.04535  loss_cls: 0.00123  loss_box_reg: 0.04409  time: 0.6967  data_time: 0.0226  lr: 0.001  max_mem: 2172M\n",
            "[02/17 16:06:26 d2.utils.events]:  eta: 1 day, 6:39:53  iter: 20939  total_loss: 0.05175  loss_cls: 0.001916  loss_box_reg: 0.04715  time: 0.6967  data_time: 0.0219  lr: 0.001  max_mem: 2172M\n",
            "[02/17 16:06:41 d2.utils.events]:  eta: 1 day, 6:46:10  iter: 20959  total_loss: 0.04905  loss_cls: 0.0009255  loss_box_reg: 0.04738  time: 0.6967  data_time: 0.0237  lr: 0.001  max_mem: 2172M\n",
            "[02/17 16:06:55 d2.utils.events]:  eta: 1 day, 6:41:34  iter: 20979  total_loss: 0.04785  loss_cls: 0.001296  loss_box_reg: 0.04678  time: 0.6967  data_time: 0.0201  lr: 0.001  max_mem: 2172M\n",
            "[02/17 16:07:08 d2.utils.events]:  eta: 1 day, 6:36:00  iter: 20999  total_loss: 0.04352  loss_cls: 0.001427  loss_box_reg: 0.04089  time: 0.6967  data_time: 0.0237  lr: 0.001  max_mem: 2172M\n",
            "[02/17 16:07:22 d2.utils.events]:  eta: 1 day, 6:29:07  iter: 21019  total_loss: 0.05438  loss_cls: 0.001854  loss_box_reg: 0.05129  time: 0.6967  data_time: 0.0252  lr: 0.001  max_mem: 2172M\n",
            "[02/17 16:07:36 d2.utils.events]:  eta: 1 day, 6:35:33  iter: 21039  total_loss: 0.04797  loss_cls: 0.001712  loss_box_reg: 0.04656  time: 0.6967  data_time: 0.0182  lr: 0.001  max_mem: 2172M\n",
            "[02/17 16:07:50 d2.utils.events]:  eta: 1 day, 6:38:30  iter: 21059  total_loss: 0.04794  loss_cls: 0.001559  loss_box_reg: 0.04677  time: 0.6967  data_time: 0.0186  lr: 0.001  max_mem: 2172M\n",
            "[02/17 16:08:03 d2.utils.events]:  eta: 1 day, 6:36:04  iter: 21079  total_loss: 0.04631  loss_cls: 0.001651  loss_box_reg: 0.04404  time: 0.6967  data_time: 0.0154  lr: 0.001  max_mem: 2172M\n",
            "[02/17 16:08:18 d2.utils.events]:  eta: 1 day, 7:40:28  iter: 21099  total_loss: 0.05395  loss_cls: 0.001175  loss_box_reg: 0.05212  time: 0.6967  data_time: 0.0208  lr: 0.001  max_mem: 2172M\n",
            "[02/17 16:08:32 d2.utils.events]:  eta: 1 day, 7:24:32  iter: 21119  total_loss: 0.04569  loss_cls: 0.001221  loss_box_reg: 0.04311  time: 0.6967  data_time: 0.0186  lr: 0.001  max_mem: 2172M\n",
            "[02/17 16:08:45 d2.utils.events]:  eta: 1 day, 7:37:51  iter: 21139  total_loss: 0.04903  loss_cls: 0.00155  loss_box_reg: 0.04684  time: 0.6967  data_time: 0.0238  lr: 0.001  max_mem: 2172M\n",
            "[02/17 16:09:00 d2.utils.events]:  eta: 1 day, 7:58:47  iter: 21159  total_loss: 0.04811  loss_cls: 0.0009548  loss_box_reg: 0.04694  time: 0.6967  data_time: 0.0267  lr: 0.001  max_mem: 2172M\n",
            "[02/17 16:09:13 d2.utils.events]:  eta: 1 day, 6:46:35  iter: 21179  total_loss: 0.05326  loss_cls: 0.00136  loss_box_reg: 0.05004  time: 0.6967  data_time: 0.0166  lr: 0.001  max_mem: 2172M\n",
            "[02/17 16:09:27 d2.utils.events]:  eta: 1 day, 7:54:28  iter: 21199  total_loss: 0.04638  loss_cls: 0.0008624  loss_box_reg: 0.04602  time: 0.6967  data_time: 0.0250  lr: 0.001  max_mem: 2172M\n",
            "[02/17 16:09:41 d2.utils.events]:  eta: 1 day, 7:04:22  iter: 21219  total_loss: 0.04915  loss_cls: 0.001213  loss_box_reg: 0.048  time: 0.6967  data_time: 0.0199  lr: 0.001  max_mem: 2172M\n",
            "[02/17 16:09:55 d2.utils.events]:  eta: 1 day, 7:36:39  iter: 21239  total_loss: 0.05171  loss_cls: 0.001395  loss_box_reg: 0.04843  time: 0.6967  data_time: 0.0148  lr: 0.001  max_mem: 2172M\n",
            "[02/17 16:10:09 d2.utils.events]:  eta: 1 day, 7:57:34  iter: 21259  total_loss: 0.04973  loss_cls: 0.00108  loss_box_reg: 0.04759  time: 0.6967  data_time: 0.0206  lr: 0.001  max_mem: 2172M\n",
            "[02/17 16:10:23 d2.utils.events]:  eta: 1 day, 8:01:07  iter: 21279  total_loss: 0.04865  loss_cls: 0.001273  loss_box_reg: 0.04715  time: 0.6967  data_time: 0.0156  lr: 0.001  max_mem: 2172M\n",
            "[02/17 16:10:37 d2.utils.events]:  eta: 1 day, 8:00:52  iter: 21299  total_loss: 0.04649  loss_cls: 0.001021  loss_box_reg: 0.04537  time: 0.6967  data_time: 0.0254  lr: 0.001  max_mem: 2172M\n",
            "[02/17 16:10:51 d2.utils.events]:  eta: 1 day, 8:02:32  iter: 21319  total_loss: 0.05347  loss_cls: 0.001668  loss_box_reg: 0.05149  time: 0.6967  data_time: 0.0222  lr: 0.001  max_mem: 2172M\n",
            "[02/17 16:11:05 d2.utils.events]:  eta: 1 day, 8:04:01  iter: 21339  total_loss: 0.04631  loss_cls: 0.001289  loss_box_reg: 0.04476  time: 0.6967  data_time: 0.0173  lr: 0.001  max_mem: 2172M\n",
            "[02/17 16:11:19 d2.utils.events]:  eta: 1 day, 8:04:17  iter: 21359  total_loss: 0.05787  loss_cls: 0.001644  loss_box_reg: 0.05237  time: 0.6967  data_time: 0.0227  lr: 0.001  max_mem: 2172M\n",
            "[02/17 16:11:32 d2.utils.events]:  eta: 1 day, 8:02:18  iter: 21379  total_loss: 0.05832  loss_cls: 0.001976  loss_box_reg: 0.0553  time: 0.6967  data_time: 0.0185  lr: 0.001  max_mem: 2172M\n",
            "[02/17 16:11:46 d2.utils.events]:  eta: 1 day, 8:02:08  iter: 21399  total_loss: 0.05611  loss_cls: 0.001486  loss_box_reg: 0.05414  time: 0.6967  data_time: 0.0162  lr: 0.001  max_mem: 2172M\n",
            "[02/17 16:12:00 d2.utils.events]:  eta: 1 day, 8:01:19  iter: 21419  total_loss: 0.06152  loss_cls: 0.002698  loss_box_reg: 0.05569  time: 0.6967  data_time: 0.0154  lr: 0.001  max_mem: 2172M\n",
            "[02/17 16:12:13 d2.utils.events]:  eta: 1 day, 8:01:05  iter: 21439  total_loss: 0.05726  loss_cls: 0.002006  loss_box_reg: 0.05358  time: 0.6967  data_time: 0.0206  lr: 0.001  max_mem: 2172M\n",
            "[02/17 16:12:27 d2.utils.events]:  eta: 1 day, 8:00:40  iter: 21459  total_loss: 0.05083  loss_cls: 0.001346  loss_box_reg: 0.04993  time: 0.6966  data_time: 0.0195  lr: 0.001  max_mem: 2172M\n",
            "[02/17 16:12:42 d2.utils.events]:  eta: 1 day, 8:01:06  iter: 21479  total_loss: 0.04969  loss_cls: 0.001686  loss_box_reg: 0.04761  time: 0.6967  data_time: 0.0200  lr: 0.001  max_mem: 2172M\n",
            "[02/17 16:12:56 d2.utils.events]:  eta: 1 day, 8:00:55  iter: 21499  total_loss: 0.0604  loss_cls: 0.001879  loss_box_reg: 0.05575  time: 0.6967  data_time: 0.0212  lr: 0.001  max_mem: 2172M\n",
            "[02/17 16:13:09 d2.utils.events]:  eta: 1 day, 7:54:26  iter: 21519  total_loss: 0.04802  loss_cls: 0.002093  loss_box_reg: 0.0467  time: 0.6967  data_time: 0.0241  lr: 0.001  max_mem: 2172M\n",
            "[02/17 16:13:23 d2.utils.events]:  eta: 1 day, 7:57:29  iter: 21539  total_loss: 0.04995  loss_cls: 0.001232  loss_box_reg: 0.04774  time: 0.6967  data_time: 0.0214  lr: 0.001  max_mem: 2172M\n",
            "[02/17 16:13:37 d2.utils.events]:  eta: 1 day, 7:59:38  iter: 21559  total_loss: 0.0448  loss_cls: 0.0009295  loss_box_reg: 0.04395  time: 0.6967  data_time: 0.0149  lr: 0.001  max_mem: 2172M\n",
            "[02/17 16:13:51 d2.utils.events]:  eta: 1 day, 7:59:10  iter: 21579  total_loss: 0.05138  loss_cls: 0.001459  loss_box_reg: 0.04763  time: 0.6967  data_time: 0.0178  lr: 0.001  max_mem: 2172M\n",
            "[02/17 16:14:05 d2.utils.events]:  eta: 1 day, 7:58:56  iter: 21599  total_loss: 0.04795  loss_cls: 0.001749  loss_box_reg: 0.04636  time: 0.6967  data_time: 0.0194  lr: 0.001  max_mem: 2172M\n",
            "[02/17 16:14:19 d2.utils.events]:  eta: 1 day, 7:53:13  iter: 21619  total_loss: 0.05413  loss_cls: 0.0008924  loss_box_reg: 0.05057  time: 0.6966  data_time: 0.0183  lr: 0.001  max_mem: 2172M\n",
            "[02/17 16:14:33 d2.utils.events]:  eta: 1 day, 7:56:16  iter: 21639  total_loss: 0.04988  loss_cls: 0.001834  loss_box_reg: 0.04363  time: 0.6967  data_time: 0.0195  lr: 0.001  max_mem: 2172M\n",
            "[02/17 16:14:47 d2.utils.events]:  eta: 1 day, 7:58:12  iter: 21659  total_loss: 0.05045  loss_cls: 0.002312  loss_box_reg: 0.04958  time: 0.6967  data_time: 0.0129  lr: 0.001  max_mem: 2172M\n",
            "[02/17 16:15:01 d2.utils.events]:  eta: 1 day, 7:56:24  iter: 21679  total_loss: 0.04232  loss_cls: 0.0009466  loss_box_reg: 0.04103  time: 0.6967  data_time: 0.0213  lr: 0.001  max_mem: 2172M\n",
            "[02/17 16:15:15 d2.utils.events]:  eta: 1 day, 7:57:43  iter: 21699  total_loss: 0.038  loss_cls: 0.001084  loss_box_reg: 0.03663  time: 0.6967  data_time: 0.0230  lr: 0.001  max_mem: 2172M\n",
            "[02/17 16:15:29 d2.utils.events]:  eta: 1 day, 7:57:56  iter: 21719  total_loss: 0.04661  loss_cls: 0.001025  loss_box_reg: 0.04368  time: 0.6967  data_time: 0.0201  lr: 0.001  max_mem: 2172M\n",
            "[02/17 16:15:43 d2.utils.events]:  eta: 1 day, 7:57:27  iter: 21739  total_loss: 0.04161  loss_cls: 0.001335  loss_box_reg: 0.04027  time: 0.6966  data_time: 0.0163  lr: 0.001  max_mem: 2172M\n",
            "[02/17 16:15:57 d2.utils.events]:  eta: 1 day, 7:58:35  iter: 21759  total_loss: 0.04719  loss_cls: 0.001543  loss_box_reg: 0.04573  time: 0.6967  data_time: 0.0202  lr: 0.001  max_mem: 2172M\n",
            "[02/17 16:16:11 d2.utils.events]:  eta: 1 day, 7:59:10  iter: 21779  total_loss: 0.05683  loss_cls: 0.001149  loss_box_reg: 0.05441  time: 0.6967  data_time: 0.0260  lr: 0.001  max_mem: 2172M\n",
            "[02/17 16:16:25 d2.utils.events]:  eta: 1 day, 8:01:36  iter: 21799  total_loss: 0.054  loss_cls: 0.001496  loss_box_reg: 0.0509  time: 0.6967  data_time: 0.0230  lr: 0.001  max_mem: 2172M\n",
            "[02/17 16:16:39 d2.utils.events]:  eta: 1 day, 8:02:12  iter: 21819  total_loss: 0.06034  loss_cls: 0.001038  loss_box_reg: 0.05482  time: 0.6967  data_time: 0.0204  lr: 0.001  max_mem: 2172M\n",
            "[02/17 16:16:53 d2.utils.events]:  eta: 1 day, 8:02:31  iter: 21839  total_loss: 0.05395  loss_cls: 0.00163  loss_box_reg: 0.05161  time: 0.6967  data_time: 0.0230  lr: 0.001  max_mem: 2172M\n",
            "[02/17 16:17:07 d2.utils.events]:  eta: 1 day, 8:02:56  iter: 21859  total_loss: 0.05418  loss_cls: 0.001442  loss_box_reg: 0.05098  time: 0.6967  data_time: 0.0226  lr: 0.001  max_mem: 2172M\n",
            "[02/17 16:17:21 d2.utils.events]:  eta: 1 day, 8:02:42  iter: 21879  total_loss: 0.05162  loss_cls: 0.001182  loss_box_reg: 0.05012  time: 0.6967  data_time: 0.0172  lr: 0.001  max_mem: 2172M\n",
            "[02/17 16:17:35 d2.utils.events]:  eta: 1 day, 8:02:27  iter: 21899  total_loss: 0.05192  loss_cls: 0.001484  loss_box_reg: 0.0491  time: 0.6967  data_time: 0.0187  lr: 0.001  max_mem: 2172M\n",
            "[02/17 16:17:50 d2.utils.events]:  eta: 1 day, 8:02:46  iter: 21919  total_loss: 0.05151  loss_cls: 0.001304  loss_box_reg: 0.04928  time: 0.6967  data_time: 0.0232  lr: 0.001  max_mem: 2172M\n",
            "[02/17 16:18:04 d2.utils.events]:  eta: 1 day, 8:02:13  iter: 21939  total_loss: 0.04515  loss_cls: 0.001774  loss_box_reg: 0.04446  time: 0.6967  data_time: 0.0257  lr: 0.001  max_mem: 2172M\n",
            "[02/17 16:18:18 d2.utils.events]:  eta: 1 day, 8:01:25  iter: 21959  total_loss: 0.04978  loss_cls: 0.0008165  loss_box_reg: 0.04822  time: 0.6967  data_time: 0.0300  lr: 0.001  max_mem: 2172M\n",
            "[02/17 16:18:32 d2.utils.events]:  eta: 1 day, 8:00:49  iter: 21979  total_loss: 0.05013  loss_cls: 0.002053  loss_box_reg: 0.04788  time: 0.6967  data_time: 0.0209  lr: 0.001  max_mem: 2172M\n",
            "[02/17 16:18:45 d2.utils.events]:  eta: 1 day, 8:00:46  iter: 21999  total_loss: 0.05032  loss_cls: 0.0008404  loss_box_reg: 0.04883  time: 0.6967  data_time: 0.0168  lr: 0.001  max_mem: 2172M\n",
            "[02/17 16:18:59 d2.utils.events]:  eta: 1 day, 8:00:42  iter: 22019  total_loss: 0.05658  loss_cls: 0.001457  loss_box_reg: 0.05274  time: 0.6967  data_time: 0.0151  lr: 0.001  max_mem: 2172M\n",
            "[02/17 16:19:13 d2.utils.events]:  eta: 1 day, 8:00:17  iter: 22039  total_loss: 0.04604  loss_cls: 0.0009801  loss_box_reg: 0.04512  time: 0.6967  data_time: 0.0260  lr: 0.001  max_mem: 2172M\n",
            "[02/17 16:19:28 d2.utils.events]:  eta: 1 day, 8:00:17  iter: 22059  total_loss: 0.05185  loss_cls: 0.001256  loss_box_reg: 0.05062  time: 0.6967  data_time: 0.0228  lr: 0.001  max_mem: 2172M\n",
            "[02/17 16:19:42 d2.utils.events]:  eta: 1 day, 8:00:07  iter: 22079  total_loss: 0.04922  loss_cls: 0.001001  loss_box_reg: 0.04861  time: 0.6967  data_time: 0.0165  lr: 0.001  max_mem: 2172M\n",
            "[02/17 16:19:56 d2.utils.events]:  eta: 1 day, 7:59:43  iter: 22099  total_loss: 0.04666  loss_cls: 0.0009982  loss_box_reg: 0.04466  time: 0.6968  data_time: 0.0211  lr: 0.001  max_mem: 2172M\n",
            "[02/17 16:20:10 d2.utils.events]:  eta: 1 day, 8:00:02  iter: 22119  total_loss: 0.0441  loss_cls: 0.0009959  loss_box_reg: 0.04364  time: 0.6968  data_time: 0.0172  lr: 0.001  max_mem: 2172M\n",
            "[02/17 16:20:24 d2.utils.events]:  eta: 1 day, 8:00:53  iter: 22139  total_loss: 0.05034  loss_cls: 0.001048  loss_box_reg: 0.04872  time: 0.6968  data_time: 0.0211  lr: 0.001  max_mem: 2172M\n",
            "[02/17 16:20:38 d2.utils.events]:  eta: 1 day, 8:00:10  iter: 22159  total_loss: 0.04914  loss_cls: 0.001252  loss_box_reg: 0.04535  time: 0.6968  data_time: 0.0208  lr: 0.001  max_mem: 2172M\n",
            "[02/17 16:20:52 d2.utils.events]:  eta: 1 day, 8:00:24  iter: 22179  total_loss: 0.04917  loss_cls: 0.001116  loss_box_reg: 0.04829  time: 0.6968  data_time: 0.0217  lr: 0.001  max_mem: 2172M\n",
            "[02/17 16:21:06 d2.utils.events]:  eta: 1 day, 7:59:46  iter: 22199  total_loss: 0.04011  loss_cls: 0.001016  loss_box_reg: 0.03682  time: 0.6968  data_time: 0.0182  lr: 0.001  max_mem: 2172M\n",
            "[02/17 16:21:19 d2.utils.events]:  eta: 1 day, 7:59:26  iter: 22219  total_loss: 0.04514  loss_cls: 0.001591  loss_box_reg: 0.04419  time: 0.6968  data_time: 0.0246  lr: 0.001  max_mem: 2172M\n",
            "[02/17 16:21:33 d2.utils.events]:  eta: 1 day, 8:00:01  iter: 22239  total_loss: 0.05312  loss_cls: 0.001423  loss_box_reg: 0.04912  time: 0.6968  data_time: 0.0163  lr: 0.001  max_mem: 2172M\n",
            "[02/17 16:21:48 d2.utils.events]:  eta: 1 day, 8:00:05  iter: 22259  total_loss: 0.0503  loss_cls: 0.001558  loss_box_reg: 0.04876  time: 0.6968  data_time: 0.0233  lr: 0.001  max_mem: 2172M\n",
            "[02/17 16:22:02 d2.utils.events]:  eta: 1 day, 7:59:44  iter: 22279  total_loss: 0.05309  loss_cls: 0.001232  loss_box_reg: 0.0509  time: 0.6968  data_time: 0.0178  lr: 0.001  max_mem: 2172M\n",
            "[02/17 16:22:15 d2.utils.events]:  eta: 1 day, 7:58:41  iter: 22299  total_loss: 0.04831  loss_cls: 0.001643  loss_box_reg: 0.04653  time: 0.6968  data_time: 0.0212  lr: 0.001  max_mem: 2172M\n",
            "[02/17 16:22:30 d2.utils.events]:  eta: 1 day, 7:59:44  iter: 22319  total_loss: 0.04881  loss_cls: 0.001288  loss_box_reg: 0.04704  time: 0.6968  data_time: 0.0202  lr: 0.001  max_mem: 2172M\n",
            "[02/17 16:22:43 d2.utils.events]:  eta: 1 day, 7:59:00  iter: 22339  total_loss: 0.05756  loss_cls: 0.00106  loss_box_reg: 0.05201  time: 0.6968  data_time: 0.0232  lr: 0.001  max_mem: 2172M\n",
            "[02/17 16:22:58 d2.utils.events]:  eta: 1 day, 7:59:44  iter: 22359  total_loss: 0.04489  loss_cls: 0.0008356  loss_box_reg: 0.04406  time: 0.6968  data_time: 0.0147  lr: 0.001  max_mem: 2172M\n",
            "[02/17 16:23:12 d2.utils.events]:  eta: 1 day, 8:00:25  iter: 22379  total_loss: 0.05299  loss_cls: 0.001539  loss_box_reg: 0.04961  time: 0.6968  data_time: 0.0206  lr: 0.001  max_mem: 2172M\n",
            "[02/17 16:23:27 d2.utils.events]:  eta: 1 day, 8:02:23  iter: 22399  total_loss: 0.04699  loss_cls: 0.001868  loss_box_reg: 0.0439  time: 0.6968  data_time: 0.0282  lr: 0.001  max_mem: 2172M\n",
            "[02/17 16:23:41 d2.utils.events]:  eta: 1 day, 8:02:32  iter: 22419  total_loss: 0.04758  loss_cls: 0.0007898  loss_box_reg: 0.04715  time: 0.6969  data_time: 0.0207  lr: 0.001  max_mem: 2172M\n",
            "[02/17 16:23:55 d2.utils.events]:  eta: 1 day, 8:02:17  iter: 22439  total_loss: 0.05205  loss_cls: 0.001748  loss_box_reg: 0.04918  time: 0.6969  data_time: 0.0220  lr: 0.001  max_mem: 2172M\n",
            "[02/17 16:24:09 d2.utils.events]:  eta: 1 day, 8:01:46  iter: 22459  total_loss: 0.04668  loss_cls: 0.00178  loss_box_reg: 0.04501  time: 0.6968  data_time: 0.0224  lr: 0.001  max_mem: 2172M\n",
            "[02/17 16:24:23 d2.utils.events]:  eta: 1 day, 8:01:24  iter: 22479  total_loss: 0.03881  loss_cls: 0.0007244  loss_box_reg: 0.03777  time: 0.6969  data_time: 0.0173  lr: 0.001  max_mem: 2172M\n",
            "[02/17 16:24:38 d2.utils.events]:  eta: 1 day, 8:01:37  iter: 22499  total_loss: 0.04545  loss_cls: 0.0008804  loss_box_reg: 0.04473  time: 0.6969  data_time: 0.0205  lr: 0.001  max_mem: 2172M\n",
            "[02/17 16:24:52 d2.utils.events]:  eta: 1 day, 8:02:36  iter: 22519  total_loss: 0.04626  loss_cls: 0.001123  loss_box_reg: 0.04408  time: 0.6969  data_time: 0.0164  lr: 0.001  max_mem: 2172M\n",
            "[02/17 16:25:05 d2.utils.events]:  eta: 1 day, 8:02:21  iter: 22539  total_loss: 0.04677  loss_cls: 0.001255  loss_box_reg: 0.0441  time: 0.6969  data_time: 0.0156  lr: 0.001  max_mem: 2172M\n",
            "[02/17 16:25:19 d2.utils.events]:  eta: 1 day, 8:02:35  iter: 22559  total_loss: 0.05266  loss_cls: 0.002283  loss_box_reg: 0.0504  time: 0.6969  data_time: 0.0254  lr: 0.001  max_mem: 2172M\n",
            "[02/17 16:25:33 d2.utils.events]:  eta: 1 day, 8:01:56  iter: 22579  total_loss: 0.05442  loss_cls: 0.001522  loss_box_reg: 0.04989  time: 0.6969  data_time: 0.0236  lr: 0.001  max_mem: 2172M\n",
            "[02/17 16:25:47 d2.utils.events]:  eta: 1 day, 8:01:56  iter: 22599  total_loss: 0.05309  loss_cls: 0.001235  loss_box_reg: 0.05196  time: 0.6969  data_time: 0.0199  lr: 0.001  max_mem: 2172M\n",
            "[02/17 16:26:02 d2.utils.events]:  eta: 1 day, 8:03:26  iter: 22619  total_loss: 0.05358  loss_cls: 0.001057  loss_box_reg: 0.05002  time: 0.6969  data_time: 0.0255  lr: 0.001  max_mem: 2172M\n",
            "[02/17 16:26:16 d2.utils.events]:  eta: 1 day, 8:02:01  iter: 22639  total_loss: 0.0442  loss_cls: 0.001077  loss_box_reg: 0.04364  time: 0.6969  data_time: 0.0211  lr: 0.001  max_mem: 2172M\n",
            "[02/17 16:26:30 d2.utils.events]:  eta: 1 day, 8:02:08  iter: 22659  total_loss: 0.04584  loss_cls: 0.001891  loss_box_reg: 0.04307  time: 0.6969  data_time: 0.0195  lr: 0.001  max_mem: 2172M\n",
            "[02/17 16:26:44 d2.utils.events]:  eta: 1 day, 8:02:45  iter: 22679  total_loss: 0.05383  loss_cls: 0.00225  loss_box_reg: 0.05021  time: 0.6969  data_time: 0.0199  lr: 0.001  max_mem: 2172M\n",
            "[02/17 16:26:58 d2.utils.events]:  eta: 1 day, 8:02:27  iter: 22699  total_loss: 0.04684  loss_cls: 0.001512  loss_box_reg: 0.04467  time: 0.6969  data_time: 0.0229  lr: 0.001  max_mem: 2172M\n",
            "[02/17 16:27:12 d2.utils.events]:  eta: 1 day, 8:02:56  iter: 22719  total_loss: 0.04265  loss_cls: 0.001145  loss_box_reg: 0.0406  time: 0.6969  data_time: 0.0195  lr: 0.001  max_mem: 2172M\n",
            "[02/17 16:27:26 d2.utils.events]:  eta: 1 day, 8:02:31  iter: 22739  total_loss: 0.05353  loss_cls: 0.002168  loss_box_reg: 0.04946  time: 0.6969  data_time: 0.0207  lr: 0.001  max_mem: 2172M\n",
            "[02/17 16:27:40 d2.utils.events]:  eta: 1 day, 7:59:53  iter: 22759  total_loss: 0.04261  loss_cls: 0.0006781  loss_box_reg: 0.04088  time: 0.6969  data_time: 0.0206  lr: 0.001  max_mem: 2172M\n",
            "[02/17 16:27:54 d2.utils.events]:  eta: 1 day, 8:01:06  iter: 22779  total_loss: 0.05047  loss_cls: 0.00133  loss_box_reg: 0.04829  time: 0.6969  data_time: 0.0232  lr: 0.001  max_mem: 2172M\n",
            "[02/17 16:28:07 d2.utils.events]:  eta: 1 day, 7:59:20  iter: 22799  total_loss: 0.05099  loss_cls: 0.001207  loss_box_reg: 0.04771  time: 0.6969  data_time: 0.0201  lr: 0.001  max_mem: 2172M\n",
            "[02/17 16:28:22 d2.utils.events]:  eta: 1 day, 7:59:18  iter: 22819  total_loss: 0.05257  loss_cls: 0.001919  loss_box_reg: 0.04937  time: 0.6969  data_time: 0.0225  lr: 0.001  max_mem: 2172M\n",
            "[02/17 16:28:36 d2.utils.events]:  eta: 1 day, 7:59:04  iter: 22839  total_loss: 0.05107  loss_cls: 0.001513  loss_box_reg: 0.04937  time: 0.6969  data_time: 0.0231  lr: 0.001  max_mem: 2172M\n",
            "[02/17 16:28:50 d2.utils.events]:  eta: 1 day, 7:58:27  iter: 22859  total_loss: 0.04556  loss_cls: 0.0008218  loss_box_reg: 0.04464  time: 0.6969  data_time: 0.0245  lr: 0.001  max_mem: 2172M\n",
            "[02/17 16:29:04 d2.utils.events]:  eta: 1 day, 7:58:13  iter: 22879  total_loss: 0.04549  loss_cls: 0.0006779  loss_box_reg: 0.04446  time: 0.6969  data_time: 0.0273  lr: 0.001  max_mem: 2172M\n",
            "[02/17 16:29:18 d2.utils.events]:  eta: 1 day, 7:57:54  iter: 22899  total_loss: 0.04644  loss_cls: 0.001178  loss_box_reg: 0.04472  time: 0.6970  data_time: 0.0261  lr: 0.001  max_mem: 2172M\n",
            "[02/17 16:29:33 d2.utils.events]:  eta: 1 day, 7:57:41  iter: 22919  total_loss: 0.04782  loss_cls: 0.001571  loss_box_reg: 0.0436  time: 0.6970  data_time: 0.0210  lr: 0.001  max_mem: 2172M\n",
            "[02/17 16:29:47 d2.utils.events]:  eta: 1 day, 7:57:41  iter: 22939  total_loss: 0.0454  loss_cls: 0.001494  loss_box_reg: 0.04404  time: 0.6970  data_time: 0.0208  lr: 0.001  max_mem: 2172M\n",
            "[02/17 16:30:01 d2.utils.events]:  eta: 1 day, 7:57:33  iter: 22959  total_loss: 0.05048  loss_cls: 0.001476  loss_box_reg: 0.04748  time: 0.6970  data_time: 0.0210  lr: 0.001  max_mem: 2172M\n",
            "[02/17 16:30:15 d2.utils.events]:  eta: 1 day, 7:57:19  iter: 22979  total_loss: 0.05393  loss_cls: 0.0008868  loss_box_reg: 0.0517  time: 0.6970  data_time: 0.0255  lr: 0.001  max_mem: 2172M\n",
            "[02/17 16:30:30 d2.utils.events]:  eta: 1 day, 7:59:21  iter: 22999  total_loss: 0.04257  loss_cls: 0.0009778  loss_box_reg: 0.04185  time: 0.6970  data_time: 0.0284  lr: 0.001  max_mem: 2172M\n",
            "[02/17 16:30:44 d2.utils.events]:  eta: 1 day, 7:58:50  iter: 23019  total_loss: 0.04018  loss_cls: 0.0009969  loss_box_reg: 0.03832  time: 0.6970  data_time: 0.0220  lr: 0.001  max_mem: 2172M\n",
            "[02/17 16:30:58 d2.utils.events]:  eta: 1 day, 7:58:20  iter: 23039  total_loss: 0.05017  loss_cls: 0.001069  loss_box_reg: 0.0478  time: 0.6970  data_time: 0.0236  lr: 0.001  max_mem: 2172M\n",
            "[02/17 16:31:12 d2.utils.events]:  eta: 1 day, 7:57:55  iter: 23059  total_loss: 0.04947  loss_cls: 0.001498  loss_box_reg: 0.04435  time: 0.6970  data_time: 0.0204  lr: 0.001  max_mem: 2172M\n",
            "[02/17 16:31:26 d2.utils.events]:  eta: 1 day, 7:57:51  iter: 23079  total_loss: 0.04285  loss_cls: 0.000698  loss_box_reg: 0.04204  time: 0.6970  data_time: 0.0257  lr: 0.001  max_mem: 2172M\n",
            "[02/17 16:31:40 d2.utils.events]:  eta: 1 day, 7:57:26  iter: 23099  total_loss: 0.0488  loss_cls: 0.0009633  loss_box_reg: 0.04666  time: 0.6970  data_time: 0.0205  lr: 0.001  max_mem: 2172M\n",
            "[02/17 16:31:54 d2.utils.events]:  eta: 1 day, 7:56:58  iter: 23119  total_loss: 0.04241  loss_cls: 0.000805  loss_box_reg: 0.039  time: 0.6970  data_time: 0.0275  lr: 0.001  max_mem: 2172M\n",
            "[02/17 16:32:08 d2.utils.events]:  eta: 1 day, 7:55:39  iter: 23139  total_loss: 0.05014  loss_cls: 0.001155  loss_box_reg: 0.04958  time: 0.6971  data_time: 0.0220  lr: 0.001  max_mem: 2172M\n",
            "[02/17 16:32:22 d2.utils.events]:  eta: 1 day, 7:55:37  iter: 23159  total_loss: 0.05112  loss_cls: 0.001233  loss_box_reg: 0.04786  time: 0.6971  data_time: 0.0194  lr: 0.001  max_mem: 2172M\n",
            "[02/17 16:32:36 d2.utils.events]:  eta: 1 day, 7:55:45  iter: 23179  total_loss: 0.05259  loss_cls: 0.001102  loss_box_reg: 0.04855  time: 0.6971  data_time: 0.0137  lr: 0.001  max_mem: 2172M\n",
            "[02/17 16:32:50 d2.utils.events]:  eta: 1 day, 7:55:59  iter: 23199  total_loss: 0.04859  loss_cls: 0.001087  loss_box_reg: 0.04702  time: 0.6971  data_time: 0.0206  lr: 0.001  max_mem: 2172M\n",
            "[02/17 16:33:04 d2.utils.events]:  eta: 1 day, 7:56:46  iter: 23219  total_loss: 0.04597  loss_cls: 0.001002  loss_box_reg: 0.04248  time: 0.6971  data_time: 0.0214  lr: 0.001  max_mem: 2172M\n",
            "[02/17 16:33:18 d2.utils.events]:  eta: 1 day, 7:56:36  iter: 23239  total_loss: 0.04219  loss_cls: 0.0009008  loss_box_reg: 0.04045  time: 0.6971  data_time: 0.0220  lr: 0.001  max_mem: 2172M\n",
            "[02/17 16:33:32 d2.utils.events]:  eta: 1 day, 7:56:25  iter: 23259  total_loss: 0.05323  loss_cls: 0.001061  loss_box_reg: 0.05101  time: 0.6971  data_time: 0.0228  lr: 0.001  max_mem: 2172M\n",
            "[02/17 16:33:47 d2.utils.events]:  eta: 1 day, 7:56:20  iter: 23279  total_loss: 0.04759  loss_cls: 0.001053  loss_box_reg: 0.04384  time: 0.6971  data_time: 0.0273  lr: 0.001  max_mem: 2172M\n",
            "[02/17 16:34:00 d2.utils.events]:  eta: 1 day, 7:56:35  iter: 23299  total_loss: 0.05423  loss_cls: 0.0009307  loss_box_reg: 0.05214  time: 0.6971  data_time: 0.0285  lr: 0.001  max_mem: 2172M\n",
            "[02/17 16:34:14 d2.utils.events]:  eta: 1 day, 7:55:42  iter: 23319  total_loss: 0.05273  loss_cls: 0.001182  loss_box_reg: 0.04996  time: 0.6971  data_time: 0.0258  lr: 0.001  max_mem: 2172M\n",
            "[02/17 16:34:29 d2.utils.events]:  eta: 1 day, 7:55:31  iter: 23339  total_loss: 0.0562  loss_cls: 0.001013  loss_box_reg: 0.05133  time: 0.6971  data_time: 0.0220  lr: 0.001  max_mem: 2172M\n",
            "[02/17 16:34:43 d2.utils.events]:  eta: 1 day, 7:55:13  iter: 23359  total_loss: 0.04964  loss_cls: 0.001467  loss_box_reg: 0.04831  time: 0.6971  data_time: 0.0215  lr: 0.001  max_mem: 2172M\n",
            "[02/17 16:34:57 d2.utils.events]:  eta: 1 day, 7:53:48  iter: 23379  total_loss: 0.04746  loss_cls: 0.001068  loss_box_reg: 0.0447  time: 0.6971  data_time: 0.0186  lr: 0.001  max_mem: 2172M\n",
            "[02/17 16:35:11 d2.utils.events]:  eta: 1 day, 7:52:12  iter: 23399  total_loss: 0.0444  loss_cls: 0.0009417  loss_box_reg: 0.04345  time: 0.6971  data_time: 0.0238  lr: 0.001  max_mem: 2172M\n",
            "[02/17 16:35:25 d2.utils.events]:  eta: 1 day, 7:52:40  iter: 23419  total_loss: 0.05276  loss_cls: 0.001559  loss_box_reg: 0.05132  time: 0.6971  data_time: 0.0229  lr: 0.001  max_mem: 2172M\n",
            "[02/17 16:35:39 d2.utils.events]:  eta: 1 day, 7:52:12  iter: 23439  total_loss: 0.05258  loss_cls: 0.001919  loss_box_reg: 0.04754  time: 0.6971  data_time: 0.0234  lr: 0.001  max_mem: 2172M\n",
            "[02/17 16:35:54 d2.utils.events]:  eta: 1 day, 7:52:32  iter: 23459  total_loss: 0.05049  loss_cls: 0.001685  loss_box_reg: 0.04794  time: 0.6972  data_time: 0.0237  lr: 0.001  max_mem: 2172M\n",
            "[02/17 16:36:08 d2.utils.events]:  eta: 1 day, 7:51:49  iter: 23479  total_loss: 0.0518  loss_cls: 0.00216  loss_box_reg: 0.05068  time: 0.6972  data_time: 0.0209  lr: 0.001  max_mem: 2172M\n",
            "[02/17 16:36:22 d2.utils.events]:  eta: 1 day, 7:51:06  iter: 23499  total_loss: 0.05024  loss_cls: 0.001197  loss_box_reg: 0.04896  time: 0.6972  data_time: 0.0192  lr: 0.001  max_mem: 2172M\n",
            "[02/17 16:36:36 d2.utils.events]:  eta: 1 day, 7:50:36  iter: 23519  total_loss: 0.05352  loss_cls: 0.0009381  loss_box_reg: 0.05064  time: 0.6972  data_time: 0.0209  lr: 0.001  max_mem: 2172M\n",
            "[02/17 16:36:50 d2.utils.events]:  eta: 1 day, 7:50:21  iter: 23539  total_loss: 0.04512  loss_cls: 0.002156  loss_box_reg: 0.03991  time: 0.6972  data_time: 0.0247  lr: 0.001  max_mem: 2172M\n",
            "[02/17 16:37:04 d2.utils.events]:  eta: 1 day, 7:49:58  iter: 23559  total_loss: 0.05713  loss_cls: 0.003149  loss_box_reg: 0.05489  time: 0.6972  data_time: 0.0197  lr: 0.001  max_mem: 2172M\n",
            "[02/17 16:37:18 d2.utils.events]:  eta: 1 day, 7:50:44  iter: 23579  total_loss: 0.05163  loss_cls: 0.001882  loss_box_reg: 0.05029  time: 0.6972  data_time: 0.0187  lr: 0.001  max_mem: 2172M\n",
            "[02/17 16:37:32 d2.utils.events]:  eta: 1 day, 7:51:07  iter: 23599  total_loss: 0.05548  loss_cls: 0.00241  loss_box_reg: 0.05284  time: 0.6972  data_time: 0.0190  lr: 0.001  max_mem: 2172M\n",
            "[02/17 16:37:47 d2.utils.events]:  eta: 1 day, 7:50:52  iter: 23619  total_loss: 0.05287  loss_cls: 0.001014  loss_box_reg: 0.04931  time: 0.6972  data_time: 0.0233  lr: 0.001  max_mem: 2172M\n",
            "[02/17 16:38:01 d2.utils.events]:  eta: 1 day, 7:50:52  iter: 23639  total_loss: 0.0563  loss_cls: 0.001259  loss_box_reg: 0.05309  time: 0.6972  data_time: 0.0222  lr: 0.001  max_mem: 2172M\n",
            "[02/17 16:38:15 d2.utils.events]:  eta: 1 day, 7:50:28  iter: 23659  total_loss: 0.05692  loss_cls: 0.002486  loss_box_reg: 0.05423  time: 0.6972  data_time: 0.0241  lr: 0.001  max_mem: 2172M\n",
            "[02/17 16:38:29 d2.utils.events]:  eta: 1 day, 7:50:08  iter: 23679  total_loss: 0.04649  loss_cls: 0.001277  loss_box_reg: 0.04575  time: 0.6972  data_time: 0.0224  lr: 0.001  max_mem: 2172M\n",
            "[02/17 16:38:43 d2.utils.events]:  eta: 1 day, 7:49:58  iter: 23699  total_loss: 0.04111  loss_cls: 0.0007345  loss_box_reg: 0.03909  time: 0.6972  data_time: 0.0180  lr: 0.001  max_mem: 2172M\n",
            "[02/17 16:38:57 d2.utils.events]:  eta: 1 day, 7:49:09  iter: 23719  total_loss: 0.04539  loss_cls: 0.0008566  loss_box_reg: 0.04418  time: 0.6972  data_time: 0.0192  lr: 0.001  max_mem: 2172M\n",
            "[02/17 16:39:11 d2.utils.events]:  eta: 1 day, 7:48:46  iter: 23739  total_loss: 0.03967  loss_cls: 0.001091  loss_box_reg: 0.03801  time: 0.6972  data_time: 0.0235  lr: 0.001  max_mem: 2172M\n",
            "[02/17 16:39:25 d2.utils.events]:  eta: 1 day, 7:50:15  iter: 23759  total_loss: 0.04036  loss_cls: 0.001339  loss_box_reg: 0.03784  time: 0.6973  data_time: 0.0238  lr: 0.001  max_mem: 2172M\n",
            "[02/17 16:39:40 d2.utils.events]:  eta: 1 day, 7:50:00  iter: 23779  total_loss: 0.04545  loss_cls: 0.0009333  loss_box_reg: 0.04088  time: 0.6973  data_time: 0.0275  lr: 0.001  max_mem: 2172M\n",
            "[02/17 16:39:54 d2.utils.events]:  eta: 1 day, 7:51:52  iter: 23799  total_loss: 0.05171  loss_cls: 0.001665  loss_box_reg: 0.05052  time: 0.6973  data_time: 0.0185  lr: 0.001  max_mem: 2172M\n",
            "[02/17 16:40:08 d2.utils.events]:  eta: 1 day, 7:50:26  iter: 23819  total_loss: 0.05409  loss_cls: 0.001926  loss_box_reg: 0.04948  time: 0.6973  data_time: 0.0207  lr: 0.001  max_mem: 2172M\n",
            "[02/17 16:40:22 d2.utils.events]:  eta: 1 day, 7:49:36  iter: 23839  total_loss: 0.04956  loss_cls: 0.00111  loss_box_reg: 0.0473  time: 0.6973  data_time: 0.0204  lr: 0.001  max_mem: 2172M\n",
            "[02/17 16:40:36 d2.utils.events]:  eta: 1 day, 7:49:19  iter: 23859  total_loss: 0.04542  loss_cls: 0.0009525  loss_box_reg: 0.04062  time: 0.6973  data_time: 0.0262  lr: 0.001  max_mem: 2172M\n",
            "[02/17 16:40:51 d2.utils.events]:  eta: 1 day, 7:49:42  iter: 23879  total_loss: 0.05225  loss_cls: 0.001548  loss_box_reg: 0.05077  time: 0.6973  data_time: 0.0244  lr: 0.001  max_mem: 2172M\n",
            "[02/17 16:41:04 d2.utils.events]:  eta: 1 day, 7:48:49  iter: 23899  total_loss: 0.0595  loss_cls: 0.0008473  loss_box_reg: 0.05807  time: 0.6973  data_time: 0.0262  lr: 0.001  max_mem: 2172M\n",
            "[02/17 16:41:18 d2.utils.events]:  eta: 1 day, 7:47:56  iter: 23919  total_loss: 0.04862  loss_cls: 0.001507  loss_box_reg: 0.04738  time: 0.6973  data_time: 0.0297  lr: 0.001  max_mem: 2172M\n",
            "[02/17 16:41:33 d2.utils.events]:  eta: 1 day, 7:47:41  iter: 23939  total_loss: 0.04744  loss_cls: 0.0007991  loss_box_reg: 0.04689  time: 0.6973  data_time: 0.0239  lr: 0.001  max_mem: 2172M\n",
            "[02/17 16:41:47 d2.utils.events]:  eta: 1 day, 7:47:26  iter: 23959  total_loss: 0.04864  loss_cls: 0.001506  loss_box_reg: 0.04815  time: 0.6973  data_time: 0.0187  lr: 0.001  max_mem: 2172M\n",
            "[02/17 16:42:01 d2.utils.events]:  eta: 1 day, 7:47:56  iter: 23979  total_loss: 0.04623  loss_cls: 0.002071  loss_box_reg: 0.04549  time: 0.6974  data_time: 0.0166  lr: 0.001  max_mem: 2172M\n",
            "[02/17 16:42:15 d2.utils.events]:  eta: 1 day, 7:46:28  iter: 23999  total_loss: 0.04841  loss_cls: 0.00087  loss_box_reg: 0.04684  time: 0.6974  data_time: 0.0211  lr: 0.001  max_mem: 2172M\n",
            "[02/17 16:42:29 d2.utils.events]:  eta: 1 day, 7:45:59  iter: 24019  total_loss: 0.0624  loss_cls: 0.003606  loss_box_reg: 0.05582  time: 0.6974  data_time: 0.0250  lr: 0.001  max_mem: 2172M\n",
            "[02/17 16:42:43 d2.utils.events]:  eta: 1 day, 7:45:15  iter: 24039  total_loss: 0.0432  loss_cls: 0.000938  loss_box_reg: 0.03969  time: 0.6973  data_time: 0.0246  lr: 0.001  max_mem: 2172M\n",
            "[02/17 16:42:56 d2.utils.events]:  eta: 1 day, 7:44:24  iter: 24059  total_loss: 0.06007  loss_cls: 0.001927  loss_box_reg: 0.05711  time: 0.6973  data_time: 0.0152  lr: 0.001  max_mem: 2172M\n",
            "[02/17 16:43:10 d2.utils.events]:  eta: 1 day, 7:43:28  iter: 24079  total_loss: 0.0485  loss_cls: 0.001456  loss_box_reg: 0.04765  time: 0.6973  data_time: 0.0187  lr: 0.001  max_mem: 2172M\n",
            "[02/17 16:43:24 d2.utils.events]:  eta: 1 day, 7:42:59  iter: 24099  total_loss: 0.05572  loss_cls: 0.001698  loss_box_reg: 0.05345  time: 0.6973  data_time: 0.0243  lr: 0.001  max_mem: 2172M\n",
            "[02/17 16:43:38 d2.utils.events]:  eta: 1 day, 7:42:44  iter: 24119  total_loss: 0.0505  loss_cls: 0.001338  loss_box_reg: 0.04781  time: 0.6973  data_time: 0.0245  lr: 0.001  max_mem: 2172M\n",
            "[02/17 16:43:52 d2.utils.events]:  eta: 1 day, 7:42:15  iter: 24139  total_loss: 0.0432  loss_cls: 0.000987  loss_box_reg: 0.0411  time: 0.6973  data_time: 0.0273  lr: 0.001  max_mem: 2172M\n",
            "[02/17 16:44:06 d2.utils.events]:  eta: 1 day, 7:41:21  iter: 24159  total_loss: 0.04435  loss_cls: 0.0009851  loss_box_reg: 0.04276  time: 0.6973  data_time: 0.0297  lr: 0.001  max_mem: 2172M\n",
            "[02/17 16:44:20 d2.utils.events]:  eta: 1 day, 7:40:51  iter: 24179  total_loss: 0.05994  loss_cls: 0.00132  loss_box_reg: 0.0564  time: 0.6973  data_time: 0.0232  lr: 0.001  max_mem: 2172M\n",
            "[02/17 16:44:34 d2.utils.events]:  eta: 1 day, 7:40:41  iter: 24199  total_loss: 0.04643  loss_cls: 0.001618  loss_box_reg: 0.04455  time: 0.6973  data_time: 0.0252  lr: 0.001  max_mem: 2172M\n",
            "[02/17 16:44:48 d2.utils.events]:  eta: 1 day, 7:38:23  iter: 24219  total_loss: 0.05031  loss_cls: 0.001977  loss_box_reg: 0.04879  time: 0.6973  data_time: 0.0267  lr: 0.001  max_mem: 2172M\n",
            "[02/17 16:45:02 d2.utils.events]:  eta: 1 day, 7:38:38  iter: 24239  total_loss: 0.05201  loss_cls: 0.001293  loss_box_reg: 0.04889  time: 0.6973  data_time: 0.0213  lr: 0.001  max_mem: 2172M\n",
            "[02/17 16:45:16 d2.utils.events]:  eta: 1 day, 7:37:08  iter: 24259  total_loss: 0.05092  loss_cls: 0.00168  loss_box_reg: 0.04511  time: 0.6973  data_time: 0.0284  lr: 0.001  max_mem: 2172M\n",
            "[02/17 16:45:30 d2.utils.events]:  eta: 1 day, 7:36:19  iter: 24279  total_loss: 0.0419  loss_cls: 0.001486  loss_box_reg: 0.03989  time: 0.6973  data_time: 0.0218  lr: 0.001  max_mem: 2172M\n",
            "[02/17 16:45:44 d2.utils.events]:  eta: 1 day, 7:36:39  iter: 24299  total_loss: 0.04277  loss_cls: 0.0007839  loss_box_reg: 0.03757  time: 0.6973  data_time: 0.0232  lr: 0.001  max_mem: 2172M\n",
            "[02/17 16:45:59 d2.utils.events]:  eta: 1 day, 7:37:40  iter: 24319  total_loss: 0.05629  loss_cls: 0.001627  loss_box_reg: 0.05472  time: 0.6974  data_time: 0.0214  lr: 0.001  max_mem: 2172M\n",
            "[02/17 16:46:13 d2.utils.events]:  eta: 1 day, 7:36:36  iter: 24339  total_loss: 0.04477  loss_cls: 0.0007871  loss_box_reg: 0.0439  time: 0.6974  data_time: 0.0271  lr: 0.001  max_mem: 2172M\n",
            "[02/17 16:46:27 d2.utils.events]:  eta: 1 day, 7:37:10  iter: 24359  total_loss: 0.04439  loss_cls: 0.0008171  loss_box_reg: 0.04366  time: 0.6974  data_time: 0.0255  lr: 0.001  max_mem: 2172M\n",
            "[02/17 16:46:41 d2.utils.events]:  eta: 1 day, 7:36:56  iter: 24379  total_loss: 0.04901  loss_cls: 0.00195  loss_box_reg: 0.04566  time: 0.6974  data_time: 0.0217  lr: 0.001  max_mem: 2172M\n",
            "[02/17 16:46:55 d2.utils.events]:  eta: 1 day, 7:38:15  iter: 24399  total_loss: 0.0502  loss_cls: 0.00191  loss_box_reg: 0.04766  time: 0.6974  data_time: 0.0240  lr: 0.001  max_mem: 2172M\n",
            "[02/17 16:47:09 d2.utils.events]:  eta: 1 day, 7:35:59  iter: 24419  total_loss: 0.04149  loss_cls: 0.0009699  loss_box_reg: 0.04109  time: 0.6974  data_time: 0.0205  lr: 0.001  max_mem: 2172M\n",
            "[02/17 16:47:23 d2.utils.events]:  eta: 1 day, 7:37:01  iter: 24439  total_loss: 0.05061  loss_cls: 0.001256  loss_box_reg: 0.04739  time: 0.6974  data_time: 0.0205  lr: 0.001  max_mem: 2172M\n",
            "[02/17 16:47:38 d2.utils.events]:  eta: 1 day, 7:36:28  iter: 24459  total_loss: 0.04409  loss_cls: 0.0008348  loss_box_reg: 0.04306  time: 0.6974  data_time: 0.0261  lr: 0.001  max_mem: 2172M\n",
            "[02/17 16:47:52 d2.utils.events]:  eta: 1 day, 7:37:09  iter: 24479  total_loss: 0.04937  loss_cls: 0.001391  loss_box_reg: 0.04699  time: 0.6974  data_time: 0.0224  lr: 0.001  max_mem: 2172M\n",
            "[02/17 16:48:06 d2.utils.events]:  eta: 1 day, 7:36:54  iter: 24499  total_loss: 0.05792  loss_cls: 0.001133  loss_box_reg: 0.05706  time: 0.6974  data_time: 0.0221  lr: 0.001  max_mem: 2172M\n",
            "[02/17 16:48:20 d2.utils.events]:  eta: 1 day, 7:35:18  iter: 24519  total_loss: 0.04548  loss_cls: 0.0009014  loss_box_reg: 0.0443  time: 0.6974  data_time: 0.0239  lr: 0.001  max_mem: 2172M\n",
            "[02/17 16:48:34 d2.utils.events]:  eta: 1 day, 7:35:48  iter: 24539  total_loss: 0.05203  loss_cls: 0.002107  loss_box_reg: 0.04964  time: 0.6974  data_time: 0.0245  lr: 0.001  max_mem: 2172M\n",
            "[02/17 16:48:47 d2.utils.events]:  eta: 1 day, 7:34:24  iter: 24559  total_loss: 0.04969  loss_cls: 0.00216  loss_box_reg: 0.04716  time: 0.6974  data_time: 0.0237  lr: 0.001  max_mem: 2172M\n",
            "[02/17 16:49:01 d2.utils.events]:  eta: 1 day, 7:33:38  iter: 24579  total_loss: 0.05606  loss_cls: 0.001569  loss_box_reg: 0.05355  time: 0.6974  data_time: 0.0208  lr: 0.001  max_mem: 2172M\n",
            "[02/17 16:49:15 d2.utils.events]:  eta: 1 day, 7:31:57  iter: 24599  total_loss: 0.04523  loss_cls: 0.001009  loss_box_reg: 0.04478  time: 0.6974  data_time: 0.0196  lr: 0.001  max_mem: 2172M\n",
            "[02/17 16:49:29 d2.utils.events]:  eta: 1 day, 7:30:54  iter: 24619  total_loss: 0.0476  loss_cls: 0.001472  loss_box_reg: 0.04561  time: 0.6974  data_time: 0.0225  lr: 0.001  max_mem: 2172M\n",
            "[02/17 16:49:43 d2.utils.events]:  eta: 1 day, 7:29:08  iter: 24639  total_loss: 0.0472  loss_cls: 0.001239  loss_box_reg: 0.04545  time: 0.6974  data_time: 0.0229  lr: 0.001  max_mem: 2172M\n",
            "[02/17 16:49:57 d2.utils.events]:  eta: 1 day, 7:29:09  iter: 24659  total_loss: 0.04392  loss_cls: 0.001315  loss_box_reg: 0.04196  time: 0.6974  data_time: 0.0254  lr: 0.001  max_mem: 2172M\n",
            "[02/17 16:50:11 d2.utils.events]:  eta: 1 day, 7:29:41  iter: 24679  total_loss: 0.04713  loss_cls: 0.001989  loss_box_reg: 0.04295  time: 0.6974  data_time: 0.0220  lr: 0.001  max_mem: 2172M\n",
            "[02/17 16:50:25 d2.utils.events]:  eta: 1 day, 7:29:00  iter: 24699  total_loss: 0.04928  loss_cls: 0.001109  loss_box_reg: 0.04685  time: 0.6974  data_time: 0.0307  lr: 0.001  max_mem: 2172M\n",
            "[02/17 16:50:40 d2.utils.events]:  eta: 1 day, 7:30:09  iter: 24719  total_loss: 0.04838  loss_cls: 0.001129  loss_box_reg: 0.04745  time: 0.6974  data_time: 0.0212  lr: 0.001  max_mem: 2172M\n",
            "[02/17 16:50:53 d2.utils.events]:  eta: 1 day, 7:29:54  iter: 24739  total_loss: 0.05141  loss_cls: 0.001637  loss_box_reg: 0.05003  time: 0.6974  data_time: 0.0163  lr: 0.001  max_mem: 2172M\n",
            "[02/17 16:51:07 d2.utils.events]:  eta: 1 day, 7:26:50  iter: 24759  total_loss: 0.05168  loss_cls: 0.001042  loss_box_reg: 0.04831  time: 0.6974  data_time: 0.0192  lr: 0.001  max_mem: 2172M\n",
            "[02/17 16:51:21 d2.utils.events]:  eta: 1 day, 7:24:03  iter: 24779  total_loss: 0.04957  loss_cls: 0.001521  loss_box_reg: 0.048  time: 0.6974  data_time: 0.0189  lr: 0.001  max_mem: 2172M\n",
            "[02/17 16:51:35 d2.utils.events]:  eta: 1 day, 7:13:40  iter: 24799  total_loss: 0.05731  loss_cls: 0.00208  loss_box_reg: 0.05483  time: 0.6974  data_time: 0.0244  lr: 0.001  max_mem: 2172M\n",
            "[02/17 16:51:49 d2.utils.events]:  eta: 1 day, 7:20:49  iter: 24819  total_loss: 0.05057  loss_cls: 0.001629  loss_box_reg: 0.04762  time: 0.6974  data_time: 0.0239  lr: 0.001  max_mem: 2172M\n",
            "[02/17 16:52:03 d2.utils.events]:  eta: 1 day, 6:58:27  iter: 24839  total_loss: 0.04601  loss_cls: 0.0009144  loss_box_reg: 0.04446  time: 0.6974  data_time: 0.0192  lr: 0.001  max_mem: 2172M\n",
            "[02/17 16:52:16 d2.utils.events]:  eta: 1 day, 6:58:13  iter: 24859  total_loss: 0.04321  loss_cls: 0.0008045  loss_box_reg: 0.04267  time: 0.6974  data_time: 0.0227  lr: 0.001  max_mem: 2172M\n",
            "[02/17 16:52:31 d2.utils.events]:  eta: 1 day, 6:50:38  iter: 24879  total_loss: 0.04119  loss_cls: 0.00114  loss_box_reg: 0.04023  time: 0.6974  data_time: 0.0231  lr: 0.001  max_mem: 2172M\n",
            "[02/17 16:52:45 d2.utils.events]:  eta: 1 day, 7:17:40  iter: 24899  total_loss: 0.05015  loss_cls: 0.001414  loss_box_reg: 0.04668  time: 0.6974  data_time: 0.0248  lr: 0.001  max_mem: 2172M\n",
            "[02/17 16:52:59 d2.utils.events]:  eta: 1 day, 7:19:36  iter: 24919  total_loss: 0.05478  loss_cls: 0.001415  loss_box_reg: 0.05262  time: 0.6974  data_time: 0.0210  lr: 0.001  max_mem: 2172M\n",
            "[02/17 16:53:13 d2.utils.events]:  eta: 1 day, 7:15:02  iter: 24939  total_loss: 0.04498  loss_cls: 0.001862  loss_box_reg: 0.04221  time: 0.6974  data_time: 0.0219  lr: 0.001  max_mem: 2172M\n",
            "[02/17 16:53:27 d2.utils.events]:  eta: 1 day, 6:57:01  iter: 24959  total_loss: 0.04897  loss_cls: 0.0006365  loss_box_reg: 0.04699  time: 0.6974  data_time: 0.0212  lr: 0.001  max_mem: 2172M\n",
            "[02/17 16:53:41 d2.utils.events]:  eta: 1 day, 6:38:45  iter: 24979  total_loss: 0.05076  loss_cls: 0.001652  loss_box_reg: 0.05037  time: 0.6974  data_time: 0.0203  lr: 0.001  max_mem: 2172M\n",
            "[02/17 16:53:55 d2.utils.events]:  eta: 1 day, 6:38:31  iter: 24999  total_loss: 0.05549  loss_cls: 0.00186  loss_box_reg: 0.05386  time: 0.6974  data_time: 0.0169  lr: 0.001  max_mem: 2172M\n",
            "[02/17 16:54:09 d2.utils.events]:  eta: 1 day, 7:14:04  iter: 25019  total_loss: 0.044  loss_cls: 0.0008664  loss_box_reg: 0.04319  time: 0.6974  data_time: 0.0268  lr: 0.001  max_mem: 2172M\n",
            "[02/17 16:54:23 d2.utils.events]:  eta: 1 day, 7:19:55  iter: 25039  total_loss: 0.05564  loss_cls: 0.001511  loss_box_reg: 0.05316  time: 0.6974  data_time: 0.0247  lr: 0.001  max_mem: 2172M\n",
            "[02/17 16:54:37 d2.utils.events]:  eta: 1 day, 7:20:03  iter: 25059  total_loss: 0.04414  loss_cls: 0.0007281  loss_box_reg: 0.04334  time: 0.6974  data_time: 0.0201  lr: 0.001  max_mem: 2172M\n",
            "[02/17 16:54:51 d2.utils.events]:  eta: 1 day, 7:20:32  iter: 25079  total_loss: 0.04714  loss_cls: 0.001027  loss_box_reg: 0.04449  time: 0.6974  data_time: 0.0182  lr: 0.001  max_mem: 2172M\n",
            "[02/17 16:55:05 d2.utils.events]:  eta: 1 day, 7:21:12  iter: 25099  total_loss: 0.05493  loss_cls: 0.00246  loss_box_reg: 0.05213  time: 0.6974  data_time: 0.0258  lr: 0.001  max_mem: 2172M\n",
            "[02/17 16:55:19 d2.utils.events]:  eta: 1 day, 7:21:25  iter: 25119  total_loss: 0.04622  loss_cls: 0.0007655  loss_box_reg: 0.04466  time: 0.6975  data_time: 0.0245  lr: 0.001  max_mem: 2172M\n",
            "[02/17 16:55:33 d2.utils.events]:  eta: 1 day, 7:19:49  iter: 25139  total_loss: 0.04307  loss_cls: 0.0008541  loss_box_reg: 0.04087  time: 0.6975  data_time: 0.0194  lr: 0.001  max_mem: 2172M\n",
            "[02/17 16:55:47 d2.utils.events]:  eta: 1 day, 7:18:28  iter: 25159  total_loss: 0.04303  loss_cls: 0.0006944  loss_box_reg: 0.04034  time: 0.6974  data_time: 0.0251  lr: 0.001  max_mem: 2172M\n",
            "[02/17 16:56:00 d2.utils.events]:  eta: 1 day, 7:12:38  iter: 25179  total_loss: 0.05592  loss_cls: 0.001446  loss_box_reg: 0.05376  time: 0.6974  data_time: 0.0316  lr: 0.001  max_mem: 2172M\n",
            "[02/17 16:56:14 d2.utils.events]:  eta: 1 day, 6:48:37  iter: 25199  total_loss: 0.0526  loss_cls: 0.001572  loss_box_reg: 0.04929  time: 0.6974  data_time: 0.0223  lr: 0.001  max_mem: 2172M\n",
            "[02/17 16:56:28 d2.utils.events]:  eta: 1 day, 7:12:09  iter: 25219  total_loss: 0.05421  loss_cls: 0.001701  loss_box_reg: 0.04757  time: 0.6974  data_time: 0.0216  lr: 0.001  max_mem: 2172M\n",
            "[02/17 16:56:42 d2.utils.events]:  eta: 1 day, 7:15:29  iter: 25239  total_loss: 0.04826  loss_cls: 0.00101  loss_box_reg: 0.04514  time: 0.6974  data_time: 0.0243  lr: 0.001  max_mem: 2172M\n",
            "[02/17 16:56:56 d2.utils.events]:  eta: 1 day, 7:11:40  iter: 25259  total_loss: 0.04753  loss_cls: 0.0008565  loss_box_reg: 0.04228  time: 0.6974  data_time: 0.0229  lr: 0.001  max_mem: 2172M\n",
            "[02/17 16:57:10 d2.utils.events]:  eta: 1 day, 7:12:49  iter: 25279  total_loss: 0.05081  loss_cls: 0.0009079  loss_box_reg: 0.04685  time: 0.6974  data_time: 0.0197  lr: 0.001  max_mem: 2172M\n",
            "[02/17 16:57:24 d2.utils.events]:  eta: 1 day, 7:11:41  iter: 25299  total_loss: 0.04989  loss_cls: 0.001922  loss_box_reg: 0.04804  time: 0.6974  data_time: 0.0241  lr: 0.001  max_mem: 2172M\n",
            "[02/17 16:57:38 d2.utils.events]:  eta: 1 day, 7:10:27  iter: 25319  total_loss: 0.05438  loss_cls: 0.001548  loss_box_reg: 0.05245  time: 0.6974  data_time: 0.0212  lr: 0.001  max_mem: 2172M\n",
            "[02/17 16:57:51 d2.utils.events]:  eta: 1 day, 7:02:04  iter: 25339  total_loss: 0.05086  loss_cls: 0.001461  loss_box_reg: 0.04839  time: 0.6974  data_time: 0.0190  lr: 0.001  max_mem: 2172M\n",
            "[02/17 16:58:06 d2.utils.events]:  eta: 1 day, 6:40:21  iter: 25359  total_loss: 0.05099  loss_cls: 0.001594  loss_box_reg: 0.05066  time: 0.6974  data_time: 0.0272  lr: 0.001  max_mem: 2172M\n",
            "[02/17 16:58:19 d2.utils.events]:  eta: 1 day, 6:22:23  iter: 25379  total_loss: 0.04057  loss_cls: 0.001397  loss_box_reg: 0.03892  time: 0.6974  data_time: 0.0204  lr: 0.001  max_mem: 2172M\n",
            "[02/17 16:58:33 d2.utils.events]:  eta: 1 day, 6:08:04  iter: 25399  total_loss: 0.05242  loss_cls: 0.0008642  loss_box_reg: 0.05133  time: 0.6974  data_time: 0.0229  lr: 0.001  max_mem: 2172M\n",
            "[02/17 16:58:47 d2.utils.events]:  eta: 1 day, 6:09:50  iter: 25419  total_loss: 0.04793  loss_cls: 0.001077  loss_box_reg: 0.04556  time: 0.6974  data_time: 0.0200  lr: 0.001  max_mem: 2172M\n",
            "[02/17 16:59:01 d2.utils.events]:  eta: 1 day, 6:07:36  iter: 25439  total_loss: 0.05461  loss_cls: 0.001259  loss_box_reg: 0.0515  time: 0.6974  data_time: 0.0189  lr: 0.001  max_mem: 2172M\n",
            "[02/17 16:59:15 d2.utils.events]:  eta: 1 day, 6:09:22  iter: 25459  total_loss: 0.04392  loss_cls: 0.0007425  loss_box_reg: 0.04172  time: 0.6974  data_time: 0.0193  lr: 0.001  max_mem: 2172M\n",
            "[02/17 16:59:30 d2.utils.events]:  eta: 1 day, 6:09:08  iter: 25479  total_loss: 0.04504  loss_cls: 0.0005896  loss_box_reg: 0.04464  time: 0.6974  data_time: 0.0173  lr: 0.001  max_mem: 2172M\n",
            "[02/17 16:59:44 d2.utils.events]:  eta: 1 day, 6:08:54  iter: 25499  total_loss: 0.04749  loss_cls: 0.001666  loss_box_reg: 0.04595  time: 0.6974  data_time: 0.0267  lr: 0.001  max_mem: 2172M\n",
            "[02/17 16:59:58 d2.utils.events]:  eta: 1 day, 7:08:01  iter: 25519  total_loss: 0.05034  loss_cls: 0.00114  loss_box_reg: 0.04682  time: 0.6974  data_time: 0.0210  lr: 0.001  max_mem: 2172M\n",
            "[02/17 17:00:12 d2.utils.events]:  eta: 1 day, 7:08:17  iter: 25539  total_loss: 0.05489  loss_cls: 0.001299  loss_box_reg: 0.05119  time: 0.6974  data_time: 0.0157  lr: 0.001  max_mem: 2172M\n",
            "[02/17 17:00:26 d2.utils.events]:  eta: 1 day, 7:13:05  iter: 25559  total_loss: 0.04672  loss_cls: 0.001699  loss_box_reg: 0.04553  time: 0.6975  data_time: 0.0238  lr: 0.001  max_mem: 2172M\n",
            "[02/17 17:00:40 d2.utils.events]:  eta: 1 day, 7:13:00  iter: 25579  total_loss: 0.04692  loss_cls: 0.000955  loss_box_reg: 0.04265  time: 0.6975  data_time: 0.0218  lr: 0.001  max_mem: 2172M\n",
            "[02/17 17:00:54 d2.utils.events]:  eta: 1 day, 7:12:18  iter: 25599  total_loss: 0.05005  loss_cls: 0.0007633  loss_box_reg: 0.04881  time: 0.6974  data_time: 0.0156  lr: 0.001  max_mem: 2172M\n",
            "[02/17 17:01:07 d2.utils.events]:  eta: 1 day, 7:06:49  iter: 25619  total_loss: 0.05095  loss_cls: 0.001066  loss_box_reg: 0.04716  time: 0.6974  data_time: 0.0176  lr: 0.001  max_mem: 2172M\n",
            "[02/17 17:01:21 d2.utils.events]:  eta: 1 day, 7:07:04  iter: 25639  total_loss: 0.04379  loss_cls: 0.0008795  loss_box_reg: 0.04108  time: 0.6974  data_time: 0.0180  lr: 0.001  max_mem: 2172M\n",
            "[02/17 17:01:35 d2.utils.events]:  eta: 1 day, 7:05:30  iter: 25659  total_loss: 0.05035  loss_cls: 0.001188  loss_box_reg: 0.04886  time: 0.6974  data_time: 0.0256  lr: 0.001  max_mem: 2172M\n",
            "[02/17 17:01:49 d2.utils.events]:  eta: 1 day, 6:12:28  iter: 25679  total_loss: 0.04277  loss_cls: 0.0006961  loss_box_reg: 0.04147  time: 0.6974  data_time: 0.0231  lr: 0.001  max_mem: 2172M\n",
            "[02/17 17:02:02 d2.utils.events]:  eta: 1 day, 5:54:28  iter: 25699  total_loss: 0.04754  loss_cls: 0.00107  loss_box_reg: 0.04395  time: 0.6974  data_time: 0.0157  lr: 0.001  max_mem: 2172M\n",
            "[02/17 17:02:16 d2.utils.events]:  eta: 1 day, 5:45:23  iter: 25719  total_loss: 0.04459  loss_cls: 0.0008982  loss_box_reg: 0.04409  time: 0.6974  data_time: 0.0201  lr: 0.001  max_mem: 2172M\n",
            "[02/17 17:02:30 d2.utils.events]:  eta: 1 day, 5:50:39  iter: 25739  total_loss: 0.04669  loss_cls: 0.0009052  loss_box_reg: 0.0453  time: 0.6974  data_time: 0.0230  lr: 0.001  max_mem: 2172M\n",
            "[02/17 17:02:44 d2.utils.events]:  eta: 1 day, 5:50:25  iter: 25759  total_loss: 0.04523  loss_cls: 0.001713  loss_box_reg: 0.04361  time: 0.6974  data_time: 0.0163  lr: 0.001  max_mem: 2172M\n",
            "[02/17 17:02:58 d2.utils.events]:  eta: 1 day, 5:45:20  iter: 25779  total_loss: 0.05  loss_cls: 0.001429  loss_box_reg: 0.04698  time: 0.6974  data_time: 0.0191  lr: 0.001  max_mem: 2172M\n",
            "[02/17 17:03:12 d2.utils.events]:  eta: 1 day, 5:46:03  iter: 25799  total_loss: 0.04873  loss_cls: 0.001176  loss_box_reg: 0.04512  time: 0.6974  data_time: 0.0228  lr: 0.001  max_mem: 2172M\n",
            "[02/17 17:03:26 d2.utils.events]:  eta: 1 day, 5:41:00  iter: 25819  total_loss: 0.03505  loss_cls: 0.0008298  loss_box_reg: 0.03365  time: 0.6974  data_time: 0.0257  lr: 0.001  max_mem: 2172M\n",
            "[02/17 17:03:40 d2.utils.events]:  eta: 1 day, 5:44:39  iter: 25839  total_loss: 0.04588  loss_cls: 0.001852  loss_box_reg: 0.04391  time: 0.6974  data_time: 0.0225  lr: 0.001  max_mem: 2172M\n",
            "[02/17 17:03:54 d2.utils.events]:  eta: 1 day, 5:46:10  iter: 25859  total_loss: 0.04544  loss_cls: 0.00128  loss_box_reg: 0.04441  time: 0.6974  data_time: 0.0218  lr: 0.001  max_mem: 2172M\n",
            "[02/17 17:04:08 d2.utils.events]:  eta: 1 day, 5:43:32  iter: 25879  total_loss: 0.04922  loss_cls: 0.0009785  loss_box_reg: 0.04786  time: 0.6974  data_time: 0.0256  lr: 0.001  max_mem: 2172M\n",
            "[02/17 17:04:22 d2.utils.events]:  eta: 1 day, 5:43:18  iter: 25899  total_loss: 0.04693  loss_cls: 0.001288  loss_box_reg: 0.046  time: 0.6974  data_time: 0.0252  lr: 0.001  max_mem: 2172M\n",
            "[02/17 17:04:36 d2.utils.events]:  eta: 1 day, 5:34:48  iter: 25919  total_loss: 0.05032  loss_cls: 0.001553  loss_box_reg: 0.0476  time: 0.6974  data_time: 0.0189  lr: 0.001  max_mem: 2172M\n",
            "[02/17 17:04:50 d2.utils.events]:  eta: 1 day, 5:34:34  iter: 25939  total_loss: 0.04577  loss_cls: 0.0007754  loss_box_reg: 0.04509  time: 0.6974  data_time: 0.0186  lr: 0.001  max_mem: 2172M\n",
            "[02/17 17:05:03 d2.utils.events]:  eta: 1 day, 5:35:25  iter: 25959  total_loss: 0.05235  loss_cls: 0.003238  loss_box_reg: 0.04646  time: 0.6974  data_time: 0.0148  lr: 0.001  max_mem: 2172M\n",
            "[02/17 17:05:17 d2.utils.events]:  eta: 1 day, 5:33:05  iter: 25979  total_loss: 0.05537  loss_cls: 0.001684  loss_box_reg: 0.05282  time: 0.6974  data_time: 0.0240  lr: 0.001  max_mem: 2172M\n",
            "[02/17 17:05:31 d2.utils.events]:  eta: 1 day, 5:31:04  iter: 25999  total_loss: 0.04368  loss_cls: 0.001063  loss_box_reg: 0.0399  time: 0.6973  data_time: 0.0215  lr: 0.001  max_mem: 2172M\n",
            "[02/17 17:05:45 d2.utils.events]:  eta: 1 day, 5:30:50  iter: 26019  total_loss: 0.04353  loss_cls: 0.00111  loss_box_reg: 0.04258  time: 0.6974  data_time: 0.0219  lr: 0.001  max_mem: 2172M\n",
            "[02/17 17:05:59 d2.utils.events]:  eta: 1 day, 5:25:30  iter: 26039  total_loss: 0.04297  loss_cls: 0.001193  loss_box_reg: 0.04019  time: 0.6974  data_time: 0.0199  lr: 0.001  max_mem: 2172M\n",
            "[02/17 17:06:12 d2.utils.events]:  eta: 1 day, 5:23:41  iter: 26059  total_loss: 0.03765  loss_cls: 0.001023  loss_box_reg: 0.03682  time: 0.6973  data_time: 0.0226  lr: 0.001  max_mem: 2172M\n",
            "[02/17 17:06:27 d2.utils.events]:  eta: 1 day, 5:27:22  iter: 26079  total_loss: 0.04552  loss_cls: 0.001068  loss_box_reg: 0.04422  time: 0.6974  data_time: 0.0204  lr: 0.001  max_mem: 2172M\n",
            "[02/17 17:06:41 d2.utils.events]:  eta: 1 day, 5:27:09  iter: 26099  total_loss: 0.04682  loss_cls: 0.0009221  loss_box_reg: 0.04565  time: 0.6974  data_time: 0.0237  lr: 0.001  max_mem: 2172M\n",
            "[02/17 17:06:54 d2.utils.events]:  eta: 1 day, 5:23:00  iter: 26119  total_loss: 0.04449  loss_cls: 0.0007066  loss_box_reg: 0.04261  time: 0.6973  data_time: 0.0221  lr: 0.001  max_mem: 2172M\n",
            "[02/17 17:07:08 d2.utils.events]:  eta: 1 day, 5:23:40  iter: 26139  total_loss: 0.04334  loss_cls: 0.0009516  loss_box_reg: 0.04151  time: 0.6973  data_time: 0.0187  lr: 0.001  max_mem: 2172M\n",
            "[02/17 17:07:23 d2.utils.events]:  eta: 1 day, 5:32:09  iter: 26159  total_loss: 0.0428  loss_cls: 0.001132  loss_box_reg: 0.04054  time: 0.6974  data_time: 0.0231  lr: 0.001  max_mem: 2172M\n",
            "[02/17 17:07:37 d2.utils.events]:  eta: 1 day, 5:39:17  iter: 26179  total_loss: 0.0504  loss_cls: 0.00126  loss_box_reg: 0.04663  time: 0.6974  data_time: 0.0218  lr: 0.001  max_mem: 2172M\n",
            "[02/17 17:07:51 d2.utils.events]:  eta: 1 day, 5:40:29  iter: 26199  total_loss: 0.04946  loss_cls: 0.001511  loss_box_reg: 0.04858  time: 0.6974  data_time: 0.0234  lr: 0.001  max_mem: 2172M\n",
            "[02/17 17:08:05 d2.utils.events]:  eta: 1 day, 5:34:26  iter: 26219  total_loss: 0.06068  loss_cls: 0.003414  loss_box_reg: 0.0591  time: 0.6974  data_time: 0.0214  lr: 0.001  max_mem: 2172M\n",
            "[02/17 17:08:19 d2.utils.events]:  eta: 1 day, 5:36:29  iter: 26239  total_loss: 0.0532  loss_cls: 0.002222  loss_box_reg: 0.05027  time: 0.6974  data_time: 0.0174  lr: 0.001  max_mem: 2172M\n",
            "[02/17 17:08:33 d2.utils.events]:  eta: 1 day, 6:23:06  iter: 26259  total_loss: 0.05463  loss_cls: 0.001332  loss_box_reg: 0.05252  time: 0.6974  data_time: 0.0208  lr: 0.001  max_mem: 2172M\n",
            "[02/17 17:08:47 d2.utils.events]:  eta: 1 day, 5:47:01  iter: 26279  total_loss: 0.04848  loss_cls: 0.001932  loss_box_reg: 0.04648  time: 0.6974  data_time: 0.0184  lr: 0.001  max_mem: 2172M\n",
            "[02/17 17:09:01 d2.utils.events]:  eta: 1 day, 5:43:11  iter: 26299  total_loss: 0.04556  loss_cls: 0.001424  loss_box_reg: 0.04438  time: 0.6974  data_time: 0.0155  lr: 0.001  max_mem: 2172M\n",
            "[02/17 17:09:14 d2.utils.events]:  eta: 1 day, 5:42:57  iter: 26319  total_loss: 0.05297  loss_cls: 0.001225  loss_box_reg: 0.05112  time: 0.6974  data_time: 0.0145  lr: 0.001  max_mem: 2172M\n",
            "[02/17 17:09:28 d2.utils.events]:  eta: 1 day, 5:42:43  iter: 26339  total_loss: 0.05545  loss_cls: 0.002105  loss_box_reg: 0.05308  time: 0.6973  data_time: 0.0138  lr: 0.001  max_mem: 2172M\n",
            "[02/17 17:09:42 d2.utils.events]:  eta: 1 day, 5:37:12  iter: 26359  total_loss: 0.04694  loss_cls: 0.001437  loss_box_reg: 0.04471  time: 0.6974  data_time: 0.0222  lr: 0.001  max_mem: 2172M\n",
            "[02/17 17:09:56 d2.utils.events]:  eta: 1 day, 5:36:58  iter: 26379  total_loss: 0.04466  loss_cls: 0.001107  loss_box_reg: 0.04365  time: 0.6973  data_time: 0.0179  lr: 0.001  max_mem: 2172M\n",
            "[02/17 17:10:10 d2.utils.events]:  eta: 1 day, 5:36:44  iter: 26399  total_loss: 0.0451  loss_cls: 0.001075  loss_box_reg: 0.04338  time: 0.6973  data_time: 0.0197  lr: 0.001  max_mem: 2172M\n",
            "[02/17 17:10:24 d2.utils.events]:  eta: 1 day, 6:21:12  iter: 26419  total_loss: 0.04691  loss_cls: 0.001069  loss_box_reg: 0.0427  time: 0.6974  data_time: 0.0207  lr: 0.001  max_mem: 2172M\n",
            "[02/17 17:10:38 d2.utils.events]:  eta: 1 day, 6:57:49  iter: 26439  total_loss: 0.04332  loss_cls: 0.001088  loss_box_reg: 0.0407  time: 0.6974  data_time: 0.0237  lr: 0.001  max_mem: 2172M\n",
            "[02/17 17:10:53 d2.utils.events]:  eta: 1 day, 7:00:44  iter: 26459  total_loss: 0.04293  loss_cls: 0.0008847  loss_box_reg: 0.03761  time: 0.6974  data_time: 0.0185  lr: 0.001  max_mem: 2172M\n",
            "[02/17 17:11:06 d2.utils.events]:  eta: 1 day, 5:41:05  iter: 26479  total_loss: 0.04468  loss_cls: 0.0008057  loss_box_reg: 0.04395  time: 0.6974  data_time: 0.0214  lr: 0.001  max_mem: 2172M\n",
            "[02/17 17:11:20 d2.utils.events]:  eta: 1 day, 5:30:36  iter: 26499  total_loss: 0.04235  loss_cls: 0.001022  loss_box_reg: 0.03899  time: 0.6974  data_time: 0.0170  lr: 0.001  max_mem: 2172M\n",
            "[02/17 17:11:34 d2.utils.events]:  eta: 1 day, 5:24:52  iter: 26519  total_loss: 0.05343  loss_cls: 0.002096  loss_box_reg: 0.05003  time: 0.6973  data_time: 0.0211  lr: 0.001  max_mem: 2172M\n",
            "[02/17 17:11:48 d2.utils.events]:  eta: 1 day, 5:22:12  iter: 26539  total_loss: 0.05582  loss_cls: 0.001627  loss_box_reg: 0.05225  time: 0.6973  data_time: 0.0207  lr: 0.001  max_mem: 2172M\n",
            "[02/17 17:12:02 d2.utils.events]:  eta: 1 day, 5:19:57  iter: 26559  total_loss: 0.04697  loss_cls: 0.00117  loss_box_reg: 0.0463  time: 0.6973  data_time: 0.0239  lr: 0.001  max_mem: 2172M\n",
            "[02/17 17:12:15 d2.utils.events]:  eta: 1 day, 5:20:30  iter: 26579  total_loss: 0.0386  loss_cls: 0.0006679  loss_box_reg: 0.03789  time: 0.6973  data_time: 0.0221  lr: 0.001  max_mem: 2172M\n",
            "[02/17 17:12:29 d2.utils.events]:  eta: 1 day, 5:27:05  iter: 26599  total_loss: 0.04595  loss_cls: 0.0009246  loss_box_reg: 0.04467  time: 0.6973  data_time: 0.0221  lr: 0.001  max_mem: 2172M\n",
            "[02/17 17:12:43 d2.utils.events]:  eta: 1 day, 5:32:05  iter: 26619  total_loss: 0.04079  loss_cls: 0.0008028  loss_box_reg: 0.04017  time: 0.6973  data_time: 0.0209  lr: 0.001  max_mem: 2172M\n",
            "[02/17 17:12:57 d2.utils.events]:  eta: 1 day, 5:34:15  iter: 26639  total_loss: 0.04971  loss_cls: 0.001107  loss_box_reg: 0.0478  time: 0.6973  data_time: 0.0190  lr: 0.001  max_mem: 2172M\n",
            "[02/17 17:13:12 d2.utils.events]:  eta: 1 day, 6:57:13  iter: 26659  total_loss: 0.03996  loss_cls: 0.0007737  loss_box_reg: 0.03891  time: 0.6974  data_time: 0.0198  lr: 0.001  max_mem: 2172M\n",
            "[02/17 17:13:26 d2.utils.events]:  eta: 1 day, 6:57:57  iter: 26679  total_loss: 0.04619  loss_cls: 0.0009178  loss_box_reg: 0.04376  time: 0.6974  data_time: 0.0206  lr: 0.001  max_mem: 2172M\n",
            "[02/17 17:13:40 d2.utils.events]:  eta: 1 day, 7:01:34  iter: 26699  total_loss: 0.05153  loss_cls: 0.0013  loss_box_reg: 0.05053  time: 0.6974  data_time: 0.0209  lr: 0.001  max_mem: 2172M\n",
            "[02/17 17:13:54 d2.utils.events]:  eta: 1 day, 7:02:05  iter: 26719  total_loss: 0.04209  loss_cls: 0.001454  loss_box_reg: 0.03963  time: 0.6974  data_time: 0.0190  lr: 0.001  max_mem: 2172M\n",
            "[02/17 17:14:07 d2.utils.events]:  eta: 1 day, 7:01:05  iter: 26739  total_loss: 0.04658  loss_cls: 0.0008508  loss_box_reg: 0.04581  time: 0.6974  data_time: 0.0220  lr: 0.001  max_mem: 2172M\n",
            "[02/17 17:14:22 d2.utils.events]:  eta: 1 day, 7:00:50  iter: 26759  total_loss: 0.04325  loss_cls: 0.0006399  loss_box_reg: 0.04089  time: 0.6974  data_time: 0.0228  lr: 0.001  max_mem: 2172M\n",
            "[02/17 17:14:36 d2.utils.events]:  eta: 1 day, 7:02:24  iter: 26779  total_loss: 0.04559  loss_cls: 0.002144  loss_box_reg: 0.04295  time: 0.6974  data_time: 0.0233  lr: 0.001  max_mem: 2172M\n",
            "[02/17 17:14:50 d2.utils.events]:  eta: 1 day, 7:01:29  iter: 26799  total_loss: 0.04862  loss_cls: 0.0009593  loss_box_reg: 0.04654  time: 0.6974  data_time: 0.0153  lr: 0.001  max_mem: 2172M\n",
            "[02/17 17:15:03 d2.utils.events]:  eta: 1 day, 7:01:14  iter: 26819  total_loss: 0.05205  loss_cls: 0.001054  loss_box_reg: 0.04958  time: 0.6974  data_time: 0.0173  lr: 0.001  max_mem: 2172M\n",
            "[02/17 17:15:17 d2.utils.events]:  eta: 1 day, 7:00:09  iter: 26839  total_loss: 0.04115  loss_cls: 0.0005644  loss_box_reg: 0.04078  time: 0.6974  data_time: 0.0198  lr: 0.001  max_mem: 2172M\n",
            "[02/17 17:15:31 d2.utils.events]:  eta: 1 day, 6:57:54  iter: 26859  total_loss: 0.04857  loss_cls: 0.0009685  loss_box_reg: 0.04687  time: 0.6973  data_time: 0.0166  lr: 0.001  max_mem: 2172M\n",
            "[02/17 17:15:45 d2.utils.events]:  eta: 1 day, 6:57:40  iter: 26879  total_loss: 0.04085  loss_cls: 0.0006792  loss_box_reg: 0.03998  time: 0.6973  data_time: 0.0219  lr: 0.001  max_mem: 2172M\n",
            "[02/17 17:15:58 d2.utils.events]:  eta: 1 day, 6:56:12  iter: 26899  total_loss: 0.04749  loss_cls: 0.0009583  loss_box_reg: 0.0461  time: 0.6973  data_time: 0.0224  lr: 0.001  max_mem: 2172M\n",
            "[02/17 17:16:12 d2.utils.events]:  eta: 1 day, 6:58:40  iter: 26919  total_loss: 0.04619  loss_cls: 0.001104  loss_box_reg: 0.04352  time: 0.6973  data_time: 0.0228  lr: 0.001  max_mem: 2172M\n",
            "[02/17 17:16:26 d2.utils.events]:  eta: 1 day, 6:57:48  iter: 26939  total_loss: 0.04549  loss_cls: 0.001814  loss_box_reg: 0.04219  time: 0.6973  data_time: 0.0202  lr: 0.001  max_mem: 2172M\n",
            "[02/17 17:16:40 d2.utils.events]:  eta: 1 day, 6:58:10  iter: 26959  total_loss: 0.0484  loss_cls: 0.0008695  loss_box_reg: 0.04739  time: 0.6973  data_time: 0.0185  lr: 0.001  max_mem: 2172M\n",
            "[02/17 17:16:54 d2.utils.events]:  eta: 1 day, 6:58:27  iter: 26979  total_loss: 0.04633  loss_cls: 0.0008775  loss_box_reg: 0.04592  time: 0.6973  data_time: 0.0224  lr: 0.001  max_mem: 2172M\n",
            "[02/17 17:17:08 d2.utils.events]:  eta: 1 day, 6:58:15  iter: 26999  total_loss: 0.05372  loss_cls: 0.001417  loss_box_reg: 0.05083  time: 0.6973  data_time: 0.0155  lr: 0.001  max_mem: 2172M\n",
            "[02/17 17:17:22 d2.utils.events]:  eta: 1 day, 6:57:27  iter: 27019  total_loss: 0.04342  loss_cls: 0.0009307  loss_box_reg: 0.04125  time: 0.6973  data_time: 0.0149  lr: 0.001  max_mem: 2172M\n",
            "[02/17 17:17:36 d2.utils.events]:  eta: 1 day, 6:57:10  iter: 27039  total_loss: 0.04454  loss_cls: 0.0009591  loss_box_reg: 0.04339  time: 0.6973  data_time: 0.0203  lr: 0.001  max_mem: 2172M\n",
            "[02/17 17:17:50 d2.utils.events]:  eta: 1 day, 6:57:31  iter: 27059  total_loss: 0.04255  loss_cls: 0.001302  loss_box_reg: 0.04039  time: 0.6973  data_time: 0.0228  lr: 0.001  max_mem: 2172M\n",
            "[02/17 17:18:04 d2.utils.events]:  eta: 1 day, 6:57:17  iter: 27079  total_loss: 0.05584  loss_cls: 0.00183  loss_box_reg: 0.05396  time: 0.6973  data_time: 0.0231  lr: 0.001  max_mem: 2172M\n",
            "[02/17 17:18:18 d2.utils.events]:  eta: 1 day, 6:56:28  iter: 27099  total_loss: 0.05395  loss_cls: 0.001387  loss_box_reg: 0.05205  time: 0.6973  data_time: 0.0191  lr: 0.001  max_mem: 2172M\n",
            "[02/17 17:18:32 d2.utils.events]:  eta: 1 day, 6:56:49  iter: 27119  total_loss: 0.04158  loss_cls: 0.000828  loss_box_reg: 0.03938  time: 0.6973  data_time: 0.0213  lr: 0.001  max_mem: 2172M\n",
            "[02/17 17:18:46 d2.utils.events]:  eta: 1 day, 6:56:35  iter: 27139  total_loss: 0.04172  loss_cls: 0.0009915  loss_box_reg: 0.04017  time: 0.6973  data_time: 0.0177  lr: 0.001  max_mem: 2172M\n",
            "[02/17 17:19:00 d2.utils.events]:  eta: 1 day, 6:55:45  iter: 27159  total_loss: 0.04481  loss_cls: 0.002  loss_box_reg: 0.04359  time: 0.6973  data_time: 0.0239  lr: 0.001  max_mem: 2172M\n",
            "[02/17 17:19:14 d2.utils.events]:  eta: 1 day, 6:55:28  iter: 27179  total_loss: 0.0445  loss_cls: 0.000915  loss_box_reg: 0.04394  time: 0.6973  data_time: 0.0203  lr: 0.001  max_mem: 2172M\n",
            "[02/17 17:19:27 d2.utils.events]:  eta: 1 day, 6:55:16  iter: 27199  total_loss: 0.04478  loss_cls: 0.0009259  loss_box_reg: 0.04324  time: 0.6973  data_time: 0.0127  lr: 0.001  max_mem: 2172M\n",
            "[02/17 17:19:41 d2.utils.events]:  eta: 1 day, 6:55:35  iter: 27219  total_loss: 0.05717  loss_cls: 0.001312  loss_box_reg: 0.05313  time: 0.6973  data_time: 0.0159  lr: 0.001  max_mem: 2172M\n",
            "[02/17 17:19:55 d2.utils.events]:  eta: 1 day, 6:52:56  iter: 27239  total_loss: 0.04826  loss_cls: 0.0006472  loss_box_reg: 0.0442  time: 0.6973  data_time: 0.0234  lr: 0.001  max_mem: 2172M\n",
            "[02/17 17:20:09 d2.utils.events]:  eta: 1 day, 6:53:38  iter: 27259  total_loss: 0.04482  loss_cls: 0.0008834  loss_box_reg: 0.0415  time: 0.6973  data_time: 0.0192  lr: 0.001  max_mem: 2172M\n",
            "[02/17 17:20:24 d2.utils.events]:  eta: 1 day, 6:54:17  iter: 27279  total_loss: 0.04085  loss_cls: 0.000923  loss_box_reg: 0.03733  time: 0.6973  data_time: 0.0225  lr: 0.001  max_mem: 2172M\n",
            "[02/17 17:20:37 d2.utils.events]:  eta: 1 day, 6:54:03  iter: 27299  total_loss: 0.04448  loss_cls: 0.001331  loss_box_reg: 0.04304  time: 0.6973  data_time: 0.0189  lr: 0.001  max_mem: 2172M\n",
            "[02/17 17:20:51 d2.utils.events]:  eta: 1 day, 6:54:05  iter: 27319  total_loss: 0.05686  loss_cls: 0.001542  loss_box_reg: 0.0535  time: 0.6973  data_time: 0.0187  lr: 0.001  max_mem: 2172M\n",
            "[02/17 17:21:05 d2.utils.events]:  eta: 1 day, 6:54:09  iter: 27339  total_loss: 0.0539  loss_cls: 0.001251  loss_box_reg: 0.05128  time: 0.6973  data_time: 0.0219  lr: 0.001  max_mem: 2172M\n",
            "[02/17 17:21:19 d2.utils.events]:  eta: 1 day, 6:54:24  iter: 27359  total_loss: 0.05025  loss_cls: 0.001315  loss_box_reg: 0.04921  time: 0.6973  data_time: 0.0151  lr: 0.001  max_mem: 2172M\n",
            "[02/17 17:21:33 d2.utils.events]:  eta: 1 day, 6:54:36  iter: 27379  total_loss: 0.05586  loss_cls: 0.001557  loss_box_reg: 0.05362  time: 0.6973  data_time: 0.0221  lr: 0.001  max_mem: 2172M\n",
            "[02/17 17:21:47 d2.utils.events]:  eta: 1 day, 6:55:10  iter: 27399  total_loss: 0.05161  loss_cls: 0.001614  loss_box_reg: 0.05004  time: 0.6973  data_time: 0.0236  lr: 0.001  max_mem: 2172M\n",
            "[02/17 17:22:01 d2.utils.events]:  eta: 1 day, 6:54:37  iter: 27419  total_loss: 0.05861  loss_cls: 0.002866  loss_box_reg: 0.05737  time: 0.6973  data_time: 0.0195  lr: 0.001  max_mem: 2172M\n",
            "[02/17 17:22:15 d2.utils.events]:  eta: 1 day, 6:53:02  iter: 27439  total_loss: 0.05148  loss_cls: 0.001024  loss_box_reg: 0.05042  time: 0.6973  data_time: 0.0228  lr: 0.001  max_mem: 2172M\n",
            "[02/17 17:22:29 d2.utils.events]:  eta: 1 day, 6:51:37  iter: 27459  total_loss: 0.04775  loss_cls: 0.00154  loss_box_reg: 0.04673  time: 0.6973  data_time: 0.0216  lr: 0.001  max_mem: 2172M\n",
            "[02/17 17:22:43 d2.utils.events]:  eta: 1 day, 6:52:25  iter: 27479  total_loss: 0.04962  loss_cls: 0.001926  loss_box_reg: 0.04193  time: 0.6973  data_time: 0.0147  lr: 0.001  max_mem: 2172M\n",
            "[02/17 17:22:57 d2.utils.events]:  eta: 1 day, 6:52:18  iter: 27499  total_loss: 0.04766  loss_cls: 0.001156  loss_box_reg: 0.04604  time: 0.6973  data_time: 0.0192  lr: 0.001  max_mem: 2172M\n",
            "[02/17 17:23:10 d2.utils.events]:  eta: 1 day, 6:51:57  iter: 27519  total_loss: 0.05234  loss_cls: 0.001091  loss_box_reg: 0.05094  time: 0.6973  data_time: 0.0243  lr: 0.001  max_mem: 2172M\n",
            "[02/17 17:23:24 d2.utils.events]:  eta: 1 day, 6:52:13  iter: 27539  total_loss: 0.04858  loss_cls: 0.0007567  loss_box_reg: 0.0478  time: 0.6973  data_time: 0.0189  lr: 0.001  max_mem: 2172M\n",
            "[02/17 17:23:39 d2.utils.events]:  eta: 1 day, 6:53:08  iter: 27559  total_loss: 0.04931  loss_cls: 0.001214  loss_box_reg: 0.04837  time: 0.6973  data_time: 0.0180  lr: 0.001  max_mem: 2172M\n",
            "[02/17 17:23:53 d2.utils.events]:  eta: 1 day, 6:53:21  iter: 27579  total_loss: 0.04594  loss_cls: 0.001578  loss_box_reg: 0.04399  time: 0.6973  data_time: 0.0197  lr: 0.001  max_mem: 2172M\n",
            "[02/17 17:24:06 d2.utils.events]:  eta: 1 day, 6:52:39  iter: 27599  total_loss: 0.04528  loss_cls: 0.001067  loss_box_reg: 0.04421  time: 0.6973  data_time: 0.0209  lr: 0.001  max_mem: 2172M\n",
            "[02/17 17:24:20 d2.utils.events]:  eta: 1 day, 6:52:39  iter: 27619  total_loss: 0.04621  loss_cls: 0.0009071  loss_box_reg: 0.04599  time: 0.6973  data_time: 0.0171  lr: 0.001  max_mem: 2172M\n",
            "[02/17 17:24:34 d2.utils.events]:  eta: 1 day, 6:52:07  iter: 27639  total_loss: 0.04808  loss_cls: 0.001297  loss_box_reg: 0.04515  time: 0.6973  data_time: 0.0189  lr: 0.001  max_mem: 2172M\n",
            "[02/17 17:24:48 d2.utils.events]:  eta: 1 day, 6:50:45  iter: 27659  total_loss: 0.05112  loss_cls: 0.0009601  loss_box_reg: 0.04882  time: 0.6973  data_time: 0.0202  lr: 0.001  max_mem: 2172M\n",
            "[02/17 17:25:01 d2.utils.events]:  eta: 1 day, 6:49:44  iter: 27679  total_loss: 0.0527  loss_cls: 0.001404  loss_box_reg: 0.05031  time: 0.6973  data_time: 0.0224  lr: 0.001  max_mem: 2172M\n",
            "[02/17 17:25:15 d2.utils.events]:  eta: 1 day, 6:47:10  iter: 27699  total_loss: 0.05114  loss_cls: 0.001474  loss_box_reg: 0.04936  time: 0.6973  data_time: 0.0193  lr: 0.001  max_mem: 2172M\n",
            "[02/17 17:25:29 d2.utils.events]:  eta: 1 day, 6:46:56  iter: 27719  total_loss: 0.04754  loss_cls: 0.001051  loss_box_reg: 0.04485  time: 0.6973  data_time: 0.0215  lr: 0.001  max_mem: 2172M\n",
            "[02/17 17:25:43 d2.utils.events]:  eta: 1 day, 6:49:01  iter: 27739  total_loss: 0.04531  loss_cls: 0.001158  loss_box_reg: 0.04327  time: 0.6973  data_time: 0.0207  lr: 0.001  max_mem: 2172M\n",
            "[02/17 17:25:57 d2.utils.events]:  eta: 1 day, 6:47:38  iter: 27759  total_loss: 0.05084  loss_cls: 0.0005775  loss_box_reg: 0.04884  time: 0.6973  data_time: 0.0236  lr: 0.001  max_mem: 2172M\n",
            "[02/17 17:26:11 d2.utils.events]:  eta: 1 day, 6:44:43  iter: 27779  total_loss: 0.05254  loss_cls: 0.002323  loss_box_reg: 0.04893  time: 0.6972  data_time: 0.0158  lr: 0.001  max_mem: 2172M\n",
            "[02/17 17:26:25 d2.utils.events]:  eta: 1 day, 6:44:51  iter: 27799  total_loss: 0.04208  loss_cls: 0.001004  loss_box_reg: 0.04016  time: 0.6973  data_time: 0.0225  lr: 0.001  max_mem: 2172M\n",
            "[02/17 17:26:39 d2.utils.events]:  eta: 1 day, 6:48:25  iter: 27819  total_loss: 0.05461  loss_cls: 0.001344  loss_box_reg: 0.05196  time: 0.6973  data_time: 0.0231  lr: 0.001  max_mem: 2172M\n",
            "[02/17 17:26:53 d2.utils.events]:  eta: 1 day, 6:48:10  iter: 27839  total_loss: 0.0497  loss_cls: 0.0009064  loss_box_reg: 0.04792  time: 0.6973  data_time: 0.0198  lr: 0.001  max_mem: 2172M\n",
            "[02/17 17:27:07 d2.utils.events]:  eta: 1 day, 6:49:12  iter: 27859  total_loss: 0.03628  loss_cls: 0.0004307  loss_box_reg: 0.03557  time: 0.6973  data_time: 0.0191  lr: 0.001  max_mem: 2172M\n",
            "[02/17 17:27:20 d2.utils.events]:  eta: 1 day, 6:48:58  iter: 27879  total_loss: 0.04234  loss_cls: 0.0008881  loss_box_reg: 0.04051  time: 0.6972  data_time: 0.0164  lr: 0.001  max_mem: 2172M\n",
            "[02/17 17:27:34 d2.utils.events]:  eta: 1 day, 6:48:03  iter: 27899  total_loss: 0.05394  loss_cls: 0.001189  loss_box_reg: 0.05034  time: 0.6972  data_time: 0.0153  lr: 0.001  max_mem: 2172M\n",
            "[02/17 17:27:48 d2.utils.events]:  eta: 1 day, 6:46:15  iter: 27919  total_loss: 0.04234  loss_cls: 0.001119  loss_box_reg: 0.04034  time: 0.6972  data_time: 0.0189  lr: 0.001  max_mem: 2172M\n",
            "[02/17 17:28:02 d2.utils.events]:  eta: 1 day, 6:46:33  iter: 27939  total_loss: 0.04416  loss_cls: 0.001205  loss_box_reg: 0.04182  time: 0.6972  data_time: 0.0235  lr: 0.001  max_mem: 2172M\n",
            "[02/17 17:28:15 d2.utils.events]:  eta: 1 day, 6:46:18  iter: 27959  total_loss: 0.04419  loss_cls: 0.0008892  loss_box_reg: 0.04214  time: 0.6972  data_time: 0.0208  lr: 0.001  max_mem: 2172M\n",
            "[02/17 17:28:29 d2.utils.events]:  eta: 1 day, 6:45:11  iter: 27979  total_loss: 0.04418  loss_cls: 0.001097  loss_box_reg: 0.04097  time: 0.6972  data_time: 0.0212  lr: 0.001  max_mem: 2172M\n",
            "[02/17 17:28:43 d2.utils.events]:  eta: 1 day, 6:44:57  iter: 27999  total_loss: 0.04815  loss_cls: 0.001123  loss_box_reg: 0.04412  time: 0.6972  data_time: 0.0237  lr: 0.001  max_mem: 2172M\n",
            "[02/17 17:28:57 d2.utils.events]:  eta: 1 day, 6:45:22  iter: 28019  total_loss: 0.05313  loss_cls: 0.001353  loss_box_reg: 0.05138  time: 0.6972  data_time: 0.0276  lr: 0.001  max_mem: 2172M\n",
            "[02/17 17:29:11 d2.utils.events]:  eta: 1 day, 6:44:28  iter: 28039  total_loss: 0.04932  loss_cls: 0.001336  loss_box_reg: 0.04771  time: 0.6972  data_time: 0.0165  lr: 0.001  max_mem: 2172M\n",
            "[02/17 17:29:24 d2.utils.events]:  eta: 1 day, 6:43:47  iter: 28059  total_loss: 0.04794  loss_cls: 0.001167  loss_box_reg: 0.04603  time: 0.6972  data_time: 0.0205  lr: 0.001  max_mem: 2172M\n",
            "[02/17 17:29:39 d2.utils.events]:  eta: 1 day, 6:43:22  iter: 28079  total_loss: 0.04779  loss_cls: 0.001116  loss_box_reg: 0.04679  time: 0.6972  data_time: 0.0194  lr: 0.001  max_mem: 2172M\n",
            "[02/17 17:29:52 d2.utils.events]:  eta: 1 day, 6:44:24  iter: 28099  total_loss: 0.04577  loss_cls: 0.001015  loss_box_reg: 0.04455  time: 0.6972  data_time: 0.0215  lr: 0.001  max_mem: 2172M\n",
            "[02/17 17:30:07 d2.utils.events]:  eta: 1 day, 6:44:47  iter: 28119  total_loss: 0.05256  loss_cls: 0.000958  loss_box_reg: 0.05142  time: 0.6972  data_time: 0.0206  lr: 0.001  max_mem: 2172M\n",
            "[02/17 17:30:21 d2.utils.events]:  eta: 1 day, 6:44:56  iter: 28139  total_loss: 0.04746  loss_cls: 0.001684  loss_box_reg: 0.04295  time: 0.6972  data_time: 0.0227  lr: 0.001  max_mem: 2172M\n",
            "[02/17 17:30:35 d2.utils.events]:  eta: 1 day, 6:44:40  iter: 28159  total_loss: 0.05045  loss_cls: 0.001649  loss_box_reg: 0.04723  time: 0.6972  data_time: 0.0191  lr: 0.001  max_mem: 2172M\n",
            "[02/17 17:30:49 d2.utils.events]:  eta: 1 day, 6:44:56  iter: 28179  total_loss: 0.04338  loss_cls: 0.001264  loss_box_reg: 0.03988  time: 0.6972  data_time: 0.0224  lr: 0.001  max_mem: 2172M\n",
            "[02/17 17:31:03 d2.utils.events]:  eta: 1 day, 6:43:49  iter: 28199  total_loss: 0.04488  loss_cls: 0.002191  loss_box_reg: 0.04098  time: 0.6972  data_time: 0.0221  lr: 0.001  max_mem: 2172M\n",
            "[02/17 17:31:17 d2.utils.events]:  eta: 1 day, 6:44:27  iter: 28219  total_loss: 0.04529  loss_cls: 0.0007251  loss_box_reg: 0.0432  time: 0.6972  data_time: 0.0242  lr: 0.001  max_mem: 2172M\n",
            "[02/17 17:31:31 d2.utils.events]:  eta: 1 day, 6:44:32  iter: 28239  total_loss: 0.04787  loss_cls: 0.0008638  loss_box_reg: 0.04584  time: 0.6972  data_time: 0.0242  lr: 0.001  max_mem: 2172M\n",
            "[02/17 17:31:45 d2.utils.events]:  eta: 1 day, 6:43:05  iter: 28259  total_loss: 0.04722  loss_cls: 0.001192  loss_box_reg: 0.04498  time: 0.6972  data_time: 0.0203  lr: 0.001  max_mem: 2172M\n",
            "[02/17 17:31:59 d2.utils.events]:  eta: 1 day, 6:42:50  iter: 28279  total_loss: 0.04925  loss_cls: 0.0007425  loss_box_reg: 0.04698  time: 0.6972  data_time: 0.0216  lr: 0.001  max_mem: 2172M\n",
            "[02/17 17:32:13 d2.utils.events]:  eta: 1 day, 6:42:58  iter: 28299  total_loss: 0.0387  loss_cls: 0.001734  loss_box_reg: 0.03727  time: 0.6972  data_time: 0.0170  lr: 0.001  max_mem: 2172M\n",
            "[02/17 17:32:26 d2.utils.events]:  eta: 1 day, 6:42:08  iter: 28319  total_loss: 0.03923  loss_cls: 0.0008372  loss_box_reg: 0.03747  time: 0.6972  data_time: 0.0177  lr: 0.001  max_mem: 2172M\n",
            "[02/17 17:32:40 d2.utils.events]:  eta: 1 day, 6:41:53  iter: 28339  total_loss: 0.04176  loss_cls: 0.0008835  loss_box_reg: 0.04078  time: 0.6972  data_time: 0.0171  lr: 0.001  max_mem: 2172M\n",
            "[02/17 17:32:55 d2.utils.events]:  eta: 1 day, 6:41:52  iter: 28359  total_loss: 0.04168  loss_cls: 0.001194  loss_box_reg: 0.04146  time: 0.6972  data_time: 0.0241  lr: 0.001  max_mem: 2172M\n",
            "[02/17 17:33:09 d2.utils.events]:  eta: 1 day, 6:42:45  iter: 28379  total_loss: 0.05632  loss_cls: 0.001382  loss_box_reg: 0.05327  time: 0.6972  data_time: 0.0175  lr: 0.001  max_mem: 2172M\n",
            "[02/17 17:33:23 d2.utils.events]:  eta: 1 day, 6:41:09  iter: 28399  total_loss: 0.04646  loss_cls: 0.0008188  loss_box_reg: 0.04505  time: 0.6972  data_time: 0.0194  lr: 0.001  max_mem: 2172M\n",
            "[02/17 17:33:37 d2.utils.events]:  eta: 1 day, 6:40:55  iter: 28419  total_loss: 0.044  loss_cls: 0.001259  loss_box_reg: 0.04306  time: 0.6972  data_time: 0.0187  lr: 0.001  max_mem: 2172M\n",
            "[02/17 17:33:51 d2.utils.events]:  eta: 1 day, 6:41:35  iter: 28439  total_loss: 0.04482  loss_cls: 0.0009397  loss_box_reg: 0.04379  time: 0.6972  data_time: 0.0167  lr: 0.001  max_mem: 2172M\n",
            "[02/17 17:34:05 d2.utils.events]:  eta: 1 day, 6:41:32  iter: 28459  total_loss: 0.04748  loss_cls: 0.001869  loss_box_reg: 0.04581  time: 0.6972  data_time: 0.0159  lr: 0.001  max_mem: 2172M\n",
            "[02/17 17:34:19 d2.utils.events]:  eta: 1 day, 6:41:33  iter: 28479  total_loss: 0.04696  loss_cls: 0.0006732  loss_box_reg: 0.04595  time: 0.6972  data_time: 0.0178  lr: 0.001  max_mem: 2172M\n",
            "[02/17 17:34:32 d2.utils.events]:  eta: 1 day, 6:41:28  iter: 28499  total_loss: 0.04926  loss_cls: 0.001288  loss_box_reg: 0.04711  time: 0.6972  data_time: 0.0164  lr: 0.001  max_mem: 2172M\n",
            "[02/17 17:34:46 d2.utils.events]:  eta: 1 day, 6:41:03  iter: 28519  total_loss: 0.05445  loss_cls: 0.00124  loss_box_reg: 0.0532  time: 0.6972  data_time: 0.0208  lr: 0.001  max_mem: 2172M\n",
            "[02/17 17:35:00 d2.utils.events]:  eta: 1 day, 6:40:22  iter: 28539  total_loss: 0.04538  loss_cls: 0.00156  loss_box_reg: 0.04102  time: 0.6972  data_time: 0.0207  lr: 0.001  max_mem: 2172M\n",
            "[02/17 17:35:14 d2.utils.events]:  eta: 1 day, 6:39:48  iter: 28559  total_loss: 0.05051  loss_cls: 0.001684  loss_box_reg: 0.04778  time: 0.6972  data_time: 0.0186  lr: 0.001  max_mem: 2172M\n",
            "[02/17 17:35:28 d2.utils.events]:  eta: 1 day, 6:39:53  iter: 28579  total_loss: 0.03929  loss_cls: 0.0008302  loss_box_reg: 0.03629  time: 0.6972  data_time: 0.0179  lr: 0.001  max_mem: 2172M\n",
            "[02/17 17:35:42 d2.utils.events]:  eta: 1 day, 6:39:38  iter: 28599  total_loss: 0.04841  loss_cls: 0.001553  loss_box_reg: 0.04486  time: 0.6972  data_time: 0.0208  lr: 0.001  max_mem: 2172M\n",
            "[02/17 17:35:56 d2.utils.events]:  eta: 1 day, 6:39:04  iter: 28619  total_loss: 0.04511  loss_cls: 0.001027  loss_box_reg: 0.04445  time: 0.6972  data_time: 0.0201  lr: 0.001  max_mem: 2172M\n",
            "[02/17 17:36:10 d2.utils.events]:  eta: 1 day, 6:39:45  iter: 28639  total_loss: 0.04483  loss_cls: 0.001118  loss_box_reg: 0.04277  time: 0.6972  data_time: 0.0168  lr: 0.001  max_mem: 2172M\n",
            "[02/17 17:36:25 d2.utils.events]:  eta: 1 day, 6:41:25  iter: 28659  total_loss: 0.04076  loss_cls: 0.0009165  loss_box_reg: 0.03806  time: 0.6973  data_time: 0.0248  lr: 0.001  max_mem: 2172M\n",
            "[02/17 17:36:39 d2.utils.events]:  eta: 1 day, 6:41:32  iter: 28679  total_loss: 0.04745  loss_cls: 0.001362  loss_box_reg: 0.04575  time: 0.6973  data_time: 0.0289  lr: 0.001  max_mem: 2172M\n",
            "[02/17 17:36:53 d2.utils.events]:  eta: 1 day, 6:41:23  iter: 28699  total_loss: 0.04517  loss_cls: 0.0005421  loss_box_reg: 0.04371  time: 0.6973  data_time: 0.0258  lr: 0.001  max_mem: 2172M\n",
            "[02/17 17:37:07 d2.utils.events]:  eta: 1 day, 6:41:02  iter: 28719  total_loss: 0.04514  loss_cls: 0.0008843  loss_box_reg: 0.04373  time: 0.6973  data_time: 0.0205  lr: 0.001  max_mem: 2172M\n",
            "[02/17 17:37:21 d2.utils.events]:  eta: 1 day, 6:40:37  iter: 28739  total_loss: 0.0411  loss_cls: 0.0004878  loss_box_reg: 0.03912  time: 0.6973  data_time: 0.0270  lr: 0.001  max_mem: 2172M\n",
            "[02/17 17:37:35 d2.utils.events]:  eta: 1 day, 6:40:15  iter: 28759  total_loss: 0.03525  loss_cls: 0.0009864  loss_box_reg: 0.03434  time: 0.6973  data_time: 0.0229  lr: 0.001  max_mem: 2172M\n",
            "[02/17 17:37:49 d2.utils.events]:  eta: 1 day, 6:40:01  iter: 28779  total_loss: 0.05328  loss_cls: 0.001051  loss_box_reg: 0.05078  time: 0.6973  data_time: 0.0182  lr: 0.001  max_mem: 2172M\n",
            "[02/17 17:38:02 d2.utils.events]:  eta: 1 day, 6:39:20  iter: 28799  total_loss: 0.04158  loss_cls: 0.0006859  loss_box_reg: 0.04099  time: 0.6972  data_time: 0.0245  lr: 0.001  max_mem: 2172M\n",
            "[02/17 17:38:16 d2.utils.events]:  eta: 1 day, 6:36:17  iter: 28819  total_loss: 0.04565  loss_cls: 0.000852  loss_box_reg: 0.04346  time: 0.6972  data_time: 0.0216  lr: 0.001  max_mem: 2172M\n",
            "[02/17 17:38:30 d2.utils.events]:  eta: 1 day, 6:37:20  iter: 28839  total_loss: 0.04776  loss_cls: 0.001189  loss_box_reg: 0.04283  time: 0.6972  data_time: 0.0237  lr: 0.001  max_mem: 2172M\n",
            "[02/17 17:38:44 d2.utils.events]:  eta: 1 day, 6:37:25  iter: 28859  total_loss: 0.04609  loss_cls: 0.001492  loss_box_reg: 0.04423  time: 0.6972  data_time: 0.0225  lr: 0.001  max_mem: 2172M\n",
            "[02/17 17:38:58 d2.utils.events]:  eta: 1 day, 6:37:45  iter: 28879  total_loss: 0.04919  loss_cls: 0.001702  loss_box_reg: 0.04722  time: 0.6972  data_time: 0.0255  lr: 0.001  max_mem: 2172M\n",
            "[02/17 17:39:12 d2.utils.events]:  eta: 1 day, 6:38:07  iter: 28899  total_loss: 0.04569  loss_cls: 0.0008596  loss_box_reg: 0.04371  time: 0.6972  data_time: 0.0265  lr: 0.001  max_mem: 2172M\n",
            "[02/17 17:39:26 d2.utils.events]:  eta: 1 day, 6:38:16  iter: 28919  total_loss: 0.04083  loss_cls: 0.000692  loss_box_reg: 0.04052  time: 0.6972  data_time: 0.0165  lr: 0.001  max_mem: 2172M\n",
            "[02/17 17:39:40 d2.utils.events]:  eta: 1 day, 6:38:22  iter: 28939  total_loss: 0.04477  loss_cls: 0.001389  loss_box_reg: 0.04104  time: 0.6972  data_time: 0.0156  lr: 0.001  max_mem: 2172M\n",
            "[02/17 17:39:54 d2.utils.events]:  eta: 1 day, 6:38:48  iter: 28959  total_loss: 0.04395  loss_cls: 0.0008122  loss_box_reg: 0.04325  time: 0.6973  data_time: 0.0253  lr: 0.001  max_mem: 2172M\n",
            "[02/17 17:40:08 d2.utils.events]:  eta: 1 day, 6:39:14  iter: 28979  total_loss: 0.04849  loss_cls: 0.0008546  loss_box_reg: 0.04686  time: 0.6973  data_time: 0.0211  lr: 0.001  max_mem: 2172M\n",
            "[02/17 17:40:22 d2.utils.events]:  eta: 1 day, 6:38:19  iter: 28999  total_loss: 0.04338  loss_cls: 0.0008737  loss_box_reg: 0.04297  time: 0.6972  data_time: 0.0189  lr: 0.001  max_mem: 2172M\n",
            "[02/17 17:40:36 d2.utils.events]:  eta: 1 day, 6:37:51  iter: 29019  total_loss: 0.04495  loss_cls: 0.0009109  loss_box_reg: 0.04401  time: 0.6972  data_time: 0.0239  lr: 0.001  max_mem: 2172M\n",
            "[02/17 17:40:49 d2.utils.events]:  eta: 1 day, 6:37:26  iter: 29039  total_loss: 0.04714  loss_cls: 0.0009841  loss_box_reg: 0.04243  time: 0.6972  data_time: 0.0219  lr: 0.001  max_mem: 2172M\n",
            "[02/17 17:41:04 d2.utils.events]:  eta: 1 day, 6:37:37  iter: 29059  total_loss: 0.04457  loss_cls: 0.001003  loss_box_reg: 0.04338  time: 0.6972  data_time: 0.0226  lr: 0.001  max_mem: 2172M\n",
            "[02/17 17:41:17 d2.utils.events]:  eta: 1 day, 6:36:39  iter: 29079  total_loss: 0.05102  loss_cls: 0.0009827  loss_box_reg: 0.05023  time: 0.6972  data_time: 0.0248  lr: 0.001  max_mem: 2172M\n",
            "[02/17 17:41:31 d2.utils.events]:  eta: 1 day, 6:36:17  iter: 29099  total_loss: 0.04701  loss_cls: 0.001626  loss_box_reg: 0.04584  time: 0.6972  data_time: 0.0172  lr: 0.001  max_mem: 2172M\n",
            "[02/17 17:41:45 d2.utils.events]:  eta: 1 day, 6:35:39  iter: 29119  total_loss: 0.04559  loss_cls: 0.001061  loss_box_reg: 0.04365  time: 0.6972  data_time: 0.0260  lr: 0.001  max_mem: 2172M\n",
            "[02/17 17:41:59 d2.utils.events]:  eta: 1 day, 6:34:17  iter: 29139  total_loss: 0.04908  loss_cls: 0.0008892  loss_box_reg: 0.04643  time: 0.6972  data_time: 0.0231  lr: 0.001  max_mem: 2172M\n",
            "[02/17 17:42:13 d2.utils.events]:  eta: 1 day, 6:34:22  iter: 29159  total_loss: 0.05451  loss_cls: 0.0008292  loss_box_reg: 0.05185  time: 0.6972  data_time: 0.0282  lr: 0.001  max_mem: 2172M\n",
            "[02/17 17:42:28 d2.utils.events]:  eta: 1 day, 6:34:55  iter: 29179  total_loss: 0.0415  loss_cls: 0.0008821  loss_box_reg: 0.04029  time: 0.6972  data_time: 0.0246  lr: 0.001  max_mem: 2172M\n",
            "[02/17 17:42:42 d2.utils.events]:  eta: 1 day, 6:35:45  iter: 29199  total_loss: 0.0447  loss_cls: 0.0009165  loss_box_reg: 0.04225  time: 0.6973  data_time: 0.0237  lr: 0.001  max_mem: 2172M\n",
            "[02/17 17:42:55 d2.utils.events]:  eta: 1 day, 6:33:19  iter: 29219  total_loss: 0.05746  loss_cls: 0.001215  loss_box_reg: 0.05221  time: 0.6972  data_time: 0.0202  lr: 0.001  max_mem: 2172M\n",
            "[02/17 17:43:09 d2.utils.events]:  eta: 1 day, 6:32:43  iter: 29239  total_loss: 0.04187  loss_cls: 0.0008852  loss_box_reg: 0.04015  time: 0.6972  data_time: 0.0170  lr: 0.001  max_mem: 2172M\n",
            "[02/17 17:43:23 d2.utils.events]:  eta: 1 day, 6:33:38  iter: 29259  total_loss: 0.04205  loss_cls: 0.000763  loss_box_reg: 0.03929  time: 0.6972  data_time: 0.0164  lr: 0.001  max_mem: 2172M\n",
            "[02/17 17:43:37 d2.utils.events]:  eta: 1 day, 6:32:14  iter: 29279  total_loss: 0.04434  loss_cls: 0.0007036  loss_box_reg: 0.04168  time: 0.6972  data_time: 0.0192  lr: 0.001  max_mem: 2172M\n",
            "[02/17 17:43:51 d2.utils.events]:  eta: 1 day, 6:32:21  iter: 29299  total_loss: 0.05555  loss_cls: 0.0026  loss_box_reg: 0.05104  time: 0.6972  data_time: 0.0241  lr: 0.001  max_mem: 2172M\n",
            "[02/17 17:44:05 d2.utils.events]:  eta: 1 day, 6:32:06  iter: 29319  total_loss: 0.04582  loss_cls: 0.00119  loss_box_reg: 0.0439  time: 0.6972  data_time: 0.0211  lr: 0.001  max_mem: 2172M\n",
            "[02/17 17:44:18 d2.utils.events]:  eta: 1 day, 6:31:25  iter: 29339  total_loss: 0.05053  loss_cls: 0.0009368  loss_box_reg: 0.04849  time: 0.6972  data_time: 0.0190  lr: 0.001  max_mem: 2172M\n",
            "[02/17 17:44:32 d2.utils.events]:  eta: 1 day, 6:30:31  iter: 29359  total_loss: 0.04243  loss_cls: 0.001105  loss_box_reg: 0.04141  time: 0.6972  data_time: 0.0270  lr: 0.001  max_mem: 2172M\n",
            "[02/17 17:44:46 d2.utils.events]:  eta: 1 day, 6:29:04  iter: 29379  total_loss: 0.05092  loss_cls: 0.001559  loss_box_reg: 0.04961  time: 0.6972  data_time: 0.0199  lr: 0.001  max_mem: 2172M\n",
            "[02/17 17:45:00 d2.utils.events]:  eta: 1 day, 6:25:35  iter: 29399  total_loss: 0.04659  loss_cls: 0.001005  loss_box_reg: 0.04531  time: 0.6972  data_time: 0.0210  lr: 0.001  max_mem: 2172M\n",
            "[02/17 17:45:14 d2.utils.events]:  eta: 1 day, 5:20:00  iter: 29419  total_loss: 0.04178  loss_cls: 0.0009862  loss_box_reg: 0.03983  time: 0.6972  data_time: 0.0193  lr: 0.001  max_mem: 2172M\n",
            "[02/17 17:45:28 d2.utils.events]:  eta: 1 day, 5:56:32  iter: 29439  total_loss: 0.04658  loss_cls: 0.0009885  loss_box_reg: 0.04558  time: 0.6972  data_time: 0.0199  lr: 0.001  max_mem: 2172M\n",
            "[02/17 17:45:41 d2.utils.events]:  eta: 1 day, 5:12:45  iter: 29459  total_loss: 0.04855  loss_cls: 0.001403  loss_box_reg: 0.04656  time: 0.6972  data_time: 0.0197  lr: 0.001  max_mem: 2172M\n",
            "[02/17 17:45:56 d2.utils.events]:  eta: 1 day, 5:12:31  iter: 29479  total_loss: 0.05155  loss_cls: 0.0007985  loss_box_reg: 0.05031  time: 0.6972  data_time: 0.0259  lr: 0.001  max_mem: 2172M\n",
            "[02/17 17:46:10 d2.utils.events]:  eta: 1 day, 5:09:49  iter: 29499  total_loss: 0.04941  loss_cls: 0.001169  loss_box_reg: 0.04742  time: 0.6972  data_time: 0.0254  lr: 0.001  max_mem: 2172M\n",
            "[02/17 17:46:24 d2.utils.events]:  eta: 1 day, 5:24:33  iter: 29519  total_loss: 0.04078  loss_cls: 0.001384  loss_box_reg: 0.04041  time: 0.6972  data_time: 0.0197  lr: 0.001  max_mem: 2172M\n",
            "[02/17 17:46:38 d2.utils.events]:  eta: 1 day, 5:24:19  iter: 29539  total_loss: 0.04375  loss_cls: 0.001548  loss_box_reg: 0.04152  time: 0.6972  data_time: 0.0211  lr: 0.001  max_mem: 2172M\n",
            "[02/17 17:46:52 d2.utils.events]:  eta: 1 day, 5:26:35  iter: 29559  total_loss: 0.04706  loss_cls: 0.001443  loss_box_reg: 0.04453  time: 0.6972  data_time: 0.0200  lr: 0.001  max_mem: 2172M\n",
            "[02/17 17:47:06 d2.utils.events]:  eta: 1 day, 5:17:30  iter: 29579  total_loss: 0.04858  loss_cls: 0.001213  loss_box_reg: 0.04484  time: 0.6972  data_time: 0.0192  lr: 0.001  max_mem: 2172M\n",
            "[02/17 17:47:20 d2.utils.events]:  eta: 1 day, 5:26:07  iter: 29599  total_loss: 0.04498  loss_cls: 0.0008981  loss_box_reg: 0.04391  time: 0.6972  data_time: 0.0213  lr: 0.001  max_mem: 2172M\n",
            "[02/17 17:47:35 d2.utils.events]:  eta: 1 day, 6:22:55  iter: 29619  total_loss: 0.04831  loss_cls: 0.001228  loss_box_reg: 0.04646  time: 0.6973  data_time: 0.0219  lr: 0.001  max_mem: 2172M\n",
            "[02/17 17:47:49 d2.utils.events]:  eta: 1 day, 6:20:37  iter: 29639  total_loss: 0.04925  loss_cls: 0.001396  loss_box_reg: 0.04775  time: 0.6972  data_time: 0.0238  lr: 0.001  max_mem: 2172M\n",
            "[02/17 17:48:03 d2.utils.events]:  eta: 1 day, 5:09:31  iter: 29659  total_loss: 0.04711  loss_cls: 0.001901  loss_box_reg: 0.04627  time: 0.6972  data_time: 0.0241  lr: 0.001  max_mem: 2172M\n",
            "[02/17 17:48:16 d2.utils.events]:  eta: 1 day, 5:04:06  iter: 29679  total_loss: 0.04577  loss_cls: 0.000859  loss_box_reg: 0.04417  time: 0.6972  data_time: 0.0258  lr: 0.001  max_mem: 2172M\n",
            "[02/17 17:48:31 d2.utils.events]:  eta: 1 day, 5:16:06  iter: 29699  total_loss: 0.06103  loss_cls: 0.002714  loss_box_reg: 0.05882  time: 0.6973  data_time: 0.0252  lr: 0.001  max_mem: 2172M\n",
            "[02/17 17:48:44 d2.utils.events]:  eta: 1 day, 5:06:31  iter: 29719  total_loss: 0.04505  loss_cls: 0.0008812  loss_box_reg: 0.04433  time: 0.6972  data_time: 0.0187  lr: 0.001  max_mem: 2172M\n",
            "[02/17 17:48:58 d2.utils.events]:  eta: 1 day, 5:06:17  iter: 29739  total_loss: 0.04687  loss_cls: 0.0009315  loss_box_reg: 0.04481  time: 0.6972  data_time: 0.0163  lr: 0.001  max_mem: 2172M\n",
            "[02/17 17:49:12 d2.utils.events]:  eta: 1 day, 5:09:41  iter: 29759  total_loss: 0.04412  loss_cls: 0.0008902  loss_box_reg: 0.04288  time: 0.6972  data_time: 0.0180  lr: 0.001  max_mem: 2172M\n",
            "[02/17 17:49:27 d2.utils.events]:  eta: 1 day, 6:17:48  iter: 29779  total_loss: 0.03685  loss_cls: 0.000664  loss_box_reg: 0.03514  time: 0.6973  data_time: 0.0231  lr: 0.001  max_mem: 2172M\n",
            "[02/17 17:49:40 d2.utils.events]:  eta: 1 day, 5:26:26  iter: 29799  total_loss: 0.04188  loss_cls: 0.001321  loss_box_reg: 0.04087  time: 0.6972  data_time: 0.0219  lr: 0.001  max_mem: 2172M\n",
            "[02/17 17:49:54 d2.utils.events]:  eta: 1 day, 6:18:26  iter: 29819  total_loss: 0.04069  loss_cls: 0.000838  loss_box_reg: 0.04022  time: 0.6972  data_time: 0.0182  lr: 0.001  max_mem: 2172M\n",
            "[02/17 17:50:08 d2.utils.events]:  eta: 1 day, 6:18:12  iter: 29839  total_loss: 0.0439  loss_cls: 0.001185  loss_box_reg: 0.04196  time: 0.6972  data_time: 0.0194  lr: 0.001  max_mem: 2172M\n",
            "[02/17 17:50:21 d2.utils.events]:  eta: 1 day, 6:02:48  iter: 29859  total_loss: 0.0462  loss_cls: 0.001231  loss_box_reg: 0.04439  time: 0.6972  data_time: 0.0175  lr: 0.001  max_mem: 2172M\n",
            "[02/17 17:50:35 d2.utils.events]:  eta: 1 day, 5:07:24  iter: 29879  total_loss: 0.04545  loss_cls: 0.00082  loss_box_reg: 0.04366  time: 0.6972  data_time: 0.0172  lr: 0.001  max_mem: 2172M\n",
            "[02/17 17:50:49 d2.utils.events]:  eta: 1 day, 5:07:10  iter: 29899  total_loss: 0.04462  loss_cls: 0.0007633  loss_box_reg: 0.04106  time: 0.6972  data_time: 0.0262  lr: 0.001  max_mem: 2172M\n",
            "[02/17 17:51:03 d2.utils.events]:  eta: 1 day, 6:15:57  iter: 29919  total_loss: 0.04362  loss_cls: 0.0007459  loss_box_reg: 0.04307  time: 0.6972  data_time: 0.0222  lr: 0.001  max_mem: 2172M\n",
            "[02/17 17:51:18 d2.utils.events]:  eta: 1 day, 6:01:51  iter: 29939  total_loss: 0.0521  loss_cls: 0.001009  loss_box_reg: 0.04832  time: 0.6972  data_time: 0.0237  lr: 0.001  max_mem: 2172M\n",
            "[02/17 17:51:32 d2.utils.events]:  eta: 1 day, 5:03:22  iter: 29959  total_loss: 0.04562  loss_cls: 0.00125  loss_box_reg: 0.0436  time: 0.6972  data_time: 0.0212  lr: 0.001  max_mem: 2172M\n",
            "[02/17 17:51:46 d2.utils.events]:  eta: 1 day, 5:03:09  iter: 29979  total_loss: 0.0454  loss_cls: 0.001217  loss_box_reg: 0.04463  time: 0.6973  data_time: 0.0237  lr: 0.001  max_mem: 2172M\n",
            "[02/17 17:52:00 d2.utils.events]:  eta: 1 day, 5:38:44  iter: 29999  total_loss: 0.05003  loss_cls: 0.001259  loss_box_reg: 0.04758  time: 0.6973  data_time: 0.0264  lr: 0.001  max_mem: 2172M\n",
            "[02/17 17:52:14 d2.utils.events]:  eta: 1 day, 5:38:29  iter: 30019  total_loss: 0.04732  loss_cls: 0.001277  loss_box_reg: 0.04524  time: 0.6973  data_time: 0.0247  lr: 0.001  max_mem: 2172M\n",
            "[02/17 17:52:28 d2.utils.events]:  eta: 1 day, 6:17:55  iter: 30039  total_loss: 0.0377  loss_cls: 0.0008438  loss_box_reg: 0.037  time: 0.6973  data_time: 0.0189  lr: 0.001  max_mem: 2172M\n",
            "[02/17 17:52:42 d2.utils.events]:  eta: 1 day, 6:00:24  iter: 30059  total_loss: 0.04915  loss_cls: 0.0009346  loss_box_reg: 0.04753  time: 0.6973  data_time: 0.0182  lr: 0.001  max_mem: 2172M\n",
            "[02/17 17:52:56 d2.utils.events]:  eta: 1 day, 6:14:10  iter: 30079  total_loss: 0.04452  loss_cls: 0.0005893  loss_box_reg: 0.04301  time: 0.6973  data_time: 0.0160  lr: 0.001  max_mem: 2172M\n",
            "[02/17 17:53:10 d2.utils.events]:  eta: 1 day, 6:13:55  iter: 30099  total_loss: 0.04681  loss_cls: 0.001025  loss_box_reg: 0.04619  time: 0.6973  data_time: 0.0192  lr: 0.001  max_mem: 2172M\n",
            "[02/17 17:53:24 d2.utils.events]:  eta: 1 day, 6:13:41  iter: 30119  total_loss: 0.05211  loss_cls: 0.0006914  loss_box_reg: 0.05069  time: 0.6973  data_time: 0.0221  lr: 0.001  max_mem: 2172M\n",
            "[02/17 17:53:38 d2.utils.events]:  eta: 1 day, 6:15:35  iter: 30139  total_loss: 0.04321  loss_cls: 0.001207  loss_box_reg: 0.04193  time: 0.6973  data_time: 0.0250  lr: 0.001  max_mem: 2172M\n",
            "[02/17 17:53:51 d2.utils.events]:  eta: 1 day, 6:13:19  iter: 30159  total_loss: 0.04171  loss_cls: 0.0008288  loss_box_reg: 0.03903  time: 0.6973  data_time: 0.0180  lr: 0.001  max_mem: 2172M\n",
            "[02/17 17:54:06 d2.utils.events]:  eta: 1 day, 6:12:07  iter: 30179  total_loss: 0.04484  loss_cls: 0.0006507  loss_box_reg: 0.044  time: 0.6973  data_time: 0.0224  lr: 0.001  max_mem: 2172M\n",
            "[02/17 17:54:20 d2.utils.events]:  eta: 1 day, 5:21:44  iter: 30199  total_loss: 0.04535  loss_cls: 0.001099  loss_box_reg: 0.04392  time: 0.6973  data_time: 0.0237  lr: 0.001  max_mem: 2172M\n",
            "[02/17 17:54:34 d2.utils.events]:  eta: 1 day, 6:12:28  iter: 30219  total_loss: 0.03839  loss_cls: 0.0006929  loss_box_reg: 0.03789  time: 0.6973  data_time: 0.0216  lr: 0.001  max_mem: 2172M\n",
            "[02/17 17:54:48 d2.utils.events]:  eta: 1 day, 6:12:26  iter: 30239  total_loss: 0.05243  loss_cls: 0.001087  loss_box_reg: 0.05116  time: 0.6973  data_time: 0.0216  lr: 0.001  max_mem: 2172M\n",
            "[02/17 17:55:02 d2.utils.events]:  eta: 1 day, 6:11:09  iter: 30259  total_loss: 0.0458  loss_cls: 0.0007755  loss_box_reg: 0.045  time: 0.6973  data_time: 0.0207  lr: 0.001  max_mem: 2172M\n",
            "[02/17 17:55:16 d2.utils.events]:  eta: 1 day, 6:11:57  iter: 30279  total_loss: 0.04044  loss_cls: 0.0007441  loss_box_reg: 0.03978  time: 0.6973  data_time: 0.0220  lr: 0.001  max_mem: 2172M\n",
            "[02/17 17:55:30 d2.utils.events]:  eta: 1 day, 6:11:37  iter: 30299  total_loss: 0.04045  loss_cls: 0.0006126  loss_box_reg: 0.03815  time: 0.6973  data_time: 0.0216  lr: 0.001  max_mem: 2172M\n",
            "[02/17 17:55:44 d2.utils.events]:  eta: 1 day, 6:12:30  iter: 30319  total_loss: 0.04109  loss_cls: 0.0006976  loss_box_reg: 0.04021  time: 0.6973  data_time: 0.0218  lr: 0.001  max_mem: 2172M\n",
            "[02/17 17:55:58 d2.utils.events]:  eta: 1 day, 6:13:30  iter: 30339  total_loss: 0.04771  loss_cls: 0.001178  loss_box_reg: 0.04583  time: 0.6973  data_time: 0.0223  lr: 0.001  max_mem: 2172M\n",
            "[02/17 17:56:12 d2.utils.events]:  eta: 1 day, 6:12:01  iter: 30359  total_loss: 0.05346  loss_cls: 0.0009984  loss_box_reg: 0.05012  time: 0.6973  data_time: 0.0281  lr: 0.001  max_mem: 2172M\n",
            "[02/17 17:56:26 d2.utils.events]:  eta: 1 day, 6:13:01  iter: 30379  total_loss: 0.05029  loss_cls: 0.002028  loss_box_reg: 0.04694  time: 0.6973  data_time: 0.0247  lr: 0.001  max_mem: 2172M\n",
            "[02/17 17:56:40 d2.utils.events]:  eta: 1 day, 6:15:19  iter: 30399  total_loss: 0.04344  loss_cls: 0.0006919  loss_box_reg: 0.04177  time: 0.6973  data_time: 0.0163  lr: 0.001  max_mem: 2172M\n",
            "[02/17 17:56:54 d2.utils.events]:  eta: 1 day, 6:18:27  iter: 30419  total_loss: 0.04479  loss_cls: 0.001554  loss_box_reg: 0.04276  time: 0.6973  data_time: 0.0204  lr: 0.001  max_mem: 2172M\n",
            "[02/17 17:57:08 d2.utils.events]:  eta: 1 day, 6:16:29  iter: 30439  total_loss: 0.04564  loss_cls: 0.001553  loss_box_reg: 0.04409  time: 0.6973  data_time: 0.0247  lr: 0.001  max_mem: 2172M\n",
            "[02/17 17:57:22 d2.utils.events]:  eta: 1 day, 6:17:58  iter: 30459  total_loss: 0.04302  loss_cls: 0.001288  loss_box_reg: 0.04172  time: 0.6973  data_time: 0.0217  lr: 0.001  max_mem: 2172M\n",
            "[02/17 17:57:36 d2.utils.events]:  eta: 1 day, 6:16:58  iter: 30479  total_loss: 0.03928  loss_cls: 0.000724  loss_box_reg: 0.03878  time: 0.6973  data_time: 0.0248  lr: 0.001  max_mem: 2172M\n",
            "[02/17 17:57:51 d2.utils.events]:  eta: 1 day, 6:17:36  iter: 30499  total_loss: 0.04937  loss_cls: 0.001409  loss_box_reg: 0.04671  time: 0.6973  data_time: 0.0197  lr: 0.001  max_mem: 2172M\n",
            "[02/17 17:58:05 d2.utils.events]:  eta: 1 day, 6:17:41  iter: 30519  total_loss: 0.05252  loss_cls: 0.001095  loss_box_reg: 0.05036  time: 0.6973  data_time: 0.0172  lr: 0.001  max_mem: 2172M\n",
            "[02/17 17:58:18 d2.utils.events]:  eta: 1 day, 6:17:07  iter: 30539  total_loss: 0.03983  loss_cls: 0.0008868  loss_box_reg: 0.03879  time: 0.6973  data_time: 0.0173  lr: 0.001  max_mem: 2172M\n",
            "[02/17 17:58:33 d2.utils.events]:  eta: 1 day, 6:16:52  iter: 30559  total_loss: 0.04055  loss_cls: 0.001081  loss_box_reg: 0.03874  time: 0.6973  data_time: 0.0179  lr: 0.001  max_mem: 2172M\n",
            "[02/17 17:58:47 d2.utils.events]:  eta: 1 day, 6:17:21  iter: 30579  total_loss: 0.05032  loss_cls: 0.001025  loss_box_reg: 0.04757  time: 0.6973  data_time: 0.0192  lr: 0.001  max_mem: 2172M\n",
            "[02/17 17:59:01 d2.utils.events]:  eta: 1 day, 6:16:52  iter: 30599  total_loss: 0.04275  loss_cls: 0.0008072  loss_box_reg: 0.04167  time: 0.6973  data_time: 0.0221  lr: 0.001  max_mem: 2172M\n",
            "[02/17 17:59:15 d2.utils.events]:  eta: 1 day, 6:14:57  iter: 30619  total_loss: 0.04661  loss_cls: 0.0007414  loss_box_reg: 0.04521  time: 0.6973  data_time: 0.0236  lr: 0.001  max_mem: 2172M\n",
            "[02/17 17:59:29 d2.utils.events]:  eta: 1 day, 6:15:47  iter: 30639  total_loss: 0.04081  loss_cls: 0.0006984  loss_box_reg: 0.03947  time: 0.6973  data_time: 0.0213  lr: 0.001  max_mem: 2172M\n",
            "[02/17 17:59:43 d2.utils.events]:  eta: 1 day, 6:15:39  iter: 30659  total_loss: 0.0449  loss_cls: 0.0009363  loss_box_reg: 0.04419  time: 0.6973  data_time: 0.0216  lr: 0.001  max_mem: 2172M\n",
            "[02/17 17:59:57 d2.utils.events]:  eta: 1 day, 6:16:04  iter: 30679  total_loss: 0.0417  loss_cls: 0.001112  loss_box_reg: 0.03955  time: 0.6973  data_time: 0.0247  lr: 0.001  max_mem: 2172M\n",
            "[02/17 18:00:11 d2.utils.events]:  eta: 1 day, 6:14:40  iter: 30699  total_loss: 0.04753  loss_cls: 0.001291  loss_box_reg: 0.0442  time: 0.6973  data_time: 0.0194  lr: 0.001  max_mem: 2172M\n",
            "[02/17 18:00:26 d2.utils.events]:  eta: 1 day, 6:15:43  iter: 30719  total_loss: 0.0547  loss_cls: 0.001059  loss_box_reg: 0.05272  time: 0.6974  data_time: 0.0222  lr: 0.001  max_mem: 2172M\n",
            "[02/17 18:00:40 d2.utils.events]:  eta: 1 day, 6:15:25  iter: 30739  total_loss: 0.03904  loss_cls: 0.0006238  loss_box_reg: 0.03877  time: 0.6974  data_time: 0.0235  lr: 0.001  max_mem: 2172M\n",
            "[02/17 18:00:54 d2.utils.events]:  eta: 1 day, 6:15:05  iter: 30759  total_loss: 0.05168  loss_cls: 0.0009787  loss_box_reg: 0.04992  time: 0.6974  data_time: 0.0211  lr: 0.001  max_mem: 2172M\n",
            "[02/17 18:01:08 d2.utils.events]:  eta: 1 day, 6:14:51  iter: 30779  total_loss: 0.04638  loss_cls: 0.001047  loss_box_reg: 0.04491  time: 0.6974  data_time: 0.0267  lr: 0.001  max_mem: 2172M\n",
            "[02/17 18:01:22 d2.utils.events]:  eta: 1 day, 6:14:50  iter: 30799  total_loss: 0.04625  loss_cls: 0.0006687  loss_box_reg: 0.04532  time: 0.6974  data_time: 0.0292  lr: 0.001  max_mem: 2172M\n",
            "[02/17 18:01:36 d2.utils.events]:  eta: 1 day, 6:15:00  iter: 30819  total_loss: 0.03785  loss_cls: 0.0006808  loss_box_reg: 0.03663  time: 0.6974  data_time: 0.0220  lr: 0.001  max_mem: 2172M\n",
            "[02/17 18:01:51 d2.utils.events]:  eta: 1 day, 6:15:33  iter: 30839  total_loss: 0.04356  loss_cls: 0.001611  loss_box_reg: 0.04222  time: 0.6974  data_time: 0.0244  lr: 0.001  max_mem: 2172M\n",
            "[02/17 18:02:05 d2.utils.events]:  eta: 1 day, 6:15:41  iter: 30859  total_loss: 0.04194  loss_cls: 0.001104  loss_box_reg: 0.04112  time: 0.6974  data_time: 0.0224  lr: 0.001  max_mem: 2172M\n",
            "[02/17 18:02:19 d2.utils.events]:  eta: 1 day, 6:16:02  iter: 30879  total_loss: 0.04174  loss_cls: 0.0007198  loss_box_reg: 0.04039  time: 0.6974  data_time: 0.0180  lr: 0.001  max_mem: 2172M\n",
            "[02/17 18:02:32 d2.utils.events]:  eta: 1 day, 6:15:12  iter: 30899  total_loss: 0.04207  loss_cls: 0.0009396  loss_box_reg: 0.04019  time: 0.6974  data_time: 0.0212  lr: 0.001  max_mem: 2172M\n",
            "[02/17 18:02:46 d2.utils.events]:  eta: 1 day, 6:14:08  iter: 30919  total_loss: 0.04332  loss_cls: 0.000908  loss_box_reg: 0.04058  time: 0.6974  data_time: 0.0210  lr: 0.001  max_mem: 2172M\n",
            "[02/17 18:03:00 d2.utils.events]:  eta: 1 day, 6:13:17  iter: 30939  total_loss: 0.04077  loss_cls: 0.0007888  loss_box_reg: 0.03952  time: 0.6974  data_time: 0.0224  lr: 0.001  max_mem: 2172M\n",
            "[02/17 18:03:14 d2.utils.events]:  eta: 1 day, 6:13:39  iter: 30959  total_loss: 0.04478  loss_cls: 0.0009468  loss_box_reg: 0.0437  time: 0.6974  data_time: 0.0229  lr: 0.001  max_mem: 2172M\n",
            "[02/17 18:03:28 d2.utils.events]:  eta: 1 day, 6:12:34  iter: 30979  total_loss: 0.0448  loss_cls: 0.000765  loss_box_reg: 0.04269  time: 0.6974  data_time: 0.0254  lr: 0.001  max_mem: 2172M\n",
            "[02/17 18:03:41 d2.utils.events]:  eta: 1 day, 6:12:19  iter: 30999  total_loss: 0.04218  loss_cls: 0.0007868  loss_box_reg: 0.04086  time: 0.6974  data_time: 0.0207  lr: 0.001  max_mem: 2172M\n",
            "[02/17 18:03:56 d2.utils.events]:  eta: 1 day, 6:12:43  iter: 31019  total_loss: 0.04063  loss_cls: 0.001539  loss_box_reg: 0.04028  time: 0.6974  data_time: 0.0192  lr: 0.001  max_mem: 2172M\n",
            "[02/17 18:04:09 d2.utils.events]:  eta: 1 day, 6:11:50  iter: 31039  total_loss: 0.05103  loss_cls: 0.001188  loss_box_reg: 0.04722  time: 0.6974  data_time: 0.0237  lr: 0.001  max_mem: 2172M\n",
            "[02/17 18:04:23 d2.utils.events]:  eta: 1 day, 6:12:04  iter: 31059  total_loss: 0.0491  loss_cls: 0.001027  loss_box_reg: 0.04605  time: 0.6974  data_time: 0.0209  lr: 0.001  max_mem: 2172M\n",
            "[02/17 18:04:37 d2.utils.events]:  eta: 1 day, 6:11:49  iter: 31079  total_loss: 0.05026  loss_cls: 0.00105  loss_box_reg: 0.04863  time: 0.6974  data_time: 0.0220  lr: 0.001  max_mem: 2172M\n",
            "[02/17 18:04:51 d2.utils.events]:  eta: 1 day, 6:11:21  iter: 31099  total_loss: 0.04488  loss_cls: 0.001191  loss_box_reg: 0.04246  time: 0.6974  data_time: 0.0174  lr: 0.001  max_mem: 2172M\n",
            "[02/17 18:05:05 d2.utils.events]:  eta: 1 day, 6:11:20  iter: 31119  total_loss: 0.0432  loss_cls: 0.0008125  loss_box_reg: 0.04208  time: 0.6974  data_time: 0.0161  lr: 0.001  max_mem: 2172M\n",
            "[02/17 18:05:19 d2.utils.events]:  eta: 1 day, 6:11:54  iter: 31139  total_loss: 0.04248  loss_cls: 0.000905  loss_box_reg: 0.04043  time: 0.6974  data_time: 0.0210  lr: 0.001  max_mem: 2172M\n",
            "[02/17 18:05:33 d2.utils.events]:  eta: 1 day, 6:13:06  iter: 31159  total_loss: 0.04107  loss_cls: 0.001005  loss_box_reg: 0.04085  time: 0.6974  data_time: 0.0231  lr: 0.001  max_mem: 2172M\n",
            "[02/17 18:05:48 d2.utils.events]:  eta: 1 day, 6:13:39  iter: 31179  total_loss: 0.0453  loss_cls: 0.001023  loss_box_reg: 0.04461  time: 0.6974  data_time: 0.0279  lr: 0.001  max_mem: 2172M\n",
            "[02/17 18:06:01 d2.utils.events]:  eta: 1 day, 6:13:13  iter: 31199  total_loss: 0.04271  loss_cls: 0.0009057  loss_box_reg: 0.03906  time: 0.6974  data_time: 0.0221  lr: 0.001  max_mem: 2172M\n",
            "[02/17 18:06:16 d2.utils.events]:  eta: 1 day, 6:14:19  iter: 31219  total_loss: 0.04029  loss_cls: 0.001223  loss_box_reg: 0.03869  time: 0.6974  data_time: 0.0236  lr: 0.001  max_mem: 2172M\n",
            "[02/17 18:06:29 d2.utils.events]:  eta: 1 day, 6:12:36  iter: 31239  total_loss: 0.0404  loss_cls: 0.0004621  loss_box_reg: 0.04006  time: 0.6974  data_time: 0.0183  lr: 0.001  max_mem: 2172M\n",
            "[02/17 18:06:43 d2.utils.events]:  eta: 1 day, 6:12:21  iter: 31259  total_loss: 0.03669  loss_cls: 0.001069  loss_box_reg: 0.03481  time: 0.6974  data_time: 0.0163  lr: 0.001  max_mem: 2172M\n",
            "[02/17 18:06:57 d2.utils.events]:  eta: 1 day, 6:10:40  iter: 31279  total_loss: 0.04708  loss_cls: 0.000993  loss_box_reg: 0.04537  time: 0.6974  data_time: 0.0207  lr: 0.001  max_mem: 2172M\n",
            "[02/17 18:07:11 d2.utils.events]:  eta: 1 day, 6:10:46  iter: 31299  total_loss: 0.04542  loss_cls: 0.001875  loss_box_reg: 0.04424  time: 0.6974  data_time: 0.0172  lr: 0.001  max_mem: 2172M\n",
            "[02/17 18:07:25 d2.utils.events]:  eta: 1 day, 6:11:09  iter: 31319  total_loss: 0.04315  loss_cls: 0.0008586  loss_box_reg: 0.04178  time: 0.6974  data_time: 0.0180  lr: 0.001  max_mem: 2172M\n",
            "[02/17 18:07:38 d2.utils.events]:  eta: 1 day, 6:11:23  iter: 31339  total_loss: 0.04552  loss_cls: 0.0006694  loss_box_reg: 0.04428  time: 0.6974  data_time: 0.0208  lr: 0.001  max_mem: 2172M\n",
            "[02/17 18:07:53 d2.utils.events]:  eta: 1 day, 6:12:00  iter: 31359  total_loss: 0.04445  loss_cls: 0.0006249  loss_box_reg: 0.04357  time: 0.6974  data_time: 0.0183  lr: 0.001  max_mem: 2172M\n",
            "[02/17 18:08:07 d2.utils.events]:  eta: 1 day, 6:12:21  iter: 31379  total_loss: 0.04725  loss_cls: 0.0006602  loss_box_reg: 0.04626  time: 0.6974  data_time: 0.0231  lr: 0.001  max_mem: 2172M\n",
            "[02/17 18:08:20 d2.utils.events]:  eta: 1 day, 6:12:06  iter: 31399  total_loss: 0.03859  loss_cls: 0.0007994  loss_box_reg: 0.03671  time: 0.6974  data_time: 0.0223  lr: 0.001  max_mem: 2172M\n",
            "[02/17 18:08:35 d2.utils.events]:  eta: 1 day, 6:10:56  iter: 31419  total_loss: 0.0402  loss_cls: 0.001328  loss_box_reg: 0.03948  time: 0.6974  data_time: 0.0180  lr: 0.001  max_mem: 2172M\n",
            "[02/17 18:08:49 d2.utils.events]:  eta: 1 day, 6:10:41  iter: 31439  total_loss: 0.03996  loss_cls: 0.0008192  loss_box_reg: 0.03886  time: 0.6974  data_time: 0.0192  lr: 0.001  max_mem: 2172M\n",
            "[02/17 18:09:03 d2.utils.events]:  eta: 1 day, 6:10:26  iter: 31459  total_loss: 0.04504  loss_cls: 0.001172  loss_box_reg: 0.04111  time: 0.6974  data_time: 0.0218  lr: 0.001  max_mem: 2172M\n",
            "[02/17 18:09:17 d2.utils.events]:  eta: 1 day, 6:10:12  iter: 31479  total_loss: 0.05419  loss_cls: 0.001315  loss_box_reg: 0.05135  time: 0.6974  data_time: 0.0231  lr: 0.001  max_mem: 2172M\n",
            "[02/17 18:09:30 d2.utils.events]:  eta: 1 day, 6:09:25  iter: 31499  total_loss: 0.0441  loss_cls: 0.0009008  loss_box_reg: 0.0427  time: 0.6974  data_time: 0.0200  lr: 0.001  max_mem: 2172M\n",
            "[02/17 18:09:44 d2.utils.events]:  eta: 1 day, 6:09:08  iter: 31519  total_loss: 0.03917  loss_cls: 0.0009632  loss_box_reg: 0.03827  time: 0.6974  data_time: 0.0241  lr: 0.001  max_mem: 2172M\n",
            "[02/17 18:09:58 d2.utils.events]:  eta: 1 day, 6:08:24  iter: 31539  total_loss: 0.04629  loss_cls: 0.0007589  loss_box_reg: 0.04467  time: 0.6974  data_time: 0.0221  lr: 0.001  max_mem: 2172M\n",
            "[02/17 18:10:12 d2.utils.events]:  eta: 1 day, 6:06:22  iter: 31559  total_loss: 0.04351  loss_cls: 0.001177  loss_box_reg: 0.04115  time: 0.6974  data_time: 0.0261  lr: 0.001  max_mem: 2172M\n",
            "[02/17 18:10:26 d2.utils.events]:  eta: 1 day, 6:03:53  iter: 31579  total_loss: 0.04633  loss_cls: 0.0009585  loss_box_reg: 0.04417  time: 0.6974  data_time: 0.0189  lr: 0.001  max_mem: 2172M\n",
            "[02/17 18:10:40 d2.utils.events]:  eta: 1 day, 6:05:35  iter: 31599  total_loss: 0.04558  loss_cls: 0.0009061  loss_box_reg: 0.04307  time: 0.6974  data_time: 0.0228  lr: 0.001  max_mem: 2172M\n",
            "[02/17 18:10:54 d2.utils.events]:  eta: 1 day, 6:04:03  iter: 31619  total_loss: 0.04578  loss_cls: 0.0009207  loss_box_reg: 0.04543  time: 0.6974  data_time: 0.0201  lr: 0.001  max_mem: 2172M\n",
            "[02/17 18:11:08 d2.utils.events]:  eta: 1 day, 6:05:57  iter: 31639  total_loss: 0.04057  loss_cls: 0.0007555  loss_box_reg: 0.03883  time: 0.6974  data_time: 0.0225  lr: 0.001  max_mem: 2172M\n",
            "[02/17 18:11:22 d2.utils.events]:  eta: 1 day, 6:04:15  iter: 31659  total_loss: 0.05022  loss_cls: 0.001206  loss_box_reg: 0.04921  time: 0.6974  data_time: 0.0195  lr: 0.001  max_mem: 2172M\n",
            "[02/17 18:11:36 d2.utils.events]:  eta: 1 day, 6:04:37  iter: 31679  total_loss: 0.04764  loss_cls: 0.0005857  loss_box_reg: 0.04213  time: 0.6974  data_time: 0.0231  lr: 0.001  max_mem: 2172M\n",
            "[02/17 18:11:50 d2.utils.events]:  eta: 1 day, 6:05:13  iter: 31699  total_loss: 0.04092  loss_cls: 0.0006605  loss_box_reg: 0.03971  time: 0.6974  data_time: 0.0189  lr: 0.001  max_mem: 2172M\n",
            "[02/17 18:12:04 d2.utils.events]:  eta: 1 day, 6:02:10  iter: 31719  total_loss: 0.03689  loss_cls: 0.001788  loss_box_reg: 0.03422  time: 0.6974  data_time: 0.0268  lr: 0.001  max_mem: 2172M\n",
            "[02/17 18:12:18 d2.utils.events]:  eta: 1 day, 6:02:16  iter: 31739  total_loss: 0.03598  loss_cls: 0.0009759  loss_box_reg: 0.03419  time: 0.6974  data_time: 0.0141  lr: 0.001  max_mem: 2172M\n",
            "[02/17 18:12:32 d2.utils.events]:  eta: 1 day, 6:00:24  iter: 31759  total_loss: 0.04992  loss_cls: 0.001118  loss_box_reg: 0.04725  time: 0.6974  data_time: 0.0225  lr: 0.001  max_mem: 2172M\n",
            "[02/17 18:12:46 d2.utils.events]:  eta: 1 day, 5:59:47  iter: 31779  total_loss: 0.04593  loss_cls: 0.0006975  loss_box_reg: 0.04198  time: 0.6974  data_time: 0.0243  lr: 0.001  max_mem: 2172M\n",
            "[02/17 18:13:00 d2.utils.events]:  eta: 1 day, 6:00:21  iter: 31799  total_loss: 0.04217  loss_cls: 0.0004616  loss_box_reg: 0.04093  time: 0.6974  data_time: 0.0213  lr: 0.001  max_mem: 2172M\n",
            "[02/17 18:13:14 d2.utils.events]:  eta: 1 day, 5:58:38  iter: 31819  total_loss: 0.04479  loss_cls: 0.0007661  loss_box_reg: 0.04182  time: 0.6974  data_time: 0.0192  lr: 0.001  max_mem: 2172M\n",
            "[02/17 18:13:28 d2.utils.events]:  eta: 1 day, 5:52:49  iter: 31839  total_loss: 0.04143  loss_cls: 0.001123  loss_box_reg: 0.04066  time: 0.6974  data_time: 0.0293  lr: 0.001  max_mem: 2172M\n",
            "[02/17 18:13:42 d2.utils.events]:  eta: 1 day, 5:54:46  iter: 31859  total_loss: 0.05054  loss_cls: 0.0009656  loss_box_reg: 0.04949  time: 0.6974  data_time: 0.0257  lr: 0.001  max_mem: 2172M\n",
            "[02/17 18:13:56 d2.utils.events]:  eta: 1 day, 5:57:56  iter: 31879  total_loss: 0.03957  loss_cls: 0.0009424  loss_box_reg: 0.03882  time: 0.6974  data_time: 0.0195  lr: 0.001  max_mem: 2172M\n",
            "[02/17 18:14:10 d2.utils.events]:  eta: 1 day, 5:58:55  iter: 31899  total_loss: 0.03964  loss_cls: 0.0009254  loss_box_reg: 0.03919  time: 0.6974  data_time: 0.0173  lr: 0.001  max_mem: 2172M\n",
            "[02/17 18:14:25 d2.utils.events]:  eta: 1 day, 5:59:22  iter: 31919  total_loss: 0.04646  loss_cls: 0.001722  loss_box_reg: 0.04484  time: 0.6974  data_time: 0.0242  lr: 0.001  max_mem: 2172M\n",
            "[02/17 18:14:39 d2.utils.events]:  eta: 1 day, 5:59:34  iter: 31939  total_loss: 0.05717  loss_cls: 0.001351  loss_box_reg: 0.05563  time: 0.6974  data_time: 0.0195  lr: 0.001  max_mem: 2172M\n",
            "[02/17 18:14:53 d2.utils.events]:  eta: 1 day, 6:01:05  iter: 31959  total_loss: 0.04133  loss_cls: 0.0004672  loss_box_reg: 0.03967  time: 0.6974  data_time: 0.0204  lr: 0.001  max_mem: 2172M\n",
            "[02/17 18:15:07 d2.utils.events]:  eta: 1 day, 6:00:58  iter: 31979  total_loss: 0.0438  loss_cls: 0.001076  loss_box_reg: 0.04309  time: 0.6974  data_time: 0.0240  lr: 0.001  max_mem: 2172M\n",
            "[02/17 18:15:21 d2.utils.events]:  eta: 1 day, 6:00:43  iter: 31999  total_loss: 0.05158  loss_cls: 0.001304  loss_box_reg: 0.04751  time: 0.6974  data_time: 0.0242  lr: 0.001  max_mem: 2172M\n",
            "[02/17 18:15:35 d2.utils.events]:  eta: 1 day, 5:58:36  iter: 32019  total_loss: 0.03815  loss_cls: 0.0007774  loss_box_reg: 0.03654  time: 0.6974  data_time: 0.0176  lr: 0.001  max_mem: 2172M\n",
            "[02/17 18:15:48 d2.utils.events]:  eta: 1 day, 6:00:08  iter: 32039  total_loss: 0.05658  loss_cls: 0.001434  loss_box_reg: 0.05395  time: 0.6974  data_time: 0.0184  lr: 0.001  max_mem: 2172M\n",
            "[02/17 18:16:02 d2.utils.events]:  eta: 1 day, 6:01:47  iter: 32059  total_loss: 0.05396  loss_cls: 0.001602  loss_box_reg: 0.0509  time: 0.6974  data_time: 0.0225  lr: 0.001  max_mem: 2172M\n",
            "[02/17 18:16:16 d2.utils.events]:  eta: 1 day, 6:00:28  iter: 32079  total_loss: 0.04406  loss_cls: 0.001104  loss_box_reg: 0.04288  time: 0.6974  data_time: 0.0208  lr: 0.001  max_mem: 2172M\n",
            "[02/17 18:16:30 d2.utils.events]:  eta: 1 day, 5:59:24  iter: 32099  total_loss: 0.05029  loss_cls: 0.001495  loss_box_reg: 0.04849  time: 0.6974  data_time: 0.0192  lr: 0.001  max_mem: 2172M\n",
            "[02/17 18:16:44 d2.utils.events]:  eta: 1 day, 5:58:33  iter: 32119  total_loss: 0.04549  loss_cls: 0.0005969  loss_box_reg: 0.0438  time: 0.6974  data_time: 0.0236  lr: 0.001  max_mem: 2172M\n",
            "[02/17 18:16:58 d2.utils.events]:  eta: 1 day, 5:55:10  iter: 32139  total_loss: 0.04474  loss_cls: 0.0009344  loss_box_reg: 0.04421  time: 0.6974  data_time: 0.0219  lr: 0.001  max_mem: 2172M\n",
            "[02/17 18:17:12 d2.utils.events]:  eta: 1 day, 5:53:37  iter: 32159  total_loss: 0.04593  loss_cls: 0.0009104  loss_box_reg: 0.04448  time: 0.6974  data_time: 0.0207  lr: 0.001  max_mem: 2172M\n",
            "[02/17 18:17:26 d2.utils.events]:  eta: 1 day, 5:52:26  iter: 32179  total_loss: 0.0384  loss_cls: 0.0008851  loss_box_reg: 0.03691  time: 0.6974  data_time: 0.0220  lr: 0.001  max_mem: 2172M\n",
            "[02/17 18:17:40 d2.utils.events]:  eta: 1 day, 5:54:41  iter: 32199  total_loss: 0.03963  loss_cls: 0.0007812  loss_box_reg: 0.03746  time: 0.6974  data_time: 0.0184  lr: 0.001  max_mem: 2172M\n",
            "[02/17 18:17:54 d2.utils.events]:  eta: 1 day, 5:53:23  iter: 32219  total_loss: 0.04744  loss_cls: 0.001181  loss_box_reg: 0.04634  time: 0.6974  data_time: 0.0198  lr: 0.001  max_mem: 2172M\n",
            "[02/17 18:18:08 d2.utils.events]:  eta: 1 day, 5:55:47  iter: 32239  total_loss: 0.0432  loss_cls: 0.001472  loss_box_reg: 0.04268  time: 0.6974  data_time: 0.0244  lr: 0.001  max_mem: 2172M\n",
            "[02/17 18:18:22 d2.utils.events]:  eta: 1 day, 5:55:32  iter: 32259  total_loss: 0.047  loss_cls: 0.0006958  loss_box_reg: 0.04551  time: 0.6974  data_time: 0.0258  lr: 0.001  max_mem: 2172M\n",
            "[02/17 18:18:37 d2.utils.events]:  eta: 1 day, 5:58:01  iter: 32279  total_loss: 0.045  loss_cls: 0.0008494  loss_box_reg: 0.04431  time: 0.6974  data_time: 0.0187  lr: 0.001  max_mem: 2172M\n",
            "[02/17 18:18:51 d2.utils.events]:  eta: 1 day, 5:58:52  iter: 32299  total_loss: 0.05079  loss_cls: 0.001502  loss_box_reg: 0.04861  time: 0.6974  data_time: 0.0295  lr: 0.001  max_mem: 2172M\n",
            "[02/17 18:19:05 d2.utils.events]:  eta: 1 day, 5:58:37  iter: 32319  total_loss: 0.05178  loss_cls: 0.001009  loss_box_reg: 0.04883  time: 0.6974  data_time: 0.0238  lr: 0.001  max_mem: 2172M\n",
            "[02/17 18:19:19 d2.utils.events]:  eta: 1 day, 5:58:54  iter: 32339  total_loss: 0.04765  loss_cls: 0.0008596  loss_box_reg: 0.04704  time: 0.6975  data_time: 0.0227  lr: 0.001  max_mem: 2172M\n",
            "[02/17 18:19:33 d2.utils.events]:  eta: 1 day, 5:58:17  iter: 32359  total_loss: 0.0414  loss_cls: 0.0005873  loss_box_reg: 0.04078  time: 0.6975  data_time: 0.0201  lr: 0.001  max_mem: 2172M\n",
            "[02/17 18:19:47 d2.utils.events]:  eta: 1 day, 5:57:27  iter: 32379  total_loss: 0.03274  loss_cls: 0.0006025  loss_box_reg: 0.03068  time: 0.6975  data_time: 0.0278  lr: 0.001  max_mem: 2172M\n",
            "[02/17 18:20:01 d2.utils.events]:  eta: 1 day, 5:56:34  iter: 32399  total_loss: 0.05779  loss_cls: 0.002972  loss_box_reg: 0.05502  time: 0.6975  data_time: 0.0225  lr: 0.001  max_mem: 2172M\n",
            "[02/17 18:20:15 d2.utils.events]:  eta: 1 day, 5:56:11  iter: 32419  total_loss: 0.04071  loss_cls: 0.0006934  loss_box_reg: 0.04017  time: 0.6975  data_time: 0.0201  lr: 0.001  max_mem: 2172M\n",
            "[02/17 18:20:29 d2.utils.events]:  eta: 1 day, 5:54:41  iter: 32439  total_loss: 0.03927  loss_cls: 0.00116  loss_box_reg: 0.0381  time: 0.6975  data_time: 0.0245  lr: 0.001  max_mem: 2172M\n",
            "[02/17 18:20:43 d2.utils.events]:  eta: 1 day, 5:54:48  iter: 32459  total_loss: 0.05415  loss_cls: 0.001315  loss_box_reg: 0.05133  time: 0.6975  data_time: 0.0243  lr: 0.001  max_mem: 2172M\n",
            "[02/17 18:20:57 d2.utils.events]:  eta: 1 day, 5:55:27  iter: 32479  total_loss: 0.0434  loss_cls: 0.001059  loss_box_reg: 0.04206  time: 0.6975  data_time: 0.0197  lr: 0.001  max_mem: 2172M\n",
            "[02/17 18:21:11 d2.utils.events]:  eta: 1 day, 5:56:15  iter: 32499  total_loss: 0.03939  loss_cls: 0.000955  loss_box_reg: 0.03813  time: 0.6975  data_time: 0.0235  lr: 0.001  max_mem: 2172M\n",
            "[02/17 18:21:25 d2.utils.events]:  eta: 1 day, 5:55:00  iter: 32519  total_loss: 0.04458  loss_cls: 0.0008175  loss_box_reg: 0.04101  time: 0.6974  data_time: 0.0196  lr: 0.001  max_mem: 2172M\n",
            "[02/17 18:21:39 d2.utils.events]:  eta: 1 day, 5:55:08  iter: 32539  total_loss: 0.04267  loss_cls: 0.0008693  loss_box_reg: 0.04078  time: 0.6974  data_time: 0.0204  lr: 0.001  max_mem: 2172M\n",
            "[02/17 18:21:53 d2.utils.events]:  eta: 1 day, 5:55:31  iter: 32559  total_loss: 0.04752  loss_cls: 0.001095  loss_box_reg: 0.04542  time: 0.6975  data_time: 0.0266  lr: 0.001  max_mem: 2172M\n",
            "[02/17 18:22:07 d2.utils.events]:  eta: 1 day, 5:55:25  iter: 32579  total_loss: 0.04839  loss_cls: 0.000677  loss_box_reg: 0.04785  time: 0.6975  data_time: 0.0229  lr: 0.001  max_mem: 2172M\n",
            "[02/17 18:22:21 d2.utils.events]:  eta: 1 day, 5:54:01  iter: 32599  total_loss: 0.03845  loss_cls: 0.0009705  loss_box_reg: 0.03719  time: 0.6974  data_time: 0.0211  lr: 0.001  max_mem: 2172M\n",
            "[02/17 18:22:35 d2.utils.events]:  eta: 1 day, 5:54:43  iter: 32619  total_loss: 0.04144  loss_cls: 0.0007655  loss_box_reg: 0.04088  time: 0.6975  data_time: 0.0199  lr: 0.001  max_mem: 2172M\n",
            "[02/17 18:22:49 d2.utils.events]:  eta: 1 day, 5:53:55  iter: 32639  total_loss: 0.03519  loss_cls: 0.0009582  loss_box_reg: 0.03283  time: 0.6975  data_time: 0.0178  lr: 0.001  max_mem: 2172M\n",
            "[02/17 18:23:02 d2.utils.events]:  eta: 1 day, 5:53:18  iter: 32659  total_loss: 0.04323  loss_cls: 0.001506  loss_box_reg: 0.0409  time: 0.6974  data_time: 0.0196  lr: 0.001  max_mem: 2172M\n",
            "[02/17 18:23:16 d2.utils.events]:  eta: 1 day, 5:52:29  iter: 32679  total_loss: 0.03913  loss_cls: 0.001037  loss_box_reg: 0.03805  time: 0.6974  data_time: 0.0199  lr: 0.001  max_mem: 2172M\n",
            "[02/17 18:23:30 d2.utils.events]:  eta: 1 day, 5:51:53  iter: 32699  total_loss: 0.03862  loss_cls: 0.0007241  loss_box_reg: 0.03667  time: 0.6974  data_time: 0.0227  lr: 0.001  max_mem: 2172M\n",
            "[02/17 18:23:44 d2.utils.events]:  eta: 1 day, 5:51:16  iter: 32719  total_loss: 0.04122  loss_cls: 0.001173  loss_box_reg: 0.0402  time: 0.6974  data_time: 0.0206  lr: 0.001  max_mem: 2172M\n",
            "[02/17 18:23:58 d2.utils.events]:  eta: 1 day, 5:51:02  iter: 32739  total_loss: 0.0495  loss_cls: 0.0007797  loss_box_reg: 0.04822  time: 0.6974  data_time: 0.0170  lr: 0.001  max_mem: 2172M\n",
            "[02/17 18:24:11 d2.utils.events]:  eta: 1 day, 5:51:09  iter: 32759  total_loss: 0.04428  loss_cls: 0.000606  loss_box_reg: 0.04203  time: 0.6974  data_time: 0.0180  lr: 0.001  max_mem: 2172M\n",
            "[02/17 18:24:25 d2.utils.events]:  eta: 1 day, 5:51:10  iter: 32779  total_loss: 0.04481  loss_cls: 0.0009128  loss_box_reg: 0.04423  time: 0.6974  data_time: 0.0183  lr: 0.001  max_mem: 2172M\n",
            "[02/17 18:24:39 d2.utils.events]:  eta: 1 day, 5:48:17  iter: 32799  total_loss: 0.04965  loss_cls: 0.001515  loss_box_reg: 0.04487  time: 0.6974  data_time: 0.0182  lr: 0.001  max_mem: 2172M\n",
            "[02/17 18:24:54 d2.utils.events]:  eta: 1 day, 5:51:21  iter: 32819  total_loss: 0.04444  loss_cls: 0.001052  loss_box_reg: 0.04187  time: 0.6974  data_time: 0.0191  lr: 0.001  max_mem: 2172M\n",
            "[02/17 18:25:08 d2.utils.events]:  eta: 1 day, 5:50:50  iter: 32839  total_loss: 0.04882  loss_cls: 0.001451  loss_box_reg: 0.04606  time: 0.6974  data_time: 0.0205  lr: 0.001  max_mem: 2172M\n",
            "[02/17 18:25:22 d2.utils.events]:  eta: 1 day, 5:50:35  iter: 32859  total_loss: 0.04492  loss_cls: 0.0006085  loss_box_reg: 0.04394  time: 0.6974  data_time: 0.0249  lr: 0.001  max_mem: 2172M\n",
            "[02/17 18:25:35 d2.utils.events]:  eta: 1 day, 5:47:38  iter: 32879  total_loss: 0.04318  loss_cls: 0.0009634  loss_box_reg: 0.0416  time: 0.6974  data_time: 0.0191  lr: 0.001  max_mem: 2172M\n",
            "[02/17 18:25:49 d2.utils.events]:  eta: 1 day, 5:46:56  iter: 32899  total_loss: 0.04156  loss_cls: 0.0007894  loss_box_reg: 0.03858  time: 0.6974  data_time: 0.0269  lr: 0.001  max_mem: 2172M\n",
            "[02/17 18:26:03 d2.utils.events]:  eta: 1 day, 5:47:35  iter: 32919  total_loss: 0.0443  loss_cls: 0.0009037  loss_box_reg: 0.04268  time: 0.6974  data_time: 0.0226  lr: 0.001  max_mem: 2172M\n",
            "[02/17 18:26:17 d2.utils.events]:  eta: 1 day, 5:45:35  iter: 32939  total_loss: 0.05075  loss_cls: 0.0006625  loss_box_reg: 0.04976  time: 0.6974  data_time: 0.0208  lr: 0.001  max_mem: 2172M\n",
            "[02/17 18:26:31 d2.utils.events]:  eta: 1 day, 5:42:00  iter: 32959  total_loss: 0.05015  loss_cls: 0.0009122  loss_box_reg: 0.04879  time: 0.6974  data_time: 0.0225  lr: 0.001  max_mem: 2172M\n",
            "[02/17 18:26:45 d2.utils.events]:  eta: 1 day, 5:44:33  iter: 32979  total_loss: 0.03786  loss_cls: 0.0003708  loss_box_reg: 0.03504  time: 0.6974  data_time: 0.0220  lr: 0.001  max_mem: 2172M\n",
            "[02/17 18:26:59 d2.utils.events]:  eta: 1 day, 5:44:19  iter: 32999  total_loss: 0.04365  loss_cls: 0.001082  loss_box_reg: 0.04233  time: 0.6974  data_time: 0.0264  lr: 0.001  max_mem: 2172M\n",
            "[02/17 18:27:13 d2.utils.events]:  eta: 1 day, 5:41:48  iter: 33019  total_loss: 0.03966  loss_cls: 0.0009007  loss_box_reg: 0.03832  time: 0.6974  data_time: 0.0251  lr: 0.001  max_mem: 2172M\n",
            "[02/17 18:27:27 d2.utils.events]:  eta: 1 day, 5:41:34  iter: 33039  total_loss: 0.0415  loss_cls: 0.0006559  loss_box_reg: 0.04042  time: 0.6974  data_time: 0.0219  lr: 0.001  max_mem: 2172M\n",
            "[02/17 18:27:41 d2.utils.events]:  eta: 1 day, 5:40:21  iter: 33059  total_loss: 0.04731  loss_cls: 0.001238  loss_box_reg: 0.04491  time: 0.6974  data_time: 0.0222  lr: 0.001  max_mem: 2172M\n",
            "[02/17 18:27:55 d2.utils.events]:  eta: 1 day, 5:43:53  iter: 33079  total_loss: 0.04574  loss_cls: 0.0007354  loss_box_reg: 0.04335  time: 0.6974  data_time: 0.0217  lr: 0.001  max_mem: 2172M\n",
            "[02/17 18:28:09 d2.utils.events]:  eta: 1 day, 5:46:06  iter: 33099  total_loss: 0.04623  loss_cls: 0.001022  loss_box_reg: 0.04401  time: 0.6974  data_time: 0.0237  lr: 0.001  max_mem: 2172M\n",
            "[02/17 18:28:23 d2.utils.events]:  eta: 1 day, 5:45:51  iter: 33119  total_loss: 0.04638  loss_cls: 0.0006452  loss_box_reg: 0.04576  time: 0.6974  data_time: 0.0275  lr: 0.001  max_mem: 2172M\n",
            "[02/17 18:28:37 d2.utils.events]:  eta: 1 day, 5:46:03  iter: 33139  total_loss: 0.04668  loss_cls: 0.001036  loss_box_reg: 0.04553  time: 0.6974  data_time: 0.0205  lr: 0.001  max_mem: 2172M\n",
            "[02/17 18:28:52 d2.utils.events]:  eta: 1 day, 5:46:57  iter: 33159  total_loss: 0.0439  loss_cls: 0.0005333  loss_box_reg: 0.04283  time: 0.6975  data_time: 0.0247  lr: 0.001  max_mem: 2172M\n",
            "[02/17 18:29:06 d2.utils.events]:  eta: 1 day, 5:45:50  iter: 33179  total_loss: 0.03889  loss_cls: 0.001002  loss_box_reg: 0.03685  time: 0.6975  data_time: 0.0236  lr: 0.001  max_mem: 2172M\n",
            "[02/17 18:29:19 d2.utils.events]:  eta: 1 day, 5:44:45  iter: 33199  total_loss: 0.0433  loss_cls: 0.0005951  loss_box_reg: 0.04285  time: 0.6975  data_time: 0.0198  lr: 0.001  max_mem: 2172M\n",
            "[02/17 18:29:34 d2.utils.events]:  eta: 1 day, 5:45:53  iter: 33219  total_loss: 0.04087  loss_cls: 0.0009306  loss_box_reg: 0.04023  time: 0.6975  data_time: 0.0227  lr: 0.001  max_mem: 2172M\n",
            "[02/17 18:29:48 d2.utils.events]:  eta: 1 day, 5:45:39  iter: 33239  total_loss: 0.04777  loss_cls: 0.00111  loss_box_reg: 0.04637  time: 0.6975  data_time: 0.0243  lr: 0.001  max_mem: 2172M\n"
          ]
        }
      ]
    }
  ]
}