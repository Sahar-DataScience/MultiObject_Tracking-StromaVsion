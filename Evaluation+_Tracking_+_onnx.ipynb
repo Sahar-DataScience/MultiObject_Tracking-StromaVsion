{
  "nbformat": 4,
  "nbformat_minor": 0,
  "metadata": {
    "colab": {
      "provenance": [],
      "collapsed_sections": [
        "xoksHI4quPTA"
      ],
      "authorship_tag": "ABX9TyOuA6cqhupEJrokwsCrSQ9W",
      "include_colab_link": true
    },
    "kernelspec": {
      "name": "python3",
      "display_name": "Python 3"
    },
    "language_info": {
      "name": "python"
    },
    "accelerator": "GPU",
    "gpuClass": "standard",
    "widgets": {
      "application/vnd.jupyter.widget-state+json": {
        "2ac69010a4464e31b4cfb04cb98b9eb0": {
          "model_module": "@jupyter-widgets/controls",
          "model_name": "HBoxModel",
          "model_module_version": "1.5.0",
          "state": {
            "_dom_classes": [],
            "_model_module": "@jupyter-widgets/controls",
            "_model_module_version": "1.5.0",
            "_model_name": "HBoxModel",
            "_view_count": null,
            "_view_module": "@jupyter-widgets/controls",
            "_view_module_version": "1.5.0",
            "_view_name": "HBoxView",
            "box_style": "",
            "children": [
              "IPY_MODEL_66b4d65593d64c24821f4b246ec1ba2c",
              "IPY_MODEL_b0717c82db224fe0b9084b61af0b2819",
              "IPY_MODEL_1c09584abb7c421a8ee35cf92fb1818c"
            ],
            "layout": "IPY_MODEL_3448ca47c9ef43b98202e25614b25d15"
          }
        },
        "66b4d65593d64c24821f4b246ec1ba2c": {
          "model_module": "@jupyter-widgets/controls",
          "model_name": "HTMLModel",
          "model_module_version": "1.5.0",
          "state": {
            "_dom_classes": [],
            "_model_module": "@jupyter-widgets/controls",
            "_model_module_version": "1.5.0",
            "_model_name": "HTMLModel",
            "_view_count": null,
            "_view_module": "@jupyter-widgets/controls",
            "_view_module_version": "1.5.0",
            "_view_name": "HTMLView",
            "description": "",
            "description_tooltip": null,
            "layout": "IPY_MODEL_f1d81a16eb4143eebeaa88692f997c74",
            "placeholder": "​",
            "style": "IPY_MODEL_b63970c67d5245eeb510ec89cf2bae20",
            "value": "100%"
          }
        },
        "b0717c82db224fe0b9084b61af0b2819": {
          "model_module": "@jupyter-widgets/controls",
          "model_name": "FloatProgressModel",
          "model_module_version": "1.5.0",
          "state": {
            "_dom_classes": [],
            "_model_module": "@jupyter-widgets/controls",
            "_model_module_version": "1.5.0",
            "_model_name": "FloatProgressModel",
            "_view_count": null,
            "_view_module": "@jupyter-widgets/controls",
            "_view_module_version": "1.5.0",
            "_view_name": "ProgressView",
            "bar_style": "success",
            "description": "",
            "description_tooltip": null,
            "layout": "IPY_MODEL_39ac5784f88346a5ad224da7bbe2a3cb",
            "max": 1800,
            "min": 0,
            "orientation": "horizontal",
            "style": "IPY_MODEL_09299982a7b44e33800881ee0f7cd659",
            "value": 1800
          }
        },
        "1c09584abb7c421a8ee35cf92fb1818c": {
          "model_module": "@jupyter-widgets/controls",
          "model_name": "HTMLModel",
          "model_module_version": "1.5.0",
          "state": {
            "_dom_classes": [],
            "_model_module": "@jupyter-widgets/controls",
            "_model_module_version": "1.5.0",
            "_model_name": "HTMLModel",
            "_view_count": null,
            "_view_module": "@jupyter-widgets/controls",
            "_view_module_version": "1.5.0",
            "_view_name": "HTMLView",
            "description": "",
            "description_tooltip": null,
            "layout": "IPY_MODEL_919dd8de01014fc58f0b298316542333",
            "placeholder": "​",
            "style": "IPY_MODEL_6a3238ce21a3479ca33a10db0300c06f",
            "value": " 1800/1800 [03:01&lt;00:00, 10.14it/s]"
          }
        },
        "3448ca47c9ef43b98202e25614b25d15": {
          "model_module": "@jupyter-widgets/base",
          "model_name": "LayoutModel",
          "model_module_version": "1.2.0",
          "state": {
            "_model_module": "@jupyter-widgets/base",
            "_model_module_version": "1.2.0",
            "_model_name": "LayoutModel",
            "_view_count": null,
            "_view_module": "@jupyter-widgets/base",
            "_view_module_version": "1.2.0",
            "_view_name": "LayoutView",
            "align_content": null,
            "align_items": null,
            "align_self": null,
            "border": null,
            "bottom": null,
            "display": null,
            "flex": null,
            "flex_flow": null,
            "grid_area": null,
            "grid_auto_columns": null,
            "grid_auto_flow": null,
            "grid_auto_rows": null,
            "grid_column": null,
            "grid_gap": null,
            "grid_row": null,
            "grid_template_areas": null,
            "grid_template_columns": null,
            "grid_template_rows": null,
            "height": null,
            "justify_content": null,
            "justify_items": null,
            "left": null,
            "margin": null,
            "max_height": null,
            "max_width": null,
            "min_height": null,
            "min_width": null,
            "object_fit": null,
            "object_position": null,
            "order": null,
            "overflow": null,
            "overflow_x": null,
            "overflow_y": null,
            "padding": null,
            "right": null,
            "top": null,
            "visibility": null,
            "width": null
          }
        },
        "f1d81a16eb4143eebeaa88692f997c74": {
          "model_module": "@jupyter-widgets/base",
          "model_name": "LayoutModel",
          "model_module_version": "1.2.0",
          "state": {
            "_model_module": "@jupyter-widgets/base",
            "_model_module_version": "1.2.0",
            "_model_name": "LayoutModel",
            "_view_count": null,
            "_view_module": "@jupyter-widgets/base",
            "_view_module_version": "1.2.0",
            "_view_name": "LayoutView",
            "align_content": null,
            "align_items": null,
            "align_self": null,
            "border": null,
            "bottom": null,
            "display": null,
            "flex": null,
            "flex_flow": null,
            "grid_area": null,
            "grid_auto_columns": null,
            "grid_auto_flow": null,
            "grid_auto_rows": null,
            "grid_column": null,
            "grid_gap": null,
            "grid_row": null,
            "grid_template_areas": null,
            "grid_template_columns": null,
            "grid_template_rows": null,
            "height": null,
            "justify_content": null,
            "justify_items": null,
            "left": null,
            "margin": null,
            "max_height": null,
            "max_width": null,
            "min_height": null,
            "min_width": null,
            "object_fit": null,
            "object_position": null,
            "order": null,
            "overflow": null,
            "overflow_x": null,
            "overflow_y": null,
            "padding": null,
            "right": null,
            "top": null,
            "visibility": null,
            "width": null
          }
        },
        "b63970c67d5245eeb510ec89cf2bae20": {
          "model_module": "@jupyter-widgets/controls",
          "model_name": "DescriptionStyleModel",
          "model_module_version": "1.5.0",
          "state": {
            "_model_module": "@jupyter-widgets/controls",
            "_model_module_version": "1.5.0",
            "_model_name": "DescriptionStyleModel",
            "_view_count": null,
            "_view_module": "@jupyter-widgets/base",
            "_view_module_version": "1.2.0",
            "_view_name": "StyleView",
            "description_width": ""
          }
        },
        "39ac5784f88346a5ad224da7bbe2a3cb": {
          "model_module": "@jupyter-widgets/base",
          "model_name": "LayoutModel",
          "model_module_version": "1.2.0",
          "state": {
            "_model_module": "@jupyter-widgets/base",
            "_model_module_version": "1.2.0",
            "_model_name": "LayoutModel",
            "_view_count": null,
            "_view_module": "@jupyter-widgets/base",
            "_view_module_version": "1.2.0",
            "_view_name": "LayoutView",
            "align_content": null,
            "align_items": null,
            "align_self": null,
            "border": null,
            "bottom": null,
            "display": null,
            "flex": null,
            "flex_flow": null,
            "grid_area": null,
            "grid_auto_columns": null,
            "grid_auto_flow": null,
            "grid_auto_rows": null,
            "grid_column": null,
            "grid_gap": null,
            "grid_row": null,
            "grid_template_areas": null,
            "grid_template_columns": null,
            "grid_template_rows": null,
            "height": null,
            "justify_content": null,
            "justify_items": null,
            "left": null,
            "margin": null,
            "max_height": null,
            "max_width": null,
            "min_height": null,
            "min_width": null,
            "object_fit": null,
            "object_position": null,
            "order": null,
            "overflow": null,
            "overflow_x": null,
            "overflow_y": null,
            "padding": null,
            "right": null,
            "top": null,
            "visibility": null,
            "width": null
          }
        },
        "09299982a7b44e33800881ee0f7cd659": {
          "model_module": "@jupyter-widgets/controls",
          "model_name": "ProgressStyleModel",
          "model_module_version": "1.5.0",
          "state": {
            "_model_module": "@jupyter-widgets/controls",
            "_model_module_version": "1.5.0",
            "_model_name": "ProgressStyleModel",
            "_view_count": null,
            "_view_module": "@jupyter-widgets/base",
            "_view_module_version": "1.2.0",
            "_view_name": "StyleView",
            "bar_color": null,
            "description_width": ""
          }
        },
        "919dd8de01014fc58f0b298316542333": {
          "model_module": "@jupyter-widgets/base",
          "model_name": "LayoutModel",
          "model_module_version": "1.2.0",
          "state": {
            "_model_module": "@jupyter-widgets/base",
            "_model_module_version": "1.2.0",
            "_model_name": "LayoutModel",
            "_view_count": null,
            "_view_module": "@jupyter-widgets/base",
            "_view_module_version": "1.2.0",
            "_view_name": "LayoutView",
            "align_content": null,
            "align_items": null,
            "align_self": null,
            "border": null,
            "bottom": null,
            "display": null,
            "flex": null,
            "flex_flow": null,
            "grid_area": null,
            "grid_auto_columns": null,
            "grid_auto_flow": null,
            "grid_auto_rows": null,
            "grid_column": null,
            "grid_gap": null,
            "grid_row": null,
            "grid_template_areas": null,
            "grid_template_columns": null,
            "grid_template_rows": null,
            "height": null,
            "justify_content": null,
            "justify_items": null,
            "left": null,
            "margin": null,
            "max_height": null,
            "max_width": null,
            "min_height": null,
            "min_width": null,
            "object_fit": null,
            "object_position": null,
            "order": null,
            "overflow": null,
            "overflow_x": null,
            "overflow_y": null,
            "padding": null,
            "right": null,
            "top": null,
            "visibility": null,
            "width": null
          }
        },
        "6a3238ce21a3479ca33a10db0300c06f": {
          "model_module": "@jupyter-widgets/controls",
          "model_name": "DescriptionStyleModel",
          "model_module_version": "1.5.0",
          "state": {
            "_model_module": "@jupyter-widgets/controls",
            "_model_module_version": "1.5.0",
            "_model_name": "DescriptionStyleModel",
            "_view_count": null,
            "_view_module": "@jupyter-widgets/base",
            "_view_module_version": "1.2.0",
            "_view_name": "StyleView",
            "description_width": ""
          }
        }
      }
    }
  },
  "cells": [
    {
      "cell_type": "markdown",
      "metadata": {
        "id": "view-in-github",
        "colab_type": "text"
      },
      "source": [
        "<a href=\"https://colab.research.google.com/github/Sahar-DataScience/MultiObject_Tracking-StromaVsion/blob/main/Evaluation%2B_Tracking_%2B_onnx.ipynb\" target=\"_parent\"><img src=\"https://colab.research.google.com/assets/colab-badge.svg\" alt=\"Open In Colab\"/></a>"
      ]
    },
    {
      "cell_type": "code",
      "execution_count": 1,
      "metadata": {
        "colab": {
          "base_uri": "https://localhost:8080/"
        },
        "id": "eoDbhRiFjS5A",
        "outputId": "78cef7fc-b007-4d66-ad35-beb175950b12"
      },
      "outputs": [
        {
          "output_type": "stream",
          "name": "stdout",
          "text": [
            "Drive already mounted at /content/drive; to attempt to forcibly remount, call drive.mount(\"/content/drive\", force_remount=True).\n"
          ]
        }
      ],
      "source": [
        "from google.colab import drive\n",
        "drive.mount('/content/drive')"
      ]
    },
    {
      "cell_type": "code",
      "source": [
        "import os\n",
        "os.chdir('/content/drive/MyDrive/tracking')"
      ],
      "metadata": {
        "id": "bwp2bUTNknXZ"
      },
      "execution_count": 2,
      "outputs": []
    },
    {
      "cell_type": "markdown",
      "source": [
        "##extract testset from video"
      ],
      "metadata": {
        "id": "p6_urAlAoVKA"
      }
    },
    {
      "cell_type": "code",
      "source": [
        "#!pip install ffmpeg-python"
      ],
      "metadata": {
        "colab": {
          "base_uri": "https://localhost:8080/"
        },
        "id": "KW4W3YuIkN0E",
        "outputId": "c52579e3-9fb8-4ffd-b1cd-04f076b56724"
      },
      "execution_count": null,
      "outputs": [
        {
          "output_type": "stream",
          "name": "stdout",
          "text": [
            "Looking in indexes: https://pypi.org/simple, https://us-python.pkg.dev/colab-wheels/public/simple/\n",
            "Collecting ffmpeg-python\n",
            "  Downloading ffmpeg_python-0.2.0-py3-none-any.whl (25 kB)\n",
            "Requirement already satisfied: future in /usr/local/lib/python3.8/dist-packages (from ffmpeg-python) (0.16.0)\n",
            "Installing collected packages: ffmpeg-python\n",
            "Successfully installed ffmpeg-python-0.2.0\n"
          ]
        }
      ]
    },
    {
      "cell_type": "code",
      "source": [
        "#!ffmpeg -i ./data/challenge/images/test.mp4 -s 640x640 -vf fps=30 ./data/challenge/images/test/%04d.jpg"
      ],
      "metadata": {
        "colab": {
          "base_uri": "https://localhost:8080/"
        },
        "id": "AAKzYPuSlFyk",
        "outputId": "35336fe6-06d9-40b2-ee8a-0cad8de1b95f"
      },
      "execution_count": null,
      "outputs": [
        {
          "output_type": "stream",
          "name": "stdout",
          "text": [
            "ffmpeg version 4.2.7-0ubuntu0.1 Copyright (c) 2000-2022 the FFmpeg developers\n",
            "  built with gcc 9 (Ubuntu 9.4.0-1ubuntu1~20.04.1)\n",
            "  configuration: --prefix=/usr --extra-version=0ubuntu0.1 --toolchain=hardened --libdir=/usr/lib/x86_64-linux-gnu --incdir=/usr/include/x86_64-linux-gnu --arch=amd64 --enable-gpl --disable-stripping --enable-avresample --disable-filter=resample --enable-avisynth --enable-gnutls --enable-ladspa --enable-libaom --enable-libass --enable-libbluray --enable-libbs2b --enable-libcaca --enable-libcdio --enable-libcodec2 --enable-libflite --enable-libfontconfig --enable-libfreetype --enable-libfribidi --enable-libgme --enable-libgsm --enable-libjack --enable-libmp3lame --enable-libmysofa --enable-libopenjpeg --enable-libopenmpt --enable-libopus --enable-libpulse --enable-librsvg --enable-librubberband --enable-libshine --enable-libsnappy --enable-libsoxr --enable-libspeex --enable-libssh --enable-libtheora --enable-libtwolame --enable-libvidstab --enable-libvorbis --enable-libvpx --enable-libwavpack --enable-libwebp --enable-libx265 --enable-libxml2 --enable-libxvid --enable-libzmq --enable-libzvbi --enable-lv2 --enable-omx --enable-openal --enable-opencl --enable-opengl --enable-sdl2 --enable-libdc1394 --enable-libdrm --enable-libiec61883 --enable-nvenc --enable-chromaprint --enable-frei0r --enable-libx264 --enable-shared\n",
            "  libavutil      56. 31.100 / 56. 31.100\n",
            "  libavcodec     58. 54.100 / 58. 54.100\n",
            "  libavformat    58. 29.100 / 58. 29.100\n",
            "  libavdevice    58.  8.100 / 58.  8.100\n",
            "  libavfilter     7. 57.100 /  7. 57.100\n",
            "  libavresample   4.  0.  0 /  4.  0.  0\n",
            "  libswscale      5.  5.100 /  5.  5.100\n",
            "  libswresample   3.  5.100 /  3.  5.100\n",
            "  libpostproc    55.  5.100 / 55.  5.100\n",
            "Input #0, mov,mp4,m4a,3gp,3g2,mj2, from './data/challenge/images/test.mp4':\n",
            "  Metadata:\n",
            "    major_brand     : isom\n",
            "    minor_version   : 512\n",
            "    compatible_brands: isomiso2mp41\n",
            "    encoder         : Lavf59.27.100\n",
            "  Duration: 00:01:00.00, start: 0.000000, bitrate: 2960 kb/s\n",
            "    Stream #0:0(und): Video: hevc (Main) (hev1 / 0x31766568), yuvj420p(pc, bt470bg/unknown/unknown, progressive), 640x640 [SAR 1:1 DAR 1:1], 2957 kb/s, 30 fps, 30 tbr, 15360 tbn, 30 tbc (default)\n",
            "    Metadata:\n",
            "      handler_name    : VideoHandler\n",
            "      encoder         : Lavc59.37.100 libx265\n",
            "Stream mapping:\n",
            "  Stream #0:0 -> #0:0 (hevc (native) -> mjpeg (native))\n",
            "Press [q] to stop, [?] for help\n",
            "Output #0, image2, to './data/challenge/images/test/%04d.jpg':\n",
            "  Metadata:\n",
            "    major_brand     : isom\n",
            "    minor_version   : 512\n",
            "    compatible_brands: isomiso2mp41\n",
            "    encoder         : Lavf58.29.100\n",
            "    Stream #0:0(und): Video: mjpeg, yuvj420p(pc), 640x640 [SAR 1:1 DAR 1:1], q=2-31, 200 kb/s, 30 fps, 30 tbn, 30 tbc (default)\n",
            "    Metadata:\n",
            "      handler_name    : VideoHandler\n",
            "      encoder         : Lavc58.54.100 mjpeg\n",
            "    Side data:\n",
            "      cpb: bitrate max/min/avg: 0/0/200000 buffer size: 0 vbv_delay: -1\n",
            "frame= 1800 fps= 63 q=24.8 Lsize=N/A time=00:01:00.00 bitrate=N/A speed= 2.1x    \n",
            "video:11450kB audio:0kB subtitle:0kB other streams:0kB global headers:0kB muxing overhead: unknown\n"
          ]
        }
      ]
    },
    {
      "cell_type": "code",
      "source": [
        "import glob\n",
        "from PIL import Image\n",
        "def correct_filenames(folder_path):\n",
        "  assert folder_path.endswith('/') , 'incorrect path'\n",
        "  #make some changes in file names to make it start from 0000.jpg instead of 0001.jpg\n",
        "  for file_name in glob.glob(folder_path + '/*.jpg'):\n",
        "    img = Image.open(file_name)\n",
        "    file_name = file_name.split('/')[-1]\n",
        "    file_id = int(file_name[:4])\n",
        "    new_file = folder_path + str(file_id - 1).zfill(4)+'.jpg'\n",
        "    print(new_file)\n",
        "    img.save(new_file)"
      ],
      "metadata": {
        "id": "9797SU74lXKi"
      },
      "execution_count": null,
      "outputs": []
    },
    {
      "cell_type": "code",
      "source": [
        "#folder_path = \"/content/drive/MyDrive/tracking/data/challenge/images/test/\"\n",
        "#correct_filenames(folder_path)"
      ],
      "metadata": {
        "colab": {
          "base_uri": "https://localhost:8080/"
        },
        "id": "e1QxwXSklli_",
        "outputId": "92eb1734-7b75-40ca-bc26-7438cde99324"
      },
      "execution_count": null,
      "outputs": [
        {
          "output_type": "stream",
          "name": "stdout",
          "text": [
            "/content/drive/MyDrive/tracking/data/challenge/images/test/0000.jpg\n",
            "/content/drive/MyDrive/tracking/data/challenge/images/test/0001.jpg\n",
            "/content/drive/MyDrive/tracking/data/challenge/images/test/0002.jpg\n",
            "/content/drive/MyDrive/tracking/data/challenge/images/test/0003.jpg\n",
            "/content/drive/MyDrive/tracking/data/challenge/images/test/0004.jpg\n",
            "/content/drive/MyDrive/tracking/data/challenge/images/test/0005.jpg\n",
            "/content/drive/MyDrive/tracking/data/challenge/images/test/0006.jpg\n",
            "/content/drive/MyDrive/tracking/data/challenge/images/test/0007.jpg\n",
            "/content/drive/MyDrive/tracking/data/challenge/images/test/0008.jpg\n",
            "/content/drive/MyDrive/tracking/data/challenge/images/test/0009.jpg\n",
            "/content/drive/MyDrive/tracking/data/challenge/images/test/0010.jpg\n",
            "/content/drive/MyDrive/tracking/data/challenge/images/test/0011.jpg\n",
            "/content/drive/MyDrive/tracking/data/challenge/images/test/0012.jpg\n",
            "/content/drive/MyDrive/tracking/data/challenge/images/test/0013.jpg\n",
            "/content/drive/MyDrive/tracking/data/challenge/images/test/0014.jpg\n",
            "/content/drive/MyDrive/tracking/data/challenge/images/test/0015.jpg\n",
            "/content/drive/MyDrive/tracking/data/challenge/images/test/0016.jpg\n",
            "/content/drive/MyDrive/tracking/data/challenge/images/test/0017.jpg\n",
            "/content/drive/MyDrive/tracking/data/challenge/images/test/0018.jpg\n",
            "/content/drive/MyDrive/tracking/data/challenge/images/test/0019.jpg\n",
            "/content/drive/MyDrive/tracking/data/challenge/images/test/0020.jpg\n",
            "/content/drive/MyDrive/tracking/data/challenge/images/test/0021.jpg\n",
            "/content/drive/MyDrive/tracking/data/challenge/images/test/0022.jpg\n",
            "/content/drive/MyDrive/tracking/data/challenge/images/test/0023.jpg\n",
            "/content/drive/MyDrive/tracking/data/challenge/images/test/0024.jpg\n",
            "/content/drive/MyDrive/tracking/data/challenge/images/test/0025.jpg\n",
            "/content/drive/MyDrive/tracking/data/challenge/images/test/0026.jpg\n",
            "/content/drive/MyDrive/tracking/data/challenge/images/test/0027.jpg\n",
            "/content/drive/MyDrive/tracking/data/challenge/images/test/0028.jpg\n",
            "/content/drive/MyDrive/tracking/data/challenge/images/test/0029.jpg\n",
            "/content/drive/MyDrive/tracking/data/challenge/images/test/0030.jpg\n",
            "/content/drive/MyDrive/tracking/data/challenge/images/test/0031.jpg\n",
            "/content/drive/MyDrive/tracking/data/challenge/images/test/0032.jpg\n",
            "/content/drive/MyDrive/tracking/data/challenge/images/test/0033.jpg\n",
            "/content/drive/MyDrive/tracking/data/challenge/images/test/0034.jpg\n",
            "/content/drive/MyDrive/tracking/data/challenge/images/test/0035.jpg\n",
            "/content/drive/MyDrive/tracking/data/challenge/images/test/0036.jpg\n",
            "/content/drive/MyDrive/tracking/data/challenge/images/test/0037.jpg\n",
            "/content/drive/MyDrive/tracking/data/challenge/images/test/0038.jpg\n",
            "/content/drive/MyDrive/tracking/data/challenge/images/test/0039.jpg\n",
            "/content/drive/MyDrive/tracking/data/challenge/images/test/0040.jpg\n",
            "/content/drive/MyDrive/tracking/data/challenge/images/test/0041.jpg\n",
            "/content/drive/MyDrive/tracking/data/challenge/images/test/0042.jpg\n",
            "/content/drive/MyDrive/tracking/data/challenge/images/test/0043.jpg\n",
            "/content/drive/MyDrive/tracking/data/challenge/images/test/0044.jpg\n",
            "/content/drive/MyDrive/tracking/data/challenge/images/test/0045.jpg\n",
            "/content/drive/MyDrive/tracking/data/challenge/images/test/0046.jpg\n",
            "/content/drive/MyDrive/tracking/data/challenge/images/test/0047.jpg\n",
            "/content/drive/MyDrive/tracking/data/challenge/images/test/0048.jpg\n",
            "/content/drive/MyDrive/tracking/data/challenge/images/test/0049.jpg\n",
            "/content/drive/MyDrive/tracking/data/challenge/images/test/0050.jpg\n",
            "/content/drive/MyDrive/tracking/data/challenge/images/test/0051.jpg\n",
            "/content/drive/MyDrive/tracking/data/challenge/images/test/0052.jpg\n",
            "/content/drive/MyDrive/tracking/data/challenge/images/test/0053.jpg\n",
            "/content/drive/MyDrive/tracking/data/challenge/images/test/0054.jpg\n",
            "/content/drive/MyDrive/tracking/data/challenge/images/test/0055.jpg\n",
            "/content/drive/MyDrive/tracking/data/challenge/images/test/0056.jpg\n",
            "/content/drive/MyDrive/tracking/data/challenge/images/test/0057.jpg\n",
            "/content/drive/MyDrive/tracking/data/challenge/images/test/0058.jpg\n",
            "/content/drive/MyDrive/tracking/data/challenge/images/test/0059.jpg\n",
            "/content/drive/MyDrive/tracking/data/challenge/images/test/0060.jpg\n",
            "/content/drive/MyDrive/tracking/data/challenge/images/test/0061.jpg\n",
            "/content/drive/MyDrive/tracking/data/challenge/images/test/0062.jpg\n",
            "/content/drive/MyDrive/tracking/data/challenge/images/test/0063.jpg\n",
            "/content/drive/MyDrive/tracking/data/challenge/images/test/0064.jpg\n",
            "/content/drive/MyDrive/tracking/data/challenge/images/test/0065.jpg\n",
            "/content/drive/MyDrive/tracking/data/challenge/images/test/0066.jpg\n",
            "/content/drive/MyDrive/tracking/data/challenge/images/test/0067.jpg\n",
            "/content/drive/MyDrive/tracking/data/challenge/images/test/0068.jpg\n",
            "/content/drive/MyDrive/tracking/data/challenge/images/test/0069.jpg\n",
            "/content/drive/MyDrive/tracking/data/challenge/images/test/0070.jpg\n",
            "/content/drive/MyDrive/tracking/data/challenge/images/test/0071.jpg\n",
            "/content/drive/MyDrive/tracking/data/challenge/images/test/0072.jpg\n",
            "/content/drive/MyDrive/tracking/data/challenge/images/test/0073.jpg\n",
            "/content/drive/MyDrive/tracking/data/challenge/images/test/0074.jpg\n",
            "/content/drive/MyDrive/tracking/data/challenge/images/test/0075.jpg\n",
            "/content/drive/MyDrive/tracking/data/challenge/images/test/0076.jpg\n",
            "/content/drive/MyDrive/tracking/data/challenge/images/test/0077.jpg\n",
            "/content/drive/MyDrive/tracking/data/challenge/images/test/0078.jpg\n",
            "/content/drive/MyDrive/tracking/data/challenge/images/test/0079.jpg\n",
            "/content/drive/MyDrive/tracking/data/challenge/images/test/0080.jpg\n",
            "/content/drive/MyDrive/tracking/data/challenge/images/test/0081.jpg\n",
            "/content/drive/MyDrive/tracking/data/challenge/images/test/0082.jpg\n",
            "/content/drive/MyDrive/tracking/data/challenge/images/test/0083.jpg\n",
            "/content/drive/MyDrive/tracking/data/challenge/images/test/0084.jpg\n",
            "/content/drive/MyDrive/tracking/data/challenge/images/test/0085.jpg\n",
            "/content/drive/MyDrive/tracking/data/challenge/images/test/0086.jpg\n",
            "/content/drive/MyDrive/tracking/data/challenge/images/test/0087.jpg\n",
            "/content/drive/MyDrive/tracking/data/challenge/images/test/0088.jpg\n",
            "/content/drive/MyDrive/tracking/data/challenge/images/test/0089.jpg\n",
            "/content/drive/MyDrive/tracking/data/challenge/images/test/0090.jpg\n",
            "/content/drive/MyDrive/tracking/data/challenge/images/test/0091.jpg\n",
            "/content/drive/MyDrive/tracking/data/challenge/images/test/0092.jpg\n",
            "/content/drive/MyDrive/tracking/data/challenge/images/test/0093.jpg\n",
            "/content/drive/MyDrive/tracking/data/challenge/images/test/0094.jpg\n",
            "/content/drive/MyDrive/tracking/data/challenge/images/test/0095.jpg\n",
            "/content/drive/MyDrive/tracking/data/challenge/images/test/0096.jpg\n",
            "/content/drive/MyDrive/tracking/data/challenge/images/test/0097.jpg\n",
            "/content/drive/MyDrive/tracking/data/challenge/images/test/0098.jpg\n",
            "/content/drive/MyDrive/tracking/data/challenge/images/test/0099.jpg\n",
            "/content/drive/MyDrive/tracking/data/challenge/images/test/0100.jpg\n",
            "/content/drive/MyDrive/tracking/data/challenge/images/test/0101.jpg\n",
            "/content/drive/MyDrive/tracking/data/challenge/images/test/0102.jpg\n",
            "/content/drive/MyDrive/tracking/data/challenge/images/test/0103.jpg\n",
            "/content/drive/MyDrive/tracking/data/challenge/images/test/0104.jpg\n",
            "/content/drive/MyDrive/tracking/data/challenge/images/test/0105.jpg\n",
            "/content/drive/MyDrive/tracking/data/challenge/images/test/0106.jpg\n",
            "/content/drive/MyDrive/tracking/data/challenge/images/test/0107.jpg\n",
            "/content/drive/MyDrive/tracking/data/challenge/images/test/0108.jpg\n",
            "/content/drive/MyDrive/tracking/data/challenge/images/test/0109.jpg\n",
            "/content/drive/MyDrive/tracking/data/challenge/images/test/0110.jpg\n",
            "/content/drive/MyDrive/tracking/data/challenge/images/test/0111.jpg\n",
            "/content/drive/MyDrive/tracking/data/challenge/images/test/0112.jpg\n",
            "/content/drive/MyDrive/tracking/data/challenge/images/test/0113.jpg\n",
            "/content/drive/MyDrive/tracking/data/challenge/images/test/0114.jpg\n",
            "/content/drive/MyDrive/tracking/data/challenge/images/test/0115.jpg\n",
            "/content/drive/MyDrive/tracking/data/challenge/images/test/0116.jpg\n",
            "/content/drive/MyDrive/tracking/data/challenge/images/test/0117.jpg\n",
            "/content/drive/MyDrive/tracking/data/challenge/images/test/0118.jpg\n",
            "/content/drive/MyDrive/tracking/data/challenge/images/test/0119.jpg\n",
            "/content/drive/MyDrive/tracking/data/challenge/images/test/0120.jpg\n",
            "/content/drive/MyDrive/tracking/data/challenge/images/test/0121.jpg\n",
            "/content/drive/MyDrive/tracking/data/challenge/images/test/0122.jpg\n",
            "/content/drive/MyDrive/tracking/data/challenge/images/test/0123.jpg\n",
            "/content/drive/MyDrive/tracking/data/challenge/images/test/0124.jpg\n",
            "/content/drive/MyDrive/tracking/data/challenge/images/test/0125.jpg\n",
            "/content/drive/MyDrive/tracking/data/challenge/images/test/0126.jpg\n",
            "/content/drive/MyDrive/tracking/data/challenge/images/test/0127.jpg\n",
            "/content/drive/MyDrive/tracking/data/challenge/images/test/0128.jpg\n",
            "/content/drive/MyDrive/tracking/data/challenge/images/test/0129.jpg\n",
            "/content/drive/MyDrive/tracking/data/challenge/images/test/0130.jpg\n",
            "/content/drive/MyDrive/tracking/data/challenge/images/test/0131.jpg\n",
            "/content/drive/MyDrive/tracking/data/challenge/images/test/0132.jpg\n",
            "/content/drive/MyDrive/tracking/data/challenge/images/test/0133.jpg\n",
            "/content/drive/MyDrive/tracking/data/challenge/images/test/0134.jpg\n",
            "/content/drive/MyDrive/tracking/data/challenge/images/test/0135.jpg\n",
            "/content/drive/MyDrive/tracking/data/challenge/images/test/0136.jpg\n",
            "/content/drive/MyDrive/tracking/data/challenge/images/test/0137.jpg\n",
            "/content/drive/MyDrive/tracking/data/challenge/images/test/0138.jpg\n",
            "/content/drive/MyDrive/tracking/data/challenge/images/test/0139.jpg\n",
            "/content/drive/MyDrive/tracking/data/challenge/images/test/0140.jpg\n",
            "/content/drive/MyDrive/tracking/data/challenge/images/test/0141.jpg\n",
            "/content/drive/MyDrive/tracking/data/challenge/images/test/0142.jpg\n",
            "/content/drive/MyDrive/tracking/data/challenge/images/test/0143.jpg\n",
            "/content/drive/MyDrive/tracking/data/challenge/images/test/0144.jpg\n",
            "/content/drive/MyDrive/tracking/data/challenge/images/test/0145.jpg\n",
            "/content/drive/MyDrive/tracking/data/challenge/images/test/0146.jpg\n",
            "/content/drive/MyDrive/tracking/data/challenge/images/test/0147.jpg\n",
            "/content/drive/MyDrive/tracking/data/challenge/images/test/0148.jpg\n",
            "/content/drive/MyDrive/tracking/data/challenge/images/test/0149.jpg\n",
            "/content/drive/MyDrive/tracking/data/challenge/images/test/0150.jpg\n",
            "/content/drive/MyDrive/tracking/data/challenge/images/test/0151.jpg\n",
            "/content/drive/MyDrive/tracking/data/challenge/images/test/0152.jpg\n",
            "/content/drive/MyDrive/tracking/data/challenge/images/test/0153.jpg\n",
            "/content/drive/MyDrive/tracking/data/challenge/images/test/0154.jpg\n",
            "/content/drive/MyDrive/tracking/data/challenge/images/test/0155.jpg\n",
            "/content/drive/MyDrive/tracking/data/challenge/images/test/0156.jpg\n",
            "/content/drive/MyDrive/tracking/data/challenge/images/test/0157.jpg\n",
            "/content/drive/MyDrive/tracking/data/challenge/images/test/0158.jpg\n",
            "/content/drive/MyDrive/tracking/data/challenge/images/test/0159.jpg\n",
            "/content/drive/MyDrive/tracking/data/challenge/images/test/0160.jpg\n",
            "/content/drive/MyDrive/tracking/data/challenge/images/test/0161.jpg\n",
            "/content/drive/MyDrive/tracking/data/challenge/images/test/0162.jpg\n",
            "/content/drive/MyDrive/tracking/data/challenge/images/test/0163.jpg\n",
            "/content/drive/MyDrive/tracking/data/challenge/images/test/0164.jpg\n",
            "/content/drive/MyDrive/tracking/data/challenge/images/test/0165.jpg\n",
            "/content/drive/MyDrive/tracking/data/challenge/images/test/0166.jpg\n",
            "/content/drive/MyDrive/tracking/data/challenge/images/test/0167.jpg\n",
            "/content/drive/MyDrive/tracking/data/challenge/images/test/0168.jpg\n",
            "/content/drive/MyDrive/tracking/data/challenge/images/test/0169.jpg\n",
            "/content/drive/MyDrive/tracking/data/challenge/images/test/0170.jpg\n",
            "/content/drive/MyDrive/tracking/data/challenge/images/test/0171.jpg\n",
            "/content/drive/MyDrive/tracking/data/challenge/images/test/0172.jpg\n",
            "/content/drive/MyDrive/tracking/data/challenge/images/test/0173.jpg\n",
            "/content/drive/MyDrive/tracking/data/challenge/images/test/0174.jpg\n",
            "/content/drive/MyDrive/tracking/data/challenge/images/test/0175.jpg\n",
            "/content/drive/MyDrive/tracking/data/challenge/images/test/0176.jpg\n",
            "/content/drive/MyDrive/tracking/data/challenge/images/test/0177.jpg\n",
            "/content/drive/MyDrive/tracking/data/challenge/images/test/0178.jpg\n",
            "/content/drive/MyDrive/tracking/data/challenge/images/test/0179.jpg\n",
            "/content/drive/MyDrive/tracking/data/challenge/images/test/0180.jpg\n",
            "/content/drive/MyDrive/tracking/data/challenge/images/test/0181.jpg\n",
            "/content/drive/MyDrive/tracking/data/challenge/images/test/0182.jpg\n",
            "/content/drive/MyDrive/tracking/data/challenge/images/test/0183.jpg\n",
            "/content/drive/MyDrive/tracking/data/challenge/images/test/0184.jpg\n",
            "/content/drive/MyDrive/tracking/data/challenge/images/test/0185.jpg\n",
            "/content/drive/MyDrive/tracking/data/challenge/images/test/0186.jpg\n",
            "/content/drive/MyDrive/tracking/data/challenge/images/test/0187.jpg\n",
            "/content/drive/MyDrive/tracking/data/challenge/images/test/0188.jpg\n",
            "/content/drive/MyDrive/tracking/data/challenge/images/test/0189.jpg\n",
            "/content/drive/MyDrive/tracking/data/challenge/images/test/0190.jpg\n",
            "/content/drive/MyDrive/tracking/data/challenge/images/test/0191.jpg\n",
            "/content/drive/MyDrive/tracking/data/challenge/images/test/0192.jpg\n",
            "/content/drive/MyDrive/tracking/data/challenge/images/test/0193.jpg\n",
            "/content/drive/MyDrive/tracking/data/challenge/images/test/0194.jpg\n",
            "/content/drive/MyDrive/tracking/data/challenge/images/test/0195.jpg\n",
            "/content/drive/MyDrive/tracking/data/challenge/images/test/0196.jpg\n",
            "/content/drive/MyDrive/tracking/data/challenge/images/test/0197.jpg\n",
            "/content/drive/MyDrive/tracking/data/challenge/images/test/0198.jpg\n",
            "/content/drive/MyDrive/tracking/data/challenge/images/test/0199.jpg\n",
            "/content/drive/MyDrive/tracking/data/challenge/images/test/0200.jpg\n",
            "/content/drive/MyDrive/tracking/data/challenge/images/test/0201.jpg\n",
            "/content/drive/MyDrive/tracking/data/challenge/images/test/0202.jpg\n",
            "/content/drive/MyDrive/tracking/data/challenge/images/test/0203.jpg\n",
            "/content/drive/MyDrive/tracking/data/challenge/images/test/0204.jpg\n",
            "/content/drive/MyDrive/tracking/data/challenge/images/test/0205.jpg\n",
            "/content/drive/MyDrive/tracking/data/challenge/images/test/0206.jpg\n",
            "/content/drive/MyDrive/tracking/data/challenge/images/test/0207.jpg\n",
            "/content/drive/MyDrive/tracking/data/challenge/images/test/0208.jpg\n",
            "/content/drive/MyDrive/tracking/data/challenge/images/test/0209.jpg\n",
            "/content/drive/MyDrive/tracking/data/challenge/images/test/0210.jpg\n",
            "/content/drive/MyDrive/tracking/data/challenge/images/test/0211.jpg\n",
            "/content/drive/MyDrive/tracking/data/challenge/images/test/0212.jpg\n",
            "/content/drive/MyDrive/tracking/data/challenge/images/test/0213.jpg\n",
            "/content/drive/MyDrive/tracking/data/challenge/images/test/0214.jpg\n",
            "/content/drive/MyDrive/tracking/data/challenge/images/test/0215.jpg\n",
            "/content/drive/MyDrive/tracking/data/challenge/images/test/0216.jpg\n",
            "/content/drive/MyDrive/tracking/data/challenge/images/test/0217.jpg\n",
            "/content/drive/MyDrive/tracking/data/challenge/images/test/0218.jpg\n",
            "/content/drive/MyDrive/tracking/data/challenge/images/test/0219.jpg\n",
            "/content/drive/MyDrive/tracking/data/challenge/images/test/0220.jpg\n",
            "/content/drive/MyDrive/tracking/data/challenge/images/test/0221.jpg\n",
            "/content/drive/MyDrive/tracking/data/challenge/images/test/0222.jpg\n",
            "/content/drive/MyDrive/tracking/data/challenge/images/test/0223.jpg\n",
            "/content/drive/MyDrive/tracking/data/challenge/images/test/0224.jpg\n",
            "/content/drive/MyDrive/tracking/data/challenge/images/test/0225.jpg\n",
            "/content/drive/MyDrive/tracking/data/challenge/images/test/0226.jpg\n",
            "/content/drive/MyDrive/tracking/data/challenge/images/test/0227.jpg\n",
            "/content/drive/MyDrive/tracking/data/challenge/images/test/0228.jpg\n",
            "/content/drive/MyDrive/tracking/data/challenge/images/test/0229.jpg\n",
            "/content/drive/MyDrive/tracking/data/challenge/images/test/0230.jpg\n",
            "/content/drive/MyDrive/tracking/data/challenge/images/test/0231.jpg\n",
            "/content/drive/MyDrive/tracking/data/challenge/images/test/0232.jpg\n",
            "/content/drive/MyDrive/tracking/data/challenge/images/test/0233.jpg\n",
            "/content/drive/MyDrive/tracking/data/challenge/images/test/0234.jpg\n",
            "/content/drive/MyDrive/tracking/data/challenge/images/test/0235.jpg\n",
            "/content/drive/MyDrive/tracking/data/challenge/images/test/0236.jpg\n",
            "/content/drive/MyDrive/tracking/data/challenge/images/test/0237.jpg\n",
            "/content/drive/MyDrive/tracking/data/challenge/images/test/0238.jpg\n",
            "/content/drive/MyDrive/tracking/data/challenge/images/test/0239.jpg\n",
            "/content/drive/MyDrive/tracking/data/challenge/images/test/0240.jpg\n",
            "/content/drive/MyDrive/tracking/data/challenge/images/test/0241.jpg\n",
            "/content/drive/MyDrive/tracking/data/challenge/images/test/0242.jpg\n",
            "/content/drive/MyDrive/tracking/data/challenge/images/test/0243.jpg\n",
            "/content/drive/MyDrive/tracking/data/challenge/images/test/0244.jpg\n",
            "/content/drive/MyDrive/tracking/data/challenge/images/test/0245.jpg\n",
            "/content/drive/MyDrive/tracking/data/challenge/images/test/0246.jpg\n",
            "/content/drive/MyDrive/tracking/data/challenge/images/test/0247.jpg\n",
            "/content/drive/MyDrive/tracking/data/challenge/images/test/0248.jpg\n",
            "/content/drive/MyDrive/tracking/data/challenge/images/test/0249.jpg\n",
            "/content/drive/MyDrive/tracking/data/challenge/images/test/0250.jpg\n",
            "/content/drive/MyDrive/tracking/data/challenge/images/test/0251.jpg\n",
            "/content/drive/MyDrive/tracking/data/challenge/images/test/0252.jpg\n",
            "/content/drive/MyDrive/tracking/data/challenge/images/test/0253.jpg\n",
            "/content/drive/MyDrive/tracking/data/challenge/images/test/0254.jpg\n",
            "/content/drive/MyDrive/tracking/data/challenge/images/test/0255.jpg\n",
            "/content/drive/MyDrive/tracking/data/challenge/images/test/0256.jpg\n",
            "/content/drive/MyDrive/tracking/data/challenge/images/test/0257.jpg\n",
            "/content/drive/MyDrive/tracking/data/challenge/images/test/0258.jpg\n",
            "/content/drive/MyDrive/tracking/data/challenge/images/test/0259.jpg\n",
            "/content/drive/MyDrive/tracking/data/challenge/images/test/0260.jpg\n",
            "/content/drive/MyDrive/tracking/data/challenge/images/test/0261.jpg\n",
            "/content/drive/MyDrive/tracking/data/challenge/images/test/0262.jpg\n",
            "/content/drive/MyDrive/tracking/data/challenge/images/test/0263.jpg\n",
            "/content/drive/MyDrive/tracking/data/challenge/images/test/0264.jpg\n",
            "/content/drive/MyDrive/tracking/data/challenge/images/test/0265.jpg\n",
            "/content/drive/MyDrive/tracking/data/challenge/images/test/0266.jpg\n",
            "/content/drive/MyDrive/tracking/data/challenge/images/test/0267.jpg\n",
            "/content/drive/MyDrive/tracking/data/challenge/images/test/0268.jpg\n",
            "/content/drive/MyDrive/tracking/data/challenge/images/test/0269.jpg\n",
            "/content/drive/MyDrive/tracking/data/challenge/images/test/0270.jpg\n",
            "/content/drive/MyDrive/tracking/data/challenge/images/test/0271.jpg\n",
            "/content/drive/MyDrive/tracking/data/challenge/images/test/0272.jpg\n",
            "/content/drive/MyDrive/tracking/data/challenge/images/test/0273.jpg\n",
            "/content/drive/MyDrive/tracking/data/challenge/images/test/0274.jpg\n",
            "/content/drive/MyDrive/tracking/data/challenge/images/test/0275.jpg\n",
            "/content/drive/MyDrive/tracking/data/challenge/images/test/0276.jpg\n",
            "/content/drive/MyDrive/tracking/data/challenge/images/test/0277.jpg\n",
            "/content/drive/MyDrive/tracking/data/challenge/images/test/0278.jpg\n",
            "/content/drive/MyDrive/tracking/data/challenge/images/test/0279.jpg\n",
            "/content/drive/MyDrive/tracking/data/challenge/images/test/0280.jpg\n",
            "/content/drive/MyDrive/tracking/data/challenge/images/test/0281.jpg\n",
            "/content/drive/MyDrive/tracking/data/challenge/images/test/0282.jpg\n",
            "/content/drive/MyDrive/tracking/data/challenge/images/test/0283.jpg\n",
            "/content/drive/MyDrive/tracking/data/challenge/images/test/0284.jpg\n",
            "/content/drive/MyDrive/tracking/data/challenge/images/test/0285.jpg\n",
            "/content/drive/MyDrive/tracking/data/challenge/images/test/0286.jpg\n",
            "/content/drive/MyDrive/tracking/data/challenge/images/test/0287.jpg\n",
            "/content/drive/MyDrive/tracking/data/challenge/images/test/0288.jpg\n",
            "/content/drive/MyDrive/tracking/data/challenge/images/test/0289.jpg\n",
            "/content/drive/MyDrive/tracking/data/challenge/images/test/0290.jpg\n",
            "/content/drive/MyDrive/tracking/data/challenge/images/test/0291.jpg\n",
            "/content/drive/MyDrive/tracking/data/challenge/images/test/0292.jpg\n",
            "/content/drive/MyDrive/tracking/data/challenge/images/test/0293.jpg\n",
            "/content/drive/MyDrive/tracking/data/challenge/images/test/0294.jpg\n",
            "/content/drive/MyDrive/tracking/data/challenge/images/test/0295.jpg\n",
            "/content/drive/MyDrive/tracking/data/challenge/images/test/0296.jpg\n",
            "/content/drive/MyDrive/tracking/data/challenge/images/test/0297.jpg\n",
            "/content/drive/MyDrive/tracking/data/challenge/images/test/0298.jpg\n",
            "/content/drive/MyDrive/tracking/data/challenge/images/test/0299.jpg\n",
            "/content/drive/MyDrive/tracking/data/challenge/images/test/0300.jpg\n",
            "/content/drive/MyDrive/tracking/data/challenge/images/test/0301.jpg\n",
            "/content/drive/MyDrive/tracking/data/challenge/images/test/0302.jpg\n",
            "/content/drive/MyDrive/tracking/data/challenge/images/test/0303.jpg\n",
            "/content/drive/MyDrive/tracking/data/challenge/images/test/0304.jpg\n",
            "/content/drive/MyDrive/tracking/data/challenge/images/test/0305.jpg\n",
            "/content/drive/MyDrive/tracking/data/challenge/images/test/0306.jpg\n",
            "/content/drive/MyDrive/tracking/data/challenge/images/test/0307.jpg\n",
            "/content/drive/MyDrive/tracking/data/challenge/images/test/0308.jpg\n",
            "/content/drive/MyDrive/tracking/data/challenge/images/test/0309.jpg\n",
            "/content/drive/MyDrive/tracking/data/challenge/images/test/0310.jpg\n",
            "/content/drive/MyDrive/tracking/data/challenge/images/test/0311.jpg\n",
            "/content/drive/MyDrive/tracking/data/challenge/images/test/0312.jpg\n",
            "/content/drive/MyDrive/tracking/data/challenge/images/test/0313.jpg\n",
            "/content/drive/MyDrive/tracking/data/challenge/images/test/0314.jpg\n",
            "/content/drive/MyDrive/tracking/data/challenge/images/test/0315.jpg\n",
            "/content/drive/MyDrive/tracking/data/challenge/images/test/0316.jpg\n",
            "/content/drive/MyDrive/tracking/data/challenge/images/test/0317.jpg\n",
            "/content/drive/MyDrive/tracking/data/challenge/images/test/0318.jpg\n",
            "/content/drive/MyDrive/tracking/data/challenge/images/test/0319.jpg\n",
            "/content/drive/MyDrive/tracking/data/challenge/images/test/0320.jpg\n",
            "/content/drive/MyDrive/tracking/data/challenge/images/test/0321.jpg\n",
            "/content/drive/MyDrive/tracking/data/challenge/images/test/0322.jpg\n",
            "/content/drive/MyDrive/tracking/data/challenge/images/test/0323.jpg\n",
            "/content/drive/MyDrive/tracking/data/challenge/images/test/0324.jpg\n",
            "/content/drive/MyDrive/tracking/data/challenge/images/test/0325.jpg\n",
            "/content/drive/MyDrive/tracking/data/challenge/images/test/0326.jpg\n",
            "/content/drive/MyDrive/tracking/data/challenge/images/test/0327.jpg\n",
            "/content/drive/MyDrive/tracking/data/challenge/images/test/0328.jpg\n",
            "/content/drive/MyDrive/tracking/data/challenge/images/test/0329.jpg\n",
            "/content/drive/MyDrive/tracking/data/challenge/images/test/0330.jpg\n",
            "/content/drive/MyDrive/tracking/data/challenge/images/test/0331.jpg\n",
            "/content/drive/MyDrive/tracking/data/challenge/images/test/0332.jpg\n",
            "/content/drive/MyDrive/tracking/data/challenge/images/test/0333.jpg\n",
            "/content/drive/MyDrive/tracking/data/challenge/images/test/0334.jpg\n",
            "/content/drive/MyDrive/tracking/data/challenge/images/test/0335.jpg\n",
            "/content/drive/MyDrive/tracking/data/challenge/images/test/0336.jpg\n",
            "/content/drive/MyDrive/tracking/data/challenge/images/test/0337.jpg\n",
            "/content/drive/MyDrive/tracking/data/challenge/images/test/0338.jpg\n",
            "/content/drive/MyDrive/tracking/data/challenge/images/test/0339.jpg\n",
            "/content/drive/MyDrive/tracking/data/challenge/images/test/0340.jpg\n",
            "/content/drive/MyDrive/tracking/data/challenge/images/test/0341.jpg\n",
            "/content/drive/MyDrive/tracking/data/challenge/images/test/0342.jpg\n",
            "/content/drive/MyDrive/tracking/data/challenge/images/test/0343.jpg\n",
            "/content/drive/MyDrive/tracking/data/challenge/images/test/0344.jpg\n",
            "/content/drive/MyDrive/tracking/data/challenge/images/test/0345.jpg\n",
            "/content/drive/MyDrive/tracking/data/challenge/images/test/0346.jpg\n",
            "/content/drive/MyDrive/tracking/data/challenge/images/test/0347.jpg\n",
            "/content/drive/MyDrive/tracking/data/challenge/images/test/0348.jpg\n",
            "/content/drive/MyDrive/tracking/data/challenge/images/test/0349.jpg\n",
            "/content/drive/MyDrive/tracking/data/challenge/images/test/0350.jpg\n",
            "/content/drive/MyDrive/tracking/data/challenge/images/test/0351.jpg\n",
            "/content/drive/MyDrive/tracking/data/challenge/images/test/0352.jpg\n",
            "/content/drive/MyDrive/tracking/data/challenge/images/test/0353.jpg\n",
            "/content/drive/MyDrive/tracking/data/challenge/images/test/0354.jpg\n",
            "/content/drive/MyDrive/tracking/data/challenge/images/test/0355.jpg\n",
            "/content/drive/MyDrive/tracking/data/challenge/images/test/0356.jpg\n",
            "/content/drive/MyDrive/tracking/data/challenge/images/test/0357.jpg\n",
            "/content/drive/MyDrive/tracking/data/challenge/images/test/0358.jpg\n",
            "/content/drive/MyDrive/tracking/data/challenge/images/test/0359.jpg\n",
            "/content/drive/MyDrive/tracking/data/challenge/images/test/0360.jpg\n",
            "/content/drive/MyDrive/tracking/data/challenge/images/test/0361.jpg\n",
            "/content/drive/MyDrive/tracking/data/challenge/images/test/0362.jpg\n",
            "/content/drive/MyDrive/tracking/data/challenge/images/test/0363.jpg\n",
            "/content/drive/MyDrive/tracking/data/challenge/images/test/0364.jpg\n",
            "/content/drive/MyDrive/tracking/data/challenge/images/test/0365.jpg\n",
            "/content/drive/MyDrive/tracking/data/challenge/images/test/0366.jpg\n",
            "/content/drive/MyDrive/tracking/data/challenge/images/test/0367.jpg\n",
            "/content/drive/MyDrive/tracking/data/challenge/images/test/0368.jpg\n",
            "/content/drive/MyDrive/tracking/data/challenge/images/test/0369.jpg\n",
            "/content/drive/MyDrive/tracking/data/challenge/images/test/0370.jpg\n",
            "/content/drive/MyDrive/tracking/data/challenge/images/test/0371.jpg\n",
            "/content/drive/MyDrive/tracking/data/challenge/images/test/0372.jpg\n",
            "/content/drive/MyDrive/tracking/data/challenge/images/test/0373.jpg\n",
            "/content/drive/MyDrive/tracking/data/challenge/images/test/0374.jpg\n",
            "/content/drive/MyDrive/tracking/data/challenge/images/test/0375.jpg\n",
            "/content/drive/MyDrive/tracking/data/challenge/images/test/0376.jpg\n",
            "/content/drive/MyDrive/tracking/data/challenge/images/test/0377.jpg\n",
            "/content/drive/MyDrive/tracking/data/challenge/images/test/0378.jpg\n",
            "/content/drive/MyDrive/tracking/data/challenge/images/test/0379.jpg\n",
            "/content/drive/MyDrive/tracking/data/challenge/images/test/0380.jpg\n",
            "/content/drive/MyDrive/tracking/data/challenge/images/test/0381.jpg\n",
            "/content/drive/MyDrive/tracking/data/challenge/images/test/0382.jpg\n",
            "/content/drive/MyDrive/tracking/data/challenge/images/test/0383.jpg\n",
            "/content/drive/MyDrive/tracking/data/challenge/images/test/0384.jpg\n",
            "/content/drive/MyDrive/tracking/data/challenge/images/test/0385.jpg\n",
            "/content/drive/MyDrive/tracking/data/challenge/images/test/0386.jpg\n",
            "/content/drive/MyDrive/tracking/data/challenge/images/test/0387.jpg\n",
            "/content/drive/MyDrive/tracking/data/challenge/images/test/0388.jpg\n",
            "/content/drive/MyDrive/tracking/data/challenge/images/test/0389.jpg\n",
            "/content/drive/MyDrive/tracking/data/challenge/images/test/0390.jpg\n",
            "/content/drive/MyDrive/tracking/data/challenge/images/test/0391.jpg\n",
            "/content/drive/MyDrive/tracking/data/challenge/images/test/0392.jpg\n",
            "/content/drive/MyDrive/tracking/data/challenge/images/test/0393.jpg\n",
            "/content/drive/MyDrive/tracking/data/challenge/images/test/0394.jpg\n",
            "/content/drive/MyDrive/tracking/data/challenge/images/test/0395.jpg\n",
            "/content/drive/MyDrive/tracking/data/challenge/images/test/0396.jpg\n",
            "/content/drive/MyDrive/tracking/data/challenge/images/test/0397.jpg\n",
            "/content/drive/MyDrive/tracking/data/challenge/images/test/0398.jpg\n",
            "/content/drive/MyDrive/tracking/data/challenge/images/test/0399.jpg\n",
            "/content/drive/MyDrive/tracking/data/challenge/images/test/0400.jpg\n",
            "/content/drive/MyDrive/tracking/data/challenge/images/test/0401.jpg\n",
            "/content/drive/MyDrive/tracking/data/challenge/images/test/0402.jpg\n",
            "/content/drive/MyDrive/tracking/data/challenge/images/test/0403.jpg\n",
            "/content/drive/MyDrive/tracking/data/challenge/images/test/0404.jpg\n",
            "/content/drive/MyDrive/tracking/data/challenge/images/test/0405.jpg\n",
            "/content/drive/MyDrive/tracking/data/challenge/images/test/0406.jpg\n",
            "/content/drive/MyDrive/tracking/data/challenge/images/test/0407.jpg\n",
            "/content/drive/MyDrive/tracking/data/challenge/images/test/0408.jpg\n",
            "/content/drive/MyDrive/tracking/data/challenge/images/test/0409.jpg\n",
            "/content/drive/MyDrive/tracking/data/challenge/images/test/0410.jpg\n",
            "/content/drive/MyDrive/tracking/data/challenge/images/test/0411.jpg\n",
            "/content/drive/MyDrive/tracking/data/challenge/images/test/0412.jpg\n",
            "/content/drive/MyDrive/tracking/data/challenge/images/test/0413.jpg\n",
            "/content/drive/MyDrive/tracking/data/challenge/images/test/0414.jpg\n",
            "/content/drive/MyDrive/tracking/data/challenge/images/test/0415.jpg\n",
            "/content/drive/MyDrive/tracking/data/challenge/images/test/0416.jpg\n",
            "/content/drive/MyDrive/tracking/data/challenge/images/test/0417.jpg\n",
            "/content/drive/MyDrive/tracking/data/challenge/images/test/0418.jpg\n",
            "/content/drive/MyDrive/tracking/data/challenge/images/test/0419.jpg\n",
            "/content/drive/MyDrive/tracking/data/challenge/images/test/0420.jpg\n",
            "/content/drive/MyDrive/tracking/data/challenge/images/test/0421.jpg\n",
            "/content/drive/MyDrive/tracking/data/challenge/images/test/0422.jpg\n",
            "/content/drive/MyDrive/tracking/data/challenge/images/test/0423.jpg\n",
            "/content/drive/MyDrive/tracking/data/challenge/images/test/0424.jpg\n",
            "/content/drive/MyDrive/tracking/data/challenge/images/test/0425.jpg\n",
            "/content/drive/MyDrive/tracking/data/challenge/images/test/0426.jpg\n",
            "/content/drive/MyDrive/tracking/data/challenge/images/test/0427.jpg\n",
            "/content/drive/MyDrive/tracking/data/challenge/images/test/0428.jpg\n",
            "/content/drive/MyDrive/tracking/data/challenge/images/test/0429.jpg\n",
            "/content/drive/MyDrive/tracking/data/challenge/images/test/0430.jpg\n",
            "/content/drive/MyDrive/tracking/data/challenge/images/test/0431.jpg\n",
            "/content/drive/MyDrive/tracking/data/challenge/images/test/0432.jpg\n",
            "/content/drive/MyDrive/tracking/data/challenge/images/test/0433.jpg\n",
            "/content/drive/MyDrive/tracking/data/challenge/images/test/0434.jpg\n",
            "/content/drive/MyDrive/tracking/data/challenge/images/test/0435.jpg\n",
            "/content/drive/MyDrive/tracking/data/challenge/images/test/0436.jpg\n",
            "/content/drive/MyDrive/tracking/data/challenge/images/test/0437.jpg\n",
            "/content/drive/MyDrive/tracking/data/challenge/images/test/0438.jpg\n",
            "/content/drive/MyDrive/tracking/data/challenge/images/test/0439.jpg\n",
            "/content/drive/MyDrive/tracking/data/challenge/images/test/0440.jpg\n",
            "/content/drive/MyDrive/tracking/data/challenge/images/test/0441.jpg\n",
            "/content/drive/MyDrive/tracking/data/challenge/images/test/0442.jpg\n",
            "/content/drive/MyDrive/tracking/data/challenge/images/test/0443.jpg\n",
            "/content/drive/MyDrive/tracking/data/challenge/images/test/0444.jpg\n",
            "/content/drive/MyDrive/tracking/data/challenge/images/test/0445.jpg\n",
            "/content/drive/MyDrive/tracking/data/challenge/images/test/0446.jpg\n",
            "/content/drive/MyDrive/tracking/data/challenge/images/test/0447.jpg\n",
            "/content/drive/MyDrive/tracking/data/challenge/images/test/0448.jpg\n",
            "/content/drive/MyDrive/tracking/data/challenge/images/test/0449.jpg\n",
            "/content/drive/MyDrive/tracking/data/challenge/images/test/0450.jpg\n",
            "/content/drive/MyDrive/tracking/data/challenge/images/test/0451.jpg\n",
            "/content/drive/MyDrive/tracking/data/challenge/images/test/0452.jpg\n",
            "/content/drive/MyDrive/tracking/data/challenge/images/test/0453.jpg\n",
            "/content/drive/MyDrive/tracking/data/challenge/images/test/0454.jpg\n",
            "/content/drive/MyDrive/tracking/data/challenge/images/test/0455.jpg\n",
            "/content/drive/MyDrive/tracking/data/challenge/images/test/0456.jpg\n",
            "/content/drive/MyDrive/tracking/data/challenge/images/test/0457.jpg\n",
            "/content/drive/MyDrive/tracking/data/challenge/images/test/0458.jpg\n",
            "/content/drive/MyDrive/tracking/data/challenge/images/test/0459.jpg\n",
            "/content/drive/MyDrive/tracking/data/challenge/images/test/0460.jpg\n",
            "/content/drive/MyDrive/tracking/data/challenge/images/test/0461.jpg\n",
            "/content/drive/MyDrive/tracking/data/challenge/images/test/0462.jpg\n",
            "/content/drive/MyDrive/tracking/data/challenge/images/test/0463.jpg\n",
            "/content/drive/MyDrive/tracking/data/challenge/images/test/0464.jpg\n",
            "/content/drive/MyDrive/tracking/data/challenge/images/test/0465.jpg\n",
            "/content/drive/MyDrive/tracking/data/challenge/images/test/0466.jpg\n",
            "/content/drive/MyDrive/tracking/data/challenge/images/test/0467.jpg\n",
            "/content/drive/MyDrive/tracking/data/challenge/images/test/0468.jpg\n",
            "/content/drive/MyDrive/tracking/data/challenge/images/test/0469.jpg\n",
            "/content/drive/MyDrive/tracking/data/challenge/images/test/0470.jpg\n",
            "/content/drive/MyDrive/tracking/data/challenge/images/test/0471.jpg\n",
            "/content/drive/MyDrive/tracking/data/challenge/images/test/0472.jpg\n",
            "/content/drive/MyDrive/tracking/data/challenge/images/test/0473.jpg\n",
            "/content/drive/MyDrive/tracking/data/challenge/images/test/0474.jpg\n",
            "/content/drive/MyDrive/tracking/data/challenge/images/test/0475.jpg\n",
            "/content/drive/MyDrive/tracking/data/challenge/images/test/0476.jpg\n",
            "/content/drive/MyDrive/tracking/data/challenge/images/test/0477.jpg\n",
            "/content/drive/MyDrive/tracking/data/challenge/images/test/0478.jpg\n",
            "/content/drive/MyDrive/tracking/data/challenge/images/test/0479.jpg\n",
            "/content/drive/MyDrive/tracking/data/challenge/images/test/0480.jpg\n",
            "/content/drive/MyDrive/tracking/data/challenge/images/test/0481.jpg\n",
            "/content/drive/MyDrive/tracking/data/challenge/images/test/0482.jpg\n",
            "/content/drive/MyDrive/tracking/data/challenge/images/test/0483.jpg\n",
            "/content/drive/MyDrive/tracking/data/challenge/images/test/0484.jpg\n",
            "/content/drive/MyDrive/tracking/data/challenge/images/test/0485.jpg\n",
            "/content/drive/MyDrive/tracking/data/challenge/images/test/0486.jpg\n",
            "/content/drive/MyDrive/tracking/data/challenge/images/test/0487.jpg\n",
            "/content/drive/MyDrive/tracking/data/challenge/images/test/0488.jpg\n",
            "/content/drive/MyDrive/tracking/data/challenge/images/test/0489.jpg\n",
            "/content/drive/MyDrive/tracking/data/challenge/images/test/0490.jpg\n",
            "/content/drive/MyDrive/tracking/data/challenge/images/test/0491.jpg\n",
            "/content/drive/MyDrive/tracking/data/challenge/images/test/0492.jpg\n",
            "/content/drive/MyDrive/tracking/data/challenge/images/test/0493.jpg\n",
            "/content/drive/MyDrive/tracking/data/challenge/images/test/0494.jpg\n",
            "/content/drive/MyDrive/tracking/data/challenge/images/test/0495.jpg\n",
            "/content/drive/MyDrive/tracking/data/challenge/images/test/0496.jpg\n",
            "/content/drive/MyDrive/tracking/data/challenge/images/test/0497.jpg\n",
            "/content/drive/MyDrive/tracking/data/challenge/images/test/0498.jpg\n",
            "/content/drive/MyDrive/tracking/data/challenge/images/test/0499.jpg\n",
            "/content/drive/MyDrive/tracking/data/challenge/images/test/0500.jpg\n",
            "/content/drive/MyDrive/tracking/data/challenge/images/test/0501.jpg\n",
            "/content/drive/MyDrive/tracking/data/challenge/images/test/0502.jpg\n",
            "/content/drive/MyDrive/tracking/data/challenge/images/test/0503.jpg\n",
            "/content/drive/MyDrive/tracking/data/challenge/images/test/0504.jpg\n",
            "/content/drive/MyDrive/tracking/data/challenge/images/test/0505.jpg\n",
            "/content/drive/MyDrive/tracking/data/challenge/images/test/0506.jpg\n",
            "/content/drive/MyDrive/tracking/data/challenge/images/test/0507.jpg\n",
            "/content/drive/MyDrive/tracking/data/challenge/images/test/0508.jpg\n",
            "/content/drive/MyDrive/tracking/data/challenge/images/test/0509.jpg\n",
            "/content/drive/MyDrive/tracking/data/challenge/images/test/0510.jpg\n",
            "/content/drive/MyDrive/tracking/data/challenge/images/test/0511.jpg\n",
            "/content/drive/MyDrive/tracking/data/challenge/images/test/0512.jpg\n",
            "/content/drive/MyDrive/tracking/data/challenge/images/test/0513.jpg\n",
            "/content/drive/MyDrive/tracking/data/challenge/images/test/0514.jpg\n",
            "/content/drive/MyDrive/tracking/data/challenge/images/test/0515.jpg\n",
            "/content/drive/MyDrive/tracking/data/challenge/images/test/0516.jpg\n",
            "/content/drive/MyDrive/tracking/data/challenge/images/test/0517.jpg\n",
            "/content/drive/MyDrive/tracking/data/challenge/images/test/0518.jpg\n",
            "/content/drive/MyDrive/tracking/data/challenge/images/test/0519.jpg\n",
            "/content/drive/MyDrive/tracking/data/challenge/images/test/0520.jpg\n",
            "/content/drive/MyDrive/tracking/data/challenge/images/test/0521.jpg\n",
            "/content/drive/MyDrive/tracking/data/challenge/images/test/0522.jpg\n",
            "/content/drive/MyDrive/tracking/data/challenge/images/test/0523.jpg\n",
            "/content/drive/MyDrive/tracking/data/challenge/images/test/0524.jpg\n",
            "/content/drive/MyDrive/tracking/data/challenge/images/test/0525.jpg\n",
            "/content/drive/MyDrive/tracking/data/challenge/images/test/0526.jpg\n",
            "/content/drive/MyDrive/tracking/data/challenge/images/test/0527.jpg\n",
            "/content/drive/MyDrive/tracking/data/challenge/images/test/0528.jpg\n",
            "/content/drive/MyDrive/tracking/data/challenge/images/test/0529.jpg\n",
            "/content/drive/MyDrive/tracking/data/challenge/images/test/0530.jpg\n",
            "/content/drive/MyDrive/tracking/data/challenge/images/test/0531.jpg\n",
            "/content/drive/MyDrive/tracking/data/challenge/images/test/0532.jpg\n",
            "/content/drive/MyDrive/tracking/data/challenge/images/test/0533.jpg\n",
            "/content/drive/MyDrive/tracking/data/challenge/images/test/0534.jpg\n",
            "/content/drive/MyDrive/tracking/data/challenge/images/test/0535.jpg\n",
            "/content/drive/MyDrive/tracking/data/challenge/images/test/0536.jpg\n",
            "/content/drive/MyDrive/tracking/data/challenge/images/test/0537.jpg\n",
            "/content/drive/MyDrive/tracking/data/challenge/images/test/0538.jpg\n",
            "/content/drive/MyDrive/tracking/data/challenge/images/test/0539.jpg\n",
            "/content/drive/MyDrive/tracking/data/challenge/images/test/0540.jpg\n",
            "/content/drive/MyDrive/tracking/data/challenge/images/test/0541.jpg\n",
            "/content/drive/MyDrive/tracking/data/challenge/images/test/0542.jpg\n",
            "/content/drive/MyDrive/tracking/data/challenge/images/test/0543.jpg\n",
            "/content/drive/MyDrive/tracking/data/challenge/images/test/0544.jpg\n",
            "/content/drive/MyDrive/tracking/data/challenge/images/test/0545.jpg\n",
            "/content/drive/MyDrive/tracking/data/challenge/images/test/0546.jpg\n",
            "/content/drive/MyDrive/tracking/data/challenge/images/test/0547.jpg\n",
            "/content/drive/MyDrive/tracking/data/challenge/images/test/0548.jpg\n",
            "/content/drive/MyDrive/tracking/data/challenge/images/test/0549.jpg\n",
            "/content/drive/MyDrive/tracking/data/challenge/images/test/0550.jpg\n",
            "/content/drive/MyDrive/tracking/data/challenge/images/test/0551.jpg\n",
            "/content/drive/MyDrive/tracking/data/challenge/images/test/0552.jpg\n",
            "/content/drive/MyDrive/tracking/data/challenge/images/test/0553.jpg\n",
            "/content/drive/MyDrive/tracking/data/challenge/images/test/0554.jpg\n",
            "/content/drive/MyDrive/tracking/data/challenge/images/test/0555.jpg\n",
            "/content/drive/MyDrive/tracking/data/challenge/images/test/0556.jpg\n",
            "/content/drive/MyDrive/tracking/data/challenge/images/test/0557.jpg\n",
            "/content/drive/MyDrive/tracking/data/challenge/images/test/0558.jpg\n",
            "/content/drive/MyDrive/tracking/data/challenge/images/test/0559.jpg\n",
            "/content/drive/MyDrive/tracking/data/challenge/images/test/0560.jpg\n",
            "/content/drive/MyDrive/tracking/data/challenge/images/test/0561.jpg\n",
            "/content/drive/MyDrive/tracking/data/challenge/images/test/0562.jpg\n",
            "/content/drive/MyDrive/tracking/data/challenge/images/test/0563.jpg\n",
            "/content/drive/MyDrive/tracking/data/challenge/images/test/0564.jpg\n",
            "/content/drive/MyDrive/tracking/data/challenge/images/test/0565.jpg\n",
            "/content/drive/MyDrive/tracking/data/challenge/images/test/0566.jpg\n",
            "/content/drive/MyDrive/tracking/data/challenge/images/test/0567.jpg\n",
            "/content/drive/MyDrive/tracking/data/challenge/images/test/0568.jpg\n",
            "/content/drive/MyDrive/tracking/data/challenge/images/test/0569.jpg\n",
            "/content/drive/MyDrive/tracking/data/challenge/images/test/0570.jpg\n",
            "/content/drive/MyDrive/tracking/data/challenge/images/test/0571.jpg\n",
            "/content/drive/MyDrive/tracking/data/challenge/images/test/0572.jpg\n",
            "/content/drive/MyDrive/tracking/data/challenge/images/test/0573.jpg\n",
            "/content/drive/MyDrive/tracking/data/challenge/images/test/0574.jpg\n",
            "/content/drive/MyDrive/tracking/data/challenge/images/test/0575.jpg\n",
            "/content/drive/MyDrive/tracking/data/challenge/images/test/0576.jpg\n",
            "/content/drive/MyDrive/tracking/data/challenge/images/test/0577.jpg\n",
            "/content/drive/MyDrive/tracking/data/challenge/images/test/0578.jpg\n",
            "/content/drive/MyDrive/tracking/data/challenge/images/test/0579.jpg\n",
            "/content/drive/MyDrive/tracking/data/challenge/images/test/0580.jpg\n",
            "/content/drive/MyDrive/tracking/data/challenge/images/test/0581.jpg\n",
            "/content/drive/MyDrive/tracking/data/challenge/images/test/0582.jpg\n",
            "/content/drive/MyDrive/tracking/data/challenge/images/test/0583.jpg\n",
            "/content/drive/MyDrive/tracking/data/challenge/images/test/0584.jpg\n",
            "/content/drive/MyDrive/tracking/data/challenge/images/test/0585.jpg\n",
            "/content/drive/MyDrive/tracking/data/challenge/images/test/0586.jpg\n",
            "/content/drive/MyDrive/tracking/data/challenge/images/test/0587.jpg\n",
            "/content/drive/MyDrive/tracking/data/challenge/images/test/0588.jpg\n",
            "/content/drive/MyDrive/tracking/data/challenge/images/test/0589.jpg\n",
            "/content/drive/MyDrive/tracking/data/challenge/images/test/0590.jpg\n",
            "/content/drive/MyDrive/tracking/data/challenge/images/test/0591.jpg\n",
            "/content/drive/MyDrive/tracking/data/challenge/images/test/0592.jpg\n",
            "/content/drive/MyDrive/tracking/data/challenge/images/test/0593.jpg\n",
            "/content/drive/MyDrive/tracking/data/challenge/images/test/0594.jpg\n",
            "/content/drive/MyDrive/tracking/data/challenge/images/test/0595.jpg\n",
            "/content/drive/MyDrive/tracking/data/challenge/images/test/0596.jpg\n",
            "/content/drive/MyDrive/tracking/data/challenge/images/test/0597.jpg\n",
            "/content/drive/MyDrive/tracking/data/challenge/images/test/0598.jpg\n",
            "/content/drive/MyDrive/tracking/data/challenge/images/test/0599.jpg\n",
            "/content/drive/MyDrive/tracking/data/challenge/images/test/0600.jpg\n",
            "/content/drive/MyDrive/tracking/data/challenge/images/test/0601.jpg\n",
            "/content/drive/MyDrive/tracking/data/challenge/images/test/0602.jpg\n",
            "/content/drive/MyDrive/tracking/data/challenge/images/test/0603.jpg\n",
            "/content/drive/MyDrive/tracking/data/challenge/images/test/0604.jpg\n",
            "/content/drive/MyDrive/tracking/data/challenge/images/test/0605.jpg\n",
            "/content/drive/MyDrive/tracking/data/challenge/images/test/0606.jpg\n",
            "/content/drive/MyDrive/tracking/data/challenge/images/test/0607.jpg\n",
            "/content/drive/MyDrive/tracking/data/challenge/images/test/0608.jpg\n",
            "/content/drive/MyDrive/tracking/data/challenge/images/test/0609.jpg\n",
            "/content/drive/MyDrive/tracking/data/challenge/images/test/0610.jpg\n",
            "/content/drive/MyDrive/tracking/data/challenge/images/test/0611.jpg\n",
            "/content/drive/MyDrive/tracking/data/challenge/images/test/0612.jpg\n",
            "/content/drive/MyDrive/tracking/data/challenge/images/test/0613.jpg\n",
            "/content/drive/MyDrive/tracking/data/challenge/images/test/0614.jpg\n",
            "/content/drive/MyDrive/tracking/data/challenge/images/test/0615.jpg\n",
            "/content/drive/MyDrive/tracking/data/challenge/images/test/0616.jpg\n",
            "/content/drive/MyDrive/tracking/data/challenge/images/test/0617.jpg\n",
            "/content/drive/MyDrive/tracking/data/challenge/images/test/0618.jpg\n",
            "/content/drive/MyDrive/tracking/data/challenge/images/test/0619.jpg\n",
            "/content/drive/MyDrive/tracking/data/challenge/images/test/0620.jpg\n",
            "/content/drive/MyDrive/tracking/data/challenge/images/test/0621.jpg\n",
            "/content/drive/MyDrive/tracking/data/challenge/images/test/0622.jpg\n",
            "/content/drive/MyDrive/tracking/data/challenge/images/test/0623.jpg\n",
            "/content/drive/MyDrive/tracking/data/challenge/images/test/0624.jpg\n",
            "/content/drive/MyDrive/tracking/data/challenge/images/test/0625.jpg\n",
            "/content/drive/MyDrive/tracking/data/challenge/images/test/0626.jpg\n",
            "/content/drive/MyDrive/tracking/data/challenge/images/test/0627.jpg\n",
            "/content/drive/MyDrive/tracking/data/challenge/images/test/0628.jpg\n",
            "/content/drive/MyDrive/tracking/data/challenge/images/test/0629.jpg\n",
            "/content/drive/MyDrive/tracking/data/challenge/images/test/0630.jpg\n",
            "/content/drive/MyDrive/tracking/data/challenge/images/test/0631.jpg\n",
            "/content/drive/MyDrive/tracking/data/challenge/images/test/0632.jpg\n",
            "/content/drive/MyDrive/tracking/data/challenge/images/test/0633.jpg\n",
            "/content/drive/MyDrive/tracking/data/challenge/images/test/0634.jpg\n",
            "/content/drive/MyDrive/tracking/data/challenge/images/test/0635.jpg\n",
            "/content/drive/MyDrive/tracking/data/challenge/images/test/0636.jpg\n",
            "/content/drive/MyDrive/tracking/data/challenge/images/test/0637.jpg\n",
            "/content/drive/MyDrive/tracking/data/challenge/images/test/0638.jpg\n",
            "/content/drive/MyDrive/tracking/data/challenge/images/test/0639.jpg\n",
            "/content/drive/MyDrive/tracking/data/challenge/images/test/0640.jpg\n",
            "/content/drive/MyDrive/tracking/data/challenge/images/test/0641.jpg\n",
            "/content/drive/MyDrive/tracking/data/challenge/images/test/0642.jpg\n",
            "/content/drive/MyDrive/tracking/data/challenge/images/test/0643.jpg\n",
            "/content/drive/MyDrive/tracking/data/challenge/images/test/0644.jpg\n",
            "/content/drive/MyDrive/tracking/data/challenge/images/test/0645.jpg\n",
            "/content/drive/MyDrive/tracking/data/challenge/images/test/0646.jpg\n",
            "/content/drive/MyDrive/tracking/data/challenge/images/test/0647.jpg\n",
            "/content/drive/MyDrive/tracking/data/challenge/images/test/0648.jpg\n",
            "/content/drive/MyDrive/tracking/data/challenge/images/test/0649.jpg\n",
            "/content/drive/MyDrive/tracking/data/challenge/images/test/0650.jpg\n",
            "/content/drive/MyDrive/tracking/data/challenge/images/test/0651.jpg\n",
            "/content/drive/MyDrive/tracking/data/challenge/images/test/0652.jpg\n",
            "/content/drive/MyDrive/tracking/data/challenge/images/test/0653.jpg\n",
            "/content/drive/MyDrive/tracking/data/challenge/images/test/0654.jpg\n",
            "/content/drive/MyDrive/tracking/data/challenge/images/test/0655.jpg\n",
            "/content/drive/MyDrive/tracking/data/challenge/images/test/0656.jpg\n",
            "/content/drive/MyDrive/tracking/data/challenge/images/test/0657.jpg\n",
            "/content/drive/MyDrive/tracking/data/challenge/images/test/0658.jpg\n",
            "/content/drive/MyDrive/tracking/data/challenge/images/test/0659.jpg\n",
            "/content/drive/MyDrive/tracking/data/challenge/images/test/0660.jpg\n",
            "/content/drive/MyDrive/tracking/data/challenge/images/test/0661.jpg\n",
            "/content/drive/MyDrive/tracking/data/challenge/images/test/0662.jpg\n",
            "/content/drive/MyDrive/tracking/data/challenge/images/test/0663.jpg\n",
            "/content/drive/MyDrive/tracking/data/challenge/images/test/0664.jpg\n",
            "/content/drive/MyDrive/tracking/data/challenge/images/test/0665.jpg\n",
            "/content/drive/MyDrive/tracking/data/challenge/images/test/0666.jpg\n",
            "/content/drive/MyDrive/tracking/data/challenge/images/test/0667.jpg\n",
            "/content/drive/MyDrive/tracking/data/challenge/images/test/0668.jpg\n",
            "/content/drive/MyDrive/tracking/data/challenge/images/test/0669.jpg\n",
            "/content/drive/MyDrive/tracking/data/challenge/images/test/0670.jpg\n",
            "/content/drive/MyDrive/tracking/data/challenge/images/test/0671.jpg\n",
            "/content/drive/MyDrive/tracking/data/challenge/images/test/0672.jpg\n",
            "/content/drive/MyDrive/tracking/data/challenge/images/test/0673.jpg\n",
            "/content/drive/MyDrive/tracking/data/challenge/images/test/0674.jpg\n",
            "/content/drive/MyDrive/tracking/data/challenge/images/test/0675.jpg\n",
            "/content/drive/MyDrive/tracking/data/challenge/images/test/0676.jpg\n",
            "/content/drive/MyDrive/tracking/data/challenge/images/test/0677.jpg\n",
            "/content/drive/MyDrive/tracking/data/challenge/images/test/0678.jpg\n",
            "/content/drive/MyDrive/tracking/data/challenge/images/test/0679.jpg\n",
            "/content/drive/MyDrive/tracking/data/challenge/images/test/0680.jpg\n",
            "/content/drive/MyDrive/tracking/data/challenge/images/test/0681.jpg\n",
            "/content/drive/MyDrive/tracking/data/challenge/images/test/0682.jpg\n",
            "/content/drive/MyDrive/tracking/data/challenge/images/test/0683.jpg\n",
            "/content/drive/MyDrive/tracking/data/challenge/images/test/0684.jpg\n",
            "/content/drive/MyDrive/tracking/data/challenge/images/test/0685.jpg\n",
            "/content/drive/MyDrive/tracking/data/challenge/images/test/0686.jpg\n",
            "/content/drive/MyDrive/tracking/data/challenge/images/test/0687.jpg\n",
            "/content/drive/MyDrive/tracking/data/challenge/images/test/0688.jpg\n",
            "/content/drive/MyDrive/tracking/data/challenge/images/test/0689.jpg\n",
            "/content/drive/MyDrive/tracking/data/challenge/images/test/0690.jpg\n",
            "/content/drive/MyDrive/tracking/data/challenge/images/test/0691.jpg\n",
            "/content/drive/MyDrive/tracking/data/challenge/images/test/0692.jpg\n",
            "/content/drive/MyDrive/tracking/data/challenge/images/test/0693.jpg\n",
            "/content/drive/MyDrive/tracking/data/challenge/images/test/0694.jpg\n",
            "/content/drive/MyDrive/tracking/data/challenge/images/test/0695.jpg\n",
            "/content/drive/MyDrive/tracking/data/challenge/images/test/0696.jpg\n",
            "/content/drive/MyDrive/tracking/data/challenge/images/test/0697.jpg\n",
            "/content/drive/MyDrive/tracking/data/challenge/images/test/0698.jpg\n",
            "/content/drive/MyDrive/tracking/data/challenge/images/test/0699.jpg\n",
            "/content/drive/MyDrive/tracking/data/challenge/images/test/0700.jpg\n",
            "/content/drive/MyDrive/tracking/data/challenge/images/test/0701.jpg\n",
            "/content/drive/MyDrive/tracking/data/challenge/images/test/0702.jpg\n",
            "/content/drive/MyDrive/tracking/data/challenge/images/test/0703.jpg\n",
            "/content/drive/MyDrive/tracking/data/challenge/images/test/0704.jpg\n",
            "/content/drive/MyDrive/tracking/data/challenge/images/test/0705.jpg\n",
            "/content/drive/MyDrive/tracking/data/challenge/images/test/0706.jpg\n",
            "/content/drive/MyDrive/tracking/data/challenge/images/test/0707.jpg\n",
            "/content/drive/MyDrive/tracking/data/challenge/images/test/0708.jpg\n",
            "/content/drive/MyDrive/tracking/data/challenge/images/test/0709.jpg\n",
            "/content/drive/MyDrive/tracking/data/challenge/images/test/0710.jpg\n",
            "/content/drive/MyDrive/tracking/data/challenge/images/test/0711.jpg\n",
            "/content/drive/MyDrive/tracking/data/challenge/images/test/0712.jpg\n",
            "/content/drive/MyDrive/tracking/data/challenge/images/test/0713.jpg\n",
            "/content/drive/MyDrive/tracking/data/challenge/images/test/0714.jpg\n",
            "/content/drive/MyDrive/tracking/data/challenge/images/test/0715.jpg\n",
            "/content/drive/MyDrive/tracking/data/challenge/images/test/0716.jpg\n",
            "/content/drive/MyDrive/tracking/data/challenge/images/test/0717.jpg\n",
            "/content/drive/MyDrive/tracking/data/challenge/images/test/0718.jpg\n",
            "/content/drive/MyDrive/tracking/data/challenge/images/test/0719.jpg\n",
            "/content/drive/MyDrive/tracking/data/challenge/images/test/0720.jpg\n",
            "/content/drive/MyDrive/tracking/data/challenge/images/test/0721.jpg\n",
            "/content/drive/MyDrive/tracking/data/challenge/images/test/0722.jpg\n",
            "/content/drive/MyDrive/tracking/data/challenge/images/test/0723.jpg\n",
            "/content/drive/MyDrive/tracking/data/challenge/images/test/0724.jpg\n",
            "/content/drive/MyDrive/tracking/data/challenge/images/test/0725.jpg\n",
            "/content/drive/MyDrive/tracking/data/challenge/images/test/0726.jpg\n",
            "/content/drive/MyDrive/tracking/data/challenge/images/test/0727.jpg\n",
            "/content/drive/MyDrive/tracking/data/challenge/images/test/0728.jpg\n",
            "/content/drive/MyDrive/tracking/data/challenge/images/test/0729.jpg\n",
            "/content/drive/MyDrive/tracking/data/challenge/images/test/0730.jpg\n",
            "/content/drive/MyDrive/tracking/data/challenge/images/test/0731.jpg\n",
            "/content/drive/MyDrive/tracking/data/challenge/images/test/0732.jpg\n",
            "/content/drive/MyDrive/tracking/data/challenge/images/test/0733.jpg\n",
            "/content/drive/MyDrive/tracking/data/challenge/images/test/0734.jpg\n",
            "/content/drive/MyDrive/tracking/data/challenge/images/test/0735.jpg\n",
            "/content/drive/MyDrive/tracking/data/challenge/images/test/0736.jpg\n",
            "/content/drive/MyDrive/tracking/data/challenge/images/test/0737.jpg\n",
            "/content/drive/MyDrive/tracking/data/challenge/images/test/0738.jpg\n",
            "/content/drive/MyDrive/tracking/data/challenge/images/test/0739.jpg\n",
            "/content/drive/MyDrive/tracking/data/challenge/images/test/0740.jpg\n",
            "/content/drive/MyDrive/tracking/data/challenge/images/test/0741.jpg\n",
            "/content/drive/MyDrive/tracking/data/challenge/images/test/0742.jpg\n",
            "/content/drive/MyDrive/tracking/data/challenge/images/test/0743.jpg\n",
            "/content/drive/MyDrive/tracking/data/challenge/images/test/0744.jpg\n",
            "/content/drive/MyDrive/tracking/data/challenge/images/test/0745.jpg\n",
            "/content/drive/MyDrive/tracking/data/challenge/images/test/0746.jpg\n",
            "/content/drive/MyDrive/tracking/data/challenge/images/test/0747.jpg\n",
            "/content/drive/MyDrive/tracking/data/challenge/images/test/0748.jpg\n",
            "/content/drive/MyDrive/tracking/data/challenge/images/test/0749.jpg\n",
            "/content/drive/MyDrive/tracking/data/challenge/images/test/0750.jpg\n",
            "/content/drive/MyDrive/tracking/data/challenge/images/test/0751.jpg\n",
            "/content/drive/MyDrive/tracking/data/challenge/images/test/0752.jpg\n",
            "/content/drive/MyDrive/tracking/data/challenge/images/test/0753.jpg\n",
            "/content/drive/MyDrive/tracking/data/challenge/images/test/0754.jpg\n",
            "/content/drive/MyDrive/tracking/data/challenge/images/test/0755.jpg\n",
            "/content/drive/MyDrive/tracking/data/challenge/images/test/0756.jpg\n",
            "/content/drive/MyDrive/tracking/data/challenge/images/test/0757.jpg\n",
            "/content/drive/MyDrive/tracking/data/challenge/images/test/0758.jpg\n",
            "/content/drive/MyDrive/tracking/data/challenge/images/test/0759.jpg\n",
            "/content/drive/MyDrive/tracking/data/challenge/images/test/0760.jpg\n",
            "/content/drive/MyDrive/tracking/data/challenge/images/test/0761.jpg\n",
            "/content/drive/MyDrive/tracking/data/challenge/images/test/0762.jpg\n",
            "/content/drive/MyDrive/tracking/data/challenge/images/test/0763.jpg\n",
            "/content/drive/MyDrive/tracking/data/challenge/images/test/0764.jpg\n",
            "/content/drive/MyDrive/tracking/data/challenge/images/test/0765.jpg\n",
            "/content/drive/MyDrive/tracking/data/challenge/images/test/0766.jpg\n",
            "/content/drive/MyDrive/tracking/data/challenge/images/test/0767.jpg\n",
            "/content/drive/MyDrive/tracking/data/challenge/images/test/0768.jpg\n",
            "/content/drive/MyDrive/tracking/data/challenge/images/test/0769.jpg\n",
            "/content/drive/MyDrive/tracking/data/challenge/images/test/0770.jpg\n",
            "/content/drive/MyDrive/tracking/data/challenge/images/test/0771.jpg\n",
            "/content/drive/MyDrive/tracking/data/challenge/images/test/0772.jpg\n",
            "/content/drive/MyDrive/tracking/data/challenge/images/test/0773.jpg\n",
            "/content/drive/MyDrive/tracking/data/challenge/images/test/0774.jpg\n",
            "/content/drive/MyDrive/tracking/data/challenge/images/test/0775.jpg\n",
            "/content/drive/MyDrive/tracking/data/challenge/images/test/0776.jpg\n",
            "/content/drive/MyDrive/tracking/data/challenge/images/test/0777.jpg\n",
            "/content/drive/MyDrive/tracking/data/challenge/images/test/0778.jpg\n",
            "/content/drive/MyDrive/tracking/data/challenge/images/test/0779.jpg\n",
            "/content/drive/MyDrive/tracking/data/challenge/images/test/0780.jpg\n",
            "/content/drive/MyDrive/tracking/data/challenge/images/test/0781.jpg\n",
            "/content/drive/MyDrive/tracking/data/challenge/images/test/0782.jpg\n",
            "/content/drive/MyDrive/tracking/data/challenge/images/test/0783.jpg\n",
            "/content/drive/MyDrive/tracking/data/challenge/images/test/0784.jpg\n",
            "/content/drive/MyDrive/tracking/data/challenge/images/test/0785.jpg\n",
            "/content/drive/MyDrive/tracking/data/challenge/images/test/0786.jpg\n",
            "/content/drive/MyDrive/tracking/data/challenge/images/test/0787.jpg\n",
            "/content/drive/MyDrive/tracking/data/challenge/images/test/0788.jpg\n",
            "/content/drive/MyDrive/tracking/data/challenge/images/test/0789.jpg\n",
            "/content/drive/MyDrive/tracking/data/challenge/images/test/0790.jpg\n",
            "/content/drive/MyDrive/tracking/data/challenge/images/test/0791.jpg\n",
            "/content/drive/MyDrive/tracking/data/challenge/images/test/0792.jpg\n",
            "/content/drive/MyDrive/tracking/data/challenge/images/test/0793.jpg\n",
            "/content/drive/MyDrive/tracking/data/challenge/images/test/0794.jpg\n",
            "/content/drive/MyDrive/tracking/data/challenge/images/test/0795.jpg\n",
            "/content/drive/MyDrive/tracking/data/challenge/images/test/0796.jpg\n",
            "/content/drive/MyDrive/tracking/data/challenge/images/test/0797.jpg\n",
            "/content/drive/MyDrive/tracking/data/challenge/images/test/0798.jpg\n",
            "/content/drive/MyDrive/tracking/data/challenge/images/test/0799.jpg\n",
            "/content/drive/MyDrive/tracking/data/challenge/images/test/0800.jpg\n",
            "/content/drive/MyDrive/tracking/data/challenge/images/test/0801.jpg\n",
            "/content/drive/MyDrive/tracking/data/challenge/images/test/0802.jpg\n",
            "/content/drive/MyDrive/tracking/data/challenge/images/test/0803.jpg\n",
            "/content/drive/MyDrive/tracking/data/challenge/images/test/0804.jpg\n",
            "/content/drive/MyDrive/tracking/data/challenge/images/test/0805.jpg\n",
            "/content/drive/MyDrive/tracking/data/challenge/images/test/0806.jpg\n",
            "/content/drive/MyDrive/tracking/data/challenge/images/test/0807.jpg\n",
            "/content/drive/MyDrive/tracking/data/challenge/images/test/0808.jpg\n",
            "/content/drive/MyDrive/tracking/data/challenge/images/test/0809.jpg\n",
            "/content/drive/MyDrive/tracking/data/challenge/images/test/0810.jpg\n",
            "/content/drive/MyDrive/tracking/data/challenge/images/test/0811.jpg\n",
            "/content/drive/MyDrive/tracking/data/challenge/images/test/0812.jpg\n",
            "/content/drive/MyDrive/tracking/data/challenge/images/test/0813.jpg\n",
            "/content/drive/MyDrive/tracking/data/challenge/images/test/0814.jpg\n",
            "/content/drive/MyDrive/tracking/data/challenge/images/test/0815.jpg\n",
            "/content/drive/MyDrive/tracking/data/challenge/images/test/0816.jpg\n",
            "/content/drive/MyDrive/tracking/data/challenge/images/test/0817.jpg\n",
            "/content/drive/MyDrive/tracking/data/challenge/images/test/0818.jpg\n",
            "/content/drive/MyDrive/tracking/data/challenge/images/test/0819.jpg\n",
            "/content/drive/MyDrive/tracking/data/challenge/images/test/0820.jpg\n",
            "/content/drive/MyDrive/tracking/data/challenge/images/test/0821.jpg\n",
            "/content/drive/MyDrive/tracking/data/challenge/images/test/0822.jpg\n",
            "/content/drive/MyDrive/tracking/data/challenge/images/test/0823.jpg\n",
            "/content/drive/MyDrive/tracking/data/challenge/images/test/0824.jpg\n",
            "/content/drive/MyDrive/tracking/data/challenge/images/test/0825.jpg\n",
            "/content/drive/MyDrive/tracking/data/challenge/images/test/0826.jpg\n",
            "/content/drive/MyDrive/tracking/data/challenge/images/test/0827.jpg\n",
            "/content/drive/MyDrive/tracking/data/challenge/images/test/0828.jpg\n",
            "/content/drive/MyDrive/tracking/data/challenge/images/test/0829.jpg\n",
            "/content/drive/MyDrive/tracking/data/challenge/images/test/0830.jpg\n",
            "/content/drive/MyDrive/tracking/data/challenge/images/test/0831.jpg\n",
            "/content/drive/MyDrive/tracking/data/challenge/images/test/0832.jpg\n",
            "/content/drive/MyDrive/tracking/data/challenge/images/test/0833.jpg\n",
            "/content/drive/MyDrive/tracking/data/challenge/images/test/0834.jpg\n",
            "/content/drive/MyDrive/tracking/data/challenge/images/test/0835.jpg\n",
            "/content/drive/MyDrive/tracking/data/challenge/images/test/0836.jpg\n",
            "/content/drive/MyDrive/tracking/data/challenge/images/test/0837.jpg\n",
            "/content/drive/MyDrive/tracking/data/challenge/images/test/0838.jpg\n",
            "/content/drive/MyDrive/tracking/data/challenge/images/test/0839.jpg\n",
            "/content/drive/MyDrive/tracking/data/challenge/images/test/0840.jpg\n",
            "/content/drive/MyDrive/tracking/data/challenge/images/test/0841.jpg\n",
            "/content/drive/MyDrive/tracking/data/challenge/images/test/0842.jpg\n",
            "/content/drive/MyDrive/tracking/data/challenge/images/test/0843.jpg\n",
            "/content/drive/MyDrive/tracking/data/challenge/images/test/0844.jpg\n",
            "/content/drive/MyDrive/tracking/data/challenge/images/test/0845.jpg\n",
            "/content/drive/MyDrive/tracking/data/challenge/images/test/0846.jpg\n",
            "/content/drive/MyDrive/tracking/data/challenge/images/test/0847.jpg\n",
            "/content/drive/MyDrive/tracking/data/challenge/images/test/0848.jpg\n",
            "/content/drive/MyDrive/tracking/data/challenge/images/test/0849.jpg\n",
            "/content/drive/MyDrive/tracking/data/challenge/images/test/0850.jpg\n",
            "/content/drive/MyDrive/tracking/data/challenge/images/test/0851.jpg\n",
            "/content/drive/MyDrive/tracking/data/challenge/images/test/0852.jpg\n",
            "/content/drive/MyDrive/tracking/data/challenge/images/test/0853.jpg\n",
            "/content/drive/MyDrive/tracking/data/challenge/images/test/0854.jpg\n",
            "/content/drive/MyDrive/tracking/data/challenge/images/test/0855.jpg\n",
            "/content/drive/MyDrive/tracking/data/challenge/images/test/0856.jpg\n",
            "/content/drive/MyDrive/tracking/data/challenge/images/test/0857.jpg\n",
            "/content/drive/MyDrive/tracking/data/challenge/images/test/0858.jpg\n",
            "/content/drive/MyDrive/tracking/data/challenge/images/test/0859.jpg\n",
            "/content/drive/MyDrive/tracking/data/challenge/images/test/0860.jpg\n",
            "/content/drive/MyDrive/tracking/data/challenge/images/test/0861.jpg\n",
            "/content/drive/MyDrive/tracking/data/challenge/images/test/0862.jpg\n",
            "/content/drive/MyDrive/tracking/data/challenge/images/test/0863.jpg\n",
            "/content/drive/MyDrive/tracking/data/challenge/images/test/0864.jpg\n",
            "/content/drive/MyDrive/tracking/data/challenge/images/test/0865.jpg\n",
            "/content/drive/MyDrive/tracking/data/challenge/images/test/0866.jpg\n",
            "/content/drive/MyDrive/tracking/data/challenge/images/test/0867.jpg\n",
            "/content/drive/MyDrive/tracking/data/challenge/images/test/0868.jpg\n",
            "/content/drive/MyDrive/tracking/data/challenge/images/test/0869.jpg\n",
            "/content/drive/MyDrive/tracking/data/challenge/images/test/0870.jpg\n",
            "/content/drive/MyDrive/tracking/data/challenge/images/test/0871.jpg\n",
            "/content/drive/MyDrive/tracking/data/challenge/images/test/0872.jpg\n",
            "/content/drive/MyDrive/tracking/data/challenge/images/test/0873.jpg\n",
            "/content/drive/MyDrive/tracking/data/challenge/images/test/0874.jpg\n",
            "/content/drive/MyDrive/tracking/data/challenge/images/test/0875.jpg\n",
            "/content/drive/MyDrive/tracking/data/challenge/images/test/0876.jpg\n",
            "/content/drive/MyDrive/tracking/data/challenge/images/test/0877.jpg\n",
            "/content/drive/MyDrive/tracking/data/challenge/images/test/0878.jpg\n",
            "/content/drive/MyDrive/tracking/data/challenge/images/test/0879.jpg\n",
            "/content/drive/MyDrive/tracking/data/challenge/images/test/0880.jpg\n",
            "/content/drive/MyDrive/tracking/data/challenge/images/test/0881.jpg\n",
            "/content/drive/MyDrive/tracking/data/challenge/images/test/0882.jpg\n",
            "/content/drive/MyDrive/tracking/data/challenge/images/test/0883.jpg\n",
            "/content/drive/MyDrive/tracking/data/challenge/images/test/0884.jpg\n",
            "/content/drive/MyDrive/tracking/data/challenge/images/test/0885.jpg\n",
            "/content/drive/MyDrive/tracking/data/challenge/images/test/0886.jpg\n",
            "/content/drive/MyDrive/tracking/data/challenge/images/test/0887.jpg\n",
            "/content/drive/MyDrive/tracking/data/challenge/images/test/0888.jpg\n",
            "/content/drive/MyDrive/tracking/data/challenge/images/test/0889.jpg\n",
            "/content/drive/MyDrive/tracking/data/challenge/images/test/0890.jpg\n",
            "/content/drive/MyDrive/tracking/data/challenge/images/test/0891.jpg\n",
            "/content/drive/MyDrive/tracking/data/challenge/images/test/0892.jpg\n",
            "/content/drive/MyDrive/tracking/data/challenge/images/test/0893.jpg\n",
            "/content/drive/MyDrive/tracking/data/challenge/images/test/0894.jpg\n",
            "/content/drive/MyDrive/tracking/data/challenge/images/test/0895.jpg\n",
            "/content/drive/MyDrive/tracking/data/challenge/images/test/0896.jpg\n",
            "/content/drive/MyDrive/tracking/data/challenge/images/test/0897.jpg\n",
            "/content/drive/MyDrive/tracking/data/challenge/images/test/0898.jpg\n",
            "/content/drive/MyDrive/tracking/data/challenge/images/test/0899.jpg\n",
            "/content/drive/MyDrive/tracking/data/challenge/images/test/0900.jpg\n",
            "/content/drive/MyDrive/tracking/data/challenge/images/test/0901.jpg\n",
            "/content/drive/MyDrive/tracking/data/challenge/images/test/0902.jpg\n",
            "/content/drive/MyDrive/tracking/data/challenge/images/test/0903.jpg\n",
            "/content/drive/MyDrive/tracking/data/challenge/images/test/0904.jpg\n",
            "/content/drive/MyDrive/tracking/data/challenge/images/test/0905.jpg\n",
            "/content/drive/MyDrive/tracking/data/challenge/images/test/0906.jpg\n",
            "/content/drive/MyDrive/tracking/data/challenge/images/test/0907.jpg\n",
            "/content/drive/MyDrive/tracking/data/challenge/images/test/0908.jpg\n",
            "/content/drive/MyDrive/tracking/data/challenge/images/test/0909.jpg\n",
            "/content/drive/MyDrive/tracking/data/challenge/images/test/0910.jpg\n",
            "/content/drive/MyDrive/tracking/data/challenge/images/test/0911.jpg\n",
            "/content/drive/MyDrive/tracking/data/challenge/images/test/0912.jpg\n",
            "/content/drive/MyDrive/tracking/data/challenge/images/test/0913.jpg\n",
            "/content/drive/MyDrive/tracking/data/challenge/images/test/0914.jpg\n",
            "/content/drive/MyDrive/tracking/data/challenge/images/test/0915.jpg\n",
            "/content/drive/MyDrive/tracking/data/challenge/images/test/0916.jpg\n",
            "/content/drive/MyDrive/tracking/data/challenge/images/test/0917.jpg\n",
            "/content/drive/MyDrive/tracking/data/challenge/images/test/0918.jpg\n",
            "/content/drive/MyDrive/tracking/data/challenge/images/test/0919.jpg\n",
            "/content/drive/MyDrive/tracking/data/challenge/images/test/0920.jpg\n",
            "/content/drive/MyDrive/tracking/data/challenge/images/test/0921.jpg\n",
            "/content/drive/MyDrive/tracking/data/challenge/images/test/0922.jpg\n",
            "/content/drive/MyDrive/tracking/data/challenge/images/test/0923.jpg\n",
            "/content/drive/MyDrive/tracking/data/challenge/images/test/0924.jpg\n",
            "/content/drive/MyDrive/tracking/data/challenge/images/test/0925.jpg\n",
            "/content/drive/MyDrive/tracking/data/challenge/images/test/0926.jpg\n",
            "/content/drive/MyDrive/tracking/data/challenge/images/test/0927.jpg\n",
            "/content/drive/MyDrive/tracking/data/challenge/images/test/0928.jpg\n",
            "/content/drive/MyDrive/tracking/data/challenge/images/test/0929.jpg\n",
            "/content/drive/MyDrive/tracking/data/challenge/images/test/0930.jpg\n",
            "/content/drive/MyDrive/tracking/data/challenge/images/test/0931.jpg\n",
            "/content/drive/MyDrive/tracking/data/challenge/images/test/0932.jpg\n",
            "/content/drive/MyDrive/tracking/data/challenge/images/test/0933.jpg\n",
            "/content/drive/MyDrive/tracking/data/challenge/images/test/0934.jpg\n",
            "/content/drive/MyDrive/tracking/data/challenge/images/test/0935.jpg\n",
            "/content/drive/MyDrive/tracking/data/challenge/images/test/0936.jpg\n",
            "/content/drive/MyDrive/tracking/data/challenge/images/test/0937.jpg\n",
            "/content/drive/MyDrive/tracking/data/challenge/images/test/0938.jpg\n",
            "/content/drive/MyDrive/tracking/data/challenge/images/test/0939.jpg\n",
            "/content/drive/MyDrive/tracking/data/challenge/images/test/0940.jpg\n",
            "/content/drive/MyDrive/tracking/data/challenge/images/test/0941.jpg\n",
            "/content/drive/MyDrive/tracking/data/challenge/images/test/0942.jpg\n",
            "/content/drive/MyDrive/tracking/data/challenge/images/test/0943.jpg\n",
            "/content/drive/MyDrive/tracking/data/challenge/images/test/0944.jpg\n",
            "/content/drive/MyDrive/tracking/data/challenge/images/test/0945.jpg\n",
            "/content/drive/MyDrive/tracking/data/challenge/images/test/0946.jpg\n",
            "/content/drive/MyDrive/tracking/data/challenge/images/test/0947.jpg\n",
            "/content/drive/MyDrive/tracking/data/challenge/images/test/0948.jpg\n",
            "/content/drive/MyDrive/tracking/data/challenge/images/test/0949.jpg\n",
            "/content/drive/MyDrive/tracking/data/challenge/images/test/0950.jpg\n",
            "/content/drive/MyDrive/tracking/data/challenge/images/test/0951.jpg\n",
            "/content/drive/MyDrive/tracking/data/challenge/images/test/0952.jpg\n",
            "/content/drive/MyDrive/tracking/data/challenge/images/test/0953.jpg\n",
            "/content/drive/MyDrive/tracking/data/challenge/images/test/0954.jpg\n",
            "/content/drive/MyDrive/tracking/data/challenge/images/test/0955.jpg\n",
            "/content/drive/MyDrive/tracking/data/challenge/images/test/0956.jpg\n",
            "/content/drive/MyDrive/tracking/data/challenge/images/test/0957.jpg\n",
            "/content/drive/MyDrive/tracking/data/challenge/images/test/0958.jpg\n",
            "/content/drive/MyDrive/tracking/data/challenge/images/test/0959.jpg\n",
            "/content/drive/MyDrive/tracking/data/challenge/images/test/0960.jpg\n",
            "/content/drive/MyDrive/tracking/data/challenge/images/test/0961.jpg\n",
            "/content/drive/MyDrive/tracking/data/challenge/images/test/0962.jpg\n",
            "/content/drive/MyDrive/tracking/data/challenge/images/test/0963.jpg\n",
            "/content/drive/MyDrive/tracking/data/challenge/images/test/0964.jpg\n",
            "/content/drive/MyDrive/tracking/data/challenge/images/test/0965.jpg\n",
            "/content/drive/MyDrive/tracking/data/challenge/images/test/0966.jpg\n",
            "/content/drive/MyDrive/tracking/data/challenge/images/test/0967.jpg\n",
            "/content/drive/MyDrive/tracking/data/challenge/images/test/0968.jpg\n",
            "/content/drive/MyDrive/tracking/data/challenge/images/test/0969.jpg\n",
            "/content/drive/MyDrive/tracking/data/challenge/images/test/0970.jpg\n",
            "/content/drive/MyDrive/tracking/data/challenge/images/test/0971.jpg\n",
            "/content/drive/MyDrive/tracking/data/challenge/images/test/0972.jpg\n",
            "/content/drive/MyDrive/tracking/data/challenge/images/test/0973.jpg\n",
            "/content/drive/MyDrive/tracking/data/challenge/images/test/0974.jpg\n",
            "/content/drive/MyDrive/tracking/data/challenge/images/test/0975.jpg\n",
            "/content/drive/MyDrive/tracking/data/challenge/images/test/0976.jpg\n",
            "/content/drive/MyDrive/tracking/data/challenge/images/test/0977.jpg\n",
            "/content/drive/MyDrive/tracking/data/challenge/images/test/0978.jpg\n",
            "/content/drive/MyDrive/tracking/data/challenge/images/test/0979.jpg\n",
            "/content/drive/MyDrive/tracking/data/challenge/images/test/0980.jpg\n",
            "/content/drive/MyDrive/tracking/data/challenge/images/test/0981.jpg\n",
            "/content/drive/MyDrive/tracking/data/challenge/images/test/0982.jpg\n",
            "/content/drive/MyDrive/tracking/data/challenge/images/test/0983.jpg\n",
            "/content/drive/MyDrive/tracking/data/challenge/images/test/0984.jpg\n",
            "/content/drive/MyDrive/tracking/data/challenge/images/test/0985.jpg\n",
            "/content/drive/MyDrive/tracking/data/challenge/images/test/0986.jpg\n",
            "/content/drive/MyDrive/tracking/data/challenge/images/test/0987.jpg\n",
            "/content/drive/MyDrive/tracking/data/challenge/images/test/0988.jpg\n",
            "/content/drive/MyDrive/tracking/data/challenge/images/test/0989.jpg\n",
            "/content/drive/MyDrive/tracking/data/challenge/images/test/0990.jpg\n",
            "/content/drive/MyDrive/tracking/data/challenge/images/test/0991.jpg\n",
            "/content/drive/MyDrive/tracking/data/challenge/images/test/0992.jpg\n",
            "/content/drive/MyDrive/tracking/data/challenge/images/test/0993.jpg\n",
            "/content/drive/MyDrive/tracking/data/challenge/images/test/0994.jpg\n",
            "/content/drive/MyDrive/tracking/data/challenge/images/test/0995.jpg\n",
            "/content/drive/MyDrive/tracking/data/challenge/images/test/0996.jpg\n",
            "/content/drive/MyDrive/tracking/data/challenge/images/test/0997.jpg\n",
            "/content/drive/MyDrive/tracking/data/challenge/images/test/0998.jpg\n",
            "/content/drive/MyDrive/tracking/data/challenge/images/test/0999.jpg\n",
            "/content/drive/MyDrive/tracking/data/challenge/images/test/1000.jpg\n",
            "/content/drive/MyDrive/tracking/data/challenge/images/test/1001.jpg\n",
            "/content/drive/MyDrive/tracking/data/challenge/images/test/1002.jpg\n",
            "/content/drive/MyDrive/tracking/data/challenge/images/test/1003.jpg\n",
            "/content/drive/MyDrive/tracking/data/challenge/images/test/1004.jpg\n",
            "/content/drive/MyDrive/tracking/data/challenge/images/test/1005.jpg\n",
            "/content/drive/MyDrive/tracking/data/challenge/images/test/1006.jpg\n",
            "/content/drive/MyDrive/tracking/data/challenge/images/test/1007.jpg\n",
            "/content/drive/MyDrive/tracking/data/challenge/images/test/1008.jpg\n",
            "/content/drive/MyDrive/tracking/data/challenge/images/test/1009.jpg\n",
            "/content/drive/MyDrive/tracking/data/challenge/images/test/1010.jpg\n",
            "/content/drive/MyDrive/tracking/data/challenge/images/test/1011.jpg\n",
            "/content/drive/MyDrive/tracking/data/challenge/images/test/1012.jpg\n",
            "/content/drive/MyDrive/tracking/data/challenge/images/test/1013.jpg\n",
            "/content/drive/MyDrive/tracking/data/challenge/images/test/1014.jpg\n",
            "/content/drive/MyDrive/tracking/data/challenge/images/test/1015.jpg\n",
            "/content/drive/MyDrive/tracking/data/challenge/images/test/1016.jpg\n",
            "/content/drive/MyDrive/tracking/data/challenge/images/test/1017.jpg\n",
            "/content/drive/MyDrive/tracking/data/challenge/images/test/1018.jpg\n",
            "/content/drive/MyDrive/tracking/data/challenge/images/test/1019.jpg\n",
            "/content/drive/MyDrive/tracking/data/challenge/images/test/1020.jpg\n",
            "/content/drive/MyDrive/tracking/data/challenge/images/test/1021.jpg\n",
            "/content/drive/MyDrive/tracking/data/challenge/images/test/1022.jpg\n",
            "/content/drive/MyDrive/tracking/data/challenge/images/test/1023.jpg\n",
            "/content/drive/MyDrive/tracking/data/challenge/images/test/1024.jpg\n",
            "/content/drive/MyDrive/tracking/data/challenge/images/test/1025.jpg\n",
            "/content/drive/MyDrive/tracking/data/challenge/images/test/1026.jpg\n",
            "/content/drive/MyDrive/tracking/data/challenge/images/test/1027.jpg\n",
            "/content/drive/MyDrive/tracking/data/challenge/images/test/1028.jpg\n",
            "/content/drive/MyDrive/tracking/data/challenge/images/test/1029.jpg\n",
            "/content/drive/MyDrive/tracking/data/challenge/images/test/1030.jpg\n",
            "/content/drive/MyDrive/tracking/data/challenge/images/test/1031.jpg\n",
            "/content/drive/MyDrive/tracking/data/challenge/images/test/1032.jpg\n",
            "/content/drive/MyDrive/tracking/data/challenge/images/test/1033.jpg\n",
            "/content/drive/MyDrive/tracking/data/challenge/images/test/1034.jpg\n",
            "/content/drive/MyDrive/tracking/data/challenge/images/test/1035.jpg\n",
            "/content/drive/MyDrive/tracking/data/challenge/images/test/1036.jpg\n",
            "/content/drive/MyDrive/tracking/data/challenge/images/test/1037.jpg\n",
            "/content/drive/MyDrive/tracking/data/challenge/images/test/1038.jpg\n",
            "/content/drive/MyDrive/tracking/data/challenge/images/test/1039.jpg\n",
            "/content/drive/MyDrive/tracking/data/challenge/images/test/1040.jpg\n",
            "/content/drive/MyDrive/tracking/data/challenge/images/test/1041.jpg\n",
            "/content/drive/MyDrive/tracking/data/challenge/images/test/1042.jpg\n",
            "/content/drive/MyDrive/tracking/data/challenge/images/test/1043.jpg\n",
            "/content/drive/MyDrive/tracking/data/challenge/images/test/1044.jpg\n",
            "/content/drive/MyDrive/tracking/data/challenge/images/test/1045.jpg\n",
            "/content/drive/MyDrive/tracking/data/challenge/images/test/1046.jpg\n",
            "/content/drive/MyDrive/tracking/data/challenge/images/test/1047.jpg\n",
            "/content/drive/MyDrive/tracking/data/challenge/images/test/1048.jpg\n",
            "/content/drive/MyDrive/tracking/data/challenge/images/test/1049.jpg\n",
            "/content/drive/MyDrive/tracking/data/challenge/images/test/1050.jpg\n",
            "/content/drive/MyDrive/tracking/data/challenge/images/test/1051.jpg\n",
            "/content/drive/MyDrive/tracking/data/challenge/images/test/1052.jpg\n",
            "/content/drive/MyDrive/tracking/data/challenge/images/test/1053.jpg\n",
            "/content/drive/MyDrive/tracking/data/challenge/images/test/1054.jpg\n",
            "/content/drive/MyDrive/tracking/data/challenge/images/test/1055.jpg\n",
            "/content/drive/MyDrive/tracking/data/challenge/images/test/1056.jpg\n",
            "/content/drive/MyDrive/tracking/data/challenge/images/test/1057.jpg\n",
            "/content/drive/MyDrive/tracking/data/challenge/images/test/1058.jpg\n",
            "/content/drive/MyDrive/tracking/data/challenge/images/test/1059.jpg\n",
            "/content/drive/MyDrive/tracking/data/challenge/images/test/1060.jpg\n",
            "/content/drive/MyDrive/tracking/data/challenge/images/test/1061.jpg\n",
            "/content/drive/MyDrive/tracking/data/challenge/images/test/1062.jpg\n",
            "/content/drive/MyDrive/tracking/data/challenge/images/test/1063.jpg\n",
            "/content/drive/MyDrive/tracking/data/challenge/images/test/1064.jpg\n",
            "/content/drive/MyDrive/tracking/data/challenge/images/test/1065.jpg\n",
            "/content/drive/MyDrive/tracking/data/challenge/images/test/1066.jpg\n",
            "/content/drive/MyDrive/tracking/data/challenge/images/test/1067.jpg\n",
            "/content/drive/MyDrive/tracking/data/challenge/images/test/1068.jpg\n",
            "/content/drive/MyDrive/tracking/data/challenge/images/test/1069.jpg\n",
            "/content/drive/MyDrive/tracking/data/challenge/images/test/1070.jpg\n",
            "/content/drive/MyDrive/tracking/data/challenge/images/test/1071.jpg\n",
            "/content/drive/MyDrive/tracking/data/challenge/images/test/1072.jpg\n",
            "/content/drive/MyDrive/tracking/data/challenge/images/test/1073.jpg\n",
            "/content/drive/MyDrive/tracking/data/challenge/images/test/1074.jpg\n",
            "/content/drive/MyDrive/tracking/data/challenge/images/test/1075.jpg\n",
            "/content/drive/MyDrive/tracking/data/challenge/images/test/1076.jpg\n",
            "/content/drive/MyDrive/tracking/data/challenge/images/test/1077.jpg\n",
            "/content/drive/MyDrive/tracking/data/challenge/images/test/1078.jpg\n",
            "/content/drive/MyDrive/tracking/data/challenge/images/test/1079.jpg\n",
            "/content/drive/MyDrive/tracking/data/challenge/images/test/1080.jpg\n",
            "/content/drive/MyDrive/tracking/data/challenge/images/test/1081.jpg\n",
            "/content/drive/MyDrive/tracking/data/challenge/images/test/1082.jpg\n",
            "/content/drive/MyDrive/tracking/data/challenge/images/test/1083.jpg\n",
            "/content/drive/MyDrive/tracking/data/challenge/images/test/1084.jpg\n",
            "/content/drive/MyDrive/tracking/data/challenge/images/test/1085.jpg\n",
            "/content/drive/MyDrive/tracking/data/challenge/images/test/1086.jpg\n",
            "/content/drive/MyDrive/tracking/data/challenge/images/test/1087.jpg\n",
            "/content/drive/MyDrive/tracking/data/challenge/images/test/1088.jpg\n",
            "/content/drive/MyDrive/tracking/data/challenge/images/test/1089.jpg\n",
            "/content/drive/MyDrive/tracking/data/challenge/images/test/1090.jpg\n",
            "/content/drive/MyDrive/tracking/data/challenge/images/test/1091.jpg\n",
            "/content/drive/MyDrive/tracking/data/challenge/images/test/1092.jpg\n",
            "/content/drive/MyDrive/tracking/data/challenge/images/test/1093.jpg\n",
            "/content/drive/MyDrive/tracking/data/challenge/images/test/1094.jpg\n",
            "/content/drive/MyDrive/tracking/data/challenge/images/test/1095.jpg\n",
            "/content/drive/MyDrive/tracking/data/challenge/images/test/1096.jpg\n",
            "/content/drive/MyDrive/tracking/data/challenge/images/test/1097.jpg\n",
            "/content/drive/MyDrive/tracking/data/challenge/images/test/1098.jpg\n",
            "/content/drive/MyDrive/tracking/data/challenge/images/test/1099.jpg\n",
            "/content/drive/MyDrive/tracking/data/challenge/images/test/1100.jpg\n",
            "/content/drive/MyDrive/tracking/data/challenge/images/test/1101.jpg\n",
            "/content/drive/MyDrive/tracking/data/challenge/images/test/1102.jpg\n",
            "/content/drive/MyDrive/tracking/data/challenge/images/test/1103.jpg\n",
            "/content/drive/MyDrive/tracking/data/challenge/images/test/1104.jpg\n",
            "/content/drive/MyDrive/tracking/data/challenge/images/test/1105.jpg\n",
            "/content/drive/MyDrive/tracking/data/challenge/images/test/1106.jpg\n",
            "/content/drive/MyDrive/tracking/data/challenge/images/test/1107.jpg\n",
            "/content/drive/MyDrive/tracking/data/challenge/images/test/1108.jpg\n",
            "/content/drive/MyDrive/tracking/data/challenge/images/test/1109.jpg\n",
            "/content/drive/MyDrive/tracking/data/challenge/images/test/1110.jpg\n",
            "/content/drive/MyDrive/tracking/data/challenge/images/test/1111.jpg\n",
            "/content/drive/MyDrive/tracking/data/challenge/images/test/1112.jpg\n",
            "/content/drive/MyDrive/tracking/data/challenge/images/test/1113.jpg\n",
            "/content/drive/MyDrive/tracking/data/challenge/images/test/1114.jpg\n",
            "/content/drive/MyDrive/tracking/data/challenge/images/test/1115.jpg\n",
            "/content/drive/MyDrive/tracking/data/challenge/images/test/1116.jpg\n",
            "/content/drive/MyDrive/tracking/data/challenge/images/test/1117.jpg\n",
            "/content/drive/MyDrive/tracking/data/challenge/images/test/1118.jpg\n",
            "/content/drive/MyDrive/tracking/data/challenge/images/test/1119.jpg\n",
            "/content/drive/MyDrive/tracking/data/challenge/images/test/1120.jpg\n",
            "/content/drive/MyDrive/tracking/data/challenge/images/test/1121.jpg\n",
            "/content/drive/MyDrive/tracking/data/challenge/images/test/1122.jpg\n",
            "/content/drive/MyDrive/tracking/data/challenge/images/test/1123.jpg\n",
            "/content/drive/MyDrive/tracking/data/challenge/images/test/1124.jpg\n",
            "/content/drive/MyDrive/tracking/data/challenge/images/test/1125.jpg\n",
            "/content/drive/MyDrive/tracking/data/challenge/images/test/1126.jpg\n",
            "/content/drive/MyDrive/tracking/data/challenge/images/test/1127.jpg\n",
            "/content/drive/MyDrive/tracking/data/challenge/images/test/1128.jpg\n",
            "/content/drive/MyDrive/tracking/data/challenge/images/test/1129.jpg\n",
            "/content/drive/MyDrive/tracking/data/challenge/images/test/1130.jpg\n",
            "/content/drive/MyDrive/tracking/data/challenge/images/test/1131.jpg\n",
            "/content/drive/MyDrive/tracking/data/challenge/images/test/1132.jpg\n",
            "/content/drive/MyDrive/tracking/data/challenge/images/test/1133.jpg\n",
            "/content/drive/MyDrive/tracking/data/challenge/images/test/1134.jpg\n",
            "/content/drive/MyDrive/tracking/data/challenge/images/test/1135.jpg\n",
            "/content/drive/MyDrive/tracking/data/challenge/images/test/1136.jpg\n",
            "/content/drive/MyDrive/tracking/data/challenge/images/test/1137.jpg\n",
            "/content/drive/MyDrive/tracking/data/challenge/images/test/1138.jpg\n",
            "/content/drive/MyDrive/tracking/data/challenge/images/test/1139.jpg\n",
            "/content/drive/MyDrive/tracking/data/challenge/images/test/1140.jpg\n",
            "/content/drive/MyDrive/tracking/data/challenge/images/test/1141.jpg\n",
            "/content/drive/MyDrive/tracking/data/challenge/images/test/1142.jpg\n",
            "/content/drive/MyDrive/tracking/data/challenge/images/test/1143.jpg\n",
            "/content/drive/MyDrive/tracking/data/challenge/images/test/1144.jpg\n",
            "/content/drive/MyDrive/tracking/data/challenge/images/test/1145.jpg\n",
            "/content/drive/MyDrive/tracking/data/challenge/images/test/1146.jpg\n",
            "/content/drive/MyDrive/tracking/data/challenge/images/test/1147.jpg\n",
            "/content/drive/MyDrive/tracking/data/challenge/images/test/1148.jpg\n",
            "/content/drive/MyDrive/tracking/data/challenge/images/test/1149.jpg\n",
            "/content/drive/MyDrive/tracking/data/challenge/images/test/1150.jpg\n",
            "/content/drive/MyDrive/tracking/data/challenge/images/test/1151.jpg\n",
            "/content/drive/MyDrive/tracking/data/challenge/images/test/1152.jpg\n",
            "/content/drive/MyDrive/tracking/data/challenge/images/test/1153.jpg\n",
            "/content/drive/MyDrive/tracking/data/challenge/images/test/1154.jpg\n",
            "/content/drive/MyDrive/tracking/data/challenge/images/test/1155.jpg\n",
            "/content/drive/MyDrive/tracking/data/challenge/images/test/1156.jpg\n",
            "/content/drive/MyDrive/tracking/data/challenge/images/test/1157.jpg\n",
            "/content/drive/MyDrive/tracking/data/challenge/images/test/1158.jpg\n",
            "/content/drive/MyDrive/tracking/data/challenge/images/test/1159.jpg\n",
            "/content/drive/MyDrive/tracking/data/challenge/images/test/1160.jpg\n",
            "/content/drive/MyDrive/tracking/data/challenge/images/test/1161.jpg\n",
            "/content/drive/MyDrive/tracking/data/challenge/images/test/1162.jpg\n",
            "/content/drive/MyDrive/tracking/data/challenge/images/test/1163.jpg\n",
            "/content/drive/MyDrive/tracking/data/challenge/images/test/1164.jpg\n",
            "/content/drive/MyDrive/tracking/data/challenge/images/test/1165.jpg\n",
            "/content/drive/MyDrive/tracking/data/challenge/images/test/1166.jpg\n",
            "/content/drive/MyDrive/tracking/data/challenge/images/test/1167.jpg\n",
            "/content/drive/MyDrive/tracking/data/challenge/images/test/1168.jpg\n",
            "/content/drive/MyDrive/tracking/data/challenge/images/test/1169.jpg\n",
            "/content/drive/MyDrive/tracking/data/challenge/images/test/1170.jpg\n",
            "/content/drive/MyDrive/tracking/data/challenge/images/test/1171.jpg\n",
            "/content/drive/MyDrive/tracking/data/challenge/images/test/1172.jpg\n",
            "/content/drive/MyDrive/tracking/data/challenge/images/test/1173.jpg\n",
            "/content/drive/MyDrive/tracking/data/challenge/images/test/1174.jpg\n",
            "/content/drive/MyDrive/tracking/data/challenge/images/test/1175.jpg\n",
            "/content/drive/MyDrive/tracking/data/challenge/images/test/1176.jpg\n",
            "/content/drive/MyDrive/tracking/data/challenge/images/test/1177.jpg\n",
            "/content/drive/MyDrive/tracking/data/challenge/images/test/1178.jpg\n",
            "/content/drive/MyDrive/tracking/data/challenge/images/test/1179.jpg\n",
            "/content/drive/MyDrive/tracking/data/challenge/images/test/1180.jpg\n",
            "/content/drive/MyDrive/tracking/data/challenge/images/test/1181.jpg\n",
            "/content/drive/MyDrive/tracking/data/challenge/images/test/1182.jpg\n",
            "/content/drive/MyDrive/tracking/data/challenge/images/test/1183.jpg\n",
            "/content/drive/MyDrive/tracking/data/challenge/images/test/1184.jpg\n",
            "/content/drive/MyDrive/tracking/data/challenge/images/test/1185.jpg\n",
            "/content/drive/MyDrive/tracking/data/challenge/images/test/1186.jpg\n",
            "/content/drive/MyDrive/tracking/data/challenge/images/test/1187.jpg\n",
            "/content/drive/MyDrive/tracking/data/challenge/images/test/1188.jpg\n",
            "/content/drive/MyDrive/tracking/data/challenge/images/test/1189.jpg\n",
            "/content/drive/MyDrive/tracking/data/challenge/images/test/1190.jpg\n",
            "/content/drive/MyDrive/tracking/data/challenge/images/test/1191.jpg\n",
            "/content/drive/MyDrive/tracking/data/challenge/images/test/1192.jpg\n",
            "/content/drive/MyDrive/tracking/data/challenge/images/test/1193.jpg\n",
            "/content/drive/MyDrive/tracking/data/challenge/images/test/1194.jpg\n",
            "/content/drive/MyDrive/tracking/data/challenge/images/test/1195.jpg\n",
            "/content/drive/MyDrive/tracking/data/challenge/images/test/1196.jpg\n",
            "/content/drive/MyDrive/tracking/data/challenge/images/test/1197.jpg\n",
            "/content/drive/MyDrive/tracking/data/challenge/images/test/1198.jpg\n",
            "/content/drive/MyDrive/tracking/data/challenge/images/test/1199.jpg\n",
            "/content/drive/MyDrive/tracking/data/challenge/images/test/1200.jpg\n",
            "/content/drive/MyDrive/tracking/data/challenge/images/test/1201.jpg\n",
            "/content/drive/MyDrive/tracking/data/challenge/images/test/1202.jpg\n",
            "/content/drive/MyDrive/tracking/data/challenge/images/test/1203.jpg\n",
            "/content/drive/MyDrive/tracking/data/challenge/images/test/1204.jpg\n",
            "/content/drive/MyDrive/tracking/data/challenge/images/test/1205.jpg\n",
            "/content/drive/MyDrive/tracking/data/challenge/images/test/1206.jpg\n",
            "/content/drive/MyDrive/tracking/data/challenge/images/test/1207.jpg\n",
            "/content/drive/MyDrive/tracking/data/challenge/images/test/1208.jpg\n",
            "/content/drive/MyDrive/tracking/data/challenge/images/test/1209.jpg\n",
            "/content/drive/MyDrive/tracking/data/challenge/images/test/1210.jpg\n",
            "/content/drive/MyDrive/tracking/data/challenge/images/test/1211.jpg\n",
            "/content/drive/MyDrive/tracking/data/challenge/images/test/1212.jpg\n",
            "/content/drive/MyDrive/tracking/data/challenge/images/test/1213.jpg\n",
            "/content/drive/MyDrive/tracking/data/challenge/images/test/1214.jpg\n",
            "/content/drive/MyDrive/tracking/data/challenge/images/test/1215.jpg\n",
            "/content/drive/MyDrive/tracking/data/challenge/images/test/1216.jpg\n",
            "/content/drive/MyDrive/tracking/data/challenge/images/test/1217.jpg\n",
            "/content/drive/MyDrive/tracking/data/challenge/images/test/1218.jpg\n",
            "/content/drive/MyDrive/tracking/data/challenge/images/test/1219.jpg\n",
            "/content/drive/MyDrive/tracking/data/challenge/images/test/1220.jpg\n",
            "/content/drive/MyDrive/tracking/data/challenge/images/test/1221.jpg\n",
            "/content/drive/MyDrive/tracking/data/challenge/images/test/1222.jpg\n",
            "/content/drive/MyDrive/tracking/data/challenge/images/test/1223.jpg\n",
            "/content/drive/MyDrive/tracking/data/challenge/images/test/1224.jpg\n",
            "/content/drive/MyDrive/tracking/data/challenge/images/test/1225.jpg\n",
            "/content/drive/MyDrive/tracking/data/challenge/images/test/1226.jpg\n",
            "/content/drive/MyDrive/tracking/data/challenge/images/test/1227.jpg\n",
            "/content/drive/MyDrive/tracking/data/challenge/images/test/1228.jpg\n",
            "/content/drive/MyDrive/tracking/data/challenge/images/test/1229.jpg\n",
            "/content/drive/MyDrive/tracking/data/challenge/images/test/1230.jpg\n",
            "/content/drive/MyDrive/tracking/data/challenge/images/test/1231.jpg\n",
            "/content/drive/MyDrive/tracking/data/challenge/images/test/1232.jpg\n",
            "/content/drive/MyDrive/tracking/data/challenge/images/test/1233.jpg\n",
            "/content/drive/MyDrive/tracking/data/challenge/images/test/1234.jpg\n",
            "/content/drive/MyDrive/tracking/data/challenge/images/test/1235.jpg\n",
            "/content/drive/MyDrive/tracking/data/challenge/images/test/1236.jpg\n",
            "/content/drive/MyDrive/tracking/data/challenge/images/test/1237.jpg\n",
            "/content/drive/MyDrive/tracking/data/challenge/images/test/1238.jpg\n",
            "/content/drive/MyDrive/tracking/data/challenge/images/test/1239.jpg\n",
            "/content/drive/MyDrive/tracking/data/challenge/images/test/1240.jpg\n",
            "/content/drive/MyDrive/tracking/data/challenge/images/test/1241.jpg\n",
            "/content/drive/MyDrive/tracking/data/challenge/images/test/1242.jpg\n",
            "/content/drive/MyDrive/tracking/data/challenge/images/test/1243.jpg\n",
            "/content/drive/MyDrive/tracking/data/challenge/images/test/1244.jpg\n",
            "/content/drive/MyDrive/tracking/data/challenge/images/test/1245.jpg\n",
            "/content/drive/MyDrive/tracking/data/challenge/images/test/1246.jpg\n",
            "/content/drive/MyDrive/tracking/data/challenge/images/test/1247.jpg\n",
            "/content/drive/MyDrive/tracking/data/challenge/images/test/1248.jpg\n",
            "/content/drive/MyDrive/tracking/data/challenge/images/test/1249.jpg\n",
            "/content/drive/MyDrive/tracking/data/challenge/images/test/1250.jpg\n",
            "/content/drive/MyDrive/tracking/data/challenge/images/test/1251.jpg\n",
            "/content/drive/MyDrive/tracking/data/challenge/images/test/1252.jpg\n",
            "/content/drive/MyDrive/tracking/data/challenge/images/test/1253.jpg\n",
            "/content/drive/MyDrive/tracking/data/challenge/images/test/1254.jpg\n",
            "/content/drive/MyDrive/tracking/data/challenge/images/test/1255.jpg\n",
            "/content/drive/MyDrive/tracking/data/challenge/images/test/1256.jpg\n",
            "/content/drive/MyDrive/tracking/data/challenge/images/test/1257.jpg\n",
            "/content/drive/MyDrive/tracking/data/challenge/images/test/1258.jpg\n",
            "/content/drive/MyDrive/tracking/data/challenge/images/test/1259.jpg\n",
            "/content/drive/MyDrive/tracking/data/challenge/images/test/1260.jpg\n",
            "/content/drive/MyDrive/tracking/data/challenge/images/test/1261.jpg\n",
            "/content/drive/MyDrive/tracking/data/challenge/images/test/1262.jpg\n",
            "/content/drive/MyDrive/tracking/data/challenge/images/test/1263.jpg\n",
            "/content/drive/MyDrive/tracking/data/challenge/images/test/1264.jpg\n",
            "/content/drive/MyDrive/tracking/data/challenge/images/test/1265.jpg\n",
            "/content/drive/MyDrive/tracking/data/challenge/images/test/1266.jpg\n",
            "/content/drive/MyDrive/tracking/data/challenge/images/test/1267.jpg\n",
            "/content/drive/MyDrive/tracking/data/challenge/images/test/1268.jpg\n",
            "/content/drive/MyDrive/tracking/data/challenge/images/test/1269.jpg\n",
            "/content/drive/MyDrive/tracking/data/challenge/images/test/1270.jpg\n",
            "/content/drive/MyDrive/tracking/data/challenge/images/test/1271.jpg\n",
            "/content/drive/MyDrive/tracking/data/challenge/images/test/1272.jpg\n",
            "/content/drive/MyDrive/tracking/data/challenge/images/test/1273.jpg\n",
            "/content/drive/MyDrive/tracking/data/challenge/images/test/1274.jpg\n",
            "/content/drive/MyDrive/tracking/data/challenge/images/test/1275.jpg\n",
            "/content/drive/MyDrive/tracking/data/challenge/images/test/1276.jpg\n",
            "/content/drive/MyDrive/tracking/data/challenge/images/test/1277.jpg\n",
            "/content/drive/MyDrive/tracking/data/challenge/images/test/1278.jpg\n",
            "/content/drive/MyDrive/tracking/data/challenge/images/test/1279.jpg\n",
            "/content/drive/MyDrive/tracking/data/challenge/images/test/1280.jpg\n",
            "/content/drive/MyDrive/tracking/data/challenge/images/test/1281.jpg\n",
            "/content/drive/MyDrive/tracking/data/challenge/images/test/1282.jpg\n",
            "/content/drive/MyDrive/tracking/data/challenge/images/test/1283.jpg\n",
            "/content/drive/MyDrive/tracking/data/challenge/images/test/1284.jpg\n",
            "/content/drive/MyDrive/tracking/data/challenge/images/test/1285.jpg\n",
            "/content/drive/MyDrive/tracking/data/challenge/images/test/1286.jpg\n",
            "/content/drive/MyDrive/tracking/data/challenge/images/test/1287.jpg\n",
            "/content/drive/MyDrive/tracking/data/challenge/images/test/1288.jpg\n",
            "/content/drive/MyDrive/tracking/data/challenge/images/test/1289.jpg\n",
            "/content/drive/MyDrive/tracking/data/challenge/images/test/1290.jpg\n",
            "/content/drive/MyDrive/tracking/data/challenge/images/test/1291.jpg\n",
            "/content/drive/MyDrive/tracking/data/challenge/images/test/1292.jpg\n",
            "/content/drive/MyDrive/tracking/data/challenge/images/test/1293.jpg\n",
            "/content/drive/MyDrive/tracking/data/challenge/images/test/1294.jpg\n",
            "/content/drive/MyDrive/tracking/data/challenge/images/test/1295.jpg\n",
            "/content/drive/MyDrive/tracking/data/challenge/images/test/1296.jpg\n",
            "/content/drive/MyDrive/tracking/data/challenge/images/test/1297.jpg\n",
            "/content/drive/MyDrive/tracking/data/challenge/images/test/1298.jpg\n",
            "/content/drive/MyDrive/tracking/data/challenge/images/test/1299.jpg\n",
            "/content/drive/MyDrive/tracking/data/challenge/images/test/1300.jpg\n",
            "/content/drive/MyDrive/tracking/data/challenge/images/test/1301.jpg\n",
            "/content/drive/MyDrive/tracking/data/challenge/images/test/1302.jpg\n",
            "/content/drive/MyDrive/tracking/data/challenge/images/test/1303.jpg\n",
            "/content/drive/MyDrive/tracking/data/challenge/images/test/1304.jpg\n",
            "/content/drive/MyDrive/tracking/data/challenge/images/test/1305.jpg\n",
            "/content/drive/MyDrive/tracking/data/challenge/images/test/1306.jpg\n",
            "/content/drive/MyDrive/tracking/data/challenge/images/test/1307.jpg\n",
            "/content/drive/MyDrive/tracking/data/challenge/images/test/1308.jpg\n",
            "/content/drive/MyDrive/tracking/data/challenge/images/test/1309.jpg\n",
            "/content/drive/MyDrive/tracking/data/challenge/images/test/1310.jpg\n",
            "/content/drive/MyDrive/tracking/data/challenge/images/test/1311.jpg\n",
            "/content/drive/MyDrive/tracking/data/challenge/images/test/1312.jpg\n",
            "/content/drive/MyDrive/tracking/data/challenge/images/test/1313.jpg\n",
            "/content/drive/MyDrive/tracking/data/challenge/images/test/1314.jpg\n",
            "/content/drive/MyDrive/tracking/data/challenge/images/test/1315.jpg\n",
            "/content/drive/MyDrive/tracking/data/challenge/images/test/1316.jpg\n",
            "/content/drive/MyDrive/tracking/data/challenge/images/test/1317.jpg\n",
            "/content/drive/MyDrive/tracking/data/challenge/images/test/1318.jpg\n",
            "/content/drive/MyDrive/tracking/data/challenge/images/test/1319.jpg\n",
            "/content/drive/MyDrive/tracking/data/challenge/images/test/1320.jpg\n",
            "/content/drive/MyDrive/tracking/data/challenge/images/test/1321.jpg\n",
            "/content/drive/MyDrive/tracking/data/challenge/images/test/1322.jpg\n",
            "/content/drive/MyDrive/tracking/data/challenge/images/test/1323.jpg\n",
            "/content/drive/MyDrive/tracking/data/challenge/images/test/1324.jpg\n",
            "/content/drive/MyDrive/tracking/data/challenge/images/test/1325.jpg\n",
            "/content/drive/MyDrive/tracking/data/challenge/images/test/1326.jpg\n",
            "/content/drive/MyDrive/tracking/data/challenge/images/test/1327.jpg\n",
            "/content/drive/MyDrive/tracking/data/challenge/images/test/1328.jpg\n",
            "/content/drive/MyDrive/tracking/data/challenge/images/test/1329.jpg\n",
            "/content/drive/MyDrive/tracking/data/challenge/images/test/1330.jpg\n",
            "/content/drive/MyDrive/tracking/data/challenge/images/test/1331.jpg\n",
            "/content/drive/MyDrive/tracking/data/challenge/images/test/1332.jpg\n",
            "/content/drive/MyDrive/tracking/data/challenge/images/test/1333.jpg\n",
            "/content/drive/MyDrive/tracking/data/challenge/images/test/1334.jpg\n",
            "/content/drive/MyDrive/tracking/data/challenge/images/test/1335.jpg\n",
            "/content/drive/MyDrive/tracking/data/challenge/images/test/1336.jpg\n",
            "/content/drive/MyDrive/tracking/data/challenge/images/test/1337.jpg\n",
            "/content/drive/MyDrive/tracking/data/challenge/images/test/1338.jpg\n",
            "/content/drive/MyDrive/tracking/data/challenge/images/test/1339.jpg\n",
            "/content/drive/MyDrive/tracking/data/challenge/images/test/1340.jpg\n",
            "/content/drive/MyDrive/tracking/data/challenge/images/test/1341.jpg\n",
            "/content/drive/MyDrive/tracking/data/challenge/images/test/1342.jpg\n",
            "/content/drive/MyDrive/tracking/data/challenge/images/test/1343.jpg\n",
            "/content/drive/MyDrive/tracking/data/challenge/images/test/1344.jpg\n",
            "/content/drive/MyDrive/tracking/data/challenge/images/test/1345.jpg\n",
            "/content/drive/MyDrive/tracking/data/challenge/images/test/1346.jpg\n",
            "/content/drive/MyDrive/tracking/data/challenge/images/test/1347.jpg\n",
            "/content/drive/MyDrive/tracking/data/challenge/images/test/1348.jpg\n",
            "/content/drive/MyDrive/tracking/data/challenge/images/test/1349.jpg\n",
            "/content/drive/MyDrive/tracking/data/challenge/images/test/1350.jpg\n",
            "/content/drive/MyDrive/tracking/data/challenge/images/test/1351.jpg\n",
            "/content/drive/MyDrive/tracking/data/challenge/images/test/1352.jpg\n",
            "/content/drive/MyDrive/tracking/data/challenge/images/test/1353.jpg\n",
            "/content/drive/MyDrive/tracking/data/challenge/images/test/1354.jpg\n",
            "/content/drive/MyDrive/tracking/data/challenge/images/test/1355.jpg\n",
            "/content/drive/MyDrive/tracking/data/challenge/images/test/1356.jpg\n",
            "/content/drive/MyDrive/tracking/data/challenge/images/test/1357.jpg\n",
            "/content/drive/MyDrive/tracking/data/challenge/images/test/1358.jpg\n",
            "/content/drive/MyDrive/tracking/data/challenge/images/test/1359.jpg\n",
            "/content/drive/MyDrive/tracking/data/challenge/images/test/1360.jpg\n",
            "/content/drive/MyDrive/tracking/data/challenge/images/test/1361.jpg\n",
            "/content/drive/MyDrive/tracking/data/challenge/images/test/1362.jpg\n",
            "/content/drive/MyDrive/tracking/data/challenge/images/test/1363.jpg\n",
            "/content/drive/MyDrive/tracking/data/challenge/images/test/1364.jpg\n",
            "/content/drive/MyDrive/tracking/data/challenge/images/test/1365.jpg\n",
            "/content/drive/MyDrive/tracking/data/challenge/images/test/1366.jpg\n",
            "/content/drive/MyDrive/tracking/data/challenge/images/test/1367.jpg\n",
            "/content/drive/MyDrive/tracking/data/challenge/images/test/1368.jpg\n",
            "/content/drive/MyDrive/tracking/data/challenge/images/test/1369.jpg\n",
            "/content/drive/MyDrive/tracking/data/challenge/images/test/1370.jpg\n",
            "/content/drive/MyDrive/tracking/data/challenge/images/test/1371.jpg\n",
            "/content/drive/MyDrive/tracking/data/challenge/images/test/1372.jpg\n",
            "/content/drive/MyDrive/tracking/data/challenge/images/test/1373.jpg\n",
            "/content/drive/MyDrive/tracking/data/challenge/images/test/1374.jpg\n",
            "/content/drive/MyDrive/tracking/data/challenge/images/test/1375.jpg\n",
            "/content/drive/MyDrive/tracking/data/challenge/images/test/1376.jpg\n",
            "/content/drive/MyDrive/tracking/data/challenge/images/test/1377.jpg\n",
            "/content/drive/MyDrive/tracking/data/challenge/images/test/1378.jpg\n",
            "/content/drive/MyDrive/tracking/data/challenge/images/test/1379.jpg\n",
            "/content/drive/MyDrive/tracking/data/challenge/images/test/1380.jpg\n",
            "/content/drive/MyDrive/tracking/data/challenge/images/test/1381.jpg\n",
            "/content/drive/MyDrive/tracking/data/challenge/images/test/1382.jpg\n",
            "/content/drive/MyDrive/tracking/data/challenge/images/test/1383.jpg\n",
            "/content/drive/MyDrive/tracking/data/challenge/images/test/1384.jpg\n",
            "/content/drive/MyDrive/tracking/data/challenge/images/test/1385.jpg\n",
            "/content/drive/MyDrive/tracking/data/challenge/images/test/1386.jpg\n",
            "/content/drive/MyDrive/tracking/data/challenge/images/test/1387.jpg\n",
            "/content/drive/MyDrive/tracking/data/challenge/images/test/1388.jpg\n",
            "/content/drive/MyDrive/tracking/data/challenge/images/test/1389.jpg\n",
            "/content/drive/MyDrive/tracking/data/challenge/images/test/1390.jpg\n",
            "/content/drive/MyDrive/tracking/data/challenge/images/test/1391.jpg\n",
            "/content/drive/MyDrive/tracking/data/challenge/images/test/1392.jpg\n",
            "/content/drive/MyDrive/tracking/data/challenge/images/test/1393.jpg\n",
            "/content/drive/MyDrive/tracking/data/challenge/images/test/1394.jpg\n",
            "/content/drive/MyDrive/tracking/data/challenge/images/test/1395.jpg\n",
            "/content/drive/MyDrive/tracking/data/challenge/images/test/1396.jpg\n",
            "/content/drive/MyDrive/tracking/data/challenge/images/test/1397.jpg\n",
            "/content/drive/MyDrive/tracking/data/challenge/images/test/1398.jpg\n",
            "/content/drive/MyDrive/tracking/data/challenge/images/test/1399.jpg\n",
            "/content/drive/MyDrive/tracking/data/challenge/images/test/1400.jpg\n",
            "/content/drive/MyDrive/tracking/data/challenge/images/test/1401.jpg\n",
            "/content/drive/MyDrive/tracking/data/challenge/images/test/1402.jpg\n",
            "/content/drive/MyDrive/tracking/data/challenge/images/test/1403.jpg\n",
            "/content/drive/MyDrive/tracking/data/challenge/images/test/1404.jpg\n",
            "/content/drive/MyDrive/tracking/data/challenge/images/test/1405.jpg\n",
            "/content/drive/MyDrive/tracking/data/challenge/images/test/1406.jpg\n",
            "/content/drive/MyDrive/tracking/data/challenge/images/test/1407.jpg\n",
            "/content/drive/MyDrive/tracking/data/challenge/images/test/1408.jpg\n",
            "/content/drive/MyDrive/tracking/data/challenge/images/test/1409.jpg\n",
            "/content/drive/MyDrive/tracking/data/challenge/images/test/1410.jpg\n",
            "/content/drive/MyDrive/tracking/data/challenge/images/test/1411.jpg\n",
            "/content/drive/MyDrive/tracking/data/challenge/images/test/1412.jpg\n",
            "/content/drive/MyDrive/tracking/data/challenge/images/test/1413.jpg\n",
            "/content/drive/MyDrive/tracking/data/challenge/images/test/1414.jpg\n",
            "/content/drive/MyDrive/tracking/data/challenge/images/test/1415.jpg\n",
            "/content/drive/MyDrive/tracking/data/challenge/images/test/1416.jpg\n",
            "/content/drive/MyDrive/tracking/data/challenge/images/test/1417.jpg\n",
            "/content/drive/MyDrive/tracking/data/challenge/images/test/1418.jpg\n",
            "/content/drive/MyDrive/tracking/data/challenge/images/test/1419.jpg\n",
            "/content/drive/MyDrive/tracking/data/challenge/images/test/1420.jpg\n",
            "/content/drive/MyDrive/tracking/data/challenge/images/test/1421.jpg\n",
            "/content/drive/MyDrive/tracking/data/challenge/images/test/1422.jpg\n",
            "/content/drive/MyDrive/tracking/data/challenge/images/test/1423.jpg\n",
            "/content/drive/MyDrive/tracking/data/challenge/images/test/1424.jpg\n",
            "/content/drive/MyDrive/tracking/data/challenge/images/test/1425.jpg\n",
            "/content/drive/MyDrive/tracking/data/challenge/images/test/1426.jpg\n",
            "/content/drive/MyDrive/tracking/data/challenge/images/test/1427.jpg\n",
            "/content/drive/MyDrive/tracking/data/challenge/images/test/1428.jpg\n",
            "/content/drive/MyDrive/tracking/data/challenge/images/test/1429.jpg\n",
            "/content/drive/MyDrive/tracking/data/challenge/images/test/1430.jpg\n",
            "/content/drive/MyDrive/tracking/data/challenge/images/test/1431.jpg\n",
            "/content/drive/MyDrive/tracking/data/challenge/images/test/1432.jpg\n",
            "/content/drive/MyDrive/tracking/data/challenge/images/test/1433.jpg\n",
            "/content/drive/MyDrive/tracking/data/challenge/images/test/1434.jpg\n",
            "/content/drive/MyDrive/tracking/data/challenge/images/test/1435.jpg\n",
            "/content/drive/MyDrive/tracking/data/challenge/images/test/1436.jpg\n",
            "/content/drive/MyDrive/tracking/data/challenge/images/test/1437.jpg\n",
            "/content/drive/MyDrive/tracking/data/challenge/images/test/1438.jpg\n",
            "/content/drive/MyDrive/tracking/data/challenge/images/test/1439.jpg\n",
            "/content/drive/MyDrive/tracking/data/challenge/images/test/1440.jpg\n",
            "/content/drive/MyDrive/tracking/data/challenge/images/test/1441.jpg\n",
            "/content/drive/MyDrive/tracking/data/challenge/images/test/1442.jpg\n",
            "/content/drive/MyDrive/tracking/data/challenge/images/test/1443.jpg\n",
            "/content/drive/MyDrive/tracking/data/challenge/images/test/1444.jpg\n",
            "/content/drive/MyDrive/tracking/data/challenge/images/test/1445.jpg\n",
            "/content/drive/MyDrive/tracking/data/challenge/images/test/1446.jpg\n",
            "/content/drive/MyDrive/tracking/data/challenge/images/test/1447.jpg\n",
            "/content/drive/MyDrive/tracking/data/challenge/images/test/1448.jpg\n",
            "/content/drive/MyDrive/tracking/data/challenge/images/test/1449.jpg\n",
            "/content/drive/MyDrive/tracking/data/challenge/images/test/1450.jpg\n",
            "/content/drive/MyDrive/tracking/data/challenge/images/test/1451.jpg\n",
            "/content/drive/MyDrive/tracking/data/challenge/images/test/1452.jpg\n",
            "/content/drive/MyDrive/tracking/data/challenge/images/test/1453.jpg\n",
            "/content/drive/MyDrive/tracking/data/challenge/images/test/1454.jpg\n",
            "/content/drive/MyDrive/tracking/data/challenge/images/test/1455.jpg\n",
            "/content/drive/MyDrive/tracking/data/challenge/images/test/1456.jpg\n",
            "/content/drive/MyDrive/tracking/data/challenge/images/test/1457.jpg\n",
            "/content/drive/MyDrive/tracking/data/challenge/images/test/1458.jpg\n",
            "/content/drive/MyDrive/tracking/data/challenge/images/test/1459.jpg\n",
            "/content/drive/MyDrive/tracking/data/challenge/images/test/1460.jpg\n",
            "/content/drive/MyDrive/tracking/data/challenge/images/test/1461.jpg\n",
            "/content/drive/MyDrive/tracking/data/challenge/images/test/1462.jpg\n",
            "/content/drive/MyDrive/tracking/data/challenge/images/test/1463.jpg\n",
            "/content/drive/MyDrive/tracking/data/challenge/images/test/1464.jpg\n",
            "/content/drive/MyDrive/tracking/data/challenge/images/test/1465.jpg\n",
            "/content/drive/MyDrive/tracking/data/challenge/images/test/1466.jpg\n",
            "/content/drive/MyDrive/tracking/data/challenge/images/test/1467.jpg\n",
            "/content/drive/MyDrive/tracking/data/challenge/images/test/1468.jpg\n",
            "/content/drive/MyDrive/tracking/data/challenge/images/test/1469.jpg\n",
            "/content/drive/MyDrive/tracking/data/challenge/images/test/1470.jpg\n",
            "/content/drive/MyDrive/tracking/data/challenge/images/test/1471.jpg\n",
            "/content/drive/MyDrive/tracking/data/challenge/images/test/1472.jpg\n",
            "/content/drive/MyDrive/tracking/data/challenge/images/test/1473.jpg\n",
            "/content/drive/MyDrive/tracking/data/challenge/images/test/1474.jpg\n",
            "/content/drive/MyDrive/tracking/data/challenge/images/test/1475.jpg\n",
            "/content/drive/MyDrive/tracking/data/challenge/images/test/1476.jpg\n",
            "/content/drive/MyDrive/tracking/data/challenge/images/test/1477.jpg\n",
            "/content/drive/MyDrive/tracking/data/challenge/images/test/1478.jpg\n",
            "/content/drive/MyDrive/tracking/data/challenge/images/test/1479.jpg\n",
            "/content/drive/MyDrive/tracking/data/challenge/images/test/1480.jpg\n",
            "/content/drive/MyDrive/tracking/data/challenge/images/test/1481.jpg\n",
            "/content/drive/MyDrive/tracking/data/challenge/images/test/1482.jpg\n",
            "/content/drive/MyDrive/tracking/data/challenge/images/test/1483.jpg\n",
            "/content/drive/MyDrive/tracking/data/challenge/images/test/1484.jpg\n",
            "/content/drive/MyDrive/tracking/data/challenge/images/test/1485.jpg\n",
            "/content/drive/MyDrive/tracking/data/challenge/images/test/1486.jpg\n",
            "/content/drive/MyDrive/tracking/data/challenge/images/test/1487.jpg\n",
            "/content/drive/MyDrive/tracking/data/challenge/images/test/1488.jpg\n",
            "/content/drive/MyDrive/tracking/data/challenge/images/test/1489.jpg\n",
            "/content/drive/MyDrive/tracking/data/challenge/images/test/1490.jpg\n",
            "/content/drive/MyDrive/tracking/data/challenge/images/test/1491.jpg\n",
            "/content/drive/MyDrive/tracking/data/challenge/images/test/1492.jpg\n",
            "/content/drive/MyDrive/tracking/data/challenge/images/test/1493.jpg\n",
            "/content/drive/MyDrive/tracking/data/challenge/images/test/1494.jpg\n",
            "/content/drive/MyDrive/tracking/data/challenge/images/test/1495.jpg\n",
            "/content/drive/MyDrive/tracking/data/challenge/images/test/1496.jpg\n",
            "/content/drive/MyDrive/tracking/data/challenge/images/test/1497.jpg\n",
            "/content/drive/MyDrive/tracking/data/challenge/images/test/1498.jpg\n",
            "/content/drive/MyDrive/tracking/data/challenge/images/test/1499.jpg\n",
            "/content/drive/MyDrive/tracking/data/challenge/images/test/1500.jpg\n",
            "/content/drive/MyDrive/tracking/data/challenge/images/test/1501.jpg\n",
            "/content/drive/MyDrive/tracking/data/challenge/images/test/1502.jpg\n",
            "/content/drive/MyDrive/tracking/data/challenge/images/test/1503.jpg\n",
            "/content/drive/MyDrive/tracking/data/challenge/images/test/1504.jpg\n",
            "/content/drive/MyDrive/tracking/data/challenge/images/test/1505.jpg\n",
            "/content/drive/MyDrive/tracking/data/challenge/images/test/1506.jpg\n",
            "/content/drive/MyDrive/tracking/data/challenge/images/test/1507.jpg\n",
            "/content/drive/MyDrive/tracking/data/challenge/images/test/1508.jpg\n",
            "/content/drive/MyDrive/tracking/data/challenge/images/test/1509.jpg\n",
            "/content/drive/MyDrive/tracking/data/challenge/images/test/1510.jpg\n",
            "/content/drive/MyDrive/tracking/data/challenge/images/test/1511.jpg\n",
            "/content/drive/MyDrive/tracking/data/challenge/images/test/1512.jpg\n",
            "/content/drive/MyDrive/tracking/data/challenge/images/test/1513.jpg\n",
            "/content/drive/MyDrive/tracking/data/challenge/images/test/1514.jpg\n",
            "/content/drive/MyDrive/tracking/data/challenge/images/test/1515.jpg\n",
            "/content/drive/MyDrive/tracking/data/challenge/images/test/1516.jpg\n",
            "/content/drive/MyDrive/tracking/data/challenge/images/test/1517.jpg\n",
            "/content/drive/MyDrive/tracking/data/challenge/images/test/1518.jpg\n",
            "/content/drive/MyDrive/tracking/data/challenge/images/test/1519.jpg\n",
            "/content/drive/MyDrive/tracking/data/challenge/images/test/1520.jpg\n",
            "/content/drive/MyDrive/tracking/data/challenge/images/test/1521.jpg\n",
            "/content/drive/MyDrive/tracking/data/challenge/images/test/1522.jpg\n",
            "/content/drive/MyDrive/tracking/data/challenge/images/test/1523.jpg\n",
            "/content/drive/MyDrive/tracking/data/challenge/images/test/1524.jpg\n",
            "/content/drive/MyDrive/tracking/data/challenge/images/test/1525.jpg\n",
            "/content/drive/MyDrive/tracking/data/challenge/images/test/1526.jpg\n",
            "/content/drive/MyDrive/tracking/data/challenge/images/test/1527.jpg\n",
            "/content/drive/MyDrive/tracking/data/challenge/images/test/1528.jpg\n",
            "/content/drive/MyDrive/tracking/data/challenge/images/test/1529.jpg\n",
            "/content/drive/MyDrive/tracking/data/challenge/images/test/1530.jpg\n",
            "/content/drive/MyDrive/tracking/data/challenge/images/test/1531.jpg\n",
            "/content/drive/MyDrive/tracking/data/challenge/images/test/1532.jpg\n",
            "/content/drive/MyDrive/tracking/data/challenge/images/test/1533.jpg\n",
            "/content/drive/MyDrive/tracking/data/challenge/images/test/1534.jpg\n",
            "/content/drive/MyDrive/tracking/data/challenge/images/test/1535.jpg\n",
            "/content/drive/MyDrive/tracking/data/challenge/images/test/1536.jpg\n",
            "/content/drive/MyDrive/tracking/data/challenge/images/test/1537.jpg\n",
            "/content/drive/MyDrive/tracking/data/challenge/images/test/1538.jpg\n",
            "/content/drive/MyDrive/tracking/data/challenge/images/test/1539.jpg\n",
            "/content/drive/MyDrive/tracking/data/challenge/images/test/1540.jpg\n",
            "/content/drive/MyDrive/tracking/data/challenge/images/test/1541.jpg\n",
            "/content/drive/MyDrive/tracking/data/challenge/images/test/1542.jpg\n",
            "/content/drive/MyDrive/tracking/data/challenge/images/test/1543.jpg\n",
            "/content/drive/MyDrive/tracking/data/challenge/images/test/1544.jpg\n",
            "/content/drive/MyDrive/tracking/data/challenge/images/test/1545.jpg\n",
            "/content/drive/MyDrive/tracking/data/challenge/images/test/1546.jpg\n",
            "/content/drive/MyDrive/tracking/data/challenge/images/test/1547.jpg\n",
            "/content/drive/MyDrive/tracking/data/challenge/images/test/1548.jpg\n",
            "/content/drive/MyDrive/tracking/data/challenge/images/test/1549.jpg\n",
            "/content/drive/MyDrive/tracking/data/challenge/images/test/1550.jpg\n",
            "/content/drive/MyDrive/tracking/data/challenge/images/test/1551.jpg\n",
            "/content/drive/MyDrive/tracking/data/challenge/images/test/1552.jpg\n",
            "/content/drive/MyDrive/tracking/data/challenge/images/test/1553.jpg\n",
            "/content/drive/MyDrive/tracking/data/challenge/images/test/1554.jpg\n",
            "/content/drive/MyDrive/tracking/data/challenge/images/test/1555.jpg\n",
            "/content/drive/MyDrive/tracking/data/challenge/images/test/1556.jpg\n",
            "/content/drive/MyDrive/tracking/data/challenge/images/test/1557.jpg\n",
            "/content/drive/MyDrive/tracking/data/challenge/images/test/1558.jpg\n",
            "/content/drive/MyDrive/tracking/data/challenge/images/test/1559.jpg\n",
            "/content/drive/MyDrive/tracking/data/challenge/images/test/1560.jpg\n",
            "/content/drive/MyDrive/tracking/data/challenge/images/test/1561.jpg\n",
            "/content/drive/MyDrive/tracking/data/challenge/images/test/1562.jpg\n",
            "/content/drive/MyDrive/tracking/data/challenge/images/test/1563.jpg\n",
            "/content/drive/MyDrive/tracking/data/challenge/images/test/1564.jpg\n",
            "/content/drive/MyDrive/tracking/data/challenge/images/test/1565.jpg\n",
            "/content/drive/MyDrive/tracking/data/challenge/images/test/1566.jpg\n",
            "/content/drive/MyDrive/tracking/data/challenge/images/test/1567.jpg\n",
            "/content/drive/MyDrive/tracking/data/challenge/images/test/1568.jpg\n",
            "/content/drive/MyDrive/tracking/data/challenge/images/test/1569.jpg\n",
            "/content/drive/MyDrive/tracking/data/challenge/images/test/1570.jpg\n",
            "/content/drive/MyDrive/tracking/data/challenge/images/test/1571.jpg\n",
            "/content/drive/MyDrive/tracking/data/challenge/images/test/1572.jpg\n",
            "/content/drive/MyDrive/tracking/data/challenge/images/test/1573.jpg\n",
            "/content/drive/MyDrive/tracking/data/challenge/images/test/1574.jpg\n",
            "/content/drive/MyDrive/tracking/data/challenge/images/test/1575.jpg\n",
            "/content/drive/MyDrive/tracking/data/challenge/images/test/1576.jpg\n",
            "/content/drive/MyDrive/tracking/data/challenge/images/test/1577.jpg\n",
            "/content/drive/MyDrive/tracking/data/challenge/images/test/1578.jpg\n",
            "/content/drive/MyDrive/tracking/data/challenge/images/test/1579.jpg\n",
            "/content/drive/MyDrive/tracking/data/challenge/images/test/1580.jpg\n",
            "/content/drive/MyDrive/tracking/data/challenge/images/test/1581.jpg\n",
            "/content/drive/MyDrive/tracking/data/challenge/images/test/1582.jpg\n",
            "/content/drive/MyDrive/tracking/data/challenge/images/test/1583.jpg\n",
            "/content/drive/MyDrive/tracking/data/challenge/images/test/1584.jpg\n",
            "/content/drive/MyDrive/tracking/data/challenge/images/test/1585.jpg\n",
            "/content/drive/MyDrive/tracking/data/challenge/images/test/1586.jpg\n",
            "/content/drive/MyDrive/tracking/data/challenge/images/test/1587.jpg\n",
            "/content/drive/MyDrive/tracking/data/challenge/images/test/1588.jpg\n",
            "/content/drive/MyDrive/tracking/data/challenge/images/test/1589.jpg\n",
            "/content/drive/MyDrive/tracking/data/challenge/images/test/1590.jpg\n",
            "/content/drive/MyDrive/tracking/data/challenge/images/test/1591.jpg\n",
            "/content/drive/MyDrive/tracking/data/challenge/images/test/1592.jpg\n",
            "/content/drive/MyDrive/tracking/data/challenge/images/test/1593.jpg\n",
            "/content/drive/MyDrive/tracking/data/challenge/images/test/1594.jpg\n",
            "/content/drive/MyDrive/tracking/data/challenge/images/test/1595.jpg\n",
            "/content/drive/MyDrive/tracking/data/challenge/images/test/1596.jpg\n",
            "/content/drive/MyDrive/tracking/data/challenge/images/test/1597.jpg\n",
            "/content/drive/MyDrive/tracking/data/challenge/images/test/1598.jpg\n",
            "/content/drive/MyDrive/tracking/data/challenge/images/test/1599.jpg\n",
            "/content/drive/MyDrive/tracking/data/challenge/images/test/1600.jpg\n",
            "/content/drive/MyDrive/tracking/data/challenge/images/test/1601.jpg\n",
            "/content/drive/MyDrive/tracking/data/challenge/images/test/1602.jpg\n",
            "/content/drive/MyDrive/tracking/data/challenge/images/test/1603.jpg\n",
            "/content/drive/MyDrive/tracking/data/challenge/images/test/1604.jpg\n",
            "/content/drive/MyDrive/tracking/data/challenge/images/test/1605.jpg\n",
            "/content/drive/MyDrive/tracking/data/challenge/images/test/1606.jpg\n",
            "/content/drive/MyDrive/tracking/data/challenge/images/test/1607.jpg\n",
            "/content/drive/MyDrive/tracking/data/challenge/images/test/1608.jpg\n",
            "/content/drive/MyDrive/tracking/data/challenge/images/test/1609.jpg\n",
            "/content/drive/MyDrive/tracking/data/challenge/images/test/1610.jpg\n",
            "/content/drive/MyDrive/tracking/data/challenge/images/test/1611.jpg\n",
            "/content/drive/MyDrive/tracking/data/challenge/images/test/1612.jpg\n",
            "/content/drive/MyDrive/tracking/data/challenge/images/test/1613.jpg\n",
            "/content/drive/MyDrive/tracking/data/challenge/images/test/1614.jpg\n",
            "/content/drive/MyDrive/tracking/data/challenge/images/test/1615.jpg\n",
            "/content/drive/MyDrive/tracking/data/challenge/images/test/1616.jpg\n",
            "/content/drive/MyDrive/tracking/data/challenge/images/test/1617.jpg\n",
            "/content/drive/MyDrive/tracking/data/challenge/images/test/1618.jpg\n",
            "/content/drive/MyDrive/tracking/data/challenge/images/test/1619.jpg\n",
            "/content/drive/MyDrive/tracking/data/challenge/images/test/1620.jpg\n",
            "/content/drive/MyDrive/tracking/data/challenge/images/test/1621.jpg\n",
            "/content/drive/MyDrive/tracking/data/challenge/images/test/1622.jpg\n",
            "/content/drive/MyDrive/tracking/data/challenge/images/test/1623.jpg\n",
            "/content/drive/MyDrive/tracking/data/challenge/images/test/1624.jpg\n",
            "/content/drive/MyDrive/tracking/data/challenge/images/test/1625.jpg\n",
            "/content/drive/MyDrive/tracking/data/challenge/images/test/1626.jpg\n",
            "/content/drive/MyDrive/tracking/data/challenge/images/test/1627.jpg\n",
            "/content/drive/MyDrive/tracking/data/challenge/images/test/1628.jpg\n",
            "/content/drive/MyDrive/tracking/data/challenge/images/test/1629.jpg\n",
            "/content/drive/MyDrive/tracking/data/challenge/images/test/1630.jpg\n",
            "/content/drive/MyDrive/tracking/data/challenge/images/test/1631.jpg\n",
            "/content/drive/MyDrive/tracking/data/challenge/images/test/1632.jpg\n",
            "/content/drive/MyDrive/tracking/data/challenge/images/test/1633.jpg\n",
            "/content/drive/MyDrive/tracking/data/challenge/images/test/1634.jpg\n",
            "/content/drive/MyDrive/tracking/data/challenge/images/test/1635.jpg\n",
            "/content/drive/MyDrive/tracking/data/challenge/images/test/1636.jpg\n",
            "/content/drive/MyDrive/tracking/data/challenge/images/test/1637.jpg\n",
            "/content/drive/MyDrive/tracking/data/challenge/images/test/1638.jpg\n",
            "/content/drive/MyDrive/tracking/data/challenge/images/test/1639.jpg\n",
            "/content/drive/MyDrive/tracking/data/challenge/images/test/1640.jpg\n",
            "/content/drive/MyDrive/tracking/data/challenge/images/test/1641.jpg\n",
            "/content/drive/MyDrive/tracking/data/challenge/images/test/1642.jpg\n",
            "/content/drive/MyDrive/tracking/data/challenge/images/test/1643.jpg\n",
            "/content/drive/MyDrive/tracking/data/challenge/images/test/1644.jpg\n",
            "/content/drive/MyDrive/tracking/data/challenge/images/test/1645.jpg\n",
            "/content/drive/MyDrive/tracking/data/challenge/images/test/1646.jpg\n",
            "/content/drive/MyDrive/tracking/data/challenge/images/test/1647.jpg\n",
            "/content/drive/MyDrive/tracking/data/challenge/images/test/1648.jpg\n",
            "/content/drive/MyDrive/tracking/data/challenge/images/test/1649.jpg\n",
            "/content/drive/MyDrive/tracking/data/challenge/images/test/1650.jpg\n",
            "/content/drive/MyDrive/tracking/data/challenge/images/test/1651.jpg\n",
            "/content/drive/MyDrive/tracking/data/challenge/images/test/1652.jpg\n",
            "/content/drive/MyDrive/tracking/data/challenge/images/test/1653.jpg\n",
            "/content/drive/MyDrive/tracking/data/challenge/images/test/1654.jpg\n",
            "/content/drive/MyDrive/tracking/data/challenge/images/test/1655.jpg\n",
            "/content/drive/MyDrive/tracking/data/challenge/images/test/1656.jpg\n",
            "/content/drive/MyDrive/tracking/data/challenge/images/test/1657.jpg\n",
            "/content/drive/MyDrive/tracking/data/challenge/images/test/1658.jpg\n",
            "/content/drive/MyDrive/tracking/data/challenge/images/test/1659.jpg\n",
            "/content/drive/MyDrive/tracking/data/challenge/images/test/1660.jpg\n",
            "/content/drive/MyDrive/tracking/data/challenge/images/test/1661.jpg\n",
            "/content/drive/MyDrive/tracking/data/challenge/images/test/1662.jpg\n",
            "/content/drive/MyDrive/tracking/data/challenge/images/test/1663.jpg\n",
            "/content/drive/MyDrive/tracking/data/challenge/images/test/1664.jpg\n",
            "/content/drive/MyDrive/tracking/data/challenge/images/test/1665.jpg\n",
            "/content/drive/MyDrive/tracking/data/challenge/images/test/1666.jpg\n",
            "/content/drive/MyDrive/tracking/data/challenge/images/test/1667.jpg\n",
            "/content/drive/MyDrive/tracking/data/challenge/images/test/1668.jpg\n",
            "/content/drive/MyDrive/tracking/data/challenge/images/test/1669.jpg\n",
            "/content/drive/MyDrive/tracking/data/challenge/images/test/1670.jpg\n",
            "/content/drive/MyDrive/tracking/data/challenge/images/test/1671.jpg\n",
            "/content/drive/MyDrive/tracking/data/challenge/images/test/1672.jpg\n",
            "/content/drive/MyDrive/tracking/data/challenge/images/test/1673.jpg\n",
            "/content/drive/MyDrive/tracking/data/challenge/images/test/1674.jpg\n",
            "/content/drive/MyDrive/tracking/data/challenge/images/test/1675.jpg\n",
            "/content/drive/MyDrive/tracking/data/challenge/images/test/1676.jpg\n",
            "/content/drive/MyDrive/tracking/data/challenge/images/test/1677.jpg\n",
            "/content/drive/MyDrive/tracking/data/challenge/images/test/1678.jpg\n",
            "/content/drive/MyDrive/tracking/data/challenge/images/test/1679.jpg\n",
            "/content/drive/MyDrive/tracking/data/challenge/images/test/1680.jpg\n",
            "/content/drive/MyDrive/tracking/data/challenge/images/test/1681.jpg\n",
            "/content/drive/MyDrive/tracking/data/challenge/images/test/1682.jpg\n",
            "/content/drive/MyDrive/tracking/data/challenge/images/test/1683.jpg\n",
            "/content/drive/MyDrive/tracking/data/challenge/images/test/1684.jpg\n",
            "/content/drive/MyDrive/tracking/data/challenge/images/test/1685.jpg\n",
            "/content/drive/MyDrive/tracking/data/challenge/images/test/1686.jpg\n",
            "/content/drive/MyDrive/tracking/data/challenge/images/test/1687.jpg\n",
            "/content/drive/MyDrive/tracking/data/challenge/images/test/1688.jpg\n",
            "/content/drive/MyDrive/tracking/data/challenge/images/test/1689.jpg\n",
            "/content/drive/MyDrive/tracking/data/challenge/images/test/1690.jpg\n",
            "/content/drive/MyDrive/tracking/data/challenge/images/test/1691.jpg\n",
            "/content/drive/MyDrive/tracking/data/challenge/images/test/1692.jpg\n",
            "/content/drive/MyDrive/tracking/data/challenge/images/test/1693.jpg\n",
            "/content/drive/MyDrive/tracking/data/challenge/images/test/1694.jpg\n",
            "/content/drive/MyDrive/tracking/data/challenge/images/test/1695.jpg\n",
            "/content/drive/MyDrive/tracking/data/challenge/images/test/1696.jpg\n",
            "/content/drive/MyDrive/tracking/data/challenge/images/test/1697.jpg\n",
            "/content/drive/MyDrive/tracking/data/challenge/images/test/1698.jpg\n",
            "/content/drive/MyDrive/tracking/data/challenge/images/test/1699.jpg\n",
            "/content/drive/MyDrive/tracking/data/challenge/images/test/1700.jpg\n",
            "/content/drive/MyDrive/tracking/data/challenge/images/test/1701.jpg\n",
            "/content/drive/MyDrive/tracking/data/challenge/images/test/1702.jpg\n",
            "/content/drive/MyDrive/tracking/data/challenge/images/test/1703.jpg\n",
            "/content/drive/MyDrive/tracking/data/challenge/images/test/1704.jpg\n",
            "/content/drive/MyDrive/tracking/data/challenge/images/test/1705.jpg\n",
            "/content/drive/MyDrive/tracking/data/challenge/images/test/1706.jpg\n",
            "/content/drive/MyDrive/tracking/data/challenge/images/test/1707.jpg\n",
            "/content/drive/MyDrive/tracking/data/challenge/images/test/1708.jpg\n",
            "/content/drive/MyDrive/tracking/data/challenge/images/test/1709.jpg\n",
            "/content/drive/MyDrive/tracking/data/challenge/images/test/1710.jpg\n",
            "/content/drive/MyDrive/tracking/data/challenge/images/test/1711.jpg\n",
            "/content/drive/MyDrive/tracking/data/challenge/images/test/1712.jpg\n",
            "/content/drive/MyDrive/tracking/data/challenge/images/test/1713.jpg\n",
            "/content/drive/MyDrive/tracking/data/challenge/images/test/1714.jpg\n",
            "/content/drive/MyDrive/tracking/data/challenge/images/test/1715.jpg\n",
            "/content/drive/MyDrive/tracking/data/challenge/images/test/1716.jpg\n",
            "/content/drive/MyDrive/tracking/data/challenge/images/test/1717.jpg\n",
            "/content/drive/MyDrive/tracking/data/challenge/images/test/1718.jpg\n",
            "/content/drive/MyDrive/tracking/data/challenge/images/test/1719.jpg\n",
            "/content/drive/MyDrive/tracking/data/challenge/images/test/1720.jpg\n",
            "/content/drive/MyDrive/tracking/data/challenge/images/test/1721.jpg\n",
            "/content/drive/MyDrive/tracking/data/challenge/images/test/1722.jpg\n",
            "/content/drive/MyDrive/tracking/data/challenge/images/test/1723.jpg\n",
            "/content/drive/MyDrive/tracking/data/challenge/images/test/1724.jpg\n",
            "/content/drive/MyDrive/tracking/data/challenge/images/test/1725.jpg\n",
            "/content/drive/MyDrive/tracking/data/challenge/images/test/1726.jpg\n",
            "/content/drive/MyDrive/tracking/data/challenge/images/test/1727.jpg\n",
            "/content/drive/MyDrive/tracking/data/challenge/images/test/1728.jpg\n",
            "/content/drive/MyDrive/tracking/data/challenge/images/test/1729.jpg\n",
            "/content/drive/MyDrive/tracking/data/challenge/images/test/1730.jpg\n",
            "/content/drive/MyDrive/tracking/data/challenge/images/test/1731.jpg\n",
            "/content/drive/MyDrive/tracking/data/challenge/images/test/1732.jpg\n",
            "/content/drive/MyDrive/tracking/data/challenge/images/test/1733.jpg\n",
            "/content/drive/MyDrive/tracking/data/challenge/images/test/1734.jpg\n",
            "/content/drive/MyDrive/tracking/data/challenge/images/test/1735.jpg\n",
            "/content/drive/MyDrive/tracking/data/challenge/images/test/1736.jpg\n",
            "/content/drive/MyDrive/tracking/data/challenge/images/test/1737.jpg\n",
            "/content/drive/MyDrive/tracking/data/challenge/images/test/1738.jpg\n",
            "/content/drive/MyDrive/tracking/data/challenge/images/test/1739.jpg\n",
            "/content/drive/MyDrive/tracking/data/challenge/images/test/1740.jpg\n",
            "/content/drive/MyDrive/tracking/data/challenge/images/test/1741.jpg\n",
            "/content/drive/MyDrive/tracking/data/challenge/images/test/1742.jpg\n",
            "/content/drive/MyDrive/tracking/data/challenge/images/test/1743.jpg\n",
            "/content/drive/MyDrive/tracking/data/challenge/images/test/1744.jpg\n",
            "/content/drive/MyDrive/tracking/data/challenge/images/test/1745.jpg\n",
            "/content/drive/MyDrive/tracking/data/challenge/images/test/1746.jpg\n",
            "/content/drive/MyDrive/tracking/data/challenge/images/test/1747.jpg\n",
            "/content/drive/MyDrive/tracking/data/challenge/images/test/1748.jpg\n",
            "/content/drive/MyDrive/tracking/data/challenge/images/test/1749.jpg\n",
            "/content/drive/MyDrive/tracking/data/challenge/images/test/1750.jpg\n",
            "/content/drive/MyDrive/tracking/data/challenge/images/test/1751.jpg\n",
            "/content/drive/MyDrive/tracking/data/challenge/images/test/1752.jpg\n",
            "/content/drive/MyDrive/tracking/data/challenge/images/test/1753.jpg\n",
            "/content/drive/MyDrive/tracking/data/challenge/images/test/1754.jpg\n",
            "/content/drive/MyDrive/tracking/data/challenge/images/test/1755.jpg\n",
            "/content/drive/MyDrive/tracking/data/challenge/images/test/1756.jpg\n",
            "/content/drive/MyDrive/tracking/data/challenge/images/test/1757.jpg\n",
            "/content/drive/MyDrive/tracking/data/challenge/images/test/1758.jpg\n",
            "/content/drive/MyDrive/tracking/data/challenge/images/test/1759.jpg\n",
            "/content/drive/MyDrive/tracking/data/challenge/images/test/1760.jpg\n",
            "/content/drive/MyDrive/tracking/data/challenge/images/test/1761.jpg\n",
            "/content/drive/MyDrive/tracking/data/challenge/images/test/1762.jpg\n",
            "/content/drive/MyDrive/tracking/data/challenge/images/test/1763.jpg\n",
            "/content/drive/MyDrive/tracking/data/challenge/images/test/1764.jpg\n",
            "/content/drive/MyDrive/tracking/data/challenge/images/test/1765.jpg\n",
            "/content/drive/MyDrive/tracking/data/challenge/images/test/1766.jpg\n",
            "/content/drive/MyDrive/tracking/data/challenge/images/test/1767.jpg\n",
            "/content/drive/MyDrive/tracking/data/challenge/images/test/1768.jpg\n",
            "/content/drive/MyDrive/tracking/data/challenge/images/test/1769.jpg\n",
            "/content/drive/MyDrive/tracking/data/challenge/images/test/1770.jpg\n",
            "/content/drive/MyDrive/tracking/data/challenge/images/test/1771.jpg\n",
            "/content/drive/MyDrive/tracking/data/challenge/images/test/1772.jpg\n",
            "/content/drive/MyDrive/tracking/data/challenge/images/test/1773.jpg\n",
            "/content/drive/MyDrive/tracking/data/challenge/images/test/1774.jpg\n",
            "/content/drive/MyDrive/tracking/data/challenge/images/test/1775.jpg\n",
            "/content/drive/MyDrive/tracking/data/challenge/images/test/1776.jpg\n",
            "/content/drive/MyDrive/tracking/data/challenge/images/test/1777.jpg\n",
            "/content/drive/MyDrive/tracking/data/challenge/images/test/1778.jpg\n",
            "/content/drive/MyDrive/tracking/data/challenge/images/test/1779.jpg\n",
            "/content/drive/MyDrive/tracking/data/challenge/images/test/1780.jpg\n",
            "/content/drive/MyDrive/tracking/data/challenge/images/test/1781.jpg\n",
            "/content/drive/MyDrive/tracking/data/challenge/images/test/1782.jpg\n",
            "/content/drive/MyDrive/tracking/data/challenge/images/test/1783.jpg\n",
            "/content/drive/MyDrive/tracking/data/challenge/images/test/1784.jpg\n",
            "/content/drive/MyDrive/tracking/data/challenge/images/test/1785.jpg\n",
            "/content/drive/MyDrive/tracking/data/challenge/images/test/1786.jpg\n",
            "/content/drive/MyDrive/tracking/data/challenge/images/test/1787.jpg\n",
            "/content/drive/MyDrive/tracking/data/challenge/images/test/1788.jpg\n",
            "/content/drive/MyDrive/tracking/data/challenge/images/test/1789.jpg\n",
            "/content/drive/MyDrive/tracking/data/challenge/images/test/1790.jpg\n",
            "/content/drive/MyDrive/tracking/data/challenge/images/test/1791.jpg\n",
            "/content/drive/MyDrive/tracking/data/challenge/images/test/1792.jpg\n",
            "/content/drive/MyDrive/tracking/data/challenge/images/test/1793.jpg\n",
            "/content/drive/MyDrive/tracking/data/challenge/images/test/1794.jpg\n",
            "/content/drive/MyDrive/tracking/data/challenge/images/test/1795.jpg\n",
            "/content/drive/MyDrive/tracking/data/challenge/images/test/1796.jpg\n",
            "/content/drive/MyDrive/tracking/data/challenge/images/test/1797.jpg\n",
            "/content/drive/MyDrive/tracking/data/challenge/images/test/1798.jpg\n",
            "/content/drive/MyDrive/tracking/data/challenge/images/test/1799.jpg\n"
          ]
        }
      ]
    },
    {
      "cell_type": "markdown",
      "source": [
        "##install detectron2"
      ],
      "metadata": {
        "id": "Qp4MaLERoOQ4"
      }
    },
    {
      "cell_type": "markdown",
      "source": [
        "###cpu"
      ],
      "metadata": {
        "id": "muY8w9bJ8fcC"
      }
    },
    {
      "cell_type": "markdown",
      "source": [
        "the use of cpu version was due to limited access to gpu by colab"
      ],
      "metadata": {
        "id": "q8N6TPfAS9Fy"
      }
    },
    {
      "cell_type": "code",
      "source": [
        "!pip install torch==1.10.1+cpu torchvision==0.11.2+cpu torchaudio==0.10.1 -f https://download.pytorch.org/whl/cpu/torch_stable.html"
      ],
      "metadata": {
        "colab": {
          "base_uri": "https://localhost:8080/"
        },
        "id": "h27zbRm0n8OY",
        "outputId": "f5d5d98b-8cb7-4923-d28b-985caad45959"
      },
      "execution_count": null,
      "outputs": [
        {
          "output_type": "stream",
          "name": "stdout",
          "text": [
            "Looking in indexes: https://pypi.org/simple, https://us-python.pkg.dev/colab-wheels/public/simple/\n",
            "Looking in links: https://download.pytorch.org/whl/cpu/torch_stable.html\n",
            "Collecting torch==1.10.1+cpu\n",
            "  Downloading https://download.pytorch.org/whl/cpu/torch-1.10.1%2Bcpu-cp38-cp38-linux_x86_64.whl (199.3 MB)\n",
            "\u001b[2K     \u001b[90m━━━━━━━━━━━━━━━━━━━━━━━━━━━━━━━━━━━━━━━\u001b[0m \u001b[32m199.3/199.3 MB\u001b[0m \u001b[31m3.9 MB/s\u001b[0m eta \u001b[36m0:00:00\u001b[0m\n",
            "\u001b[?25hCollecting torchvision==0.11.2+cpu\n",
            "  Downloading https://download.pytorch.org/whl/cpu/torchvision-0.11.2%2Bcpu-cp38-cp38-linux_x86_64.whl (16.2 MB)\n",
            "\u001b[2K     \u001b[90m━━━━━━━━━━━━━━━━━━━━━━━━━━━━━━━━━━━━━━━━\u001b[0m \u001b[32m16.2/16.2 MB\u001b[0m \u001b[31m39.3 MB/s\u001b[0m eta \u001b[36m0:00:00\u001b[0m\n",
            "\u001b[?25hCollecting torchaudio==0.10.1\n",
            "  Downloading https://download.pytorch.org/whl/cpu/torchaudio-0.10.1%2Bcpu-cp38-cp38-linux_x86_64.whl (2.7 MB)\n",
            "\u001b[2K     \u001b[90m━━━━━━━━━━━━━━━━━━━━━━━━━━━━━━━━━━━━━━━━\u001b[0m \u001b[32m2.7/2.7 MB\u001b[0m \u001b[31m2.0 MB/s\u001b[0m eta \u001b[36m0:00:00\u001b[0m\n",
            "\u001b[?25hRequirement already satisfied: typing-extensions in /usr/local/lib/python3.8/dist-packages (from torch==1.10.1+cpu) (4.4.0)\n",
            "Requirement already satisfied: pillow!=8.3.0,>=5.3.0 in /usr/local/lib/python3.8/dist-packages (from torchvision==0.11.2+cpu) (7.1.2)\n",
            "Requirement already satisfied: numpy in /usr/local/lib/python3.8/dist-packages (from torchvision==0.11.2+cpu) (1.21.6)\n",
            "Installing collected packages: torch, torchvision, torchaudio\n",
            "  Attempting uninstall: torch\n",
            "    Found existing installation: torch 1.13.1+cu116\n",
            "    Uninstalling torch-1.13.1+cu116:\n",
            "      Successfully uninstalled torch-1.13.1+cu116\n",
            "  Attempting uninstall: torchvision\n",
            "    Found existing installation: torchvision 0.14.1+cu116\n",
            "    Uninstalling torchvision-0.14.1+cu116:\n",
            "      Successfully uninstalled torchvision-0.14.1+cu116\n",
            "  Attempting uninstall: torchaudio\n",
            "    Found existing installation: torchaudio 0.13.1+cu116\n",
            "    Uninstalling torchaudio-0.13.1+cu116:\n",
            "      Successfully uninstalled torchaudio-0.13.1+cu116\n",
            "\u001b[31mERROR: pip's dependency resolver does not currently take into account all the packages that are installed. This behaviour is the source of the following dependency conflicts.\n",
            "torchtext 0.14.1 requires torch==1.13.1, but you have torch 1.10.1+cpu which is incompatible.\u001b[0m\u001b[31m\n",
            "\u001b[0mSuccessfully installed torch-1.10.1+cpu torchaudio-0.10.1+cpu torchvision-0.11.2+cpu\n"
          ]
        }
      ]
    },
    {
      "cell_type": "code",
      "source": [
        "!python -m pip install detectron2==0.6 -f \\\n",
        "  https://dl.fbaipublicfiles.com/detectron2/wheels/cpu/torch1.10/index.html"
      ],
      "metadata": {
        "colab": {
          "base_uri": "https://localhost:8080/"
        },
        "id": "RQ300dLJoD05",
        "outputId": "aba4b511-6eb9-4d10-f8d1-253e0c77925a"
      },
      "execution_count": null,
      "outputs": [
        {
          "output_type": "stream",
          "name": "stdout",
          "text": [
            "Looking in indexes: https://pypi.org/simple, https://us-python.pkg.dev/colab-wheels/public/simple/\n",
            "Looking in links: https://dl.fbaipublicfiles.com/detectron2/wheels/cpu/torch1.10/index.html\n",
            "Collecting detectron2==0.6\n",
            "  Downloading https://dl.fbaipublicfiles.com/detectron2/wheels/cpu/torch1.10/detectron2-0.6%2Bcpu-cp38-cp38-linux_x86_64.whl (5.4 MB)\n",
            "\u001b[2K     \u001b[90m━━━━━━━━━━━━━━━━━━━━━━━━━━━━━━━━━━━━━━━━\u001b[0m \u001b[32m5.4/5.4 MB\u001b[0m \u001b[31m3.6 MB/s\u001b[0m eta \u001b[36m0:00:00\u001b[0m\n",
            "\u001b[?25hRequirement already satisfied: cloudpickle in /usr/local/lib/python3.8/dist-packages (from detectron2==0.6) (2.2.1)\n",
            "Collecting black==21.4b2\n",
            "  Downloading black-21.4b2-py3-none-any.whl (130 kB)\n",
            "\u001b[2K     \u001b[90m━━━━━━━━━━━━━━━━━━━━━━━━━━━━━━━━━━━━━━━\u001b[0m \u001b[32m131.0/131.0 KB\u001b[0m \u001b[31m4.4 MB/s\u001b[0m eta \u001b[36m0:00:00\u001b[0m\n",
            "\u001b[?25hCollecting yacs>=0.1.8\n",
            "  Downloading yacs-0.1.8-py3-none-any.whl (14 kB)\n",
            "Requirement already satisfied: matplotlib in /usr/local/lib/python3.8/dist-packages (from detectron2==0.6) (3.2.2)\n",
            "Collecting iopath<0.1.10,>=0.1.7\n",
            "  Downloading iopath-0.1.9-py3-none-any.whl (27 kB)\n",
            "Collecting omegaconf>=2.1\n",
            "  Downloading omegaconf-2.3.0-py3-none-any.whl (79 kB)\n",
            "\u001b[2K     \u001b[90m━━━━━━━━━━━━━━━━━━━━━━━━━━━━━━━━━━━━━━━━\u001b[0m \u001b[32m79.5/79.5 KB\u001b[0m \u001b[31m7.4 MB/s\u001b[0m eta \u001b[36m0:00:00\u001b[0m\n",
            "\u001b[?25hRequirement already satisfied: tensorboard in /usr/local/lib/python3.8/dist-packages (from detectron2==0.6) (2.11.2)\n",
            "Requirement already satisfied: termcolor>=1.1 in /usr/local/lib/python3.8/dist-packages (from detectron2==0.6) (2.2.0)\n",
            "Requirement already satisfied: pydot in /usr/local/lib/python3.8/dist-packages (from detectron2==0.6) (1.3.0)\n",
            "Collecting fvcore<0.1.6,>=0.1.5\n",
            "  Downloading fvcore-0.1.5.post20221221.tar.gz (50 kB)\n",
            "\u001b[2K     \u001b[90m━━━━━━━━━━━━━━━━━━━━━━━━━━━━━━━━━━━━━━━━\u001b[0m \u001b[32m50.2/50.2 KB\u001b[0m \u001b[31m6.4 MB/s\u001b[0m eta \u001b[36m0:00:00\u001b[0m\n",
            "\u001b[?25h  Preparing metadata (setup.py) ... \u001b[?25l\u001b[?25hdone\n",
            "Requirement already satisfied: tqdm>4.29.0 in /usr/local/lib/python3.8/dist-packages (from detectron2==0.6) (4.64.1)\n",
            "Requirement already satisfied: pycocotools>=2.0.2 in /usr/local/lib/python3.8/dist-packages (from detectron2==0.6) (2.0.6)\n",
            "Requirement already satisfied: tabulate in /usr/local/lib/python3.8/dist-packages (from detectron2==0.6) (0.8.10)\n",
            "Requirement already satisfied: future in /usr/local/lib/python3.8/dist-packages (from detectron2==0.6) (0.16.0)\n",
            "Requirement already satisfied: Pillow>=7.1 in /usr/local/lib/python3.8/dist-packages (from detectron2==0.6) (7.1.2)\n",
            "Collecting hydra-core>=1.1\n",
            "  Downloading hydra_core-1.3.1-py3-none-any.whl (154 kB)\n",
            "\u001b[2K     \u001b[90m━━━━━━━━━━━━━━━━━━━━━━━━━━━━━━━━━━━━━━\u001b[0m \u001b[32m154.1/154.1 KB\u001b[0m \u001b[31m12.5 MB/s\u001b[0m eta \u001b[36m0:00:00\u001b[0m\n",
            "\u001b[?25hCollecting mypy-extensions>=0.4.3\n",
            "  Downloading mypy_extensions-1.0.0-py3-none-any.whl (4.7 kB)\n",
            "Requirement already satisfied: regex>=2020.1.8 in /usr/local/lib/python3.8/dist-packages (from black==21.4b2->detectron2==0.6) (2022.6.2)\n",
            "Requirement already satisfied: click>=7.1.2 in /usr/local/lib/python3.8/dist-packages (from black==21.4b2->detectron2==0.6) (7.1.2)\n",
            "Requirement already satisfied: appdirs in /usr/local/lib/python3.8/dist-packages (from black==21.4b2->detectron2==0.6) (1.4.4)\n",
            "Requirement already satisfied: toml>=0.10.1 in /usr/local/lib/python3.8/dist-packages (from black==21.4b2->detectron2==0.6) (0.10.2)\n",
            "Collecting pathspec<1,>=0.8.1\n",
            "  Downloading pathspec-0.11.0-py3-none-any.whl (29 kB)\n",
            "Requirement already satisfied: numpy in /usr/local/lib/python3.8/dist-packages (from fvcore<0.1.6,>=0.1.5->detectron2==0.6) (1.21.6)\n",
            "Requirement already satisfied: pyyaml>=5.1 in /usr/local/lib/python3.8/dist-packages (from fvcore<0.1.6,>=0.1.5->detectron2==0.6) (6.0)\n",
            "Requirement already satisfied: packaging in /usr/local/lib/python3.8/dist-packages (from hydra-core>=1.1->detectron2==0.6) (23.0)\n",
            "Collecting antlr4-python3-runtime==4.9.*\n",
            "  Downloading antlr4-python3-runtime-4.9.3.tar.gz (117 kB)\n",
            "\u001b[2K     \u001b[90m━━━━━━━━━━━━━━━━━━━━━━━━━━━━━━━━━━━━━━\u001b[0m \u001b[32m117.0/117.0 KB\u001b[0m \u001b[31m12.6 MB/s\u001b[0m eta \u001b[36m0:00:00\u001b[0m\n",
            "\u001b[?25h  Preparing metadata (setup.py) ... \u001b[?25l\u001b[?25hdone\n",
            "Requirement already satisfied: importlib-resources in /usr/local/lib/python3.8/dist-packages (from hydra-core>=1.1->detectron2==0.6) (5.10.2)\n",
            "Collecting portalocker\n",
            "  Downloading portalocker-2.7.0-py2.py3-none-any.whl (15 kB)\n",
            "Requirement already satisfied: pyparsing!=2.0.4,!=2.1.2,!=2.1.6,>=2.0.1 in /usr/local/lib/python3.8/dist-packages (from matplotlib->detectron2==0.6) (3.0.9)\n",
            "Requirement already satisfied: kiwisolver>=1.0.1 in /usr/local/lib/python3.8/dist-packages (from matplotlib->detectron2==0.6) (1.4.4)\n",
            "Requirement already satisfied: cycler>=0.10 in /usr/local/lib/python3.8/dist-packages (from matplotlib->detectron2==0.6) (0.11.0)\n",
            "Requirement already satisfied: python-dateutil>=2.1 in /usr/local/lib/python3.8/dist-packages (from matplotlib->detectron2==0.6) (2.8.2)\n",
            "Requirement already satisfied: absl-py>=0.4 in /usr/local/lib/python3.8/dist-packages (from tensorboard->detectron2==0.6) (1.4.0)\n",
            "Requirement already satisfied: requests<3,>=2.21.0 in /usr/local/lib/python3.8/dist-packages (from tensorboard->detectron2==0.6) (2.25.1)\n",
            "Requirement already satisfied: protobuf<4,>=3.9.2 in /usr/local/lib/python3.8/dist-packages (from tensorboard->detectron2==0.6) (3.19.6)\n",
            "Requirement already satisfied: tensorboard-data-server<0.7.0,>=0.6.0 in /usr/local/lib/python3.8/dist-packages (from tensorboard->detectron2==0.6) (0.6.1)\n",
            "Requirement already satisfied: grpcio>=1.24.3 in /usr/local/lib/python3.8/dist-packages (from tensorboard->detectron2==0.6) (1.51.1)\n",
            "Requirement already satisfied: tensorboard-plugin-wit>=1.6.0 in /usr/local/lib/python3.8/dist-packages (from tensorboard->detectron2==0.6) (1.8.1)\n",
            "Requirement already satisfied: markdown>=2.6.8 in /usr/local/lib/python3.8/dist-packages (from tensorboard->detectron2==0.6) (3.4.1)\n",
            "Requirement already satisfied: google-auth-oauthlib<0.5,>=0.4.1 in /usr/local/lib/python3.8/dist-packages (from tensorboard->detectron2==0.6) (0.4.6)\n",
            "Requirement already satisfied: werkzeug>=1.0.1 in /usr/local/lib/python3.8/dist-packages (from tensorboard->detectron2==0.6) (1.0.1)\n",
            "Requirement already satisfied: wheel>=0.26 in /usr/local/lib/python3.8/dist-packages (from tensorboard->detectron2==0.6) (0.38.4)\n",
            "Requirement already satisfied: setuptools>=41.0.0 in /usr/local/lib/python3.8/dist-packages (from tensorboard->detectron2==0.6) (57.4.0)\n",
            "Requirement already satisfied: google-auth<3,>=1.6.3 in /usr/local/lib/python3.8/dist-packages (from tensorboard->detectron2==0.6) (2.16.0)\n",
            "Requirement already satisfied: rsa<5,>=3.1.4 in /usr/local/lib/python3.8/dist-packages (from google-auth<3,>=1.6.3->tensorboard->detectron2==0.6) (4.9)\n",
            "Requirement already satisfied: pyasn1-modules>=0.2.1 in /usr/local/lib/python3.8/dist-packages (from google-auth<3,>=1.6.3->tensorboard->detectron2==0.6) (0.2.8)\n",
            "Requirement already satisfied: six>=1.9.0 in /usr/local/lib/python3.8/dist-packages (from google-auth<3,>=1.6.3->tensorboard->detectron2==0.6) (1.15.0)\n",
            "Requirement already satisfied: cachetools<6.0,>=2.0.0 in /usr/local/lib/python3.8/dist-packages (from google-auth<3,>=1.6.3->tensorboard->detectron2==0.6) (5.3.0)\n",
            "Requirement already satisfied: requests-oauthlib>=0.7.0 in /usr/local/lib/python3.8/dist-packages (from google-auth-oauthlib<0.5,>=0.4.1->tensorboard->detectron2==0.6) (1.3.1)\n",
            "Requirement already satisfied: importlib-metadata>=4.4 in /usr/local/lib/python3.8/dist-packages (from markdown>=2.6.8->tensorboard->detectron2==0.6) (6.0.0)\n",
            "Requirement already satisfied: certifi>=2017.4.17 in /usr/local/lib/python3.8/dist-packages (from requests<3,>=2.21.0->tensorboard->detectron2==0.6) (2022.12.7)\n",
            "Requirement already satisfied: urllib3<1.27,>=1.21.1 in /usr/local/lib/python3.8/dist-packages (from requests<3,>=2.21.0->tensorboard->detectron2==0.6) (1.24.3)\n",
            "Requirement already satisfied: chardet<5,>=3.0.2 in /usr/local/lib/python3.8/dist-packages (from requests<3,>=2.21.0->tensorboard->detectron2==0.6) (4.0.0)\n",
            "Requirement already satisfied: idna<3,>=2.5 in /usr/local/lib/python3.8/dist-packages (from requests<3,>=2.21.0->tensorboard->detectron2==0.6) (2.10)\n",
            "Requirement already satisfied: zipp>=3.1.0 in /usr/local/lib/python3.8/dist-packages (from importlib-resources->hydra-core>=1.1->detectron2==0.6) (3.12.1)\n",
            "Requirement already satisfied: pyasn1<0.5.0,>=0.4.6 in /usr/local/lib/python3.8/dist-packages (from pyasn1-modules>=0.2.1->google-auth<3,>=1.6.3->tensorboard->detectron2==0.6) (0.4.8)\n",
            "Requirement already satisfied: oauthlib>=3.0.0 in /usr/local/lib/python3.8/dist-packages (from requests-oauthlib>=0.7.0->google-auth-oauthlib<0.5,>=0.4.1->tensorboard->detectron2==0.6) (3.2.2)\n",
            "Building wheels for collected packages: fvcore, antlr4-python3-runtime\n",
            "  Building wheel for fvcore (setup.py) ... \u001b[?25l\u001b[?25hdone\n",
            "  Created wheel for fvcore: filename=fvcore-0.1.5.post20221221-py3-none-any.whl size=61431 sha256=4278d29f3b00e986fb411e549ce97e8dd67a4268c48722155dc26206abea85c8\n",
            "  Stored in directory: /root/.cache/pip/wheels/b8/79/07/c0e9367f5b5ea325e246bd73651e8af175fabbef943043b1cc\n",
            "  Building wheel for antlr4-python3-runtime (setup.py) ... \u001b[?25l\u001b[?25hdone\n",
            "  Created wheel for antlr4-python3-runtime: filename=antlr4_python3_runtime-4.9.3-py3-none-any.whl size=144575 sha256=7b8ec70ed6aefd09030fcebb102ebdc44f16ecc47413a73e16c302b796138562\n",
            "  Stored in directory: /root/.cache/pip/wheels/b1/a3/c2/6df046c09459b73cc9bb6c4401b0be6c47048baf9a1617c485\n",
            "Successfully built fvcore antlr4-python3-runtime\n",
            "Installing collected packages: antlr4-python3-runtime, yacs, portalocker, pathspec, omegaconf, mypy-extensions, iopath, hydra-core, black, fvcore, detectron2\n",
            "Successfully installed antlr4-python3-runtime-4.9.3 black-21.4b2 detectron2-0.6+cpu fvcore-0.1.5.post20221221 hydra-core-1.3.1 iopath-0.1.9 mypy-extensions-1.0.0 omegaconf-2.3.0 pathspec-0.11.0 portalocker-2.7.0 yacs-0.1.8\n"
          ]
        }
      ]
    },
    {
      "cell_type": "markdown",
      "source": [
        "###gpu"
      ],
      "metadata": {
        "id": "Vrkv4Dv08iur"
      }
    },
    {
      "cell_type": "code",
      "source": [
        "!pip install torch==1.10.1+cu111 torchvision==0.11.2+cu111 torchaudio==0.10.1 -f https://download.pytorch.org/whl/torch_stable.html"
      ],
      "metadata": {
        "id": "qs7hjviD8krS",
        "colab": {
          "base_uri": "https://localhost:8080/"
        },
        "outputId": "5dc1da51-e98c-4065-e225-bc7114a7a960"
      },
      "execution_count": 3,
      "outputs": [
        {
          "output_type": "stream",
          "name": "stdout",
          "text": [
            "Looking in indexes: https://pypi.org/simple, https://us-python.pkg.dev/colab-wheels/public/simple/\n",
            "Looking in links: https://download.pytorch.org/whl/torch_stable.html\n",
            "Collecting torch==1.10.1+cu111\n",
            "  Downloading https://download.pytorch.org/whl/cu111/torch-1.10.1%2Bcu111-cp38-cp38-linux_x86_64.whl (2137.7 MB)\n",
            "\u001b[2K     \u001b[90m━━━━━━━━━━━━━━━━━━━━━━━━━━━━━━━━━━━━━━━━\u001b[0m \u001b[32m2.1/2.1 GB\u001b[0m \u001b[31m811.8 kB/s\u001b[0m eta \u001b[36m0:00:00\u001b[0m\n",
            "\u001b[?25hCollecting torchvision==0.11.2+cu111\n",
            "  Downloading https://download.pytorch.org/whl/cu111/torchvision-0.11.2%2Bcu111-cp38-cp38-linux_x86_64.whl (24.5 MB)\n",
            "\u001b[2K     \u001b[90m━━━━━━━━━━━━━━━━━━━━━━━━━━━━━━━━━━━━━━━━\u001b[0m \u001b[32m24.5/24.5 MB\u001b[0m \u001b[31m26.2 MB/s\u001b[0m eta \u001b[36m0:00:00\u001b[0m\n",
            "\u001b[?25hCollecting torchaudio==0.10.1\n",
            "  Downloading https://download.pytorch.org/whl/rocm4.1/torchaudio-0.10.1%2Brocm4.1-cp38-cp38-linux_x86_64.whl (2.7 MB)\n",
            "\u001b[2K     \u001b[90m━━━━━━━━━━━━━━━━━━━━━━━━━━━━━━━━━━━━━━━━\u001b[0m \u001b[32m2.7/2.7 MB\u001b[0m \u001b[31m67.9 MB/s\u001b[0m eta \u001b[36m0:00:00\u001b[0m\n",
            "\u001b[?25hRequirement already satisfied: typing-extensions in /usr/local/lib/python3.8/dist-packages (from torch==1.10.1+cu111) (4.5.0)\n",
            "Requirement already satisfied: numpy in /usr/local/lib/python3.8/dist-packages (from torchvision==0.11.2+cu111) (1.21.6)\n",
            "Requirement already satisfied: pillow!=8.3.0,>=5.3.0 in /usr/local/lib/python3.8/dist-packages (from torchvision==0.11.2+cu111) (7.1.2)\n",
            "Installing collected packages: torch, torchvision, torchaudio\n",
            "  Attempting uninstall: torch\n",
            "    Found existing installation: torch 1.13.1+cu116\n",
            "    Uninstalling torch-1.13.1+cu116:\n",
            "      Successfully uninstalled torch-1.13.1+cu116\n",
            "  Attempting uninstall: torchvision\n",
            "    Found existing installation: torchvision 0.14.1+cu116\n",
            "    Uninstalling torchvision-0.14.1+cu116:\n",
            "      Successfully uninstalled torchvision-0.14.1+cu116\n",
            "  Attempting uninstall: torchaudio\n",
            "    Found existing installation: torchaudio 0.13.1+cu116\n",
            "    Uninstalling torchaudio-0.13.1+cu116:\n",
            "      Successfully uninstalled torchaudio-0.13.1+cu116\n",
            "\u001b[31mERROR: pip's dependency resolver does not currently take into account all the packages that are installed. This behaviour is the source of the following dependency conflicts.\n",
            "torchtext 0.14.1 requires torch==1.13.1, but you have torch 1.10.1+cu111 which is incompatible.\u001b[0m\u001b[31m\n",
            "\u001b[0mSuccessfully installed torch-1.10.1+cu111 torchaudio-0.10.1+rocm4.1 torchvision-0.11.2+cu111\n"
          ]
        }
      ]
    },
    {
      "cell_type": "code",
      "source": [
        "!python -m pip install detectron2==0.6 -f \\\n",
        "  https://dl.fbaipublicfiles.com/detectron2/wheels/cu111/torch1.10/index.html"
      ],
      "metadata": {
        "id": "MXv4St8X8rs6",
        "colab": {
          "base_uri": "https://localhost:8080/"
        },
        "outputId": "5453056c-640c-465e-eb67-ad57d96cc346"
      },
      "execution_count": 4,
      "outputs": [
        {
          "output_type": "stream",
          "name": "stdout",
          "text": [
            "Looking in indexes: https://pypi.org/simple, https://us-python.pkg.dev/colab-wheels/public/simple/\n",
            "Looking in links: https://dl.fbaipublicfiles.com/detectron2/wheels/cu111/torch1.10/index.html\n",
            "Collecting detectron2==0.6\n",
            "  Downloading https://dl.fbaipublicfiles.com/detectron2/wheels/cu111/torch1.10/detectron2-0.6%2Bcu111-cp38-cp38-linux_x86_64.whl (7.0 MB)\n",
            "\u001b[2K     \u001b[90m━━━━━━━━━━━━━━━━━━━━━━━━━━━━━━━━━━━━━━━━\u001b[0m \u001b[32m7.0/7.0 MB\u001b[0m \u001b[31m8.2 MB/s\u001b[0m eta \u001b[36m0:00:00\u001b[0m\n",
            "\u001b[?25hRequirement already satisfied: pycocotools>=2.0.2 in /usr/local/lib/python3.8/dist-packages (from detectron2==0.6) (2.0.6)\n",
            "Collecting iopath<0.1.10,>=0.1.7\n",
            "  Downloading iopath-0.1.9-py3-none-any.whl (27 kB)\n",
            "Collecting omegaconf>=2.1\n",
            "  Downloading omegaconf-2.3.0-py3-none-any.whl (79 kB)\n",
            "\u001b[2K     \u001b[90m━━━━━━━━━━━━━━━━━━━━━━━━━━━━━━━━━━━━━━━━\u001b[0m \u001b[32m79.5/79.5 KB\u001b[0m \u001b[31m2.3 MB/s\u001b[0m eta \u001b[36m0:00:00\u001b[0m\n",
            "\u001b[?25hRequirement already satisfied: future in /usr/local/lib/python3.8/dist-packages (from detectron2==0.6) (0.16.0)\n",
            "Requirement already satisfied: termcolor>=1.1 in /usr/local/lib/python3.8/dist-packages (from detectron2==0.6) (2.2.0)\n",
            "Requirement already satisfied: Pillow>=7.1 in /usr/local/lib/python3.8/dist-packages (from detectron2==0.6) (7.1.2)\n",
            "Collecting hydra-core>=1.1\n",
            "  Downloading hydra_core-1.3.1-py3-none-any.whl (154 kB)\n",
            "\u001b[2K     \u001b[90m━━━━━━━━━━━━━━━━━━━━━━━━━━━━━━━━━━━━━━\u001b[0m \u001b[32m154.1/154.1 KB\u001b[0m \u001b[31m10.2 MB/s\u001b[0m eta \u001b[36m0:00:00\u001b[0m\n",
            "\u001b[?25hRequirement already satisfied: cloudpickle in /usr/local/lib/python3.8/dist-packages (from detectron2==0.6) (2.2.1)\n",
            "Collecting yacs>=0.1.8\n",
            "  Downloading yacs-0.1.8-py3-none-any.whl (14 kB)\n",
            "Collecting black==21.4b2\n",
            "  Downloading black-21.4b2-py3-none-any.whl (130 kB)\n",
            "\u001b[2K     \u001b[90m━━━━━━━━━━━━━━━━━━━━━━━━━━━━━━━━━━━━━━\u001b[0m \u001b[32m131.0/131.0 KB\u001b[0m \u001b[31m12.6 MB/s\u001b[0m eta \u001b[36m0:00:00\u001b[0m\n",
            "\u001b[?25hRequirement already satisfied: tabulate in /usr/local/lib/python3.8/dist-packages (from detectron2==0.6) (0.8.10)\n",
            "Requirement already satisfied: matplotlib in /usr/local/lib/python3.8/dist-packages (from detectron2==0.6) (3.2.2)\n",
            "Requirement already satisfied: tensorboard in /usr/local/lib/python3.8/dist-packages (from detectron2==0.6) (2.11.2)\n",
            "Requirement already satisfied: pydot in /usr/local/lib/python3.8/dist-packages (from detectron2==0.6) (1.3.0)\n",
            "Collecting fvcore<0.1.6,>=0.1.5\n",
            "  Downloading fvcore-0.1.5.post20221221.tar.gz (50 kB)\n",
            "\u001b[2K     \u001b[90m━━━━━━━━━━━━━━━━━━━━━━━━━━━━━━━━━━━━━━━\u001b[0m \u001b[32m50.2/50.2 KB\u001b[0m \u001b[31m160.7 kB/s\u001b[0m eta \u001b[36m0:00:00\u001b[0m\n",
            "\u001b[?25h  Preparing metadata (setup.py) ... \u001b[?25l\u001b[?25hdone\n",
            "Requirement already satisfied: tqdm>4.29.0 in /usr/local/lib/python3.8/dist-packages (from detectron2==0.6) (4.64.1)\n",
            "Requirement already satisfied: toml>=0.10.1 in /usr/local/lib/python3.8/dist-packages (from black==21.4b2->detectron2==0.6) (0.10.2)\n",
            "Requirement already satisfied: click>=7.1.2 in /usr/local/lib/python3.8/dist-packages (from black==21.4b2->detectron2==0.6) (7.1.2)\n",
            "Requirement already satisfied: appdirs in /usr/local/lib/python3.8/dist-packages (from black==21.4b2->detectron2==0.6) (1.4.4)\n",
            "Collecting mypy-extensions>=0.4.3\n",
            "  Downloading mypy_extensions-1.0.0-py3-none-any.whl (4.7 kB)\n",
            "Collecting pathspec<1,>=0.8.1\n",
            "  Downloading pathspec-0.11.0-py3-none-any.whl (29 kB)\n",
            "Requirement already satisfied: regex>=2020.1.8 in /usr/local/lib/python3.8/dist-packages (from black==21.4b2->detectron2==0.6) (2022.6.2)\n",
            "Requirement already satisfied: numpy in /usr/local/lib/python3.8/dist-packages (from fvcore<0.1.6,>=0.1.5->detectron2==0.6) (1.21.6)\n",
            "Requirement already satisfied: pyyaml>=5.1 in /usr/local/lib/python3.8/dist-packages (from fvcore<0.1.6,>=0.1.5->detectron2==0.6) (6.0)\n",
            "Requirement already satisfied: importlib-resources in /usr/local/lib/python3.8/dist-packages (from hydra-core>=1.1->detectron2==0.6) (5.10.2)\n",
            "Requirement already satisfied: packaging in /usr/local/lib/python3.8/dist-packages (from hydra-core>=1.1->detectron2==0.6) (23.0)\n",
            "Collecting antlr4-python3-runtime==4.9.*\n",
            "  Downloading antlr4-python3-runtime-4.9.3.tar.gz (117 kB)\n",
            "\u001b[2K     \u001b[90m━━━━━━━━━━━━━━━━━━━━━━━━━━━━━━━━━━━━━━\u001b[0m \u001b[32m117.0/117.0 KB\u001b[0m \u001b[31m14.5 MB/s\u001b[0m eta \u001b[36m0:00:00\u001b[0m\n",
            "\u001b[?25h  Preparing metadata (setup.py) ... \u001b[?25l\u001b[?25hdone\n",
            "Collecting portalocker\n",
            "  Downloading portalocker-2.7.0-py2.py3-none-any.whl (15 kB)\n",
            "Requirement already satisfied: cycler>=0.10 in /usr/local/lib/python3.8/dist-packages (from matplotlib->detectron2==0.6) (0.11.0)\n",
            "Requirement already satisfied: pyparsing!=2.0.4,!=2.1.2,!=2.1.6,>=2.0.1 in /usr/local/lib/python3.8/dist-packages (from matplotlib->detectron2==0.6) (3.0.9)\n",
            "Requirement already satisfied: kiwisolver>=1.0.1 in /usr/local/lib/python3.8/dist-packages (from matplotlib->detectron2==0.6) (1.4.4)\n",
            "Requirement already satisfied: python-dateutil>=2.1 in /usr/local/lib/python3.8/dist-packages (from matplotlib->detectron2==0.6) (2.8.2)\n",
            "Requirement already satisfied: setuptools>=41.0.0 in /usr/local/lib/python3.8/dist-packages (from tensorboard->detectron2==0.6) (57.4.0)\n",
            "Requirement already satisfied: tensorboard-plugin-wit>=1.6.0 in /usr/local/lib/python3.8/dist-packages (from tensorboard->detectron2==0.6) (1.8.1)\n",
            "Requirement already satisfied: absl-py>=0.4 in /usr/local/lib/python3.8/dist-packages (from tensorboard->detectron2==0.6) (1.4.0)\n",
            "Requirement already satisfied: wheel>=0.26 in /usr/local/lib/python3.8/dist-packages (from tensorboard->detectron2==0.6) (0.38.4)\n",
            "Requirement already satisfied: requests<3,>=2.21.0 in /usr/local/lib/python3.8/dist-packages (from tensorboard->detectron2==0.6) (2.25.1)\n",
            "Requirement already satisfied: grpcio>=1.24.3 in /usr/local/lib/python3.8/dist-packages (from tensorboard->detectron2==0.6) (1.51.1)\n",
            "Requirement already satisfied: protobuf<4,>=3.9.2 in /usr/local/lib/python3.8/dist-packages (from tensorboard->detectron2==0.6) (3.19.6)\n",
            "Requirement already satisfied: tensorboard-data-server<0.7.0,>=0.6.0 in /usr/local/lib/python3.8/dist-packages (from tensorboard->detectron2==0.6) (0.6.1)\n",
            "Requirement already satisfied: werkzeug>=1.0.1 in /usr/local/lib/python3.8/dist-packages (from tensorboard->detectron2==0.6) (1.0.1)\n",
            "Requirement already satisfied: markdown>=2.6.8 in /usr/local/lib/python3.8/dist-packages (from tensorboard->detectron2==0.6) (3.4.1)\n",
            "Requirement already satisfied: google-auth-oauthlib<0.5,>=0.4.1 in /usr/local/lib/python3.8/dist-packages (from tensorboard->detectron2==0.6) (0.4.6)\n",
            "Requirement already satisfied: google-auth<3,>=1.6.3 in /usr/local/lib/python3.8/dist-packages (from tensorboard->detectron2==0.6) (2.16.0)\n",
            "Requirement already satisfied: six>=1.9.0 in /usr/local/lib/python3.8/dist-packages (from google-auth<3,>=1.6.3->tensorboard->detectron2==0.6) (1.15.0)\n",
            "Requirement already satisfied: pyasn1-modules>=0.2.1 in /usr/local/lib/python3.8/dist-packages (from google-auth<3,>=1.6.3->tensorboard->detectron2==0.6) (0.2.8)\n",
            "Requirement already satisfied: rsa<5,>=3.1.4 in /usr/local/lib/python3.8/dist-packages (from google-auth<3,>=1.6.3->tensorboard->detectron2==0.6) (4.9)\n",
            "Requirement already satisfied: cachetools<6.0,>=2.0.0 in /usr/local/lib/python3.8/dist-packages (from google-auth<3,>=1.6.3->tensorboard->detectron2==0.6) (5.3.0)\n",
            "Requirement already satisfied: requests-oauthlib>=0.7.0 in /usr/local/lib/python3.8/dist-packages (from google-auth-oauthlib<0.5,>=0.4.1->tensorboard->detectron2==0.6) (1.3.1)\n",
            "Requirement already satisfied: importlib-metadata>=4.4 in /usr/local/lib/python3.8/dist-packages (from markdown>=2.6.8->tensorboard->detectron2==0.6) (6.0.0)\n",
            "Requirement already satisfied: certifi>=2017.4.17 in /usr/local/lib/python3.8/dist-packages (from requests<3,>=2.21.0->tensorboard->detectron2==0.6) (2022.12.7)\n",
            "Requirement already satisfied: idna<3,>=2.5 in /usr/local/lib/python3.8/dist-packages (from requests<3,>=2.21.0->tensorboard->detectron2==0.6) (2.10)\n",
            "Requirement already satisfied: urllib3<1.27,>=1.21.1 in /usr/local/lib/python3.8/dist-packages (from requests<3,>=2.21.0->tensorboard->detectron2==0.6) (1.24.3)\n",
            "Requirement already satisfied: chardet<5,>=3.0.2 in /usr/local/lib/python3.8/dist-packages (from requests<3,>=2.21.0->tensorboard->detectron2==0.6) (4.0.0)\n",
            "Requirement already satisfied: zipp>=3.1.0 in /usr/local/lib/python3.8/dist-packages (from importlib-resources->hydra-core>=1.1->detectron2==0.6) (3.13.0)\n",
            "Requirement already satisfied: pyasn1<0.5.0,>=0.4.6 in /usr/local/lib/python3.8/dist-packages (from pyasn1-modules>=0.2.1->google-auth<3,>=1.6.3->tensorboard->detectron2==0.6) (0.4.8)\n",
            "Requirement already satisfied: oauthlib>=3.0.0 in /usr/local/lib/python3.8/dist-packages (from requests-oauthlib>=0.7.0->google-auth-oauthlib<0.5,>=0.4.1->tensorboard->detectron2==0.6) (3.2.2)\n",
            "Building wheels for collected packages: fvcore, antlr4-python3-runtime\n",
            "  Building wheel for fvcore (setup.py) ... \u001b[?25l\u001b[?25hdone\n",
            "  Created wheel for fvcore: filename=fvcore-0.1.5.post20221221-py3-none-any.whl size=61431 sha256=daaf2b6ffff49113b35e2856920b191684373915f64ca7d07b4d5cabb2990040\n",
            "  Stored in directory: /root/.cache/pip/wheels/b8/79/07/c0e9367f5b5ea325e246bd73651e8af175fabbef943043b1cc\n",
            "  Building wheel for antlr4-python3-runtime (setup.py) ... \u001b[?25l\u001b[?25hdone\n",
            "  Created wheel for antlr4-python3-runtime: filename=antlr4_python3_runtime-4.9.3-py3-none-any.whl size=144575 sha256=0cec31ea5e4afe03838c3726a29f099a21803dea32fa028d5ed7b5d53f658e75\n",
            "  Stored in directory: /root/.cache/pip/wheels/b1/a3/c2/6df046c09459b73cc9bb6c4401b0be6c47048baf9a1617c485\n",
            "Successfully built fvcore antlr4-python3-runtime\n",
            "Installing collected packages: antlr4-python3-runtime, yacs, portalocker, pathspec, omegaconf, mypy-extensions, iopath, hydra-core, black, fvcore, detectron2\n",
            "Successfully installed antlr4-python3-runtime-4.9.3 black-21.4b2 detectron2-0.6+cu111 fvcore-0.1.5.post20221221 hydra-core-1.3.1 iopath-0.1.9 mypy-extensions-1.0.0 omegaconf-2.3.0 pathspec-0.11.0 portalocker-2.7.0 yacs-0.1.8\n"
          ]
        }
      ]
    },
    {
      "cell_type": "markdown",
      "source": [
        "##import dependencies to make evaluation"
      ],
      "metadata": {
        "id": "wC2b_o6Kosvd"
      }
    },
    {
      "cell_type": "code",
      "source": [
        "import torch, detectron2\n",
        "!nvcc --version\n",
        "TORCH_VERSION = \".\".join(torch.__version__.split(\".\")[:2])\n",
        "CUDA_VERSION = torch.__version__.split(\"+\")[-1]\n",
        "print(\"torch: \", TORCH_VERSION, \"; cuda: \", CUDA_VERSION)\n",
        "print(\"detectron2:\", detectron2.__version__)"
      ],
      "metadata": {
        "colab": {
          "base_uri": "https://localhost:8080/"
        },
        "id": "B-MKAEOIp_64",
        "outputId": "788ec789-9eed-474c-c04a-4fd11a6947a4"
      },
      "execution_count": 3,
      "outputs": [
        {
          "output_type": "stream",
          "name": "stdout",
          "text": [
            "nvcc: NVIDIA (R) Cuda compiler driver\n",
            "Copyright (c) 2005-2022 NVIDIA Corporation\n",
            "Built on Tue_Mar__8_18:18:20_PST_2022\n",
            "Cuda compilation tools, release 11.6, V11.6.124\n",
            "Build cuda_11.6.r11.6/compiler.31057947_0\n",
            "torch:  1.10 ; cuda:  cu111\n",
            "detectron2: 0.6\n"
          ]
        }
      ]
    },
    {
      "cell_type": "code",
      "source": [
        "from detectron2.config import get_cfg\n",
        "from detectron2 import model_zoo\n",
        "\n",
        "from detectron2.data.datasets import register_coco_instances\n",
        "from detectron2.data import MetadataCatalog, DatasetCatalog\n",
        "\n",
        "from detectron2.engine import DefaultPredictor\n",
        "from detectron2.evaluation import COCOEvaluator, inference_on_dataset\n",
        "from detectron2.data import build_detection_test_loader\n",
        "\n",
        "from detectron2.utils.visualizer import Visualizer , ColorMode, _create_text_labels\n",
        "from detectron2.utils.colormap import random_color\n"
      ],
      "metadata": {
        "id": "HcYm7w9ForI4"
      },
      "execution_count": 4,
      "outputs": []
    },
    {
      "cell_type": "code",
      "source": [
        "import numpy as np\n",
        "import matplotlib.pyplot as plt\n",
        "from google.colab.patches import cv2_imshow\n",
        "import  json, cv2, random\n",
        "import glob"
      ],
      "metadata": {
        "id": "Cvx_ELaRr1yc"
      },
      "execution_count": 5,
      "outputs": []
    },
    {
      "cell_type": "code",
      "source": [
        "import warnings\n",
        "warnings.filterwarnings(\"ignore\")"
      ],
      "metadata": {
        "id": "vxUdW8wvuNs7"
      },
      "execution_count": null,
      "outputs": []
    },
    {
      "cell_type": "markdown",
      "source": [
        "##Register test set "
      ],
      "metadata": {
        "id": "xoksHI4quPTA"
      }
    },
    {
      "cell_type": "code",
      "source": [
        "register_coco_instances(\"test_data\", {}, \n",
        "                        \"./data/challenge/annotations/instances_test.json\",\n",
        "                        \"./data/challenge/images/test/\")"
      ],
      "metadata": {
        "id": "zuAzFPJTqsNn"
      },
      "execution_count": 6,
      "outputs": []
    },
    {
      "cell_type": "code",
      "source": [
        "test_metadata = MetadataCatalog.get(\"test_data\")"
      ],
      "metadata": {
        "id": "xT2RzFQXq06S"
      },
      "execution_count": 7,
      "outputs": []
    },
    {
      "cell_type": "code",
      "source": [
        "test_metadata"
      ],
      "metadata": {
        "colab": {
          "base_uri": "https://localhost:8080/"
        },
        "id": "MKE6B9IxrJSI",
        "outputId": "a148bf74-3225-4fdc-9d29-8cb3b1388311"
      },
      "execution_count": 8,
      "outputs": [
        {
          "output_type": "execute_result",
          "data": {
            "text/plain": [
              "Metadata(evaluator_type='coco', image_root='./data/challenge/images/test/', json_file='./data/challenge/annotations/instances_test.json', name='test_data')"
            ]
          },
          "metadata": {},
          "execution_count": 8
        }
      ]
    },
    {
      "cell_type": "code",
      "source": [
        "test_dict = DatasetCatalog.get(\"test_data\")"
      ],
      "metadata": {
        "id": "36KLf49wq7oQ"
      },
      "execution_count": 9,
      "outputs": []
    },
    {
      "cell_type": "markdown",
      "source": [
        "##Test Ground Truth"
      ],
      "metadata": {
        "id": "oxXLXGAfuWl8"
      }
    },
    {
      "cell_type": "code",
      "source": [
        "for d in random.sample(test_dict, 3):\n",
        "    img = cv2.imread(d[\"file_name\"])\n",
        "    visualizer = Visualizer(img[:, :, ::-1], metadata=test_metadata, scale=0.5)\n",
        "    out = visualizer.draw_dataset_dict(d)\n",
        "    cv2_imshow(out.get_image()[:, :, ::-1])"
      ],
      "metadata": {
        "colab": {
          "base_uri": "https://localhost:8080/",
          "height": 977
        },
        "id": "clCRnwfbra0I",
        "outputId": "a932e8e1-3718-4985-d36a-878e9982557b"
      },
      "execution_count": null,
      "outputs": [
        {
          "output_type": "display_data",
          "data": {
            "text/plain": [
              "<PIL.Image.Image image mode=RGB size=320x320 at 0x7F3D8C1D9FD0>"
            ],
            "image/png": "[encoded data removed]"
          },
          "metadata": {}
        },
        {
          "output_type": "display_data",
          "data": {
            "text/plain": [
              "<PIL.Image.Image image mode=RGB size=320x320 at 0x7F3D8C08C550>"
            ],
            "image/png": "[encoded data removed]"
          },
          "metadata": {}
        },
        {
          "output_type": "display_data",
          "data": {
            "text/plain": [
              "<PIL.Image.Image image mode=RGB size=320x320 at 0x7F3D8C2C1D60>"
            ],
            "image/png": "[encoded data removed]"
          },
          "metadata": {}
        }
      ]
    },
    {
      "cell_type": "code",
      "source": [
        "detectron2.data.print_instances_class_histogram(test_dict, test_metadata.thing_classes)"
      ],
      "metadata": {
        "id": "1ZHS8RxGsXm6"
      },
      "execution_count": null,
      "outputs": []
    },
    {
      "cell_type": "markdown",
      "source": [
        "##Test Configs"
      ],
      "metadata": {
        "id": "I2rjAJbttDG4"
      }
    },
    {
      "cell_type": "code",
      "source": [
        "last_model_path = glob.glob('/content/drive/MyDrive/tracking/logs/*.pth')[-1]"
      ],
      "metadata": {
        "id": "5K9nEgTTlX9K"
      },
      "execution_count": 10,
      "outputs": []
    },
    {
      "cell_type": "code",
      "source": [
        "cfg = get_cfg()\n",
        "cfg.OUTPUT_DIR = \"/content/drive/MyDrive/tracking/logs\"\n",
        "cfg.merge_from_file(model_zoo.get_config_file(\"COCO-Detection/retinanet_R_50_FPN_3x.yaml\"))\n",
        "#cfg.MODEL.WEIGHTS = os.path.join(cfg.OUTPUT_DIR, \"model_0017999.pth\")\n",
        "cfg.MODEL.WEIGHTS = last_model_path\n",
        "cfg.MODEL.ROI_HEADS.BATCH_SIZE_PER_IMAGE = 128 \n",
        "\n",
        "cfg.MODEL.RETINANET.NUM_CLASSES = 2\n",
        "cfg.DATASETS.TEST = (\"test_data\",)\n",
        "cfg.MODEL.ROI_HEADS.SCORE_THRESH_TEST = 0.5"
      ],
      "metadata": {
        "colab": {
          "base_uri": "https://localhost:8080/"
        },
        "id": "4OC2uDBQtDmw",
        "outputId": "c8814363-e786-49cc-86be-e2b68b31c3f9"
      },
      "execution_count": 11,
      "outputs": [
        {
          "output_type": "stream",
          "name": "stderr",
          "text": [
            "WARNING:fvcore.common.config:Loading config /usr/local/lib/python3.8/dist-packages/detectron2/model_zoo/configs/COCO-Detection/../Base-RetinaNet.yaml with yaml.unsafe_load. Your machine may be at risk if the file contains malicious content.\n"
          ]
        }
      ]
    },
    {
      "cell_type": "code",
      "source": [
        "predictor = DefaultPredictor(cfg)"
      ],
      "metadata": {
        "id": "VsWbza4IFIB6"
      },
      "execution_count": 12,
      "outputs": []
    },
    {
      "cell_type": "markdown",
      "source": [],
      "metadata": {
        "id": "ICYsIvKPrbLe"
      }
    },
    {
      "cell_type": "code",
      "source": [
        "test_loader = build_detection_test_loader(cfg, \"test_data\")"
      ],
      "metadata": {
        "colab": {
          "base_uri": "https://localhost:8080/"
        },
        "id": "Zlj-SDDcLO8S",
        "outputId": "d0b91fd2-d10c-44eb-edab-3bfb3c32aac1"
      },
      "execution_count": null,
      "outputs": [
        {
          "output_type": "stream",
          "name": "stdout",
          "text": [
            "[02/16 17:02:16 d2.data.datasets.coco]: Loaded 1800 images in COCO format from ./data/challenge/annotations/instances_test.json\n",
            "[02/16 17:02:16 d2.data.build]: Distribution of instances among all 2 categories:\n",
            "|  category  | #instances   |  category  | #instances   |\n",
            "|:----------:|:-------------|:----------:|:-------------|\n",
            "|    bolt    | 3213         |    nut     | 766          |\n",
            "|            |              |            |              |\n",
            "|   total    | 3979         |            |              |\n",
            "[02/16 17:02:16 d2.data.dataset_mapper]: [DatasetMapper] Augmentations used in inference: [ResizeShortestEdge(short_edge_length=(800, 800), max_size=1333, sample_style='choice')]\n",
            "[02/16 17:02:16 d2.data.common]: Serializing 1800 elements to byte tensors and concatenating them all ...\n",
            "[02/16 17:02:16 d2.data.common]: Serialized dataset takes 0.55 MiB\n"
          ]
        },
        {
          "output_type": "stream",
          "name": "stderr",
          "text": [
            "/usr/local/lib/python3.8/dist-packages/torch/utils/data/dataloader.py:478: UserWarning: This DataLoader will create 4 worker processes in total. Our suggested max number of worker in current system is 2, which is smaller than what this DataLoader is going to create. Please be aware that excessive worker creation might get DataLoader running slow or even freeze, lower the worker number to avoid potential slowness/freeze if necessary.\n",
            "  warnings.warn(_create_warning_msg(\n"
          ]
        }
      ]
    },
    {
      "cell_type": "code",
      "source": [
        "test_loader = build_detection_test_loader(cfg, \"test_data\")"
      ],
      "metadata": {
        "id": "14dmHITHaAwi"
      },
      "execution_count": 14,
      "outputs": []
    },
    {
      "cell_type": "markdown",
      "source": [
        "###initalize the evaluator : we chose [coco evaluator](https://detectron2.readthedocs.io/en/latest/modules/evaluation.html#detectron2.evaluation.COCOEvaluator)"
      ],
      "metadata": {
        "id": "NtZ9SIIZy1Db"
      }
    },
    {
      "cell_type": "code",
      "source": [
        "evaluator = COCOEvaluator(\"test_data\",tasks=(\"bbox\",),output_dir=\"./data/result\")"
      ],
      "metadata": {
        "id": "oj0Q9kTwySox"
      },
      "execution_count": 15,
      "outputs": []
    },
    {
      "cell_type": "code",
      "source": [
        "len(test_loader)"
      ],
      "metadata": {
        "colab": {
          "base_uri": "https://localhost:8080/"
        },
        "id": "Z5480RWzxUNo",
        "outputId": "326b463c-a713-4d83-a2b6-d22a6c062031"
      },
      "execution_count": null,
      "outputs": [
        {
          "output_type": "execute_result",
          "data": {
            "text/plain": [
              "1800"
            ]
          },
          "metadata": {},
          "execution_count": 20
        }
      ]
    },
    {
      "cell_type": "markdown",
      "source": [
        "[inference_on_dataset](https://detectron2.readthedocs.io/en/latest/modules/evaluation.html#detectron2.evaluation.inference_on_dataset)"
      ],
      "metadata": {
        "id": "Rir2W4OWsQC9"
      }
    },
    {
      "cell_type": "code",
      "source": [
        "data = inference_on_dataset(predictor.model, test_loader, evaluator)\n",
        "with open('./data/result/model2_dict_metrics.json', 'w') as fp:\n",
        "  json.dump(data, fp) "
      ],
      "metadata": {
        "colab": {
          "base_uri": "https://localhost:8080/"
        },
        "id": "lAgXTavUC-Ae",
        "outputId": "617d38c7-84e7-4f82-f87a-012826de2890"
      },
      "execution_count": null,
      "outputs": [
        {
          "output_type": "stream",
          "name": "stdout",
          "text": [
            "Loading and preparing results...\n",
            "DONE (t=0.01s)\n",
            "creating index...\n",
            "index created!\n",
            " Average Precision  (AP) @[ IoU=0.50:0.95 | area=   all | maxDets=100 ] = 0.892\n",
            " Average Precision  (AP) @[ IoU=0.50      | area=   all | maxDets=100 ] = 0.995\n",
            " Average Precision  (AP) @[ IoU=0.75      | area=   all | maxDets=100 ] = 0.994\n",
            " Average Precision  (AP) @[ IoU=0.50:0.95 | area= small | maxDets=100 ] = 0.700\n",
            " Average Precision  (AP) @[ IoU=0.50:0.95 | area=medium | maxDets=100 ] = 0.889\n",
            " Average Precision  (AP) @[ IoU=0.50:0.95 | area= large | maxDets=100 ] = 0.963\n",
            " Average Recall     (AR) @[ IoU=0.50:0.95 | area=   all | maxDets=  1 ] = 0.684\n",
            " Average Recall     (AR) @[ IoU=0.50:0.95 | area=   all | maxDets= 10 ] = 0.918\n",
            " Average Recall     (AR) @[ IoU=0.50:0.95 | area=   all | maxDets=100 ] = 0.918\n",
            " Average Recall     (AR) @[ IoU=0.50:0.95 | area= small | maxDets=100 ] = 0.855\n",
            " Average Recall     (AR) @[ IoU=0.50:0.95 | area=medium | maxDets=100 ] = 0.915\n",
            " Average Recall     (AR) @[ IoU=0.50:0.95 | area= large | maxDets=100 ] = 0.973\n"
          ]
        }
      ]
    },
    {
      "cell_type": "code",
      "source": [
        "data"
      ],
      "metadata": {
        "colab": {
          "base_uri": "https://localhost:8080/"
        },
        "id": "smmlP9qNJf1x",
        "outputId": "bc86863c-99d1-4a86-a996-90801a211ba8"
      },
      "execution_count": null,
      "outputs": [
        {
          "output_type": "execute_result",
          "data": {
            "text/plain": [
              "OrderedDict([('bbox',\n",
              "              {'AP': 89.18215678722729,\n",
              "               'AP50': 99.45392707986316,\n",
              "               'AP75': 99.40511299722928,\n",
              "               'APs': 69.9719105572686,\n",
              "               'APm': 88.93207866169996,\n",
              "               'APl': 96.34284522320014,\n",
              "               'AP-bolt': 90.35057687795657,\n",
              "               'AP-nut': 88.013736696498})])"
            ]
          },
          "metadata": {},
          "execution_count": 37
        }
      ]
    },
    {
      "cell_type": "markdown",
      "source": [
        "###3rd checkpoint"
      ],
      "metadata": {
        "id": "pLJszqzla71f"
      }
    },
    {
      "cell_type": "code",
      "source": [
        "data = inference_on_dataset(predictor.model, test_loader, evaluator)\n",
        "with open('./data/result/model3_dict_metrics.json', 'w') as fp:\n",
        "  json.dump(data, fp) "
      ],
      "metadata": {
        "colab": {
          "base_uri": "https://localhost:8080/"
        },
        "id": "fRyllnuKaN8a",
        "outputId": "697f40c7-80fa-466a-a7d5-6f271c26e3ec"
      },
      "execution_count": 16,
      "outputs": [
        {
          "output_type": "stream",
          "name": "stderr",
          "text": [
            "/usr/local/lib/python3.8/dist-packages/detectron2/structures/image_list.py:88: UserWarning: __floordiv__ is deprecated, and its behavior will change in a future version of pytorch. It currently rounds toward 0 (like the 'trunc' function NOT 'floor'). This results in incorrect rounding for negative values. To keep the current behavior, use torch.div(a, b, rounding_mode='trunc'), or for actual floor division, use torch.div(a, b, rounding_mode='floor').\n",
            "  max_size = (max_size + (stride - 1)) // stride * stride\n",
            "/usr/local/lib/python3.8/dist-packages/torch/functional.py:445: UserWarning: torch.meshgrid: in an upcoming release, it will be required to pass the indexing argument. (Triggered internally at  ../aten/src/ATen/native/TensorShape.cpp:2157.)\n",
            "  return _VF.meshgrid(tensors, **kwargs)  # type: ignore[attr-defined]\n"
          ]
        },
        {
          "output_type": "stream",
          "name": "stdout",
          "text": [
            "Loading and preparing results...\n",
            "DONE (t=0.01s)\n",
            "creating index...\n",
            "index created!\n",
            " Average Precision  (AP) @[ IoU=0.50:0.95 | area=   all | maxDets=100 ] = 0.894\n",
            " Average Precision  (AP) @[ IoU=0.50      | area=   all | maxDets=100 ] = 0.994\n",
            " Average Precision  (AP) @[ IoU=0.75      | area=   all | maxDets=100 ] = 0.994\n",
            " Average Precision  (AP) @[ IoU=0.50:0.95 | area= small | maxDets=100 ] = 0.723\n",
            " Average Precision  (AP) @[ IoU=0.50:0.95 | area=medium | maxDets=100 ] = 0.890\n",
            " Average Precision  (AP) @[ IoU=0.50:0.95 | area= large | maxDets=100 ] = 0.966\n",
            " Average Recall     (AR) @[ IoU=0.50:0.95 | area=   all | maxDets=  1 ] = 0.682\n",
            " Average Recall     (AR) @[ IoU=0.50:0.95 | area=   all | maxDets= 10 ] = 0.919\n",
            " Average Recall     (AR) @[ IoU=0.50:0.95 | area=   all | maxDets=100 ] = 0.919\n",
            " Average Recall     (AR) @[ IoU=0.50:0.95 | area= small | maxDets=100 ] = 0.868\n",
            " Average Recall     (AR) @[ IoU=0.50:0.95 | area=medium | maxDets=100 ] = 0.915\n",
            " Average Recall     (AR) @[ IoU=0.50:0.95 | area= large | maxDets=100 ] = 0.979\n"
          ]
        }
      ]
    },
    {
      "cell_type": "code",
      "source": [
        "data"
      ],
      "metadata": {
        "colab": {
          "base_uri": "https://localhost:8080/"
        },
        "id": "MPpYFXLwa_QC",
        "outputId": "87cc40e5-38ae-4488-8bba-5d1b80600756"
      },
      "execution_count": 17,
      "outputs": [
        {
          "output_type": "execute_result",
          "data": {
            "text/plain": [
              "OrderedDict([('bbox',\n",
              "              {'AP': 89.36449841706782,\n",
              "               'AP50': 99.4419517111646,\n",
              "               'AP75': 99.40309229798463,\n",
              "               'APs': 72.31262159858048,\n",
              "               'APm': 89.03795439170811,\n",
              "               'APl': 96.60612330893603,\n",
              "               'AP-bolt': 90.75931737953177,\n",
              "               'AP-nut': 87.96967945460385})])"
            ]
          },
          "metadata": {},
          "execution_count": 17
        }
      ]
    },
    {
      "cell_type": "markdown",
      "source": [
        "###Visual Predictions"
      ],
      "metadata": {
        "id": "rc2LbHufVDwq"
      }
    },
    {
      "cell_type": "markdown",
      "source": [
        "we use methods like draw_box and draw_text from detectron2 [Visualizer](https://detectron2.readthedocs.io/en/latest/modules/utils.html#detectron2.utils.visualizer.Visualizer)"
      ],
      "metadata": {
        "id": "4fije3ZUsdlk"
      }
    },
    {
      "cell_type": "code",
      "source": [
        "import time \n",
        "latency_pred = []\n",
        "for d in random.sample(test_dict, 3):\n",
        "  im = cv2.imread(d[\"file_name\"])\n",
        "  #im= im.astype(float)\n",
        "  #print(\"img shapes\", im.shape)\n",
        "  start1= time.time\n",
        "  outputs = predictor(im)\n",
        "  end1=time.time\n",
        "  latency_pred.append((end1-start1))\n",
        "  v = Visualizer(im[:, :, ::-1],\n",
        "                  MetadataCatalog.get(cfg.DATASETS.TEST[0]),\n",
        "                  scale=1,\n",
        "                  instance_mode=ColorMode.SEGMENTATION)\n",
        "  out = v.draw_instance_predictions(outputs[\"instances\"].to(\"cpu\"))\n",
        "  \n",
        "  classes = outputs[\"instances\"].pred_classes.to('cpu').tolist()\n",
        "  \n",
        "  boxes = v._convert_boxes(outputs[\"instances\"].pred_boxes.to('cpu')).squeeze()\n",
        "  scores = outputs[\"instances\"].scores.to('cpu').tolist()\n",
        "  labels = _create_text_labels(classes, scores, ['bolt','nut'])\n",
        "  \n",
        "  if len(labels) != 1:\n",
        "    for box, label in zip(boxes, labels):\n",
        "        color = random_color(rgb=True, maximum=1)\n",
        "        color = v._change_color_brightness(color, 0.5)\n",
        "        out = v.draw_box(box, edge_color=color)\n",
        "        out = v.draw_text(f\"{label}\", (box[0]+(box[2]-box[0])/2, box[1]), horizontal_alignment=\"center\", font_size=15)\n",
        "  else:\n",
        "    label = labels[0]\n",
        "    color = random_color(rgb=True, maximum=1)\n",
        "    color=v._change_color_brightness(color,0.5)\n",
        "    out=v.draw_box(boxes,edge_color=color)\n",
        "    out = v.draw_text(f\"{label}\", (boxes[0]+(boxes[2]-boxes[0])/2,\n",
        "                              boxes[1]), horizontal_alignment=\"center\", font_size=15)\n",
        "  img= out.get_image()[:, :, ::-1]\n",
        "  img = cv2.cvtColor(img, cv2.COLOR_BGR2RGB)\n",
        "  #\n",
        "  plt.figure(figsize=(10, 8))\n",
        "  plt.axis('off')\n",
        "  plt.imshow(img)"
      ],
      "metadata": {
        "colab": {
          "base_uri": "https://localhost:8080/",
          "height": 1000
        },
        "id": "l_yXBxenJgqB",
        "outputId": "26037968-7d4d-467f-b953-e8602fb241ea"
      },
      "execution_count": null,
      "outputs": [
        {
          "output_type": "display_data",
          "data": {
            "text/plain": [
              "<Figure size 720x576 with 1 Axes>"
            ],
            "image/png": "[encoded data removed]"
          },
          "metadata": {
            "needs_background": "light"
          }
        },
        {
          "output_type": "display_data",
          "data": {
            "text/plain": [
              "<Figure size 720x576 with 1 Axes>"
            ],
            "image/png": "[encoded data removed]"
          },
          "metadata": {
            "needs_background": "light"
          }
        },
        {
          "output_type": "display_data",
          "data": {
            "text/plain": [
              "<Figure size 720x576 with 1 Axes>"
            ],
            "image/png": "[encoded data removed]"
          },
          "metadata": {
            "needs_background": "light"
          }
        }
      ]
    },
    {
      "cell_type": "code",
      "source": [
        "import time \n",
        "latency_pred = []\n",
        "for d in random.sample(test_dict, 200):\n",
        "  im = cv2.imread(d[\"file_name\"])\n",
        "  #im= im.astype(float)\n",
        "  #print(\"img shapes\", im.shape)\n",
        "  start1= time.time()\n",
        "  outputs = predictor(im)\n",
        "  end1=time.time()\n",
        "  latency_pred.append((end1-start1))\n",
        "'''\n",
        "  v = Visualizer(im[:, :, ::-1],\n",
        "                  MetadataCatalog.get(cfg.DATASETS.TEST[0]),\n",
        "                  scale=1,\n",
        "                  instance_mode=ColorMode.SEGMENTATION)\n",
        "  out = v.draw_instance_predictions(outputs[\"instances\"].to(\"cpu\"))\n",
        "  cv2_imshow(out.get_image()[:, :, ::-1])\n",
        "  '''"
      ],
      "metadata": {
        "colab": {
          "base_uri": "https://localhost:8080/",
          "height": 70
        },
        "id": "XX5eCXcJcuV8",
        "outputId": "43f61be8-21a0-451c-83a2-01e30e20a8f9"
      },
      "execution_count": 37,
      "outputs": [
        {
          "output_type": "execute_result",
          "data": {
            "text/plain": [
              "'\\n  v = Visualizer(im[:, :, ::-1],\\n                  MetadataCatalog.get(cfg.DATASETS.TEST[0]),\\n                  scale=1,\\n                  instance_mode=ColorMode.SEGMENTATION)\\n  out = v.draw_instance_predictions(outputs[\"instances\"].to(\"cpu\"))\\n  cv2_imshow(out.get_image()[:, :, ::-1])\\n  '"
            ],
            "application/vnd.google.colaboratory.intrinsic+json": {
              "type": "string"
            }
          },
          "metadata": {},
          "execution_count": 37
        }
      ]
    },
    {
      "cell_type": "code",
      "source": [
        "latency_pred"
      ],
      "metadata": {
        "colab": {
          "base_uri": "https://localhost:8080/"
        },
        "id": "4ftsiMk5gNmD",
        "outputId": "6f856ab8-6400-41ef-f860-6882c0c55d0d"
      },
      "execution_count": 40,
      "outputs": [
        {
          "output_type": "execute_result",
          "data": {
            "text/plain": [
              "[0.16873788833618164,\n",
              " 0.13272380828857422,\n",
              " 0.1006324291229248,\n",
              " 0.13167095184326172,\n",
              " 0.1282367706298828,\n",
              " 0.15295791625976562,\n",
              " 0.17300748825073242,\n",
              " 0.12793922424316406,\n",
              " 0.1231236457824707,\n",
              " 0.13614535331726074,\n",
              " 0.08541083335876465,\n",
              " 0.0872488021850586,\n",
              " 0.0927419662475586,\n",
              " 0.092437744140625,\n",
              " 0.09043049812316895,\n",
              " 0.0950777530670166,\n",
              " 0.08516907691955566,\n",
              " 0.08602285385131836,\n",
              " 0.0885155200958252,\n",
              " 0.11145758628845215,\n",
              " 0.08517813682556152,\n",
              " 0.08615660667419434,\n",
              " 0.08946776390075684,\n",
              " 0.08492493629455566,\n",
              " 0.10553216934204102,\n",
              " 0.11560225486755371,\n",
              " 0.11104655265808105,\n",
              " 0.08931469917297363,\n",
              " 0.11745166778564453,\n",
              " 0.15283846855163574,\n",
              " 0.11601734161376953,\n",
              " 0.128861665725708,\n",
              " 0.14597415924072266,\n",
              " 0.16768407821655273,\n",
              " 0.15784931182861328,\n",
              " 0.13995957374572754,\n",
              " 0.1389012336730957,\n",
              " 0.18477869033813477,\n",
              " 0.19318318367004395,\n",
              " 0.15670347213745117,\n",
              " 0.13234901428222656,\n",
              " 0.32695579528808594,\n",
              " 0.18000173568725586,\n",
              " 0.20381712913513184,\n",
              " 0.10584712028503418,\n",
              " 0.13942885398864746,\n",
              " 0.13985466957092285,\n",
              " 0.2286076545715332,\n",
              " 0.18271994590759277,\n",
              " 0.13837838172912598,\n",
              " 0.1743326187133789,\n",
              " 0.16098809242248535,\n",
              " 0.10038328170776367,\n",
              " 0.0854334831237793,\n",
              " 0.08414793014526367,\n",
              " 0.0855093002319336,\n",
              " 0.08378911018371582,\n",
              " 0.0821371078491211,\n",
              " 0.0832357406616211,\n",
              " 0.08506417274475098,\n",
              " 0.08351802825927734,\n",
              " 0.08650898933410645,\n",
              " 0.08770108222961426,\n",
              " 0.08859109878540039,\n",
              " 0.08522772789001465,\n",
              " 0.08445167541503906,\n",
              " 0.08584046363830566,\n",
              " 0.08806920051574707,\n",
              " 0.0849757194519043,\n",
              " 0.08549690246582031,\n",
              " 0.08378744125366211,\n",
              " 0.08310294151306152,\n",
              " 0.07738327980041504,\n",
              " 0.07847452163696289,\n",
              " 0.07895779609680176,\n",
              " 0.07822251319885254,\n",
              " 0.07786297798156738,\n",
              " 0.07730674743652344,\n",
              " 0.0770409107208252,\n",
              " 0.07734322547912598,\n",
              " 0.08116936683654785,\n",
              " 0.07765674591064453,\n",
              " 0.07794332504272461,\n",
              " 0.07639813423156738,\n",
              " 0.0749819278717041,\n",
              " 0.08696866035461426,\n",
              " 0.07651400566101074,\n",
              " 0.07747554779052734,\n",
              " 0.07639145851135254,\n",
              " 0.07820558547973633,\n",
              " 0.07671356201171875,\n",
              " 0.07888603210449219,\n",
              " 0.07853579521179199,\n",
              " 0.07750892639160156,\n",
              " 0.0763547420501709,\n",
              " 0.0777273178100586,\n",
              " 0.07707095146179199,\n",
              " 0.07777523994445801,\n",
              " 0.07804560661315918,\n",
              " 0.07628059387207031,\n",
              " 0.0780482292175293,\n",
              " 0.08170914649963379,\n",
              " 0.07654356956481934,\n",
              " 0.08042216300964355,\n",
              " 0.07636618614196777,\n",
              " 0.07678580284118652,\n",
              " 0.07747745513916016,\n",
              " 0.07736539840698242,\n",
              " 0.07623171806335449,\n",
              " 0.07911396026611328,\n",
              " 0.07814693450927734,\n",
              " 0.07972145080566406,\n",
              " 0.07808828353881836,\n",
              " 0.07755422592163086,\n",
              " 0.0784001350402832,\n",
              " 0.07954597473144531,\n",
              " 0.07970809936523438,\n",
              " 0.0770270824432373,\n",
              " 0.07779550552368164,\n",
              " 0.07696533203125,\n",
              " 0.0767660140991211,\n",
              " 0.07722687721252441,\n",
              " 0.07565498352050781,\n",
              " 0.07735109329223633,\n",
              " 0.07738041877746582,\n",
              " 0.07744979858398438,\n",
              " 0.07721662521362305,\n",
              " 0.07718944549560547,\n",
              " 0.07703113555908203,\n",
              " 0.08101034164428711,\n",
              " 0.07727432250976562,\n",
              " 0.07806563377380371,\n",
              " 0.07668900489807129,\n",
              " 0.07746028900146484,\n",
              " 0.07836365699768066,\n",
              " 0.07852506637573242,\n",
              " 0.07731890678405762,\n",
              " 0.07840871810913086,\n",
              " 0.07752728462219238,\n",
              " 0.08028221130371094,\n",
              " 0.07892584800720215,\n",
              " 0.07771086692810059,\n",
              " 0.07803130149841309,\n",
              " 0.07890701293945312,\n",
              " 0.07754230499267578,\n",
              " 0.07894754409790039,\n",
              " 0.07760190963745117,\n",
              " 0.07879281044006348,\n",
              " 0.07861804962158203,\n",
              " 0.0780172348022461,\n",
              " 0.07847094535827637,\n",
              " 0.08269262313842773,\n",
              " 0.07725787162780762,\n",
              " 0.07655119895935059,\n",
              " 0.0769038200378418,\n",
              " 0.0771019458770752,\n",
              " 0.08161568641662598,\n",
              " 0.07843017578125,\n",
              " 0.07900214195251465,\n",
              " 0.07762813568115234,\n",
              " 0.07829833030700684,\n",
              " 0.08173179626464844,\n",
              " 0.07955551147460938,\n",
              " 0.0773766040802002,\n",
              " 0.0772390365600586,\n",
              " 0.07783985137939453,\n",
              " 0.07675528526306152,\n",
              " 0.0765233039855957,\n",
              " 0.0771028995513916,\n",
              " 0.07659602165222168,\n",
              " 0.07606863975524902,\n",
              " 0.0772695541381836,\n",
              " 0.08017396926879883,\n",
              " 0.07749676704406738,\n",
              " 0.07503747940063477,\n",
              " 0.0802912712097168,\n",
              " 0.07690787315368652,\n",
              " 0.0770564079284668,\n",
              " 0.07644772529602051,\n",
              " 0.07659482955932617,\n",
              " 0.07714438438415527,\n",
              " 0.07691049575805664,\n",
              " 0.0766746997833252,\n",
              " 0.07707834243774414,\n",
              " 0.0800638198852539,\n",
              " 0.07706928253173828,\n",
              " 0.07763862609863281,\n",
              " 0.08056926727294922,\n",
              " 0.08020257949829102,\n",
              " 0.08481264114379883,\n",
              " 0.08471202850341797,\n",
              " 0.08633971214294434,\n",
              " 0.08610200881958008,\n",
              " 0.08459901809692383,\n",
              " 0.08382344245910645,\n",
              " 0.08639931678771973,\n",
              " 0.08646154403686523,\n",
              " 0.08495521545410156,\n",
              " 0.09178566932678223,\n",
              " 0.08601713180541992]"
            ]
          },
          "metadata": {},
          "execution_count": 40
        }
      ]
    },
    {
      "cell_type": "code",
      "source": [
        "mean(latency_pred)**(-1)"
      ],
      "metadata": {
        "colab": {
          "base_uri": "https://localhost:8080/"
        },
        "id": "yfa7famogQxK",
        "outputId": "b3c67556-926d-499f-ecd1-9da6793052d2"
      },
      "execution_count": 41,
      "outputs": [
        {
          "output_type": "execute_result",
          "data": {
            "text/plain": [
              "10.663116687506202"
            ]
          },
          "metadata": {},
          "execution_count": 41
        }
      ]
    },
    {
      "cell_type": "code",
      "source": [],
      "metadata": {
        "id": "xtqbryXOgV7i"
      },
      "execution_count": null,
      "outputs": []
    },
    {
      "cell_type": "code",
      "source": [
        "from statistics import mean\n",
        "\n",
        "mean(latency_pred)"
      ],
      "metadata": {
        "colab": {
          "base_uri": "https://localhost:8080/"
        },
        "id": "ze-flBcyeUks",
        "outputId": "7fbc95f5-2062-4cdd-9d2f-b95011d29006"
      },
      "execution_count": 26,
      "outputs": [
        {
          "output_type": "execute_result",
          "data": {
            "text/plain": [
              "0.12349406878153484"
            ]
          },
          "metadata": {},
          "execution_count": 26
        }
      ]
    },
    {
      "cell_type": "markdown",
      "source": [
        "##Build Confusion Matrix"
      ],
      "metadata": {
        "id": "sL29uVlytUlD"
      }
    },
    {
      "cell_type": "code",
      "source": [
        "M = np.zeros((2, 2), dtype=int)\n",
        "FN = np.zeros(2)\n",
        "for data in test_dict:\n",
        "  im = cv2.imread(data[\"file_name\"])\n",
        "  outputs = predictor(im)\n",
        "\n",
        "  preds_classes = outputs[\"instances\"].pred_classes.to('cpu').tolist() #i\n",
        "  gt_classes =  [dct['category_id'] for dct in data['annotations'] ] #j\n",
        "\n",
        "  if len(preds_classes) == len(gt_classes):\n",
        "\n",
        "    for i , j in zip(preds_classes , gt_classes):\n",
        "      M[i,j]+=1\n",
        "  \n",
        "  elif preds_classes == []:# case of pred_class = none or empty \n",
        "      for j in gt_classes:\n",
        "        FN[j]+=1\n",
        "  else :\n",
        "    Min = min(len(gt_classes),len(preds_classes))\n",
        "    for i,j in zip(preds_classes[:Min],gt_classes[:Min]):\n",
        "      M[i,j]+=1\n",
        "  "
      ],
      "metadata": {
        "id": "R5AMYwRoO06A"
      },
      "execution_count": 43,
      "outputs": []
    },
    {
      "cell_type": "code",
      "source": [
        "FN"
      ],
      "metadata": {
        "colab": {
          "base_uri": "https://localhost:8080/"
        },
        "id": "-9iJBuKvWr2i",
        "outputId": "dc2976c3-ba30-4e59-86e1-89dfdf949412"
      },
      "execution_count": null,
      "outputs": [
        {
          "output_type": "execute_result",
          "data": {
            "text/plain": [
              "array([0., 0.])"
            ]
          },
          "metadata": {},
          "execution_count": 80
        }
      ]
    },
    {
      "cell_type": "markdown",
      "source": [
        "###Plot the  confusion matrix"
      ],
      "metadata": {
        "id": "yhBVkoxuNAi-"
      }
    },
    {
      "cell_type": "code",
      "source": [
        "def showMatrix(M,txt):\n",
        "  fig, ax = plt.subplots(figsize=(6, 6))\n",
        "  class_name = ['bolt', 'nut']\n",
        "  \n",
        "  ax.matshow(M, cmap=plt.cm.Blues)\n",
        "  ax.set_xticks(np.arange(0, 2, 1))\n",
        "  ax.set_yticks(np.arange(0, 2, 1))\n",
        "  ax.set_xticklabels(class_name, rotation =70)\n",
        "  ax.set_yticklabels(class_name, rotation =0)\n",
        "  font= {'fontsize': 15,\n",
        "    'fontweight':'normal',\n",
        "    'color': 'black',\n",
        "    'verticalalignment': 'baseline',\n",
        "    'horizontalalignment': 'center'}\n",
        "  ax.set_title('Confusion Matrix'+ txt,fontdict= font , pad=70)\n",
        "  for i in range(2):\n",
        "      for j in range(2):\n",
        "          c = M[i, j]\n",
        "          ax.text(j, i, str(c), va='center', ha='center')"
      ],
      "metadata": {
        "id": "83TGiuv3RDTO"
      },
      "execution_count": 45,
      "outputs": []
    },
    {
      "cell_type": "code",
      "source": [
        "showMatrix(M,' of Model 0017999')\n"
      ],
      "metadata": {
        "colab": {
          "base_uri": "https://localhost:8080/",
          "height": 459
        },
        "id": "tpXCtFxfR-Vg",
        "outputId": "0fc1ed24-0619-444d-92c2-9ea721cace7d"
      },
      "execution_count": null,
      "outputs": [
        {
          "output_type": "display_data",
          "data": {
            "text/plain": [
              "<Figure size 432x432 with 1 Axes>"
            ],
            "image/png": "[encoded data removed]"
          },
          "metadata": {
            "needs_background": "light"
          }
        }
      ]
    },
    {
      "cell_type": "code",
      "source": [
        "showMatrix(M,' of Model model_0026999')\n"
      ],
      "metadata": {
        "colab": {
          "base_uri": "https://localhost:8080/",
          "height": 459
        },
        "id": "vW897LS1mF9b",
        "outputId": "21af5c50-a19e-4c16-dfc1-5d259f13d619"
      },
      "execution_count": 46,
      "outputs": [
        {
          "output_type": "display_data",
          "data": {
            "text/plain": [
              "<Figure size 432x432 with 1 Axes>"
            ],
            "image/png": "[encoded data removed]"
          },
          "metadata": {
            "needs_background": "light"
          }
        }
      ]
    },
    {
      "cell_type": "markdown",
      "source": [
        "##F1_score "
      ],
      "metadata": {
        "id": "r4a3SaTotdVL"
      }
    },
    {
      "cell_type": "code",
      "source": [
        "def class_stat(cat_id,M,FN1):\n",
        "  '''\n",
        "  # calculate True positive , False Positive , false negative precision, recall and F1 score\n",
        "  cat_id : target class id\n",
        "  M : confusion Matrix\n",
        "  FN1 : false negative vector calculated in the confusion matrix algorithm\n",
        "  '''\n",
        "  #FN1 : non predicted objects counted as false negative for its class\n",
        "  m,n= M.shape\n",
        "  line=np.sum(M,axis=1) \n",
        "  col=np.sum(M,axis=0)\n",
        "  total=np.sum(M)\n",
        "  TP = M[cat_id,cat_id] #scalar\n",
        "  FP=line[cat_id]-TP #scalar\n",
        "  FN2= col[cat_id]-TP\n",
        "  FN = FN1[cat_id]+FN2\n",
        "  TN= total-(TP+FP+FN)\n",
        "  precision= TP/(TP+FP)\n",
        "  recall= TP/(TP+FN)\n",
        "  F1_score= (2*precision*recall)/(precision+recall)\n",
        "  return TP ,FP ,FN ,TN, precision, recall, F1_score"
      ],
      "metadata": {
        "id": "lZKp1J1sSZ8a"
      },
      "execution_count": 47,
      "outputs": []
    },
    {
      "cell_type": "code",
      "source": [
        "#bar plot of f1_score per class\n",
        "FS=np.zeros((2,))\n",
        "for cat_id in range(2):  \n",
        "  _,_,_,_,_,_, F1_score = class_stat(cat_id,M, FN)\n",
        "  FS[cat_id] = round(F1_score,3)\n",
        "    \n",
        "fig = plt.figure(figsize = (7, 7))\n",
        "class_name = ['bolt', 'nut']\n",
        "\n",
        "# creating the bar plot\n",
        "bins = np.arange(1,3,1,dtype=float)\n",
        "FS=np.nan_to_num(FS)\n",
        "\n",
        "plt.bar(bins, FS, color ='green', width = 0.2,)\n",
        "\n",
        "for index,value in enumerate(FS):\n",
        "  plt.text(x=int(index)+1 , y =value+0.01,s=f\"{value}\",fontdict=dict(fontsize=10),ha='center', va='bottom')\n",
        "\n",
        "    \n",
        "plt.xlabel(\"classes id\")\n",
        "plt.xticks(bins, class_name, rotation =80)\n",
        "plt.ylabel(\"f1-score\")\n",
        "plt.legend()\n",
        "plt.title(\"F1-score of each class 3rd epoch\")\n",
        "plt.show()"
      ],
      "metadata": {
        "colab": {
          "base_uri": "https://localhost:8080/",
          "height": 486
        },
        "id": "Et3wdKsymvJz",
        "outputId": "64cabd7b-f701-4516-e7ef-906fccdc7484"
      },
      "execution_count": 48,
      "outputs": [
        {
          "output_type": "stream",
          "name": "stderr",
          "text": [
            "WARNING:matplotlib.legend:No handles with labels found to put in legend.\n"
          ]
        },
        {
          "output_type": "display_data",
          "data": {
            "text/plain": [
              "<Figure size 504x504 with 1 Axes>"
            ],
            "image/png": "[encoded data removed]"
          },
          "metadata": {
            "needs_background": "light"
          }
        }
      ]
    },
    {
      "cell_type": "code",
      "source": [
        "mean(FS)"
      ],
      "metadata": {
        "colab": {
          "base_uri": "https://localhost:8080/"
        },
        "id": "Qm8QrZKzT5NZ",
        "outputId": "b9416895-ffd7-4b8f-e3ea-d789c6189736"
      },
      "execution_count": 50,
      "outputs": [
        {
          "output_type": "execute_result",
          "data": {
            "text/plain": [
              "0.8235"
            ]
          },
          "metadata": {},
          "execution_count": 50
        }
      ]
    },
    {
      "cell_type": "markdown",
      "source": [
        "## Post Processing: Combine RetinaNet with ByteTrack"
      ],
      "metadata": {
        "id": "WnecmgBBXQMN"
      }
    },
    {
      "cell_type": "markdown",
      "source": [
        "following the steps of the tutorial [Object Tracking with ByteTrack](https://blog.roboflow.com/yolov8-tracking-and-counting/#object-tracking-with-bytetrack)"
      ],
      "metadata": {
        "id": "zhJa-MPXQgXY"
      }
    },
    {
      "cell_type": "markdown",
      "source": [
        "1. install supervision for frame manipulation and annotation"
      ],
      "metadata": {
        "id": "qfV84Sn9Xbza"
      }
    },
    {
      "cell_type": "code",
      "source": [
        "!pip install supervision==0.1.0\n",
        "\n",
        "\n",
        "from IPython import display\n",
        "display.clear_output()\n",
        "\n",
        "\n",
        "import supervision\n",
        "print(\"supervision.__version__:\", supervision.__version__)"
      ],
      "metadata": {
        "colab": {
          "base_uri": "https://localhost:8080/"
        },
        "id": "JmltJyOqWzAx",
        "outputId": "32b0a935-850f-4844-8bbd-4e996300c96c"
      },
      "execution_count": 52,
      "outputs": [
        {
          "output_type": "stream",
          "name": "stdout",
          "text": [
            "supervision.__version__: 0.1.0\n"
          ]
        }
      ]
    },
    {
      "cell_type": "code",
      "source": [
        "from supervision.draw.color import ColorPalette\n",
        "from supervision.geometry.dataclasses import Point\n",
        "from supervision.video.dataclasses import VideoInfo\n",
        "from supervision.video.source import get_video_frames_generator\n",
        "from supervision.video.sink import VideoSink\n",
        "from supervision.notebook.utils import show_frame_in_notebook\n",
        "from supervision.tools.detections import Detections, BoxAnnotator"
      ],
      "metadata": {
        "id": "aKu8FafyZBim"
      },
      "execution_count": 53,
      "outputs": []
    },
    {
      "cell_type": "markdown",
      "source": [
        "###install ByteTrack"
      ],
      "metadata": {
        "id": "Y-hSZ-iWOOD7"
      }
    },
    {
      "cell_type": "code",
      "source": [
        "HOME = os.getcwd()\n",
        "%cd {HOME}\n",
        "!git clone https://github.com/ifzhang/ByteTrack.git\n",
        "!cd ByteTrack && pip3 install -q -r requirements.txt\n",
        "!cd ByteTrack && python3 setup.py -q develop\n",
        "!pip install -q cython_bbox\n",
        "!pip install -q onemetric\n",
        "\n",
        "from IPython import display\n",
        "display.clear_output()\n",
        "\n",
        "\n",
        "import sys\n",
        "sys.path.append(f\"{HOME}/ByteTrack\")\n",
        "\n",
        "\n",
        "import yolox\n",
        "print(\"yolox.__version__:\", yolox.__version__)"
      ],
      "metadata": {
        "colab": {
          "base_uri": "https://localhost:8080/"
        },
        "id": "BoagOQBaZCGa",
        "outputId": "fe0a79a9-c116-433b-cfe3-0472399b6909"
      },
      "execution_count": 51,
      "outputs": [
        {
          "output_type": "stream",
          "name": "stdout",
          "text": [
            "yolox.__version__: 0.1.0\n"
          ]
        }
      ]
    },
    {
      "cell_type": "code",
      "source": [
        "from yolox.tracker.byte_tracker import BYTETracker, STrack\n",
        "from onemetric.cv.utils.iou import box_iou_batch\n",
        "from dataclasses import dataclass\n",
        "\n",
        "\n",
        "@dataclass(frozen=True)\n",
        "class BYTETrackerArgs:\n",
        "    track_thresh: float = 0.25\n",
        "    track_buffer: int = 30\n",
        "    match_thresh: float = 0.8\n",
        "    aspect_ratio_thresh: float = 3.0\n",
        "    min_box_area: float = 1.0\n",
        "    mot20: bool = False"
      ],
      "metadata": {
        "id": "K2DKiUILZrfs"
      },
      "execution_count": 54,
      "outputs": []
    },
    {
      "cell_type": "markdown",
      "source": [
        "###list of functions"
      ],
      "metadata": {
        "id": "YZ62W4aYa-bZ"
      }
    },
    {
      "cell_type": "markdown",
      "source": [
        "to enable the use of ByteTrack correctly"
      ],
      "metadata": {
        "id": "oaFTub2iTXF5"
      }
    },
    {
      "cell_type": "code",
      "source": [
        "from typing import List\n",
        "\n",
        "import numpy as np\n",
        "\n",
        "\n",
        "# converts Detections into format that can be consumed by match_detections_with_tracks function\n",
        "def detections2boxes(detections) -> np.ndarray:\n",
        "    return np.hstack((\n",
        "        detections.xyxy,\n",
        "        detections.confidence[:, np.newaxis]\n",
        "    ))\n",
        "\n",
        "\n",
        "# converts List[STrack] into format that can be consumed by match_detections_with_tracks function\n",
        "def tracks2boxes(tracks: List[STrack]) -> np.ndarray:\n",
        "    return np.array([\n",
        "        track.tlbr\n",
        "        for track\n",
        "        in tracks\n",
        "    ], dtype=float)\n",
        "\n",
        "\n",
        "# matches our bounding boxes with predictions\n",
        "def match_detections_with_tracks(\n",
        "    detections: Detections, \n",
        "    tracks: List[STrack]\n",
        ") -> Detections:\n",
        "    if not np.any(detections.xyxy) or len(tracks) == 0:\n",
        "        return np.empty((0,))\n",
        "\n",
        "    tracks_boxes = tracks2boxes(tracks=tracks)\n",
        "    iou = box_iou_batch(tracks_boxes, detections.xyxy)\n",
        "    track2detection = np.argmax(iou, axis=1)\n",
        "    \n",
        "    tracker_ids = [None] * len(detections)\n",
        "    \n",
        "    for tracker_index, detection_index in enumerate(track2detection):\n",
        "        if iou[tracker_index, detection_index] != 0:\n",
        "            tracker_ids[detection_index] = tracks[tracker_index].track_id\n",
        "\n",
        "    return tracker_ids"
      ],
      "metadata": {
        "id": "U39N1DlmRWQl"
      },
      "execution_count": 55,
      "outputs": []
    },
    {
      "cell_type": "markdown",
      "source": [
        "##apply Tracking on test video"
      ],
      "metadata": {
        "id": "Z8HyWxDpTdhi"
      }
    },
    {
      "cell_type": "code",
      "source": [
        "CLASS_NAMES_DICT = ['bolt','nut']\n",
        "CLASS_ID = [0, 1]\n",
        "SOURCE_VIDEO_PATH = \"/content/drive/MyDrive/tracking/data/challenge/images/test.mp4\"\n",
        "TARGET_VIDEO_PATH = '/content/drive/MyDrive/tracking/data/result4.mp4'"
      ],
      "metadata": {
        "id": "xGymtZR7ZvW5"
      },
      "execution_count": 56,
      "outputs": []
    },
    {
      "cell_type": "code",
      "source": [
        "from tqdm.notebook import tqdm\n",
        "# create BYTETracker instance\n",
        "byte_tracker = BYTETracker(BYTETrackerArgs())\n",
        "# create VideoInfo instance\n",
        "video_info = VideoInfo.from_video_path(SOURCE_VIDEO_PATH)\n",
        "# create frame generator\n",
        "generator = get_video_frames_generator(SOURCE_VIDEO_PATH)\n",
        "# create instance of BoxAnnotator and LineCounterAnnotator\n",
        "box_annotator = BoxAnnotator(color=ColorPalette(), thickness=2, text_thickness=2, text_scale=1)\n"
      ],
      "metadata": {
        "id": "-tzTmO1aaM6b"
      },
      "execution_count": 57,
      "outputs": []
    },
    {
      "cell_type": "code",
      "source": [
        "video_info"
      ],
      "metadata": {
        "colab": {
          "base_uri": "https://localhost:8080/"
        },
        "id": "CLjKHTrbdW5C",
        "outputId": "b787782c-4427-43a6-d0d0-dc425f5ac85a"
      },
      "execution_count": null,
      "outputs": [
        {
          "output_type": "execute_result",
          "data": {
            "text/plain": [
              "VideoInfo(width=640, height=640, fps=30, total_frames=1800)"
            ]
          },
          "metadata": {},
          "execution_count": 43
        }
      ]
    },
    {
      "cell_type": "code",
      "source": [
        "# open target video file\n",
        "with VideoSink(TARGET_VIDEO_PATH, video_info) as sink:\n",
        "    # loop over video frames\n",
        "    for frame in tqdm(generator, total=video_info.total_frames):\n",
        "        # model prediction on single frame and conversion to supervision Detections\n",
        "        # detect\n",
        "        outputs = predictor(frame)\n",
        "        detections = Detections(\n",
        "            xyxy=outputs[\"instances\"].pred_boxes.tensor.cpu().numpy(),\n",
        "            confidence=outputs[\"instances\"].scores.cpu().numpy(),\n",
        "            class_id=outputs[\"instances\"].pred_classes.cpu().numpy().astype(int)\n",
        "        )\n",
        "        # filtering out detections with unwanted classes\n",
        "        mask = np.array([class_id in CLASS_ID for class_id in detections.class_id], dtype=bool)\n",
        "        detections.filter(mask=mask, inplace=True)\n",
        "        # tracking detections\n",
        "        tracks = byte_tracker.update(\n",
        "            output_results=detections2boxes(detections=detections),\n",
        "            img_info=frame.shape,\n",
        "            img_size=frame.shape\n",
        "        )\n",
        "        tracker_id = match_detections_with_tracks(detections=detections, tracks=tracks)\n",
        "        detections.tracker_id = np.array(tracker_id)\n",
        "        # filtering out detections without trackers\n",
        "        mask = np.array([tracker_id is not None for tracker_id in detections.tracker_id], dtype=bool)\n",
        "        detections.filter(mask=mask, inplace=True)\n",
        "        # format custom labels\n",
        "        labels = [\n",
        "            f\"#{tracker_id} {CLASS_NAMES_DICT[class_id]} {confidence:0.2f}\"\n",
        "            for _, confidence, class_id, tracker_id\n",
        "            in detections\n",
        "        ]\n",
        "        \n",
        "        # annotate and display frame\n",
        "        frame = box_annotator.annotate(frame=frame, detections=detections, labels=labels)\n",
        "        #line_annotator.annotate(frame=frame, line_counter=line_counter)\n",
        "        sink.write_frame(frame)"
      ],
      "metadata": {
        "colab": {
          "base_uri": "https://localhost:8080/",
          "height": 104,
          "referenced_widgets": [
            "2ac69010a4464e31b4cfb04cb98b9eb0",
            "66b4d65593d64c24821f4b246ec1ba2c",
            "b0717c82db224fe0b9084b61af0b2819",
            "1c09584abb7c421a8ee35cf92fb1818c",
            "3448ca47c9ef43b98202e25614b25d15",
            "f1d81a16eb4143eebeaa88692f997c74",
            "b63970c67d5245eeb510ec89cf2bae20",
            "39ac5784f88346a5ad224da7bbe2a3cb",
            "09299982a7b44e33800881ee0f7cd659",
            "919dd8de01014fc58f0b298316542333",
            "6a3238ce21a3479ca33a10db0300c06f"
          ]
        },
        "id": "bUIpZ2D2hwv_",
        "outputId": "24c2d02a-206f-43e2-b20f-47157fefacec"
      },
      "execution_count": 58,
      "outputs": [
        {
          "output_type": "display_data",
          "data": {
            "text/plain": [
              "  0%|          | 0/1800 [00:00<?, ?it/s]"
            ],
            "application/vnd.jupyter.widget-view+json": {
              "version_major": 2,
              "version_minor": 0,
              "model_id": "2ac69010a4464e31b4cfb04cb98b9eb0"
            }
          },
          "metadata": {}
        },
        {
          "output_type": "stream",
          "name": "stderr",
          "text": [
            "/usr/local/lib/python3.8/dist-packages/detectron2/structures/image_list.py:88: UserWarning: __floordiv__ is deprecated, and its behavior will change in a future version of pytorch. It currently rounds toward 0 (like the 'trunc' function NOT 'floor'). This results in incorrect rounding for negative values. To keep the current behavior, use torch.div(a, b, rounding_mode='trunc'), or for actual floor division, use torch.div(a, b, rounding_mode='floor').\n",
            "  max_size = (max_size + (stride - 1)) // stride * stride\n"
          ]
        }
      ]
    },
    {
      "cell_type": "markdown",
      "source": [
        "##Export to onnx"
      ],
      "metadata": {
        "id": "ooZb0bEsn0ub"
      }
    },
    {
      "cell_type": "markdown",
      "source": [
        "in the original repo of ByteTrack [link1](https://github.com/ifzhang/ByteTrack/blob/main/tools/export_onnx.py)\n",
        "the exported model to onnx was a actually the  checkpoint of object detector yolo "
      ],
      "metadata": {
        "id": "uEXbVshzedJ9"
      }
    },
    {
      "cell_type": "code",
      "source": [
        "model_zoo.get_config_file(\"COCO-Detection/retinanet_R_50_FPN_3x.yaml\")\n"
      ],
      "metadata": {
        "colab": {
          "base_uri": "https://localhost:8080/"
        },
        "id": "XTqvbtkFn4Ka",
        "outputId": "33b3b7ca-6f9b-49ea-8409-16184cbb5a35"
      },
      "execution_count": null,
      "outputs": [
        {
          "output_type": "stream",
          "name": "stdout",
          "text": [
            "/usr/local/lib/python3.8/dist-packages/detectron2/model_zoo/configs/COCO-Detection/retinanet_R_50_FPN_3x.yaml\n"
          ]
        }
      ]
    },
    {
      "cell_type": "code",
      "source": [
        "cfg.MODEL.WEIGHTS"
      ],
      "metadata": {
        "colab": {
          "base_uri": "https://localhost:8080/",
          "height": 35
        },
        "id": "7_DC09KCplyT",
        "outputId": "6d223cca-0e16-469a-dede-af21f4387e98"
      },
      "execution_count": null,
      "outputs": [
        {
          "output_type": "execute_result",
          "data": {
            "text/plain": [
              "'/content/drive/MyDrive/tracking/logs1/model_0017999.pth'"
            ],
            "application/vnd.google.colaboratory.intrinsic+json": {
              "type": "string"
            }
          },
          "metadata": {},
          "execution_count": 11
        }
      ]
    },
    {
      "cell_type": "code",
      "source": [
        "#!pip install onnx==1.8.0 #already installed with detectron2\n"
      ],
      "metadata": {
        "id": "JnPoL601soxz"
      },
      "execution_count": null,
      "outputs": []
    },
    {
      "cell_type": "markdown",
      "source": [
        "* following the documentation instructions [D2 docs](https://detectron2.readthedocs.io/en/latest/tutorials/deployment.html)\n",
        "* tutorial in D2 repo [tuto](https://github.com/facebookresearch/detectron2/tree/main/tools/deploy)\n",
        "* fixing bugs about STABLE_ONNX_OPSET_VERSION [git issues](https://github.com/facebookresearch/detectron2/issues/4414#issuecomment-1233399622)\n",
        "* updating export_model.py by adding the cfg configs"
      ],
      "metadata": {
        "id": "kmoruSy96o26"
      }
    },
    {
      "cell_type": "code",
      "source": [
        "!python export_model.py --config-file /usr/local/lib/python3.8/dist-packages/detectron2/model_zoo/configs/COCO-Detection/retinanet_R_50_FPN_3x.yaml \\\n",
        "    --output ./result --export-method tracing --format onnx \\\n",
        "    MODEL.WEIGHTS /content/drive/MyDrive/tracking/logs/model_0017999.pth \\\n",
        "    MODEL.DEVICE cuda"
      ],
      "metadata": {
        "colab": {
          "base_uri": "https://localhost:8080/"
        },
        "id": "nKxQQfIAKiYo",
        "outputId": "25e52b6f-e87a-47fc-bbc5-ad0466b4608d"
      },
      "execution_count": null,
      "outputs": [
        {
          "output_type": "stream",
          "name": "stdout",
          "text": [
            "\u001b[32m[02/17 16:17:07 detectron2]: \u001b[0mCommand line arguments: Namespace(config_file='/usr/local/lib/python3.8/dist-packages/detectron2/model_zoo/configs/COCO-Detection/retinanet_R_50_FPN_3x.yaml', export_method='tracing', format='onnx', opts=['MODEL.WEIGHTS', '/content/drive/MyDrive/tracking/logs/model_0017999.pth', 'MODEL.DEVICE', 'cuda'], output='./result', run_eval=False, sample_image=None)\n",
            "Loading config /usr/local/lib/python3.8/dist-packages/detectron2/model_zoo/configs/COCO-Detection/../Base-RetinaNet.yaml with yaml.unsafe_load. Your machine may be at risk if the file contains malicious content.\n",
            "\u001b[32m[02/17 16:17:12 d2.data.datasets.coco]: \u001b[0mLoaded 1800 images in COCO format from ./data/challenge/annotations/instances_test.json\n",
            "\u001b[32m[02/17 16:17:12 d2.data.build]: \u001b[0mDistribution of instances among all 2 categories:\n",
            "\u001b[36m|  category  | #instances   |  category  | #instances   |\n",
            "|:----------:|:-------------|:----------:|:-------------|\n",
            "|    bolt    | 3213         |    nut     | 766          |\n",
            "|            |              |            |              |\n",
            "|   total    | 3979         |            |              |\u001b[0m\n",
            "\u001b[32m[02/17 16:17:12 d2.data.dataset_mapper]: \u001b[0m[DatasetMapper] Augmentations used in inference: [ResizeShortestEdge(short_edge_length=(800, 800), max_size=1333, sample_style='choice')]\n",
            "\u001b[32m[02/17 16:17:12 d2.data.common]: \u001b[0mSerializing 1800 elements to byte tensors and concatenating them all ...\n",
            "\u001b[32m[02/17 16:17:12 d2.data.common]: \u001b[0mSerialized dataset takes 0.55 MiB\n",
            "/usr/local/lib/python3.8/dist-packages/detectron2/structures/image_list.py:79: TracerWarning: Converting a tensor to a Python boolean might cause the trace to be incorrect. We can't record the data flow of Python values, so this value will be treated as a constant in the future. This means that the trace might not generalize to other inputs!\n",
            "  assert t.shape[:-2] == tensors[0].shape[:-2], t.shape\n",
            "/usr/local/lib/python3.8/dist-packages/detectron2/structures/image_list.py:88: UserWarning: __floordiv__ is deprecated, and its behavior will change in a future version of pytorch. It currently rounds toward 0 (like the 'trunc' function NOT 'floor'). This results in incorrect rounding for negative values. To keep the current behavior, use torch.div(a, b, rounding_mode='trunc'), or for actual floor division, use torch.div(a, b, rounding_mode='floor').\n",
            "  max_size = (max_size + (stride - 1)) // stride * stride\n",
            "/usr/local/lib/python3.8/dist-packages/torch/functional.py:445: UserWarning: torch.meshgrid: in an upcoming release, it will be required to pass the indexing argument. (Triggered internally at  ../aten/src/ATen/native/TensorShape.cpp:2157.)\n",
            "  return _VF.meshgrid(tensors, **kwargs)  # type: ignore[attr-defined]\n",
            "/usr/local/lib/python3.8/dist-packages/detectron2/structures/boxes.py:148: TracerWarning: torch.as_tensor results are registered as constants in the trace. You can safely ignore this warning if you use this function to create tensors out of constant variables that would be the same every time you call this function. In any other case, this might cause the trace to be incorrect.\n",
            "  tensor = torch.as_tensor(tensor, dtype=torch.float32, device=device)\n",
            "/usr/local/lib/python3.8/dist-packages/detectron2/structures/boxes.py:153: TracerWarning: Converting a tensor to a Python boolean might cause the trace to be incorrect. We can't record the data flow of Python values, so this value will be treated as a constant in the future. This means that the trace might not generalize to other inputs!\n",
            "  assert tensor.dim() == 2 and tensor.size(-1) == 4, tensor.size()\n",
            "/usr/local/lib/python3.8/dist-packages/detectron2/modeling/meta_arch/dense_detector.py:210: TracerWarning: Converting a tensor to a Python boolean might cause the trace to be incorrect. We can't record the data flow of Python values, so this value will be treated as a constant in the future. This means that the trace might not generalize to other inputs!\n",
            "  num_topk = min(topk_candidates, topk_idxs.size(0))\n",
            "/usr/local/lib/python3.8/dist-packages/detectron2/structures/instances.py:74: TracerWarning: Using len to get tensor shape might cause the trace to be incorrect. Recommended usage would be tensor.shape[0]. Passing a tensor of different shape might lead to errors or silently give incorrect results.\n",
            "  data_len = len(value)\n",
            "/usr/local/lib/python3.8/dist-packages/detectron2/layers/nms.py:16: TracerWarning: Converting a tensor to a Python boolean might cause the trace to be incorrect. We can't record the data flow of Python values, so this value will be treated as a constant in the future. This means that the trace might not generalize to other inputs!\n",
            "  assert boxes.shape[-1] == 4\n",
            "/usr/local/lib/python3.8/dist-packages/detectron2/layers/nms.py:19: TracerWarning: Using len to get tensor shape might cause the trace to be incorrect. Recommended usage would be tensor.shape[0]. Passing a tensor of different shape might lead to errors or silently give incorrect results.\n",
            "  if len(boxes) < 40000:\n",
            "/usr/local/lib/python3.8/dist-packages/detectron2/structures/boxes.py:189: TracerWarning: Converting a tensor to a Python boolean might cause the trace to be incorrect. We can't record the data flow of Python values, so this value will be treated as a constant in the future. This means that the trace might not generalize to other inputs!\n",
            "  assert torch.isfinite(self.tensor).all(), \"Box tensor contains infinite or NaN!\"\n",
            "/usr/local/lib/python3.8/dist-packages/detectron2/structures/boxes.py:190: TracerWarning: Iterating over a tensor might cause the trace to be incorrect. Passing a tensor of different shape won't change the number of iterations executed (and might lead to errors or silently give incorrect results).\n",
            "  h, w = box_size\n",
            "WARNING: The shape inference of prim::Constant type is missing, so it may result in wrong shape inference for the exported graph. Please consider adding it in symbolic function.\n",
            "WARNING: The shape inference of prim::Constant type is missing, so it may result in wrong shape inference for the exported graph. Please consider adding it in symbolic function.\n",
            "WARNING: The shape inference of prim::Constant type is missing, so it may result in wrong shape inference for the exported graph. Please consider adding it in symbolic function.\n",
            "WARNING: The shape inference of prim::Constant type is missing, so it may result in wrong shape inference for the exported graph. Please consider adding it in symbolic function.\n",
            "WARNING: The shape inference of prim::Constant type is missing, so it may result in wrong shape inference for the exported graph. Please consider adding it in symbolic function.\n",
            "WARNING: The shape inference of prim::Constant type is missing, so it may result in wrong shape inference for the exported graph. Please consider adding it in symbolic function.\n",
            "WARNING: The shape inference of prim::Constant type is missing, so it may result in wrong shape inference for the exported graph. Please consider adding it in symbolic function.\n",
            "WARNING: The shape inference of prim::Constant type is missing, so it may result in wrong shape inference for the exported graph. Please consider adding it in symbolic function.\n",
            "WARNING: The shape inference of prim::Constant type is missing, so it may result in wrong shape inference for the exported graph. Please consider adding it in symbolic function.\n",
            "WARNING: The shape inference of prim::Constant type is missing, so it may result in wrong shape inference for the exported graph. Please consider adding it in symbolic function.\n",
            "WARNING: The shape inference of prim::Constant type is missing, so it may result in wrong shape inference for the exported graph. Please consider adding it in symbolic function.\n",
            "WARNING: The shape inference of prim::Constant type is missing, so it may result in wrong shape inference for the exported graph. Please consider adding it in symbolic function.\n",
            "WARNING: The shape inference of prim::Constant type is missing, so it may result in wrong shape inference for the exported graph. Please consider adding it in symbolic function.\n",
            "WARNING: The shape inference of prim::Constant type is missing, so it may result in wrong shape inference for the exported graph. Please consider adding it in symbolic function.\n",
            "WARNING: The shape inference of prim::Constant type is missing, so it may result in wrong shape inference for the exported graph. Please consider adding it in symbolic function.\n",
            "WARNING: The shape inference of prim::Constant type is missing, so it may result in wrong shape inference for the exported graph. Please consider adding it in symbolic function.\n",
            "WARNING: The shape inference of prim::Constant type is missing, so it may result in wrong shape inference for the exported graph. Please consider adding it in symbolic function.\n",
            "WARNING: The shape inference of prim::Constant type is missing, so it may result in wrong shape inference for the exported graph. Please consider adding it in symbolic function.\n",
            "WARNING: The shape inference of prim::Constant type is missing, so it may result in wrong shape inference for the exported graph. Please consider adding it in symbolic function.\n",
            "WARNING: The shape inference of prim::Constant type is missing, so it may result in wrong shape inference for the exported graph. Please consider adding it in symbolic function.\n",
            "WARNING: The shape inference of prim::Constant type is missing, so it may result in wrong shape inference for the exported graph. Please consider adding it in symbolic function.\n",
            "WARNING: The shape inference of prim::Constant type is missing, so it may result in wrong shape inference for the exported graph. Please consider adding it in symbolic function.\n",
            "WARNING: The shape inference of prim::Constant type is missing, so it may result in wrong shape inference for the exported graph. Please consider adding it in symbolic function.\n",
            "WARNING: The shape inference of prim::Constant type is missing, so it may result in wrong shape inference for the exported graph. Please consider adding it in symbolic function.\n",
            "WARNING: The shape inference of prim::Constant type is missing, so it may result in wrong shape inference for the exported graph. Please consider adding it in symbolic function.\n",
            "WARNING: The shape inference of prim::Constant type is missing, so it may result in wrong shape inference for the exported graph. Please consider adding it in symbolic function.\n",
            "WARNING: The shape inference of prim::Constant type is missing, so it may result in wrong shape inference for the exported graph. Please consider adding it in symbolic function.\n",
            "WARNING: The shape inference of prim::Constant type is missing, so it may result in wrong shape inference for the exported graph. Please consider adding it in symbolic function.\n",
            "WARNING: The shape inference of prim::Constant type is missing, so it may result in wrong shape inference for the exported graph. Please consider adding it in symbolic function.\n",
            "WARNING: The shape inference of prim::Constant type is missing, so it may result in wrong shape inference for the exported graph. Please consider adding it in symbolic function.\n",
            "\u001b[32m[02/17 16:17:31 detectron2]: \u001b[0mInputs schema: TupleSchema(schemas=[ListSchema(schemas=[DictSchema(schemas=[IdentitySchema()], sizes=[1], keys=['image'])], sizes=[1])], sizes=[1])\n",
            "\u001b[32m[02/17 16:17:31 detectron2]: \u001b[0mOutputs schema: ListSchema(schemas=[DictSchema(schemas=[InstancesSchema(schemas=[TensorWrapSchema(class_name='detectron2.structures.Boxes'), IdentitySchema(), IdentitySchema()], sizes=[1, 1, 1], keys=['pred_boxes', 'pred_classes', 'scores'])], sizes=[4], keys=['instances'])], sizes=[4])\n",
            "\u001b[32m[02/17 16:17:31 detectron2]: \u001b[0mSuccess.\n"
          ]
        }
      ]
    }
  ]
}